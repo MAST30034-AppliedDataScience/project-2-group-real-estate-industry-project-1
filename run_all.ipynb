{
 "cells": [
  {
   "cell_type": "markdown",
   "id": "75c91336-0c98-430c-a0ec-8571b7d25bd7",
   "metadata": {},
   "source": [
    "# This file runs all files using collected data, if you want to fully run the pipeline, it will take around 30 hours to run."
   ]
  },
  {
   "cell_type": "markdown",
   "id": "03ab9fa7",
   "metadata": {},
   "source": [
    "project right now is one click run for checking and testing, if you want to rebuild entire pipeline, you need to go to each file and uncomment some parts of code that are commented for testing purposes"
   ]
  },
  {
   "cell_type": "code",
   "execution_count": null,
   "id": "f008b9d1-ffa4-4773-a2be-a4646c478c89",
   "metadata": {},
   "outputs": [],
   "source": [
    "%run ./notebooks/0_domain_data/0_postcode_suburb.ipynb\n",
    "%run ./notebooks/0_domain_data/1_data_collection.ipynb\n",
    "%run ./notebooks/0_domain_data/2_preprocess.ipynb\n",
    "\n",
    "%run ./notebooks/1_ABS_data/0_ABSdata_collection.ipynb\n",
    "%run ./notebooks/1_ABS_data/1_ABSdata_preprocess.ipynb\n",
    "%run ./notebooks/1_ABS_data/2_ABSdata_EDA.ipynb\n",
    "\n",
    "%run ./notebooks/1_Crime_data/0_Crime_data_collection.ipynb\n",
    "\n",
    "%run ./notebooks/1_LGA_data/0_data_collection.ipynb\n",
    "\n",
    "%run ./models/3_forecasting_model/1_population_forecasting.ipynb\n",
    "%run ./models/3_forecasting_model/2_income_forecasting.ipynb\n",
    "%run ./models/3_forecasting_model/3_crime_forecast.ipynb\n",
    "\n",
    "%run ./notebooks/4_merge_past_future_data/0_merge_income.ipynb\n",
    "%run ./notebooks/4_merge_past_future_data/1_merge_crime.ipyn\n",
    "%run ./notebooks/4_merge_past_future_data/2_merge_population.ipynb\n",
    "\n",
    "%run ./notebooks/5_individual_data/0_merge_data.ipynb\n",
    "%run ./notebooks/5_individual_data/1_preprocess_full.ipynb\n",
    "%run ./notebooks/5_individual_data/2_aggregation_cost.ipynb\n",
    "\n",
    "%run ./notebooks/5_individual_data/3_EDA_full.ipynb\n",
    "\n",
    "%run ./models/6_prediction_model/1_random_forest.ipynb\n",
    "%run ./models/6_prediction_model/2_linear_model.ipynb\n",
    "%run ./models/6_prediction_model/3_XGBoost.ipynb\n",
    "%run ./models/6_prediction_model/4_LSTM.ipynb\n",
    "\n",
    "%run ./notebooks/7_prediction_analysis/0_aggregate.ipynb\n",
    "\n",
    "%run ./notebooks/8_Liveable_Affordable_score/0_liveable_score_overall.ipynb\n",
    "%run ./notebooks/8_Liveable_Affordable_score/1_affordable_score.ipynb\n",
    "%run ./notebooks/8_Liveable_Affordable_score/2_liveability_affordable.ipynb\n",
    "%run ./notebooks/8_Liveable_Affordable_score/3_liveability_score_by_age.ipynb\n",
    "%run ./notebooks/8_Liveable_Affordable_score/4_liveability_affordable_age.ipynb\n",
    "%run ./notebooks/8_Liveable_Affordable_score/5_EDA.ipynb\n"
   ]
  },
  {
   "cell_type": "code",
   "execution_count": null,
   "id": "9b9a4215",
   "metadata": {},
   "outputs": [],
   "source": []
  }
 ],
 "metadata": {
  "kernelspec": {
   "display_name": "Python 3 (ipykernel)",
   "language": "python",
   "name": "python3"
  },
  "language_info": {
   "codemirror_mode": {
    "name": "ipython",
    "version": 3
   },
   "file_extension": ".py",
   "mimetype": "text/x-python",
   "name": "python",
   "nbconvert_exporter": "python",
   "pygments_lexer": "ipython3",
   "version": "3.11.9"
  }
 },
 "nbformat": 4,
 "nbformat_minor": 5
}
