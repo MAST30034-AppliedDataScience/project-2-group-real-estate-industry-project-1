{
 "cells": [
  {
   "cell_type": "markdown",
   "metadata": {},
   "source": [
    "### This file is dedicated to scrape and download data from domain.com.au"
   ]
  },
  {
   "cell_type": "markdown",
   "metadata": {},
   "source": [
    "Yuecheng Wang Aug 30, modify from ./scripts/scrape.py"
   ]
  },
  {
   "cell_type": "code",
   "execution_count": 1,
   "metadata": {},
   "outputs": [],
   "source": [
    "import os\n",
    "import re\n",
    "from tqdm import tqdm\n",
    "from collections import defaultdict\n",
    "from bs4 import BeautifulSoup\n",
    "from urllib.request import urlopen, Request\n",
    "import pandas as pd\n",
    "import requests\n",
    "import time\n",
    "import json\n",
    "import numpy as np"
   ]
  },
  {
   "cell_type": "code",
   "execution_count": 2,
   "metadata": {},
   "outputs": [
    {
     "name": "stdout",
     "output_type": "stream",
     "text": [
      "[3206, 3182, 3143, 3054, 3053, 3052, 3000, 3001, 3004, 3066, 3067, 3008, 3002, 3183, 3184, 3065, 3068, 3031, 3051, 3003, 3027, 3181, 3121, 3205, 3141, 3006, 3182, 3142, 3103, 3104, 3130, 3128, 3129, 3105, 3106, 3107, 3108, 3125, 3147, 3124, 3146, 3126, 3125, 3127, 3129, 3148, 3166, 3167, 3168, 3169, 3109, 3111, 3123, 3150, 3170, 3122, 3101, 3102, 3149, 3131, 3132, 3133, 3151, 3195, 3196, 3197, 3204, 3165, 3184, 3186, 3187, 3163, 3161, 3162, 3192, 3185, 3188, 3193, 3144, 3145, 3194, 3195, 3163, 3166, 3018, 3025, 3028, 3011, 3012, 3033, 3034, 3337, 3338, 3015, 3021, 3219, 3022, 3023, 3020, 3037, 3030, 3029, 3012, 3016, 3013, 3011, 3047, 3064, 3056, 3058, 3044, 3064, 3057, 3040, 3041, 3043, 3033, 3038, 3036, 3042, 3039, 3032, 3046, 3060, 3044, 3058, 3429, 3055, 3083, 3088, 3099, 3095, 3094, 3078, 3081, 3084, 3079, 3082, 3076, 3070, 3072, 3073, 3074, 3075, 3071, 3757, 3153, 3155, 3136, 3140, 3156, 3134, 3135, 3178, 3152, 3176, 3179, 3160, 3806, 3977, 3164, 3767, 3175, 3802, 3804, 3805, 3976, 3174, 3810, 3171, 3172, 3936, 3944, 3199, 3200, 3915, 3929, 3930, 3931, 3934, 3198, 3201, 3216, 3214, 3219, 3220, 3221, 3218, 3212, 3220, 3351, 3215, 3353, 3357, 3356, 3350, 3355, 3552, 3554, 3551, 3550, 3555, 3550, 3875, 3671, 3672, 3450, 3564, 3300, 3400, 3402, 3500, 3501, 3502, 3825, 3840, 3226, 3227, 3305, 3852, 3850, 3853, 3859, 3860, 3660, 3661, 3630, 3631, 3632, 3585, 3228, 3844, 3677, 3820, 3821, 3280, 3689, 3690, 3691]\n"
     ]
    }
   ],
   "source": [
    "# Load the postcodes from your JSON file\n",
    "with open('../../data/raw/suburb_to_postcodes.json', 'r') as f:\n",
    "    suburb_to_postcodes = json.load(f)\n",
    "\n",
    "# Flatten the list of postcodes into a single list\n",
    "postcodes = [postcode for sublist in suburb_to_postcodes.values() for postcode in sublist]\n",
    "print(postcodes)"
   ]
  },
  {
   "cell_type": "code",
   "execution_count": 3,
   "metadata": {},
   "outputs": [],
   "source": [
    "# Constants\n",
    "BASE_URL = \"https://www.domain.com.au\"\n",
    "property_metadata = []"
   ]
  },
  {
   "cell_type": "markdown",
   "metadata": {},
   "source": [
    "Block below is code for scrape CURRENT data from domain.com.au \\\n",
    "I've commented this so that we keep consistent with data scraped 20 Sept 2024 \\\n",
    "for scrape current data, uncomment below code and run all. \\\n",
    "for data used in this project, goto, run all. \\\n",
    "project data are stored on in manual/all_properties_combined.csv which uploaded to our github repo"
   ]
  },
  {
   "cell_type": "code",
   "execution_count": 4,
   "metadata": {},
   "outputs": [
    {
     "name": "stdout",
     "output_type": "stream",
     "text": [
      "Visiting https://www.domain.com.au/rent/?ptype=apartment&bedrooms=1&postcode=3206&sort=dateupdated-desc&page=1\n"
     ]
    },
    {
     "name": "stderr",
     "output_type": "stream",
     "text": [
      "Processing Part 1, Postcode 3206: 100%|███████████████████████████████████████████████████| 9/9 [00:10<00:00,  1.13s/it]\n"
     ]
    },
    {
     "name": "stdout",
     "output_type": "stream",
     "text": [
      "Visiting https://www.domain.com.au/rent/?ptype=apartment&bedrooms=2&postcode=3206&sort=dateupdated-desc&page=1\n"
     ]
    },
    {
     "name": "stderr",
     "output_type": "stream",
     "text": [
      "Processing Part 1, Postcode 3206: 100%|███████████████████████████████████████████████████| 4/4 [00:04<00:00,  1.12s/it]\n"
     ]
    },
    {
     "name": "stdout",
     "output_type": "stream",
     "text": [
      "Visiting https://www.domain.com.au/rent/?ptype=apartment&bedrooms=3&postcode=3206&sort=dateupdated-desc&page=1\n"
     ]
    },
    {
     "name": "stderr",
     "output_type": "stream",
     "text": [
      "Processing Part 1, Postcode 3206: 100%|███████████████████████████████████████████████████| 1/1 [00:01<00:00,  1.29s/it]\n"
     ]
    },
    {
     "name": "stdout",
     "output_type": "stream",
     "text": [
      "Visiting https://www.domain.com.au/rent/?ptype=house&bedrooms=2&postcode=3206&sort=dateupdated-desc&page=1\n"
     ]
    },
    {
     "name": "stderr",
     "output_type": "stream",
     "text": [
      "Processing Part 1, Postcode 3206: 100%|███████████████████████████████████████████████████| 5/5 [00:06<00:00,  1.23s/it]\n"
     ]
    },
    {
     "name": "stdout",
     "output_type": "stream",
     "text": [
      "Visiting https://www.domain.com.au/rent/?ptype=house&bedrooms=3&postcode=3206&sort=dateupdated-desc&page=1\n"
     ]
    },
    {
     "name": "stderr",
     "output_type": "stream",
     "text": [
      "Processing Part 1, Postcode 3206: 100%|███████████████████████████████████████████████████| 8/8 [00:08<00:00,  1.11s/it]\n"
     ]
    },
    {
     "name": "stdout",
     "output_type": "stream",
     "text": [
      "Visiting https://www.domain.com.au/rent/?ptype=house&bedrooms=4&postcode=3206&sort=dateupdated-desc&page=1\n"
     ]
    },
    {
     "name": "stderr",
     "output_type": "stream",
     "text": [
      "Processing Part 1, Postcode 3206: 100%|███████████████████████████████████████████████████| 3/3 [00:05<00:00,  1.67s/it]\n"
     ]
    },
    {
     "name": "stdout",
     "output_type": "stream",
     "text": [
      "Visiting https://www.domain.com.au/rent/?ptype=apartment&bedrooms=1&postcode=3182&sort=dateupdated-desc&page=1\n"
     ]
    },
    {
     "name": "stderr",
     "output_type": "stream",
     "text": [
      "Processing Part 1, Postcode 3182: 100%|█████████████████████████████████████████████████| 20/20 [00:25<00:00,  1.29s/it]\n"
     ]
    },
    {
     "name": "stdout",
     "output_type": "stream",
     "text": [
      "Visiting https://www.domain.com.au/rent/?ptype=apartment&bedrooms=2&postcode=3182&sort=dateupdated-desc&page=1\n"
     ]
    },
    {
     "name": "stderr",
     "output_type": "stream",
     "text": [
      "Processing Part 1, Postcode 3182: 100%|█████████████████████████████████████████████████| 20/20 [00:25<00:00,  1.30s/it]\n"
     ]
    },
    {
     "name": "stdout",
     "output_type": "stream",
     "text": [
      "Visiting https://www.domain.com.au/rent/?ptype=apartment&bedrooms=3&postcode=3182&sort=dateupdated-desc&page=1\n"
     ]
    },
    {
     "name": "stderr",
     "output_type": "stream",
     "text": [
      "Processing Part 1, Postcode 3182: 100%|█████████████████████████████████████████████████| 10/10 [00:11<00:00,  1.12s/it]\n"
     ]
    },
    {
     "name": "stdout",
     "output_type": "stream",
     "text": [
      "Visiting https://www.domain.com.au/rent/?ptype=house&bedrooms=2&postcode=3182&sort=dateupdated-desc&page=1\n"
     ]
    },
    {
     "name": "stderr",
     "output_type": "stream",
     "text": [
      "Processing Part 1, Postcode 3182: 100%|███████████████████████████████████████████████████| 2/2 [00:02<00:00,  1.07s/it]\n"
     ]
    },
    {
     "name": "stdout",
     "output_type": "stream",
     "text": [
      "Visiting https://www.domain.com.au/rent/?ptype=house&bedrooms=3&postcode=3182&sort=dateupdated-desc&page=1\n"
     ]
    },
    {
     "name": "stderr",
     "output_type": "stream",
     "text": [
      "Processing Part 1, Postcode 3182: 100%|███████████████████████████████████████████████████| 3/3 [00:03<00:00,  1.19s/it]\n"
     ]
    },
    {
     "name": "stdout",
     "output_type": "stream",
     "text": [
      "Visiting https://www.domain.com.au/rent/?ptype=house&bedrooms=4&postcode=3182&sort=dateupdated-desc&page=1\n"
     ]
    },
    {
     "name": "stderr",
     "output_type": "stream",
     "text": [
      "Processing Part 1, Postcode 3182: 100%|███████████████████████████████████████████████████| 4/4 [00:07<00:00,  1.86s/it]\n"
     ]
    },
    {
     "name": "stdout",
     "output_type": "stream",
     "text": [
      "Visiting https://www.domain.com.au/rent/?ptype=apartment&bedrooms=1&postcode=3143&sort=dateupdated-desc&page=1\n"
     ]
    },
    {
     "name": "stderr",
     "output_type": "stream",
     "text": [
      "Processing Part 1, Postcode 3143: 100%|███████████████████████████████████████████████████| 6/6 [00:07<00:00,  1.21s/it]\n"
     ]
    },
    {
     "name": "stdout",
     "output_type": "stream",
     "text": [
      "Visiting https://www.domain.com.au/rent/?ptype=apartment&bedrooms=2&postcode=3143&sort=dateupdated-desc&page=1\n"
     ]
    },
    {
     "name": "stderr",
     "output_type": "stream",
     "text": [
      "Processing Part 1, Postcode 3143: 100%|█████████████████████████████████████████████████| 19/19 [00:24<00:00,  1.29s/it]\n"
     ]
    },
    {
     "name": "stdout",
     "output_type": "stream",
     "text": [
      "Visiting https://www.domain.com.au/rent/?ptype=apartment&bedrooms=3&postcode=3143&sort=dateupdated-desc&page=1\n"
     ]
    },
    {
     "name": "stderr",
     "output_type": "stream",
     "text": [
      "Processing Part 1, Postcode 3143: 100%|███████████████████████████████████████████████████| 2/2 [00:02<00:00,  1.28s/it]\n"
     ]
    },
    {
     "name": "stdout",
     "output_type": "stream",
     "text": [
      "Visiting https://www.domain.com.au/rent/?ptype=house&bedrooms=2&postcode=3143&sort=dateupdated-desc&page=1\n"
     ]
    },
    {
     "name": "stderr",
     "output_type": "stream",
     "text": [
      "Processing Part 1, Postcode 3143: 100%|███████████████████████████████████████████████████| 4/4 [00:04<00:00,  1.05s/it]\n"
     ]
    },
    {
     "name": "stdout",
     "output_type": "stream",
     "text": [
      "Visiting https://www.domain.com.au/rent/?ptype=house&bedrooms=3&postcode=3143&sort=dateupdated-desc&page=1\n"
     ]
    },
    {
     "name": "stderr",
     "output_type": "stream",
     "text": [
      "Processing Part 1, Postcode 3143: 100%|███████████████████████████████████████████████████| 6/6 [00:10<00:00,  1.68s/it]\n"
     ]
    },
    {
     "name": "stdout",
     "output_type": "stream",
     "text": [
      "Visiting https://www.domain.com.au/rent/?ptype=house&bedrooms=4&postcode=3143&sort=dateupdated-desc&page=1\n"
     ]
    },
    {
     "name": "stderr",
     "output_type": "stream",
     "text": [
      "Processing Part 1, Postcode 3143: 100%|███████████████████████████████████████████████████| 2/2 [00:02<00:00,  1.03s/it]\n"
     ]
    },
    {
     "name": "stdout",
     "output_type": "stream",
     "text": [
      "Visiting https://www.domain.com.au/rent/?ptype=apartment&bedrooms=1&postcode=3054&sort=dateupdated-desc&page=1\n"
     ]
    },
    {
     "name": "stderr",
     "output_type": "stream",
     "text": [
      "Processing Part 1, Postcode 3054: 100%|███████████████████████████████████████████████████| 2/2 [00:02<00:00,  1.23s/it]\n"
     ]
    },
    {
     "name": "stdout",
     "output_type": "stream",
     "text": [
      "Visiting https://www.domain.com.au/rent/?ptype=apartment&bedrooms=2&postcode=3054&sort=dateupdated-desc&page=1\n"
     ]
    },
    {
     "name": "stderr",
     "output_type": "stream",
     "text": [
      "Processing Part 1, Postcode 3054: 100%|███████████████████████████████████████████████████| 5/5 [00:08<00:00,  1.63s/it]\n"
     ]
    },
    {
     "name": "stdout",
     "output_type": "stream",
     "text": [
      "Visiting https://www.domain.com.au/rent/?ptype=apartment&bedrooms=3&postcode=3054&sort=dateupdated-desc&page=1\n"
     ]
    },
    {
     "name": "stderr",
     "output_type": "stream",
     "text": [
      "Processing Part 1, Postcode 3054: 100%|███████████████████████████████████████████████████| 1/1 [00:01<00:00,  1.20s/it]\n"
     ]
    },
    {
     "name": "stdout",
     "output_type": "stream",
     "text": [
      "Visiting https://www.domain.com.au/rent/?ptype=house&bedrooms=2&postcode=3054&sort=dateupdated-desc&page=1\n"
     ]
    },
    {
     "name": "stderr",
     "output_type": "stream",
     "text": [
      "Processing Part 1, Postcode 3054: 100%|███████████████████████████████████████████████████| 4/4 [00:04<00:00,  1.10s/it]\n"
     ]
    },
    {
     "name": "stdout",
     "output_type": "stream",
     "text": [
      "Visiting https://www.domain.com.au/rent/?ptype=house&bedrooms=3&postcode=3054&sort=dateupdated-desc&page=1\n"
     ]
    },
    {
     "name": "stderr",
     "output_type": "stream",
     "text": [
      "Processing Part 1, Postcode 3054: 100%|███████████████████████████████████████████████████| 2/2 [00:02<00:00,  1.20s/it]\n"
     ]
    },
    {
     "name": "stdout",
     "output_type": "stream",
     "text": [
      "Visiting https://www.domain.com.au/rent/?ptype=house&bedrooms=4&postcode=3054&sort=dateupdated-desc&page=1\n",
      "No results found on page https://www.domain.com.au/rent/?ptype=house&bedrooms=4&postcode=3054&sort=dateupdated-desc&page=1\n"
     ]
    },
    {
     "name": "stderr",
     "output_type": "stream",
     "text": [
      "Processing Part 1, Postcode 3054: 0it [00:00, ?it/s]"
     ]
    },
    {
     "name": "stdout",
     "output_type": "stream",
     "text": [
      "Visiting https://www.domain.com.au/rent/?ptype=apartment&bedrooms=1&postcode=3053&sort=dateupdated-desc&page=1\n"
     ]
    },
    {
     "name": "stderr",
     "output_type": "stream",
     "text": [
      "\n",
      "Processing Part 1, Postcode 3053: 100%|█████████████████████████████████████████████████| 20/20 [00:29<00:00,  1.47s/it]\n"
     ]
    },
    {
     "name": "stdout",
     "output_type": "stream",
     "text": [
      "Visiting https://www.domain.com.au/rent/?ptype=apartment&bedrooms=2&postcode=3053&sort=dateupdated-desc&page=1\n"
     ]
    },
    {
     "name": "stderr",
     "output_type": "stream",
     "text": [
      "Processing Part 1, Postcode 3053: 100%|█████████████████████████████████████████████████| 20/20 [00:25<00:00,  1.26s/it]\n"
     ]
    },
    {
     "name": "stdout",
     "output_type": "stream",
     "text": [
      "Visiting https://www.domain.com.au/rent/?ptype=apartment&bedrooms=3&postcode=3053&sort=dateupdated-desc&page=1\n"
     ]
    },
    {
     "name": "stderr",
     "output_type": "stream",
     "text": [
      "Processing Part 1, Postcode 3053: 100%|███████████████████████████████████████████████████| 4/4 [00:04<00:00,  1.14s/it]\n"
     ]
    },
    {
     "name": "stdout",
     "output_type": "stream",
     "text": [
      "Visiting https://www.domain.com.au/rent/?ptype=house&bedrooms=2&postcode=3053&sort=dateupdated-desc&page=1\n"
     ]
    },
    {
     "name": "stderr",
     "output_type": "stream",
     "text": [
      "Processing Part 1, Postcode 3053: 100%|███████████████████████████████████████████████████| 2/2 [00:03<00:00,  1.78s/it]\n"
     ]
    },
    {
     "name": "stdout",
     "output_type": "stream",
     "text": [
      "Visiting https://www.domain.com.au/rent/?ptype=house&bedrooms=3&postcode=3053&sort=dateupdated-desc&page=1\n"
     ]
    },
    {
     "name": "stderr",
     "output_type": "stream",
     "text": [
      "Processing Part 1, Postcode 3053: 100%|███████████████████████████████████████████████████| 7/7 [00:08<00:00,  1.14s/it]\n"
     ]
    },
    {
     "name": "stdout",
     "output_type": "stream",
     "text": [
      "Visiting https://www.domain.com.au/rent/?ptype=house&bedrooms=4&postcode=3053&sort=dateupdated-desc&page=1\n"
     ]
    },
    {
     "name": "stderr",
     "output_type": "stream",
     "text": [
      "Processing Part 1, Postcode 3053: 100%|███████████████████████████████████████████████████| 4/4 [00:04<00:00,  1.13s/it]\n"
     ]
    },
    {
     "name": "stdout",
     "output_type": "stream",
     "text": [
      "Visiting https://www.domain.com.au/rent/?ptype=apartment&bedrooms=1&postcode=3052&sort=dateupdated-desc&page=1\n"
     ]
    },
    {
     "name": "stderr",
     "output_type": "stream",
     "text": [
      "Processing Part 1, Postcode 3052: 100%|█████████████████████████████████████████████████| 10/10 [00:12<00:00,  1.24s/it]\n"
     ]
    },
    {
     "name": "stdout",
     "output_type": "stream",
     "text": [
      "Visiting https://www.domain.com.au/rent/?ptype=apartment&bedrooms=2&postcode=3052&sort=dateupdated-desc&page=1\n"
     ]
    },
    {
     "name": "stderr",
     "output_type": "stream",
     "text": [
      "Processing Part 1, Postcode 3052: 100%|█████████████████████████████████████████████████| 13/13 [00:19<00:00,  1.48s/it]\n"
     ]
    },
    {
     "name": "stdout",
     "output_type": "stream",
     "text": [
      "Visiting https://www.domain.com.au/rent/?ptype=apartment&bedrooms=3&postcode=3052&sort=dateupdated-desc&page=1\n",
      "No results found on page https://www.domain.com.au/rent/?ptype=apartment&bedrooms=3&postcode=3052&sort=dateupdated-desc&page=1\n"
     ]
    },
    {
     "name": "stderr",
     "output_type": "stream",
     "text": [
      "Processing Part 1, Postcode 3052: 0it [00:00, ?it/s]"
     ]
    },
    {
     "name": "stdout",
     "output_type": "stream",
     "text": [
      "Visiting https://www.domain.com.au/rent/?ptype=house&bedrooms=2&postcode=3052&sort=dateupdated-desc&page=1\n"
     ]
    },
    {
     "name": "stderr",
     "output_type": "stream",
     "text": [
      "\n",
      "Processing Part 1, Postcode 3052: 100%|███████████████████████████████████████████████████| 1/1 [00:01<00:00,  1.23s/it]\n"
     ]
    },
    {
     "name": "stdout",
     "output_type": "stream",
     "text": [
      "Visiting https://www.domain.com.au/rent/?ptype=house&bedrooms=3&postcode=3052&sort=dateupdated-desc&page=1\n"
     ]
    },
    {
     "name": "stderr",
     "output_type": "stream",
     "text": [
      "Processing Part 1, Postcode 3052: 100%|███████████████████████████████████████████████████| 2/2 [00:02<00:00,  1.13s/it]\n"
     ]
    },
    {
     "name": "stdout",
     "output_type": "stream",
     "text": [
      "Visiting https://www.domain.com.au/rent/?ptype=house&bedrooms=4&postcode=3052&sort=dateupdated-desc&page=1\n"
     ]
    },
    {
     "name": "stderr",
     "output_type": "stream",
     "text": [
      "Processing Part 1, Postcode 3052: 100%|███████████████████████████████████████████████████| 2/2 [00:02<00:00,  1.33s/it]\n"
     ]
    },
    {
     "name": "stdout",
     "output_type": "stream",
     "text": [
      "Visiting https://www.domain.com.au/rent/?ptype=apartment&bedrooms=1&postcode=3000&sort=dateupdated-desc&page=1\n"
     ]
    },
    {
     "name": "stderr",
     "output_type": "stream",
     "text": [
      "Processing Part 1, Postcode 3000: 100%|█████████████████████████████████████████████████| 20/20 [00:27<00:00,  1.39s/it]\n"
     ]
    },
    {
     "name": "stdout",
     "output_type": "stream",
     "text": [
      "Visiting https://www.domain.com.au/rent/?ptype=apartment&bedrooms=2&postcode=3000&sort=dateupdated-desc&page=1\n"
     ]
    },
    {
     "name": "stderr",
     "output_type": "stream",
     "text": [
      "Processing Part 1, Postcode 3000: 100%|█████████████████████████████████████████████████| 20/20 [00:24<00:00,  1.21s/it]\n"
     ]
    },
    {
     "name": "stdout",
     "output_type": "stream",
     "text": [
      "Visiting https://www.domain.com.au/rent/?ptype=apartment&bedrooms=3&postcode=3000&sort=dateupdated-desc&page=1\n"
     ]
    },
    {
     "name": "stderr",
     "output_type": "stream",
     "text": [
      "Processing Part 1, Postcode 3000: 100%|█████████████████████████████████████████████████| 20/20 [00:26<00:00,  1.33s/it]\n"
     ]
    },
    {
     "name": "stdout",
     "output_type": "stream",
     "text": [
      "Visiting https://www.domain.com.au/rent/?ptype=house&bedrooms=2&postcode=3000&sort=dateupdated-desc&page=1\n"
     ]
    },
    {
     "name": "stderr",
     "output_type": "stream",
     "text": [
      "Processing Part 1, Postcode 3000: 100%|███████████████████████████████████████████████████| 3/3 [00:03<00:00,  1.23s/it]\n"
     ]
    },
    {
     "name": "stdout",
     "output_type": "stream",
     "text": [
      "Visiting https://www.domain.com.au/rent/?ptype=house&bedrooms=3&postcode=3000&sort=dateupdated-desc&page=1\n",
      "No results found on page https://www.domain.com.au/rent/?ptype=house&bedrooms=3&postcode=3000&sort=dateupdated-desc&page=1\n"
     ]
    },
    {
     "name": "stderr",
     "output_type": "stream",
     "text": [
      "Processing Part 1, Postcode 3000: 0it [00:00, ?it/s]"
     ]
    },
    {
     "name": "stdout",
     "output_type": "stream",
     "text": [
      "Visiting https://www.domain.com.au/rent/?ptype=house&bedrooms=4&postcode=3000&sort=dateupdated-desc&page=1\n"
     ]
    },
    {
     "name": "stderr",
     "output_type": "stream",
     "text": [
      "\n"
     ]
    },
    {
     "name": "stdout",
     "output_type": "stream",
     "text": [
      "No results found on page https://www.domain.com.au/rent/?ptype=house&bedrooms=4&postcode=3000&sort=dateupdated-desc&page=1\n"
     ]
    },
    {
     "name": "stderr",
     "output_type": "stream",
     "text": [
      "Processing Part 1, Postcode 3000: 0it [00:00, ?it/s]"
     ]
    },
    {
     "name": "stdout",
     "output_type": "stream",
     "text": [
      "Visiting https://www.domain.com.au/rent/?ptype=apartment&bedrooms=1&postcode=3001&sort=dateupdated-desc&page=1\n"
     ]
    },
    {
     "name": "stderr",
     "output_type": "stream",
     "text": [
      "\n"
     ]
    },
    {
     "name": "stdout",
     "output_type": "stream",
     "text": [
      "No results found on page https://www.domain.com.au/rent/?ptype=apartment&bedrooms=1&postcode=3001&sort=dateupdated-desc&page=1\n"
     ]
    },
    {
     "name": "stderr",
     "output_type": "stream",
     "text": [
      "Processing Part 1, Postcode 3001: 0it [00:00, ?it/s]"
     ]
    },
    {
     "name": "stdout",
     "output_type": "stream",
     "text": [
      "Visiting https://www.domain.com.au/rent/?ptype=apartment&bedrooms=2&postcode=3001&sort=dateupdated-desc&page=1\n"
     ]
    },
    {
     "name": "stderr",
     "output_type": "stream",
     "text": [
      "\n"
     ]
    },
    {
     "name": "stdout",
     "output_type": "stream",
     "text": [
      "No results found on page https://www.domain.com.au/rent/?ptype=apartment&bedrooms=2&postcode=3001&sort=dateupdated-desc&page=1\n"
     ]
    },
    {
     "name": "stderr",
     "output_type": "stream",
     "text": [
      "Processing Part 1, Postcode 3001: 0it [00:00, ?it/s]"
     ]
    },
    {
     "name": "stdout",
     "output_type": "stream",
     "text": [
      "Visiting https://www.domain.com.au/rent/?ptype=apartment&bedrooms=3&postcode=3001&sort=dateupdated-desc&page=1\n"
     ]
    },
    {
     "name": "stderr",
     "output_type": "stream",
     "text": [
      "\n"
     ]
    },
    {
     "name": "stdout",
     "output_type": "stream",
     "text": [
      "No results found on page https://www.domain.com.au/rent/?ptype=apartment&bedrooms=3&postcode=3001&sort=dateupdated-desc&page=1\n"
     ]
    },
    {
     "name": "stderr",
     "output_type": "stream",
     "text": [
      "Processing Part 1, Postcode 3001: 0it [00:00, ?it/s]"
     ]
    },
    {
     "name": "stdout",
     "output_type": "stream",
     "text": [
      "Visiting https://www.domain.com.au/rent/?ptype=house&bedrooms=2&postcode=3001&sort=dateupdated-desc&page=1\n"
     ]
    },
    {
     "name": "stderr",
     "output_type": "stream",
     "text": [
      "\n"
     ]
    },
    {
     "name": "stdout",
     "output_type": "stream",
     "text": [
      "No results found on page https://www.domain.com.au/rent/?ptype=house&bedrooms=2&postcode=3001&sort=dateupdated-desc&page=1\n"
     ]
    },
    {
     "name": "stderr",
     "output_type": "stream",
     "text": [
      "Processing Part 1, Postcode 3001: 0it [00:00, ?it/s]"
     ]
    },
    {
     "name": "stdout",
     "output_type": "stream",
     "text": [
      "Visiting https://www.domain.com.au/rent/?ptype=house&bedrooms=3&postcode=3001&sort=dateupdated-desc&page=1\n"
     ]
    },
    {
     "name": "stderr",
     "output_type": "stream",
     "text": [
      "\n"
     ]
    },
    {
     "name": "stdout",
     "output_type": "stream",
     "text": [
      "No results found on page https://www.domain.com.au/rent/?ptype=house&bedrooms=3&postcode=3001&sort=dateupdated-desc&page=1\n"
     ]
    },
    {
     "name": "stderr",
     "output_type": "stream",
     "text": [
      "Processing Part 1, Postcode 3001: 0it [00:00, ?it/s]"
     ]
    },
    {
     "name": "stdout",
     "output_type": "stream",
     "text": [
      "Visiting https://www.domain.com.au/rent/?ptype=house&bedrooms=4&postcode=3001&sort=dateupdated-desc&page=1\n"
     ]
    },
    {
     "name": "stderr",
     "output_type": "stream",
     "text": [
      "\n"
     ]
    },
    {
     "name": "stdout",
     "output_type": "stream",
     "text": [
      "No results found on page https://www.domain.com.au/rent/?ptype=house&bedrooms=4&postcode=3001&sort=dateupdated-desc&page=1\n"
     ]
    },
    {
     "name": "stderr",
     "output_type": "stream",
     "text": [
      "Processing Part 1, Postcode 3001: 0it [00:00, ?it/s]"
     ]
    },
    {
     "name": "stdout",
     "output_type": "stream",
     "text": [
      "Visiting https://www.domain.com.au/rent/?ptype=apartment&bedrooms=1&postcode=3004&sort=dateupdated-desc&page=1\n"
     ]
    },
    {
     "name": "stderr",
     "output_type": "stream",
     "text": [
      "\n",
      "Processing Part 1, Postcode 3004: 100%|█████████████████████████████████████████████████| 20/20 [00:24<00:00,  1.20s/it]\n"
     ]
    },
    {
     "name": "stdout",
     "output_type": "stream",
     "text": [
      "Visiting https://www.domain.com.au/rent/?ptype=apartment&bedrooms=2&postcode=3004&sort=dateupdated-desc&page=1\n"
     ]
    },
    {
     "name": "stderr",
     "output_type": "stream",
     "text": [
      "Processing Part 1, Postcode 3004: 100%|█████████████████████████████████████████████████| 20/20 [00:25<00:00,  1.29s/it]\n"
     ]
    },
    {
     "name": "stdout",
     "output_type": "stream",
     "text": [
      "Visiting https://www.domain.com.au/rent/?ptype=apartment&bedrooms=3&postcode=3004&sort=dateupdated-desc&page=1\n"
     ]
    },
    {
     "name": "stderr",
     "output_type": "stream",
     "text": [
      "Processing Part 1, Postcode 3004: 100%|███████████████████████████████████████████████████| 8/8 [00:10<00:00,  1.32s/it]\n"
     ]
    },
    {
     "name": "stdout",
     "output_type": "stream",
     "text": [
      "Visiting https://www.domain.com.au/rent/?ptype=house&bedrooms=2&postcode=3004&sort=dateupdated-desc&page=1\n",
      "No results found on page https://www.domain.com.au/rent/?ptype=house&bedrooms=2&postcode=3004&sort=dateupdated-desc&page=1\n"
     ]
    },
    {
     "name": "stderr",
     "output_type": "stream",
     "text": [
      "Processing Part 1, Postcode 3004: 0it [00:00, ?it/s]"
     ]
    },
    {
     "name": "stdout",
     "output_type": "stream",
     "text": [
      "Visiting https://www.domain.com.au/rent/?ptype=house&bedrooms=3&postcode=3004&sort=dateupdated-desc&page=1\n"
     ]
    },
    {
     "name": "stderr",
     "output_type": "stream",
     "text": [
      "\n"
     ]
    },
    {
     "name": "stdout",
     "output_type": "stream",
     "text": [
      "No results found on page https://www.domain.com.au/rent/?ptype=house&bedrooms=3&postcode=3004&sort=dateupdated-desc&page=1\n"
     ]
    },
    {
     "name": "stderr",
     "output_type": "stream",
     "text": [
      "Processing Part 1, Postcode 3004: 0it [00:00, ?it/s]"
     ]
    },
    {
     "name": "stdout",
     "output_type": "stream",
     "text": [
      "Visiting https://www.domain.com.au/rent/?ptype=house&bedrooms=4&postcode=3004&sort=dateupdated-desc&page=1\n"
     ]
    },
    {
     "name": "stderr",
     "output_type": "stream",
     "text": [
      "\n"
     ]
    },
    {
     "name": "stdout",
     "output_type": "stream",
     "text": [
      "No results found on page https://www.domain.com.au/rent/?ptype=house&bedrooms=4&postcode=3004&sort=dateupdated-desc&page=1\n"
     ]
    },
    {
     "name": "stderr",
     "output_type": "stream",
     "text": [
      "Processing Part 1, Postcode 3004: 0it [00:00, ?it/s]"
     ]
    },
    {
     "name": "stdout",
     "output_type": "stream",
     "text": [
      "Visiting https://www.domain.com.au/rent/?ptype=apartment&bedrooms=1&postcode=3066&sort=dateupdated-desc&page=1\n"
     ]
    },
    {
     "name": "stderr",
     "output_type": "stream",
     "text": [
      "\n",
      "Processing Part 1, Postcode 3066: 100%|█████████████████████████████████████████████████| 16/16 [00:20<00:00,  1.27s/it]\n"
     ]
    },
    {
     "name": "stdout",
     "output_type": "stream",
     "text": [
      "Visiting https://www.domain.com.au/rent/?ptype=apartment&bedrooms=2&postcode=3066&sort=dateupdated-desc&page=1\n"
     ]
    },
    {
     "name": "stderr",
     "output_type": "stream",
     "text": [
      "Processing Part 1, Postcode 3066: 100%|█████████████████████████████████████████████████| 16/16 [00:19<00:00,  1.19s/it]\n"
     ]
    },
    {
     "name": "stdout",
     "output_type": "stream",
     "text": [
      "Visiting https://www.domain.com.au/rent/?ptype=apartment&bedrooms=3&postcode=3066&sort=dateupdated-desc&page=1\n"
     ]
    },
    {
     "name": "stderr",
     "output_type": "stream",
     "text": [
      "Processing Part 1, Postcode 3066: 100%|███████████████████████████████████████████████████| 2/2 [00:02<00:00,  1.26s/it]\n"
     ]
    },
    {
     "name": "stdout",
     "output_type": "stream",
     "text": [
      "Visiting https://www.domain.com.au/rent/?ptype=house&bedrooms=2&postcode=3066&sort=dateupdated-desc&page=1\n"
     ]
    },
    {
     "name": "stderr",
     "output_type": "stream",
     "text": [
      "Processing Part 1, Postcode 3066: 100%|███████████████████████████████████████████████████| 1/1 [00:01<00:00,  1.10s/it]\n"
     ]
    },
    {
     "name": "stdout",
     "output_type": "stream",
     "text": [
      "Visiting https://www.domain.com.au/rent/?ptype=house&bedrooms=3&postcode=3066&sort=dateupdated-desc&page=1\n"
     ]
    },
    {
     "name": "stderr",
     "output_type": "stream",
     "text": [
      "Processing Part 1, Postcode 3066: 100%|███████████████████████████████████████████████████| 2/2 [00:02<00:00,  1.28s/it]\n"
     ]
    },
    {
     "name": "stdout",
     "output_type": "stream",
     "text": [
      "Visiting https://www.domain.com.au/rent/?ptype=house&bedrooms=4&postcode=3066&sort=dateupdated-desc&page=1\n",
      "No results found on page https://www.domain.com.au/rent/?ptype=house&bedrooms=4&postcode=3066&sort=dateupdated-desc&page=1\n"
     ]
    },
    {
     "name": "stderr",
     "output_type": "stream",
     "text": [
      "Processing Part 1, Postcode 3066: 0it [00:00, ?it/s]"
     ]
    },
    {
     "name": "stdout",
     "output_type": "stream",
     "text": [
      "Visiting https://www.domain.com.au/rent/?ptype=apartment&bedrooms=1&postcode=3067&sort=dateupdated-desc&page=1\n"
     ]
    },
    {
     "name": "stderr",
     "output_type": "stream",
     "text": [
      "\n",
      "Processing Part 1, Postcode 3067: 100%|█████████████████████████████████████████████████| 15/15 [00:18<00:00,  1.25s/it]\n"
     ]
    },
    {
     "name": "stdout",
     "output_type": "stream",
     "text": [
      "Visiting https://www.domain.com.au/rent/?ptype=apartment&bedrooms=2&postcode=3067&sort=dateupdated-desc&page=1\n"
     ]
    },
    {
     "name": "stderr",
     "output_type": "stream",
     "text": [
      "Processing Part 1, Postcode 3067: 100%|█████████████████████████████████████████████████| 20/20 [00:25<00:00,  1.25s/it]\n"
     ]
    },
    {
     "name": "stdout",
     "output_type": "stream",
     "text": [
      "Visiting https://www.domain.com.au/rent/?ptype=apartment&bedrooms=3&postcode=3067&sort=dateupdated-desc&page=1\n"
     ]
    },
    {
     "name": "stderr",
     "output_type": "stream",
     "text": [
      "Processing Part 1, Postcode 3067: 100%|███████████████████████████████████████████████████| 3/3 [00:04<00:00,  1.58s/it]\n"
     ]
    },
    {
     "name": "stdout",
     "output_type": "stream",
     "text": [
      "Visiting https://www.domain.com.au/rent/?ptype=house&bedrooms=2&postcode=3067&sort=dateupdated-desc&page=1\n"
     ]
    },
    {
     "name": "stderr",
     "output_type": "stream",
     "text": [
      "Processing Part 1, Postcode 3067: 100%|███████████████████████████████████████████████████| 7/7 [00:08<00:00,  1.24s/it]\n"
     ]
    },
    {
     "name": "stdout",
     "output_type": "stream",
     "text": [
      "Visiting https://www.domain.com.au/rent/?ptype=house&bedrooms=3&postcode=3067&sort=dateupdated-desc&page=1\n"
     ]
    },
    {
     "name": "stderr",
     "output_type": "stream",
     "text": [
      "Processing Part 1, Postcode 3067: 100%|███████████████████████████████████████████████████| 1/1 [00:02<00:00,  2.57s/it]\n"
     ]
    },
    {
     "name": "stdout",
     "output_type": "stream",
     "text": [
      "Visiting https://www.domain.com.au/rent/?ptype=house&bedrooms=4&postcode=3067&sort=dateupdated-desc&page=1\n"
     ]
    },
    {
     "name": "stderr",
     "output_type": "stream",
     "text": [
      "Processing Part 1, Postcode 3067: 100%|███████████████████████████████████████████████████| 1/1 [00:01<00:00,  1.18s/it]\n"
     ]
    },
    {
     "name": "stdout",
     "output_type": "stream",
     "text": [
      "Visiting https://www.domain.com.au/rent/?ptype=apartment&bedrooms=1&postcode=3008&sort=dateupdated-desc&page=1\n"
     ]
    },
    {
     "name": "stderr",
     "output_type": "stream",
     "text": [
      "Processing Part 1, Postcode 3008: 100%|█████████████████████████████████████████████████| 20/20 [00:27<00:00,  1.36s/it]\n"
     ]
    },
    {
     "name": "stdout",
     "output_type": "stream",
     "text": [
      "Visiting https://www.domain.com.au/rent/?ptype=apartment&bedrooms=2&postcode=3008&sort=dateupdated-desc&page=1\n"
     ]
    },
    {
     "name": "stderr",
     "output_type": "stream",
     "text": [
      "Processing Part 1, Postcode 3008: 100%|█████████████████████████████████████████████████| 20/20 [00:29<00:00,  1.48s/it]\n"
     ]
    },
    {
     "name": "stdout",
     "output_type": "stream",
     "text": [
      "Visiting https://www.domain.com.au/rent/?ptype=apartment&bedrooms=3&postcode=3008&sort=dateupdated-desc&page=1\n"
     ]
    },
    {
     "name": "stderr",
     "output_type": "stream",
     "text": [
      "Processing Part 1, Postcode 3008: 100%|█████████████████████████████████████████████████| 18/18 [00:23<00:00,  1.28s/it]\n"
     ]
    },
    {
     "name": "stdout",
     "output_type": "stream",
     "text": [
      "Visiting https://www.domain.com.au/rent/?ptype=house&bedrooms=2&postcode=3008&sort=dateupdated-desc&page=1\n"
     ]
    },
    {
     "name": "stderr",
     "output_type": "stream",
     "text": [
      "Processing Part 1, Postcode 3008: 100%|███████████████████████████████████████████████████| 1/1 [00:01<00:00,  1.10s/it]\n"
     ]
    },
    {
     "name": "stdout",
     "output_type": "stream",
     "text": [
      "Visiting https://www.domain.com.au/rent/?ptype=house&bedrooms=3&postcode=3008&sort=dateupdated-desc&page=1\n",
      "No results found on page https://www.domain.com.au/rent/?ptype=house&bedrooms=3&postcode=3008&sort=dateupdated-desc&page=1\n"
     ]
    },
    {
     "name": "stderr",
     "output_type": "stream",
     "text": [
      "Processing Part 1, Postcode 3008: 0it [00:00, ?it/s]"
     ]
    },
    {
     "name": "stdout",
     "output_type": "stream",
     "text": [
      "Visiting https://www.domain.com.au/rent/?ptype=house&bedrooms=4&postcode=3008&sort=dateupdated-desc&page=1\n"
     ]
    },
    {
     "name": "stderr",
     "output_type": "stream",
     "text": [
      "\n"
     ]
    },
    {
     "name": "stdout",
     "output_type": "stream",
     "text": [
      "No results found on page https://www.domain.com.au/rent/?ptype=house&bedrooms=4&postcode=3008&sort=dateupdated-desc&page=1\n"
     ]
    },
    {
     "name": "stderr",
     "output_type": "stream",
     "text": [
      "Processing Part 1, Postcode 3008: 0it [00:00, ?it/s]"
     ]
    },
    {
     "name": "stdout",
     "output_type": "stream",
     "text": [
      "Visiting https://www.domain.com.au/rent/?ptype=apartment&bedrooms=1&postcode=3002&sort=dateupdated-desc&page=1\n"
     ]
    },
    {
     "name": "stderr",
     "output_type": "stream",
     "text": [
      "\n",
      "Processing Part 1, Postcode 3002: 100%|█████████████████████████████████████████████████| 16/16 [00:20<00:00,  1.27s/it]\n"
     ]
    },
    {
     "name": "stdout",
     "output_type": "stream",
     "text": [
      "Visiting https://www.domain.com.au/rent/?ptype=apartment&bedrooms=2&postcode=3002&sort=dateupdated-desc&page=1\n"
     ]
    },
    {
     "name": "stderr",
     "output_type": "stream",
     "text": [
      "Processing Part 1, Postcode 3002: 100%|█████████████████████████████████████████████████| 13/13 [00:17<00:00,  1.38s/it]\n"
     ]
    },
    {
     "name": "stdout",
     "output_type": "stream",
     "text": [
      "Visiting https://www.domain.com.au/rent/?ptype=apartment&bedrooms=3&postcode=3002&sort=dateupdated-desc&page=1\n"
     ]
    },
    {
     "name": "stderr",
     "output_type": "stream",
     "text": [
      "Processing Part 1, Postcode 3002: 100%|███████████████████████████████████████████████████| 4/4 [00:05<00:00,  1.46s/it]\n"
     ]
    },
    {
     "name": "stdout",
     "output_type": "stream",
     "text": [
      "Visiting https://www.domain.com.au/rent/?ptype=house&bedrooms=2&postcode=3002&sort=dateupdated-desc&page=1\n"
     ]
    },
    {
     "name": "stderr",
     "output_type": "stream",
     "text": [
      "Processing Part 1, Postcode 3002: 100%|███████████████████████████████████████████████████| 2/2 [00:02<00:00,  1.11s/it]\n"
     ]
    },
    {
     "name": "stdout",
     "output_type": "stream",
     "text": [
      "Visiting https://www.domain.com.au/rent/?ptype=house&bedrooms=3&postcode=3002&sort=dateupdated-desc&page=1\n"
     ]
    },
    {
     "name": "stderr",
     "output_type": "stream",
     "text": [
      "Processing Part 1, Postcode 3002: 100%|███████████████████████████████████████████████████| 2/2 [00:03<00:00,  1.74s/it]\n"
     ]
    },
    {
     "name": "stdout",
     "output_type": "stream",
     "text": [
      "Visiting https://www.domain.com.au/rent/?ptype=house&bedrooms=4&postcode=3002&sort=dateupdated-desc&page=1\n"
     ]
    },
    {
     "name": "stderr",
     "output_type": "stream",
     "text": [
      "Processing Part 1, Postcode 3002: 100%|███████████████████████████████████████████████████| 1/1 [00:01<00:00,  1.37s/it]\n"
     ]
    },
    {
     "name": "stdout",
     "output_type": "stream",
     "text": [
      "Visiting https://www.domain.com.au/rent/?ptype=apartment&bedrooms=1&postcode=3183&sort=dateupdated-desc&page=1\n"
     ]
    },
    {
     "name": "stderr",
     "output_type": "stream",
     "text": [
      "Processing Part 1, Postcode 3183: 100%|█████████████████████████████████████████████████| 20/20 [00:26<00:00,  1.32s/it]\n"
     ]
    },
    {
     "name": "stdout",
     "output_type": "stream",
     "text": [
      "Visiting https://www.domain.com.au/rent/?ptype=apartment&bedrooms=2&postcode=3183&sort=dateupdated-desc&page=1\n"
     ]
    },
    {
     "name": "stderr",
     "output_type": "stream",
     "text": [
      "Processing Part 1, Postcode 3183: 100%|█████████████████████████████████████████████████| 20/20 [00:25<00:00,  1.28s/it]\n"
     ]
    },
    {
     "name": "stdout",
     "output_type": "stream",
     "text": [
      "Visiting https://www.domain.com.au/rent/?ptype=apartment&bedrooms=3&postcode=3183&sort=dateupdated-desc&page=1\n"
     ]
    },
    {
     "name": "stderr",
     "output_type": "stream",
     "text": [
      "Processing Part 1, Postcode 3183: 100%|█████████████████████████████████████████████████| 12/12 [00:13<00:00,  1.16s/it]\n"
     ]
    },
    {
     "name": "stdout",
     "output_type": "stream",
     "text": [
      "Visiting https://www.domain.com.au/rent/?ptype=house&bedrooms=2&postcode=3183&sort=dateupdated-desc&page=1\n"
     ]
    },
    {
     "name": "stderr",
     "output_type": "stream",
     "text": [
      "Processing Part 1, Postcode 3183: 100%|███████████████████████████████████████████████████| 1/1 [00:01<00:00,  1.21s/it]\n"
     ]
    },
    {
     "name": "stdout",
     "output_type": "stream",
     "text": [
      "Visiting https://www.domain.com.au/rent/?ptype=house&bedrooms=3&postcode=3183&sort=dateupdated-desc&page=1\n"
     ]
    },
    {
     "name": "stderr",
     "output_type": "stream",
     "text": [
      "Processing Part 1, Postcode 3183: 100%|███████████████████████████████████████████████████| 8/8 [00:08<00:00,  1.09s/it]\n"
     ]
    },
    {
     "name": "stdout",
     "output_type": "stream",
     "text": [
      "Visiting https://www.domain.com.au/rent/?ptype=house&bedrooms=4&postcode=3183&sort=dateupdated-desc&page=1\n"
     ]
    },
    {
     "name": "stderr",
     "output_type": "stream",
     "text": [
      "Processing Part 1, Postcode 3183: 100%|███████████████████████████████████████████████████| 2/2 [00:03<00:00,  1.56s/it]\n"
     ]
    },
    {
     "name": "stdout",
     "output_type": "stream",
     "text": [
      "Visiting https://www.domain.com.au/rent/?ptype=apartment&bedrooms=1&postcode=3184&sort=dateupdated-desc&page=1\n"
     ]
    },
    {
     "name": "stderr",
     "output_type": "stream",
     "text": [
      "Processing Part 1, Postcode 3184: 100%|█████████████████████████████████████████████████| 20/20 [00:26<00:00,  1.31s/it]\n"
     ]
    },
    {
     "name": "stdout",
     "output_type": "stream",
     "text": [
      "Visiting https://www.domain.com.au/rent/?ptype=apartment&bedrooms=2&postcode=3184&sort=dateupdated-desc&page=1\n"
     ]
    },
    {
     "name": "stderr",
     "output_type": "stream",
     "text": [
      "Processing Part 1, Postcode 3184: 100%|█████████████████████████████████████████████████| 20/20 [00:23<00:00,  1.18s/it]\n"
     ]
    },
    {
     "name": "stdout",
     "output_type": "stream",
     "text": [
      "Visiting https://www.domain.com.au/rent/?ptype=apartment&bedrooms=3&postcode=3184&sort=dateupdated-desc&page=1\n"
     ]
    },
    {
     "name": "stderr",
     "output_type": "stream",
     "text": [
      "Processing Part 1, Postcode 3184: 100%|███████████████████████████████████████████████████| 3/3 [00:03<00:00,  1.08s/it]\n"
     ]
    },
    {
     "name": "stdout",
     "output_type": "stream",
     "text": [
      "Visiting https://www.domain.com.au/rent/?ptype=house&bedrooms=2&postcode=3184&sort=dateupdated-desc&page=1\n"
     ]
    },
    {
     "name": "stderr",
     "output_type": "stream",
     "text": [
      "Processing Part 1, Postcode 3184: 100%|███████████████████████████████████████████████████| 2/2 [00:03<00:00,  1.66s/it]\n"
     ]
    },
    {
     "name": "stdout",
     "output_type": "stream",
     "text": [
      "Visiting https://www.domain.com.au/rent/?ptype=house&bedrooms=3&postcode=3184&sort=dateupdated-desc&page=1\n"
     ]
    },
    {
     "name": "stderr",
     "output_type": "stream",
     "text": [
      "Processing Part 1, Postcode 3184: 100%|███████████████████████████████████████████████████| 2/2 [00:02<00:00,  1.02s/it]\n"
     ]
    },
    {
     "name": "stdout",
     "output_type": "stream",
     "text": [
      "Visiting https://www.domain.com.au/rent/?ptype=house&bedrooms=4&postcode=3184&sort=dateupdated-desc&page=1\n",
      "No results found on page https://www.domain.com.au/rent/?ptype=house&bedrooms=4&postcode=3184&sort=dateupdated-desc&page=1\n"
     ]
    },
    {
     "name": "stderr",
     "output_type": "stream",
     "text": [
      "Processing Part 1, Postcode 3184: 0it [00:00, ?it/s]"
     ]
    },
    {
     "name": "stdout",
     "output_type": "stream",
     "text": [
      "Visiting https://www.domain.com.au/rent/?ptype=apartment&bedrooms=1&postcode=3065&sort=dateupdated-desc&page=1\n"
     ]
    },
    {
     "name": "stderr",
     "output_type": "stream",
     "text": [
      "\n",
      "Processing Part 1, Postcode 3065: 100%|███████████████████████████████████████████████████| 7/7 [00:07<00:00,  1.12s/it]\n"
     ]
    },
    {
     "name": "stdout",
     "output_type": "stream",
     "text": [
      "Visiting https://www.domain.com.au/rent/?ptype=apartment&bedrooms=2&postcode=3065&sort=dateupdated-desc&page=1\n"
     ]
    },
    {
     "name": "stderr",
     "output_type": "stream",
     "text": [
      "Processing Part 1, Postcode 3065: 100%|█████████████████████████████████████████████████| 18/18 [00:22<00:00,  1.23s/it]\n"
     ]
    },
    {
     "name": "stdout",
     "output_type": "stream",
     "text": [
      "Visiting https://www.domain.com.au/rent/?ptype=apartment&bedrooms=3&postcode=3065&sort=dateupdated-desc&page=1\n"
     ]
    },
    {
     "name": "stderr",
     "output_type": "stream",
     "text": [
      "Processing Part 1, Postcode 3065: 100%|███████████████████████████████████████████████████| 1/1 [00:01<00:00,  1.21s/it]\n"
     ]
    },
    {
     "name": "stdout",
     "output_type": "stream",
     "text": [
      "Visiting https://www.domain.com.au/rent/?ptype=house&bedrooms=2&postcode=3065&sort=dateupdated-desc&page=1\n"
     ]
    },
    {
     "name": "stderr",
     "output_type": "stream",
     "text": [
      "Processing Part 1, Postcode 3065: 100%|███████████████████████████████████████████████████| 4/4 [00:05<00:00,  1.36s/it]\n"
     ]
    },
    {
     "name": "stdout",
     "output_type": "stream",
     "text": [
      "Visiting https://www.domain.com.au/rent/?ptype=house&bedrooms=3&postcode=3065&sort=dateupdated-desc&page=1\n"
     ]
    },
    {
     "name": "stderr",
     "output_type": "stream",
     "text": [
      "Processing Part 1, Postcode 3065: 100%|███████████████████████████████████████████████████| 7/7 [00:08<00:00,  1.15s/it]\n"
     ]
    },
    {
     "name": "stdout",
     "output_type": "stream",
     "text": [
      "Visiting https://www.domain.com.au/rent/?ptype=house&bedrooms=4&postcode=3065&sort=dateupdated-desc&page=1\n"
     ]
    },
    {
     "name": "stderr",
     "output_type": "stream",
     "text": [
      "Processing Part 1, Postcode 3065: 100%|███████████████████████████████████████████████████| 3/3 [00:03<00:00,  1.22s/it]\n"
     ]
    },
    {
     "name": "stdout",
     "output_type": "stream",
     "text": [
      "Visiting https://www.domain.com.au/rent/?ptype=apartment&bedrooms=1&postcode=3068&sort=dateupdated-desc&page=1\n"
     ]
    },
    {
     "name": "stderr",
     "output_type": "stream",
     "text": [
      "Processing Part 1, Postcode 3068: 100%|███████████████████████████████████████████████████| 9/9 [00:12<00:00,  1.43s/it]\n"
     ]
    },
    {
     "name": "stdout",
     "output_type": "stream",
     "text": [
      "Visiting https://www.domain.com.au/rent/?ptype=apartment&bedrooms=2&postcode=3068&sort=dateupdated-desc&page=1\n"
     ]
    },
    {
     "name": "stderr",
     "output_type": "stream",
     "text": [
      "Processing Part 1, Postcode 3068: 100%|█████████████████████████████████████████████████| 16/16 [00:21<00:00,  1.33s/it]\n"
     ]
    },
    {
     "name": "stdout",
     "output_type": "stream",
     "text": [
      "Visiting https://www.domain.com.au/rent/?ptype=apartment&bedrooms=3&postcode=3068&sort=dateupdated-desc&page=1\n"
     ]
    },
    {
     "name": "stderr",
     "output_type": "stream",
     "text": [
      "Processing Part 1, Postcode 3068: 100%|███████████████████████████████████████████████████| 1/1 [00:01<00:00,  1.05s/it]\n"
     ]
    },
    {
     "name": "stdout",
     "output_type": "stream",
     "text": [
      "Visiting https://www.domain.com.au/rent/?ptype=house&bedrooms=2&postcode=3068&sort=dateupdated-desc&page=1\n"
     ]
    },
    {
     "name": "stderr",
     "output_type": "stream",
     "text": [
      "Processing Part 1, Postcode 3068: 100%|███████████████████████████████████████████████████| 8/8 [00:10<00:00,  1.33s/it]\n"
     ]
    },
    {
     "name": "stdout",
     "output_type": "stream",
     "text": [
      "Visiting https://www.domain.com.au/rent/?ptype=house&bedrooms=3&postcode=3068&sort=dateupdated-desc&page=1\n"
     ]
    },
    {
     "name": "stderr",
     "output_type": "stream",
     "text": [
      "Processing Part 1, Postcode 3068: 100%|███████████████████████████████████████████████████| 3/3 [00:03<00:00,  1.06s/it]\n"
     ]
    },
    {
     "name": "stdout",
     "output_type": "stream",
     "text": [
      "Visiting https://www.domain.com.au/rent/?ptype=house&bedrooms=4&postcode=3068&sort=dateupdated-desc&page=1\n"
     ]
    },
    {
     "name": "stderr",
     "output_type": "stream",
     "text": [
      "Processing Part 1, Postcode 3068: 100%|███████████████████████████████████████████████████| 4/4 [00:04<00:00,  1.16s/it]\n"
     ]
    },
    {
     "name": "stdout",
     "output_type": "stream",
     "text": [
      "Visiting https://www.domain.com.au/rent/?ptype=apartment&bedrooms=1&postcode=3031&sort=dateupdated-desc&page=1\n"
     ]
    },
    {
     "name": "stderr",
     "output_type": "stream",
     "text": [
      "Processing Part 1, Postcode 3031: 100%|█████████████████████████████████████████████████| 19/19 [00:22<00:00,  1.18s/it]\n"
     ]
    },
    {
     "name": "stdout",
     "output_type": "stream",
     "text": [
      "Visiting https://www.domain.com.au/rent/?ptype=apartment&bedrooms=2&postcode=3031&sort=dateupdated-desc&page=1\n"
     ]
    },
    {
     "name": "stderr",
     "output_type": "stream",
     "text": [
      "Processing Part 1, Postcode 3031: 100%|█████████████████████████████████████████████████| 19/19 [00:23<00:00,  1.23s/it]\n"
     ]
    },
    {
     "name": "stdout",
     "output_type": "stream",
     "text": [
      "Visiting https://www.domain.com.au/rent/?ptype=apartment&bedrooms=3&postcode=3031&sort=dateupdated-desc&page=1\n"
     ]
    },
    {
     "name": "stderr",
     "output_type": "stream",
     "text": [
      "Processing Part 1, Postcode 3031: 100%|███████████████████████████████████████████████████| 4/4 [00:04<00:00,  1.21s/it]\n"
     ]
    },
    {
     "name": "stdout",
     "output_type": "stream",
     "text": [
      "Visiting https://www.domain.com.au/rent/?ptype=house&bedrooms=2&postcode=3031&sort=dateupdated-desc&page=1\n"
     ]
    },
    {
     "name": "stderr",
     "output_type": "stream",
     "text": [
      "Processing Part 1, Postcode 3031: 100%|███████████████████████████████████████████████████| 9/9 [00:12<00:00,  1.36s/it]\n"
     ]
    },
    {
     "name": "stdout",
     "output_type": "stream",
     "text": [
      "Visiting https://www.domain.com.au/rent/?ptype=house&bedrooms=3&postcode=3031&sort=dateupdated-desc&page=1\n"
     ]
    },
    {
     "name": "stderr",
     "output_type": "stream",
     "text": [
      "Processing Part 1, Postcode 3031: 100%|███████████████████████████████████████████████████| 6/6 [00:07<00:00,  1.17s/it]\n"
     ]
    },
    {
     "name": "stdout",
     "output_type": "stream",
     "text": [
      "Visiting https://www.domain.com.au/rent/?ptype=house&bedrooms=4&postcode=3031&sort=dateupdated-desc&page=1\n"
     ]
    },
    {
     "name": "stderr",
     "output_type": "stream",
     "text": [
      "Processing Part 1, Postcode 3031: 100%|███████████████████████████████████████████████████| 4/4 [00:04<00:00,  1.10s/it]\n"
     ]
    },
    {
     "name": "stdout",
     "output_type": "stream",
     "text": [
      "Visiting https://www.domain.com.au/rent/?ptype=apartment&bedrooms=1&postcode=3051&sort=dateupdated-desc&page=1\n"
     ]
    },
    {
     "name": "stderr",
     "output_type": "stream",
     "text": [
      "Processing Part 1, Postcode 3051: 100%|█████████████████████████████████████████████████| 20/20 [00:23<00:00,  1.15s/it]\n"
     ]
    },
    {
     "name": "stdout",
     "output_type": "stream",
     "text": [
      "Visiting https://www.domain.com.au/rent/?ptype=apartment&bedrooms=2&postcode=3051&sort=dateupdated-desc&page=1\n"
     ]
    },
    {
     "name": "stderr",
     "output_type": "stream",
     "text": [
      "Processing Part 1, Postcode 3051: 100%|█████████████████████████████████████████████████| 20/20 [00:23<00:00,  1.16s/it]\n"
     ]
    },
    {
     "name": "stdout",
     "output_type": "stream",
     "text": [
      "Visiting https://www.domain.com.au/rent/?ptype=apartment&bedrooms=3&postcode=3051&sort=dateupdated-desc&page=1\n",
      "No results found on page https://www.domain.com.au/rent/?ptype=apartment&bedrooms=3&postcode=3051&sort=dateupdated-desc&page=1\n"
     ]
    },
    {
     "name": "stderr",
     "output_type": "stream",
     "text": [
      "Processing Part 1, Postcode 3051: 0it [00:00, ?it/s]"
     ]
    },
    {
     "name": "stdout",
     "output_type": "stream",
     "text": [
      "Visiting https://www.domain.com.au/rent/?ptype=house&bedrooms=2&postcode=3051&sort=dateupdated-desc&page=1\n"
     ]
    },
    {
     "name": "stderr",
     "output_type": "stream",
     "text": [
      "\n",
      "Processing Part 1, Postcode 3051: 100%|███████████████████████████████████████████████████| 4/4 [00:07<00:00,  1.88s/it]\n"
     ]
    },
    {
     "name": "stdout",
     "output_type": "stream",
     "text": [
      "Visiting https://www.domain.com.au/rent/?ptype=house&bedrooms=3&postcode=3051&sort=dateupdated-desc&page=1\n"
     ]
    },
    {
     "name": "stderr",
     "output_type": "stream",
     "text": [
      "Processing Part 1, Postcode 3051: 100%|███████████████████████████████████████████████████| 6/6 [00:06<00:00,  1.11s/it]\n"
     ]
    },
    {
     "name": "stdout",
     "output_type": "stream",
     "text": [
      "Visiting https://www.domain.com.au/rent/?ptype=house&bedrooms=4&postcode=3051&sort=dateupdated-desc&page=1\n"
     ]
    },
    {
     "name": "stderr",
     "output_type": "stream",
     "text": [
      "Processing Part 1, Postcode 3051: 100%|███████████████████████████████████████████████████| 4/4 [00:04<00:00,  1.12s/it]\n"
     ]
    },
    {
     "name": "stdout",
     "output_type": "stream",
     "text": [
      "Visiting https://www.domain.com.au/rent/?ptype=apartment&bedrooms=1&postcode=3003&sort=dateupdated-desc&page=1\n"
     ]
    },
    {
     "name": "stderr",
     "output_type": "stream",
     "text": [
      "Processing Part 1, Postcode 3003: 100%|█████████████████████████████████████████████████| 20/20 [00:26<00:00,  1.31s/it]\n"
     ]
    },
    {
     "name": "stdout",
     "output_type": "stream",
     "text": [
      "Visiting https://www.domain.com.au/rent/?ptype=apartment&bedrooms=2&postcode=3003&sort=dateupdated-desc&page=1\n"
     ]
    },
    {
     "name": "stderr",
     "output_type": "stream",
     "text": [
      "Processing Part 1, Postcode 3003: 100%|█████████████████████████████████████████████████| 20/20 [00:27<00:00,  1.38s/it]\n"
     ]
    },
    {
     "name": "stdout",
     "output_type": "stream",
     "text": [
      "Visiting https://www.domain.com.au/rent/?ptype=apartment&bedrooms=3&postcode=3003&sort=dateupdated-desc&page=1\n"
     ]
    },
    {
     "name": "stderr",
     "output_type": "stream",
     "text": [
      "Processing Part 1, Postcode 3003: 100%|███████████████████████████████████████████████████| 5/5 [00:06<00:00,  1.32s/it]\n"
     ]
    },
    {
     "name": "stdout",
     "output_type": "stream",
     "text": [
      "Visiting https://www.domain.com.au/rent/?ptype=house&bedrooms=2&postcode=3003&sort=dateupdated-desc&page=1\n"
     ]
    },
    {
     "name": "stderr",
     "output_type": "stream",
     "text": [
      "Processing Part 1, Postcode 3003: 100%|███████████████████████████████████████████████████| 4/4 [00:04<00:00,  1.17s/it]\n"
     ]
    },
    {
     "name": "stdout",
     "output_type": "stream",
     "text": [
      "Visiting https://www.domain.com.au/rent/?ptype=house&bedrooms=3&postcode=3003&sort=dateupdated-desc&page=1\n"
     ]
    },
    {
     "name": "stderr",
     "output_type": "stream",
     "text": [
      "Processing Part 1, Postcode 3003: 100%|███████████████████████████████████████████████████| 2/2 [00:02<00:00,  1.09s/it]\n"
     ]
    },
    {
     "name": "stdout",
     "output_type": "stream",
     "text": [
      "Visiting https://www.domain.com.au/rent/?ptype=house&bedrooms=4&postcode=3003&sort=dateupdated-desc&page=1\n",
      "No results found on page https://www.domain.com.au/rent/?ptype=house&bedrooms=4&postcode=3003&sort=dateupdated-desc&page=1\n"
     ]
    },
    {
     "name": "stderr",
     "output_type": "stream",
     "text": [
      "Processing Part 1, Postcode 3003: 0it [00:00, ?it/s]"
     ]
    },
    {
     "name": "stdout",
     "output_type": "stream",
     "text": [
      "Visiting https://www.domain.com.au/rent/?ptype=apartment&bedrooms=1&postcode=3027&sort=dateupdated-desc&page=1\n"
     ]
    },
    {
     "name": "stderr",
     "output_type": "stream",
     "text": [
      "\n"
     ]
    },
    {
     "name": "stdout",
     "output_type": "stream",
     "text": [
      "No results found on page https://www.domain.com.au/rent/?ptype=apartment&bedrooms=1&postcode=3027&sort=dateupdated-desc&page=1\n"
     ]
    },
    {
     "name": "stderr",
     "output_type": "stream",
     "text": [
      "Processing Part 1, Postcode 3027: 0it [00:00, ?it/s]"
     ]
    },
    {
     "name": "stdout",
     "output_type": "stream",
     "text": [
      "Visiting https://www.domain.com.au/rent/?ptype=apartment&bedrooms=2&postcode=3027&sort=dateupdated-desc&page=1\n"
     ]
    },
    {
     "name": "stderr",
     "output_type": "stream",
     "text": [
      "\n",
      "Processing Part 1, Postcode 3027: 100%|███████████████████████████████████████████████████| 4/4 [00:04<00:00,  1.15s/it]\n"
     ]
    },
    {
     "name": "stdout",
     "output_type": "stream",
     "text": [
      "Visiting https://www.domain.com.au/rent/?ptype=apartment&bedrooms=3&postcode=3027&sort=dateupdated-desc&page=1\n",
      "No results found on page https://www.domain.com.au/rent/?ptype=apartment&bedrooms=3&postcode=3027&sort=dateupdated-desc&page=1\n"
     ]
    },
    {
     "name": "stderr",
     "output_type": "stream",
     "text": [
      "Processing Part 1, Postcode 3027: 0it [00:00, ?it/s]"
     ]
    },
    {
     "name": "stdout",
     "output_type": "stream",
     "text": [
      "Visiting https://www.domain.com.au/rent/?ptype=house&bedrooms=2&postcode=3027&sort=dateupdated-desc&page=1\n"
     ]
    },
    {
     "name": "stderr",
     "output_type": "stream",
     "text": [
      "\n",
      "Processing Part 1, Postcode 3027: 100%|███████████████████████████████████████████████████| 1/1 [00:01<00:00,  1.03s/it]\n"
     ]
    },
    {
     "name": "stdout",
     "output_type": "stream",
     "text": [
      "Visiting https://www.domain.com.au/rent/?ptype=house&bedrooms=3&postcode=3027&sort=dateupdated-desc&page=1\n"
     ]
    },
    {
     "name": "stderr",
     "output_type": "stream",
     "text": [
      "Processing Part 1, Postcode 3027: 100%|███████████████████████████████████████████████████| 5/5 [00:06<00:00,  1.23s/it]\n"
     ]
    },
    {
     "name": "stdout",
     "output_type": "stream",
     "text": [
      "Visiting https://www.domain.com.au/rent/?ptype=house&bedrooms=4&postcode=3027&sort=dateupdated-desc&page=1\n"
     ]
    },
    {
     "name": "stderr",
     "output_type": "stream",
     "text": [
      "Processing Part 1, Postcode 3027: 100%|█████████████████████████████████████████████████| 11/11 [00:15<00:00,  1.40s/it]\n"
     ]
    },
    {
     "name": "stdout",
     "output_type": "stream",
     "text": [
      "Visiting https://www.domain.com.au/rent/?ptype=apartment&bedrooms=1&postcode=3181&sort=dateupdated-desc&page=1\n"
     ]
    },
    {
     "name": "stderr",
     "output_type": "stream",
     "text": [
      "Processing Part 1, Postcode 3181: 100%|█████████████████████████████████████████████████| 20/20 [00:25<00:00,  1.29s/it]\n"
     ]
    },
    {
     "name": "stdout",
     "output_type": "stream",
     "text": [
      "Visiting https://www.domain.com.au/rent/?ptype=apartment&bedrooms=2&postcode=3181&sort=dateupdated-desc&page=1\n"
     ]
    },
    {
     "name": "stderr",
     "output_type": "stream",
     "text": [
      "Processing Part 1, Postcode 3181: 100%|█████████████████████████████████████████████████| 20/20 [00:30<00:00,  1.55s/it]\n"
     ]
    },
    {
     "name": "stdout",
     "output_type": "stream",
     "text": [
      "Visiting https://www.domain.com.au/rent/?ptype=apartment&bedrooms=3&postcode=3181&sort=dateupdated-desc&page=1\n"
     ]
    },
    {
     "name": "stderr",
     "output_type": "stream",
     "text": [
      "Processing Part 1, Postcode 3181: 100%|███████████████████████████████████████████████████| 6/6 [00:06<00:00,  1.10s/it]\n"
     ]
    },
    {
     "name": "stdout",
     "output_type": "stream",
     "text": [
      "Visiting https://www.domain.com.au/rent/?ptype=house&bedrooms=2&postcode=3181&sort=dateupdated-desc&page=1\n"
     ]
    },
    {
     "name": "stderr",
     "output_type": "stream",
     "text": [
      "Processing Part 1, Postcode 3181: 100%|███████████████████████████████████████████████████| 8/8 [00:09<00:00,  1.20s/it]\n"
     ]
    },
    {
     "name": "stdout",
     "output_type": "stream",
     "text": [
      "Visiting https://www.domain.com.au/rent/?ptype=house&bedrooms=3&postcode=3181&sort=dateupdated-desc&page=1\n"
     ]
    },
    {
     "name": "stderr",
     "output_type": "stream",
     "text": [
      "Processing Part 1, Postcode 3181: 100%|█████████████████████████████████████████████████| 14/14 [00:18<00:00,  1.33s/it]\n"
     ]
    },
    {
     "name": "stdout",
     "output_type": "stream",
     "text": [
      "Visiting https://www.domain.com.au/rent/?ptype=house&bedrooms=4&postcode=3181&sort=dateupdated-desc&page=1\n"
     ]
    },
    {
     "name": "stderr",
     "output_type": "stream",
     "text": [
      "Processing Part 1, Postcode 3181: 100%|███████████████████████████████████████████████████| 2/2 [00:02<00:00,  1.34s/it]\n"
     ]
    },
    {
     "name": "stdout",
     "output_type": "stream",
     "text": [
      "Visiting https://www.domain.com.au/rent/?ptype=apartment&bedrooms=1&postcode=3121&sort=dateupdated-desc&page=1\n"
     ]
    },
    {
     "name": "stderr",
     "output_type": "stream",
     "text": [
      "Processing Part 1, Postcode 3121: 100%|█████████████████████████████████████████████████| 20/20 [00:28<00:00,  1.43s/it]\n"
     ]
    },
    {
     "name": "stdout",
     "output_type": "stream",
     "text": [
      "Visiting https://www.domain.com.au/rent/?ptype=apartment&bedrooms=2&postcode=3121&sort=dateupdated-desc&page=1\n"
     ]
    },
    {
     "name": "stderr",
     "output_type": "stream",
     "text": [
      "Processing Part 1, Postcode 3121: 100%|█████████████████████████████████████████████████| 20/20 [00:24<00:00,  1.24s/it]\n"
     ]
    },
    {
     "name": "stdout",
     "output_type": "stream",
     "text": [
      "Visiting https://www.domain.com.au/rent/?ptype=apartment&bedrooms=3&postcode=3121&sort=dateupdated-desc&page=1\n"
     ]
    },
    {
     "name": "stderr",
     "output_type": "stream",
     "text": [
      "Processing Part 1, Postcode 3121: 100%|███████████████████████████████████████████████████| 6/6 [00:06<00:00,  1.12s/it]\n"
     ]
    },
    {
     "name": "stdout",
     "output_type": "stream",
     "text": [
      "Visiting https://www.domain.com.au/rent/?ptype=house&bedrooms=2&postcode=3121&sort=dateupdated-desc&page=1\n"
     ]
    },
    {
     "name": "stderr",
     "output_type": "stream",
     "text": [
      "Processing Part 1, Postcode 3121: 100%|█████████████████████████████████████████████████| 16/16 [00:19<00:00,  1.22s/it]\n"
     ]
    },
    {
     "name": "stdout",
     "output_type": "stream",
     "text": [
      "Visiting https://www.domain.com.au/rent/?ptype=house&bedrooms=3&postcode=3121&sort=dateupdated-desc&page=1\n"
     ]
    },
    {
     "name": "stderr",
     "output_type": "stream",
     "text": [
      "Processing Part 1, Postcode 3121: 100%|█████████████████████████████████████████████████| 20/20 [00:27<00:00,  1.37s/it]\n"
     ]
    },
    {
     "name": "stdout",
     "output_type": "stream",
     "text": [
      "Visiting https://www.domain.com.au/rent/?ptype=house&bedrooms=4&postcode=3121&sort=dateupdated-desc&page=1\n"
     ]
    },
    {
     "name": "stderr",
     "output_type": "stream",
     "text": [
      "Processing Part 1, Postcode 3121: 100%|███████████████████████████████████████████████████| 6/6 [00:06<00:00,  1.17s/it]\n"
     ]
    },
    {
     "name": "stdout",
     "output_type": "stream",
     "text": [
      "Visiting https://www.domain.com.au/rent/?ptype=apartment&bedrooms=1&postcode=3205&sort=dateupdated-desc&page=1\n"
     ]
    },
    {
     "name": "stderr",
     "output_type": "stream",
     "text": [
      "Processing Part 1, Postcode 3205: 100%|█████████████████████████████████████████████████| 20/20 [00:28<00:00,  1.44s/it]\n"
     ]
    },
    {
     "name": "stdout",
     "output_type": "stream",
     "text": [
      "Visiting https://www.domain.com.au/rent/?ptype=apartment&bedrooms=2&postcode=3205&sort=dateupdated-desc&page=1\n"
     ]
    },
    {
     "name": "stderr",
     "output_type": "stream",
     "text": [
      "Processing Part 1, Postcode 3205: 100%|█████████████████████████████████████████████████| 20/20 [00:27<00:00,  1.38s/it]\n"
     ]
    },
    {
     "name": "stdout",
     "output_type": "stream",
     "text": [
      "Visiting https://www.domain.com.au/rent/?ptype=apartment&bedrooms=3&postcode=3205&sort=dateupdated-desc&page=1\n"
     ]
    },
    {
     "name": "stderr",
     "output_type": "stream",
     "text": [
      "Processing Part 1, Postcode 3205: 100%|███████████████████████████████████████████████████| 9/9 [00:10<00:00,  1.18s/it]\n"
     ]
    },
    {
     "name": "stdout",
     "output_type": "stream",
     "text": [
      "Visiting https://www.domain.com.au/rent/?ptype=house&bedrooms=2&postcode=3205&sort=dateupdated-desc&page=1\n"
     ]
    },
    {
     "name": "stderr",
     "output_type": "stream",
     "text": [
      "Processing Part 1, Postcode 3205: 100%|███████████████████████████████████████████████████| 7/7 [00:07<00:00,  1.06s/it]\n"
     ]
    },
    {
     "name": "stdout",
     "output_type": "stream",
     "text": [
      "Visiting https://www.domain.com.au/rent/?ptype=house&bedrooms=3&postcode=3205&sort=dateupdated-desc&page=1\n"
     ]
    },
    {
     "name": "stderr",
     "output_type": "stream",
     "text": [
      "Processing Part 1, Postcode 3205: 100%|███████████████████████████████████████████████████| 8/8 [00:09<00:00,  1.16s/it]\n"
     ]
    },
    {
     "name": "stdout",
     "output_type": "stream",
     "text": [
      "Visiting https://www.domain.com.au/rent/?ptype=house&bedrooms=4&postcode=3205&sort=dateupdated-desc&page=1\n",
      "No results found on page https://www.domain.com.au/rent/?ptype=house&bedrooms=4&postcode=3205&sort=dateupdated-desc&page=1\n"
     ]
    },
    {
     "name": "stderr",
     "output_type": "stream",
     "text": [
      "Processing Part 1, Postcode 3205: 0it [00:00, ?it/s]"
     ]
    },
    {
     "name": "stdout",
     "output_type": "stream",
     "text": [
      "Completed processing Part 1/10. Data saved to ../../data/raw/domain/temp_parts/property_part_1.csv\n",
      "Visiting https://www.domain.com.au/rent/?ptype=apartment&bedrooms=1&postcode=3141&sort=dateupdated-desc&page=1\n"
     ]
    },
    {
     "name": "stderr",
     "output_type": "stream",
     "text": [
      "\n",
      "Processing Part 2, Postcode 3141: 100%|█████████████████████████████████████████████████| 20/20 [00:23<00:00,  1.18s/it]\n"
     ]
    },
    {
     "name": "stdout",
     "output_type": "stream",
     "text": [
      "Visiting https://www.domain.com.au/rent/?ptype=apartment&bedrooms=2&postcode=3141&sort=dateupdated-desc&page=1\n"
     ]
    },
    {
     "name": "stderr",
     "output_type": "stream",
     "text": [
      "Processing Part 2, Postcode 3141: 100%|█████████████████████████████████████████████████| 20/20 [00:27<00:00,  1.39s/it]\n"
     ]
    },
    {
     "name": "stdout",
     "output_type": "stream",
     "text": [
      "Visiting https://www.domain.com.au/rent/?ptype=apartment&bedrooms=3&postcode=3141&sort=dateupdated-desc&page=1\n"
     ]
    },
    {
     "name": "stderr",
     "output_type": "stream",
     "text": [
      "Processing Part 2, Postcode 3141: 100%|█████████████████████████████████████████████████| 12/12 [00:14<00:00,  1.22s/it]\n"
     ]
    },
    {
     "name": "stdout",
     "output_type": "stream",
     "text": [
      "Visiting https://www.domain.com.au/rent/?ptype=house&bedrooms=2&postcode=3141&sort=dateupdated-desc&page=1\n"
     ]
    },
    {
     "name": "stderr",
     "output_type": "stream",
     "text": [
      "Processing Part 2, Postcode 3141: 100%|█████████████████████████████████████████████████| 13/13 [00:14<00:00,  1.15s/it]\n"
     ]
    },
    {
     "name": "stdout",
     "output_type": "stream",
     "text": [
      "Visiting https://www.domain.com.au/rent/?ptype=house&bedrooms=3&postcode=3141&sort=dateupdated-desc&page=1\n"
     ]
    },
    {
     "name": "stderr",
     "output_type": "stream",
     "text": [
      "Processing Part 2, Postcode 3141: 100%|███████████████████████████████████████████████████| 6/6 [00:09<00:00,  1.65s/it]\n"
     ]
    },
    {
     "name": "stdout",
     "output_type": "stream",
     "text": [
      "Visiting https://www.domain.com.au/rent/?ptype=house&bedrooms=4&postcode=3141&sort=dateupdated-desc&page=1\n"
     ]
    },
    {
     "name": "stderr",
     "output_type": "stream",
     "text": [
      "Processing Part 2, Postcode 3141: 100%|███████████████████████████████████████████████████| 5/5 [00:08<00:00,  1.64s/it]\n"
     ]
    },
    {
     "name": "stdout",
     "output_type": "stream",
     "text": [
      "Visiting https://www.domain.com.au/rent/?ptype=apartment&bedrooms=1&postcode=3006&sort=dateupdated-desc&page=1\n"
     ]
    },
    {
     "name": "stderr",
     "output_type": "stream",
     "text": [
      "Processing Part 2, Postcode 3006: 100%|█████████████████████████████████████████████████| 20/20 [00:29<00:00,  1.48s/it]\n"
     ]
    },
    {
     "name": "stdout",
     "output_type": "stream",
     "text": [
      "Visiting https://www.domain.com.au/rent/?ptype=apartment&bedrooms=2&postcode=3006&sort=dateupdated-desc&page=1\n"
     ]
    },
    {
     "name": "stderr",
     "output_type": "stream",
     "text": [
      "Processing Part 2, Postcode 3006: 100%|█████████████████████████████████████████████████| 20/20 [00:22<00:00,  1.15s/it]\n"
     ]
    },
    {
     "name": "stdout",
     "output_type": "stream",
     "text": [
      "Visiting https://www.domain.com.au/rent/?ptype=apartment&bedrooms=3&postcode=3006&sort=dateupdated-desc&page=1\n"
     ]
    },
    {
     "name": "stderr",
     "output_type": "stream",
     "text": [
      "Processing Part 2, Postcode 3006: 100%|█████████████████████████████████████████████████| 20/20 [00:25<00:00,  1.27s/it]\n"
     ]
    },
    {
     "name": "stdout",
     "output_type": "stream",
     "text": [
      "Visiting https://www.domain.com.au/rent/?ptype=house&bedrooms=2&postcode=3006&sort=dateupdated-desc&page=1\n"
     ]
    },
    {
     "name": "stderr",
     "output_type": "stream",
     "text": [
      "Processing Part 2, Postcode 3006: 100%|███████████████████████████████████████████████████| 2/2 [00:02<00:00,  1.42s/it]\n"
     ]
    },
    {
     "name": "stdout",
     "output_type": "stream",
     "text": [
      "Visiting https://www.domain.com.au/rent/?ptype=house&bedrooms=3&postcode=3006&sort=dateupdated-desc&page=1\n",
      "No results found on page https://www.domain.com.au/rent/?ptype=house&bedrooms=3&postcode=3006&sort=dateupdated-desc&page=1\n"
     ]
    },
    {
     "name": "stderr",
     "output_type": "stream",
     "text": [
      "Processing Part 2, Postcode 3006: 0it [00:00, ?it/s]"
     ]
    },
    {
     "name": "stdout",
     "output_type": "stream",
     "text": [
      "Visiting https://www.domain.com.au/rent/?ptype=house&bedrooms=4&postcode=3006&sort=dateupdated-desc&page=1\n"
     ]
    },
    {
     "name": "stderr",
     "output_type": "stream",
     "text": [
      "\n"
     ]
    },
    {
     "name": "stdout",
     "output_type": "stream",
     "text": [
      "No results found on page https://www.domain.com.au/rent/?ptype=house&bedrooms=4&postcode=3006&sort=dateupdated-desc&page=1\n"
     ]
    },
    {
     "name": "stderr",
     "output_type": "stream",
     "text": [
      "Processing Part 2, Postcode 3006: 0it [00:00, ?it/s]"
     ]
    },
    {
     "name": "stdout",
     "output_type": "stream",
     "text": [
      "Visiting https://www.domain.com.au/rent/?ptype=apartment&bedrooms=1&postcode=3182&sort=dateupdated-desc&page=1\n"
     ]
    },
    {
     "name": "stderr",
     "output_type": "stream",
     "text": [
      "\n",
      "Processing Part 2, Postcode 3182: 100%|█████████████████████████████████████████████████| 20/20 [00:24<00:00,  1.22s/it]\n"
     ]
    },
    {
     "name": "stdout",
     "output_type": "stream",
     "text": [
      "Visiting https://www.domain.com.au/rent/?ptype=apartment&bedrooms=2&postcode=3182&sort=dateupdated-desc&page=1\n"
     ]
    },
    {
     "name": "stderr",
     "output_type": "stream",
     "text": [
      "Processing Part 2, Postcode 3182: 100%|█████████████████████████████████████████████████| 20/20 [00:25<00:00,  1.27s/it]\n"
     ]
    },
    {
     "name": "stdout",
     "output_type": "stream",
     "text": [
      "Visiting https://www.domain.com.au/rent/?ptype=apartment&bedrooms=3&postcode=3182&sort=dateupdated-desc&page=1\n"
     ]
    },
    {
     "name": "stderr",
     "output_type": "stream",
     "text": [
      "Processing Part 2, Postcode 3182: 100%|█████████████████████████████████████████████████| 10/10 [00:11<00:00,  1.15s/it]\n"
     ]
    },
    {
     "name": "stdout",
     "output_type": "stream",
     "text": [
      "Visiting https://www.domain.com.au/rent/?ptype=house&bedrooms=2&postcode=3182&sort=dateupdated-desc&page=1\n"
     ]
    },
    {
     "name": "stderr",
     "output_type": "stream",
     "text": [
      "Processing Part 2, Postcode 3182: 100%|███████████████████████████████████████████████████| 2/2 [00:02<00:00,  1.04s/it]\n"
     ]
    },
    {
     "name": "stdout",
     "output_type": "stream",
     "text": [
      "Visiting https://www.domain.com.au/rent/?ptype=house&bedrooms=3&postcode=3182&sort=dateupdated-desc&page=1\n"
     ]
    },
    {
     "name": "stderr",
     "output_type": "stream",
     "text": [
      "Processing Part 2, Postcode 3182: 100%|███████████████████████████████████████████████████| 3/3 [00:04<00:00,  1.38s/it]\n"
     ]
    },
    {
     "name": "stdout",
     "output_type": "stream",
     "text": [
      "Visiting https://www.domain.com.au/rent/?ptype=house&bedrooms=4&postcode=3182&sort=dateupdated-desc&page=1\n"
     ]
    },
    {
     "name": "stderr",
     "output_type": "stream",
     "text": [
      "Processing Part 2, Postcode 3182: 100%|███████████████████████████████████████████████████| 4/4 [00:05<00:00,  1.25s/it]\n"
     ]
    },
    {
     "name": "stdout",
     "output_type": "stream",
     "text": [
      "Visiting https://www.domain.com.au/rent/?ptype=apartment&bedrooms=1&postcode=3142&sort=dateupdated-desc&page=1\n"
     ]
    },
    {
     "name": "stderr",
     "output_type": "stream",
     "text": [
      "Processing Part 2, Postcode 3142: 100%|███████████████████████████████████████████████████| 9/9 [00:12<00:00,  1.40s/it]\n"
     ]
    },
    {
     "name": "stdout",
     "output_type": "stream",
     "text": [
      "Visiting https://www.domain.com.au/rent/?ptype=apartment&bedrooms=2&postcode=3142&sort=dateupdated-desc&page=1\n"
     ]
    },
    {
     "name": "stderr",
     "output_type": "stream",
     "text": [
      "Processing Part 2, Postcode 3142: 100%|█████████████████████████████████████████████████| 20/20 [00:30<00:00,  1.54s/it]\n"
     ]
    },
    {
     "name": "stdout",
     "output_type": "stream",
     "text": [
      "Visiting https://www.domain.com.au/rent/?ptype=apartment&bedrooms=3&postcode=3142&sort=dateupdated-desc&page=1\n"
     ]
    },
    {
     "name": "stderr",
     "output_type": "stream",
     "text": [
      "Processing Part 2, Postcode 3142: 100%|█████████████████████████████████████████████████| 12/12 [00:13<00:00,  1.12s/it]\n"
     ]
    },
    {
     "name": "stdout",
     "output_type": "stream",
     "text": [
      "Visiting https://www.domain.com.au/rent/?ptype=house&bedrooms=2&postcode=3142&sort=dateupdated-desc&page=1\n"
     ]
    },
    {
     "name": "stderr",
     "output_type": "stream",
     "text": [
      "Processing Part 2, Postcode 3142: 100%|███████████████████████████████████████████████████| 3/3 [00:03<00:00,  1.12s/it]\n"
     ]
    },
    {
     "name": "stdout",
     "output_type": "stream",
     "text": [
      "Visiting https://www.domain.com.au/rent/?ptype=house&bedrooms=3&postcode=3142&sort=dateupdated-desc&page=1\n"
     ]
    },
    {
     "name": "stderr",
     "output_type": "stream",
     "text": [
      "Processing Part 2, Postcode 3142: 100%|███████████████████████████████████████████████████| 7/7 [00:09<00:00,  1.37s/it]\n"
     ]
    },
    {
     "name": "stdout",
     "output_type": "stream",
     "text": [
      "Visiting https://www.domain.com.au/rent/?ptype=house&bedrooms=4&postcode=3142&sort=dateupdated-desc&page=1\n"
     ]
    },
    {
     "name": "stderr",
     "output_type": "stream",
     "text": [
      "Processing Part 2, Postcode 3142: 100%|███████████████████████████████████████████████████| 4/4 [00:04<00:00,  1.20s/it]\n"
     ]
    },
    {
     "name": "stdout",
     "output_type": "stream",
     "text": [
      "Visiting https://www.domain.com.au/rent/?ptype=apartment&bedrooms=1&postcode=3103&sort=dateupdated-desc&page=1\n"
     ]
    },
    {
     "name": "stderr",
     "output_type": "stream",
     "text": [
      "Processing Part 2, Postcode 3103: 100%|███████████████████████████████████████████████████| 2/2 [00:02<00:00,  1.41s/it]\n"
     ]
    },
    {
     "name": "stdout",
     "output_type": "stream",
     "text": [
      "Visiting https://www.domain.com.au/rent/?ptype=apartment&bedrooms=2&postcode=3103&sort=dateupdated-desc&page=1\n"
     ]
    },
    {
     "name": "stderr",
     "output_type": "stream",
     "text": [
      "Processing Part 2, Postcode 3103: 100%|█████████████████████████████████████████████████| 19/19 [00:24<00:00,  1.28s/it]\n"
     ]
    },
    {
     "name": "stdout",
     "output_type": "stream",
     "text": [
      "Visiting https://www.domain.com.au/rent/?ptype=apartment&bedrooms=3&postcode=3103&sort=dateupdated-desc&page=1\n"
     ]
    },
    {
     "name": "stderr",
     "output_type": "stream",
     "text": [
      "Processing Part 2, Postcode 3103: 100%|███████████████████████████████████████████████████| 5/5 [00:06<00:00,  1.21s/it]\n"
     ]
    },
    {
     "name": "stdout",
     "output_type": "stream",
     "text": [
      "Visiting https://www.domain.com.au/rent/?ptype=house&bedrooms=2&postcode=3103&sort=dateupdated-desc&page=1\n"
     ]
    },
    {
     "name": "stderr",
     "output_type": "stream",
     "text": [
      "Processing Part 2, Postcode 3103: 100%|███████████████████████████████████████████████████| 2/2 [00:02<00:00,  1.27s/it]\n"
     ]
    },
    {
     "name": "stdout",
     "output_type": "stream",
     "text": [
      "Visiting https://www.domain.com.au/rent/?ptype=house&bedrooms=3&postcode=3103&sort=dateupdated-desc&page=1\n"
     ]
    },
    {
     "name": "stderr",
     "output_type": "stream",
     "text": [
      "Processing Part 2, Postcode 3103: 100%|███████████████████████████████████████████████████| 2/2 [00:02<00:00,  1.26s/it]\n"
     ]
    },
    {
     "name": "stdout",
     "output_type": "stream",
     "text": [
      "Visiting https://www.domain.com.au/rent/?ptype=house&bedrooms=4&postcode=3103&sort=dateupdated-desc&page=1\n"
     ]
    },
    {
     "name": "stderr",
     "output_type": "stream",
     "text": [
      "Processing Part 2, Postcode 3103: 100%|███████████████████████████████████████████████████| 6/6 [00:11<00:00,  1.89s/it]\n"
     ]
    },
    {
     "name": "stdout",
     "output_type": "stream",
     "text": [
      "Visiting https://www.domain.com.au/rent/?ptype=apartment&bedrooms=1&postcode=3104&sort=dateupdated-desc&page=1\n",
      "No results found on page https://www.domain.com.au/rent/?ptype=apartment&bedrooms=1&postcode=3104&sort=dateupdated-desc&page=1\n"
     ]
    },
    {
     "name": "stderr",
     "output_type": "stream",
     "text": [
      "Processing Part 2, Postcode 3104: 0it [00:00, ?it/s]"
     ]
    },
    {
     "name": "stdout",
     "output_type": "stream",
     "text": [
      "Visiting https://www.domain.com.au/rent/?ptype=apartment&bedrooms=2&postcode=3104&sort=dateupdated-desc&page=1\n"
     ]
    },
    {
     "name": "stderr",
     "output_type": "stream",
     "text": [
      "\n",
      "Processing Part 2, Postcode 3104: 100%|███████████████████████████████████████████████████| 4/4 [00:04<00:00,  1.08s/it]\n"
     ]
    },
    {
     "name": "stdout",
     "output_type": "stream",
     "text": [
      "Visiting https://www.domain.com.au/rent/?ptype=apartment&bedrooms=3&postcode=3104&sort=dateupdated-desc&page=1\n"
     ]
    },
    {
     "name": "stderr",
     "output_type": "stream",
     "text": [
      "Processing Part 2, Postcode 3104: 100%|███████████████████████████████████████████████████| 3/3 [00:04<00:00,  1.37s/it]\n"
     ]
    },
    {
     "name": "stdout",
     "output_type": "stream",
     "text": [
      "Visiting https://www.domain.com.au/rent/?ptype=house&bedrooms=2&postcode=3104&sort=dateupdated-desc&page=1\n"
     ]
    },
    {
     "name": "stderr",
     "output_type": "stream",
     "text": [
      "Processing Part 2, Postcode 3104: 100%|███████████████████████████████████████████████████| 1/1 [00:01<00:00,  1.11s/it]\n"
     ]
    },
    {
     "name": "stdout",
     "output_type": "stream",
     "text": [
      "Visiting https://www.domain.com.au/rent/?ptype=house&bedrooms=3&postcode=3104&sort=dateupdated-desc&page=1\n"
     ]
    },
    {
     "name": "stderr",
     "output_type": "stream",
     "text": [
      "Processing Part 2, Postcode 3104: 100%|███████████████████████████████████████████████████| 9/9 [00:10<00:00,  1.17s/it]\n"
     ]
    },
    {
     "name": "stdout",
     "output_type": "stream",
     "text": [
      "Visiting https://www.domain.com.au/rent/?ptype=house&bedrooms=4&postcode=3104&sort=dateupdated-desc&page=1\n"
     ]
    },
    {
     "name": "stderr",
     "output_type": "stream",
     "text": [
      "Processing Part 2, Postcode 3104: 100%|█████████████████████████████████████████████████| 16/16 [00:23<00:00,  1.47s/it]\n"
     ]
    },
    {
     "name": "stdout",
     "output_type": "stream",
     "text": [
      "Visiting https://www.domain.com.au/rent/?ptype=apartment&bedrooms=1&postcode=3130&sort=dateupdated-desc&page=1\n"
     ]
    },
    {
     "name": "stderr",
     "output_type": "stream",
     "text": [
      "Processing Part 2, Postcode 3130: 100%|███████████████████████████████████████████████████| 5/5 [00:06<00:00,  1.36s/it]\n"
     ]
    },
    {
     "name": "stdout",
     "output_type": "stream",
     "text": [
      "Visiting https://www.domain.com.au/rent/?ptype=apartment&bedrooms=2&postcode=3130&sort=dateupdated-desc&page=1\n"
     ]
    },
    {
     "name": "stderr",
     "output_type": "stream",
     "text": [
      "Processing Part 2, Postcode 3130: 100%|███████████████████████████████████████████████████| 8/8 [00:09<00:00,  1.19s/it]\n"
     ]
    },
    {
     "name": "stdout",
     "output_type": "stream",
     "text": [
      "Visiting https://www.domain.com.au/rent/?ptype=apartment&bedrooms=3&postcode=3130&sort=dateupdated-desc&page=1\n",
      "No results found on page https://www.domain.com.au/rent/?ptype=apartment&bedrooms=3&postcode=3130&sort=dateupdated-desc&page=1\n"
     ]
    },
    {
     "name": "stderr",
     "output_type": "stream",
     "text": [
      "Processing Part 2, Postcode 3130: 0it [00:00, ?it/s]"
     ]
    },
    {
     "name": "stdout",
     "output_type": "stream",
     "text": [
      "Visiting https://www.domain.com.au/rent/?ptype=house&bedrooms=2&postcode=3130&sort=dateupdated-desc&page=1\n"
     ]
    },
    {
     "name": "stderr",
     "output_type": "stream",
     "text": [
      "\n",
      "Processing Part 2, Postcode 3130: 100%|███████████████████████████████████████████████████| 1/1 [00:01<00:00,  1.68s/it]\n"
     ]
    },
    {
     "name": "stdout",
     "output_type": "stream",
     "text": [
      "Visiting https://www.domain.com.au/rent/?ptype=house&bedrooms=3&postcode=3130&sort=dateupdated-desc&page=1\n"
     ]
    },
    {
     "name": "stderr",
     "output_type": "stream",
     "text": [
      "Processing Part 2, Postcode 3130: 100%|█████████████████████████████████████████████████| 13/13 [00:17<00:00,  1.31s/it]\n"
     ]
    },
    {
     "name": "stdout",
     "output_type": "stream",
     "text": [
      "Visiting https://www.domain.com.au/rent/?ptype=house&bedrooms=4&postcode=3130&sort=dateupdated-desc&page=1\n"
     ]
    },
    {
     "name": "stderr",
     "output_type": "stream",
     "text": [
      "Processing Part 2, Postcode 3130: 100%|███████████████████████████████████████████████████| 6/6 [00:06<00:00,  1.08s/it]\n"
     ]
    },
    {
     "name": "stdout",
     "output_type": "stream",
     "text": [
      "Visiting https://www.domain.com.au/rent/?ptype=apartment&bedrooms=1&postcode=3128&sort=dateupdated-desc&page=1\n"
     ]
    },
    {
     "name": "stderr",
     "output_type": "stream",
     "text": [
      "Processing Part 2, Postcode 3128: 100%|█████████████████████████████████████████████████| 20/20 [00:25<00:00,  1.26s/it]\n"
     ]
    },
    {
     "name": "stdout",
     "output_type": "stream",
     "text": [
      "Visiting https://www.domain.com.au/rent/?ptype=apartment&bedrooms=2&postcode=3128&sort=dateupdated-desc&page=1\n"
     ]
    },
    {
     "name": "stderr",
     "output_type": "stream",
     "text": [
      "Processing Part 2, Postcode 3128: 100%|█████████████████████████████████████████████████| 20/20 [00:25<00:00,  1.28s/it]\n"
     ]
    },
    {
     "name": "stdout",
     "output_type": "stream",
     "text": [
      "Visiting https://www.domain.com.au/rent/?ptype=apartment&bedrooms=3&postcode=3128&sort=dateupdated-desc&page=1\n"
     ]
    },
    {
     "name": "stderr",
     "output_type": "stream",
     "text": [
      "Processing Part 2, Postcode 3128: 100%|███████████████████████████████████████████████████| 6/6 [00:12<00:00,  2.01s/it]\n"
     ]
    },
    {
     "name": "stdout",
     "output_type": "stream",
     "text": [
      "Visiting https://www.domain.com.au/rent/?ptype=house&bedrooms=2&postcode=3128&sort=dateupdated-desc&page=1\n"
     ]
    },
    {
     "name": "stderr",
     "output_type": "stream",
     "text": [
      "Processing Part 2, Postcode 3128: 100%|███████████████████████████████████████████████████| 4/4 [00:04<00:00,  1.22s/it]\n"
     ]
    },
    {
     "name": "stdout",
     "output_type": "stream",
     "text": [
      "Visiting https://www.domain.com.au/rent/?ptype=house&bedrooms=3&postcode=3128&sort=dateupdated-desc&page=1\n"
     ]
    },
    {
     "name": "stderr",
     "output_type": "stream",
     "text": [
      "Processing Part 2, Postcode 3128: 100%|███████████████████████████████████████████████████| 6/6 [00:07<00:00,  1.25s/it]\n"
     ]
    },
    {
     "name": "stdout",
     "output_type": "stream",
     "text": [
      "Visiting https://www.domain.com.au/rent/?ptype=house&bedrooms=4&postcode=3128&sort=dateupdated-desc&page=1\n"
     ]
    },
    {
     "name": "stderr",
     "output_type": "stream",
     "text": [
      "Processing Part 2, Postcode 3128: 100%|███████████████████████████████████████████████████| 4/4 [00:05<00:00,  1.26s/it]\n"
     ]
    },
    {
     "name": "stdout",
     "output_type": "stream",
     "text": [
      "Visiting https://www.domain.com.au/rent/?ptype=apartment&bedrooms=1&postcode=3129&sort=dateupdated-desc&page=1\n",
      "No results found on page https://www.domain.com.au/rent/?ptype=apartment&bedrooms=1&postcode=3129&sort=dateupdated-desc&page=1\n"
     ]
    },
    {
     "name": "stderr",
     "output_type": "stream",
     "text": [
      "Processing Part 2, Postcode 3129: 0it [00:00, ?it/s]"
     ]
    },
    {
     "name": "stdout",
     "output_type": "stream",
     "text": [
      "Visiting https://www.domain.com.au/rent/?ptype=apartment&bedrooms=2&postcode=3129&sort=dateupdated-desc&page=1\n"
     ]
    },
    {
     "name": "stderr",
     "output_type": "stream",
     "text": [
      "\n",
      "Processing Part 2, Postcode 3129: 100%|█████████████████████████████████████████████████| 10/10 [00:13<00:00,  1.33s/it]\n"
     ]
    },
    {
     "name": "stdout",
     "output_type": "stream",
     "text": [
      "Visiting https://www.domain.com.au/rent/?ptype=apartment&bedrooms=3&postcode=3129&sort=dateupdated-desc&page=1\n"
     ]
    },
    {
     "name": "stderr",
     "output_type": "stream",
     "text": [
      "Processing Part 2, Postcode 3129: 100%|███████████████████████████████████████████████████| 4/4 [00:05<00:00,  1.26s/it]\n"
     ]
    },
    {
     "name": "stdout",
     "output_type": "stream",
     "text": [
      "Visiting https://www.domain.com.au/rent/?ptype=house&bedrooms=2&postcode=3129&sort=dateupdated-desc&page=1\n",
      "No results found on page https://www.domain.com.au/rent/?ptype=house&bedrooms=2&postcode=3129&sort=dateupdated-desc&page=1\n"
     ]
    },
    {
     "name": "stderr",
     "output_type": "stream",
     "text": [
      "Processing Part 2, Postcode 3129: 0it [00:00, ?it/s]"
     ]
    },
    {
     "name": "stdout",
     "output_type": "stream",
     "text": [
      "Visiting https://www.domain.com.au/rent/?ptype=house&bedrooms=3&postcode=3129&sort=dateupdated-desc&page=1\n"
     ]
    },
    {
     "name": "stderr",
     "output_type": "stream",
     "text": [
      "\n",
      "Processing Part 2, Postcode 3129: 100%|███████████████████████████████████████████████████| 8/8 [00:08<00:00,  1.11s/it]\n"
     ]
    },
    {
     "name": "stdout",
     "output_type": "stream",
     "text": [
      "Visiting https://www.domain.com.au/rent/?ptype=house&bedrooms=4&postcode=3129&sort=dateupdated-desc&page=1\n"
     ]
    },
    {
     "name": "stderr",
     "output_type": "stream",
     "text": [
      "Processing Part 2, Postcode 3129: 100%|███████████████████████████████████████████████████| 7/7 [00:08<00:00,  1.25s/it]\n"
     ]
    },
    {
     "name": "stdout",
     "output_type": "stream",
     "text": [
      "Visiting https://www.domain.com.au/rent/?ptype=apartment&bedrooms=1&postcode=3105&sort=dateupdated-desc&page=1\n"
     ]
    },
    {
     "name": "stderr",
     "output_type": "stream",
     "text": [
      "Processing Part 2, Postcode 3105: 100%|███████████████████████████████████████████████████| 1/1 [00:01<00:00,  1.14s/it]\n"
     ]
    },
    {
     "name": "stdout",
     "output_type": "stream",
     "text": [
      "Visiting https://www.domain.com.au/rent/?ptype=apartment&bedrooms=2&postcode=3105&sort=dateupdated-desc&page=1\n"
     ]
    },
    {
     "name": "stderr",
     "output_type": "stream",
     "text": [
      "Processing Part 2, Postcode 3105: 100%|███████████████████████████████████████████████████| 4/4 [00:05<00:00,  1.41s/it]\n"
     ]
    },
    {
     "name": "stdout",
     "output_type": "stream",
     "text": [
      "Visiting https://www.domain.com.au/rent/?ptype=apartment&bedrooms=3&postcode=3105&sort=dateupdated-desc&page=1\n"
     ]
    },
    {
     "name": "stderr",
     "output_type": "stream",
     "text": [
      "Processing Part 2, Postcode 3105: 100%|███████████████████████████████████████████████████| 1/1 [00:01<00:00,  1.63s/it]\n"
     ]
    },
    {
     "name": "stdout",
     "output_type": "stream",
     "text": [
      "Visiting https://www.domain.com.au/rent/?ptype=house&bedrooms=2&postcode=3105&sort=dateupdated-desc&page=1\n",
      "No results found on page https://www.domain.com.au/rent/?ptype=house&bedrooms=2&postcode=3105&sort=dateupdated-desc&page=1\n"
     ]
    },
    {
     "name": "stderr",
     "output_type": "stream",
     "text": [
      "Processing Part 2, Postcode 3105: 0it [00:00, ?it/s]"
     ]
    },
    {
     "name": "stdout",
     "output_type": "stream",
     "text": [
      "Visiting https://www.domain.com.au/rent/?ptype=house&bedrooms=3&postcode=3105&sort=dateupdated-desc&page=1\n"
     ]
    },
    {
     "name": "stderr",
     "output_type": "stream",
     "text": [
      "\n",
      "Processing Part 2, Postcode 3105: 100%|███████████████████████████████████████████████████| 4/4 [00:04<00:00,  1.16s/it]\n"
     ]
    },
    {
     "name": "stdout",
     "output_type": "stream",
     "text": [
      "Visiting https://www.domain.com.au/rent/?ptype=house&bedrooms=4&postcode=3105&sort=dateupdated-desc&page=1\n"
     ]
    },
    {
     "name": "stderr",
     "output_type": "stream",
     "text": [
      "Processing Part 2, Postcode 3105: 100%|███████████████████████████████████████████████████| 4/4 [00:05<00:00,  1.36s/it]\n"
     ]
    },
    {
     "name": "stdout",
     "output_type": "stream",
     "text": [
      "Visiting https://www.domain.com.au/rent/?ptype=apartment&bedrooms=1&postcode=3106&sort=dateupdated-desc&page=1\n",
      "No results found on page https://www.domain.com.au/rent/?ptype=apartment&bedrooms=1&postcode=3106&sort=dateupdated-desc&page=1\n"
     ]
    },
    {
     "name": "stderr",
     "output_type": "stream",
     "text": [
      "Processing Part 2, Postcode 3106: 0it [00:00, ?it/s]"
     ]
    },
    {
     "name": "stdout",
     "output_type": "stream",
     "text": [
      "Visiting https://www.domain.com.au/rent/?ptype=apartment&bedrooms=2&postcode=3106&sort=dateupdated-desc&page=1\n"
     ]
    },
    {
     "name": "stderr",
     "output_type": "stream",
     "text": [
      "\n",
      "Processing Part 2, Postcode 3106: 100%|███████████████████████████████████████████████████| 3/3 [00:05<00:00,  1.94s/it]\n"
     ]
    },
    {
     "name": "stdout",
     "output_type": "stream",
     "text": [
      "Visiting https://www.domain.com.au/rent/?ptype=apartment&bedrooms=3&postcode=3106&sort=dateupdated-desc&page=1\n",
      "No results found on page https://www.domain.com.au/rent/?ptype=apartment&bedrooms=3&postcode=3106&sort=dateupdated-desc&page=1\n"
     ]
    },
    {
     "name": "stderr",
     "output_type": "stream",
     "text": [
      "Processing Part 2, Postcode 3106: 0it [00:00, ?it/s]"
     ]
    },
    {
     "name": "stdout",
     "output_type": "stream",
     "text": [
      "Visiting https://www.domain.com.au/rent/?ptype=house&bedrooms=2&postcode=3106&sort=dateupdated-desc&page=1\n"
     ]
    },
    {
     "name": "stderr",
     "output_type": "stream",
     "text": [
      "\n"
     ]
    },
    {
     "name": "stdout",
     "output_type": "stream",
     "text": [
      "No results found on page https://www.domain.com.au/rent/?ptype=house&bedrooms=2&postcode=3106&sort=dateupdated-desc&page=1\n"
     ]
    },
    {
     "name": "stderr",
     "output_type": "stream",
     "text": [
      "Processing Part 2, Postcode 3106: 0it [00:00, ?it/s]"
     ]
    },
    {
     "name": "stdout",
     "output_type": "stream",
     "text": [
      "Visiting https://www.domain.com.au/rent/?ptype=house&bedrooms=3&postcode=3106&sort=dateupdated-desc&page=1\n"
     ]
    },
    {
     "name": "stderr",
     "output_type": "stream",
     "text": [
      "\n",
      "Processing Part 2, Postcode 3106: 100%|███████████████████████████████████████████████████| 1/1 [00:01<00:00,  1.03s/it]\n"
     ]
    },
    {
     "name": "stdout",
     "output_type": "stream",
     "text": [
      "Visiting https://www.domain.com.au/rent/?ptype=house&bedrooms=4&postcode=3106&sort=dateupdated-desc&page=1\n"
     ]
    },
    {
     "name": "stderr",
     "output_type": "stream",
     "text": [
      "Processing Part 2, Postcode 3106: 100%|███████████████████████████████████████████████████| 9/9 [00:12<00:00,  1.35s/it]\n"
     ]
    },
    {
     "name": "stdout",
     "output_type": "stream",
     "text": [
      "Visiting https://www.domain.com.au/rent/?ptype=apartment&bedrooms=1&postcode=3107&sort=dateupdated-desc&page=1\n",
      "No results found on page https://www.domain.com.au/rent/?ptype=apartment&bedrooms=1&postcode=3107&sort=dateupdated-desc&page=1\n"
     ]
    },
    {
     "name": "stderr",
     "output_type": "stream",
     "text": [
      "Processing Part 2, Postcode 3107: 0it [00:00, ?it/s]"
     ]
    },
    {
     "name": "stdout",
     "output_type": "stream",
     "text": [
      "Visiting https://www.domain.com.au/rent/?ptype=apartment&bedrooms=2&postcode=3107&sort=dateupdated-desc&page=1\n"
     ]
    },
    {
     "name": "stderr",
     "output_type": "stream",
     "text": [
      "\n",
      "Processing Part 2, Postcode 3107: 100%|███████████████████████████████████████████████████| 1/1 [00:01<00:00,  1.17s/it]\n"
     ]
    },
    {
     "name": "stdout",
     "output_type": "stream",
     "text": [
      "Visiting https://www.domain.com.au/rent/?ptype=apartment&bedrooms=3&postcode=3107&sort=dateupdated-desc&page=1\n",
      "No results found on page https://www.domain.com.au/rent/?ptype=apartment&bedrooms=3&postcode=3107&sort=dateupdated-desc&page=1\n"
     ]
    },
    {
     "name": "stderr",
     "output_type": "stream",
     "text": [
      "Processing Part 2, Postcode 3107: 0it [00:00, ?it/s]"
     ]
    },
    {
     "name": "stdout",
     "output_type": "stream",
     "text": [
      "Visiting https://www.domain.com.au/rent/?ptype=house&bedrooms=2&postcode=3107&sort=dateupdated-desc&page=1\n"
     ]
    },
    {
     "name": "stderr",
     "output_type": "stream",
     "text": [
      "\n"
     ]
    },
    {
     "name": "stdout",
     "output_type": "stream",
     "text": [
      "No results found on page https://www.domain.com.au/rent/?ptype=house&bedrooms=2&postcode=3107&sort=dateupdated-desc&page=1\n"
     ]
    },
    {
     "name": "stderr",
     "output_type": "stream",
     "text": [
      "Processing Part 2, Postcode 3107: 0it [00:00, ?it/s]"
     ]
    },
    {
     "name": "stdout",
     "output_type": "stream",
     "text": [
      "Visiting https://www.domain.com.au/rent/?ptype=house&bedrooms=3&postcode=3107&sort=dateupdated-desc&page=1\n"
     ]
    },
    {
     "name": "stderr",
     "output_type": "stream",
     "text": [
      "\n",
      "Processing Part 2, Postcode 3107: 100%|███████████████████████████████████████████████████| 3/3 [00:06<00:00,  2.32s/it]\n"
     ]
    },
    {
     "name": "stdout",
     "output_type": "stream",
     "text": [
      "Visiting https://www.domain.com.au/rent/?ptype=house&bedrooms=4&postcode=3107&sort=dateupdated-desc&page=1\n"
     ]
    },
    {
     "name": "stderr",
     "output_type": "stream",
     "text": [
      "Processing Part 2, Postcode 3107: 100%|███████████████████████████████████████████████████| 6/6 [00:07<00:00,  1.23s/it]\n"
     ]
    },
    {
     "name": "stdout",
     "output_type": "stream",
     "text": [
      "Visiting https://www.domain.com.au/rent/?ptype=apartment&bedrooms=1&postcode=3108&sort=dateupdated-desc&page=1\n"
     ]
    },
    {
     "name": "stderr",
     "output_type": "stream",
     "text": [
      "Processing Part 2, Postcode 3108: 100%|███████████████████████████████████████████████████| 6/6 [00:09<00:00,  1.66s/it]\n"
     ]
    },
    {
     "name": "stdout",
     "output_type": "stream",
     "text": [
      "Visiting https://www.domain.com.au/rent/?ptype=apartment&bedrooms=2&postcode=3108&sort=dateupdated-desc&page=1\n"
     ]
    },
    {
     "name": "stderr",
     "output_type": "stream",
     "text": [
      "Processing Part 2, Postcode 3108: 100%|█████████████████████████████████████████████████| 20/20 [00:24<00:00,  1.20s/it]\n"
     ]
    },
    {
     "name": "stdout",
     "output_type": "stream",
     "text": [
      "Visiting https://www.domain.com.au/rent/?ptype=apartment&bedrooms=3&postcode=3108&sort=dateupdated-desc&page=1\n"
     ]
    },
    {
     "name": "stderr",
     "output_type": "stream",
     "text": [
      "Processing Part 2, Postcode 3108: 100%|███████████████████████████████████████████████████| 9/9 [00:11<00:00,  1.28s/it]\n"
     ]
    },
    {
     "name": "stdout",
     "output_type": "stream",
     "text": [
      "Visiting https://www.domain.com.au/rent/?ptype=house&bedrooms=2&postcode=3108&sort=dateupdated-desc&page=1\n"
     ]
    },
    {
     "name": "stderr",
     "output_type": "stream",
     "text": [
      "Processing Part 2, Postcode 3108: 100%|███████████████████████████████████████████████████| 1/1 [00:01<00:00,  1.10s/it]\n"
     ]
    },
    {
     "name": "stdout",
     "output_type": "stream",
     "text": [
      "Visiting https://www.domain.com.au/rent/?ptype=house&bedrooms=3&postcode=3108&sort=dateupdated-desc&page=1\n"
     ]
    },
    {
     "name": "stderr",
     "output_type": "stream",
     "text": [
      "Processing Part 2, Postcode 3108: 100%|█████████████████████████████████████████████████| 10/10 [00:11<00:00,  1.18s/it]\n"
     ]
    },
    {
     "name": "stdout",
     "output_type": "stream",
     "text": [
      "Visiting https://www.domain.com.au/rent/?ptype=house&bedrooms=4&postcode=3108&sort=dateupdated-desc&page=1\n"
     ]
    },
    {
     "name": "stderr",
     "output_type": "stream",
     "text": [
      "Processing Part 2, Postcode 3108: 100%|███████████████████████████████████████████████████| 9/9 [00:10<00:00,  1.12s/it]\n"
     ]
    },
    {
     "name": "stdout",
     "output_type": "stream",
     "text": [
      "Visiting https://www.domain.com.au/rent/?ptype=apartment&bedrooms=1&postcode=3125&sort=dateupdated-desc&page=1\n"
     ]
    },
    {
     "name": "stderr",
     "output_type": "stream",
     "text": [
      "Processing Part 2, Postcode 3125: 100%|█████████████████████████████████████████████████| 20/20 [00:24<00:00,  1.20s/it]\n"
     ]
    },
    {
     "name": "stdout",
     "output_type": "stream",
     "text": [
      "Visiting https://www.domain.com.au/rent/?ptype=apartment&bedrooms=2&postcode=3125&sort=dateupdated-desc&page=1\n"
     ]
    },
    {
     "name": "stderr",
     "output_type": "stream",
     "text": [
      "Processing Part 2, Postcode 3125: 100%|█████████████████████████████████████████████████| 15/15 [00:19<00:00,  1.28s/it]\n"
     ]
    },
    {
     "name": "stdout",
     "output_type": "stream",
     "text": [
      "Visiting https://www.domain.com.au/rent/?ptype=apartment&bedrooms=3&postcode=3125&sort=dateupdated-desc&page=1\n"
     ]
    },
    {
     "name": "stderr",
     "output_type": "stream",
     "text": [
      "Processing Part 2, Postcode 3125: 100%|███████████████████████████████████████████████████| 1/1 [00:01<00:00,  1.04s/it]\n"
     ]
    },
    {
     "name": "stdout",
     "output_type": "stream",
     "text": [
      "Visiting https://www.domain.com.au/rent/?ptype=house&bedrooms=2&postcode=3125&sort=dateupdated-desc&page=1\n",
      "No results found on page https://www.domain.com.au/rent/?ptype=house&bedrooms=2&postcode=3125&sort=dateupdated-desc&page=1\n"
     ]
    },
    {
     "name": "stderr",
     "output_type": "stream",
     "text": [
      "Processing Part 2, Postcode 3125: 0it [00:00, ?it/s]"
     ]
    },
    {
     "name": "stdout",
     "output_type": "stream",
     "text": [
      "Visiting https://www.domain.com.au/rent/?ptype=house&bedrooms=3&postcode=3125&sort=dateupdated-desc&page=1\n"
     ]
    },
    {
     "name": "stderr",
     "output_type": "stream",
     "text": [
      "\n",
      "Processing Part 2, Postcode 3125: 100%|███████████████████████████████████████████████████| 4/4 [00:04<00:00,  1.20s/it]\n"
     ]
    },
    {
     "name": "stdout",
     "output_type": "stream",
     "text": [
      "Visiting https://www.domain.com.au/rent/?ptype=house&bedrooms=4&postcode=3125&sort=dateupdated-desc&page=1\n"
     ]
    },
    {
     "name": "stderr",
     "output_type": "stream",
     "text": [
      "Processing Part 2, Postcode 3125: 100%|███████████████████████████████████████████████████| 4/4 [00:04<00:00,  1.15s/it]\n"
     ]
    },
    {
     "name": "stdout",
     "output_type": "stream",
     "text": [
      "Visiting https://www.domain.com.au/rent/?ptype=apartment&bedrooms=1&postcode=3147&sort=dateupdated-desc&page=1\n"
     ]
    },
    {
     "name": "stderr",
     "output_type": "stream",
     "text": [
      "Processing Part 2, Postcode 3147: 100%|███████████████████████████████████████████████████| 1/1 [00:01<00:00,  1.57s/it]\n"
     ]
    },
    {
     "name": "stdout",
     "output_type": "stream",
     "text": [
      "Visiting https://www.domain.com.au/rent/?ptype=apartment&bedrooms=2&postcode=3147&sort=dateupdated-desc&page=1\n"
     ]
    },
    {
     "name": "stderr",
     "output_type": "stream",
     "text": [
      "Processing Part 2, Postcode 3147: 100%|███████████████████████████████████████████████████| 5/5 [00:06<00:00,  1.39s/it]\n"
     ]
    },
    {
     "name": "stdout",
     "output_type": "stream",
     "text": [
      "Visiting https://www.domain.com.au/rent/?ptype=apartment&bedrooms=3&postcode=3147&sort=dateupdated-desc&page=1\n",
      "No results found on page https://www.domain.com.au/rent/?ptype=apartment&bedrooms=3&postcode=3147&sort=dateupdated-desc&page=1\n"
     ]
    },
    {
     "name": "stderr",
     "output_type": "stream",
     "text": [
      "Processing Part 2, Postcode 3147: 0it [00:00, ?it/s]"
     ]
    },
    {
     "name": "stdout",
     "output_type": "stream",
     "text": [
      "Visiting https://www.domain.com.au/rent/?ptype=house&bedrooms=2&postcode=3147&sort=dateupdated-desc&page=1\n"
     ]
    },
    {
     "name": "stderr",
     "output_type": "stream",
     "text": [
      "\n",
      "Processing Part 2, Postcode 3147: 100%|███████████████████████████████████████████████████| 2/2 [00:04<00:00,  2.23s/it]\n"
     ]
    },
    {
     "name": "stdout",
     "output_type": "stream",
     "text": [
      "Visiting https://www.domain.com.au/rent/?ptype=house&bedrooms=3&postcode=3147&sort=dateupdated-desc&page=1\n"
     ]
    },
    {
     "name": "stderr",
     "output_type": "stream",
     "text": [
      "Processing Part 2, Postcode 3147: 100%|███████████████████████████████████████████████████| 5/5 [00:05<00:00,  1.18s/it]\n"
     ]
    },
    {
     "name": "stdout",
     "output_type": "stream",
     "text": [
      "Visiting https://www.domain.com.au/rent/?ptype=house&bedrooms=4&postcode=3147&sort=dateupdated-desc&page=1\n"
     ]
    },
    {
     "name": "stderr",
     "output_type": "stream",
     "text": [
      "Processing Part 2, Postcode 3147: 100%|███████████████████████████████████████████████████| 7/7 [00:08<00:00,  1.23s/it]\n"
     ]
    },
    {
     "name": "stdout",
     "output_type": "stream",
     "text": [
      "Visiting https://www.domain.com.au/rent/?ptype=apartment&bedrooms=1&postcode=3124&sort=dateupdated-desc&page=1\n"
     ]
    },
    {
     "name": "stderr",
     "output_type": "stream",
     "text": [
      "Processing Part 2, Postcode 3124: 100%|███████████████████████████████████████████████████| 7/7 [00:11<00:00,  1.60s/it]\n"
     ]
    },
    {
     "name": "stdout",
     "output_type": "stream",
     "text": [
      "Visiting https://www.domain.com.au/rent/?ptype=apartment&bedrooms=2&postcode=3124&sort=dateupdated-desc&page=1\n"
     ]
    },
    {
     "name": "stderr",
     "output_type": "stream",
     "text": [
      "Processing Part 2, Postcode 3124: 100%|█████████████████████████████████████████████████| 20/20 [00:26<00:00,  1.31s/it]\n"
     ]
    },
    {
     "name": "stdout",
     "output_type": "stream",
     "text": [
      "Visiting https://www.domain.com.au/rent/?ptype=apartment&bedrooms=3&postcode=3124&sort=dateupdated-desc&page=1\n"
     ]
    },
    {
     "name": "stderr",
     "output_type": "stream",
     "text": [
      "Processing Part 2, Postcode 3124: 100%|███████████████████████████████████████████████████| 4/4 [00:05<00:00,  1.41s/it]\n"
     ]
    },
    {
     "name": "stdout",
     "output_type": "stream",
     "text": [
      "Visiting https://www.domain.com.au/rent/?ptype=house&bedrooms=2&postcode=3124&sort=dateupdated-desc&page=1\n",
      "No results found on page https://www.domain.com.au/rent/?ptype=house&bedrooms=2&postcode=3124&sort=dateupdated-desc&page=1\n"
     ]
    },
    {
     "name": "stderr",
     "output_type": "stream",
     "text": [
      "Processing Part 2, Postcode 3124: 0it [00:00, ?it/s]"
     ]
    },
    {
     "name": "stdout",
     "output_type": "stream",
     "text": [
      "Visiting https://www.domain.com.au/rent/?ptype=house&bedrooms=3&postcode=3124&sort=dateupdated-desc&page=1\n"
     ]
    },
    {
     "name": "stderr",
     "output_type": "stream",
     "text": [
      "\n",
      "Processing Part 2, Postcode 3124: 100%|███████████████████████████████████████████████████| 6/6 [00:06<00:00,  1.13s/it]\n"
     ]
    },
    {
     "name": "stdout",
     "output_type": "stream",
     "text": [
      "Visiting https://www.domain.com.au/rent/?ptype=house&bedrooms=4&postcode=3124&sort=dateupdated-desc&page=1\n"
     ]
    },
    {
     "name": "stderr",
     "output_type": "stream",
     "text": [
      "Processing Part 2, Postcode 3124: 100%|███████████████████████████████████████████████████| 9/9 [00:11<00:00,  1.28s/it]\n"
     ]
    },
    {
     "name": "stdout",
     "output_type": "stream",
     "text": [
      "Visiting https://www.domain.com.au/rent/?ptype=apartment&bedrooms=1&postcode=3146&sort=dateupdated-desc&page=1\n"
     ]
    },
    {
     "name": "stderr",
     "output_type": "stream",
     "text": [
      "Processing Part 2, Postcode 3146: 100%|███████████████████████████████████████████████████| 9/9 [00:11<00:00,  1.25s/it]\n"
     ]
    },
    {
     "name": "stdout",
     "output_type": "stream",
     "text": [
      "Visiting https://www.domain.com.au/rent/?ptype=apartment&bedrooms=2&postcode=3146&sort=dateupdated-desc&page=1\n"
     ]
    },
    {
     "name": "stderr",
     "output_type": "stream",
     "text": [
      "Processing Part 2, Postcode 3146: 100%|█████████████████████████████████████████████████| 20/20 [00:26<00:00,  1.33s/it]\n"
     ]
    },
    {
     "name": "stdout",
     "output_type": "stream",
     "text": [
      "Visiting https://www.domain.com.au/rent/?ptype=apartment&bedrooms=3&postcode=3146&sort=dateupdated-desc&page=1\n"
     ]
    },
    {
     "name": "stderr",
     "output_type": "stream",
     "text": [
      "Processing Part 2, Postcode 3146: 100%|███████████████████████████████████████████████████| 4/4 [00:04<00:00,  1.03s/it]\n"
     ]
    },
    {
     "name": "stdout",
     "output_type": "stream",
     "text": [
      "Visiting https://www.domain.com.au/rent/?ptype=house&bedrooms=2&postcode=3146&sort=dateupdated-desc&page=1\n"
     ]
    },
    {
     "name": "stderr",
     "output_type": "stream",
     "text": [
      "Processing Part 2, Postcode 3146: 100%|███████████████████████████████████████████████████| 3/3 [00:03<00:00,  1.27s/it]\n"
     ]
    },
    {
     "name": "stdout",
     "output_type": "stream",
     "text": [
      "Visiting https://www.domain.com.au/rent/?ptype=house&bedrooms=3&postcode=3146&sort=dateupdated-desc&page=1\n"
     ]
    },
    {
     "name": "stderr",
     "output_type": "stream",
     "text": [
      "Processing Part 2, Postcode 3146: 100%|███████████████████████████████████████████████████| 9/9 [00:10<00:00,  1.20s/it]\n"
     ]
    },
    {
     "name": "stdout",
     "output_type": "stream",
     "text": [
      "Visiting https://www.domain.com.au/rent/?ptype=house&bedrooms=4&postcode=3146&sort=dateupdated-desc&page=1\n"
     ]
    },
    {
     "name": "stderr",
     "output_type": "stream",
     "text": [
      "Processing Part 2, Postcode 3146: 100%|███████████████████████████████████████████████████| 4/4 [00:07<00:00,  1.97s/it]\n"
     ]
    },
    {
     "name": "stdout",
     "output_type": "stream",
     "text": [
      "Visiting https://www.domain.com.au/rent/?ptype=apartment&bedrooms=1&postcode=3126&sort=dateupdated-desc&page=1\n",
      "No results found on page https://www.domain.com.au/rent/?ptype=apartment&bedrooms=1&postcode=3126&sort=dateupdated-desc&page=1\n"
     ]
    },
    {
     "name": "stderr",
     "output_type": "stream",
     "text": [
      "Processing Part 2, Postcode 3126: 0it [00:00, ?it/s]"
     ]
    },
    {
     "name": "stdout",
     "output_type": "stream",
     "text": [
      "Visiting https://www.domain.com.au/rent/?ptype=apartment&bedrooms=2&postcode=3126&sort=dateupdated-desc&page=1\n"
     ]
    },
    {
     "name": "stderr",
     "output_type": "stream",
     "text": [
      "\n",
      "Processing Part 2, Postcode 3126: 100%|███████████████████████████████████████████████████| 3/3 [00:03<00:00,  1.29s/it]\n"
     ]
    },
    {
     "name": "stdout",
     "output_type": "stream",
     "text": [
      "Visiting https://www.domain.com.au/rent/?ptype=apartment&bedrooms=3&postcode=3126&sort=dateupdated-desc&page=1\n"
     ]
    },
    {
     "name": "stderr",
     "output_type": "stream",
     "text": [
      "Processing Part 2, Postcode 3126: 100%|███████████████████████████████████████████████████| 1/1 [00:01<00:00,  1.06s/it]\n"
     ]
    },
    {
     "name": "stdout",
     "output_type": "stream",
     "text": [
      "Visiting https://www.domain.com.au/rent/?ptype=house&bedrooms=2&postcode=3126&sort=dateupdated-desc&page=1\n",
      "No results found on page https://www.domain.com.au/rent/?ptype=house&bedrooms=2&postcode=3126&sort=dateupdated-desc&page=1\n"
     ]
    },
    {
     "name": "stderr",
     "output_type": "stream",
     "text": [
      "Processing Part 2, Postcode 3126: 0it [00:00, ?it/s]"
     ]
    },
    {
     "name": "stdout",
     "output_type": "stream",
     "text": [
      "Visiting https://www.domain.com.au/rent/?ptype=house&bedrooms=3&postcode=3126&sort=dateupdated-desc&page=1\n"
     ]
    },
    {
     "name": "stderr",
     "output_type": "stream",
     "text": [
      "\n",
      "Processing Part 2, Postcode 3126: 100%|███████████████████████████████████████████████████| 2/2 [00:02<00:00,  1.22s/it]\n"
     ]
    },
    {
     "name": "stdout",
     "output_type": "stream",
     "text": [
      "Visiting https://www.domain.com.au/rent/?ptype=house&bedrooms=4&postcode=3126&sort=dateupdated-desc&page=1\n"
     ]
    },
    {
     "name": "stderr",
     "output_type": "stream",
     "text": [
      "Processing Part 2, Postcode 3126: 100%|█████████████████████████████████████████████████| 10/10 [00:13<00:00,  1.38s/it]\n"
     ]
    },
    {
     "name": "stdout",
     "output_type": "stream",
     "text": [
      "Visiting https://www.domain.com.au/rent/?ptype=apartment&bedrooms=1&postcode=3125&sort=dateupdated-desc&page=1\n"
     ]
    },
    {
     "name": "stderr",
     "output_type": "stream",
     "text": [
      "Processing Part 2, Postcode 3125: 100%|█████████████████████████████████████████████████| 20/20 [00:22<00:00,  1.13s/it]\n"
     ]
    },
    {
     "name": "stdout",
     "output_type": "stream",
     "text": [
      "Visiting https://www.domain.com.au/rent/?ptype=apartment&bedrooms=2&postcode=3125&sort=dateupdated-desc&page=1\n"
     ]
    },
    {
     "name": "stderr",
     "output_type": "stream",
     "text": [
      "Processing Part 2, Postcode 3125: 100%|█████████████████████████████████████████████████| 15/15 [00:17<00:00,  1.17s/it]\n"
     ]
    },
    {
     "name": "stdout",
     "output_type": "stream",
     "text": [
      "Visiting https://www.domain.com.au/rent/?ptype=apartment&bedrooms=3&postcode=3125&sort=dateupdated-desc&page=1\n"
     ]
    },
    {
     "name": "stderr",
     "output_type": "stream",
     "text": [
      "Processing Part 2, Postcode 3125: 100%|███████████████████████████████████████████████████| 1/1 [00:01<00:00,  1.34s/it]\n"
     ]
    },
    {
     "name": "stdout",
     "output_type": "stream",
     "text": [
      "Visiting https://www.domain.com.au/rent/?ptype=house&bedrooms=2&postcode=3125&sort=dateupdated-desc&page=1\n",
      "No results found on page https://www.domain.com.au/rent/?ptype=house&bedrooms=2&postcode=3125&sort=dateupdated-desc&page=1\n"
     ]
    },
    {
     "name": "stderr",
     "output_type": "stream",
     "text": [
      "Processing Part 2, Postcode 3125: 0it [00:00, ?it/s]"
     ]
    },
    {
     "name": "stdout",
     "output_type": "stream",
     "text": [
      "Visiting https://www.domain.com.au/rent/?ptype=house&bedrooms=3&postcode=3125&sort=dateupdated-desc&page=1\n"
     ]
    },
    {
     "name": "stderr",
     "output_type": "stream",
     "text": [
      "\n",
      "Processing Part 2, Postcode 3125: 100%|███████████████████████████████████████████████████| 4/4 [00:04<00:00,  1.24s/it]\n"
     ]
    },
    {
     "name": "stdout",
     "output_type": "stream",
     "text": [
      "Visiting https://www.domain.com.au/rent/?ptype=house&bedrooms=4&postcode=3125&sort=dateupdated-desc&page=1\n"
     ]
    },
    {
     "name": "stderr",
     "output_type": "stream",
     "text": [
      "Processing Part 2, Postcode 3125: 100%|███████████████████████████████████████████████████| 4/4 [00:05<00:00,  1.48s/it]\n"
     ]
    },
    {
     "name": "stdout",
     "output_type": "stream",
     "text": [
      "Visiting https://www.domain.com.au/rent/?ptype=apartment&bedrooms=1&postcode=3127&sort=dateupdated-desc&page=1\n"
     ]
    },
    {
     "name": "stderr",
     "output_type": "stream",
     "text": [
      "Processing Part 2, Postcode 3127: 100%|███████████████████████████████████████████████████| 1/1 [00:01<00:00,  1.34s/it]\n"
     ]
    },
    {
     "name": "stdout",
     "output_type": "stream",
     "text": [
      "Visiting https://www.domain.com.au/rent/?ptype=apartment&bedrooms=2&postcode=3127&sort=dateupdated-desc&page=1\n"
     ]
    },
    {
     "name": "stderr",
     "output_type": "stream",
     "text": [
      "Processing Part 2, Postcode 3127: 100%|█████████████████████████████████████████████████| 11/11 [00:13<00:00,  1.25s/it]\n"
     ]
    },
    {
     "name": "stdout",
     "output_type": "stream",
     "text": [
      "Visiting https://www.domain.com.au/rent/?ptype=apartment&bedrooms=3&postcode=3127&sort=dateupdated-desc&page=1\n"
     ]
    },
    {
     "name": "stderr",
     "output_type": "stream",
     "text": [
      "Processing Part 2, Postcode 3127: 100%|███████████████████████████████████████████████████| 2/2 [00:02<00:00,  1.26s/it]\n"
     ]
    },
    {
     "name": "stdout",
     "output_type": "stream",
     "text": [
      "Visiting https://www.domain.com.au/rent/?ptype=house&bedrooms=2&postcode=3127&sort=dateupdated-desc&page=1\n"
     ]
    },
    {
     "name": "stderr",
     "output_type": "stream",
     "text": [
      "Processing Part 2, Postcode 3127: 100%|███████████████████████████████████████████████████| 1/1 [00:01<00:00,  1.06s/it]\n"
     ]
    },
    {
     "name": "stdout",
     "output_type": "stream",
     "text": [
      "Visiting https://www.domain.com.au/rent/?ptype=house&bedrooms=3&postcode=3127&sort=dateupdated-desc&page=1\n"
     ]
    },
    {
     "name": "stderr",
     "output_type": "stream",
     "text": [
      "Processing Part 2, Postcode 3127: 100%|███████████████████████████████████████████████████| 8/8 [00:08<00:00,  1.09s/it]\n"
     ]
    },
    {
     "name": "stdout",
     "output_type": "stream",
     "text": [
      "Visiting https://www.domain.com.au/rent/?ptype=house&bedrooms=4&postcode=3127&sort=dateupdated-desc&page=1\n"
     ]
    },
    {
     "name": "stderr",
     "output_type": "stream",
     "text": [
      "Processing Part 2, Postcode 3127: 100%|███████████████████████████████████████████████████| 9/9 [00:10<00:00,  1.12s/it]\n"
     ]
    },
    {
     "name": "stdout",
     "output_type": "stream",
     "text": [
      "Visiting https://www.domain.com.au/rent/?ptype=apartment&bedrooms=1&postcode=3129&sort=dateupdated-desc&page=1\n",
      "No results found on page https://www.domain.com.au/rent/?ptype=apartment&bedrooms=1&postcode=3129&sort=dateupdated-desc&page=1\n"
     ]
    },
    {
     "name": "stderr",
     "output_type": "stream",
     "text": [
      "Processing Part 2, Postcode 3129: 0it [00:00, ?it/s]"
     ]
    },
    {
     "name": "stdout",
     "output_type": "stream",
     "text": [
      "Visiting https://www.domain.com.au/rent/?ptype=apartment&bedrooms=2&postcode=3129&sort=dateupdated-desc&page=1\n"
     ]
    },
    {
     "name": "stderr",
     "output_type": "stream",
     "text": [
      "\n",
      "Processing Part 2, Postcode 3129: 100%|█████████████████████████████████████████████████| 10/10 [00:12<00:00,  1.26s/it]\n"
     ]
    },
    {
     "name": "stdout",
     "output_type": "stream",
     "text": [
      "Visiting https://www.domain.com.au/rent/?ptype=apartment&bedrooms=3&postcode=3129&sort=dateupdated-desc&page=1\n"
     ]
    },
    {
     "name": "stderr",
     "output_type": "stream",
     "text": [
      "Processing Part 2, Postcode 3129: 100%|███████████████████████████████████████████████████| 4/4 [00:04<00:00,  1.15s/it]\n"
     ]
    },
    {
     "name": "stdout",
     "output_type": "stream",
     "text": [
      "Visiting https://www.domain.com.au/rent/?ptype=house&bedrooms=2&postcode=3129&sort=dateupdated-desc&page=1\n",
      "No results found on page https://www.domain.com.au/rent/?ptype=house&bedrooms=2&postcode=3129&sort=dateupdated-desc&page=1\n"
     ]
    },
    {
     "name": "stderr",
     "output_type": "stream",
     "text": [
      "Processing Part 2, Postcode 3129: 0it [00:00, ?it/s]"
     ]
    },
    {
     "name": "stdout",
     "output_type": "stream",
     "text": [
      "Visiting https://www.domain.com.au/rent/?ptype=house&bedrooms=3&postcode=3129&sort=dateupdated-desc&page=1\n"
     ]
    },
    {
     "name": "stderr",
     "output_type": "stream",
     "text": [
      "\n",
      "Processing Part 2, Postcode 3129: 100%|███████████████████████████████████████████████████| 8/8 [00:10<00:00,  1.33s/it]\n"
     ]
    },
    {
     "name": "stdout",
     "output_type": "stream",
     "text": [
      "Visiting https://www.domain.com.au/rent/?ptype=house&bedrooms=4&postcode=3129&sort=dateupdated-desc&page=1\n"
     ]
    },
    {
     "name": "stderr",
     "output_type": "stream",
     "text": [
      "Processing Part 2, Postcode 3129: 100%|███████████████████████████████████████████████████| 7/7 [00:08<00:00,  1.28s/it]\n"
     ]
    },
    {
     "name": "stdout",
     "output_type": "stream",
     "text": [
      "Visiting https://www.domain.com.au/rent/?ptype=apartment&bedrooms=1&postcode=3148&sort=dateupdated-desc&page=1\n"
     ]
    },
    {
     "name": "stderr",
     "output_type": "stream",
     "text": [
      "Processing Part 2, Postcode 3148: 100%|███████████████████████████████████████████████████| 1/1 [00:01<00:00,  1.45s/it]\n"
     ]
    },
    {
     "name": "stdout",
     "output_type": "stream",
     "text": [
      "Visiting https://www.domain.com.au/rent/?ptype=apartment&bedrooms=2&postcode=3148&sort=dateupdated-desc&page=1\n"
     ]
    },
    {
     "name": "stderr",
     "output_type": "stream",
     "text": [
      "Processing Part 2, Postcode 3148: 100%|███████████████████████████████████████████████████| 1/1 [00:01<00:00,  1.18s/it]\n"
     ]
    },
    {
     "name": "stdout",
     "output_type": "stream",
     "text": [
      "Visiting https://www.domain.com.au/rent/?ptype=apartment&bedrooms=3&postcode=3148&sort=dateupdated-desc&page=1\n"
     ]
    },
    {
     "name": "stderr",
     "output_type": "stream",
     "text": [
      "Processing Part 2, Postcode 3148: 100%|███████████████████████████████████████████████████| 1/1 [00:01<00:00,  1.12s/it]\n"
     ]
    },
    {
     "name": "stdout",
     "output_type": "stream",
     "text": [
      "Visiting https://www.domain.com.au/rent/?ptype=house&bedrooms=2&postcode=3148&sort=dateupdated-desc&page=1\n",
      "No results found on page https://www.domain.com.au/rent/?ptype=house&bedrooms=2&postcode=3148&sort=dateupdated-desc&page=1\n"
     ]
    },
    {
     "name": "stderr",
     "output_type": "stream",
     "text": [
      "Processing Part 2, Postcode 3148: 0it [00:00, ?it/s]"
     ]
    },
    {
     "name": "stdout",
     "output_type": "stream",
     "text": [
      "Visiting https://www.domain.com.au/rent/?ptype=house&bedrooms=3&postcode=3148&sort=dateupdated-desc&page=1\n"
     ]
    },
    {
     "name": "stderr",
     "output_type": "stream",
     "text": [
      "\n",
      "Processing Part 2, Postcode 3148: 100%|███████████████████████████████████████████████████| 7/7 [00:08<00:00,  1.23s/it]\n"
     ]
    },
    {
     "name": "stdout",
     "output_type": "stream",
     "text": [
      "Visiting https://www.domain.com.au/rent/?ptype=house&bedrooms=4&postcode=3148&sort=dateupdated-desc&page=1\n"
     ]
    },
    {
     "name": "stderr",
     "output_type": "stream",
     "text": [
      "Processing Part 2, Postcode 3148: 100%|███████████████████████████████████████████████████| 2/2 [00:03<00:00,  1.64s/it]\n"
     ]
    },
    {
     "name": "stdout",
     "output_type": "stream",
     "text": [
      "Visiting https://www.domain.com.au/rent/?ptype=apartment&bedrooms=1&postcode=3166&sort=dateupdated-desc&page=1\n"
     ]
    },
    {
     "name": "stderr",
     "output_type": "stream",
     "text": [
      "Processing Part 2, Postcode 3166: 100%|███████████████████████████████████████████████████| 5/5 [00:06<00:00,  1.26s/it]\n"
     ]
    },
    {
     "name": "stdout",
     "output_type": "stream",
     "text": [
      "Visiting https://www.domain.com.au/rent/?ptype=apartment&bedrooms=2&postcode=3166&sort=dateupdated-desc&page=1\n"
     ]
    },
    {
     "name": "stderr",
     "output_type": "stream",
     "text": [
      "Processing Part 2, Postcode 3166: 100%|█████████████████████████████████████████████████| 13/13 [00:14<00:00,  1.15s/it]\n"
     ]
    },
    {
     "name": "stdout",
     "output_type": "stream",
     "text": [
      "Visiting https://www.domain.com.au/rent/?ptype=apartment&bedrooms=3&postcode=3166&sort=dateupdated-desc&page=1\n"
     ]
    },
    {
     "name": "stderr",
     "output_type": "stream",
     "text": [
      "Processing Part 2, Postcode 3166: 100%|███████████████████████████████████████████████████| 2/2 [00:02<00:00,  1.32s/it]\n"
     ]
    },
    {
     "name": "stdout",
     "output_type": "stream",
     "text": [
      "Visiting https://www.domain.com.au/rent/?ptype=house&bedrooms=2&postcode=3166&sort=dateupdated-desc&page=1\n"
     ]
    },
    {
     "name": "stderr",
     "output_type": "stream",
     "text": [
      "Processing Part 2, Postcode 3166: 100%|███████████████████████████████████████████████████| 6/6 [00:07<00:00,  1.19s/it]\n"
     ]
    },
    {
     "name": "stdout",
     "output_type": "stream",
     "text": [
      "Visiting https://www.domain.com.au/rent/?ptype=house&bedrooms=3&postcode=3166&sort=dateupdated-desc&page=1\n"
     ]
    },
    {
     "name": "stderr",
     "output_type": "stream",
     "text": [
      "Processing Part 2, Postcode 3166: 100%|███████████████████████████████████████████████████| 7/7 [00:09<00:00,  1.32s/it]\n"
     ]
    },
    {
     "name": "stdout",
     "output_type": "stream",
     "text": [
      "Visiting https://www.domain.com.au/rent/?ptype=house&bedrooms=4&postcode=3166&sort=dateupdated-desc&page=1\n"
     ]
    },
    {
     "name": "stderr",
     "output_type": "stream",
     "text": [
      "Processing Part 2, Postcode 3166: 100%|███████████████████████████████████████████████████| 2/2 [00:02<00:00,  1.29s/it]\n"
     ]
    },
    {
     "name": "stdout",
     "output_type": "stream",
     "text": [
      "Visiting https://www.domain.com.au/rent/?ptype=apartment&bedrooms=1&postcode=3167&sort=dateupdated-desc&page=1\n",
      "No results found on page https://www.domain.com.au/rent/?ptype=apartment&bedrooms=1&postcode=3167&sort=dateupdated-desc&page=1\n"
     ]
    },
    {
     "name": "stderr",
     "output_type": "stream",
     "text": [
      "Processing Part 2, Postcode 3167: 0it [00:00, ?it/s]"
     ]
    },
    {
     "name": "stdout",
     "output_type": "stream",
     "text": [
      "Visiting https://www.domain.com.au/rent/?ptype=apartment&bedrooms=2&postcode=3167&sort=dateupdated-desc&page=1\n"
     ]
    },
    {
     "name": "stderr",
     "output_type": "stream",
     "text": [
      "\n",
      "Processing Part 2, Postcode 3167: 100%|███████████████████████████████████████████████████| 2/2 [00:02<00:00,  1.14s/it]\n"
     ]
    },
    {
     "name": "stdout",
     "output_type": "stream",
     "text": [
      "Visiting https://www.domain.com.au/rent/?ptype=apartment&bedrooms=3&postcode=3167&sort=dateupdated-desc&page=1\n"
     ]
    },
    {
     "name": "stderr",
     "output_type": "stream",
     "text": [
      "Processing Part 2, Postcode 3167: 100%|███████████████████████████████████████████████████| 3/3 [00:03<00:00,  1.26s/it]\n"
     ]
    },
    {
     "name": "stdout",
     "output_type": "stream",
     "text": [
      "Visiting https://www.domain.com.au/rent/?ptype=house&bedrooms=2&postcode=3167&sort=dateupdated-desc&page=1\n"
     ]
    },
    {
     "name": "stderr",
     "output_type": "stream",
     "text": [
      "Processing Part 2, Postcode 3167: 100%|███████████████████████████████████████████████████| 1/1 [00:01<00:00,  1.11s/it]\n"
     ]
    },
    {
     "name": "stdout",
     "output_type": "stream",
     "text": [
      "Visiting https://www.domain.com.au/rent/?ptype=house&bedrooms=3&postcode=3167&sort=dateupdated-desc&page=1\n"
     ]
    },
    {
     "name": "stderr",
     "output_type": "stream",
     "text": [
      "Processing Part 2, Postcode 3167: 100%|███████████████████████████████████████████████████| 4/4 [00:05<00:00,  1.31s/it]\n"
     ]
    },
    {
     "name": "stdout",
     "output_type": "stream",
     "text": [
      "Visiting https://www.domain.com.au/rent/?ptype=house&bedrooms=4&postcode=3167&sort=dateupdated-desc&page=1\n"
     ]
    },
    {
     "name": "stderr",
     "output_type": "stream",
     "text": [
      "Processing Part 2, Postcode 3167: 100%|███████████████████████████████████████████████████| 2/2 [00:02<00:00,  1.40s/it]\n"
     ]
    },
    {
     "name": "stdout",
     "output_type": "stream",
     "text": [
      "Completed processing Part 2/10. Data saved to ../../data/raw/domain/temp_parts/property_part_2.csv\n",
      "Visiting https://www.domain.com.au/rent/?ptype=apartment&bedrooms=1&postcode=3168&sort=dateupdated-desc&page=1\n"
     ]
    },
    {
     "name": "stderr",
     "output_type": "stream",
     "text": [
      "Processing Part 3, Postcode 3168: 100%|█████████████████████████████████████████████████| 20/20 [00:24<00:00,  1.20s/it]\n"
     ]
    },
    {
     "name": "stdout",
     "output_type": "stream",
     "text": [
      "Visiting https://www.domain.com.au/rent/?ptype=apartment&bedrooms=2&postcode=3168&sort=dateupdated-desc&page=1\n"
     ]
    },
    {
     "name": "stderr",
     "output_type": "stream",
     "text": [
      "Processing Part 3, Postcode 3168: 100%|█████████████████████████████████████████████████| 20/20 [00:24<00:00,  1.20s/it]\n"
     ]
    },
    {
     "name": "stdout",
     "output_type": "stream",
     "text": [
      "Visiting https://www.domain.com.au/rent/?ptype=apartment&bedrooms=3&postcode=3168&sort=dateupdated-desc&page=1\n"
     ]
    },
    {
     "name": "stderr",
     "output_type": "stream",
     "text": [
      "Processing Part 3, Postcode 3168: 100%|███████████████████████████████████████████████████| 6/6 [00:09<00:00,  1.51s/it]\n"
     ]
    },
    {
     "name": "stdout",
     "output_type": "stream",
     "text": [
      "Visiting https://www.domain.com.au/rent/?ptype=house&bedrooms=2&postcode=3168&sort=dateupdated-desc&page=1\n"
     ]
    },
    {
     "name": "stderr",
     "output_type": "stream",
     "text": [
      "Processing Part 3, Postcode 3168: 100%|███████████████████████████████████████████████████| 2/2 [00:02<00:00,  1.08s/it]\n"
     ]
    },
    {
     "name": "stdout",
     "output_type": "stream",
     "text": [
      "Visiting https://www.domain.com.au/rent/?ptype=house&bedrooms=3&postcode=3168&sort=dateupdated-desc&page=1\n"
     ]
    },
    {
     "name": "stderr",
     "output_type": "stream",
     "text": [
      "Processing Part 3, Postcode 3168: 100%|███████████████████████████████████████████████████| 5/5 [00:06<00:00,  1.22s/it]\n"
     ]
    },
    {
     "name": "stdout",
     "output_type": "stream",
     "text": [
      "Visiting https://www.domain.com.au/rent/?ptype=house&bedrooms=4&postcode=3168&sort=dateupdated-desc&page=1\n"
     ]
    },
    {
     "name": "stderr",
     "output_type": "stream",
     "text": [
      "Processing Part 3, Postcode 3168: 100%|███████████████████████████████████████████████████| 3/3 [00:03<00:00,  1.09s/it]\n"
     ]
    },
    {
     "name": "stdout",
     "output_type": "stream",
     "text": [
      "Visiting https://www.domain.com.au/rent/?ptype=apartment&bedrooms=1&postcode=3169&sort=dateupdated-desc&page=1\n"
     ]
    },
    {
     "name": "stderr",
     "output_type": "stream",
     "text": [
      "Processing Part 3, Postcode 3169: 100%|███████████████████████████████████████████████████| 4/4 [00:07<00:00,  1.79s/it]\n"
     ]
    },
    {
     "name": "stdout",
     "output_type": "stream",
     "text": [
      "Visiting https://www.domain.com.au/rent/?ptype=apartment&bedrooms=2&postcode=3169&sort=dateupdated-desc&page=1\n"
     ]
    },
    {
     "name": "stderr",
     "output_type": "stream",
     "text": [
      "Processing Part 3, Postcode 3169: 100%|█████████████████████████████████████████████████| 10/10 [00:11<00:00,  1.20s/it]\n"
     ]
    },
    {
     "name": "stdout",
     "output_type": "stream",
     "text": [
      "Visiting https://www.domain.com.au/rent/?ptype=apartment&bedrooms=3&postcode=3169&sort=dateupdated-desc&page=1\n"
     ]
    },
    {
     "name": "stderr",
     "output_type": "stream",
     "text": [
      "Processing Part 3, Postcode 3169: 100%|███████████████████████████████████████████████████| 4/4 [00:04<00:00,  1.09s/it]\n"
     ]
    },
    {
     "name": "stdout",
     "output_type": "stream",
     "text": [
      "Visiting https://www.domain.com.au/rent/?ptype=house&bedrooms=2&postcode=3169&sort=dateupdated-desc&page=1\n"
     ]
    },
    {
     "name": "stderr",
     "output_type": "stream",
     "text": [
      "Processing Part 3, Postcode 3169: 100%|███████████████████████████████████████████████████| 2/2 [00:02<00:00,  1.15s/it]\n"
     ]
    },
    {
     "name": "stdout",
     "output_type": "stream",
     "text": [
      "Visiting https://www.domain.com.au/rent/?ptype=house&bedrooms=3&postcode=3169&sort=dateupdated-desc&page=1\n"
     ]
    },
    {
     "name": "stderr",
     "output_type": "stream",
     "text": [
      "Processing Part 3, Postcode 3169: 100%|███████████████████████████████████████████████████| 4/4 [00:05<00:00,  1.39s/it]\n"
     ]
    },
    {
     "name": "stdout",
     "output_type": "stream",
     "text": [
      "Visiting https://www.domain.com.au/rent/?ptype=house&bedrooms=4&postcode=3169&sort=dateupdated-desc&page=1\n"
     ]
    },
    {
     "name": "stderr",
     "output_type": "stream",
     "text": [
      "Processing Part 3, Postcode 3169: 100%|███████████████████████████████████████████████████| 2/2 [00:02<00:00,  1.20s/it]\n"
     ]
    },
    {
     "name": "stdout",
     "output_type": "stream",
     "text": [
      "Visiting https://www.domain.com.au/rent/?ptype=apartment&bedrooms=1&postcode=3109&sort=dateupdated-desc&page=1\n"
     ]
    },
    {
     "name": "stderr",
     "output_type": "stream",
     "text": [
      "Processing Part 3, Postcode 3109: 100%|███████████████████████████████████████████████████| 2/2 [00:02<00:00,  1.28s/it]\n"
     ]
    },
    {
     "name": "stdout",
     "output_type": "stream",
     "text": [
      "Visiting https://www.domain.com.au/rent/?ptype=apartment&bedrooms=2&postcode=3109&sort=dateupdated-desc&page=1\n"
     ]
    },
    {
     "name": "stderr",
     "output_type": "stream",
     "text": [
      "Processing Part 3, Postcode 3109: 100%|███████████████████████████████████████████████████| 8/8 [00:12<00:00,  1.53s/it]\n"
     ]
    },
    {
     "name": "stdout",
     "output_type": "stream",
     "text": [
      "Visiting https://www.domain.com.au/rent/?ptype=apartment&bedrooms=3&postcode=3109&sort=dateupdated-desc&page=1\n"
     ]
    },
    {
     "name": "stderr",
     "output_type": "stream",
     "text": [
      "Processing Part 3, Postcode 3109: 100%|███████████████████████████████████████████████████| 3/3 [00:03<00:00,  1.03s/it]\n"
     ]
    },
    {
     "name": "stdout",
     "output_type": "stream",
     "text": [
      "Visiting https://www.domain.com.au/rent/?ptype=house&bedrooms=2&postcode=3109&sort=dateupdated-desc&page=1\n",
      "No results found on page https://www.domain.com.au/rent/?ptype=house&bedrooms=2&postcode=3109&sort=dateupdated-desc&page=1\n"
     ]
    },
    {
     "name": "stderr",
     "output_type": "stream",
     "text": [
      "Processing Part 3, Postcode 3109: 0it [00:00, ?it/s]"
     ]
    },
    {
     "name": "stdout",
     "output_type": "stream",
     "text": [
      "Visiting https://www.domain.com.au/rent/?ptype=house&bedrooms=3&postcode=3109&sort=dateupdated-desc&page=1\n"
     ]
    },
    {
     "name": "stderr",
     "output_type": "stream",
     "text": [
      "\n",
      "Processing Part 3, Postcode 3109: 100%|█████████████████████████████████████████████████| 12/12 [00:13<00:00,  1.11s/it]\n"
     ]
    },
    {
     "name": "stdout",
     "output_type": "stream",
     "text": [
      "Visiting https://www.domain.com.au/rent/?ptype=house&bedrooms=4&postcode=3109&sort=dateupdated-desc&page=1\n"
     ]
    },
    {
     "name": "stderr",
     "output_type": "stream",
     "text": [
      "Processing Part 3, Postcode 3109: 100%|█████████████████████████████████████████████████| 18/18 [00:26<00:00,  1.46s/it]\n"
     ]
    },
    {
     "name": "stdout",
     "output_type": "stream",
     "text": [
      "Visiting https://www.domain.com.au/rent/?ptype=apartment&bedrooms=1&postcode=3111&sort=dateupdated-desc&page=1\n",
      "No results found on page https://www.domain.com.au/rent/?ptype=apartment&bedrooms=1&postcode=3111&sort=dateupdated-desc&page=1\n"
     ]
    },
    {
     "name": "stderr",
     "output_type": "stream",
     "text": [
      "Processing Part 3, Postcode 3111: 0it [00:00, ?it/s]"
     ]
    },
    {
     "name": "stdout",
     "output_type": "stream",
     "text": [
      "Visiting https://www.domain.com.au/rent/?ptype=apartment&bedrooms=2&postcode=3111&sort=dateupdated-desc&page=1\n"
     ]
    },
    {
     "name": "stderr",
     "output_type": "stream",
     "text": [
      "\n"
     ]
    },
    {
     "name": "stdout",
     "output_type": "stream",
     "text": [
      "No results found on page https://www.domain.com.au/rent/?ptype=apartment&bedrooms=2&postcode=3111&sort=dateupdated-desc&page=1\n"
     ]
    },
    {
     "name": "stderr",
     "output_type": "stream",
     "text": [
      "Processing Part 3, Postcode 3111: 0it [00:00, ?it/s]"
     ]
    },
    {
     "name": "stdout",
     "output_type": "stream",
     "text": [
      "Visiting https://www.domain.com.au/rent/?ptype=apartment&bedrooms=3&postcode=3111&sort=dateupdated-desc&page=1\n"
     ]
    },
    {
     "name": "stderr",
     "output_type": "stream",
     "text": [
      "\n",
      "Processing Part 3, Postcode 3111: 100%|███████████████████████████████████████████████████| 1/1 [00:01<00:00,  1.41s/it]\n"
     ]
    },
    {
     "name": "stdout",
     "output_type": "stream",
     "text": [
      "Visiting https://www.domain.com.au/rent/?ptype=house&bedrooms=2&postcode=3111&sort=dateupdated-desc&page=1\n",
      "No results found on page https://www.domain.com.au/rent/?ptype=house&bedrooms=2&postcode=3111&sort=dateupdated-desc&page=1\n"
     ]
    },
    {
     "name": "stderr",
     "output_type": "stream",
     "text": [
      "Processing Part 3, Postcode 3111: 0it [00:00, ?it/s]"
     ]
    },
    {
     "name": "stdout",
     "output_type": "stream",
     "text": [
      "Visiting https://www.domain.com.au/rent/?ptype=house&bedrooms=3&postcode=3111&sort=dateupdated-desc&page=1\n"
     ]
    },
    {
     "name": "stderr",
     "output_type": "stream",
     "text": [
      "\n",
      "Processing Part 3, Postcode 3111: 100%|███████████████████████████████████████████████████| 3/3 [00:03<00:00,  1.14s/it]\n"
     ]
    },
    {
     "name": "stdout",
     "output_type": "stream",
     "text": [
      "Visiting https://www.domain.com.au/rent/?ptype=house&bedrooms=4&postcode=3111&sort=dateupdated-desc&page=1\n"
     ]
    },
    {
     "name": "stderr",
     "output_type": "stream",
     "text": [
      "Processing Part 3, Postcode 3111: 100%|███████████████████████████████████████████████████| 4/4 [00:06<00:00,  1.62s/it]\n"
     ]
    },
    {
     "name": "stdout",
     "output_type": "stream",
     "text": [
      "Visiting https://www.domain.com.au/rent/?ptype=apartment&bedrooms=1&postcode=3123&sort=dateupdated-desc&page=1\n"
     ]
    },
    {
     "name": "stderr",
     "output_type": "stream",
     "text": [
      "Processing Part 3, Postcode 3123: 100%|█████████████████████████████████████████████████| 20/20 [00:24<00:00,  1.20s/it]\n"
     ]
    },
    {
     "name": "stdout",
     "output_type": "stream",
     "text": [
      "Visiting https://www.domain.com.au/rent/?ptype=apartment&bedrooms=2&postcode=3123&sort=dateupdated-desc&page=1\n"
     ]
    },
    {
     "name": "stderr",
     "output_type": "stream",
     "text": [
      "Processing Part 3, Postcode 3123: 100%|█████████████████████████████████████████████████| 20/20 [00:25<00:00,  1.28s/it]\n"
     ]
    },
    {
     "name": "stdout",
     "output_type": "stream",
     "text": [
      "Visiting https://www.domain.com.au/rent/?ptype=apartment&bedrooms=3&postcode=3123&sort=dateupdated-desc&page=1\n"
     ]
    },
    {
     "name": "stderr",
     "output_type": "stream",
     "text": [
      "Processing Part 3, Postcode 3123: 100%|███████████████████████████████████████████████████| 1/1 [00:01<00:00,  1.11s/it]\n"
     ]
    },
    {
     "name": "stdout",
     "output_type": "stream",
     "text": [
      "Visiting https://www.domain.com.au/rent/?ptype=house&bedrooms=2&postcode=3123&sort=dateupdated-desc&page=1\n"
     ]
    },
    {
     "name": "stderr",
     "output_type": "stream",
     "text": [
      "Processing Part 3, Postcode 3123: 100%|███████████████████████████████████████████████████| 2/2 [00:03<00:00,  1.89s/it]\n"
     ]
    },
    {
     "name": "stdout",
     "output_type": "stream",
     "text": [
      "Visiting https://www.domain.com.au/rent/?ptype=house&bedrooms=3&postcode=3123&sort=dateupdated-desc&page=1\n"
     ]
    },
    {
     "name": "stderr",
     "output_type": "stream",
     "text": [
      "Processing Part 3, Postcode 3123: 100%|███████████████████████████████████████████████████| 6/6 [00:08<00:00,  1.48s/it]\n"
     ]
    },
    {
     "name": "stdout",
     "output_type": "stream",
     "text": [
      "Visiting https://www.domain.com.au/rent/?ptype=house&bedrooms=4&postcode=3123&sort=dateupdated-desc&page=1\n"
     ]
    },
    {
     "name": "stderr",
     "output_type": "stream",
     "text": [
      "Processing Part 3, Postcode 3123: 100%|███████████████████████████████████████████████████| 5/5 [00:06<00:00,  1.26s/it]\n"
     ]
    },
    {
     "name": "stdout",
     "output_type": "stream",
     "text": [
      "Visiting https://www.domain.com.au/rent/?ptype=apartment&bedrooms=1&postcode=3150&sort=dateupdated-desc&page=1\n"
     ]
    },
    {
     "name": "stderr",
     "output_type": "stream",
     "text": [
      "Processing Part 3, Postcode 3150: 100%|███████████████████████████████████████████████████| 2/2 [00:02<00:00,  1.14s/it]\n"
     ]
    },
    {
     "name": "stdout",
     "output_type": "stream",
     "text": [
      "Visiting https://www.domain.com.au/rent/?ptype=apartment&bedrooms=2&postcode=3150&sort=dateupdated-desc&page=1\n"
     ]
    },
    {
     "name": "stderr",
     "output_type": "stream",
     "text": [
      "Processing Part 3, Postcode 3150: 100%|█████████████████████████████████████████████████| 12/12 [00:13<00:00,  1.11s/it]\n"
     ]
    },
    {
     "name": "stdout",
     "output_type": "stream",
     "text": [
      "Visiting https://www.domain.com.au/rent/?ptype=apartment&bedrooms=3&postcode=3150&sort=dateupdated-desc&page=1\n"
     ]
    },
    {
     "name": "stderr",
     "output_type": "stream",
     "text": [
      "Processing Part 3, Postcode 3150: 100%|███████████████████████████████████████████████████| 8/8 [00:11<00:00,  1.43s/it]\n"
     ]
    },
    {
     "name": "stdout",
     "output_type": "stream",
     "text": [
      "Visiting https://www.domain.com.au/rent/?ptype=house&bedrooms=2&postcode=3150&sort=dateupdated-desc&page=1\n",
      "No results found on page https://www.domain.com.au/rent/?ptype=house&bedrooms=2&postcode=3150&sort=dateupdated-desc&page=1\n"
     ]
    },
    {
     "name": "stderr",
     "output_type": "stream",
     "text": [
      "Processing Part 3, Postcode 3150: 0it [00:00, ?it/s]"
     ]
    },
    {
     "name": "stdout",
     "output_type": "stream",
     "text": [
      "Visiting https://www.domain.com.au/rent/?ptype=house&bedrooms=3&postcode=3150&sort=dateupdated-desc&page=1\n"
     ]
    },
    {
     "name": "stderr",
     "output_type": "stream",
     "text": [
      "\n",
      "Processing Part 3, Postcode 3150: 100%|█████████████████████████████████████████████████| 15/15 [00:17<00:00,  1.16s/it]\n"
     ]
    },
    {
     "name": "stdout",
     "output_type": "stream",
     "text": [
      "Visiting https://www.domain.com.au/rent/?ptype=house&bedrooms=4&postcode=3150&sort=dateupdated-desc&page=1\n"
     ]
    },
    {
     "name": "stderr",
     "output_type": "stream",
     "text": [
      "Processing Part 3, Postcode 3150: 100%|█████████████████████████████████████████████████| 20/20 [00:25<00:00,  1.26s/it]\n"
     ]
    },
    {
     "name": "stdout",
     "output_type": "stream",
     "text": [
      "Visiting https://www.domain.com.au/rent/?ptype=apartment&bedrooms=1&postcode=3170&sort=dateupdated-desc&page=1\n"
     ]
    },
    {
     "name": "stderr",
     "output_type": "stream",
     "text": [
      "Processing Part 3, Postcode 3170: 100%|███████████████████████████████████████████████████| 1/1 [00:01<00:00,  1.21s/it]\n"
     ]
    },
    {
     "name": "stdout",
     "output_type": "stream",
     "text": [
      "Visiting https://www.domain.com.au/rent/?ptype=apartment&bedrooms=2&postcode=3170&sort=dateupdated-desc&page=1\n"
     ]
    },
    {
     "name": "stderr",
     "output_type": "stream",
     "text": [
      "Processing Part 3, Postcode 3170: 100%|███████████████████████████████████████████████████| 1/1 [00:01<00:00,  1.46s/it]\n"
     ]
    },
    {
     "name": "stdout",
     "output_type": "stream",
     "text": [
      "Visiting https://www.domain.com.au/rent/?ptype=apartment&bedrooms=3&postcode=3170&sort=dateupdated-desc&page=1\n"
     ]
    },
    {
     "name": "stderr",
     "output_type": "stream",
     "text": [
      "Processing Part 3, Postcode 3170: 100%|███████████████████████████████████████████████████| 2/2 [00:02<00:00,  1.11s/it]\n"
     ]
    },
    {
     "name": "stdout",
     "output_type": "stream",
     "text": [
      "Visiting https://www.domain.com.au/rent/?ptype=house&bedrooms=2&postcode=3170&sort=dateupdated-desc&page=1\n",
      "No results found on page https://www.domain.com.au/rent/?ptype=house&bedrooms=2&postcode=3170&sort=dateupdated-desc&page=1\n"
     ]
    },
    {
     "name": "stderr",
     "output_type": "stream",
     "text": [
      "Processing Part 3, Postcode 3170: 0it [00:00, ?it/s]"
     ]
    },
    {
     "name": "stdout",
     "output_type": "stream",
     "text": [
      "Visiting https://www.domain.com.au/rent/?ptype=house&bedrooms=3&postcode=3170&sort=dateupdated-desc&page=1\n"
     ]
    },
    {
     "name": "stderr",
     "output_type": "stream",
     "text": [
      "\n",
      "Processing Part 3, Postcode 3170: 100%|███████████████████████████████████████████████████| 9/9 [00:11<00:00,  1.27s/it]\n"
     ]
    },
    {
     "name": "stdout",
     "output_type": "stream",
     "text": [
      "Visiting https://www.domain.com.au/rent/?ptype=house&bedrooms=4&postcode=3170&sort=dateupdated-desc&page=1\n"
     ]
    },
    {
     "name": "stderr",
     "output_type": "stream",
     "text": [
      "Processing Part 3, Postcode 3170: 100%|███████████████████████████████████████████████████| 2/2 [00:02<00:00,  1.12s/it]\n"
     ]
    },
    {
     "name": "stdout",
     "output_type": "stream",
     "text": [
      "Visiting https://www.domain.com.au/rent/?ptype=apartment&bedrooms=1&postcode=3122&sort=dateupdated-desc&page=1\n"
     ]
    },
    {
     "name": "stderr",
     "output_type": "stream",
     "text": [
      "Processing Part 3, Postcode 3122: 100%|█████████████████████████████████████████████████| 20/20 [00:26<00:00,  1.35s/it]\n"
     ]
    },
    {
     "name": "stdout",
     "output_type": "stream",
     "text": [
      "Visiting https://www.domain.com.au/rent/?ptype=apartment&bedrooms=2&postcode=3122&sort=dateupdated-desc&page=1\n"
     ]
    },
    {
     "name": "stderr",
     "output_type": "stream",
     "text": [
      "Processing Part 3, Postcode 3122: 100%|█████████████████████████████████████████████████| 20/20 [00:25<00:00,  1.28s/it]\n"
     ]
    },
    {
     "name": "stdout",
     "output_type": "stream",
     "text": [
      "Visiting https://www.domain.com.au/rent/?ptype=apartment&bedrooms=3&postcode=3122&sort=dateupdated-desc&page=1\n"
     ]
    },
    {
     "name": "stderr",
     "output_type": "stream",
     "text": [
      "Processing Part 3, Postcode 3122: 100%|███████████████████████████████████████████████████| 6/6 [00:08<00:00,  1.42s/it]\n"
     ]
    },
    {
     "name": "stdout",
     "output_type": "stream",
     "text": [
      "Visiting https://www.domain.com.au/rent/?ptype=house&bedrooms=2&postcode=3122&sort=dateupdated-desc&page=1\n"
     ]
    },
    {
     "name": "stderr",
     "output_type": "stream",
     "text": [
      "Processing Part 3, Postcode 3122: 100%|███████████████████████████████████████████████████| 4/4 [00:04<00:00,  1.08s/it]\n"
     ]
    },
    {
     "name": "stdout",
     "output_type": "stream",
     "text": [
      "Visiting https://www.domain.com.au/rent/?ptype=house&bedrooms=3&postcode=3122&sort=dateupdated-desc&page=1\n"
     ]
    },
    {
     "name": "stderr",
     "output_type": "stream",
     "text": [
      "Processing Part 3, Postcode 3122: 100%|███████████████████████████████████████████████████| 6/6 [00:07<00:00,  1.17s/it]\n"
     ]
    },
    {
     "name": "stdout",
     "output_type": "stream",
     "text": [
      "Visiting https://www.domain.com.au/rent/?ptype=house&bedrooms=4&postcode=3122&sort=dateupdated-desc&page=1\n"
     ]
    },
    {
     "name": "stderr",
     "output_type": "stream",
     "text": [
      "Processing Part 3, Postcode 3122: 100%|███████████████████████████████████████████████████| 6/6 [00:06<00:00,  1.13s/it]\n"
     ]
    },
    {
     "name": "stdout",
     "output_type": "stream",
     "text": [
      "Visiting https://www.domain.com.au/rent/?ptype=apartment&bedrooms=1&postcode=3101&sort=dateupdated-desc&page=1\n"
     ]
    },
    {
     "name": "stderr",
     "output_type": "stream",
     "text": [
      "Processing Part 3, Postcode 3101: 100%|███████████████████████████████████████████████████| 4/4 [00:04<00:00,  1.08s/it]\n"
     ]
    },
    {
     "name": "stdout",
     "output_type": "stream",
     "text": [
      "Visiting https://www.domain.com.au/rent/?ptype=apartment&bedrooms=2&postcode=3101&sort=dateupdated-desc&page=1\n"
     ]
    },
    {
     "name": "stderr",
     "output_type": "stream",
     "text": [
      "Processing Part 3, Postcode 3101: 100%|█████████████████████████████████████████████████| 19/19 [00:21<00:00,  1.15s/it]\n"
     ]
    },
    {
     "name": "stdout",
     "output_type": "stream",
     "text": [
      "Visiting https://www.domain.com.au/rent/?ptype=apartment&bedrooms=3&postcode=3101&sort=dateupdated-desc&page=1\n"
     ]
    },
    {
     "name": "stderr",
     "output_type": "stream",
     "text": [
      "Processing Part 3, Postcode 3101: 100%|███████████████████████████████████████████████████| 7/7 [00:07<00:00,  1.11s/it]\n"
     ]
    },
    {
     "name": "stdout",
     "output_type": "stream",
     "text": [
      "Visiting https://www.domain.com.au/rent/?ptype=house&bedrooms=2&postcode=3101&sort=dateupdated-desc&page=1\n"
     ]
    },
    {
     "name": "stderr",
     "output_type": "stream",
     "text": [
      "Processing Part 3, Postcode 3101: 100%|███████████████████████████████████████████████████| 1/1 [00:01<00:00,  1.13s/it]\n"
     ]
    },
    {
     "name": "stdout",
     "output_type": "stream",
     "text": [
      "Visiting https://www.domain.com.au/rent/?ptype=house&bedrooms=3&postcode=3101&sort=dateupdated-desc&page=1\n"
     ]
    },
    {
     "name": "stderr",
     "output_type": "stream",
     "text": [
      "Processing Part 3, Postcode 3101: 100%|███████████████████████████████████████████████████| 4/4 [00:06<00:00,  1.51s/it]\n"
     ]
    },
    {
     "name": "stdout",
     "output_type": "stream",
     "text": [
      "Visiting https://www.domain.com.au/rent/?ptype=house&bedrooms=4&postcode=3101&sort=dateupdated-desc&page=1\n"
     ]
    },
    {
     "name": "stderr",
     "output_type": "stream",
     "text": [
      "Processing Part 3, Postcode 3101: 100%|█████████████████████████████████████████████████| 10/10 [00:12<00:00,  1.25s/it]\n"
     ]
    },
    {
     "name": "stdout",
     "output_type": "stream",
     "text": [
      "Visiting https://www.domain.com.au/rent/?ptype=apartment&bedrooms=1&postcode=3102&sort=dateupdated-desc&page=1\n",
      "No results found on page https://www.domain.com.au/rent/?ptype=apartment&bedrooms=1&postcode=3102&sort=dateupdated-desc&page=1\n"
     ]
    },
    {
     "name": "stderr",
     "output_type": "stream",
     "text": [
      "Processing Part 3, Postcode 3102: 0it [00:00, ?it/s]"
     ]
    },
    {
     "name": "stdout",
     "output_type": "stream",
     "text": [
      "Visiting https://www.domain.com.au/rent/?ptype=apartment&bedrooms=2&postcode=3102&sort=dateupdated-desc&page=1\n"
     ]
    },
    {
     "name": "stderr",
     "output_type": "stream",
     "text": [
      "\n",
      "Processing Part 3, Postcode 3102: 100%|███████████████████████████████████████████████████| 3/3 [00:03<00:00,  1.10s/it]\n"
     ]
    },
    {
     "name": "stdout",
     "output_type": "stream",
     "text": [
      "Visiting https://www.domain.com.au/rent/?ptype=apartment&bedrooms=3&postcode=3102&sort=dateupdated-desc&page=1\n",
      "No results found on page https://www.domain.com.au/rent/?ptype=apartment&bedrooms=3&postcode=3102&sort=dateupdated-desc&page=1\n"
     ]
    },
    {
     "name": "stderr",
     "output_type": "stream",
     "text": [
      "Processing Part 3, Postcode 3102: 0it [00:00, ?it/s]"
     ]
    },
    {
     "name": "stdout",
     "output_type": "stream",
     "text": [
      "Visiting https://www.domain.com.au/rent/?ptype=house&bedrooms=2&postcode=3102&sort=dateupdated-desc&page=1\n"
     ]
    },
    {
     "name": "stderr",
     "output_type": "stream",
     "text": [
      "\n",
      "Processing Part 3, Postcode 3102: 100%|███████████████████████████████████████████████████| 1/1 [00:01<00:00,  1.03s/it]\n"
     ]
    },
    {
     "name": "stdout",
     "output_type": "stream",
     "text": [
      "Visiting https://www.domain.com.au/rent/?ptype=house&bedrooms=3&postcode=3102&sort=dateupdated-desc&page=1\n"
     ]
    },
    {
     "name": "stderr",
     "output_type": "stream",
     "text": [
      "Processing Part 3, Postcode 3102: 100%|███████████████████████████████████████████████████| 3/3 [00:04<00:00,  1.35s/it]\n"
     ]
    },
    {
     "name": "stdout",
     "output_type": "stream",
     "text": [
      "Visiting https://www.domain.com.au/rent/?ptype=house&bedrooms=4&postcode=3102&sort=dateupdated-desc&page=1\n"
     ]
    },
    {
     "name": "stderr",
     "output_type": "stream",
     "text": [
      "Processing Part 3, Postcode 3102: 100%|███████████████████████████████████████████████████| 1/1 [00:01<00:00,  1.18s/it]\n"
     ]
    },
    {
     "name": "stdout",
     "output_type": "stream",
     "text": [
      "Visiting https://www.domain.com.au/rent/?ptype=apartment&bedrooms=1&postcode=3149&sort=dateupdated-desc&page=1\n",
      "No results found on page https://www.domain.com.au/rent/?ptype=apartment&bedrooms=1&postcode=3149&sort=dateupdated-desc&page=1\n"
     ]
    },
    {
     "name": "stderr",
     "output_type": "stream",
     "text": [
      "Processing Part 3, Postcode 3149: 0it [00:00, ?it/s]"
     ]
    },
    {
     "name": "stdout",
     "output_type": "stream",
     "text": [
      "Visiting https://www.domain.com.au/rent/?ptype=apartment&bedrooms=2&postcode=3149&sort=dateupdated-desc&page=1\n"
     ]
    },
    {
     "name": "stderr",
     "output_type": "stream",
     "text": [
      "\n",
      "Processing Part 3, Postcode 3149: 100%|███████████████████████████████████████████████████| 2/2 [00:02<00:00,  1.04s/it]\n"
     ]
    },
    {
     "name": "stdout",
     "output_type": "stream",
     "text": [
      "Visiting https://www.domain.com.au/rent/?ptype=apartment&bedrooms=3&postcode=3149&sort=dateupdated-desc&page=1\n"
     ]
    },
    {
     "name": "stderr",
     "output_type": "stream",
     "text": [
      "Processing Part 3, Postcode 3149: 100%|█████████████████████████████████████████████████| 10/10 [00:12<00:00,  1.22s/it]\n"
     ]
    },
    {
     "name": "stdout",
     "output_type": "stream",
     "text": [
      "Visiting https://www.domain.com.au/rent/?ptype=house&bedrooms=2&postcode=3149&sort=dateupdated-desc&page=1\n"
     ]
    },
    {
     "name": "stderr",
     "output_type": "stream",
     "text": [
      "Processing Part 3, Postcode 3149: 100%|███████████████████████████████████████████████████| 1/1 [00:01<00:00,  1.13s/it]\n"
     ]
    },
    {
     "name": "stdout",
     "output_type": "stream",
     "text": [
      "Visiting https://www.domain.com.au/rent/?ptype=house&bedrooms=3&postcode=3149&sort=dateupdated-desc&page=1\n"
     ]
    },
    {
     "name": "stderr",
     "output_type": "stream",
     "text": [
      "Processing Part 3, Postcode 3149: 100%|█████████████████████████████████████████████████| 17/17 [00:20<00:00,  1.22s/it]\n"
     ]
    },
    {
     "name": "stdout",
     "output_type": "stream",
     "text": [
      "Visiting https://www.domain.com.au/rent/?ptype=house&bedrooms=4&postcode=3149&sort=dateupdated-desc&page=1\n"
     ]
    },
    {
     "name": "stderr",
     "output_type": "stream",
     "text": [
      "Processing Part 3, Postcode 3149: 100%|███████████████████████████████████████████████████| 7/7 [00:12<00:00,  1.74s/it]\n"
     ]
    },
    {
     "name": "stdout",
     "output_type": "stream",
     "text": [
      "Visiting https://www.domain.com.au/rent/?ptype=apartment&bedrooms=1&postcode=3131&sort=dateupdated-desc&page=1\n"
     ]
    },
    {
     "name": "stderr",
     "output_type": "stream",
     "text": [
      "Processing Part 3, Postcode 3131: 100%|███████████████████████████████████████████████████| 1/1 [00:01<00:00,  1.05s/it]\n"
     ]
    },
    {
     "name": "stdout",
     "output_type": "stream",
     "text": [
      "Visiting https://www.domain.com.au/rent/?ptype=apartment&bedrooms=2&postcode=3131&sort=dateupdated-desc&page=1\n"
     ]
    },
    {
     "name": "stderr",
     "output_type": "stream",
     "text": [
      "Processing Part 3, Postcode 3131: 100%|█████████████████████████████████████████████████| 12/12 [00:17<00:00,  1.48s/it]\n"
     ]
    },
    {
     "name": "stdout",
     "output_type": "stream",
     "text": [
      "Visiting https://www.domain.com.au/rent/?ptype=apartment&bedrooms=3&postcode=3131&sort=dateupdated-desc&page=1\n"
     ]
    },
    {
     "name": "stderr",
     "output_type": "stream",
     "text": [
      "Processing Part 3, Postcode 3131: 100%|███████████████████████████████████████████████████| 3/3 [00:03<00:00,  1.10s/it]\n"
     ]
    },
    {
     "name": "stdout",
     "output_type": "stream",
     "text": [
      "Visiting https://www.domain.com.au/rent/?ptype=house&bedrooms=2&postcode=3131&sort=dateupdated-desc&page=1\n"
     ]
    },
    {
     "name": "stderr",
     "output_type": "stream",
     "text": [
      "Processing Part 3, Postcode 3131: 100%|███████████████████████████████████████████████████| 3/3 [00:03<00:00,  1.18s/it]\n"
     ]
    },
    {
     "name": "stdout",
     "output_type": "stream",
     "text": [
      "Visiting https://www.domain.com.au/rent/?ptype=house&bedrooms=3&postcode=3131&sort=dateupdated-desc&page=1\n"
     ]
    },
    {
     "name": "stderr",
     "output_type": "stream",
     "text": [
      "Processing Part 3, Postcode 3131: 100%|█████████████████████████████████████████████████| 15/15 [00:19<00:00,  1.28s/it]\n"
     ]
    },
    {
     "name": "stdout",
     "output_type": "stream",
     "text": [
      "Visiting https://www.domain.com.au/rent/?ptype=house&bedrooms=4&postcode=3131&sort=dateupdated-desc&page=1\n"
     ]
    },
    {
     "name": "stderr",
     "output_type": "stream",
     "text": [
      "Processing Part 3, Postcode 3131: 100%|███████████████████████████████████████████████████| 3/3 [00:03<00:00,  1.24s/it]\n"
     ]
    },
    {
     "name": "stdout",
     "output_type": "stream",
     "text": [
      "Visiting https://www.domain.com.au/rent/?ptype=apartment&bedrooms=1&postcode=3132&sort=dateupdated-desc&page=1\n"
     ]
    },
    {
     "name": "stderr",
     "output_type": "stream",
     "text": [
      "Processing Part 3, Postcode 3132: 100%|███████████████████████████████████████████████████| 2/2 [00:02<00:00,  1.06s/it]\n"
     ]
    },
    {
     "name": "stdout",
     "output_type": "stream",
     "text": [
      "Visiting https://www.domain.com.au/rent/?ptype=apartment&bedrooms=2&postcode=3132&sort=dateupdated-desc&page=1\n"
     ]
    },
    {
     "name": "stderr",
     "output_type": "stream",
     "text": [
      "Processing Part 3, Postcode 3132: 100%|███████████████████████████████████████████████████| 7/7 [00:09<00:00,  1.41s/it]\n"
     ]
    },
    {
     "name": "stdout",
     "output_type": "stream",
     "text": [
      "Visiting https://www.domain.com.au/rent/?ptype=apartment&bedrooms=3&postcode=3132&sort=dateupdated-desc&page=1\n"
     ]
    },
    {
     "name": "stderr",
     "output_type": "stream",
     "text": [
      "Processing Part 3, Postcode 3132: 100%|███████████████████████████████████████████████████| 2/2 [00:02<00:00,  1.16s/it]\n"
     ]
    },
    {
     "name": "stdout",
     "output_type": "stream",
     "text": [
      "Visiting https://www.domain.com.au/rent/?ptype=house&bedrooms=2&postcode=3132&sort=dateupdated-desc&page=1\n"
     ]
    },
    {
     "name": "stderr",
     "output_type": "stream",
     "text": [
      "Processing Part 3, Postcode 3132: 100%|███████████████████████████████████████████████████| 3/3 [00:06<00:00,  2.11s/it]\n"
     ]
    },
    {
     "name": "stdout",
     "output_type": "stream",
     "text": [
      "Visiting https://www.domain.com.au/rent/?ptype=house&bedrooms=3&postcode=3132&sort=dateupdated-desc&page=1\n"
     ]
    },
    {
     "name": "stderr",
     "output_type": "stream",
     "text": [
      "Processing Part 3, Postcode 3132: 100%|███████████████████████████████████████████████████| 8/8 [00:09<00:00,  1.22s/it]\n"
     ]
    },
    {
     "name": "stdout",
     "output_type": "stream",
     "text": [
      "Visiting https://www.domain.com.au/rent/?ptype=house&bedrooms=4&postcode=3132&sort=dateupdated-desc&page=1\n"
     ]
    },
    {
     "name": "stderr",
     "output_type": "stream",
     "text": [
      "Processing Part 3, Postcode 3132: 100%|███████████████████████████████████████████████████| 3/3 [00:03<00:00,  1.09s/it]\n"
     ]
    },
    {
     "name": "stdout",
     "output_type": "stream",
     "text": [
      "Visiting https://www.domain.com.au/rent/?ptype=apartment&bedrooms=1&postcode=3133&sort=dateupdated-desc&page=1\n",
      "No results found on page https://www.domain.com.au/rent/?ptype=apartment&bedrooms=1&postcode=3133&sort=dateupdated-desc&page=1\n"
     ]
    },
    {
     "name": "stderr",
     "output_type": "stream",
     "text": [
      "Processing Part 3, Postcode 3133: 0it [00:00, ?it/s]"
     ]
    },
    {
     "name": "stdout",
     "output_type": "stream",
     "text": [
      "Visiting https://www.domain.com.au/rent/?ptype=apartment&bedrooms=2&postcode=3133&sort=dateupdated-desc&page=1\n"
     ]
    },
    {
     "name": "stderr",
     "output_type": "stream",
     "text": [
      "\n",
      "Processing Part 3, Postcode 3133: 100%|███████████████████████████████████████████████████| 1/1 [00:01<00:00,  1.07s/it]\n"
     ]
    },
    {
     "name": "stdout",
     "output_type": "stream",
     "text": [
      "Visiting https://www.domain.com.au/rent/?ptype=apartment&bedrooms=3&postcode=3133&sort=dateupdated-desc&page=1\n"
     ]
    },
    {
     "name": "stderr",
     "output_type": "stream",
     "text": [
      "Processing Part 3, Postcode 3133: 100%|███████████████████████████████████████████████████| 2/2 [00:02<00:00,  1.26s/it]\n"
     ]
    },
    {
     "name": "stdout",
     "output_type": "stream",
     "text": [
      "Visiting https://www.domain.com.au/rent/?ptype=house&bedrooms=2&postcode=3133&sort=dateupdated-desc&page=1\n"
     ]
    },
    {
     "name": "stderr",
     "output_type": "stream",
     "text": [
      "Processing Part 3, Postcode 3133: 100%|███████████████████████████████████████████████████| 1/1 [00:00<00:00,  1.01it/s]\n"
     ]
    },
    {
     "name": "stdout",
     "output_type": "stream",
     "text": [
      "Visiting https://www.domain.com.au/rent/?ptype=house&bedrooms=3&postcode=3133&sort=dateupdated-desc&page=1\n"
     ]
    },
    {
     "name": "stderr",
     "output_type": "stream",
     "text": [
      "Processing Part 3, Postcode 3133: 100%|█████████████████████████████████████████████████| 12/12 [00:16<00:00,  1.40s/it]\n"
     ]
    },
    {
     "name": "stdout",
     "output_type": "stream",
     "text": [
      "Visiting https://www.domain.com.au/rent/?ptype=house&bedrooms=4&postcode=3133&sort=dateupdated-desc&page=1\n"
     ]
    },
    {
     "name": "stderr",
     "output_type": "stream",
     "text": [
      "Processing Part 3, Postcode 3133: 100%|███████████████████████████████████████████████████| 8/8 [00:10<00:00,  1.27s/it]\n"
     ]
    },
    {
     "name": "stdout",
     "output_type": "stream",
     "text": [
      "Visiting https://www.domain.com.au/rent/?ptype=apartment&bedrooms=1&postcode=3151&sort=dateupdated-desc&page=1\n"
     ]
    },
    {
     "name": "stderr",
     "output_type": "stream",
     "text": [
      "Processing Part 3, Postcode 3151: 100%|███████████████████████████████████████████████████| 2/2 [00:02<00:00,  1.06s/it]\n"
     ]
    },
    {
     "name": "stdout",
     "output_type": "stream",
     "text": [
      "Visiting https://www.domain.com.au/rent/?ptype=apartment&bedrooms=2&postcode=3151&sort=dateupdated-desc&page=1\n"
     ]
    },
    {
     "name": "stderr",
     "output_type": "stream",
     "text": [
      "Processing Part 3, Postcode 3151: 100%|███████████████████████████████████████████████████| 8/8 [00:09<00:00,  1.13s/it]\n"
     ]
    },
    {
     "name": "stdout",
     "output_type": "stream",
     "text": [
      "Visiting https://www.domain.com.au/rent/?ptype=apartment&bedrooms=3&postcode=3151&sort=dateupdated-desc&page=1\n",
      "No results found on page https://www.domain.com.au/rent/?ptype=apartment&bedrooms=3&postcode=3151&sort=dateupdated-desc&page=1\n"
     ]
    },
    {
     "name": "stderr",
     "output_type": "stream",
     "text": [
      "Processing Part 3, Postcode 3151: 0it [00:00, ?it/s]"
     ]
    },
    {
     "name": "stdout",
     "output_type": "stream",
     "text": [
      "Visiting https://www.domain.com.au/rent/?ptype=house&bedrooms=2&postcode=3151&sort=dateupdated-desc&page=1\n"
     ]
    },
    {
     "name": "stderr",
     "output_type": "stream",
     "text": [
      "\n",
      "Processing Part 3, Postcode 3151: 100%|███████████████████████████████████████████████████| 1/1 [00:00<00:00,  1.02it/s]\n"
     ]
    },
    {
     "name": "stdout",
     "output_type": "stream",
     "text": [
      "Visiting https://www.domain.com.au/rent/?ptype=house&bedrooms=3&postcode=3151&sort=dateupdated-desc&page=1\n"
     ]
    },
    {
     "name": "stderr",
     "output_type": "stream",
     "text": [
      "Processing Part 3, Postcode 3151: 100%|███████████████████████████████████████████████████| 8/8 [00:10<00:00,  1.37s/it]\n"
     ]
    },
    {
     "name": "stdout",
     "output_type": "stream",
     "text": [
      "Visiting https://www.domain.com.au/rent/?ptype=house&bedrooms=4&postcode=3151&sort=dateupdated-desc&page=1\n"
     ]
    },
    {
     "name": "stderr",
     "output_type": "stream",
     "text": [
      "Processing Part 3, Postcode 3151: 100%|███████████████████████████████████████████████████| 4/4 [00:04<00:00,  1.04s/it]\n"
     ]
    },
    {
     "name": "stdout",
     "output_type": "stream",
     "text": [
      "Visiting https://www.domain.com.au/rent/?ptype=apartment&bedrooms=1&postcode=3195&sort=dateupdated-desc&page=1\n"
     ]
    },
    {
     "name": "stderr",
     "output_type": "stream",
     "text": [
      "Processing Part 3, Postcode 3195: 100%|███████████████████████████████████████████████████| 6/6 [00:07<00:00,  1.23s/it]\n"
     ]
    },
    {
     "name": "stdout",
     "output_type": "stream",
     "text": [
      "Visiting https://www.domain.com.au/rent/?ptype=apartment&bedrooms=2&postcode=3195&sort=dateupdated-desc&page=1\n"
     ]
    },
    {
     "name": "stderr",
     "output_type": "stream",
     "text": [
      "Processing Part 3, Postcode 3195: 100%|█████████████████████████████████████████████████| 14/14 [00:15<00:00,  1.10s/it]\n"
     ]
    },
    {
     "name": "stdout",
     "output_type": "stream",
     "text": [
      "Visiting https://www.domain.com.au/rent/?ptype=apartment&bedrooms=3&postcode=3195&sort=dateupdated-desc&page=1\n"
     ]
    },
    {
     "name": "stderr",
     "output_type": "stream",
     "text": [
      "Processing Part 3, Postcode 3195: 100%|███████████████████████████████████████████████████| 1/1 [00:01<00:00,  1.10s/it]\n"
     ]
    },
    {
     "name": "stdout",
     "output_type": "stream",
     "text": [
      "Visiting https://www.domain.com.au/rent/?ptype=house&bedrooms=2&postcode=3195&sort=dateupdated-desc&page=1\n"
     ]
    },
    {
     "name": "stderr",
     "output_type": "stream",
     "text": [
      "Processing Part 3, Postcode 3195: 100%|███████████████████████████████████████████████████| 2/2 [00:02<00:00,  1.15s/it]\n"
     ]
    },
    {
     "name": "stdout",
     "output_type": "stream",
     "text": [
      "Visiting https://www.domain.com.au/rent/?ptype=house&bedrooms=3&postcode=3195&sort=dateupdated-desc&page=1\n"
     ]
    },
    {
     "name": "stderr",
     "output_type": "stream",
     "text": [
      "Processing Part 3, Postcode 3195: 100%|███████████████████████████████████████████████████| 4/4 [00:04<00:00,  1.20s/it]\n"
     ]
    },
    {
     "name": "stdout",
     "output_type": "stream",
     "text": [
      "Visiting https://www.domain.com.au/rent/?ptype=house&bedrooms=4&postcode=3195&sort=dateupdated-desc&page=1\n"
     ]
    },
    {
     "name": "stderr",
     "output_type": "stream",
     "text": [
      "Processing Part 3, Postcode 3195: 100%|███████████████████████████████████████████████████| 3/3 [00:03<00:00,  1.09s/it]\n"
     ]
    },
    {
     "name": "stdout",
     "output_type": "stream",
     "text": [
      "Visiting https://www.domain.com.au/rent/?ptype=apartment&bedrooms=1&postcode=3196&sort=dateupdated-desc&page=1\n",
      "No results found on page https://www.domain.com.au/rent/?ptype=apartment&bedrooms=1&postcode=3196&sort=dateupdated-desc&page=1\n"
     ]
    },
    {
     "name": "stderr",
     "output_type": "stream",
     "text": [
      "Processing Part 3, Postcode 3196: 0it [00:00, ?it/s]"
     ]
    },
    {
     "name": "stdout",
     "output_type": "stream",
     "text": [
      "Visiting https://www.domain.com.au/rent/?ptype=apartment&bedrooms=2&postcode=3196&sort=dateupdated-desc&page=1\n"
     ]
    },
    {
     "name": "stderr",
     "output_type": "stream",
     "text": [
      "\n",
      "Processing Part 3, Postcode 3196: 100%|███████████████████████████████████████████████████| 8/8 [00:10<00:00,  1.25s/it]\n"
     ]
    },
    {
     "name": "stdout",
     "output_type": "stream",
     "text": [
      "Visiting https://www.domain.com.au/rent/?ptype=apartment&bedrooms=3&postcode=3196&sort=dateupdated-desc&page=1\n"
     ]
    },
    {
     "name": "stderr",
     "output_type": "stream",
     "text": [
      "Processing Part 3, Postcode 3196: 100%|███████████████████████████████████████████████████| 2/2 [00:02<00:00,  1.19s/it]\n"
     ]
    },
    {
     "name": "stdout",
     "output_type": "stream",
     "text": [
      "Visiting https://www.domain.com.au/rent/?ptype=house&bedrooms=2&postcode=3196&sort=dateupdated-desc&page=1\n"
     ]
    },
    {
     "name": "stderr",
     "output_type": "stream",
     "text": [
      "Processing Part 3, Postcode 3196: 100%|███████████████████████████████████████████████████| 1/1 [00:01<00:00,  1.09s/it]\n"
     ]
    },
    {
     "name": "stdout",
     "output_type": "stream",
     "text": [
      "Visiting https://www.domain.com.au/rent/?ptype=house&bedrooms=3&postcode=3196&sort=dateupdated-desc&page=1\n"
     ]
    },
    {
     "name": "stderr",
     "output_type": "stream",
     "text": [
      "Processing Part 3, Postcode 3196: 100%|███████████████████████████████████████████████████| 7/7 [00:07<00:00,  1.11s/it]\n"
     ]
    },
    {
     "name": "stdout",
     "output_type": "stream",
     "text": [
      "Visiting https://www.domain.com.au/rent/?ptype=house&bedrooms=4&postcode=3196&sort=dateupdated-desc&page=1\n"
     ]
    },
    {
     "name": "stderr",
     "output_type": "stream",
     "text": [
      "Processing Part 3, Postcode 3196: 100%|███████████████████████████████████████████████████| 2/2 [00:02<00:00,  1.21s/it]\n"
     ]
    },
    {
     "name": "stdout",
     "output_type": "stream",
     "text": [
      "Visiting https://www.domain.com.au/rent/?ptype=apartment&bedrooms=1&postcode=3197&sort=dateupdated-desc&page=1\n",
      "No results found on page https://www.domain.com.au/rent/?ptype=apartment&bedrooms=1&postcode=3197&sort=dateupdated-desc&page=1\n"
     ]
    },
    {
     "name": "stderr",
     "output_type": "stream",
     "text": [
      "Processing Part 3, Postcode 3197: 0it [00:00, ?it/s]"
     ]
    },
    {
     "name": "stdout",
     "output_type": "stream",
     "text": [
      "Visiting https://www.domain.com.au/rent/?ptype=apartment&bedrooms=2&postcode=3197&sort=dateupdated-desc&page=1\n"
     ]
    },
    {
     "name": "stderr",
     "output_type": "stream",
     "text": [
      "\n",
      "Processing Part 3, Postcode 3197: 100%|███████████████████████████████████████████████████| 5/5 [00:05<00:00,  1.12s/it]\n"
     ]
    },
    {
     "name": "stdout",
     "output_type": "stream",
     "text": [
      "Visiting https://www.domain.com.au/rent/?ptype=apartment&bedrooms=3&postcode=3197&sort=dateupdated-desc&page=1\n"
     ]
    },
    {
     "name": "stderr",
     "output_type": "stream",
     "text": [
      "Processing Part 3, Postcode 3197: 100%|███████████████████████████████████████████████████| 2/2 [00:02<00:00,  1.50s/it]\n"
     ]
    },
    {
     "name": "stdout",
     "output_type": "stream",
     "text": [
      "Visiting https://www.domain.com.au/rent/?ptype=house&bedrooms=2&postcode=3197&sort=dateupdated-desc&page=1\n"
     ]
    },
    {
     "name": "stderr",
     "output_type": "stream",
     "text": [
      "Processing Part 3, Postcode 3197: 100%|███████████████████████████████████████████████████| 1/1 [00:01<00:00,  1.19s/it]\n"
     ]
    },
    {
     "name": "stdout",
     "output_type": "stream",
     "text": [
      "Visiting https://www.domain.com.au/rent/?ptype=house&bedrooms=3&postcode=3197&sort=dateupdated-desc&page=1\n"
     ]
    },
    {
     "name": "stderr",
     "output_type": "stream",
     "text": [
      "Processing Part 3, Postcode 3197: 100%|███████████████████████████████████████████████████| 3/3 [00:03<00:00,  1.23s/it]\n"
     ]
    },
    {
     "name": "stdout",
     "output_type": "stream",
     "text": [
      "Visiting https://www.domain.com.au/rent/?ptype=house&bedrooms=4&postcode=3197&sort=dateupdated-desc&page=1\n"
     ]
    },
    {
     "name": "stderr",
     "output_type": "stream",
     "text": [
      "Processing Part 3, Postcode 3197: 100%|███████████████████████████████████████████████████| 4/4 [00:05<00:00,  1.44s/it]\n"
     ]
    },
    {
     "name": "stdout",
     "output_type": "stream",
     "text": [
      "Visiting https://www.domain.com.au/rent/?ptype=apartment&bedrooms=1&postcode=3204&sort=dateupdated-desc&page=1\n"
     ]
    },
    {
     "name": "stderr",
     "output_type": "stream",
     "text": [
      "Processing Part 3, Postcode 3204: 100%|███████████████████████████████████████████████████| 6/6 [00:08<00:00,  1.41s/it]\n"
     ]
    },
    {
     "name": "stdout",
     "output_type": "stream",
     "text": [
      "Visiting https://www.domain.com.au/rent/?ptype=apartment&bedrooms=2&postcode=3204&sort=dateupdated-desc&page=1\n"
     ]
    },
    {
     "name": "stderr",
     "output_type": "stream",
     "text": [
      "Processing Part 3, Postcode 3204: 100%|█████████████████████████████████████████████████| 20/20 [00:25<00:00,  1.25s/it]\n"
     ]
    },
    {
     "name": "stdout",
     "output_type": "stream",
     "text": [
      "Visiting https://www.domain.com.au/rent/?ptype=apartment&bedrooms=3&postcode=3204&sort=dateupdated-desc&page=1\n"
     ]
    },
    {
     "name": "stderr",
     "output_type": "stream",
     "text": [
      "Processing Part 3, Postcode 3204: 100%|███████████████████████████████████████████████████| 8/8 [00:10<00:00,  1.31s/it]\n"
     ]
    },
    {
     "name": "stdout",
     "output_type": "stream",
     "text": [
      "Visiting https://www.domain.com.au/rent/?ptype=house&bedrooms=2&postcode=3204&sort=dateupdated-desc&page=1\n"
     ]
    },
    {
     "name": "stderr",
     "output_type": "stream",
     "text": [
      "Processing Part 3, Postcode 3204: 100%|███████████████████████████████████████████████████| 1/1 [00:01<00:00,  1.28s/it]\n"
     ]
    },
    {
     "name": "stdout",
     "output_type": "stream",
     "text": [
      "Visiting https://www.domain.com.au/rent/?ptype=house&bedrooms=3&postcode=3204&sort=dateupdated-desc&page=1\n"
     ]
    },
    {
     "name": "stderr",
     "output_type": "stream",
     "text": [
      "Processing Part 3, Postcode 3204: 100%|███████████████████████████████████████████████████| 8/8 [00:13<00:00,  1.71s/it]\n"
     ]
    },
    {
     "name": "stdout",
     "output_type": "stream",
     "text": [
      "Visiting https://www.domain.com.au/rent/?ptype=house&bedrooms=4&postcode=3204&sort=dateupdated-desc&page=1\n"
     ]
    },
    {
     "name": "stderr",
     "output_type": "stream",
     "text": [
      "Processing Part 3, Postcode 3204: 100%|███████████████████████████████████████████████████| 4/4 [00:05<00:00,  1.35s/it]\n"
     ]
    },
    {
     "name": "stdout",
     "output_type": "stream",
     "text": [
      "Visiting https://www.domain.com.au/rent/?ptype=apartment&bedrooms=1&postcode=3165&sort=dateupdated-desc&page=1\n"
     ]
    },
    {
     "name": "stderr",
     "output_type": "stream",
     "text": [
      "Processing Part 3, Postcode 3165: 100%|███████████████████████████████████████████████████| 1/1 [00:01<00:00,  1.22s/it]\n"
     ]
    },
    {
     "name": "stdout",
     "output_type": "stream",
     "text": [
      "Visiting https://www.domain.com.au/rent/?ptype=apartment&bedrooms=2&postcode=3165&sort=dateupdated-desc&page=1\n"
     ]
    },
    {
     "name": "stderr",
     "output_type": "stream",
     "text": [
      "Processing Part 3, Postcode 3165: 100%|█████████████████████████████████████████████████| 11/11 [00:13<00:00,  1.25s/it]\n"
     ]
    },
    {
     "name": "stdout",
     "output_type": "stream",
     "text": [
      "Visiting https://www.domain.com.au/rent/?ptype=apartment&bedrooms=3&postcode=3165&sort=dateupdated-desc&page=1\n"
     ]
    },
    {
     "name": "stderr",
     "output_type": "stream",
     "text": [
      "Processing Part 3, Postcode 3165: 100%|███████████████████████████████████████████████████| 1/1 [00:01<00:00,  1.06s/it]\n"
     ]
    },
    {
     "name": "stdout",
     "output_type": "stream",
     "text": [
      "Visiting https://www.domain.com.au/rent/?ptype=house&bedrooms=2&postcode=3165&sort=dateupdated-desc&page=1\n"
     ]
    },
    {
     "name": "stderr",
     "output_type": "stream",
     "text": [
      "Processing Part 3, Postcode 3165: 100%|███████████████████████████████████████████████████| 3/3 [00:03<00:00,  1.27s/it]\n"
     ]
    },
    {
     "name": "stdout",
     "output_type": "stream",
     "text": [
      "Visiting https://www.domain.com.au/rent/?ptype=house&bedrooms=3&postcode=3165&sort=dateupdated-desc&page=1\n"
     ]
    },
    {
     "name": "stderr",
     "output_type": "stream",
     "text": [
      "Processing Part 3, Postcode 3165: 100%|███████████████████████████████████████████████████| 5/5 [00:07<00:00,  1.41s/it]\n"
     ]
    },
    {
     "name": "stdout",
     "output_type": "stream",
     "text": [
      "Visiting https://www.domain.com.au/rent/?ptype=house&bedrooms=4&postcode=3165&sort=dateupdated-desc&page=1\n"
     ]
    },
    {
     "name": "stderr",
     "output_type": "stream",
     "text": [
      "Processing Part 3, Postcode 3165: 100%|█████████████████████████████████████████████████| 10/10 [00:13<00:00,  1.40s/it]\n"
     ]
    },
    {
     "name": "stdout",
     "output_type": "stream",
     "text": [
      "Visiting https://www.domain.com.au/rent/?ptype=apartment&bedrooms=1&postcode=3184&sort=dateupdated-desc&page=1\n"
     ]
    },
    {
     "name": "stderr",
     "output_type": "stream",
     "text": [
      "Processing Part 3, Postcode 3184: 100%|█████████████████████████████████████████████████| 20/20 [00:25<00:00,  1.25s/it]\n"
     ]
    },
    {
     "name": "stdout",
     "output_type": "stream",
     "text": [
      "Visiting https://www.domain.com.au/rent/?ptype=apartment&bedrooms=2&postcode=3184&sort=dateupdated-desc&page=1\n"
     ]
    },
    {
     "name": "stderr",
     "output_type": "stream",
     "text": [
      "Processing Part 3, Postcode 3184: 100%|█████████████████████████████████████████████████| 20/20 [00:27<00:00,  1.39s/it]\n"
     ]
    },
    {
     "name": "stdout",
     "output_type": "stream",
     "text": [
      "Visiting https://www.domain.com.au/rent/?ptype=apartment&bedrooms=3&postcode=3184&sort=dateupdated-desc&page=1\n"
     ]
    },
    {
     "name": "stderr",
     "output_type": "stream",
     "text": [
      "Processing Part 3, Postcode 3184: 100%|███████████████████████████████████████████████████| 3/3 [00:03<00:00,  1.29s/it]\n"
     ]
    },
    {
     "name": "stdout",
     "output_type": "stream",
     "text": [
      "Visiting https://www.domain.com.au/rent/?ptype=house&bedrooms=2&postcode=3184&sort=dateupdated-desc&page=1\n"
     ]
    },
    {
     "name": "stderr",
     "output_type": "stream",
     "text": [
      "Processing Part 3, Postcode 3184: 100%|███████████████████████████████████████████████████| 2/2 [00:02<00:00,  1.36s/it]\n"
     ]
    },
    {
     "name": "stdout",
     "output_type": "stream",
     "text": [
      "Visiting https://www.domain.com.au/rent/?ptype=house&bedrooms=3&postcode=3184&sort=dateupdated-desc&page=1\n"
     ]
    },
    {
     "name": "stderr",
     "output_type": "stream",
     "text": [
      "Processing Part 3, Postcode 3184: 100%|███████████████████████████████████████████████████| 2/2 [00:02<00:00,  1.09s/it]\n"
     ]
    },
    {
     "name": "stdout",
     "output_type": "stream",
     "text": [
      "Visiting https://www.domain.com.au/rent/?ptype=house&bedrooms=4&postcode=3184&sort=dateupdated-desc&page=1\n",
      "No results found on page https://www.domain.com.au/rent/?ptype=house&bedrooms=4&postcode=3184&sort=dateupdated-desc&page=1\n"
     ]
    },
    {
     "name": "stderr",
     "output_type": "stream",
     "text": [
      "Processing Part 3, Postcode 3184: 0it [00:00, ?it/s]"
     ]
    },
    {
     "name": "stdout",
     "output_type": "stream",
     "text": [
      "Visiting https://www.domain.com.au/rent/?ptype=apartment&bedrooms=1&postcode=3186&sort=dateupdated-desc&page=1\n"
     ]
    },
    {
     "name": "stderr",
     "output_type": "stream",
     "text": [
      "\n",
      "Processing Part 3, Postcode 3186: 100%|███████████████████████████████████████████████████| 3/3 [00:03<00:00,  1.13s/it]\n"
     ]
    },
    {
     "name": "stdout",
     "output_type": "stream",
     "text": [
      "Visiting https://www.domain.com.au/rent/?ptype=apartment&bedrooms=2&postcode=3186&sort=dateupdated-desc&page=1\n"
     ]
    },
    {
     "name": "stderr",
     "output_type": "stream",
     "text": [
      "Processing Part 3, Postcode 3186: 100%|█████████████████████████████████████████████████| 16/16 [00:19<00:00,  1.23s/it]\n"
     ]
    },
    {
     "name": "stdout",
     "output_type": "stream",
     "text": [
      "Visiting https://www.domain.com.au/rent/?ptype=apartment&bedrooms=3&postcode=3186&sort=dateupdated-desc&page=1\n"
     ]
    },
    {
     "name": "stderr",
     "output_type": "stream",
     "text": [
      "Processing Part 3, Postcode 3186: 100%|███████████████████████████████████████████████████| 9/9 [00:10<00:00,  1.16s/it]\n"
     ]
    },
    {
     "name": "stdout",
     "output_type": "stream",
     "text": [
      "Visiting https://www.domain.com.au/rent/?ptype=house&bedrooms=2&postcode=3186&sort=dateupdated-desc&page=1\n"
     ]
    },
    {
     "name": "stderr",
     "output_type": "stream",
     "text": [
      "Processing Part 3, Postcode 3186: 100%|███████████████████████████████████████████████████| 1/1 [00:01<00:00,  1.06s/it]\n"
     ]
    },
    {
     "name": "stdout",
     "output_type": "stream",
     "text": [
      "Visiting https://www.domain.com.au/rent/?ptype=house&bedrooms=3&postcode=3186&sort=dateupdated-desc&page=1\n"
     ]
    },
    {
     "name": "stderr",
     "output_type": "stream",
     "text": [
      "Processing Part 3, Postcode 3186: 100%|███████████████████████████████████████████████████| 8/8 [00:10<00:00,  1.33s/it]\n"
     ]
    },
    {
     "name": "stdout",
     "output_type": "stream",
     "text": [
      "Visiting https://www.domain.com.au/rent/?ptype=house&bedrooms=4&postcode=3186&sort=dateupdated-desc&page=1\n"
     ]
    },
    {
     "name": "stderr",
     "output_type": "stream",
     "text": [
      "Processing Part 3, Postcode 3186: 100%|█████████████████████████████████████████████████| 16/16 [00:21<00:00,  1.33s/it]\n"
     ]
    },
    {
     "name": "stdout",
     "output_type": "stream",
     "text": [
      "Visiting https://www.domain.com.au/rent/?ptype=apartment&bedrooms=1&postcode=3187&sort=dateupdated-desc&page=1\n",
      "No results found on page https://www.domain.com.au/rent/?ptype=apartment&bedrooms=1&postcode=3187&sort=dateupdated-desc&page=1\n"
     ]
    },
    {
     "name": "stderr",
     "output_type": "stream",
     "text": [
      "Processing Part 3, Postcode 3187: 0it [00:00, ?it/s]"
     ]
    },
    {
     "name": "stdout",
     "output_type": "stream",
     "text": [
      "Visiting https://www.domain.com.au/rent/?ptype=apartment&bedrooms=2&postcode=3187&sort=dateupdated-desc&page=1\n"
     ]
    },
    {
     "name": "stderr",
     "output_type": "stream",
     "text": [
      "\n",
      "Processing Part 3, Postcode 3187: 100%|███████████████████████████████████████████████████| 2/2 [00:04<00:00,  2.25s/it]\n"
     ]
    },
    {
     "name": "stdout",
     "output_type": "stream",
     "text": [
      "Visiting https://www.domain.com.au/rent/?ptype=apartment&bedrooms=3&postcode=3187&sort=dateupdated-desc&page=1\n"
     ]
    },
    {
     "name": "stderr",
     "output_type": "stream",
     "text": [
      "Processing Part 3, Postcode 3187: 100%|███████████████████████████████████████████████████| 2/2 [00:02<00:00,  1.27s/it]\n"
     ]
    },
    {
     "name": "stdout",
     "output_type": "stream",
     "text": [
      "Visiting https://www.domain.com.au/rent/?ptype=house&bedrooms=2&postcode=3187&sort=dateupdated-desc&page=1\n"
     ]
    },
    {
     "name": "stderr",
     "output_type": "stream",
     "text": [
      "Processing Part 3, Postcode 3187: 100%|███████████████████████████████████████████████████| 1/1 [00:01<00:00,  1.41s/it]\n"
     ]
    },
    {
     "name": "stdout",
     "output_type": "stream",
     "text": [
      "Visiting https://www.domain.com.au/rent/?ptype=house&bedrooms=3&postcode=3187&sort=dateupdated-desc&page=1\n"
     ]
    },
    {
     "name": "stderr",
     "output_type": "stream",
     "text": [
      "Processing Part 3, Postcode 3187: 100%|█████████████████████████████████████████████████| 10/10 [00:14<00:00,  1.49s/it]\n"
     ]
    },
    {
     "name": "stdout",
     "output_type": "stream",
     "text": [
      "Visiting https://www.domain.com.au/rent/?ptype=house&bedrooms=4&postcode=3187&sort=dateupdated-desc&page=1\n"
     ]
    },
    {
     "name": "stderr",
     "output_type": "stream",
     "text": [
      "Processing Part 3, Postcode 3187: 100%|█████████████████████████████████████████████████| 10/10 [00:12<00:00,  1.20s/it]\n"
     ]
    },
    {
     "name": "stdout",
     "output_type": "stream",
     "text": [
      "Visiting https://www.domain.com.au/rent/?ptype=apartment&bedrooms=1&postcode=3163&sort=dateupdated-desc&page=1\n"
     ]
    },
    {
     "name": "stderr",
     "output_type": "stream",
     "text": [
      "Processing Part 3, Postcode 3163: 100%|█████████████████████████████████████████████████| 20/20 [00:27<00:00,  1.39s/it]\n"
     ]
    },
    {
     "name": "stdout",
     "output_type": "stream",
     "text": [
      "Visiting https://www.domain.com.au/rent/?ptype=apartment&bedrooms=2&postcode=3163&sort=dateupdated-desc&page=1\n"
     ]
    },
    {
     "name": "stderr",
     "output_type": "stream",
     "text": [
      "Processing Part 3, Postcode 3163: 100%|█████████████████████████████████████████████████| 20/20 [00:24<00:00,  1.22s/it]\n"
     ]
    },
    {
     "name": "stdout",
     "output_type": "stream",
     "text": [
      "Visiting https://www.domain.com.au/rent/?ptype=apartment&bedrooms=3&postcode=3163&sort=dateupdated-desc&page=1\n"
     ]
    },
    {
     "name": "stderr",
     "output_type": "stream",
     "text": [
      "Processing Part 3, Postcode 3163: 100%|███████████████████████████████████████████████████| 5/5 [00:06<00:00,  1.31s/it]\n"
     ]
    },
    {
     "name": "stdout",
     "output_type": "stream",
     "text": [
      "Visiting https://www.domain.com.au/rent/?ptype=house&bedrooms=2&postcode=3163&sort=dateupdated-desc&page=1\n"
     ]
    },
    {
     "name": "stderr",
     "output_type": "stream",
     "text": [
      "Processing Part 3, Postcode 3163: 100%|███████████████████████████████████████████████████| 5/5 [00:06<00:00,  1.33s/it]\n"
     ]
    },
    {
     "name": "stdout",
     "output_type": "stream",
     "text": [
      "Visiting https://www.domain.com.au/rent/?ptype=house&bedrooms=3&postcode=3163&sort=dateupdated-desc&page=1\n"
     ]
    },
    {
     "name": "stderr",
     "output_type": "stream",
     "text": [
      "Processing Part 3, Postcode 3163: 100%|███████████████████████████████████████████████████| 9/9 [00:10<00:00,  1.19s/it]\n"
     ]
    },
    {
     "name": "stdout",
     "output_type": "stream",
     "text": [
      "Visiting https://www.domain.com.au/rent/?ptype=house&bedrooms=4&postcode=3163&sort=dateupdated-desc&page=1\n"
     ]
    },
    {
     "name": "stderr",
     "output_type": "stream",
     "text": [
      "Processing Part 3, Postcode 3163: 100%|███████████████████████████████████████████████████| 9/9 [00:11<00:00,  1.29s/it]\n"
     ]
    },
    {
     "name": "stdout",
     "output_type": "stream",
     "text": [
      "Completed processing Part 3/10. Data saved to ../../data/raw/domain/temp_parts/property_part_3.csv\n",
      "Visiting https://www.domain.com.au/rent/?ptype=apartment&bedrooms=1&postcode=3161&sort=dateupdated-desc&page=1\n"
     ]
    },
    {
     "name": "stderr",
     "output_type": "stream",
     "text": [
      "Processing Part 4, Postcode 3161: 100%|█████████████████████████████████████████████████| 15/15 [00:18<00:00,  1.22s/it]\n"
     ]
    },
    {
     "name": "stdout",
     "output_type": "stream",
     "text": [
      "Visiting https://www.domain.com.au/rent/?ptype=apartment&bedrooms=2&postcode=3161&sort=dateupdated-desc&page=1\n"
     ]
    },
    {
     "name": "stderr",
     "output_type": "stream",
     "text": [
      "Processing Part 4, Postcode 3161: 100%|█████████████████████████████████████████████████| 20/20 [00:26<00:00,  1.32s/it]\n"
     ]
    },
    {
     "name": "stdout",
     "output_type": "stream",
     "text": [
      "Visiting https://www.domain.com.au/rent/?ptype=apartment&bedrooms=3&postcode=3161&sort=dateupdated-desc&page=1\n"
     ]
    },
    {
     "name": "stderr",
     "output_type": "stream",
     "text": [
      "Processing Part 4, Postcode 3161: 100%|███████████████████████████████████████████████████| 3/3 [00:03<00:00,  1.17s/it]\n"
     ]
    },
    {
     "name": "stdout",
     "output_type": "stream",
     "text": [
      "Visiting https://www.domain.com.au/rent/?ptype=house&bedrooms=2&postcode=3161&sort=dateupdated-desc&page=1\n"
     ]
    },
    {
     "name": "stderr",
     "output_type": "stream",
     "text": [
      "Processing Part 4, Postcode 3161: 100%|███████████████████████████████████████████████████| 4/4 [00:04<00:00,  1.14s/it]\n"
     ]
    },
    {
     "name": "stdout",
     "output_type": "stream",
     "text": [
      "Visiting https://www.domain.com.au/rent/?ptype=house&bedrooms=3&postcode=3161&sort=dateupdated-desc&page=1\n"
     ]
    },
    {
     "name": "stderr",
     "output_type": "stream",
     "text": [
      "Processing Part 4, Postcode 3161: 100%|███████████████████████████████████████████████████| 8/8 [00:09<00:00,  1.13s/it]\n"
     ]
    },
    {
     "name": "stdout",
     "output_type": "stream",
     "text": [
      "Visiting https://www.domain.com.au/rent/?ptype=house&bedrooms=4&postcode=3161&sort=dateupdated-desc&page=1\n"
     ]
    },
    {
     "name": "stderr",
     "output_type": "stream",
     "text": [
      "Processing Part 4, Postcode 3161: 100%|███████████████████████████████████████████████████| 2/2 [00:02<00:00,  1.05s/it]\n"
     ]
    },
    {
     "name": "stdout",
     "output_type": "stream",
     "text": [
      "Visiting https://www.domain.com.au/rent/?ptype=apartment&bedrooms=1&postcode=3162&sort=dateupdated-desc&page=1\n"
     ]
    },
    {
     "name": "stderr",
     "output_type": "stream",
     "text": [
      "Processing Part 4, Postcode 3162: 100%|███████████████████████████████████████████████████| 2/2 [00:02<00:00,  1.16s/it]\n"
     ]
    },
    {
     "name": "stdout",
     "output_type": "stream",
     "text": [
      "Visiting https://www.domain.com.au/rent/?ptype=apartment&bedrooms=2&postcode=3162&sort=dateupdated-desc&page=1\n"
     ]
    },
    {
     "name": "stderr",
     "output_type": "stream",
     "text": [
      "Processing Part 4, Postcode 3162: 100%|███████████████████████████████████████████████████| 9/9 [00:12<00:00,  1.39s/it]\n"
     ]
    },
    {
     "name": "stdout",
     "output_type": "stream",
     "text": [
      "Visiting https://www.domain.com.au/rent/?ptype=apartment&bedrooms=3&postcode=3162&sort=dateupdated-desc&page=1\n"
     ]
    },
    {
     "name": "stderr",
     "output_type": "stream",
     "text": [
      "Processing Part 4, Postcode 3162: 100%|███████████████████████████████████████████████████| 3/3 [00:03<00:00,  1.21s/it]\n"
     ]
    },
    {
     "name": "stdout",
     "output_type": "stream",
     "text": [
      "Visiting https://www.domain.com.au/rent/?ptype=house&bedrooms=2&postcode=3162&sort=dateupdated-desc&page=1\n"
     ]
    },
    {
     "name": "stderr",
     "output_type": "stream",
     "text": [
      "Processing Part 4, Postcode 3162: 100%|███████████████████████████████████████████████████| 3/3 [00:04<00:00,  1.56s/it]\n"
     ]
    },
    {
     "name": "stdout",
     "output_type": "stream",
     "text": [
      "Visiting https://www.domain.com.au/rent/?ptype=house&bedrooms=3&postcode=3162&sort=dateupdated-desc&page=1\n"
     ]
    },
    {
     "name": "stderr",
     "output_type": "stream",
     "text": [
      "Processing Part 4, Postcode 3162: 100%|███████████████████████████████████████████████████| 6/6 [00:08<00:00,  1.38s/it]\n"
     ]
    },
    {
     "name": "stdout",
     "output_type": "stream",
     "text": [
      "Visiting https://www.domain.com.au/rent/?ptype=house&bedrooms=4&postcode=3162&sort=dateupdated-desc&page=1\n"
     ]
    },
    {
     "name": "stderr",
     "output_type": "stream",
     "text": [
      "Processing Part 4, Postcode 3162: 100%|███████████████████████████████████████████████████| 3/3 [00:03<00:00,  1.17s/it]\n"
     ]
    },
    {
     "name": "stdout",
     "output_type": "stream",
     "text": [
      "Visiting https://www.domain.com.au/rent/?ptype=apartment&bedrooms=1&postcode=3192&sort=dateupdated-desc&page=1\n"
     ]
    },
    {
     "name": "stderr",
     "output_type": "stream",
     "text": [
      "Processing Part 4, Postcode 3192: 100%|███████████████████████████████████████████████████| 6/6 [00:07<00:00,  1.20s/it]\n"
     ]
    },
    {
     "name": "stdout",
     "output_type": "stream",
     "text": [
      "Visiting https://www.domain.com.au/rent/?ptype=apartment&bedrooms=2&postcode=3192&sort=dateupdated-desc&page=1\n"
     ]
    },
    {
     "name": "stderr",
     "output_type": "stream",
     "text": [
      "Processing Part 4, Postcode 3192: 100%|█████████████████████████████████████████████████| 15/15 [00:19<00:00,  1.29s/it]\n"
     ]
    },
    {
     "name": "stdout",
     "output_type": "stream",
     "text": [
      "Visiting https://www.domain.com.au/rent/?ptype=apartment&bedrooms=3&postcode=3192&sort=dateupdated-desc&page=1\n",
      "No results found on page https://www.domain.com.au/rent/?ptype=apartment&bedrooms=3&postcode=3192&sort=dateupdated-desc&page=1\n"
     ]
    },
    {
     "name": "stderr",
     "output_type": "stream",
     "text": [
      "Processing Part 4, Postcode 3192: 0it [00:00, ?it/s]"
     ]
    },
    {
     "name": "stdout",
     "output_type": "stream",
     "text": [
      "Visiting https://www.domain.com.au/rent/?ptype=house&bedrooms=2&postcode=3192&sort=dateupdated-desc&page=1\n"
     ]
    },
    {
     "name": "stderr",
     "output_type": "stream",
     "text": [
      "\n",
      "Processing Part 4, Postcode 3192: 100%|███████████████████████████████████████████████████| 1/1 [00:01<00:00,  1.08s/it]\n"
     ]
    },
    {
     "name": "stdout",
     "output_type": "stream",
     "text": [
      "Visiting https://www.domain.com.au/rent/?ptype=house&bedrooms=3&postcode=3192&sort=dateupdated-desc&page=1\n"
     ]
    },
    {
     "name": "stderr",
     "output_type": "stream",
     "text": [
      "Processing Part 4, Postcode 3192: 100%|███████████████████████████████████████████████████| 9/9 [00:12<00:00,  1.40s/it]\n"
     ]
    },
    {
     "name": "stdout",
     "output_type": "stream",
     "text": [
      "Visiting https://www.domain.com.au/rent/?ptype=house&bedrooms=4&postcode=3192&sort=dateupdated-desc&page=1\n"
     ]
    },
    {
     "name": "stderr",
     "output_type": "stream",
     "text": [
      "Processing Part 4, Postcode 3192: 100%|███████████████████████████████████████████████████| 6/6 [00:07<00:00,  1.18s/it]\n"
     ]
    },
    {
     "name": "stdout",
     "output_type": "stream",
     "text": [
      "Visiting https://www.domain.com.au/rent/?ptype=apartment&bedrooms=1&postcode=3185&sort=dateupdated-desc&page=1\n"
     ]
    },
    {
     "name": "stderr",
     "output_type": "stream",
     "text": [
      "Processing Part 4, Postcode 3185: 100%|███████████████████████████████████████████████████| 6/6 [00:09<00:00,  1.52s/it]\n"
     ]
    },
    {
     "name": "stdout",
     "output_type": "stream",
     "text": [
      "Visiting https://www.domain.com.au/rent/?ptype=apartment&bedrooms=2&postcode=3185&sort=dateupdated-desc&page=1\n"
     ]
    },
    {
     "name": "stderr",
     "output_type": "stream",
     "text": [
      "Processing Part 4, Postcode 3185: 100%|█████████████████████████████████████████████████| 20/20 [00:26<00:00,  1.34s/it]\n"
     ]
    },
    {
     "name": "stdout",
     "output_type": "stream",
     "text": [
      "Visiting https://www.domain.com.au/rent/?ptype=apartment&bedrooms=3&postcode=3185&sort=dateupdated-desc&page=1\n"
     ]
    },
    {
     "name": "stderr",
     "output_type": "stream",
     "text": [
      "Processing Part 4, Postcode 3185: 100%|███████████████████████████████████████████████████| 3/3 [00:03<00:00,  1.09s/it]\n"
     ]
    },
    {
     "name": "stdout",
     "output_type": "stream",
     "text": [
      "Visiting https://www.domain.com.au/rent/?ptype=house&bedrooms=2&postcode=3185&sort=dateupdated-desc&page=1\n"
     ]
    },
    {
     "name": "stderr",
     "output_type": "stream",
     "text": [
      "Processing Part 4, Postcode 3185: 100%|███████████████████████████████████████████████████| 3/3 [00:03<00:00,  1.03s/it]\n"
     ]
    },
    {
     "name": "stdout",
     "output_type": "stream",
     "text": [
      "Visiting https://www.domain.com.au/rent/?ptype=house&bedrooms=3&postcode=3185&sort=dateupdated-desc&page=1\n"
     ]
    },
    {
     "name": "stderr",
     "output_type": "stream",
     "text": [
      "Processing Part 4, Postcode 3185: 100%|███████████████████████████████████████████████████| 4/4 [00:04<00:00,  1.20s/it]\n"
     ]
    },
    {
     "name": "stdout",
     "output_type": "stream",
     "text": [
      "Visiting https://www.domain.com.au/rent/?ptype=house&bedrooms=4&postcode=3185&sort=dateupdated-desc&page=1\n"
     ]
    },
    {
     "name": "stderr",
     "output_type": "stream",
     "text": [
      "Processing Part 4, Postcode 3185: 100%|███████████████████████████████████████████████████| 3/3 [00:04<00:00,  1.38s/it]\n"
     ]
    },
    {
     "name": "stdout",
     "output_type": "stream",
     "text": [
      "Visiting https://www.domain.com.au/rent/?ptype=apartment&bedrooms=1&postcode=3188&sort=dateupdated-desc&page=1\n"
     ]
    },
    {
     "name": "stderr",
     "output_type": "stream",
     "text": [
      "Processing Part 4, Postcode 3188: 100%|███████████████████████████████████████████████████| 1/1 [00:01<00:00,  1.53s/it]\n"
     ]
    },
    {
     "name": "stdout",
     "output_type": "stream",
     "text": [
      "Visiting https://www.domain.com.au/rent/?ptype=apartment&bedrooms=2&postcode=3188&sort=dateupdated-desc&page=1\n"
     ]
    },
    {
     "name": "stderr",
     "output_type": "stream",
     "text": [
      "Processing Part 4, Postcode 3188: 100%|█████████████████████████████████████████████████| 10/10 [00:11<00:00,  1.16s/it]\n"
     ]
    },
    {
     "name": "stdout",
     "output_type": "stream",
     "text": [
      "Visiting https://www.domain.com.au/rent/?ptype=apartment&bedrooms=3&postcode=3188&sort=dateupdated-desc&page=1\n"
     ]
    },
    {
     "name": "stderr",
     "output_type": "stream",
     "text": [
      "Processing Part 4, Postcode 3188: 100%|███████████████████████████████████████████████████| 3/3 [00:03<00:00,  1.13s/it]\n"
     ]
    },
    {
     "name": "stdout",
     "output_type": "stream",
     "text": [
      "Visiting https://www.domain.com.au/rent/?ptype=house&bedrooms=2&postcode=3188&sort=dateupdated-desc&page=1\n",
      "No results found on page https://www.domain.com.au/rent/?ptype=house&bedrooms=2&postcode=3188&sort=dateupdated-desc&page=1\n"
     ]
    },
    {
     "name": "stderr",
     "output_type": "stream",
     "text": [
      "Processing Part 4, Postcode 3188: 0it [00:00, ?it/s]"
     ]
    },
    {
     "name": "stdout",
     "output_type": "stream",
     "text": [
      "Visiting https://www.domain.com.au/rent/?ptype=house&bedrooms=3&postcode=3188&sort=dateupdated-desc&page=1\n"
     ]
    },
    {
     "name": "stderr",
     "output_type": "stream",
     "text": [
      "\n",
      "Processing Part 4, Postcode 3188: 100%|███████████████████████████████████████████████████| 5/5 [00:05<00:00,  1.10s/it]\n"
     ]
    },
    {
     "name": "stdout",
     "output_type": "stream",
     "text": [
      "Visiting https://www.domain.com.au/rent/?ptype=house&bedrooms=4&postcode=3188&sort=dateupdated-desc&page=1\n"
     ]
    },
    {
     "name": "stderr",
     "output_type": "stream",
     "text": [
      "Processing Part 4, Postcode 3188: 100%|█████████████████████████████████████████████████| 11/11 [00:15<00:00,  1.42s/it]\n"
     ]
    },
    {
     "name": "stdout",
     "output_type": "stream",
     "text": [
      "Visiting https://www.domain.com.au/rent/?ptype=apartment&bedrooms=1&postcode=3193&sort=dateupdated-desc&page=1\n",
      "No results found on page https://www.domain.com.au/rent/?ptype=apartment&bedrooms=1&postcode=3193&sort=dateupdated-desc&page=1\n"
     ]
    },
    {
     "name": "stderr",
     "output_type": "stream",
     "text": [
      "Processing Part 4, Postcode 3193: 0it [00:00, ?it/s]"
     ]
    },
    {
     "name": "stdout",
     "output_type": "stream",
     "text": [
      "Visiting https://www.domain.com.au/rent/?ptype=apartment&bedrooms=2&postcode=3193&sort=dateupdated-desc&page=1\n"
     ]
    },
    {
     "name": "stderr",
     "output_type": "stream",
     "text": [
      "\n",
      "Processing Part 4, Postcode 3193: 100%|███████████████████████████████████████████████████| 3/3 [00:03<00:00,  1.22s/it]\n"
     ]
    },
    {
     "name": "stdout",
     "output_type": "stream",
     "text": [
      "Visiting https://www.domain.com.au/rent/?ptype=apartment&bedrooms=3&postcode=3193&sort=dateupdated-desc&page=1\n",
      "No results found on page https://www.domain.com.au/rent/?ptype=apartment&bedrooms=3&postcode=3193&sort=dateupdated-desc&page=1\n"
     ]
    },
    {
     "name": "stderr",
     "output_type": "stream",
     "text": [
      "Processing Part 4, Postcode 3193: 0it [00:00, ?it/s]"
     ]
    },
    {
     "name": "stdout",
     "output_type": "stream",
     "text": [
      "Visiting https://www.domain.com.au/rent/?ptype=house&bedrooms=2&postcode=3193&sort=dateupdated-desc&page=1\n"
     ]
    },
    {
     "name": "stderr",
     "output_type": "stream",
     "text": [
      "\n"
     ]
    },
    {
     "name": "stdout",
     "output_type": "stream",
     "text": [
      "No results found on page https://www.domain.com.au/rent/?ptype=house&bedrooms=2&postcode=3193&sort=dateupdated-desc&page=1\n"
     ]
    },
    {
     "name": "stderr",
     "output_type": "stream",
     "text": [
      "Processing Part 4, Postcode 3193: 0it [00:00, ?it/s]"
     ]
    },
    {
     "name": "stdout",
     "output_type": "stream",
     "text": [
      "Visiting https://www.domain.com.au/rent/?ptype=house&bedrooms=3&postcode=3193&sort=dateupdated-desc&page=1\n"
     ]
    },
    {
     "name": "stderr",
     "output_type": "stream",
     "text": [
      "\n",
      "Processing Part 4, Postcode 3193: 100%|███████████████████████████████████████████████████| 5/5 [00:06<00:00,  1.25s/it]\n"
     ]
    },
    {
     "name": "stdout",
     "output_type": "stream",
     "text": [
      "Visiting https://www.domain.com.au/rent/?ptype=house&bedrooms=4&postcode=3193&sort=dateupdated-desc&page=1\n"
     ]
    },
    {
     "name": "stderr",
     "output_type": "stream",
     "text": [
      "Processing Part 4, Postcode 3193: 100%|███████████████████████████████████████████████████| 4/4 [00:05<00:00,  1.48s/it]\n"
     ]
    },
    {
     "name": "stdout",
     "output_type": "stream",
     "text": [
      "Visiting https://www.domain.com.au/rent/?ptype=apartment&bedrooms=1&postcode=3144&sort=dateupdated-desc&page=1\n"
     ]
    },
    {
     "name": "stderr",
     "output_type": "stream",
     "text": [
      "Processing Part 4, Postcode 3144: 100%|███████████████████████████████████████████████████| 3/3 [00:03<00:00,  1.26s/it]\n"
     ]
    },
    {
     "name": "stdout",
     "output_type": "stream",
     "text": [
      "Visiting https://www.domain.com.au/rent/?ptype=apartment&bedrooms=2&postcode=3144&sort=dateupdated-desc&page=1\n"
     ]
    },
    {
     "name": "stderr",
     "output_type": "stream",
     "text": [
      "Processing Part 4, Postcode 3144: 100%|█████████████████████████████████████████████████| 15/15 [00:18<00:00,  1.24s/it]\n"
     ]
    },
    {
     "name": "stdout",
     "output_type": "stream",
     "text": [
      "Visiting https://www.domain.com.au/rent/?ptype=apartment&bedrooms=3&postcode=3144&sort=dateupdated-desc&page=1\n"
     ]
    },
    {
     "name": "stderr",
     "output_type": "stream",
     "text": [
      "Processing Part 4, Postcode 3144: 100%|███████████████████████████████████████████████████| 5/5 [00:06<00:00,  1.29s/it]\n"
     ]
    },
    {
     "name": "stdout",
     "output_type": "stream",
     "text": [
      "Visiting https://www.domain.com.au/rent/?ptype=house&bedrooms=2&postcode=3144&sort=dateupdated-desc&page=1\n"
     ]
    },
    {
     "name": "stderr",
     "output_type": "stream",
     "text": [
      "Processing Part 4, Postcode 3144: 100%|███████████████████████████████████████████████████| 1/1 [00:01<00:00,  1.17s/it]\n"
     ]
    },
    {
     "name": "stdout",
     "output_type": "stream",
     "text": [
      "Visiting https://www.domain.com.au/rent/?ptype=house&bedrooms=3&postcode=3144&sort=dateupdated-desc&page=1\n"
     ]
    },
    {
     "name": "stderr",
     "output_type": "stream",
     "text": [
      "Processing Part 4, Postcode 3144: 100%|███████████████████████████████████████████████████| 3/3 [00:03<00:00,  1.27s/it]\n"
     ]
    },
    {
     "name": "stdout",
     "output_type": "stream",
     "text": [
      "Visiting https://www.domain.com.au/rent/?ptype=house&bedrooms=4&postcode=3144&sort=dateupdated-desc&page=1\n"
     ]
    },
    {
     "name": "stderr",
     "output_type": "stream",
     "text": [
      "Processing Part 4, Postcode 3144: 100%|███████████████████████████████████████████████████| 5/5 [00:06<00:00,  1.27s/it]\n"
     ]
    },
    {
     "name": "stdout",
     "output_type": "stream",
     "text": [
      "Visiting https://www.domain.com.au/rent/?ptype=apartment&bedrooms=1&postcode=3145&sort=dateupdated-desc&page=1\n"
     ]
    },
    {
     "name": "stderr",
     "output_type": "stream",
     "text": [
      "Processing Part 4, Postcode 3145: 100%|█████████████████████████████████████████████████| 20/20 [00:27<00:00,  1.35s/it]\n"
     ]
    },
    {
     "name": "stdout",
     "output_type": "stream",
     "text": [
      "Visiting https://www.domain.com.au/rent/?ptype=apartment&bedrooms=2&postcode=3145&sort=dateupdated-desc&page=1\n"
     ]
    },
    {
     "name": "stderr",
     "output_type": "stream",
     "text": [
      "Processing Part 4, Postcode 3145: 100%|█████████████████████████████████████████████████| 20/20 [00:24<00:00,  1.22s/it]\n"
     ]
    },
    {
     "name": "stdout",
     "output_type": "stream",
     "text": [
      "Visiting https://www.domain.com.au/rent/?ptype=apartment&bedrooms=3&postcode=3145&sort=dateupdated-desc&page=1\n"
     ]
    },
    {
     "name": "stderr",
     "output_type": "stream",
     "text": [
      "Processing Part 4, Postcode 3145: 100%|███████████████████████████████████████████████████| 8/8 [00:11<00:00,  1.38s/it]\n"
     ]
    },
    {
     "name": "stdout",
     "output_type": "stream",
     "text": [
      "Visiting https://www.domain.com.au/rent/?ptype=house&bedrooms=2&postcode=3145&sort=dateupdated-desc&page=1\n"
     ]
    },
    {
     "name": "stderr",
     "output_type": "stream",
     "text": [
      "Processing Part 4, Postcode 3145: 100%|███████████████████████████████████████████████████| 3/3 [00:03<00:00,  1.16s/it]\n"
     ]
    },
    {
     "name": "stdout",
     "output_type": "stream",
     "text": [
      "Visiting https://www.domain.com.au/rent/?ptype=house&bedrooms=3&postcode=3145&sort=dateupdated-desc&page=1\n"
     ]
    },
    {
     "name": "stderr",
     "output_type": "stream",
     "text": [
      "Processing Part 4, Postcode 3145: 100%|█████████████████████████████████████████████████| 14/14 [00:15<00:00,  1.13s/it]\n"
     ]
    },
    {
     "name": "stdout",
     "output_type": "stream",
     "text": [
      "Visiting https://www.domain.com.au/rent/?ptype=house&bedrooms=4&postcode=3145&sort=dateupdated-desc&page=1\n"
     ]
    },
    {
     "name": "stderr",
     "output_type": "stream",
     "text": [
      "Processing Part 4, Postcode 3145: 100%|█████████████████████████████████████████████████| 10/10 [00:12<00:00,  1.25s/it]\n"
     ]
    },
    {
     "name": "stdout",
     "output_type": "stream",
     "text": [
      "Visiting https://www.domain.com.au/rent/?ptype=apartment&bedrooms=1&postcode=3194&sort=dateupdated-desc&page=1\n"
     ]
    },
    {
     "name": "stderr",
     "output_type": "stream",
     "text": [
      "Processing Part 4, Postcode 3194: 100%|███████████████████████████████████████████████████| 5/5 [00:06<00:00,  1.33s/it]\n"
     ]
    },
    {
     "name": "stdout",
     "output_type": "stream",
     "text": [
      "Visiting https://www.domain.com.au/rent/?ptype=apartment&bedrooms=2&postcode=3194&sort=dateupdated-desc&page=1\n"
     ]
    },
    {
     "name": "stderr",
     "output_type": "stream",
     "text": [
      "Processing Part 4, Postcode 3194: 100%|█████████████████████████████████████████████████| 13/13 [00:16<00:00,  1.25s/it]\n"
     ]
    },
    {
     "name": "stdout",
     "output_type": "stream",
     "text": [
      "Visiting https://www.domain.com.au/rent/?ptype=apartment&bedrooms=3&postcode=3194&sort=dateupdated-desc&page=1\n",
      "No results found on page https://www.domain.com.au/rent/?ptype=apartment&bedrooms=3&postcode=3194&sort=dateupdated-desc&page=1\n"
     ]
    },
    {
     "name": "stderr",
     "output_type": "stream",
     "text": [
      "Processing Part 4, Postcode 3194: 0it [00:00, ?it/s]"
     ]
    },
    {
     "name": "stdout",
     "output_type": "stream",
     "text": [
      "Visiting https://www.domain.com.au/rent/?ptype=house&bedrooms=2&postcode=3194&sort=dateupdated-desc&page=1\n"
     ]
    },
    {
     "name": "stderr",
     "output_type": "stream",
     "text": [
      "\n"
     ]
    },
    {
     "name": "stdout",
     "output_type": "stream",
     "text": [
      "No results found on page https://www.domain.com.au/rent/?ptype=house&bedrooms=2&postcode=3194&sort=dateupdated-desc&page=1\n"
     ]
    },
    {
     "name": "stderr",
     "output_type": "stream",
     "text": [
      "Processing Part 4, Postcode 3194: 0it [00:00, ?it/s]"
     ]
    },
    {
     "name": "stdout",
     "output_type": "stream",
     "text": [
      "Visiting https://www.domain.com.au/rent/?ptype=house&bedrooms=3&postcode=3194&sort=dateupdated-desc&page=1\n"
     ]
    },
    {
     "name": "stderr",
     "output_type": "stream",
     "text": [
      "\n",
      "Processing Part 4, Postcode 3194: 100%|███████████████████████████████████████████████████| 1/1 [00:01<00:00,  1.09s/it]\n"
     ]
    },
    {
     "name": "stdout",
     "output_type": "stream",
     "text": [
      "Visiting https://www.domain.com.au/rent/?ptype=house&bedrooms=4&postcode=3194&sort=dateupdated-desc&page=1\n"
     ]
    },
    {
     "name": "stderr",
     "output_type": "stream",
     "text": [
      "Processing Part 4, Postcode 3194: 100%|███████████████████████████████████████████████████| 2/2 [00:03<00:00,  1.96s/it]\n"
     ]
    },
    {
     "name": "stdout",
     "output_type": "stream",
     "text": [
      "Visiting https://www.domain.com.au/rent/?ptype=apartment&bedrooms=1&postcode=3195&sort=dateupdated-desc&page=1\n"
     ]
    },
    {
     "name": "stderr",
     "output_type": "stream",
     "text": [
      "Processing Part 4, Postcode 3195: 100%|███████████████████████████████████████████████████| 6/6 [00:07<00:00,  1.30s/it]\n"
     ]
    },
    {
     "name": "stdout",
     "output_type": "stream",
     "text": [
      "Visiting https://www.domain.com.au/rent/?ptype=apartment&bedrooms=2&postcode=3195&sort=dateupdated-desc&page=1\n"
     ]
    },
    {
     "name": "stderr",
     "output_type": "stream",
     "text": [
      "Processing Part 4, Postcode 3195: 100%|█████████████████████████████████████████████████| 14/14 [00:18<00:00,  1.31s/it]\n"
     ]
    },
    {
     "name": "stdout",
     "output_type": "stream",
     "text": [
      "Visiting https://www.domain.com.au/rent/?ptype=apartment&bedrooms=3&postcode=3195&sort=dateupdated-desc&page=1\n"
     ]
    },
    {
     "name": "stderr",
     "output_type": "stream",
     "text": [
      "Processing Part 4, Postcode 3195: 100%|███████████████████████████████████████████████████| 1/1 [00:01<00:00,  1.33s/it]\n"
     ]
    },
    {
     "name": "stdout",
     "output_type": "stream",
     "text": [
      "Visiting https://www.domain.com.au/rent/?ptype=house&bedrooms=2&postcode=3195&sort=dateupdated-desc&page=1\n"
     ]
    },
    {
     "name": "stderr",
     "output_type": "stream",
     "text": [
      "Processing Part 4, Postcode 3195: 100%|███████████████████████████████████████████████████| 2/2 [00:02<00:00,  1.23s/it]\n"
     ]
    },
    {
     "name": "stdout",
     "output_type": "stream",
     "text": [
      "Visiting https://www.domain.com.au/rent/?ptype=house&bedrooms=3&postcode=3195&sort=dateupdated-desc&page=1\n"
     ]
    },
    {
     "name": "stderr",
     "output_type": "stream",
     "text": [
      "Processing Part 4, Postcode 3195: 100%|███████████████████████████████████████████████████| 4/4 [00:04<00:00,  1.20s/it]\n"
     ]
    },
    {
     "name": "stdout",
     "output_type": "stream",
     "text": [
      "Visiting https://www.domain.com.au/rent/?ptype=house&bedrooms=4&postcode=3195&sort=dateupdated-desc&page=1\n"
     ]
    },
    {
     "name": "stderr",
     "output_type": "stream",
     "text": [
      "Processing Part 4, Postcode 3195: 100%|███████████████████████████████████████████████████| 3/3 [00:03<00:00,  1.19s/it]\n"
     ]
    },
    {
     "name": "stdout",
     "output_type": "stream",
     "text": [
      "Visiting https://www.domain.com.au/rent/?ptype=apartment&bedrooms=1&postcode=3163&sort=dateupdated-desc&page=1\n"
     ]
    },
    {
     "name": "stderr",
     "output_type": "stream",
     "text": [
      "Processing Part 4, Postcode 3163: 100%|█████████████████████████████████████████████████| 20/20 [00:25<00:00,  1.29s/it]\n"
     ]
    },
    {
     "name": "stdout",
     "output_type": "stream",
     "text": [
      "Visiting https://www.domain.com.au/rent/?ptype=apartment&bedrooms=2&postcode=3163&sort=dateupdated-desc&page=1\n"
     ]
    },
    {
     "name": "stderr",
     "output_type": "stream",
     "text": [
      "Processing Part 4, Postcode 3163: 100%|█████████████████████████████████████████████████| 20/20 [00:25<00:00,  1.28s/it]\n"
     ]
    },
    {
     "name": "stdout",
     "output_type": "stream",
     "text": [
      "Visiting https://www.domain.com.au/rent/?ptype=apartment&bedrooms=3&postcode=3163&sort=dateupdated-desc&page=1\n"
     ]
    },
    {
     "name": "stderr",
     "output_type": "stream",
     "text": [
      "Processing Part 4, Postcode 3163: 100%|███████████████████████████████████████████████████| 5/5 [00:05<00:00,  1.17s/it]\n"
     ]
    },
    {
     "name": "stdout",
     "output_type": "stream",
     "text": [
      "Visiting https://www.domain.com.au/rent/?ptype=house&bedrooms=2&postcode=3163&sort=dateupdated-desc&page=1\n"
     ]
    },
    {
     "name": "stderr",
     "output_type": "stream",
     "text": [
      "Processing Part 4, Postcode 3163: 100%|███████████████████████████████████████████████████| 5/5 [00:05<00:00,  1.09s/it]\n"
     ]
    },
    {
     "name": "stdout",
     "output_type": "stream",
     "text": [
      "Visiting https://www.domain.com.au/rent/?ptype=house&bedrooms=3&postcode=3163&sort=dateupdated-desc&page=1\n"
     ]
    },
    {
     "name": "stderr",
     "output_type": "stream",
     "text": [
      "Processing Part 4, Postcode 3163: 100%|███████████████████████████████████████████████████| 9/9 [00:10<00:00,  1.21s/it]\n"
     ]
    },
    {
     "name": "stdout",
     "output_type": "stream",
     "text": [
      "Visiting https://www.domain.com.au/rent/?ptype=house&bedrooms=4&postcode=3163&sort=dateupdated-desc&page=1\n"
     ]
    },
    {
     "name": "stderr",
     "output_type": "stream",
     "text": [
      "Processing Part 4, Postcode 3163: 100%|███████████████████████████████████████████████████| 9/9 [00:13<00:00,  1.55s/it]\n"
     ]
    },
    {
     "name": "stdout",
     "output_type": "stream",
     "text": [
      "Visiting https://www.domain.com.au/rent/?ptype=apartment&bedrooms=1&postcode=3166&sort=dateupdated-desc&page=1\n"
     ]
    },
    {
     "name": "stderr",
     "output_type": "stream",
     "text": [
      "Processing Part 4, Postcode 3166: 100%|███████████████████████████████████████████████████| 5/5 [00:05<00:00,  1.17s/it]\n"
     ]
    },
    {
     "name": "stdout",
     "output_type": "stream",
     "text": [
      "Visiting https://www.domain.com.au/rent/?ptype=apartment&bedrooms=2&postcode=3166&sort=dateupdated-desc&page=1\n"
     ]
    },
    {
     "name": "stderr",
     "output_type": "stream",
     "text": [
      "Processing Part 4, Postcode 3166: 100%|█████████████████████████████████████████████████| 13/13 [00:16<00:00,  1.29s/it]\n"
     ]
    },
    {
     "name": "stdout",
     "output_type": "stream",
     "text": [
      "Visiting https://www.domain.com.au/rent/?ptype=apartment&bedrooms=3&postcode=3166&sort=dateupdated-desc&page=1\n"
     ]
    },
    {
     "name": "stderr",
     "output_type": "stream",
     "text": [
      "Processing Part 4, Postcode 3166: 100%|███████████████████████████████████████████████████| 2/2 [00:02<00:00,  1.12s/it]\n"
     ]
    },
    {
     "name": "stdout",
     "output_type": "stream",
     "text": [
      "Visiting https://www.domain.com.au/rent/?ptype=house&bedrooms=2&postcode=3166&sort=dateupdated-desc&page=1\n"
     ]
    },
    {
     "name": "stderr",
     "output_type": "stream",
     "text": [
      "Processing Part 4, Postcode 3166: 100%|███████████████████████████████████████████████████| 6/6 [00:07<00:00,  1.23s/it]\n"
     ]
    },
    {
     "name": "stdout",
     "output_type": "stream",
     "text": [
      "Visiting https://www.domain.com.au/rent/?ptype=house&bedrooms=3&postcode=3166&sort=dateupdated-desc&page=1\n"
     ]
    },
    {
     "name": "stderr",
     "output_type": "stream",
     "text": [
      "Processing Part 4, Postcode 3166: 100%|███████████████████████████████████████████████████| 7/7 [00:08<00:00,  1.20s/it]\n"
     ]
    },
    {
     "name": "stdout",
     "output_type": "stream",
     "text": [
      "Visiting https://www.domain.com.au/rent/?ptype=house&bedrooms=4&postcode=3166&sort=dateupdated-desc&page=1\n"
     ]
    },
    {
     "name": "stderr",
     "output_type": "stream",
     "text": [
      "Processing Part 4, Postcode 3166: 100%|███████████████████████████████████████████████████| 2/2 [00:02<00:00,  1.13s/it]\n"
     ]
    },
    {
     "name": "stdout",
     "output_type": "stream",
     "text": [
      "Visiting https://www.domain.com.au/rent/?ptype=apartment&bedrooms=1&postcode=3018&sort=dateupdated-desc&page=1\n"
     ]
    },
    {
     "name": "stderr",
     "output_type": "stream",
     "text": [
      "Processing Part 4, Postcode 3018: 100%|███████████████████████████████████████████████████| 1/1 [00:01<00:00,  1.08s/it]\n"
     ]
    },
    {
     "name": "stdout",
     "output_type": "stream",
     "text": [
      "Visiting https://www.domain.com.au/rent/?ptype=apartment&bedrooms=2&postcode=3018&sort=dateupdated-desc&page=1\n"
     ]
    },
    {
     "name": "stderr",
     "output_type": "stream",
     "text": [
      "Processing Part 4, Postcode 3018: 100%|███████████████████████████████████████████████████| 5/5 [00:07<00:00,  1.58s/it]\n"
     ]
    },
    {
     "name": "stdout",
     "output_type": "stream",
     "text": [
      "Visiting https://www.domain.com.au/rent/?ptype=apartment&bedrooms=3&postcode=3018&sort=dateupdated-desc&page=1\n"
     ]
    },
    {
     "name": "stderr",
     "output_type": "stream",
     "text": [
      "Processing Part 4, Postcode 3018: 100%|███████████████████████████████████████████████████| 2/2 [00:03<00:00,  1.79s/it]\n"
     ]
    },
    {
     "name": "stdout",
     "output_type": "stream",
     "text": [
      "Visiting https://www.domain.com.au/rent/?ptype=house&bedrooms=2&postcode=3018&sort=dateupdated-desc&page=1\n"
     ]
    },
    {
     "name": "stderr",
     "output_type": "stream",
     "text": [
      "Processing Part 4, Postcode 3018: 100%|███████████████████████████████████████████████████| 1/1 [00:01<00:00,  1.41s/it]\n"
     ]
    },
    {
     "name": "stdout",
     "output_type": "stream",
     "text": [
      "Visiting https://www.domain.com.au/rent/?ptype=house&bedrooms=3&postcode=3018&sort=dateupdated-desc&page=1\n"
     ]
    },
    {
     "name": "stderr",
     "output_type": "stream",
     "text": [
      "Processing Part 4, Postcode 3018: 100%|███████████████████████████████████████████████████| 8/8 [00:09<00:00,  1.24s/it]\n"
     ]
    },
    {
     "name": "stdout",
     "output_type": "stream",
     "text": [
      "Visiting https://www.domain.com.au/rent/?ptype=house&bedrooms=4&postcode=3018&sort=dateupdated-desc&page=1\n"
     ]
    },
    {
     "name": "stderr",
     "output_type": "stream",
     "text": [
      "Processing Part 4, Postcode 3018: 100%|███████████████████████████████████████████████████| 2/2 [00:02<00:00,  1.05s/it]\n"
     ]
    },
    {
     "name": "stdout",
     "output_type": "stream",
     "text": [
      "Visiting https://www.domain.com.au/rent/?ptype=apartment&bedrooms=1&postcode=3025&sort=dateupdated-desc&page=1\n",
      "No results found on page https://www.domain.com.au/rent/?ptype=apartment&bedrooms=1&postcode=3025&sort=dateupdated-desc&page=1\n"
     ]
    },
    {
     "name": "stderr",
     "output_type": "stream",
     "text": [
      "Processing Part 4, Postcode 3025: 0it [00:00, ?it/s]"
     ]
    },
    {
     "name": "stdout",
     "output_type": "stream",
     "text": [
      "Visiting https://www.domain.com.au/rent/?ptype=apartment&bedrooms=2&postcode=3025&sort=dateupdated-desc&page=1\n"
     ]
    },
    {
     "name": "stderr",
     "output_type": "stream",
     "text": [
      "\n",
      "Processing Part 4, Postcode 3025: 100%|███████████████████████████████████████████████████| 3/3 [00:04<00:00,  1.65s/it]\n"
     ]
    },
    {
     "name": "stdout",
     "output_type": "stream",
     "text": [
      "Visiting https://www.domain.com.au/rent/?ptype=apartment&bedrooms=3&postcode=3025&sort=dateupdated-desc&page=1\n",
      "No results found on page https://www.domain.com.au/rent/?ptype=apartment&bedrooms=3&postcode=3025&sort=dateupdated-desc&page=1\n"
     ]
    },
    {
     "name": "stderr",
     "output_type": "stream",
     "text": [
      "Processing Part 4, Postcode 3025: 0it [00:00, ?it/s]"
     ]
    },
    {
     "name": "stdout",
     "output_type": "stream",
     "text": [
      "Visiting https://www.domain.com.au/rent/?ptype=house&bedrooms=2&postcode=3025&sort=dateupdated-desc&page=1\n"
     ]
    },
    {
     "name": "stderr",
     "output_type": "stream",
     "text": [
      "\n",
      "Processing Part 4, Postcode 3025: 100%|███████████████████████████████████████████████████| 2/2 [00:02<00:00,  1.21s/it]\n"
     ]
    },
    {
     "name": "stdout",
     "output_type": "stream",
     "text": [
      "Visiting https://www.domain.com.au/rent/?ptype=house&bedrooms=3&postcode=3025&sort=dateupdated-desc&page=1\n"
     ]
    },
    {
     "name": "stderr",
     "output_type": "stream",
     "text": [
      "Processing Part 4, Postcode 3025: 100%|███████████████████████████████████████████████████| 9/9 [00:14<00:00,  1.60s/it]\n"
     ]
    },
    {
     "name": "stdout",
     "output_type": "stream",
     "text": [
      "Visiting https://www.domain.com.au/rent/?ptype=house&bedrooms=4&postcode=3025&sort=dateupdated-desc&page=1\n"
     ]
    },
    {
     "name": "stderr",
     "output_type": "stream",
     "text": [
      "Processing Part 4, Postcode 3025: 100%|███████████████████████████████████████████████████| 8/8 [00:10<00:00,  1.26s/it]\n"
     ]
    },
    {
     "name": "stdout",
     "output_type": "stream",
     "text": [
      "Visiting https://www.domain.com.au/rent/?ptype=apartment&bedrooms=1&postcode=3028&sort=dateupdated-desc&page=1\n",
      "No results found on page https://www.domain.com.au/rent/?ptype=apartment&bedrooms=1&postcode=3028&sort=dateupdated-desc&page=1\n"
     ]
    },
    {
     "name": "stderr",
     "output_type": "stream",
     "text": [
      "Processing Part 4, Postcode 3028: 0it [00:00, ?it/s]"
     ]
    },
    {
     "name": "stdout",
     "output_type": "stream",
     "text": [
      "Visiting https://www.domain.com.au/rent/?ptype=apartment&bedrooms=2&postcode=3028&sort=dateupdated-desc&page=1\n"
     ]
    },
    {
     "name": "stderr",
     "output_type": "stream",
     "text": [
      "\n",
      "Processing Part 4, Postcode 3028: 100%|███████████████████████████████████████████████████| 2/2 [00:02<00:00,  1.32s/it]\n"
     ]
    },
    {
     "name": "stdout",
     "output_type": "stream",
     "text": [
      "Visiting https://www.domain.com.au/rent/?ptype=apartment&bedrooms=3&postcode=3028&sort=dateupdated-desc&page=1\n"
     ]
    },
    {
     "name": "stderr",
     "output_type": "stream",
     "text": [
      "Processing Part 4, Postcode 3028: 100%|███████████████████████████████████████████████████| 1/1 [00:01<00:00,  1.22s/it]\n"
     ]
    },
    {
     "name": "stdout",
     "output_type": "stream",
     "text": [
      "Visiting https://www.domain.com.au/rent/?ptype=house&bedrooms=2&postcode=3028&sort=dateupdated-desc&page=1\n"
     ]
    },
    {
     "name": "stderr",
     "output_type": "stream",
     "text": [
      "Processing Part 4, Postcode 3028: 100%|███████████████████████████████████████████████████| 8/8 [00:10<00:00,  1.27s/it]\n"
     ]
    },
    {
     "name": "stdout",
     "output_type": "stream",
     "text": [
      "Visiting https://www.domain.com.au/rent/?ptype=house&bedrooms=3&postcode=3028&sort=dateupdated-desc&page=1\n"
     ]
    },
    {
     "name": "stderr",
     "output_type": "stream",
     "text": [
      "Processing Part 4, Postcode 3028: 100%|█████████████████████████████████████████████████| 20/20 [00:26<00:00,  1.30s/it]\n"
     ]
    },
    {
     "name": "stdout",
     "output_type": "stream",
     "text": [
      "Visiting https://www.domain.com.au/rent/?ptype=house&bedrooms=4&postcode=3028&sort=dateupdated-desc&page=1\n"
     ]
    },
    {
     "name": "stderr",
     "output_type": "stream",
     "text": [
      "Processing Part 4, Postcode 3028: 100%|███████████████████████████████████████████████████| 6/6 [00:09<00:00,  1.66s/it]\n"
     ]
    },
    {
     "name": "stdout",
     "output_type": "stream",
     "text": [
      "Visiting https://www.domain.com.au/rent/?ptype=apartment&bedrooms=1&postcode=3011&sort=dateupdated-desc&page=1\n"
     ]
    },
    {
     "name": "stderr",
     "output_type": "stream",
     "text": [
      "Processing Part 4, Postcode 3011: 100%|█████████████████████████████████████████████████| 20/20 [00:23<00:00,  1.17s/it]\n"
     ]
    },
    {
     "name": "stdout",
     "output_type": "stream",
     "text": [
      "Visiting https://www.domain.com.au/rent/?ptype=apartment&bedrooms=2&postcode=3011&sort=dateupdated-desc&page=1\n"
     ]
    },
    {
     "name": "stderr",
     "output_type": "stream",
     "text": [
      "Processing Part 4, Postcode 3011: 100%|█████████████████████████████████████████████████| 20/20 [00:24<00:00,  1.23s/it]\n"
     ]
    },
    {
     "name": "stdout",
     "output_type": "stream",
     "text": [
      "Visiting https://www.domain.com.au/rent/?ptype=apartment&bedrooms=3&postcode=3011&sort=dateupdated-desc&page=1\n"
     ]
    },
    {
     "name": "stderr",
     "output_type": "stream",
     "text": [
      "Processing Part 4, Postcode 3011: 100%|███████████████████████████████████████████████████| 9/9 [00:12<00:00,  1.34s/it]\n"
     ]
    },
    {
     "name": "stdout",
     "output_type": "stream",
     "text": [
      "Visiting https://www.domain.com.au/rent/?ptype=house&bedrooms=2&postcode=3011&sort=dateupdated-desc&page=1\n"
     ]
    },
    {
     "name": "stderr",
     "output_type": "stream",
     "text": [
      "Processing Part 4, Postcode 3011: 100%|█████████████████████████████████████████████████| 13/13 [00:20<00:00,  1.57s/it]\n"
     ]
    },
    {
     "name": "stdout",
     "output_type": "stream",
     "text": [
      "Visiting https://www.domain.com.au/rent/?ptype=house&bedrooms=3&postcode=3011&sort=dateupdated-desc&page=1\n"
     ]
    },
    {
     "name": "stderr",
     "output_type": "stream",
     "text": [
      "Processing Part 4, Postcode 3011: 100%|█████████████████████████████████████████████████| 20/20 [00:23<00:00,  1.16s/it]\n"
     ]
    },
    {
     "name": "stdout",
     "output_type": "stream",
     "text": [
      "Visiting https://www.domain.com.au/rent/?ptype=house&bedrooms=4&postcode=3011&sort=dateupdated-desc&page=1\n"
     ]
    },
    {
     "name": "stderr",
     "output_type": "stream",
     "text": [
      "Processing Part 4, Postcode 3011: 100%|███████████████████████████████████████████████████| 1/1 [00:01<00:00,  1.46s/it]\n"
     ]
    },
    {
     "name": "stdout",
     "output_type": "stream",
     "text": [
      "Visiting https://www.domain.com.au/rent/?ptype=apartment&bedrooms=1&postcode=3012&sort=dateupdated-desc&page=1\n"
     ]
    },
    {
     "name": "stderr",
     "output_type": "stream",
     "text": [
      "Processing Part 4, Postcode 3012: 100%|█████████████████████████████████████████████████| 10/10 [00:11<00:00,  1.18s/it]\n"
     ]
    },
    {
     "name": "stdout",
     "output_type": "stream",
     "text": [
      "Visiting https://www.domain.com.au/rent/?ptype=apartment&bedrooms=2&postcode=3012&sort=dateupdated-desc&page=1\n"
     ]
    },
    {
     "name": "stderr",
     "output_type": "stream",
     "text": [
      "Processing Part 4, Postcode 3012: 100%|█████████████████████████████████████████████████| 18/18 [00:24<00:00,  1.33s/it]\n"
     ]
    },
    {
     "name": "stdout",
     "output_type": "stream",
     "text": [
      "Visiting https://www.domain.com.au/rent/?ptype=apartment&bedrooms=3&postcode=3012&sort=dateupdated-desc&page=1\n"
     ]
    },
    {
     "name": "stderr",
     "output_type": "stream",
     "text": [
      "Processing Part 4, Postcode 3012: 100%|███████████████████████████████████████████████████| 1/1 [00:01<00:00,  1.09s/it]\n"
     ]
    },
    {
     "name": "stdout",
     "output_type": "stream",
     "text": [
      "Visiting https://www.domain.com.au/rent/?ptype=house&bedrooms=2&postcode=3012&sort=dateupdated-desc&page=1\n"
     ]
    },
    {
     "name": "stderr",
     "output_type": "stream",
     "text": [
      "Processing Part 4, Postcode 3012: 100%|███████████████████████████████████████████████████| 1/1 [00:01<00:00,  1.27s/it]\n"
     ]
    },
    {
     "name": "stdout",
     "output_type": "stream",
     "text": [
      "Visiting https://www.domain.com.au/rent/?ptype=house&bedrooms=3&postcode=3012&sort=dateupdated-desc&page=1\n"
     ]
    },
    {
     "name": "stderr",
     "output_type": "stream",
     "text": [
      "Processing Part 4, Postcode 3012: 100%|█████████████████████████████████████████████████| 12/12 [00:14<00:00,  1.18s/it]\n"
     ]
    },
    {
     "name": "stdout",
     "output_type": "stream",
     "text": [
      "Visiting https://www.domain.com.au/rent/?ptype=house&bedrooms=4&postcode=3012&sort=dateupdated-desc&page=1\n",
      "No results found on page https://www.domain.com.au/rent/?ptype=house&bedrooms=4&postcode=3012&sort=dateupdated-desc&page=1\n"
     ]
    },
    {
     "name": "stderr",
     "output_type": "stream",
     "text": [
      "Processing Part 4, Postcode 3012: 0it [00:00, ?it/s]"
     ]
    },
    {
     "name": "stdout",
     "output_type": "stream",
     "text": [
      "Visiting https://www.domain.com.au/rent/?ptype=apartment&bedrooms=1&postcode=3033&sort=dateupdated-desc&page=1\n"
     ]
    },
    {
     "name": "stderr",
     "output_type": "stream",
     "text": [
      "\n"
     ]
    },
    {
     "name": "stdout",
     "output_type": "stream",
     "text": [
      "No results found on page https://www.domain.com.au/rent/?ptype=apartment&bedrooms=1&postcode=3033&sort=dateupdated-desc&page=1\n"
     ]
    },
    {
     "name": "stderr",
     "output_type": "stream",
     "text": [
      "Processing Part 4, Postcode 3033: 0it [00:00, ?it/s]"
     ]
    },
    {
     "name": "stdout",
     "output_type": "stream",
     "text": [
      "Visiting https://www.domain.com.au/rent/?ptype=apartment&bedrooms=2&postcode=3033&sort=dateupdated-desc&page=1\n"
     ]
    },
    {
     "name": "stderr",
     "output_type": "stream",
     "text": [
      "\n",
      "Processing Part 4, Postcode 3033: 100%|███████████████████████████████████████████████████| 1/1 [00:01<00:00,  1.19s/it]\n"
     ]
    },
    {
     "name": "stdout",
     "output_type": "stream",
     "text": [
      "Visiting https://www.domain.com.au/rent/?ptype=apartment&bedrooms=3&postcode=3033&sort=dateupdated-desc&page=1\n"
     ]
    },
    {
     "name": "stderr",
     "output_type": "stream",
     "text": [
      "Processing Part 4, Postcode 3033: 100%|███████████████████████████████████████████████████| 2/2 [00:02<00:00,  1.15s/it]\n"
     ]
    },
    {
     "name": "stdout",
     "output_type": "stream",
     "text": [
      "Visiting https://www.domain.com.au/rent/?ptype=house&bedrooms=2&postcode=3033&sort=dateupdated-desc&page=1\n"
     ]
    },
    {
     "name": "stderr",
     "output_type": "stream",
     "text": [
      "Processing Part 4, Postcode 3033: 100%|███████████████████████████████████████████████████| 1/1 [00:01<00:00,  1.33s/it]\n"
     ]
    },
    {
     "name": "stdout",
     "output_type": "stream",
     "text": [
      "Visiting https://www.domain.com.au/rent/?ptype=house&bedrooms=3&postcode=3033&sort=dateupdated-desc&page=1\n"
     ]
    },
    {
     "name": "stderr",
     "output_type": "stream",
     "text": [
      "Processing Part 4, Postcode 3033: 100%|███████████████████████████████████████████████████| 7/7 [00:09<00:00,  1.33s/it]\n"
     ]
    },
    {
     "name": "stdout",
     "output_type": "stream",
     "text": [
      "Visiting https://www.domain.com.au/rent/?ptype=house&bedrooms=4&postcode=3033&sort=dateupdated-desc&page=1\n"
     ]
    },
    {
     "name": "stderr",
     "output_type": "stream",
     "text": [
      "Processing Part 4, Postcode 3033: 100%|███████████████████████████████████████████████████| 4/4 [00:04<00:00,  1.24s/it]\n"
     ]
    },
    {
     "name": "stdout",
     "output_type": "stream",
     "text": [
      "Visiting https://www.domain.com.au/rent/?ptype=apartment&bedrooms=1&postcode=3034&sort=dateupdated-desc&page=1\n",
      "No results found on page https://www.domain.com.au/rent/?ptype=apartment&bedrooms=1&postcode=3034&sort=dateupdated-desc&page=1\n"
     ]
    },
    {
     "name": "stderr",
     "output_type": "stream",
     "text": [
      "Processing Part 4, Postcode 3034: 0it [00:00, ?it/s]"
     ]
    },
    {
     "name": "stdout",
     "output_type": "stream",
     "text": [
      "Visiting https://www.domain.com.au/rent/?ptype=apartment&bedrooms=2&postcode=3034&sort=dateupdated-desc&page=1\n"
     ]
    },
    {
     "name": "stderr",
     "output_type": "stream",
     "text": [
      "\n",
      "Processing Part 4, Postcode 3034: 100%|███████████████████████████████████████████████████| 2/2 [00:04<00:00,  2.02s/it]\n"
     ]
    },
    {
     "name": "stdout",
     "output_type": "stream",
     "text": [
      "Visiting https://www.domain.com.au/rent/?ptype=apartment&bedrooms=3&postcode=3034&sort=dateupdated-desc&page=1\n"
     ]
    },
    {
     "name": "stderr",
     "output_type": "stream",
     "text": [
      "Processing Part 4, Postcode 3034: 100%|███████████████████████████████████████████████████| 1/1 [00:01<00:00,  1.49s/it]\n"
     ]
    },
    {
     "name": "stdout",
     "output_type": "stream",
     "text": [
      "Visiting https://www.domain.com.au/rent/?ptype=house&bedrooms=2&postcode=3034&sort=dateupdated-desc&page=1\n",
      "No results found on page https://www.domain.com.au/rent/?ptype=house&bedrooms=2&postcode=3034&sort=dateupdated-desc&page=1\n"
     ]
    },
    {
     "name": "stderr",
     "output_type": "stream",
     "text": [
      "Processing Part 4, Postcode 3034: 0it [00:00, ?it/s]"
     ]
    },
    {
     "name": "stdout",
     "output_type": "stream",
     "text": [
      "Visiting https://www.domain.com.au/rent/?ptype=house&bedrooms=3&postcode=3034&sort=dateupdated-desc&page=1\n"
     ]
    },
    {
     "name": "stderr",
     "output_type": "stream",
     "text": [
      "\n",
      "Processing Part 4, Postcode 3034: 100%|█████████████████████████████████████████████████| 11/11 [00:13<00:00,  1.23s/it]\n"
     ]
    },
    {
     "name": "stdout",
     "output_type": "stream",
     "text": [
      "Visiting https://www.domain.com.au/rent/?ptype=house&bedrooms=4&postcode=3034&sort=dateupdated-desc&page=1\n"
     ]
    },
    {
     "name": "stderr",
     "output_type": "stream",
     "text": [
      "Processing Part 4, Postcode 3034: 100%|███████████████████████████████████████████████████| 1/1 [00:01<00:00,  1.44s/it]\n"
     ]
    },
    {
     "name": "stdout",
     "output_type": "stream",
     "text": [
      "Visiting https://www.domain.com.au/rent/?ptype=apartment&bedrooms=1&postcode=3337&sort=dateupdated-desc&page=1\n",
      "No results found on page https://www.domain.com.au/rent/?ptype=apartment&bedrooms=1&postcode=3337&sort=dateupdated-desc&page=1\n"
     ]
    },
    {
     "name": "stderr",
     "output_type": "stream",
     "text": [
      "Processing Part 4, Postcode 3337: 0it [00:00, ?it/s]"
     ]
    },
    {
     "name": "stdout",
     "output_type": "stream",
     "text": [
      "Visiting https://www.domain.com.au/rent/?ptype=apartment&bedrooms=2&postcode=3337&sort=dateupdated-desc&page=1\n"
     ]
    },
    {
     "name": "stderr",
     "output_type": "stream",
     "text": [
      "\n",
      "Processing Part 4, Postcode 3337: 100%|███████████████████████████████████████████████████| 3/3 [00:03<00:00,  1.20s/it]\n"
     ]
    },
    {
     "name": "stdout",
     "output_type": "stream",
     "text": [
      "Visiting https://www.domain.com.au/rent/?ptype=apartment&bedrooms=3&postcode=3337&sort=dateupdated-desc&page=1\n"
     ]
    },
    {
     "name": "stderr",
     "output_type": "stream",
     "text": [
      "Processing Part 4, Postcode 3337: 100%|███████████████████████████████████████████████████| 3/3 [00:03<00:00,  1.18s/it]\n"
     ]
    },
    {
     "name": "stdout",
     "output_type": "stream",
     "text": [
      "Visiting https://www.domain.com.au/rent/?ptype=house&bedrooms=2&postcode=3337&sort=dateupdated-desc&page=1\n"
     ]
    },
    {
     "name": "stderr",
     "output_type": "stream",
     "text": [
      "Processing Part 4, Postcode 3337: 100%|███████████████████████████████████████████████████| 1/1 [00:01<00:00,  1.27s/it]\n"
     ]
    },
    {
     "name": "stdout",
     "output_type": "stream",
     "text": [
      "Visiting https://www.domain.com.au/rent/?ptype=house&bedrooms=3&postcode=3337&sort=dateupdated-desc&page=1\n"
     ]
    },
    {
     "name": "stderr",
     "output_type": "stream",
     "text": [
      "Processing Part 4, Postcode 3337: 100%|█████████████████████████████████████████████████| 20/20 [00:27<00:00,  1.38s/it]\n"
     ]
    },
    {
     "name": "stdout",
     "output_type": "stream",
     "text": [
      "Visiting https://www.domain.com.au/rent/?ptype=house&bedrooms=4&postcode=3337&sort=dateupdated-desc&page=1\n"
     ]
    },
    {
     "name": "stderr",
     "output_type": "stream",
     "text": [
      "Processing Part 4, Postcode 3337: 100%|█████████████████████████████████████████████████| 20/20 [00:26<00:00,  1.33s/it]\n"
     ]
    },
    {
     "name": "stdout",
     "output_type": "stream",
     "text": [
      "Visiting https://www.domain.com.au/rent/?ptype=apartment&bedrooms=1&postcode=3338&sort=dateupdated-desc&page=1\n"
     ]
    },
    {
     "name": "stderr",
     "output_type": "stream",
     "text": [
      "Processing Part 4, Postcode 3338: 100%|███████████████████████████████████████████████████| 2/2 [00:02<00:00,  1.17s/it]\n"
     ]
    },
    {
     "name": "stdout",
     "output_type": "stream",
     "text": [
      "Visiting https://www.domain.com.au/rent/?ptype=apartment&bedrooms=2&postcode=3338&sort=dateupdated-desc&page=1\n"
     ]
    },
    {
     "name": "stderr",
     "output_type": "stream",
     "text": [
      "Processing Part 4, Postcode 3338: 100%|███████████████████████████████████████████████████| 1/1 [00:01<00:00,  1.23s/it]\n"
     ]
    },
    {
     "name": "stdout",
     "output_type": "stream",
     "text": [
      "Visiting https://www.domain.com.au/rent/?ptype=apartment&bedrooms=3&postcode=3338&sort=dateupdated-desc&page=1\n"
     ]
    },
    {
     "name": "stderr",
     "output_type": "stream",
     "text": [
      "Processing Part 4, Postcode 3338: 100%|███████████████████████████████████████████████████| 3/3 [00:03<00:00,  1.11s/it]\n"
     ]
    },
    {
     "name": "stdout",
     "output_type": "stream",
     "text": [
      "Visiting https://www.domain.com.au/rent/?ptype=house&bedrooms=2&postcode=3338&sort=dateupdated-desc&page=1\n"
     ]
    },
    {
     "name": "stderr",
     "output_type": "stream",
     "text": [
      "Processing Part 4, Postcode 3338: 100%|███████████████████████████████████████████████████| 1/1 [00:01<00:00,  1.09s/it]\n"
     ]
    },
    {
     "name": "stdout",
     "output_type": "stream",
     "text": [
      "Visiting https://www.domain.com.au/rent/?ptype=house&bedrooms=3&postcode=3338&sort=dateupdated-desc&page=1\n"
     ]
    },
    {
     "name": "stderr",
     "output_type": "stream",
     "text": [
      "Processing Part 4, Postcode 3338: 100%|█████████████████████████████████████████████████| 20/20 [00:24<00:00,  1.23s/it]\n"
     ]
    },
    {
     "name": "stdout",
     "output_type": "stream",
     "text": [
      "Visiting https://www.domain.com.au/rent/?ptype=house&bedrooms=4&postcode=3338&sort=dateupdated-desc&page=1\n"
     ]
    },
    {
     "name": "stderr",
     "output_type": "stream",
     "text": [
      "Processing Part 4, Postcode 3338: 100%|█████████████████████████████████████████████████| 20/20 [00:24<00:00,  1.22s/it]\n"
     ]
    },
    {
     "name": "stdout",
     "output_type": "stream",
     "text": [
      "Visiting https://www.domain.com.au/rent/?ptype=apartment&bedrooms=1&postcode=3015&sort=dateupdated-desc&page=1\n"
     ]
    },
    {
     "name": "stderr",
     "output_type": "stream",
     "text": [
      "Processing Part 4, Postcode 3015: 100%|███████████████████████████████████████████████████| 5/5 [00:05<00:00,  1.08s/it]\n"
     ]
    },
    {
     "name": "stdout",
     "output_type": "stream",
     "text": [
      "Visiting https://www.domain.com.au/rent/?ptype=apartment&bedrooms=2&postcode=3015&sort=dateupdated-desc&page=1\n"
     ]
    },
    {
     "name": "stderr",
     "output_type": "stream",
     "text": [
      "Processing Part 4, Postcode 3015: 100%|███████████████████████████████████████████████████| 7/7 [00:07<00:00,  1.10s/it]\n"
     ]
    },
    {
     "name": "stdout",
     "output_type": "stream",
     "text": [
      "Visiting https://www.domain.com.au/rent/?ptype=apartment&bedrooms=3&postcode=3015&sort=dateupdated-desc&page=1\n"
     ]
    },
    {
     "name": "stderr",
     "output_type": "stream",
     "text": [
      "Processing Part 4, Postcode 3015: 100%|███████████████████████████████████████████████████| 1/1 [00:01<00:00,  1.10s/it]\n"
     ]
    },
    {
     "name": "stdout",
     "output_type": "stream",
     "text": [
      "Visiting https://www.domain.com.au/rent/?ptype=house&bedrooms=2&postcode=3015&sort=dateupdated-desc&page=1\n"
     ]
    },
    {
     "name": "stderr",
     "output_type": "stream",
     "text": [
      "Processing Part 4, Postcode 3015: 100%|███████████████████████████████████████████████████| 2/2 [00:04<00:00,  2.00s/it]\n"
     ]
    },
    {
     "name": "stdout",
     "output_type": "stream",
     "text": [
      "Visiting https://www.domain.com.au/rent/?ptype=house&bedrooms=3&postcode=3015&sort=dateupdated-desc&page=1\n"
     ]
    },
    {
     "name": "stderr",
     "output_type": "stream",
     "text": [
      "Processing Part 4, Postcode 3015: 100%|█████████████████████████████████████████████████| 11/11 [00:13<00:00,  1.26s/it]\n"
     ]
    },
    {
     "name": "stdout",
     "output_type": "stream",
     "text": [
      "Visiting https://www.domain.com.au/rent/?ptype=house&bedrooms=4&postcode=3015&sort=dateupdated-desc&page=1\n"
     ]
    },
    {
     "name": "stderr",
     "output_type": "stream",
     "text": [
      "Processing Part 4, Postcode 3015: 100%|███████████████████████████████████████████████████| 3/3 [00:03<00:00,  1.09s/it]\n"
     ]
    },
    {
     "name": "stdout",
     "output_type": "stream",
     "text": [
      "Visiting https://www.domain.com.au/rent/?ptype=apartment&bedrooms=1&postcode=3021&sort=dateupdated-desc&page=1\n"
     ]
    },
    {
     "name": "stderr",
     "output_type": "stream",
     "text": [
      "Processing Part 4, Postcode 3021: 100%|███████████████████████████████████████████████████| 2/2 [00:02<00:00,  1.26s/it]\n"
     ]
    },
    {
     "name": "stdout",
     "output_type": "stream",
     "text": [
      "Visiting https://www.domain.com.au/rent/?ptype=apartment&bedrooms=2&postcode=3021&sort=dateupdated-desc&page=1\n"
     ]
    },
    {
     "name": "stderr",
     "output_type": "stream",
     "text": [
      "Processing Part 4, Postcode 3021: 100%|███████████████████████████████████████████████████| 9/9 [00:12<00:00,  1.44s/it]\n"
     ]
    },
    {
     "name": "stdout",
     "output_type": "stream",
     "text": [
      "Visiting https://www.domain.com.au/rent/?ptype=apartment&bedrooms=3&postcode=3021&sort=dateupdated-desc&page=1\n"
     ]
    },
    {
     "name": "stderr",
     "output_type": "stream",
     "text": [
      "Processing Part 4, Postcode 3021: 100%|███████████████████████████████████████████████████| 4/4 [00:04<00:00,  1.10s/it]\n"
     ]
    },
    {
     "name": "stdout",
     "output_type": "stream",
     "text": [
      "Visiting https://www.domain.com.au/rent/?ptype=house&bedrooms=2&postcode=3021&sort=dateupdated-desc&page=1\n"
     ]
    },
    {
     "name": "stderr",
     "output_type": "stream",
     "text": [
      "Processing Part 4, Postcode 3021: 100%|███████████████████████████████████████████████████| 1/1 [00:01<00:00,  1.06s/it]\n"
     ]
    },
    {
     "name": "stdout",
     "output_type": "stream",
     "text": [
      "Visiting https://www.domain.com.au/rent/?ptype=house&bedrooms=3&postcode=3021&sort=dateupdated-desc&page=1\n"
     ]
    },
    {
     "name": "stderr",
     "output_type": "stream",
     "text": [
      "Processing Part 4, Postcode 3021: 100%|█████████████████████████████████████████████████| 16/16 [00:19<00:00,  1.19s/it]\n"
     ]
    },
    {
     "name": "stdout",
     "output_type": "stream",
     "text": [
      "Visiting https://www.domain.com.au/rent/?ptype=house&bedrooms=4&postcode=3021&sort=dateupdated-desc&page=1\n"
     ]
    },
    {
     "name": "stderr",
     "output_type": "stream",
     "text": [
      "Processing Part 4, Postcode 3021: 100%|███████████████████████████████████████████████████| 9/9 [00:11<00:00,  1.29s/it]\n"
     ]
    },
    {
     "name": "stdout",
     "output_type": "stream",
     "text": [
      "Visiting https://www.domain.com.au/rent/?ptype=apartment&bedrooms=1&postcode=3219&sort=dateupdated-desc&page=1\n"
     ]
    },
    {
     "name": "stderr",
     "output_type": "stream",
     "text": [
      "Processing Part 4, Postcode 3219: 100%|███████████████████████████████████████████████████| 8/8 [00:09<00:00,  1.14s/it]\n"
     ]
    },
    {
     "name": "stdout",
     "output_type": "stream",
     "text": [
      "Visiting https://www.domain.com.au/rent/?ptype=apartment&bedrooms=2&postcode=3219&sort=dateupdated-desc&page=1\n"
     ]
    },
    {
     "name": "stderr",
     "output_type": "stream",
     "text": [
      "Processing Part 4, Postcode 3219: 100%|███████████████████████████████████████████████████| 6/6 [00:08<00:00,  1.37s/it]\n"
     ]
    },
    {
     "name": "stdout",
     "output_type": "stream",
     "text": [
      "Visiting https://www.domain.com.au/rent/?ptype=apartment&bedrooms=3&postcode=3219&sort=dateupdated-desc&page=1\n"
     ]
    },
    {
     "name": "stderr",
     "output_type": "stream",
     "text": [
      "Processing Part 4, Postcode 3219: 100%|███████████████████████████████████████████████████| 1/1 [00:01<00:00,  1.11s/it]\n"
     ]
    },
    {
     "name": "stdout",
     "output_type": "stream",
     "text": [
      "Visiting https://www.domain.com.au/rent/?ptype=house&bedrooms=2&postcode=3219&sort=dateupdated-desc&page=1\n"
     ]
    },
    {
     "name": "stderr",
     "output_type": "stream",
     "text": [
      "Processing Part 4, Postcode 3219: 100%|███████████████████████████████████████████████████| 5/5 [00:07<00:00,  1.56s/it]\n"
     ]
    },
    {
     "name": "stdout",
     "output_type": "stream",
     "text": [
      "Visiting https://www.domain.com.au/rent/?ptype=house&bedrooms=3&postcode=3219&sort=dateupdated-desc&page=1\n"
     ]
    },
    {
     "name": "stderr",
     "output_type": "stream",
     "text": [
      "Processing Part 4, Postcode 3219: 100%|█████████████████████████████████████████████████| 20/20 [00:27<00:00,  1.37s/it]\n"
     ]
    },
    {
     "name": "stdout",
     "output_type": "stream",
     "text": [
      "Visiting https://www.domain.com.au/rent/?ptype=house&bedrooms=4&postcode=3219&sort=dateupdated-desc&page=1\n"
     ]
    },
    {
     "name": "stderr",
     "output_type": "stream",
     "text": [
      "Processing Part 4, Postcode 3219: 100%|███████████████████████████████████████████████████| 3/3 [00:04<00:00,  1.48s/it]\n"
     ]
    },
    {
     "name": "stdout",
     "output_type": "stream",
     "text": [
      "Completed processing Part 4/10. Data saved to ../../data/raw/domain/temp_parts/property_part_4.csv\n",
      "Visiting https://www.domain.com.au/rent/?ptype=apartment&bedrooms=1&postcode=3022&sort=dateupdated-desc&page=1\n",
      "No results found on page https://www.domain.com.au/rent/?ptype=apartment&bedrooms=1&postcode=3022&sort=dateupdated-desc&page=1\n"
     ]
    },
    {
     "name": "stderr",
     "output_type": "stream",
     "text": [
      "Processing Part 5, Postcode 3022: 0it [00:00, ?it/s]"
     ]
    },
    {
     "name": "stdout",
     "output_type": "stream",
     "text": [
      "Visiting https://www.domain.com.au/rent/?ptype=apartment&bedrooms=2&postcode=3022&sort=dateupdated-desc&page=1\n"
     ]
    },
    {
     "name": "stderr",
     "output_type": "stream",
     "text": [
      "\n",
      "Processing Part 5, Postcode 3022: 100%|███████████████████████████████████████████████████| 1/1 [00:01<00:00,  1.26s/it]\n"
     ]
    },
    {
     "name": "stdout",
     "output_type": "stream",
     "text": [
      "Visiting https://www.domain.com.au/rent/?ptype=apartment&bedrooms=3&postcode=3022&sort=dateupdated-desc&page=1\n",
      "No results found on page https://www.domain.com.au/rent/?ptype=apartment&bedrooms=3&postcode=3022&sort=dateupdated-desc&page=1\n"
     ]
    },
    {
     "name": "stderr",
     "output_type": "stream",
     "text": [
      "Processing Part 5, Postcode 3022: 0it [00:00, ?it/s]"
     ]
    },
    {
     "name": "stdout",
     "output_type": "stream",
     "text": [
      "Visiting https://www.domain.com.au/rent/?ptype=house&bedrooms=2&postcode=3022&sort=dateupdated-desc&page=1\n"
     ]
    },
    {
     "name": "stderr",
     "output_type": "stream",
     "text": [
      "\n",
      "Processing Part 5, Postcode 3022: 100%|███████████████████████████████████████████████████| 1/1 [00:01<00:00,  1.07s/it]\n"
     ]
    },
    {
     "name": "stdout",
     "output_type": "stream",
     "text": [
      "Visiting https://www.domain.com.au/rent/?ptype=house&bedrooms=3&postcode=3022&sort=dateupdated-desc&page=1\n"
     ]
    },
    {
     "name": "stderr",
     "output_type": "stream",
     "text": [
      "Processing Part 5, Postcode 3022: 100%|███████████████████████████████████████████████████| 1/1 [00:01<00:00,  1.17s/it]\n"
     ]
    },
    {
     "name": "stdout",
     "output_type": "stream",
     "text": [
      "Visiting https://www.domain.com.au/rent/?ptype=house&bedrooms=4&postcode=3022&sort=dateupdated-desc&page=1\n",
      "No results found on page https://www.domain.com.au/rent/?ptype=house&bedrooms=4&postcode=3022&sort=dateupdated-desc&page=1\n"
     ]
    },
    {
     "name": "stderr",
     "output_type": "stream",
     "text": [
      "Processing Part 5, Postcode 3022: 0it [00:00, ?it/s]"
     ]
    },
    {
     "name": "stdout",
     "output_type": "stream",
     "text": [
      "Visiting https://www.domain.com.au/rent/?ptype=apartment&bedrooms=1&postcode=3023&sort=dateupdated-desc&page=1\n"
     ]
    },
    {
     "name": "stderr",
     "output_type": "stream",
     "text": [
      "\n"
     ]
    },
    {
     "name": "stdout",
     "output_type": "stream",
     "text": [
      "No results found on page https://www.domain.com.au/rent/?ptype=apartment&bedrooms=1&postcode=3023&sort=dateupdated-desc&page=1\n"
     ]
    },
    {
     "name": "stderr",
     "output_type": "stream",
     "text": [
      "Processing Part 5, Postcode 3023: 0it [00:00, ?it/s]"
     ]
    },
    {
     "name": "stdout",
     "output_type": "stream",
     "text": [
      "Visiting https://www.domain.com.au/rent/?ptype=apartment&bedrooms=2&postcode=3023&sort=dateupdated-desc&page=1\n"
     ]
    },
    {
     "name": "stderr",
     "output_type": "stream",
     "text": [
      "\n",
      "Processing Part 5, Postcode 3023: 100%|███████████████████████████████████████████████████| 2/2 [00:04<00:00,  2.24s/it]\n"
     ]
    },
    {
     "name": "stdout",
     "output_type": "stream",
     "text": [
      "Visiting https://www.domain.com.au/rent/?ptype=apartment&bedrooms=3&postcode=3023&sort=dateupdated-desc&page=1\n"
     ]
    },
    {
     "name": "stderr",
     "output_type": "stream",
     "text": [
      "Processing Part 5, Postcode 3023: 100%|███████████████████████████████████████████████████| 2/2 [00:02<00:00,  1.07s/it]\n"
     ]
    },
    {
     "name": "stdout",
     "output_type": "stream",
     "text": [
      "Visiting https://www.domain.com.au/rent/?ptype=house&bedrooms=2&postcode=3023&sort=dateupdated-desc&page=1\n"
     ]
    },
    {
     "name": "stderr",
     "output_type": "stream",
     "text": [
      "Processing Part 5, Postcode 3023: 100%|███████████████████████████████████████████████████| 2/2 [00:02<00:00,  1.18s/it]\n"
     ]
    },
    {
     "name": "stdout",
     "output_type": "stream",
     "text": [
      "Visiting https://www.domain.com.au/rent/?ptype=house&bedrooms=3&postcode=3023&sort=dateupdated-desc&page=1\n"
     ]
    },
    {
     "name": "stderr",
     "output_type": "stream",
     "text": [
      "Processing Part 5, Postcode 3023: 100%|█████████████████████████████████████████████████| 20/20 [00:28<00:00,  1.42s/it]\n"
     ]
    },
    {
     "name": "stdout",
     "output_type": "stream",
     "text": [
      "Visiting https://www.domain.com.au/rent/?ptype=house&bedrooms=4&postcode=3023&sort=dateupdated-desc&page=1\n"
     ]
    },
    {
     "name": "stderr",
     "output_type": "stream",
     "text": [
      "Processing Part 5, Postcode 3023: 100%|█████████████████████████████████████████████████| 17/17 [00:22<00:00,  1.30s/it]\n"
     ]
    },
    {
     "name": "stdout",
     "output_type": "stream",
     "text": [
      "Visiting https://www.domain.com.au/rent/?ptype=apartment&bedrooms=1&postcode=3020&sort=dateupdated-desc&page=1\n"
     ]
    },
    {
     "name": "stderr",
     "output_type": "stream",
     "text": [
      "Processing Part 5, Postcode 3020: 100%|███████████████████████████████████████████████████| 7/7 [00:07<00:00,  1.09s/it]\n"
     ]
    },
    {
     "name": "stdout",
     "output_type": "stream",
     "text": [
      "Visiting https://www.domain.com.au/rent/?ptype=apartment&bedrooms=2&postcode=3020&sort=dateupdated-desc&page=1\n"
     ]
    },
    {
     "name": "stderr",
     "output_type": "stream",
     "text": [
      "Processing Part 5, Postcode 3020: 100%|███████████████████████████████████████████████████| 5/5 [00:05<00:00,  1.08s/it]\n"
     ]
    },
    {
     "name": "stdout",
     "output_type": "stream",
     "text": [
      "Visiting https://www.domain.com.au/rent/?ptype=apartment&bedrooms=3&postcode=3020&sort=dateupdated-desc&page=1\n"
     ]
    },
    {
     "name": "stderr",
     "output_type": "stream",
     "text": [
      "Processing Part 5, Postcode 3020: 100%|███████████████████████████████████████████████████| 3/3 [00:04<00:00,  1.39s/it]\n"
     ]
    },
    {
     "name": "stdout",
     "output_type": "stream",
     "text": [
      "Visiting https://www.domain.com.au/rent/?ptype=house&bedrooms=2&postcode=3020&sort=dateupdated-desc&page=1\n"
     ]
    },
    {
     "name": "stderr",
     "output_type": "stream",
     "text": [
      "Processing Part 5, Postcode 3020: 100%|███████████████████████████████████████████████████| 9/9 [00:09<00:00,  1.07s/it]\n"
     ]
    },
    {
     "name": "stdout",
     "output_type": "stream",
     "text": [
      "Visiting https://www.domain.com.au/rent/?ptype=house&bedrooms=3&postcode=3020&sort=dateupdated-desc&page=1\n"
     ]
    },
    {
     "name": "stderr",
     "output_type": "stream",
     "text": [
      "Processing Part 5, Postcode 3020: 100%|█████████████████████████████████████████████████| 20/20 [00:23<00:00,  1.19s/it]\n"
     ]
    },
    {
     "name": "stdout",
     "output_type": "stream",
     "text": [
      "Visiting https://www.domain.com.au/rent/?ptype=house&bedrooms=4&postcode=3020&sort=dateupdated-desc&page=1\n"
     ]
    },
    {
     "name": "stderr",
     "output_type": "stream",
     "text": [
      "Processing Part 5, Postcode 3020: 100%|█████████████████████████████████████████████████| 10/10 [00:12<00:00,  1.26s/it]\n"
     ]
    },
    {
     "name": "stdout",
     "output_type": "stream",
     "text": [
      "Visiting https://www.domain.com.au/rent/?ptype=apartment&bedrooms=1&postcode=3037&sort=dateupdated-desc&page=1\n"
     ]
    },
    {
     "name": "stderr",
     "output_type": "stream",
     "text": [
      "Processing Part 5, Postcode 3037: 100%|███████████████████████████████████████████████████| 1/1 [00:01<00:00,  1.06s/it]\n"
     ]
    },
    {
     "name": "stdout",
     "output_type": "stream",
     "text": [
      "Visiting https://www.domain.com.au/rent/?ptype=apartment&bedrooms=2&postcode=3037&sort=dateupdated-desc&page=1\n"
     ]
    },
    {
     "name": "stderr",
     "output_type": "stream",
     "text": [
      "Processing Part 5, Postcode 3037: 100%|███████████████████████████████████████████████████| 4/4 [00:05<00:00,  1.29s/it]\n"
     ]
    },
    {
     "name": "stdout",
     "output_type": "stream",
     "text": [
      "Visiting https://www.domain.com.au/rent/?ptype=apartment&bedrooms=3&postcode=3037&sort=dateupdated-desc&page=1\n"
     ]
    },
    {
     "name": "stderr",
     "output_type": "stream",
     "text": [
      "Processing Part 5, Postcode 3037: 100%|███████████████████████████████████████████████████| 4/4 [00:05<00:00,  1.46s/it]\n"
     ]
    },
    {
     "name": "stdout",
     "output_type": "stream",
     "text": [
      "Visiting https://www.domain.com.au/rent/?ptype=house&bedrooms=2&postcode=3037&sort=dateupdated-desc&page=1\n",
      "No results found on page https://www.domain.com.au/rent/?ptype=house&bedrooms=2&postcode=3037&sort=dateupdated-desc&page=1\n"
     ]
    },
    {
     "name": "stderr",
     "output_type": "stream",
     "text": [
      "Processing Part 5, Postcode 3037: 0it [00:00, ?it/s]"
     ]
    },
    {
     "name": "stdout",
     "output_type": "stream",
     "text": [
      "Visiting https://www.domain.com.au/rent/?ptype=house&bedrooms=3&postcode=3037&sort=dateupdated-desc&page=1\n"
     ]
    },
    {
     "name": "stderr",
     "output_type": "stream",
     "text": [
      "\n",
      "Processing Part 5, Postcode 3037: 100%|█████████████████████████████████████████████████| 11/11 [00:13<00:00,  1.18s/it]\n"
     ]
    },
    {
     "name": "stdout",
     "output_type": "stream",
     "text": [
      "Visiting https://www.domain.com.au/rent/?ptype=house&bedrooms=4&postcode=3037&sort=dateupdated-desc&page=1\n"
     ]
    },
    {
     "name": "stderr",
     "output_type": "stream",
     "text": [
      "Processing Part 5, Postcode 3037: 100%|███████████████████████████████████████████████████| 3/3 [00:03<00:00,  1.13s/it]\n"
     ]
    },
    {
     "name": "stdout",
     "output_type": "stream",
     "text": [
      "Visiting https://www.domain.com.au/rent/?ptype=apartment&bedrooms=1&postcode=3030&sort=dateupdated-desc&page=1\n"
     ]
    },
    {
     "name": "stderr",
     "output_type": "stream",
     "text": [
      "Processing Part 5, Postcode 3030: 100%|███████████████████████████████████████████████████| 7/7 [00:08<00:00,  1.25s/it]\n"
     ]
    },
    {
     "name": "stdout",
     "output_type": "stream",
     "text": [
      "Visiting https://www.domain.com.au/rent/?ptype=apartment&bedrooms=2&postcode=3030&sort=dateupdated-desc&page=1\n"
     ]
    },
    {
     "name": "stderr",
     "output_type": "stream",
     "text": [
      "Processing Part 5, Postcode 3030: 100%|█████████████████████████████████████████████████| 12/12 [00:15<00:00,  1.31s/it]\n"
     ]
    },
    {
     "name": "stdout",
     "output_type": "stream",
     "text": [
      "Visiting https://www.domain.com.au/rent/?ptype=apartment&bedrooms=3&postcode=3030&sort=dateupdated-desc&page=1\n"
     ]
    },
    {
     "name": "stderr",
     "output_type": "stream",
     "text": [
      "Processing Part 5, Postcode 3030: 100%|███████████████████████████████████████████████████| 5/5 [00:05<00:00,  1.18s/it]\n"
     ]
    },
    {
     "name": "stdout",
     "output_type": "stream",
     "text": [
      "Visiting https://www.domain.com.au/rent/?ptype=house&bedrooms=2&postcode=3030&sort=dateupdated-desc&page=1\n"
     ]
    },
    {
     "name": "stderr",
     "output_type": "stream",
     "text": [
      "Processing Part 5, Postcode 3030: 100%|███████████████████████████████████████████████████| 3/3 [00:03<00:00,  1.26s/it]\n"
     ]
    },
    {
     "name": "stdout",
     "output_type": "stream",
     "text": [
      "Visiting https://www.domain.com.au/rent/?ptype=house&bedrooms=3&postcode=3030&sort=dateupdated-desc&page=1\n"
     ]
    },
    {
     "name": "stderr",
     "output_type": "stream",
     "text": [
      "Processing Part 5, Postcode 3030: 100%|█████████████████████████████████████████████████| 20/20 [00:23<00:00,  1.16s/it]\n"
     ]
    },
    {
     "name": "stdout",
     "output_type": "stream",
     "text": [
      "Visiting https://www.domain.com.au/rent/?ptype=house&bedrooms=4&postcode=3030&sort=dateupdated-desc&page=1\n"
     ]
    },
    {
     "name": "stderr",
     "output_type": "stream",
     "text": [
      "Processing Part 5, Postcode 3030: 100%|█████████████████████████████████████████████████| 20/20 [00:24<00:00,  1.22s/it]\n"
     ]
    },
    {
     "name": "stdout",
     "output_type": "stream",
     "text": [
      "Visiting https://www.domain.com.au/rent/?ptype=apartment&bedrooms=1&postcode=3029&sort=dateupdated-desc&page=1\n"
     ]
    },
    {
     "name": "stderr",
     "output_type": "stream",
     "text": [
      "Processing Part 5, Postcode 3029: 100%|███████████████████████████████████████████████████| 6/6 [00:08<00:00,  1.38s/it]\n"
     ]
    },
    {
     "name": "stdout",
     "output_type": "stream",
     "text": [
      "Visiting https://www.domain.com.au/rent/?ptype=apartment&bedrooms=2&postcode=3029&sort=dateupdated-desc&page=1\n",
      "No results found on page https://www.domain.com.au/rent/?ptype=apartment&bedrooms=2&postcode=3029&sort=dateupdated-desc&page=1\n"
     ]
    },
    {
     "name": "stderr",
     "output_type": "stream",
     "text": [
      "Processing Part 5, Postcode 3029: 0it [00:00, ?it/s]"
     ]
    },
    {
     "name": "stdout",
     "output_type": "stream",
     "text": [
      "Visiting https://www.domain.com.au/rent/?ptype=apartment&bedrooms=3&postcode=3029&sort=dateupdated-desc&page=1\n"
     ]
    },
    {
     "name": "stderr",
     "output_type": "stream",
     "text": [
      "\n",
      "Processing Part 5, Postcode 3029: 100%|███████████████████████████████████████████████████| 5/5 [00:06<00:00,  1.38s/it]\n"
     ]
    },
    {
     "name": "stdout",
     "output_type": "stream",
     "text": [
      "Visiting https://www.domain.com.au/rent/?ptype=house&bedrooms=2&postcode=3029&sort=dateupdated-desc&page=1\n"
     ]
    },
    {
     "name": "stderr",
     "output_type": "stream",
     "text": [
      "Processing Part 5, Postcode 3029: 100%|███████████████████████████████████████████████████| 5/5 [00:07<00:00,  1.41s/it]\n"
     ]
    },
    {
     "name": "stdout",
     "output_type": "stream",
     "text": [
      "Visiting https://www.domain.com.au/rent/?ptype=house&bedrooms=3&postcode=3029&sort=dateupdated-desc&page=1\n"
     ]
    },
    {
     "name": "stderr",
     "output_type": "stream",
     "text": [
      "Processing Part 5, Postcode 3029: 100%|█████████████████████████████████████████████████| 20/20 [00:29<00:00,  1.49s/it]\n"
     ]
    },
    {
     "name": "stdout",
     "output_type": "stream",
     "text": [
      "Visiting https://www.domain.com.au/rent/?ptype=house&bedrooms=4&postcode=3029&sort=dateupdated-desc&page=1\n"
     ]
    },
    {
     "name": "stderr",
     "output_type": "stream",
     "text": [
      "Processing Part 5, Postcode 3029: 100%|█████████████████████████████████████████████████| 20/20 [00:28<00:00,  1.42s/it]\n"
     ]
    },
    {
     "name": "stdout",
     "output_type": "stream",
     "text": [
      "Visiting https://www.domain.com.au/rent/?ptype=apartment&bedrooms=1&postcode=3012&sort=dateupdated-desc&page=1\n"
     ]
    },
    {
     "name": "stderr",
     "output_type": "stream",
     "text": [
      "Processing Part 5, Postcode 3012: 100%|█████████████████████████████████████████████████| 10/10 [00:12<00:00,  1.24s/it]\n"
     ]
    },
    {
     "name": "stdout",
     "output_type": "stream",
     "text": [
      "Visiting https://www.domain.com.au/rent/?ptype=apartment&bedrooms=2&postcode=3012&sort=dateupdated-desc&page=1\n"
     ]
    },
    {
     "name": "stderr",
     "output_type": "stream",
     "text": [
      "Processing Part 5, Postcode 3012: 100%|█████████████████████████████████████████████████| 18/18 [00:27<00:00,  1.52s/it]\n"
     ]
    },
    {
     "name": "stdout",
     "output_type": "stream",
     "text": [
      "Visiting https://www.domain.com.au/rent/?ptype=apartment&bedrooms=3&postcode=3012&sort=dateupdated-desc&page=1\n"
     ]
    },
    {
     "name": "stderr",
     "output_type": "stream",
     "text": [
      "Processing Part 5, Postcode 3012: 100%|███████████████████████████████████████████████████| 1/1 [00:01<00:00,  1.86s/it]\n"
     ]
    },
    {
     "name": "stdout",
     "output_type": "stream",
     "text": [
      "Visiting https://www.domain.com.au/rent/?ptype=house&bedrooms=2&postcode=3012&sort=dateupdated-desc&page=1\n"
     ]
    },
    {
     "name": "stderr",
     "output_type": "stream",
     "text": [
      "Processing Part 5, Postcode 3012: 100%|███████████████████████████████████████████████████| 1/1 [00:01<00:00,  1.12s/it]\n"
     ]
    },
    {
     "name": "stdout",
     "output_type": "stream",
     "text": [
      "Visiting https://www.domain.com.au/rent/?ptype=house&bedrooms=3&postcode=3012&sort=dateupdated-desc&page=1\n"
     ]
    },
    {
     "name": "stderr",
     "output_type": "stream",
     "text": [
      "Processing Part 5, Postcode 3012: 100%|█████████████████████████████████████████████████| 12/12 [00:15<00:00,  1.32s/it]\n"
     ]
    },
    {
     "name": "stdout",
     "output_type": "stream",
     "text": [
      "Visiting https://www.domain.com.au/rent/?ptype=house&bedrooms=4&postcode=3012&sort=dateupdated-desc&page=1\n",
      "No results found on page https://www.domain.com.au/rent/?ptype=house&bedrooms=4&postcode=3012&sort=dateupdated-desc&page=1\n"
     ]
    },
    {
     "name": "stderr",
     "output_type": "stream",
     "text": [
      "Processing Part 5, Postcode 3012: 0it [00:00, ?it/s]"
     ]
    },
    {
     "name": "stdout",
     "output_type": "stream",
     "text": [
      "Visiting https://www.domain.com.au/rent/?ptype=apartment&bedrooms=1&postcode=3016&sort=dateupdated-desc&page=1\n"
     ]
    },
    {
     "name": "stderr",
     "output_type": "stream",
     "text": [
      "\n",
      "Processing Part 5, Postcode 3016: 100%|███████████████████████████████████████████████████| 3/3 [00:04<00:00,  1.34s/it]\n"
     ]
    },
    {
     "name": "stdout",
     "output_type": "stream",
     "text": [
      "Visiting https://www.domain.com.au/rent/?ptype=apartment&bedrooms=2&postcode=3016&sort=dateupdated-desc&page=1\n"
     ]
    },
    {
     "name": "stderr",
     "output_type": "stream",
     "text": [
      "Processing Part 5, Postcode 3016: 100%|█████████████████████████████████████████████████| 12/12 [00:13<00:00,  1.08s/it]\n"
     ]
    },
    {
     "name": "stdout",
     "output_type": "stream",
     "text": [
      "Visiting https://www.domain.com.au/rent/?ptype=apartment&bedrooms=3&postcode=3016&sort=dateupdated-desc&page=1\n"
     ]
    },
    {
     "name": "stderr",
     "output_type": "stream",
     "text": [
      "Processing Part 5, Postcode 3016: 100%|███████████████████████████████████████████████████| 1/1 [00:01<00:00,  1.04s/it]\n"
     ]
    },
    {
     "name": "stdout",
     "output_type": "stream",
     "text": [
      "Visiting https://www.domain.com.au/rent/?ptype=house&bedrooms=2&postcode=3016&sort=dateupdated-desc&page=1\n"
     ]
    },
    {
     "name": "stderr",
     "output_type": "stream",
     "text": [
      "Processing Part 5, Postcode 3016: 100%|███████████████████████████████████████████████████| 4/4 [00:04<00:00,  1.15s/it]\n"
     ]
    },
    {
     "name": "stdout",
     "output_type": "stream",
     "text": [
      "Visiting https://www.domain.com.au/rent/?ptype=house&bedrooms=3&postcode=3016&sort=dateupdated-desc&page=1\n"
     ]
    },
    {
     "name": "stderr",
     "output_type": "stream",
     "text": [
      "Processing Part 5, Postcode 3016: 100%|█████████████████████████████████████████████████| 12/12 [00:14<00:00,  1.19s/it]\n"
     ]
    },
    {
     "name": "stdout",
     "output_type": "stream",
     "text": [
      "Visiting https://www.domain.com.au/rent/?ptype=house&bedrooms=4&postcode=3016&sort=dateupdated-desc&page=1\n"
     ]
    },
    {
     "name": "stderr",
     "output_type": "stream",
     "text": [
      "Processing Part 5, Postcode 3016: 100%|███████████████████████████████████████████████████| 4/4 [00:05<00:00,  1.35s/it]\n"
     ]
    },
    {
     "name": "stdout",
     "output_type": "stream",
     "text": [
      "Visiting https://www.domain.com.au/rent/?ptype=apartment&bedrooms=1&postcode=3013&sort=dateupdated-desc&page=1\n"
     ]
    },
    {
     "name": "stderr",
     "output_type": "stream",
     "text": [
      "Processing Part 5, Postcode 3013: 100%|███████████████████████████████████████████████████| 1/1 [00:00<00:00,  1.01it/s]\n"
     ]
    },
    {
     "name": "stdout",
     "output_type": "stream",
     "text": [
      "Visiting https://www.domain.com.au/rent/?ptype=apartment&bedrooms=2&postcode=3013&sort=dateupdated-desc&page=1\n"
     ]
    },
    {
     "name": "stderr",
     "output_type": "stream",
     "text": [
      "Processing Part 5, Postcode 3013: 100%|███████████████████████████████████████████████████| 3/3 [00:03<00:00,  1.13s/it]\n"
     ]
    },
    {
     "name": "stdout",
     "output_type": "stream",
     "text": [
      "Visiting https://www.domain.com.au/rent/?ptype=apartment&bedrooms=3&postcode=3013&sort=dateupdated-desc&page=1\n",
      "No results found on page https://www.domain.com.au/rent/?ptype=apartment&bedrooms=3&postcode=3013&sort=dateupdated-desc&page=1\n"
     ]
    },
    {
     "name": "stderr",
     "output_type": "stream",
     "text": [
      "Processing Part 5, Postcode 3013: 0it [00:00, ?it/s]"
     ]
    },
    {
     "name": "stdout",
     "output_type": "stream",
     "text": [
      "Visiting https://www.domain.com.au/rent/?ptype=house&bedrooms=2&postcode=3013&sort=dateupdated-desc&page=1\n"
     ]
    },
    {
     "name": "stderr",
     "output_type": "stream",
     "text": [
      "\n",
      "Processing Part 5, Postcode 3013: 100%|█████████████████████████████████████████████████| 15/15 [00:17<00:00,  1.16s/it]\n"
     ]
    },
    {
     "name": "stdout",
     "output_type": "stream",
     "text": [
      "Visiting https://www.domain.com.au/rent/?ptype=house&bedrooms=3&postcode=3013&sort=dateupdated-desc&page=1\n"
     ]
    },
    {
     "name": "stderr",
     "output_type": "stream",
     "text": [
      "Processing Part 5, Postcode 3013: 100%|█████████████████████████████████████████████████| 17/17 [00:18<00:00,  1.11s/it]\n"
     ]
    },
    {
     "name": "stdout",
     "output_type": "stream",
     "text": [
      "Visiting https://www.domain.com.au/rent/?ptype=house&bedrooms=4&postcode=3013&sort=dateupdated-desc&page=1\n"
     ]
    },
    {
     "name": "stderr",
     "output_type": "stream",
     "text": [
      "Processing Part 5, Postcode 3013: 100%|███████████████████████████████████████████████████| 3/3 [00:03<00:00,  1.19s/it]\n"
     ]
    },
    {
     "name": "stdout",
     "output_type": "stream",
     "text": [
      "Visiting https://www.domain.com.au/rent/?ptype=apartment&bedrooms=1&postcode=3011&sort=dateupdated-desc&page=1\n"
     ]
    },
    {
     "name": "stderr",
     "output_type": "stream",
     "text": [
      "Processing Part 5, Postcode 3011: 100%|█████████████████████████████████████████████████| 20/20 [00:28<00:00,  1.43s/it]\n"
     ]
    },
    {
     "name": "stdout",
     "output_type": "stream",
     "text": [
      "Visiting https://www.domain.com.au/rent/?ptype=apartment&bedrooms=2&postcode=3011&sort=dateupdated-desc&page=1\n"
     ]
    },
    {
     "name": "stderr",
     "output_type": "stream",
     "text": [
      "Processing Part 5, Postcode 3011: 100%|█████████████████████████████████████████████████| 20/20 [00:23<00:00,  1.17s/it]\n"
     ]
    },
    {
     "name": "stdout",
     "output_type": "stream",
     "text": [
      "Visiting https://www.domain.com.au/rent/?ptype=apartment&bedrooms=3&postcode=3011&sort=dateupdated-desc&page=1\n"
     ]
    },
    {
     "name": "stderr",
     "output_type": "stream",
     "text": [
      "Processing Part 5, Postcode 3011: 100%|███████████████████████████████████████████████████| 9/9 [00:13<00:00,  1.53s/it]\n"
     ]
    },
    {
     "name": "stdout",
     "output_type": "stream",
     "text": [
      "Visiting https://www.domain.com.au/rent/?ptype=house&bedrooms=2&postcode=3011&sort=dateupdated-desc&page=1\n"
     ]
    },
    {
     "name": "stderr",
     "output_type": "stream",
     "text": [
      "Processing Part 5, Postcode 3011: 100%|█████████████████████████████████████████████████| 13/13 [00:14<00:00,  1.10s/it]\n"
     ]
    },
    {
     "name": "stdout",
     "output_type": "stream",
     "text": [
      "Visiting https://www.domain.com.au/rent/?ptype=house&bedrooms=3&postcode=3011&sort=dateupdated-desc&page=1\n"
     ]
    },
    {
     "name": "stderr",
     "output_type": "stream",
     "text": [
      "Processing Part 5, Postcode 3011: 100%|█████████████████████████████████████████████████| 20/20 [00:25<00:00,  1.29s/it]\n"
     ]
    },
    {
     "name": "stdout",
     "output_type": "stream",
     "text": [
      "Visiting https://www.domain.com.au/rent/?ptype=house&bedrooms=4&postcode=3011&sort=dateupdated-desc&page=1\n"
     ]
    },
    {
     "name": "stderr",
     "output_type": "stream",
     "text": [
      "Processing Part 5, Postcode 3011: 100%|███████████████████████████████████████████████████| 1/1 [00:01<00:00,  1.30s/it]\n"
     ]
    },
    {
     "name": "stdout",
     "output_type": "stream",
     "text": [
      "Visiting https://www.domain.com.au/rent/?ptype=apartment&bedrooms=1&postcode=3047&sort=dateupdated-desc&page=1\n"
     ]
    },
    {
     "name": "stderr",
     "output_type": "stream",
     "text": [
      "Processing Part 5, Postcode 3047: 100%|███████████████████████████████████████████████████| 2/2 [00:02<00:00,  1.07s/it]\n"
     ]
    },
    {
     "name": "stdout",
     "output_type": "stream",
     "text": [
      "Visiting https://www.domain.com.au/rent/?ptype=apartment&bedrooms=2&postcode=3047&sort=dateupdated-desc&page=1\n"
     ]
    },
    {
     "name": "stderr",
     "output_type": "stream",
     "text": [
      "Processing Part 5, Postcode 3047: 100%|███████████████████████████████████████████████████| 1/1 [00:01<00:00,  1.10s/it]\n"
     ]
    },
    {
     "name": "stdout",
     "output_type": "stream",
     "text": [
      "Visiting https://www.domain.com.au/rent/?ptype=apartment&bedrooms=3&postcode=3047&sort=dateupdated-desc&page=1\n",
      "No results found on page https://www.domain.com.au/rent/?ptype=apartment&bedrooms=3&postcode=3047&sort=dateupdated-desc&page=1\n"
     ]
    },
    {
     "name": "stderr",
     "output_type": "stream",
     "text": [
      "Processing Part 5, Postcode 3047: 0it [00:00, ?it/s]"
     ]
    },
    {
     "name": "stdout",
     "output_type": "stream",
     "text": [
      "Visiting https://www.domain.com.au/rent/?ptype=house&bedrooms=2&postcode=3047&sort=dateupdated-desc&page=1\n"
     ]
    },
    {
     "name": "stderr",
     "output_type": "stream",
     "text": [
      "\n",
      "Processing Part 5, Postcode 3047: 100%|███████████████████████████████████████████████████| 2/2 [00:02<00:00,  1.32s/it]\n"
     ]
    },
    {
     "name": "stdout",
     "output_type": "stream",
     "text": [
      "Visiting https://www.domain.com.au/rent/?ptype=house&bedrooms=3&postcode=3047&sort=dateupdated-desc&page=1\n"
     ]
    },
    {
     "name": "stderr",
     "output_type": "stream",
     "text": [
      "Processing Part 5, Postcode 3047: 100%|█████████████████████████████████████████████████| 15/15 [00:21<00:00,  1.42s/it]\n"
     ]
    },
    {
     "name": "stdout",
     "output_type": "stream",
     "text": [
      "Visiting https://www.domain.com.au/rent/?ptype=house&bedrooms=4&postcode=3047&sort=dateupdated-desc&page=1\n"
     ]
    },
    {
     "name": "stderr",
     "output_type": "stream",
     "text": [
      "Processing Part 5, Postcode 3047: 100%|███████████████████████████████████████████████████| 2/2 [00:02<00:00,  1.18s/it]\n"
     ]
    },
    {
     "name": "stdout",
     "output_type": "stream",
     "text": [
      "Visiting https://www.domain.com.au/rent/?ptype=apartment&bedrooms=1&postcode=3064&sort=dateupdated-desc&page=1\n",
      "No results found on page https://www.domain.com.au/rent/?ptype=apartment&bedrooms=1&postcode=3064&sort=dateupdated-desc&page=1\n"
     ]
    },
    {
     "name": "stderr",
     "output_type": "stream",
     "text": [
      "Processing Part 5, Postcode 3064: 0it [00:00, ?it/s]"
     ]
    },
    {
     "name": "stdout",
     "output_type": "stream",
     "text": [
      "Visiting https://www.domain.com.au/rent/?ptype=apartment&bedrooms=2&postcode=3064&sort=dateupdated-desc&page=1\n"
     ]
    },
    {
     "name": "stderr",
     "output_type": "stream",
     "text": [
      "\n",
      "Processing Part 5, Postcode 3064: 100%|███████████████████████████████████████████████████| 1/1 [00:01<00:00,  1.00s/it]\n"
     ]
    },
    {
     "name": "stdout",
     "output_type": "stream",
     "text": [
      "Visiting https://www.domain.com.au/rent/?ptype=apartment&bedrooms=3&postcode=3064&sort=dateupdated-desc&page=1\n"
     ]
    },
    {
     "name": "stderr",
     "output_type": "stream",
     "text": [
      "Processing Part 5, Postcode 3064: 100%|███████████████████████████████████████████████████| 2/2 [00:04<00:00,  2.03s/it]\n"
     ]
    },
    {
     "name": "stdout",
     "output_type": "stream",
     "text": [
      "Visiting https://www.domain.com.au/rent/?ptype=house&bedrooms=2&postcode=3064&sort=dateupdated-desc&page=1\n"
     ]
    },
    {
     "name": "stderr",
     "output_type": "stream",
     "text": [
      "Processing Part 5, Postcode 3064: 100%|███████████████████████████████████████████████████| 5/5 [00:06<00:00,  1.38s/it]\n"
     ]
    },
    {
     "name": "stdout",
     "output_type": "stream",
     "text": [
      "Visiting https://www.domain.com.au/rent/?ptype=house&bedrooms=3&postcode=3064&sort=dateupdated-desc&page=1\n"
     ]
    },
    {
     "name": "stderr",
     "output_type": "stream",
     "text": [
      "Processing Part 5, Postcode 3064: 100%|█████████████████████████████████████████████████| 20/20 [00:26<00:00,  1.31s/it]\n"
     ]
    },
    {
     "name": "stdout",
     "output_type": "stream",
     "text": [
      "Visiting https://www.domain.com.au/rent/?ptype=house&bedrooms=4&postcode=3064&sort=dateupdated-desc&page=1\n"
     ]
    },
    {
     "name": "stderr",
     "output_type": "stream",
     "text": [
      "Processing Part 5, Postcode 3064: 100%|█████████████████████████████████████████████████| 20/20 [00:25<00:00,  1.26s/it]\n"
     ]
    },
    {
     "name": "stdout",
     "output_type": "stream",
     "text": [
      "Visiting https://www.domain.com.au/rent/?ptype=apartment&bedrooms=1&postcode=3056&sort=dateupdated-desc&page=1\n"
     ]
    },
    {
     "name": "stderr",
     "output_type": "stream",
     "text": [
      "Processing Part 5, Postcode 3056: 100%|█████████████████████████████████████████████████| 20/20 [00:24<00:00,  1.23s/it]\n"
     ]
    },
    {
     "name": "stdout",
     "output_type": "stream",
     "text": [
      "Visiting https://www.domain.com.au/rent/?ptype=apartment&bedrooms=2&postcode=3056&sort=dateupdated-desc&page=1\n"
     ]
    },
    {
     "name": "stderr",
     "output_type": "stream",
     "text": [
      "Processing Part 5, Postcode 3056: 100%|█████████████████████████████████████████████████| 20/20 [00:27<00:00,  1.38s/it]\n"
     ]
    },
    {
     "name": "stdout",
     "output_type": "stream",
     "text": [
      "Visiting https://www.domain.com.au/rent/?ptype=apartment&bedrooms=3&postcode=3056&sort=dateupdated-desc&page=1\n"
     ]
    },
    {
     "name": "stderr",
     "output_type": "stream",
     "text": [
      "Processing Part 5, Postcode 3056: 100%|███████████████████████████████████████████████████| 3/3 [00:04<00:00,  1.39s/it]\n"
     ]
    },
    {
     "name": "stdout",
     "output_type": "stream",
     "text": [
      "Visiting https://www.domain.com.au/rent/?ptype=house&bedrooms=2&postcode=3056&sort=dateupdated-desc&page=1\n"
     ]
    },
    {
     "name": "stderr",
     "output_type": "stream",
     "text": [
      "Processing Part 5, Postcode 3056: 100%|███████████████████████████████████████████████████| 5/5 [00:06<00:00,  1.27s/it]\n"
     ]
    },
    {
     "name": "stdout",
     "output_type": "stream",
     "text": [
      "Visiting https://www.domain.com.au/rent/?ptype=house&bedrooms=3&postcode=3056&sort=dateupdated-desc&page=1\n"
     ]
    },
    {
     "name": "stderr",
     "output_type": "stream",
     "text": [
      "Processing Part 5, Postcode 3056: 100%|█████████████████████████████████████████████████| 11/11 [00:13<00:00,  1.20s/it]\n"
     ]
    },
    {
     "name": "stdout",
     "output_type": "stream",
     "text": [
      "Visiting https://www.domain.com.au/rent/?ptype=house&bedrooms=4&postcode=3056&sort=dateupdated-desc&page=1\n"
     ]
    },
    {
     "name": "stderr",
     "output_type": "stream",
     "text": [
      "Processing Part 5, Postcode 3056: 100%|███████████████████████████████████████████████████| 1/1 [00:01<00:00,  1.02s/it]\n"
     ]
    },
    {
     "name": "stdout",
     "output_type": "stream",
     "text": [
      "Visiting https://www.domain.com.au/rent/?ptype=apartment&bedrooms=1&postcode=3058&sort=dateupdated-desc&page=1\n"
     ]
    },
    {
     "name": "stderr",
     "output_type": "stream",
     "text": [
      "Processing Part 5, Postcode 3058: 100%|███████████████████████████████████████████████████| 9/9 [00:11<00:00,  1.23s/it]\n"
     ]
    },
    {
     "name": "stdout",
     "output_type": "stream",
     "text": [
      "Visiting https://www.domain.com.au/rent/?ptype=apartment&bedrooms=2&postcode=3058&sort=dateupdated-desc&page=1\n"
     ]
    },
    {
     "name": "stderr",
     "output_type": "stream",
     "text": [
      "Processing Part 5, Postcode 3058: 100%|█████████████████████████████████████████████████| 16/16 [00:20<00:00,  1.26s/it]\n"
     ]
    },
    {
     "name": "stdout",
     "output_type": "stream",
     "text": [
      "Visiting https://www.domain.com.au/rent/?ptype=apartment&bedrooms=3&postcode=3058&sort=dateupdated-desc&page=1\n"
     ]
    },
    {
     "name": "stderr",
     "output_type": "stream",
     "text": [
      "Processing Part 5, Postcode 3058: 100%|███████████████████████████████████████████████████| 1/1 [00:01<00:00,  1.09s/it]\n"
     ]
    },
    {
     "name": "stdout",
     "output_type": "stream",
     "text": [
      "Visiting https://www.domain.com.au/rent/?ptype=house&bedrooms=2&postcode=3058&sort=dateupdated-desc&page=1\n"
     ]
    },
    {
     "name": "stderr",
     "output_type": "stream",
     "text": [
      "Processing Part 5, Postcode 3058: 100%|███████████████████████████████████████████████████| 6/6 [00:07<00:00,  1.18s/it]\n"
     ]
    },
    {
     "name": "stdout",
     "output_type": "stream",
     "text": [
      "Visiting https://www.domain.com.au/rent/?ptype=house&bedrooms=3&postcode=3058&sort=dateupdated-desc&page=1\n"
     ]
    },
    {
     "name": "stderr",
     "output_type": "stream",
     "text": [
      "Processing Part 5, Postcode 3058: 100%|█████████████████████████████████████████████████| 14/14 [00:18<00:00,  1.34s/it]\n"
     ]
    },
    {
     "name": "stdout",
     "output_type": "stream",
     "text": [
      "Visiting https://www.domain.com.au/rent/?ptype=house&bedrooms=4&postcode=3058&sort=dateupdated-desc&page=1\n"
     ]
    },
    {
     "name": "stderr",
     "output_type": "stream",
     "text": [
      "Processing Part 5, Postcode 3058: 100%|███████████████████████████████████████████████████| 3/3 [00:03<00:00,  1.13s/it]\n"
     ]
    },
    {
     "name": "stdout",
     "output_type": "stream",
     "text": [
      "Visiting https://www.domain.com.au/rent/?ptype=apartment&bedrooms=1&postcode=3044&sort=dateupdated-desc&page=1\n"
     ]
    },
    {
     "name": "stderr",
     "output_type": "stream",
     "text": [
      "Processing Part 5, Postcode 3044: 100%|███████████████████████████████████████████████████| 2/2 [00:02<00:00,  1.09s/it]\n"
     ]
    },
    {
     "name": "stdout",
     "output_type": "stream",
     "text": [
      "Visiting https://www.domain.com.au/rent/?ptype=apartment&bedrooms=2&postcode=3044&sort=dateupdated-desc&page=1\n"
     ]
    },
    {
     "name": "stderr",
     "output_type": "stream",
     "text": [
      "Processing Part 5, Postcode 3044: 100%|█████████████████████████████████████████████████| 11/11 [00:14<00:00,  1.29s/it]\n"
     ]
    },
    {
     "name": "stdout",
     "output_type": "stream",
     "text": [
      "Visiting https://www.domain.com.au/rent/?ptype=apartment&bedrooms=3&postcode=3044&sort=dateupdated-desc&page=1\n"
     ]
    },
    {
     "name": "stderr",
     "output_type": "stream",
     "text": [
      "Processing Part 5, Postcode 3044: 100%|███████████████████████████████████████████████████| 4/4 [00:04<00:00,  1.13s/it]\n"
     ]
    },
    {
     "name": "stdout",
     "output_type": "stream",
     "text": [
      "Visiting https://www.domain.com.au/rent/?ptype=house&bedrooms=2&postcode=3044&sort=dateupdated-desc&page=1\n"
     ]
    },
    {
     "name": "stderr",
     "output_type": "stream",
     "text": [
      "Processing Part 5, Postcode 3044: 100%|███████████████████████████████████████████████████| 4/4 [00:04<00:00,  1.06s/it]\n"
     ]
    },
    {
     "name": "stdout",
     "output_type": "stream",
     "text": [
      "Visiting https://www.domain.com.au/rent/?ptype=house&bedrooms=3&postcode=3044&sort=dateupdated-desc&page=1\n"
     ]
    },
    {
     "name": "stderr",
     "output_type": "stream",
     "text": [
      "Processing Part 5, Postcode 3044: 100%|███████████████████████████████████████████████████| 8/8 [00:09<00:00,  1.20s/it]\n"
     ]
    },
    {
     "name": "stdout",
     "output_type": "stream",
     "text": [
      "Visiting https://www.domain.com.au/rent/?ptype=house&bedrooms=4&postcode=3044&sort=dateupdated-desc&page=1\n"
     ]
    },
    {
     "name": "stderr",
     "output_type": "stream",
     "text": [
      "Processing Part 5, Postcode 3044: 100%|███████████████████████████████████████████████████| 6/6 [00:07<00:00,  1.24s/it]\n"
     ]
    },
    {
     "name": "stdout",
     "output_type": "stream",
     "text": [
      "Visiting https://www.domain.com.au/rent/?ptype=apartment&bedrooms=1&postcode=3064&sort=dateupdated-desc&page=1\n",
      "No results found on page https://www.domain.com.au/rent/?ptype=apartment&bedrooms=1&postcode=3064&sort=dateupdated-desc&page=1\n"
     ]
    },
    {
     "name": "stderr",
     "output_type": "stream",
     "text": [
      "Processing Part 5, Postcode 3064: 0it [00:00, ?it/s]"
     ]
    },
    {
     "name": "stdout",
     "output_type": "stream",
     "text": [
      "Visiting https://www.domain.com.au/rent/?ptype=apartment&bedrooms=2&postcode=3064&sort=dateupdated-desc&page=1\n"
     ]
    },
    {
     "name": "stderr",
     "output_type": "stream",
     "text": [
      "\n",
      "Processing Part 5, Postcode 3064: 100%|███████████████████████████████████████████████████| 1/1 [00:01<00:00,  1.16s/it]\n"
     ]
    },
    {
     "name": "stdout",
     "output_type": "stream",
     "text": [
      "Visiting https://www.domain.com.au/rent/?ptype=apartment&bedrooms=3&postcode=3064&sort=dateupdated-desc&page=1\n"
     ]
    },
    {
     "name": "stderr",
     "output_type": "stream",
     "text": [
      "Processing Part 5, Postcode 3064: 100%|███████████████████████████████████████████████████| 2/2 [00:02<00:00,  1.11s/it]\n"
     ]
    },
    {
     "name": "stdout",
     "output_type": "stream",
     "text": [
      "Visiting https://www.domain.com.au/rent/?ptype=house&bedrooms=2&postcode=3064&sort=dateupdated-desc&page=1\n"
     ]
    },
    {
     "name": "stderr",
     "output_type": "stream",
     "text": [
      "Processing Part 5, Postcode 3064: 100%|███████████████████████████████████████████████████| 5/5 [00:06<00:00,  1.34s/it]\n"
     ]
    },
    {
     "name": "stdout",
     "output_type": "stream",
     "text": [
      "Visiting https://www.domain.com.au/rent/?ptype=house&bedrooms=3&postcode=3064&sort=dateupdated-desc&page=1\n"
     ]
    },
    {
     "name": "stderr",
     "output_type": "stream",
     "text": [
      "Processing Part 5, Postcode 3064: 100%|█████████████████████████████████████████████████| 20/20 [00:25<00:00,  1.27s/it]\n"
     ]
    },
    {
     "name": "stdout",
     "output_type": "stream",
     "text": [
      "Visiting https://www.domain.com.au/rent/?ptype=house&bedrooms=4&postcode=3064&sort=dateupdated-desc&page=1\n"
     ]
    },
    {
     "name": "stderr",
     "output_type": "stream",
     "text": [
      "Processing Part 5, Postcode 3064: 100%|█████████████████████████████████████████████████| 20/20 [00:23<00:00,  1.18s/it]\n"
     ]
    },
    {
     "name": "stdout",
     "output_type": "stream",
     "text": [
      "Visiting https://www.domain.com.au/rent/?ptype=apartment&bedrooms=1&postcode=3057&sort=dateupdated-desc&page=1\n"
     ]
    },
    {
     "name": "stderr",
     "output_type": "stream",
     "text": [
      "Processing Part 5, Postcode 3057: 100%|█████████████████████████████████████████████████| 20/20 [00:26<00:00,  1.32s/it]\n"
     ]
    },
    {
     "name": "stdout",
     "output_type": "stream",
     "text": [
      "Visiting https://www.domain.com.au/rent/?ptype=apartment&bedrooms=2&postcode=3057&sort=dateupdated-desc&page=1\n"
     ]
    },
    {
     "name": "stderr",
     "output_type": "stream",
     "text": [
      "Processing Part 5, Postcode 3057: 100%|█████████████████████████████████████████████████| 13/13 [00:16<00:00,  1.29s/it]\n"
     ]
    },
    {
     "name": "stdout",
     "output_type": "stream",
     "text": [
      "Visiting https://www.domain.com.au/rent/?ptype=apartment&bedrooms=3&postcode=3057&sort=dateupdated-desc&page=1\n"
     ]
    },
    {
     "name": "stderr",
     "output_type": "stream",
     "text": [
      "Processing Part 5, Postcode 3057: 100%|███████████████████████████████████████████████████| 1/1 [00:01<00:00,  1.09s/it]\n"
     ]
    },
    {
     "name": "stdout",
     "output_type": "stream",
     "text": [
      "Visiting https://www.domain.com.au/rent/?ptype=house&bedrooms=2&postcode=3057&sort=dateupdated-desc&page=1\n"
     ]
    },
    {
     "name": "stderr",
     "output_type": "stream",
     "text": [
      "Processing Part 5, Postcode 3057: 100%|███████████████████████████████████████████████████| 2/2 [00:02<00:00,  1.16s/it]\n"
     ]
    },
    {
     "name": "stdout",
     "output_type": "stream",
     "text": [
      "Visiting https://www.domain.com.au/rent/?ptype=house&bedrooms=3&postcode=3057&sort=dateupdated-desc&page=1\n"
     ]
    },
    {
     "name": "stderr",
     "output_type": "stream",
     "text": [
      "Processing Part 5, Postcode 3057: 100%|███████████████████████████████████████████████████| 3/3 [00:04<00:00,  1.63s/it]\n"
     ]
    },
    {
     "name": "stdout",
     "output_type": "stream",
     "text": [
      "Visiting https://www.domain.com.au/rent/?ptype=house&bedrooms=4&postcode=3057&sort=dateupdated-desc&page=1\n",
      "No results found on page https://www.domain.com.au/rent/?ptype=house&bedrooms=4&postcode=3057&sort=dateupdated-desc&page=1\n"
     ]
    },
    {
     "name": "stderr",
     "output_type": "stream",
     "text": [
      "Processing Part 5, Postcode 3057: 0it [00:00, ?it/s]"
     ]
    },
    {
     "name": "stdout",
     "output_type": "stream",
     "text": [
      "Visiting https://www.domain.com.au/rent/?ptype=apartment&bedrooms=1&postcode=3040&sort=dateupdated-desc&page=1\n"
     ]
    },
    {
     "name": "stderr",
     "output_type": "stream",
     "text": [
      "\n",
      "Processing Part 5, Postcode 3040: 100%|█████████████████████████████████████████████████| 10/10 [00:11<00:00,  1.15s/it]\n"
     ]
    },
    {
     "name": "stdout",
     "output_type": "stream",
     "text": [
      "Visiting https://www.domain.com.au/rent/?ptype=apartment&bedrooms=2&postcode=3040&sort=dateupdated-desc&page=1\n"
     ]
    },
    {
     "name": "stderr",
     "output_type": "stream",
     "text": [
      "Processing Part 5, Postcode 3040: 100%|█████████████████████████████████████████████████| 20/20 [00:21<00:00,  1.09s/it]\n"
     ]
    },
    {
     "name": "stdout",
     "output_type": "stream",
     "text": [
      "Visiting https://www.domain.com.au/rent/?ptype=apartment&bedrooms=3&postcode=3040&sort=dateupdated-desc&page=1\n"
     ]
    },
    {
     "name": "stderr",
     "output_type": "stream",
     "text": [
      "Processing Part 5, Postcode 3040: 100%|███████████████████████████████████████████████████| 3/3 [00:04<00:00,  1.46s/it]\n"
     ]
    },
    {
     "name": "stdout",
     "output_type": "stream",
     "text": [
      "Visiting https://www.domain.com.au/rent/?ptype=house&bedrooms=2&postcode=3040&sort=dateupdated-desc&page=1\n"
     ]
    },
    {
     "name": "stderr",
     "output_type": "stream",
     "text": [
      "Processing Part 5, Postcode 3040: 100%|███████████████████████████████████████████████████| 2/2 [00:02<00:00,  1.43s/it]\n"
     ]
    },
    {
     "name": "stdout",
     "output_type": "stream",
     "text": [
      "Visiting https://www.domain.com.au/rent/?ptype=house&bedrooms=3&postcode=3040&sort=dateupdated-desc&page=1\n"
     ]
    },
    {
     "name": "stderr",
     "output_type": "stream",
     "text": [
      "Processing Part 5, Postcode 3040: 100%|█████████████████████████████████████████████████| 10/10 [00:13<00:00,  1.32s/it]\n"
     ]
    },
    {
     "name": "stdout",
     "output_type": "stream",
     "text": [
      "Visiting https://www.domain.com.au/rent/?ptype=house&bedrooms=4&postcode=3040&sort=dateupdated-desc&page=1\n"
     ]
    },
    {
     "name": "stderr",
     "output_type": "stream",
     "text": [
      "Processing Part 5, Postcode 3040: 100%|███████████████████████████████████████████████████| 5/5 [00:07<00:00,  1.51s/it]\n"
     ]
    },
    {
     "name": "stdout",
     "output_type": "stream",
     "text": [
      "Visiting https://www.domain.com.au/rent/?ptype=apartment&bedrooms=1&postcode=3041&sort=dateupdated-desc&page=1\n"
     ]
    },
    {
     "name": "stderr",
     "output_type": "stream",
     "text": [
      "Processing Part 5, Postcode 3041: 100%|███████████████████████████████████████████████████| 6/6 [00:09<00:00,  1.53s/it]\n"
     ]
    },
    {
     "name": "stdout",
     "output_type": "stream",
     "text": [
      "Visiting https://www.domain.com.au/rent/?ptype=apartment&bedrooms=2&postcode=3041&sort=dateupdated-desc&page=1\n"
     ]
    },
    {
     "name": "stderr",
     "output_type": "stream",
     "text": [
      "Processing Part 5, Postcode 3041: 100%|█████████████████████████████████████████████████| 14/14 [00:17<00:00,  1.29s/it]\n"
     ]
    },
    {
     "name": "stdout",
     "output_type": "stream",
     "text": [
      "Visiting https://www.domain.com.au/rent/?ptype=apartment&bedrooms=3&postcode=3041&sort=dateupdated-desc&page=1\n"
     ]
    },
    {
     "name": "stderr",
     "output_type": "stream",
     "text": [
      "Processing Part 5, Postcode 3041: 100%|███████████████████████████████████████████████████| 2/2 [00:02<00:00,  1.29s/it]\n"
     ]
    },
    {
     "name": "stdout",
     "output_type": "stream",
     "text": [
      "Visiting https://www.domain.com.au/rent/?ptype=house&bedrooms=2&postcode=3041&sort=dateupdated-desc&page=1\n",
      "No results found on page https://www.domain.com.au/rent/?ptype=house&bedrooms=2&postcode=3041&sort=dateupdated-desc&page=1\n"
     ]
    },
    {
     "name": "stderr",
     "output_type": "stream",
     "text": [
      "Processing Part 5, Postcode 3041: 0it [00:00, ?it/s]"
     ]
    },
    {
     "name": "stdout",
     "output_type": "stream",
     "text": [
      "Visiting https://www.domain.com.au/rent/?ptype=house&bedrooms=3&postcode=3041&sort=dateupdated-desc&page=1\n"
     ]
    },
    {
     "name": "stderr",
     "output_type": "stream",
     "text": [
      "\n",
      "Processing Part 5, Postcode 3041: 100%|███████████████████████████████████████████████████| 3/3 [00:03<00:00,  1.20s/it]\n"
     ]
    },
    {
     "name": "stdout",
     "output_type": "stream",
     "text": [
      "Visiting https://www.domain.com.au/rent/?ptype=house&bedrooms=4&postcode=3041&sort=dateupdated-desc&page=1\n"
     ]
    },
    {
     "name": "stderr",
     "output_type": "stream",
     "text": [
      "Processing Part 5, Postcode 3041: 100%|███████████████████████████████████████████████████| 2/2 [00:02<00:00,  1.08s/it]\n"
     ]
    },
    {
     "name": "stdout",
     "output_type": "stream",
     "text": [
      "Visiting https://www.domain.com.au/rent/?ptype=apartment&bedrooms=1&postcode=3043&sort=dateupdated-desc&page=1\n"
     ]
    },
    {
     "name": "stderr",
     "output_type": "stream",
     "text": [
      "Processing Part 5, Postcode 3043: 100%|███████████████████████████████████████████████████| 2/2 [00:02<00:00,  1.21s/it]\n"
     ]
    },
    {
     "name": "stdout",
     "output_type": "stream",
     "text": [
      "Visiting https://www.domain.com.au/rent/?ptype=apartment&bedrooms=2&postcode=3043&sort=dateupdated-desc&page=1\n"
     ]
    },
    {
     "name": "stderr",
     "output_type": "stream",
     "text": [
      "Processing Part 5, Postcode 3043: 100%|███████████████████████████████████████████████████| 7/7 [00:08<00:00,  1.14s/it]\n"
     ]
    },
    {
     "name": "stdout",
     "output_type": "stream",
     "text": [
      "Visiting https://www.domain.com.au/rent/?ptype=apartment&bedrooms=3&postcode=3043&sort=dateupdated-desc&page=1\n"
     ]
    },
    {
     "name": "stderr",
     "output_type": "stream",
     "text": [
      "Processing Part 5, Postcode 3043: 100%|███████████████████████████████████████████████████| 2/2 [00:02<00:00,  1.05s/it]\n"
     ]
    },
    {
     "name": "stdout",
     "output_type": "stream",
     "text": [
      "Visiting https://www.domain.com.au/rent/?ptype=house&bedrooms=2&postcode=3043&sort=dateupdated-desc&page=1\n"
     ]
    },
    {
     "name": "stderr",
     "output_type": "stream",
     "text": [
      "Processing Part 5, Postcode 3043: 100%|███████████████████████████████████████████████████| 1/1 [00:01<00:00,  1.19s/it]\n"
     ]
    },
    {
     "name": "stdout",
     "output_type": "stream",
     "text": [
      "Visiting https://www.domain.com.au/rent/?ptype=house&bedrooms=3&postcode=3043&sort=dateupdated-desc&page=1\n"
     ]
    },
    {
     "name": "stderr",
     "output_type": "stream",
     "text": [
      "Processing Part 5, Postcode 3043: 100%|███████████████████████████████████████████████████| 9/9 [00:10<00:00,  1.22s/it]\n"
     ]
    },
    {
     "name": "stdout",
     "output_type": "stream",
     "text": [
      "Visiting https://www.domain.com.au/rent/?ptype=house&bedrooms=4&postcode=3043&sort=dateupdated-desc&page=1\n"
     ]
    },
    {
     "name": "stderr",
     "output_type": "stream",
     "text": [
      "Processing Part 5, Postcode 3043: 100%|███████████████████████████████████████████████████| 2/2 [00:02<00:00,  1.31s/it]\n"
     ]
    },
    {
     "name": "stdout",
     "output_type": "stream",
     "text": [
      "Visiting https://www.domain.com.au/rent/?ptype=apartment&bedrooms=1&postcode=3033&sort=dateupdated-desc&page=1\n",
      "No results found on page https://www.domain.com.au/rent/?ptype=apartment&bedrooms=1&postcode=3033&sort=dateupdated-desc&page=1\n"
     ]
    },
    {
     "name": "stderr",
     "output_type": "stream",
     "text": [
      "Processing Part 5, Postcode 3033: 0it [00:00, ?it/s]"
     ]
    },
    {
     "name": "stdout",
     "output_type": "stream",
     "text": [
      "Visiting https://www.domain.com.au/rent/?ptype=apartment&bedrooms=2&postcode=3033&sort=dateupdated-desc&page=1\n"
     ]
    },
    {
     "name": "stderr",
     "output_type": "stream",
     "text": [
      "\n",
      "Processing Part 5, Postcode 3033: 100%|███████████████████████████████████████████████████| 1/1 [00:01<00:00,  1.26s/it]\n"
     ]
    },
    {
     "name": "stdout",
     "output_type": "stream",
     "text": [
      "Visiting https://www.domain.com.au/rent/?ptype=apartment&bedrooms=3&postcode=3033&sort=dateupdated-desc&page=1\n"
     ]
    },
    {
     "name": "stderr",
     "output_type": "stream",
     "text": [
      "Processing Part 5, Postcode 3033: 100%|███████████████████████████████████████████████████| 2/2 [00:02<00:00,  1.11s/it]\n"
     ]
    },
    {
     "name": "stdout",
     "output_type": "stream",
     "text": [
      "Visiting https://www.domain.com.au/rent/?ptype=house&bedrooms=2&postcode=3033&sort=dateupdated-desc&page=1\n"
     ]
    },
    {
     "name": "stderr",
     "output_type": "stream",
     "text": [
      "Processing Part 5, Postcode 3033: 100%|███████████████████████████████████████████████████| 1/1 [00:01<00:00,  1.04s/it]\n"
     ]
    },
    {
     "name": "stdout",
     "output_type": "stream",
     "text": [
      "Visiting https://www.domain.com.au/rent/?ptype=house&bedrooms=3&postcode=3033&sort=dateupdated-desc&page=1\n"
     ]
    },
    {
     "name": "stderr",
     "output_type": "stream",
     "text": [
      "Processing Part 5, Postcode 3033: 100%|███████████████████████████████████████████████████| 7/7 [00:09<00:00,  1.33s/it]\n"
     ]
    },
    {
     "name": "stdout",
     "output_type": "stream",
     "text": [
      "Visiting https://www.domain.com.au/rent/?ptype=house&bedrooms=4&postcode=3033&sort=dateupdated-desc&page=1\n"
     ]
    },
    {
     "name": "stderr",
     "output_type": "stream",
     "text": [
      "Processing Part 5, Postcode 3033: 100%|███████████████████████████████████████████████████| 4/4 [00:04<00:00,  1.21s/it]\n"
     ]
    },
    {
     "name": "stdout",
     "output_type": "stream",
     "text": [
      "Visiting https://www.domain.com.au/rent/?ptype=apartment&bedrooms=1&postcode=3038&sort=dateupdated-desc&page=1\n",
      "No results found on page https://www.domain.com.au/rent/?ptype=apartment&bedrooms=1&postcode=3038&sort=dateupdated-desc&page=1\n"
     ]
    },
    {
     "name": "stderr",
     "output_type": "stream",
     "text": [
      "Processing Part 5, Postcode 3038: 0it [00:00, ?it/s]"
     ]
    },
    {
     "name": "stdout",
     "output_type": "stream",
     "text": [
      "Visiting https://www.domain.com.au/rent/?ptype=apartment&bedrooms=2&postcode=3038&sort=dateupdated-desc&page=1\n"
     ]
    },
    {
     "name": "stderr",
     "output_type": "stream",
     "text": [
      "\n",
      "Processing Part 5, Postcode 3038: 100%|███████████████████████████████████████████████████| 2/2 [00:02<00:00,  1.41s/it]\n"
     ]
    },
    {
     "name": "stdout",
     "output_type": "stream",
     "text": [
      "Visiting https://www.domain.com.au/rent/?ptype=apartment&bedrooms=3&postcode=3038&sort=dateupdated-desc&page=1\n"
     ]
    },
    {
     "name": "stderr",
     "output_type": "stream",
     "text": [
      "Processing Part 5, Postcode 3038: 100%|███████████████████████████████████████████████████| 1/1 [00:01<00:00,  1.41s/it]\n"
     ]
    },
    {
     "name": "stdout",
     "output_type": "stream",
     "text": [
      "Visiting https://www.domain.com.au/rent/?ptype=house&bedrooms=2&postcode=3038&sort=dateupdated-desc&page=1\n",
      "No results found on page https://www.domain.com.au/rent/?ptype=house&bedrooms=2&postcode=3038&sort=dateupdated-desc&page=1\n"
     ]
    },
    {
     "name": "stderr",
     "output_type": "stream",
     "text": [
      "Processing Part 5, Postcode 3038: 0it [00:00, ?it/s]"
     ]
    },
    {
     "name": "stdout",
     "output_type": "stream",
     "text": [
      "Visiting https://www.domain.com.au/rent/?ptype=house&bedrooms=3&postcode=3038&sort=dateupdated-desc&page=1\n"
     ]
    },
    {
     "name": "stderr",
     "output_type": "stream",
     "text": [
      "\n",
      "Processing Part 5, Postcode 3038: 100%|███████████████████████████████████████████████████| 2/2 [00:02<00:00,  1.08s/it]\n"
     ]
    },
    {
     "name": "stdout",
     "output_type": "stream",
     "text": [
      "Visiting https://www.domain.com.au/rent/?ptype=house&bedrooms=4&postcode=3038&sort=dateupdated-desc&page=1\n"
     ]
    },
    {
     "name": "stderr",
     "output_type": "stream",
     "text": [
      "Processing Part 5, Postcode 3038: 100%|███████████████████████████████████████████████████| 2/2 [00:02<00:00,  1.12s/it]\n"
     ]
    },
    {
     "name": "stdout",
     "output_type": "stream",
     "text": [
      "Visiting https://www.domain.com.au/rent/?ptype=apartment&bedrooms=1&postcode=3036&sort=dateupdated-desc&page=1\n",
      "No results found on page https://www.domain.com.au/rent/?ptype=apartment&bedrooms=1&postcode=3036&sort=dateupdated-desc&page=1\n"
     ]
    },
    {
     "name": "stderr",
     "output_type": "stream",
     "text": [
      "Processing Part 5, Postcode 3036: 0it [00:00, ?it/s]"
     ]
    },
    {
     "name": "stdout",
     "output_type": "stream",
     "text": [
      "Visiting https://www.domain.com.au/rent/?ptype=apartment&bedrooms=2&postcode=3036&sort=dateupdated-desc&page=1\n"
     ]
    },
    {
     "name": "stderr",
     "output_type": "stream",
     "text": [
      "\n"
     ]
    },
    {
     "name": "stdout",
     "output_type": "stream",
     "text": [
      "No results found on page https://www.domain.com.au/rent/?ptype=apartment&bedrooms=2&postcode=3036&sort=dateupdated-desc&page=1\n"
     ]
    },
    {
     "name": "stderr",
     "output_type": "stream",
     "text": [
      "Processing Part 5, Postcode 3036: 0it [00:00, ?it/s]"
     ]
    },
    {
     "name": "stdout",
     "output_type": "stream",
     "text": [
      "Visiting https://www.domain.com.au/rent/?ptype=apartment&bedrooms=3&postcode=3036&sort=dateupdated-desc&page=1\n"
     ]
    },
    {
     "name": "stderr",
     "output_type": "stream",
     "text": [
      "\n"
     ]
    },
    {
     "name": "stdout",
     "output_type": "stream",
     "text": [
      "No results found on page https://www.domain.com.au/rent/?ptype=apartment&bedrooms=3&postcode=3036&sort=dateupdated-desc&page=1\n"
     ]
    },
    {
     "name": "stderr",
     "output_type": "stream",
     "text": [
      "Processing Part 5, Postcode 3036: 0it [00:00, ?it/s]"
     ]
    },
    {
     "name": "stdout",
     "output_type": "stream",
     "text": [
      "Visiting https://www.domain.com.au/rent/?ptype=house&bedrooms=2&postcode=3036&sort=dateupdated-desc&page=1\n"
     ]
    },
    {
     "name": "stderr",
     "output_type": "stream",
     "text": [
      "\n",
      "Processing Part 5, Postcode 3036: 100%|███████████████████████████████████████████████████| 1/1 [00:01<00:00,  1.09s/it]\n"
     ]
    },
    {
     "name": "stdout",
     "output_type": "stream",
     "text": [
      "Visiting https://www.domain.com.au/rent/?ptype=house&bedrooms=3&postcode=3036&sort=dateupdated-desc&page=1\n",
      "No results found on page https://www.domain.com.au/rent/?ptype=house&bedrooms=3&postcode=3036&sort=dateupdated-desc&page=1\n"
     ]
    },
    {
     "name": "stderr",
     "output_type": "stream",
     "text": [
      "Processing Part 5, Postcode 3036: 0it [00:00, ?it/s]"
     ]
    },
    {
     "name": "stdout",
     "output_type": "stream",
     "text": [
      "Visiting https://www.domain.com.au/rent/?ptype=house&bedrooms=4&postcode=3036&sort=dateupdated-desc&page=1\n"
     ]
    },
    {
     "name": "stderr",
     "output_type": "stream",
     "text": [
      "\n",
      "Processing Part 5, Postcode 3036: 100%|███████████████████████████████████████████████████| 1/1 [00:01<00:00,  1.44s/it]\n"
     ]
    },
    {
     "name": "stdout",
     "output_type": "stream",
     "text": [
      "Visiting https://www.domain.com.au/rent/?ptype=apartment&bedrooms=1&postcode=3042&sort=dateupdated-desc&page=1\n",
      "No results found on page https://www.domain.com.au/rent/?ptype=apartment&bedrooms=1&postcode=3042&sort=dateupdated-desc&page=1\n"
     ]
    },
    {
     "name": "stderr",
     "output_type": "stream",
     "text": [
      "Processing Part 5, Postcode 3042: 0it [00:00, ?it/s]"
     ]
    },
    {
     "name": "stdout",
     "output_type": "stream",
     "text": [
      "Visiting https://www.domain.com.au/rent/?ptype=apartment&bedrooms=2&postcode=3042&sort=dateupdated-desc&page=1\n"
     ]
    },
    {
     "name": "stderr",
     "output_type": "stream",
     "text": [
      "\n",
      "Processing Part 5, Postcode 3042: 100%|███████████████████████████████████████████████████| 4/4 [00:05<00:00,  1.26s/it]\n"
     ]
    },
    {
     "name": "stdout",
     "output_type": "stream",
     "text": [
      "Visiting https://www.domain.com.au/rent/?ptype=apartment&bedrooms=3&postcode=3042&sort=dateupdated-desc&page=1\n"
     ]
    },
    {
     "name": "stderr",
     "output_type": "stream",
     "text": [
      "Processing Part 5, Postcode 3042: 100%|███████████████████████████████████████████████████| 2/2 [00:02<00:00,  1.14s/it]\n"
     ]
    },
    {
     "name": "stdout",
     "output_type": "stream",
     "text": [
      "Visiting https://www.domain.com.au/rent/?ptype=house&bedrooms=2&postcode=3042&sort=dateupdated-desc&page=1\n"
     ]
    },
    {
     "name": "stderr",
     "output_type": "stream",
     "text": [
      "Processing Part 5, Postcode 3042: 100%|███████████████████████████████████████████████████| 1/1 [00:01<00:00,  1.01s/it]\n"
     ]
    },
    {
     "name": "stdout",
     "output_type": "stream",
     "text": [
      "Visiting https://www.domain.com.au/rent/?ptype=house&bedrooms=3&postcode=3042&sort=dateupdated-desc&page=1\n"
     ]
    },
    {
     "name": "stderr",
     "output_type": "stream",
     "text": [
      "Processing Part 5, Postcode 3042: 100%|███████████████████████████████████████████████████| 8/8 [00:09<00:00,  1.17s/it]\n"
     ]
    },
    {
     "name": "stdout",
     "output_type": "stream",
     "text": [
      "Visiting https://www.domain.com.au/rent/?ptype=house&bedrooms=4&postcode=3042&sort=dateupdated-desc&page=1\n"
     ]
    },
    {
     "name": "stderr",
     "output_type": "stream",
     "text": [
      "Processing Part 5, Postcode 3042: 100%|███████████████████████████████████████████████████| 3/3 [00:03<00:00,  1.19s/it]\n"
     ]
    },
    {
     "name": "stdout",
     "output_type": "stream",
     "text": [
      "Completed processing Part 5/10. Data saved to ../../data/raw/domain/temp_parts/property_part_5.csv\n",
      "Visiting https://www.domain.com.au/rent/?ptype=apartment&bedrooms=1&postcode=3039&sort=dateupdated-desc&page=1\n"
     ]
    },
    {
     "name": "stderr",
     "output_type": "stream",
     "text": [
      "Processing Part 6, Postcode 3039: 100%|█████████████████████████████████████████████████| 10/10 [00:13<00:00,  1.36s/it]\n"
     ]
    },
    {
     "name": "stdout",
     "output_type": "stream",
     "text": [
      "Visiting https://www.domain.com.au/rent/?ptype=apartment&bedrooms=2&postcode=3039&sort=dateupdated-desc&page=1\n"
     ]
    },
    {
     "name": "stderr",
     "output_type": "stream",
     "text": [
      "Processing Part 6, Postcode 3039: 100%|█████████████████████████████████████████████████| 20/20 [00:26<00:00,  1.34s/it]\n"
     ]
    },
    {
     "name": "stdout",
     "output_type": "stream",
     "text": [
      "Visiting https://www.domain.com.au/rent/?ptype=apartment&bedrooms=3&postcode=3039&sort=dateupdated-desc&page=1\n"
     ]
    },
    {
     "name": "stderr",
     "output_type": "stream",
     "text": [
      "Processing Part 6, Postcode 3039: 100%|███████████████████████████████████████████████████| 1/1 [00:01<00:00,  1.06s/it]\n"
     ]
    },
    {
     "name": "stdout",
     "output_type": "stream",
     "text": [
      "Visiting https://www.domain.com.au/rent/?ptype=house&bedrooms=2&postcode=3039&sort=dateupdated-desc&page=1\n"
     ]
    },
    {
     "name": "stderr",
     "output_type": "stream",
     "text": [
      "Processing Part 6, Postcode 3039: 100%|███████████████████████████████████████████████████| 3/3 [00:04<00:00,  1.35s/it]\n"
     ]
    },
    {
     "name": "stdout",
     "output_type": "stream",
     "text": [
      "Visiting https://www.domain.com.au/rent/?ptype=house&bedrooms=3&postcode=3039&sort=dateupdated-desc&page=1\n"
     ]
    },
    {
     "name": "stderr",
     "output_type": "stream",
     "text": [
      "Processing Part 6, Postcode 3039: 100%|███████████████████████████████████████████████████| 4/4 [00:05<00:00,  1.46s/it]\n"
     ]
    },
    {
     "name": "stdout",
     "output_type": "stream",
     "text": [
      "Visiting https://www.domain.com.au/rent/?ptype=house&bedrooms=4&postcode=3039&sort=dateupdated-desc&page=1\n"
     ]
    },
    {
     "name": "stderr",
     "output_type": "stream",
     "text": [
      "Processing Part 6, Postcode 3039: 100%|███████████████████████████████████████████████████| 1/1 [00:01<00:00,  1.04s/it]\n"
     ]
    },
    {
     "name": "stdout",
     "output_type": "stream",
     "text": [
      "Visiting https://www.domain.com.au/rent/?ptype=apartment&bedrooms=1&postcode=3032&sort=dateupdated-desc&page=1\n"
     ]
    },
    {
     "name": "stderr",
     "output_type": "stream",
     "text": [
      "Processing Part 6, Postcode 3032: 100%|█████████████████████████████████████████████████| 15/15 [00:18<00:00,  1.22s/it]\n"
     ]
    },
    {
     "name": "stdout",
     "output_type": "stream",
     "text": [
      "Visiting https://www.domain.com.au/rent/?ptype=apartment&bedrooms=2&postcode=3032&sort=dateupdated-desc&page=1\n"
     ]
    },
    {
     "name": "stderr",
     "output_type": "stream",
     "text": [
      "Processing Part 6, Postcode 3032: 100%|█████████████████████████████████████████████████| 20/20 [00:24<00:00,  1.21s/it]\n"
     ]
    },
    {
     "name": "stdout",
     "output_type": "stream",
     "text": [
      "Visiting https://www.domain.com.au/rent/?ptype=apartment&bedrooms=3&postcode=3032&sort=dateupdated-desc&page=1\n"
     ]
    },
    {
     "name": "stderr",
     "output_type": "stream",
     "text": [
      "Processing Part 6, Postcode 3032: 100%|███████████████████████████████████████████████████| 4/4 [00:04<00:00,  1.14s/it]\n"
     ]
    },
    {
     "name": "stdout",
     "output_type": "stream",
     "text": [
      "Visiting https://www.domain.com.au/rent/?ptype=house&bedrooms=2&postcode=3032&sort=dateupdated-desc&page=1\n"
     ]
    },
    {
     "name": "stderr",
     "output_type": "stream",
     "text": [
      "Processing Part 6, Postcode 3032: 100%|███████████████████████████████████████████████████| 9/9 [00:11<00:00,  1.25s/it]\n"
     ]
    },
    {
     "name": "stdout",
     "output_type": "stream",
     "text": [
      "Visiting https://www.domain.com.au/rent/?ptype=house&bedrooms=3&postcode=3032&sort=dateupdated-desc&page=1\n"
     ]
    },
    {
     "name": "stderr",
     "output_type": "stream",
     "text": [
      "Processing Part 6, Postcode 3032: 100%|█████████████████████████████████████████████████| 13/13 [00:19<00:00,  1.47s/it]\n"
     ]
    },
    {
     "name": "stdout",
     "output_type": "stream",
     "text": [
      "Visiting https://www.domain.com.au/rent/?ptype=house&bedrooms=4&postcode=3032&sort=dateupdated-desc&page=1\n"
     ]
    },
    {
     "name": "stderr",
     "output_type": "stream",
     "text": [
      "Processing Part 6, Postcode 3032: 100%|███████████████████████████████████████████████████| 3/3 [00:03<00:00,  1.17s/it]\n"
     ]
    },
    {
     "name": "stdout",
     "output_type": "stream",
     "text": [
      "Visiting https://www.domain.com.au/rent/?ptype=apartment&bedrooms=1&postcode=3046&sort=dateupdated-desc&page=1\n"
     ]
    },
    {
     "name": "stderr",
     "output_type": "stream",
     "text": [
      "Processing Part 6, Postcode 3046: 100%|███████████████████████████████████████████████████| 2/2 [00:02<00:00,  1.08s/it]\n"
     ]
    },
    {
     "name": "stdout",
     "output_type": "stream",
     "text": [
      "Visiting https://www.domain.com.au/rent/?ptype=apartment&bedrooms=2&postcode=3046&sort=dateupdated-desc&page=1\n"
     ]
    },
    {
     "name": "stderr",
     "output_type": "stream",
     "text": [
      "Processing Part 6, Postcode 3046: 100%|█████████████████████████████████████████████████| 13/13 [00:22<00:00,  1.71s/it]\n"
     ]
    },
    {
     "name": "stdout",
     "output_type": "stream",
     "text": [
      "Visiting https://www.domain.com.au/rent/?ptype=apartment&bedrooms=3&postcode=3046&sort=dateupdated-desc&page=1\n"
     ]
    },
    {
     "name": "stderr",
     "output_type": "stream",
     "text": [
      "Processing Part 6, Postcode 3046: 100%|███████████████████████████████████████████████████| 1/1 [00:01<00:00,  1.31s/it]\n"
     ]
    },
    {
     "name": "stdout",
     "output_type": "stream",
     "text": [
      "Visiting https://www.domain.com.au/rent/?ptype=house&bedrooms=2&postcode=3046&sort=dateupdated-desc&page=1\n"
     ]
    },
    {
     "name": "stderr",
     "output_type": "stream",
     "text": [
      "Processing Part 6, Postcode 3046: 100%|███████████████████████████████████████████████████| 5/5 [00:06<00:00,  1.26s/it]\n"
     ]
    },
    {
     "name": "stdout",
     "output_type": "stream",
     "text": [
      "Visiting https://www.domain.com.au/rent/?ptype=house&bedrooms=3&postcode=3046&sort=dateupdated-desc&page=1\n"
     ]
    },
    {
     "name": "stderr",
     "output_type": "stream",
     "text": [
      "Processing Part 6, Postcode 3046: 100%|█████████████████████████████████████████████████| 17/17 [00:24<00:00,  1.45s/it]\n"
     ]
    },
    {
     "name": "stdout",
     "output_type": "stream",
     "text": [
      "Visiting https://www.domain.com.au/rent/?ptype=house&bedrooms=4&postcode=3046&sort=dateupdated-desc&page=1\n"
     ]
    },
    {
     "name": "stderr",
     "output_type": "stream",
     "text": [
      "Processing Part 6, Postcode 3046: 100%|███████████████████████████████████████████████████| 4/4 [00:05<00:00,  1.29s/it]\n"
     ]
    },
    {
     "name": "stdout",
     "output_type": "stream",
     "text": [
      "Visiting https://www.domain.com.au/rent/?ptype=apartment&bedrooms=1&postcode=3060&sort=dateupdated-desc&page=1\n",
      "No results found on page https://www.domain.com.au/rent/?ptype=apartment&bedrooms=1&postcode=3060&sort=dateupdated-desc&page=1\n"
     ]
    },
    {
     "name": "stderr",
     "output_type": "stream",
     "text": [
      "Processing Part 6, Postcode 3060: 0it [00:00, ?it/s]"
     ]
    },
    {
     "name": "stdout",
     "output_type": "stream",
     "text": [
      "Visiting https://www.domain.com.au/rent/?ptype=apartment&bedrooms=2&postcode=3060&sort=dateupdated-desc&page=1\n"
     ]
    },
    {
     "name": "stderr",
     "output_type": "stream",
     "text": [
      "\n",
      "Processing Part 6, Postcode 3060: 100%|███████████████████████████████████████████████████| 3/3 [00:05<00:00,  1.72s/it]\n"
     ]
    },
    {
     "name": "stdout",
     "output_type": "stream",
     "text": [
      "Visiting https://www.domain.com.au/rent/?ptype=apartment&bedrooms=3&postcode=3060&sort=dateupdated-desc&page=1\n"
     ]
    },
    {
     "name": "stderr",
     "output_type": "stream",
     "text": [
      "Processing Part 6, Postcode 3060: 100%|███████████████████████████████████████████████████| 1/1 [00:01<00:00,  1.46s/it]\n"
     ]
    },
    {
     "name": "stdout",
     "output_type": "stream",
     "text": [
      "Visiting https://www.domain.com.au/rent/?ptype=house&bedrooms=2&postcode=3060&sort=dateupdated-desc&page=1\n",
      "No results found on page https://www.domain.com.au/rent/?ptype=house&bedrooms=2&postcode=3060&sort=dateupdated-desc&page=1\n"
     ]
    },
    {
     "name": "stderr",
     "output_type": "stream",
     "text": [
      "Processing Part 6, Postcode 3060: 0it [00:00, ?it/s]"
     ]
    },
    {
     "name": "stdout",
     "output_type": "stream",
     "text": [
      "Visiting https://www.domain.com.au/rent/?ptype=house&bedrooms=3&postcode=3060&sort=dateupdated-desc&page=1\n"
     ]
    },
    {
     "name": "stderr",
     "output_type": "stream",
     "text": [
      "\n",
      "Processing Part 6, Postcode 3060: 100%|█████████████████████████████████████████████████| 11/11 [00:12<00:00,  1.15s/it]\n"
     ]
    },
    {
     "name": "stdout",
     "output_type": "stream",
     "text": [
      "Visiting https://www.domain.com.au/rent/?ptype=house&bedrooms=4&postcode=3060&sort=dateupdated-desc&page=1\n"
     ]
    },
    {
     "name": "stderr",
     "output_type": "stream",
     "text": [
      "Processing Part 6, Postcode 3060: 100%|███████████████████████████████████████████████████| 4/4 [00:05<00:00,  1.39s/it]\n"
     ]
    },
    {
     "name": "stdout",
     "output_type": "stream",
     "text": [
      "Visiting https://www.domain.com.au/rent/?ptype=apartment&bedrooms=1&postcode=3044&sort=dateupdated-desc&page=1\n"
     ]
    },
    {
     "name": "stderr",
     "output_type": "stream",
     "text": [
      "Processing Part 6, Postcode 3044: 100%|███████████████████████████████████████████████████| 2/2 [00:02<00:00,  1.09s/it]\n"
     ]
    },
    {
     "name": "stdout",
     "output_type": "stream",
     "text": [
      "Visiting https://www.domain.com.au/rent/?ptype=apartment&bedrooms=2&postcode=3044&sort=dateupdated-desc&page=1\n"
     ]
    },
    {
     "name": "stderr",
     "output_type": "stream",
     "text": [
      "Processing Part 6, Postcode 3044: 100%|█████████████████████████████████████████████████| 11/11 [00:13<00:00,  1.23s/it]\n"
     ]
    },
    {
     "name": "stdout",
     "output_type": "stream",
     "text": [
      "Visiting https://www.domain.com.au/rent/?ptype=apartment&bedrooms=3&postcode=3044&sort=dateupdated-desc&page=1\n"
     ]
    },
    {
     "name": "stderr",
     "output_type": "stream",
     "text": [
      "Processing Part 6, Postcode 3044: 100%|███████████████████████████████████████████████████| 4/4 [00:04<00:00,  1.13s/it]\n"
     ]
    },
    {
     "name": "stdout",
     "output_type": "stream",
     "text": [
      "Visiting https://www.domain.com.au/rent/?ptype=house&bedrooms=2&postcode=3044&sort=dateupdated-desc&page=1\n"
     ]
    },
    {
     "name": "stderr",
     "output_type": "stream",
     "text": [
      "Processing Part 6, Postcode 3044: 100%|███████████████████████████████████████████████████| 4/4 [00:04<00:00,  1.23s/it]\n"
     ]
    },
    {
     "name": "stdout",
     "output_type": "stream",
     "text": [
      "Visiting https://www.domain.com.au/rent/?ptype=house&bedrooms=3&postcode=3044&sort=dateupdated-desc&page=1\n"
     ]
    },
    {
     "name": "stderr",
     "output_type": "stream",
     "text": [
      "Processing Part 6, Postcode 3044: 100%|███████████████████████████████████████████████████| 8/8 [00:11<00:00,  1.41s/it]\n"
     ]
    },
    {
     "name": "stdout",
     "output_type": "stream",
     "text": [
      "Visiting https://www.domain.com.au/rent/?ptype=house&bedrooms=4&postcode=3044&sort=dateupdated-desc&page=1\n"
     ]
    },
    {
     "name": "stderr",
     "output_type": "stream",
     "text": [
      "Processing Part 6, Postcode 3044: 100%|███████████████████████████████████████████████████| 6/6 [00:07<00:00,  1.17s/it]\n"
     ]
    },
    {
     "name": "stdout",
     "output_type": "stream",
     "text": [
      "Visiting https://www.domain.com.au/rent/?ptype=apartment&bedrooms=1&postcode=3058&sort=dateupdated-desc&page=1\n"
     ]
    },
    {
     "name": "stderr",
     "output_type": "stream",
     "text": [
      "Processing Part 6, Postcode 3058: 100%|███████████████████████████████████████████████████| 9/9 [00:11<00:00,  1.33s/it]\n"
     ]
    },
    {
     "name": "stdout",
     "output_type": "stream",
     "text": [
      "Visiting https://www.domain.com.au/rent/?ptype=apartment&bedrooms=2&postcode=3058&sort=dateupdated-desc&page=1\n"
     ]
    },
    {
     "name": "stderr",
     "output_type": "stream",
     "text": [
      "Processing Part 6, Postcode 3058: 100%|█████████████████████████████████████████████████| 16/16 [00:18<00:00,  1.13s/it]\n"
     ]
    },
    {
     "name": "stdout",
     "output_type": "stream",
     "text": [
      "Visiting https://www.domain.com.au/rent/?ptype=apartment&bedrooms=3&postcode=3058&sort=dateupdated-desc&page=1\n"
     ]
    },
    {
     "name": "stderr",
     "output_type": "stream",
     "text": [
      "Processing Part 6, Postcode 3058: 100%|███████████████████████████████████████████████████| 1/1 [00:01<00:00,  1.08s/it]\n"
     ]
    },
    {
     "name": "stdout",
     "output_type": "stream",
     "text": [
      "Visiting https://www.domain.com.au/rent/?ptype=house&bedrooms=2&postcode=3058&sort=dateupdated-desc&page=1\n"
     ]
    },
    {
     "name": "stderr",
     "output_type": "stream",
     "text": [
      "Processing Part 6, Postcode 3058: 100%|███████████████████████████████████████████████████| 6/6 [00:09<00:00,  1.60s/it]\n"
     ]
    },
    {
     "name": "stdout",
     "output_type": "stream",
     "text": [
      "Visiting https://www.domain.com.au/rent/?ptype=house&bedrooms=3&postcode=3058&sort=dateupdated-desc&page=1\n"
     ]
    },
    {
     "name": "stderr",
     "output_type": "stream",
     "text": [
      "Processing Part 6, Postcode 3058: 100%|█████████████████████████████████████████████████| 14/14 [00:18<00:00,  1.32s/it]\n"
     ]
    },
    {
     "name": "stdout",
     "output_type": "stream",
     "text": [
      "Visiting https://www.domain.com.au/rent/?ptype=house&bedrooms=4&postcode=3058&sort=dateupdated-desc&page=1\n"
     ]
    },
    {
     "name": "stderr",
     "output_type": "stream",
     "text": [
      "Processing Part 6, Postcode 3058: 100%|███████████████████████████████████████████████████| 3/3 [00:03<00:00,  1.20s/it]\n"
     ]
    },
    {
     "name": "stdout",
     "output_type": "stream",
     "text": [
      "Visiting https://www.domain.com.au/rent/?ptype=apartment&bedrooms=1&postcode=3429&sort=dateupdated-desc&page=1\n",
      "No results found on page https://www.domain.com.au/rent/?ptype=apartment&bedrooms=1&postcode=3429&sort=dateupdated-desc&page=1\n"
     ]
    },
    {
     "name": "stderr",
     "output_type": "stream",
     "text": [
      "Processing Part 6, Postcode 3429: 0it [00:00, ?it/s]"
     ]
    },
    {
     "name": "stdout",
     "output_type": "stream",
     "text": [
      "Visiting https://www.domain.com.au/rent/?ptype=apartment&bedrooms=2&postcode=3429&sort=dateupdated-desc&page=1\n"
     ]
    },
    {
     "name": "stderr",
     "output_type": "stream",
     "text": [
      "\n",
      "Processing Part 6, Postcode 3429: 100%|███████████████████████████████████████████████████| 2/2 [00:02<00:00,  1.06s/it]\n"
     ]
    },
    {
     "name": "stdout",
     "output_type": "stream",
     "text": [
      "Visiting https://www.domain.com.au/rent/?ptype=apartment&bedrooms=3&postcode=3429&sort=dateupdated-desc&page=1\n",
      "No results found on page https://www.domain.com.au/rent/?ptype=apartment&bedrooms=3&postcode=3429&sort=dateupdated-desc&page=1\n"
     ]
    },
    {
     "name": "stderr",
     "output_type": "stream",
     "text": [
      "Processing Part 6, Postcode 3429: 0it [00:00, ?it/s]"
     ]
    },
    {
     "name": "stdout",
     "output_type": "stream",
     "text": [
      "Visiting https://www.domain.com.au/rent/?ptype=house&bedrooms=2&postcode=3429&sort=dateupdated-desc&page=1\n"
     ]
    },
    {
     "name": "stderr",
     "output_type": "stream",
     "text": [
      "\n",
      "Processing Part 6, Postcode 3429: 100%|███████████████████████████████████████████████████| 2/2 [00:02<00:00,  1.12s/it]\n"
     ]
    },
    {
     "name": "stdout",
     "output_type": "stream",
     "text": [
      "Visiting https://www.domain.com.au/rent/?ptype=house&bedrooms=3&postcode=3429&sort=dateupdated-desc&page=1\n"
     ]
    },
    {
     "name": "stderr",
     "output_type": "stream",
     "text": [
      "Processing Part 6, Postcode 3429: 100%|█████████████████████████████████████████████████| 12/12 [00:13<00:00,  1.12s/it]\n"
     ]
    },
    {
     "name": "stdout",
     "output_type": "stream",
     "text": [
      "Visiting https://www.domain.com.au/rent/?ptype=house&bedrooms=4&postcode=3429&sort=dateupdated-desc&page=1\n"
     ]
    },
    {
     "name": "stderr",
     "output_type": "stream",
     "text": [
      "Processing Part 6, Postcode 3429: 100%|█████████████████████████████████████████████████| 20/20 [00:26<00:00,  1.32s/it]\n"
     ]
    },
    {
     "name": "stdout",
     "output_type": "stream",
     "text": [
      "Visiting https://www.domain.com.au/rent/?ptype=apartment&bedrooms=1&postcode=3055&sort=dateupdated-desc&page=1\n"
     ]
    },
    {
     "name": "stderr",
     "output_type": "stream",
     "text": [
      "Processing Part 6, Postcode 3055: 100%|█████████████████████████████████████████████████| 12/12 [00:15<00:00,  1.25s/it]\n"
     ]
    },
    {
     "name": "stdout",
     "output_type": "stream",
     "text": [
      "Visiting https://www.domain.com.au/rent/?ptype=apartment&bedrooms=2&postcode=3055&sort=dateupdated-desc&page=1\n"
     ]
    },
    {
     "name": "stderr",
     "output_type": "stream",
     "text": [
      "Processing Part 6, Postcode 3055: 100%|█████████████████████████████████████████████████| 20/20 [00:26<00:00,  1.35s/it]\n"
     ]
    },
    {
     "name": "stdout",
     "output_type": "stream",
     "text": [
      "Visiting https://www.domain.com.au/rent/?ptype=apartment&bedrooms=3&postcode=3055&sort=dateupdated-desc&page=1\n"
     ]
    },
    {
     "name": "stderr",
     "output_type": "stream",
     "text": [
      "Processing Part 6, Postcode 3055: 100%|███████████████████████████████████████████████████| 1/1 [00:01<00:00,  1.05s/it]\n"
     ]
    },
    {
     "name": "stdout",
     "output_type": "stream",
     "text": [
      "Visiting https://www.domain.com.au/rent/?ptype=house&bedrooms=2&postcode=3055&sort=dateupdated-desc&page=1\n"
     ]
    },
    {
     "name": "stderr",
     "output_type": "stream",
     "text": [
      "Processing Part 6, Postcode 3055: 100%|███████████████████████████████████████████████████| 1/1 [00:01<00:00,  1.23s/it]\n"
     ]
    },
    {
     "name": "stdout",
     "output_type": "stream",
     "text": [
      "Visiting https://www.domain.com.au/rent/?ptype=house&bedrooms=3&postcode=3055&sort=dateupdated-desc&page=1\n"
     ]
    },
    {
     "name": "stderr",
     "output_type": "stream",
     "text": [
      "Processing Part 6, Postcode 3055: 100%|███████████████████████████████████████████████████| 2/2 [00:02<00:00,  1.18s/it]\n"
     ]
    },
    {
     "name": "stdout",
     "output_type": "stream",
     "text": [
      "Visiting https://www.domain.com.au/rent/?ptype=house&bedrooms=4&postcode=3055&sort=dateupdated-desc&page=1\n",
      "No results found on page https://www.domain.com.au/rent/?ptype=house&bedrooms=4&postcode=3055&sort=dateupdated-desc&page=1\n"
     ]
    },
    {
     "name": "stderr",
     "output_type": "stream",
     "text": [
      "Processing Part 6, Postcode 3055: 0it [00:00, ?it/s]"
     ]
    },
    {
     "name": "stdout",
     "output_type": "stream",
     "text": [
      "Visiting https://www.domain.com.au/rent/?ptype=apartment&bedrooms=1&postcode=3083&sort=dateupdated-desc&page=1\n"
     ]
    },
    {
     "name": "stderr",
     "output_type": "stream",
     "text": [
      "\n",
      "Processing Part 6, Postcode 3083: 100%|███████████████████████████████████████████████████| 3/3 [00:03<00:00,  1.09s/it]\n"
     ]
    },
    {
     "name": "stdout",
     "output_type": "stream",
     "text": [
      "Visiting https://www.domain.com.au/rent/?ptype=apartment&bedrooms=2&postcode=3083&sort=dateupdated-desc&page=1\n"
     ]
    },
    {
     "name": "stderr",
     "output_type": "stream",
     "text": [
      "Processing Part 6, Postcode 3083: 100%|███████████████████████████████████████████████████| 9/9 [00:11<00:00,  1.27s/it]\n"
     ]
    },
    {
     "name": "stdout",
     "output_type": "stream",
     "text": [
      "Visiting https://www.domain.com.au/rent/?ptype=apartment&bedrooms=3&postcode=3083&sort=dateupdated-desc&page=1\n"
     ]
    },
    {
     "name": "stderr",
     "output_type": "stream",
     "text": [
      "Processing Part 6, Postcode 3083: 100%|███████████████████████████████████████████████████| 2/2 [00:02<00:00,  1.43s/it]\n"
     ]
    },
    {
     "name": "stdout",
     "output_type": "stream",
     "text": [
      "Visiting https://www.domain.com.au/rent/?ptype=house&bedrooms=2&postcode=3083&sort=dateupdated-desc&page=1\n",
      "No results found on page https://www.domain.com.au/rent/?ptype=house&bedrooms=2&postcode=3083&sort=dateupdated-desc&page=1\n"
     ]
    },
    {
     "name": "stderr",
     "output_type": "stream",
     "text": [
      "Processing Part 6, Postcode 3083: 0it [00:00, ?it/s]"
     ]
    },
    {
     "name": "stdout",
     "output_type": "stream",
     "text": [
      "Visiting https://www.domain.com.au/rent/?ptype=house&bedrooms=3&postcode=3083&sort=dateupdated-desc&page=1\n"
     ]
    },
    {
     "name": "stderr",
     "output_type": "stream",
     "text": [
      "\n",
      "Processing Part 6, Postcode 3083: 100%|█████████████████████████████████████████████████| 11/11 [00:16<00:00,  1.52s/it]\n"
     ]
    },
    {
     "name": "stdout",
     "output_type": "stream",
     "text": [
      "Visiting https://www.domain.com.au/rent/?ptype=house&bedrooms=4&postcode=3083&sort=dateupdated-desc&page=1\n"
     ]
    },
    {
     "name": "stderr",
     "output_type": "stream",
     "text": [
      "Processing Part 6, Postcode 3083: 100%|███████████████████████████████████████████████████| 7/7 [00:09<00:00,  1.30s/it]\n"
     ]
    },
    {
     "name": "stdout",
     "output_type": "stream",
     "text": [
      "Visiting https://www.domain.com.au/rent/?ptype=apartment&bedrooms=1&postcode=3088&sort=dateupdated-desc&page=1\n"
     ]
    },
    {
     "name": "stderr",
     "output_type": "stream",
     "text": [
      "Processing Part 6, Postcode 3088: 100%|███████████████████████████████████████████████████| 1/1 [00:01<00:00,  1.24s/it]\n"
     ]
    },
    {
     "name": "stdout",
     "output_type": "stream",
     "text": [
      "Visiting https://www.domain.com.au/rent/?ptype=apartment&bedrooms=2&postcode=3088&sort=dateupdated-desc&page=1\n"
     ]
    },
    {
     "name": "stderr",
     "output_type": "stream",
     "text": [
      "Processing Part 6, Postcode 3088: 100%|███████████████████████████████████████████████████| 3/3 [00:03<00:00,  1.09s/it]\n"
     ]
    },
    {
     "name": "stdout",
     "output_type": "stream",
     "text": [
      "Visiting https://www.domain.com.au/rent/?ptype=apartment&bedrooms=3&postcode=3088&sort=dateupdated-desc&page=1\n",
      "No results found on page https://www.domain.com.au/rent/?ptype=apartment&bedrooms=3&postcode=3088&sort=dateupdated-desc&page=1\n"
     ]
    },
    {
     "name": "stderr",
     "output_type": "stream",
     "text": [
      "Processing Part 6, Postcode 3088: 0it [00:00, ?it/s]"
     ]
    },
    {
     "name": "stdout",
     "output_type": "stream",
     "text": [
      "Visiting https://www.domain.com.au/rent/?ptype=house&bedrooms=2&postcode=3088&sort=dateupdated-desc&page=1\n"
     ]
    },
    {
     "name": "stderr",
     "output_type": "stream",
     "text": [
      "\n",
      "Processing Part 6, Postcode 3088: 100%|███████████████████████████████████████████████████| 1/1 [00:03<00:00,  3.71s/it]\n"
     ]
    },
    {
     "name": "stdout",
     "output_type": "stream",
     "text": [
      "Visiting https://www.domain.com.au/rent/?ptype=house&bedrooms=3&postcode=3088&sort=dateupdated-desc&page=1\n"
     ]
    },
    {
     "name": "stderr",
     "output_type": "stream",
     "text": [
      "Processing Part 6, Postcode 3088: 100%|███████████████████████████████████████████████████| 4/4 [00:06<00:00,  1.50s/it]\n"
     ]
    },
    {
     "name": "stdout",
     "output_type": "stream",
     "text": [
      "Visiting https://www.domain.com.au/rent/?ptype=house&bedrooms=4&postcode=3088&sort=dateupdated-desc&page=1\n"
     ]
    },
    {
     "name": "stderr",
     "output_type": "stream",
     "text": [
      "Processing Part 6, Postcode 3088: 100%|███████████████████████████████████████████████████| 2/2 [00:03<00:00,  1.50s/it]\n"
     ]
    },
    {
     "name": "stdout",
     "output_type": "stream",
     "text": [
      "Visiting https://www.domain.com.au/rent/?ptype=apartment&bedrooms=1&postcode=3099&sort=dateupdated-desc&page=1\n",
      "No results found on page https://www.domain.com.au/rent/?ptype=apartment&bedrooms=1&postcode=3099&sort=dateupdated-desc&page=1\n"
     ]
    },
    {
     "name": "stderr",
     "output_type": "stream",
     "text": [
      "Processing Part 6, Postcode 3099: 0it [00:00, ?it/s]"
     ]
    },
    {
     "name": "stdout",
     "output_type": "stream",
     "text": [
      "Visiting https://www.domain.com.au/rent/?ptype=apartment&bedrooms=2&postcode=3099&sort=dateupdated-desc&page=1\n"
     ]
    },
    {
     "name": "stderr",
     "output_type": "stream",
     "text": [
      "\n"
     ]
    },
    {
     "name": "stdout",
     "output_type": "stream",
     "text": [
      "No results found on page https://www.domain.com.au/rent/?ptype=apartment&bedrooms=2&postcode=3099&sort=dateupdated-desc&page=1\n"
     ]
    },
    {
     "name": "stderr",
     "output_type": "stream",
     "text": [
      "Processing Part 6, Postcode 3099: 0it [00:00, ?it/s]"
     ]
    },
    {
     "name": "stdout",
     "output_type": "stream",
     "text": [
      "Visiting https://www.domain.com.au/rent/?ptype=apartment&bedrooms=3&postcode=3099&sort=dateupdated-desc&page=1\n"
     ]
    },
    {
     "name": "stderr",
     "output_type": "stream",
     "text": [
      "\n"
     ]
    },
    {
     "name": "stdout",
     "output_type": "stream",
     "text": [
      "No results found on page https://www.domain.com.au/rent/?ptype=apartment&bedrooms=3&postcode=3099&sort=dateupdated-desc&page=1\n"
     ]
    },
    {
     "name": "stderr",
     "output_type": "stream",
     "text": [
      "Processing Part 6, Postcode 3099: 0it [00:00, ?it/s]"
     ]
    },
    {
     "name": "stdout",
     "output_type": "stream",
     "text": [
      "Visiting https://www.domain.com.au/rent/?ptype=house&bedrooms=2&postcode=3099&sort=dateupdated-desc&page=1\n"
     ]
    },
    {
     "name": "stderr",
     "output_type": "stream",
     "text": [
      "\n",
      "Processing Part 6, Postcode 3099: 100%|███████████████████████████████████████████████████| 1/1 [00:01<00:00,  1.14s/it]\n"
     ]
    },
    {
     "name": "stdout",
     "output_type": "stream",
     "text": [
      "Visiting https://www.domain.com.au/rent/?ptype=house&bedrooms=3&postcode=3099&sort=dateupdated-desc&page=1\n"
     ]
    },
    {
     "name": "stderr",
     "output_type": "stream",
     "text": [
      "Processing Part 6, Postcode 3099: 100%|███████████████████████████████████████████████████| 1/1 [00:01<00:00,  1.03s/it]\n"
     ]
    },
    {
     "name": "stdout",
     "output_type": "stream",
     "text": [
      "Visiting https://www.domain.com.au/rent/?ptype=house&bedrooms=4&postcode=3099&sort=dateupdated-desc&page=1\n",
      "No results found on page https://www.domain.com.au/rent/?ptype=house&bedrooms=4&postcode=3099&sort=dateupdated-desc&page=1\n"
     ]
    },
    {
     "name": "stderr",
     "output_type": "stream",
     "text": [
      "Processing Part 6, Postcode 3099: 0it [00:00, ?it/s]"
     ]
    },
    {
     "name": "stdout",
     "output_type": "stream",
     "text": [
      "Visiting https://www.domain.com.au/rent/?ptype=apartment&bedrooms=1&postcode=3095&sort=dateupdated-desc&page=1\n"
     ]
    },
    {
     "name": "stderr",
     "output_type": "stream",
     "text": [
      "\n"
     ]
    },
    {
     "name": "stdout",
     "output_type": "stream",
     "text": [
      "No results found on page https://www.domain.com.au/rent/?ptype=apartment&bedrooms=1&postcode=3095&sort=dateupdated-desc&page=1\n"
     ]
    },
    {
     "name": "stderr",
     "output_type": "stream",
     "text": [
      "Processing Part 6, Postcode 3095: 0it [00:00, ?it/s]"
     ]
    },
    {
     "name": "stdout",
     "output_type": "stream",
     "text": [
      "Visiting https://www.domain.com.au/rent/?ptype=apartment&bedrooms=2&postcode=3095&sort=dateupdated-desc&page=1\n"
     ]
    },
    {
     "name": "stderr",
     "output_type": "stream",
     "text": [
      "\n",
      "Processing Part 6, Postcode 3095: 100%|███████████████████████████████████████████████████| 3/3 [00:04<00:00,  1.63s/it]\n"
     ]
    },
    {
     "name": "stdout",
     "output_type": "stream",
     "text": [
      "Visiting https://www.domain.com.au/rent/?ptype=apartment&bedrooms=3&postcode=3095&sort=dateupdated-desc&page=1\n"
     ]
    },
    {
     "name": "stderr",
     "output_type": "stream",
     "text": [
      "Processing Part 6, Postcode 3095: 100%|███████████████████████████████████████████████████| 1/1 [00:01<00:00,  1.34s/it]\n"
     ]
    },
    {
     "name": "stdout",
     "output_type": "stream",
     "text": [
      "Visiting https://www.domain.com.au/rent/?ptype=house&bedrooms=2&postcode=3095&sort=dateupdated-desc&page=1\n"
     ]
    },
    {
     "name": "stderr",
     "output_type": "stream",
     "text": [
      "Processing Part 6, Postcode 3095: 100%|███████████████████████████████████████████████████| 1/1 [00:01<00:00,  1.77s/it]\n"
     ]
    },
    {
     "name": "stdout",
     "output_type": "stream",
     "text": [
      "Visiting https://www.domain.com.au/rent/?ptype=house&bedrooms=3&postcode=3095&sort=dateupdated-desc&page=1\n"
     ]
    },
    {
     "name": "stderr",
     "output_type": "stream",
     "text": [
      "Processing Part 6, Postcode 3095: 100%|███████████████████████████████████████████████████| 5/5 [00:06<00:00,  1.21s/it]\n"
     ]
    },
    {
     "name": "stdout",
     "output_type": "stream",
     "text": [
      "Visiting https://www.domain.com.au/rent/?ptype=house&bedrooms=4&postcode=3095&sort=dateupdated-desc&page=1\n"
     ]
    },
    {
     "name": "stderr",
     "output_type": "stream",
     "text": [
      "Processing Part 6, Postcode 3095: 100%|███████████████████████████████████████████████████| 3/3 [00:03<00:00,  1.16s/it]\n"
     ]
    },
    {
     "name": "stdout",
     "output_type": "stream",
     "text": [
      "Visiting https://www.domain.com.au/rent/?ptype=apartment&bedrooms=1&postcode=3094&sort=dateupdated-desc&page=1\n",
      "No results found on page https://www.domain.com.au/rent/?ptype=apartment&bedrooms=1&postcode=3094&sort=dateupdated-desc&page=1\n"
     ]
    },
    {
     "name": "stderr",
     "output_type": "stream",
     "text": [
      "Processing Part 6, Postcode 3094: 0it [00:00, ?it/s]"
     ]
    },
    {
     "name": "stdout",
     "output_type": "stream",
     "text": [
      "Visiting https://www.domain.com.au/rent/?ptype=apartment&bedrooms=2&postcode=3094&sort=dateupdated-desc&page=1\n"
     ]
    },
    {
     "name": "stderr",
     "output_type": "stream",
     "text": [
      "\n",
      "Processing Part 6, Postcode 3094: 100%|███████████████████████████████████████████████████| 1/1 [00:01<00:00,  1.06s/it]\n"
     ]
    },
    {
     "name": "stdout",
     "output_type": "stream",
     "text": [
      "Visiting https://www.domain.com.au/rent/?ptype=apartment&bedrooms=3&postcode=3094&sort=dateupdated-desc&page=1\n"
     ]
    },
    {
     "name": "stderr",
     "output_type": "stream",
     "text": [
      "Processing Part 6, Postcode 3094: 100%|███████████████████████████████████████████████████| 1/1 [00:01<00:00,  1.09s/it]\n"
     ]
    },
    {
     "name": "stdout",
     "output_type": "stream",
     "text": [
      "Visiting https://www.domain.com.au/rent/?ptype=house&bedrooms=2&postcode=3094&sort=dateupdated-desc&page=1\n"
     ]
    },
    {
     "name": "stderr",
     "output_type": "stream",
     "text": [
      "Processing Part 6, Postcode 3094: 100%|███████████████████████████████████████████████████| 1/1 [00:01<00:00,  1.12s/it]\n"
     ]
    },
    {
     "name": "stdout",
     "output_type": "stream",
     "text": [
      "Visiting https://www.domain.com.au/rent/?ptype=house&bedrooms=3&postcode=3094&sort=dateupdated-desc&page=1\n"
     ]
    },
    {
     "name": "stderr",
     "output_type": "stream",
     "text": [
      "Processing Part 6, Postcode 3094: 100%|███████████████████████████████████████████████████| 2/2 [00:02<00:00,  1.22s/it]\n"
     ]
    },
    {
     "name": "stdout",
     "output_type": "stream",
     "text": [
      "Visiting https://www.domain.com.au/rent/?ptype=house&bedrooms=4&postcode=3094&sort=dateupdated-desc&page=1\n"
     ]
    },
    {
     "name": "stderr",
     "output_type": "stream",
     "text": [
      "Processing Part 6, Postcode 3094: 100%|███████████████████████████████████████████████████| 2/2 [00:02<00:00,  1.12s/it]\n"
     ]
    },
    {
     "name": "stdout",
     "output_type": "stream",
     "text": [
      "Visiting https://www.domain.com.au/rent/?ptype=apartment&bedrooms=1&postcode=3078&sort=dateupdated-desc&page=1\n"
     ]
    },
    {
     "name": "stderr",
     "output_type": "stream",
     "text": [
      "Processing Part 6, Postcode 3078: 100%|███████████████████████████████████████████████████| 8/8 [00:09<00:00,  1.23s/it]\n"
     ]
    },
    {
     "name": "stdout",
     "output_type": "stream",
     "text": [
      "Visiting https://www.domain.com.au/rent/?ptype=apartment&bedrooms=2&postcode=3078&sort=dateupdated-desc&page=1\n"
     ]
    },
    {
     "name": "stderr",
     "output_type": "stream",
     "text": [
      "Processing Part 6, Postcode 3078: 100%|███████████████████████████████████████████████████| 7/7 [00:10<00:00,  1.47s/it]\n"
     ]
    },
    {
     "name": "stdout",
     "output_type": "stream",
     "text": [
      "Visiting https://www.domain.com.au/rent/?ptype=apartment&bedrooms=3&postcode=3078&sort=dateupdated-desc&page=1\n"
     ]
    },
    {
     "name": "stderr",
     "output_type": "stream",
     "text": [
      "Processing Part 6, Postcode 3078: 100%|███████████████████████████████████████████████████| 4/4 [00:05<00:00,  1.43s/it]\n"
     ]
    },
    {
     "name": "stdout",
     "output_type": "stream",
     "text": [
      "Visiting https://www.domain.com.au/rent/?ptype=house&bedrooms=2&postcode=3078&sort=dateupdated-desc&page=1\n"
     ]
    },
    {
     "name": "stderr",
     "output_type": "stream",
     "text": [
      "Processing Part 6, Postcode 3078: 100%|███████████████████████████████████████████████████| 1/1 [00:01<00:00,  1.11s/it]\n"
     ]
    },
    {
     "name": "stdout",
     "output_type": "stream",
     "text": [
      "Visiting https://www.domain.com.au/rent/?ptype=house&bedrooms=3&postcode=3078&sort=dateupdated-desc&page=1\n"
     ]
    },
    {
     "name": "stderr",
     "output_type": "stream",
     "text": [
      "Processing Part 6, Postcode 3078: 100%|███████████████████████████████████████████████████| 5/5 [00:07<00:00,  1.49s/it]\n"
     ]
    },
    {
     "name": "stdout",
     "output_type": "stream",
     "text": [
      "Visiting https://www.domain.com.au/rent/?ptype=house&bedrooms=4&postcode=3078&sort=dateupdated-desc&page=1\n"
     ]
    },
    {
     "name": "stderr",
     "output_type": "stream",
     "text": [
      "Processing Part 6, Postcode 3078: 100%|███████████████████████████████████████████████████| 4/4 [00:04<00:00,  1.10s/it]\n"
     ]
    },
    {
     "name": "stdout",
     "output_type": "stream",
     "text": [
      "Visiting https://www.domain.com.au/rent/?ptype=apartment&bedrooms=1&postcode=3081&sort=dateupdated-desc&page=1\n"
     ]
    },
    {
     "name": "stderr",
     "output_type": "stream",
     "text": [
      "Processing Part 6, Postcode 3081: 100%|███████████████████████████████████████████████████| 1/1 [00:01<00:00,  1.20s/it]\n"
     ]
    },
    {
     "name": "stdout",
     "output_type": "stream",
     "text": [
      "Visiting https://www.domain.com.au/rent/?ptype=apartment&bedrooms=2&postcode=3081&sort=dateupdated-desc&page=1\n"
     ]
    },
    {
     "name": "stderr",
     "output_type": "stream",
     "text": [
      "Processing Part 6, Postcode 3081: 100%|███████████████████████████████████████████████████| 1/1 [00:01<00:00,  1.11s/it]\n"
     ]
    },
    {
     "name": "stdout",
     "output_type": "stream",
     "text": [
      "Visiting https://www.domain.com.au/rent/?ptype=apartment&bedrooms=3&postcode=3081&sort=dateupdated-desc&page=1\n",
      "No results found on page https://www.domain.com.au/rent/?ptype=apartment&bedrooms=3&postcode=3081&sort=dateupdated-desc&page=1\n"
     ]
    },
    {
     "name": "stderr",
     "output_type": "stream",
     "text": [
      "Processing Part 6, Postcode 3081: 0it [00:00, ?it/s]"
     ]
    },
    {
     "name": "stdout",
     "output_type": "stream",
     "text": [
      "Visiting https://www.domain.com.au/rent/?ptype=house&bedrooms=2&postcode=3081&sort=dateupdated-desc&page=1\n"
     ]
    },
    {
     "name": "stderr",
     "output_type": "stream",
     "text": [
      "\n",
      "Processing Part 6, Postcode 3081: 100%|███████████████████████████████████████████████████| 2/2 [00:02<00:00,  1.08s/it]\n"
     ]
    },
    {
     "name": "stdout",
     "output_type": "stream",
     "text": [
      "Visiting https://www.domain.com.au/rent/?ptype=house&bedrooms=3&postcode=3081&sort=dateupdated-desc&page=1\n"
     ]
    },
    {
     "name": "stderr",
     "output_type": "stream",
     "text": [
      "Processing Part 6, Postcode 3081: 100%|███████████████████████████████████████████████████| 7/7 [00:10<00:00,  1.52s/it]\n"
     ]
    },
    {
     "name": "stdout",
     "output_type": "stream",
     "text": [
      "Visiting https://www.domain.com.au/rent/?ptype=house&bedrooms=4&postcode=3081&sort=dateupdated-desc&page=1\n"
     ]
    },
    {
     "name": "stderr",
     "output_type": "stream",
     "text": [
      "Processing Part 6, Postcode 3081: 100%|███████████████████████████████████████████████████| 1/1 [00:01<00:00,  1.11s/it]\n"
     ]
    },
    {
     "name": "stdout",
     "output_type": "stream",
     "text": [
      "Visiting https://www.domain.com.au/rent/?ptype=apartment&bedrooms=1&postcode=3084&sort=dateupdated-desc&page=1\n"
     ]
    },
    {
     "name": "stderr",
     "output_type": "stream",
     "text": [
      "Processing Part 6, Postcode 3084: 100%|███████████████████████████████████████████████████| 5/5 [00:06<00:00,  1.35s/it]\n"
     ]
    },
    {
     "name": "stdout",
     "output_type": "stream",
     "text": [
      "Visiting https://www.domain.com.au/rent/?ptype=apartment&bedrooms=2&postcode=3084&sort=dateupdated-desc&page=1\n"
     ]
    },
    {
     "name": "stderr",
     "output_type": "stream",
     "text": [
      "Processing Part 6, Postcode 3084: 100%|█████████████████████████████████████████████████| 13/13 [00:17<00:00,  1.38s/it]\n"
     ]
    },
    {
     "name": "stdout",
     "output_type": "stream",
     "text": [
      "Visiting https://www.domain.com.au/rent/?ptype=apartment&bedrooms=3&postcode=3084&sort=dateupdated-desc&page=1\n",
      "No results found on page https://www.domain.com.au/rent/?ptype=apartment&bedrooms=3&postcode=3084&sort=dateupdated-desc&page=1\n"
     ]
    },
    {
     "name": "stderr",
     "output_type": "stream",
     "text": [
      "Processing Part 6, Postcode 3084: 0it [00:00, ?it/s]"
     ]
    },
    {
     "name": "stdout",
     "output_type": "stream",
     "text": [
      "Visiting https://www.domain.com.au/rent/?ptype=house&bedrooms=2&postcode=3084&sort=dateupdated-desc&page=1\n"
     ]
    },
    {
     "name": "stderr",
     "output_type": "stream",
     "text": [
      "\n",
      "Processing Part 6, Postcode 3084: 100%|███████████████████████████████████████████████████| 2/2 [00:02<00:00,  1.34s/it]\n"
     ]
    },
    {
     "name": "stdout",
     "output_type": "stream",
     "text": [
      "Visiting https://www.domain.com.au/rent/?ptype=house&bedrooms=3&postcode=3084&sort=dateupdated-desc&page=1\n"
     ]
    },
    {
     "name": "stderr",
     "output_type": "stream",
     "text": [
      "Processing Part 6, Postcode 3084: 100%|███████████████████████████████████████████████████| 9/9 [00:11<00:00,  1.24s/it]\n"
     ]
    },
    {
     "name": "stdout",
     "output_type": "stream",
     "text": [
      "Visiting https://www.domain.com.au/rent/?ptype=house&bedrooms=4&postcode=3084&sort=dateupdated-desc&page=1\n"
     ]
    },
    {
     "name": "stderr",
     "output_type": "stream",
     "text": [
      "Processing Part 6, Postcode 3084: 100%|███████████████████████████████████████████████████| 4/4 [00:05<00:00,  1.31s/it]\n"
     ]
    },
    {
     "name": "stdout",
     "output_type": "stream",
     "text": [
      "Visiting https://www.domain.com.au/rent/?ptype=apartment&bedrooms=1&postcode=3079&sort=dateupdated-desc&page=1\n"
     ]
    },
    {
     "name": "stderr",
     "output_type": "stream",
     "text": [
      "Processing Part 6, Postcode 3079: 100%|███████████████████████████████████████████████████| 5/5 [00:06<00:00,  1.33s/it]\n"
     ]
    },
    {
     "name": "stdout",
     "output_type": "stream",
     "text": [
      "Visiting https://www.domain.com.au/rent/?ptype=apartment&bedrooms=2&postcode=3079&sort=dateupdated-desc&page=1\n"
     ]
    },
    {
     "name": "stderr",
     "output_type": "stream",
     "text": [
      "Processing Part 6, Postcode 3079: 100%|█████████████████████████████████████████████████| 20/20 [00:26<00:00,  1.33s/it]\n"
     ]
    },
    {
     "name": "stdout",
     "output_type": "stream",
     "text": [
      "Visiting https://www.domain.com.au/rent/?ptype=apartment&bedrooms=3&postcode=3079&sort=dateupdated-desc&page=1\n"
     ]
    },
    {
     "name": "stderr",
     "output_type": "stream",
     "text": [
      "Processing Part 6, Postcode 3079: 100%|███████████████████████████████████████████████████| 1/1 [00:01<00:00,  1.06s/it]\n"
     ]
    },
    {
     "name": "stdout",
     "output_type": "stream",
     "text": [
      "Visiting https://www.domain.com.au/rent/?ptype=house&bedrooms=2&postcode=3079&sort=dateupdated-desc&page=1\n",
      "No results found on page https://www.domain.com.au/rent/?ptype=house&bedrooms=2&postcode=3079&sort=dateupdated-desc&page=1\n"
     ]
    },
    {
     "name": "stderr",
     "output_type": "stream",
     "text": [
      "Processing Part 6, Postcode 3079: 0it [00:00, ?it/s]"
     ]
    },
    {
     "name": "stdout",
     "output_type": "stream",
     "text": [
      "Visiting https://www.domain.com.au/rent/?ptype=house&bedrooms=3&postcode=3079&sort=dateupdated-desc&page=1\n"
     ]
    },
    {
     "name": "stderr",
     "output_type": "stream",
     "text": [
      "\n",
      "Processing Part 6, Postcode 3079: 100%|███████████████████████████████████████████████████| 5/5 [00:06<00:00,  1.30s/it]\n"
     ]
    },
    {
     "name": "stdout",
     "output_type": "stream",
     "text": [
      "Visiting https://www.domain.com.au/rent/?ptype=house&bedrooms=4&postcode=3079&sort=dateupdated-desc&page=1\n"
     ]
    },
    {
     "name": "stderr",
     "output_type": "stream",
     "text": [
      "Processing Part 6, Postcode 3079: 100%|███████████████████████████████████████████████████| 1/1 [00:01<00:00,  1.12s/it]\n"
     ]
    },
    {
     "name": "stdout",
     "output_type": "stream",
     "text": [
      "Visiting https://www.domain.com.au/rent/?ptype=apartment&bedrooms=1&postcode=3082&sort=dateupdated-desc&page=1\n",
      "No results found on page https://www.domain.com.au/rent/?ptype=apartment&bedrooms=1&postcode=3082&sort=dateupdated-desc&page=1\n"
     ]
    },
    {
     "name": "stderr",
     "output_type": "stream",
     "text": [
      "Processing Part 6, Postcode 3082: 0it [00:00, ?it/s]"
     ]
    },
    {
     "name": "stdout",
     "output_type": "stream",
     "text": [
      "Visiting https://www.domain.com.au/rent/?ptype=apartment&bedrooms=2&postcode=3082&sort=dateupdated-desc&page=1\n"
     ]
    },
    {
     "name": "stderr",
     "output_type": "stream",
     "text": [
      "\n",
      "Processing Part 6, Postcode 3082: 100%|███████████████████████████████████████████████████| 3/3 [00:03<00:00,  1.09s/it]\n"
     ]
    },
    {
     "name": "stdout",
     "output_type": "stream",
     "text": [
      "Visiting https://www.domain.com.au/rent/?ptype=apartment&bedrooms=3&postcode=3082&sort=dateupdated-desc&page=1\n",
      "No results found on page https://www.domain.com.au/rent/?ptype=apartment&bedrooms=3&postcode=3082&sort=dateupdated-desc&page=1\n"
     ]
    },
    {
     "name": "stderr",
     "output_type": "stream",
     "text": [
      "Processing Part 6, Postcode 3082: 0it [00:00, ?it/s]"
     ]
    },
    {
     "name": "stdout",
     "output_type": "stream",
     "text": [
      "Visiting https://www.domain.com.au/rent/?ptype=house&bedrooms=2&postcode=3082&sort=dateupdated-desc&page=1\n"
     ]
    },
    {
     "name": "stderr",
     "output_type": "stream",
     "text": [
      "\n",
      "Processing Part 6, Postcode 3082: 100%|███████████████████████████████████████████████████| 1/1 [00:01<00:00,  1.27s/it]\n"
     ]
    },
    {
     "name": "stdout",
     "output_type": "stream",
     "text": [
      "Visiting https://www.domain.com.au/rent/?ptype=house&bedrooms=3&postcode=3082&sort=dateupdated-desc&page=1\n"
     ]
    },
    {
     "name": "stderr",
     "output_type": "stream",
     "text": [
      "Processing Part 6, Postcode 3082: 100%|█████████████████████████████████████████████████| 12/12 [00:13<00:00,  1.14s/it]\n"
     ]
    },
    {
     "name": "stdout",
     "output_type": "stream",
     "text": [
      "Visiting https://www.domain.com.au/rent/?ptype=house&bedrooms=4&postcode=3082&sort=dateupdated-desc&page=1\n"
     ]
    },
    {
     "name": "stderr",
     "output_type": "stream",
     "text": [
      "Processing Part 6, Postcode 3082: 100%|███████████████████████████████████████████████████| 9/9 [00:10<00:00,  1.12s/it]\n"
     ]
    },
    {
     "name": "stdout",
     "output_type": "stream",
     "text": [
      "Visiting https://www.domain.com.au/rent/?ptype=apartment&bedrooms=1&postcode=3076&sort=dateupdated-desc&page=1\n"
     ]
    },
    {
     "name": "stderr",
     "output_type": "stream",
     "text": [
      "Processing Part 6, Postcode 3076: 100%|███████████████████████████████████████████████████| 2/2 [00:02<00:00,  1.10s/it]\n"
     ]
    },
    {
     "name": "stdout",
     "output_type": "stream",
     "text": [
      "Visiting https://www.domain.com.au/rent/?ptype=apartment&bedrooms=2&postcode=3076&sort=dateupdated-desc&page=1\n"
     ]
    },
    {
     "name": "stderr",
     "output_type": "stream",
     "text": [
      "Processing Part 6, Postcode 3076: 100%|███████████████████████████████████████████████████| 4/4 [00:06<00:00,  1.51s/it]\n"
     ]
    },
    {
     "name": "stdout",
     "output_type": "stream",
     "text": [
      "Visiting https://www.domain.com.au/rent/?ptype=apartment&bedrooms=3&postcode=3076&sort=dateupdated-desc&page=1\n",
      "No results found on page https://www.domain.com.au/rent/?ptype=apartment&bedrooms=3&postcode=3076&sort=dateupdated-desc&page=1\n"
     ]
    },
    {
     "name": "stderr",
     "output_type": "stream",
     "text": [
      "Processing Part 6, Postcode 3076: 0it [00:00, ?it/s]"
     ]
    },
    {
     "name": "stdout",
     "output_type": "stream",
     "text": [
      "Visiting https://www.domain.com.au/rent/?ptype=house&bedrooms=2&postcode=3076&sort=dateupdated-desc&page=1\n"
     ]
    },
    {
     "name": "stderr",
     "output_type": "stream",
     "text": [
      "\n"
     ]
    },
    {
     "name": "stdout",
     "output_type": "stream",
     "text": [
      "No results found on page https://www.domain.com.au/rent/?ptype=house&bedrooms=2&postcode=3076&sort=dateupdated-desc&page=1\n"
     ]
    },
    {
     "name": "stderr",
     "output_type": "stream",
     "text": [
      "Processing Part 6, Postcode 3076: 0it [00:00, ?it/s]"
     ]
    },
    {
     "name": "stdout",
     "output_type": "stream",
     "text": [
      "Visiting https://www.domain.com.au/rent/?ptype=house&bedrooms=3&postcode=3076&sort=dateupdated-desc&page=1\n"
     ]
    },
    {
     "name": "stderr",
     "output_type": "stream",
     "text": [
      "\n",
      "Processing Part 6, Postcode 3076: 100%|█████████████████████████████████████████████████| 18/18 [00:21<00:00,  1.19s/it]\n"
     ]
    },
    {
     "name": "stdout",
     "output_type": "stream",
     "text": [
      "Visiting https://www.domain.com.au/rent/?ptype=house&bedrooms=4&postcode=3076&sort=dateupdated-desc&page=1\n"
     ]
    },
    {
     "name": "stderr",
     "output_type": "stream",
     "text": [
      "Processing Part 6, Postcode 3076: 100%|█████████████████████████████████████████████████| 16/16 [00:22<00:00,  1.40s/it]\n"
     ]
    },
    {
     "name": "stdout",
     "output_type": "stream",
     "text": [
      "Visiting https://www.domain.com.au/rent/?ptype=apartment&bedrooms=1&postcode=3070&sort=dateupdated-desc&page=1\n"
     ]
    },
    {
     "name": "stderr",
     "output_type": "stream",
     "text": [
      "Processing Part 6, Postcode 3070: 100%|█████████████████████████████████████████████████| 11/11 [00:13<00:00,  1.27s/it]\n"
     ]
    },
    {
     "name": "stdout",
     "output_type": "stream",
     "text": [
      "Visiting https://www.domain.com.au/rent/?ptype=apartment&bedrooms=2&postcode=3070&sort=dateupdated-desc&page=1\n"
     ]
    },
    {
     "name": "stderr",
     "output_type": "stream",
     "text": [
      "Processing Part 6, Postcode 3070: 100%|███████████████████████████████████████████████████| 8/8 [00:08<00:00,  1.10s/it]\n"
     ]
    },
    {
     "name": "stdout",
     "output_type": "stream",
     "text": [
      "Visiting https://www.domain.com.au/rent/?ptype=apartment&bedrooms=3&postcode=3070&sort=dateupdated-desc&page=1\n"
     ]
    },
    {
     "name": "stderr",
     "output_type": "stream",
     "text": [
      "Processing Part 6, Postcode 3070: 100%|███████████████████████████████████████████████████| 1/1 [00:01<00:00,  1.24s/it]\n"
     ]
    },
    {
     "name": "stdout",
     "output_type": "stream",
     "text": [
      "Visiting https://www.domain.com.au/rent/?ptype=house&bedrooms=2&postcode=3070&sort=dateupdated-desc&page=1\n"
     ]
    },
    {
     "name": "stderr",
     "output_type": "stream",
     "text": [
      "Processing Part 6, Postcode 3070: 100%|███████████████████████████████████████████████████| 9/9 [00:09<00:00,  1.11s/it]\n"
     ]
    },
    {
     "name": "stdout",
     "output_type": "stream",
     "text": [
      "Visiting https://www.domain.com.au/rent/?ptype=house&bedrooms=3&postcode=3070&sort=dateupdated-desc&page=1\n"
     ]
    },
    {
     "name": "stderr",
     "output_type": "stream",
     "text": [
      "Processing Part 6, Postcode 3070: 100%|█████████████████████████████████████████████████| 12/12 [00:14<00:00,  1.22s/it]\n"
     ]
    },
    {
     "name": "stdout",
     "output_type": "stream",
     "text": [
      "Visiting https://www.domain.com.au/rent/?ptype=house&bedrooms=4&postcode=3070&sort=dateupdated-desc&page=1\n"
     ]
    },
    {
     "name": "stderr",
     "output_type": "stream",
     "text": [
      "Processing Part 6, Postcode 3070: 100%|███████████████████████████████████████████████████| 3/3 [00:03<00:00,  1.15s/it]\n"
     ]
    },
    {
     "name": "stdout",
     "output_type": "stream",
     "text": [
      "Visiting https://www.domain.com.au/rent/?ptype=apartment&bedrooms=1&postcode=3072&sort=dateupdated-desc&page=1\n"
     ]
    },
    {
     "name": "stderr",
     "output_type": "stream",
     "text": [
      "Processing Part 6, Postcode 3072: 100%|█████████████████████████████████████████████████| 12/12 [00:15<00:00,  1.28s/it]\n"
     ]
    },
    {
     "name": "stdout",
     "output_type": "stream",
     "text": [
      "Visiting https://www.domain.com.au/rent/?ptype=apartment&bedrooms=2&postcode=3072&sort=dateupdated-desc&page=1\n"
     ]
    },
    {
     "name": "stderr",
     "output_type": "stream",
     "text": [
      "Processing Part 6, Postcode 3072: 100%|█████████████████████████████████████████████████| 19/19 [00:23<00:00,  1.24s/it]\n"
     ]
    },
    {
     "name": "stdout",
     "output_type": "stream",
     "text": [
      "Visiting https://www.domain.com.au/rent/?ptype=apartment&bedrooms=3&postcode=3072&sort=dateupdated-desc&page=1\n"
     ]
    },
    {
     "name": "stderr",
     "output_type": "stream",
     "text": [
      "Processing Part 6, Postcode 3072: 100%|███████████████████████████████████████████████████| 3/3 [00:06<00:00,  2.06s/it]\n"
     ]
    },
    {
     "name": "stdout",
     "output_type": "stream",
     "text": [
      "Visiting https://www.domain.com.au/rent/?ptype=house&bedrooms=2&postcode=3072&sort=dateupdated-desc&page=1\n"
     ]
    },
    {
     "name": "stderr",
     "output_type": "stream",
     "text": [
      "Processing Part 6, Postcode 3072: 100%|███████████████████████████████████████████████████| 6/6 [00:07<00:00,  1.17s/it]\n"
     ]
    },
    {
     "name": "stdout",
     "output_type": "stream",
     "text": [
      "Visiting https://www.domain.com.au/rent/?ptype=house&bedrooms=3&postcode=3072&sort=dateupdated-desc&page=1\n"
     ]
    },
    {
     "name": "stderr",
     "output_type": "stream",
     "text": [
      "Processing Part 6, Postcode 3072: 100%|█████████████████████████████████████████████████| 19/19 [00:22<00:00,  1.16s/it]\n"
     ]
    },
    {
     "name": "stdout",
     "output_type": "stream",
     "text": [
      "Visiting https://www.domain.com.au/rent/?ptype=house&bedrooms=4&postcode=3072&sort=dateupdated-desc&page=1\n"
     ]
    },
    {
     "name": "stderr",
     "output_type": "stream",
     "text": [
      "Processing Part 6, Postcode 3072: 100%|███████████████████████████████████████████████████| 4/4 [00:04<00:00,  1.09s/it]\n"
     ]
    },
    {
     "name": "stdout",
     "output_type": "stream",
     "text": [
      "Visiting https://www.domain.com.au/rent/?ptype=apartment&bedrooms=1&postcode=3073&sort=dateupdated-desc&page=1\n"
     ]
    },
    {
     "name": "stderr",
     "output_type": "stream",
     "text": [
      "Processing Part 6, Postcode 3073: 100%|███████████████████████████████████████████████████| 6/6 [00:07<00:00,  1.24s/it]\n"
     ]
    },
    {
     "name": "stdout",
     "output_type": "stream",
     "text": [
      "Visiting https://www.domain.com.au/rent/?ptype=apartment&bedrooms=2&postcode=3073&sort=dateupdated-desc&page=1\n"
     ]
    },
    {
     "name": "stderr",
     "output_type": "stream",
     "text": [
      "Processing Part 6, Postcode 3073: 100%|█████████████████████████████████████████████████| 19/19 [00:22<00:00,  1.21s/it]\n"
     ]
    },
    {
     "name": "stdout",
     "output_type": "stream",
     "text": [
      "Visiting https://www.domain.com.au/rent/?ptype=apartment&bedrooms=3&postcode=3073&sort=dateupdated-desc&page=1\n"
     ]
    },
    {
     "name": "stderr",
     "output_type": "stream",
     "text": [
      "Processing Part 6, Postcode 3073: 100%|███████████████████████████████████████████████████| 3/3 [00:04<00:00,  1.37s/it]\n"
     ]
    },
    {
     "name": "stdout",
     "output_type": "stream",
     "text": [
      "Visiting https://www.domain.com.au/rent/?ptype=house&bedrooms=2&postcode=3073&sort=dateupdated-desc&page=1\n"
     ]
    },
    {
     "name": "stderr",
     "output_type": "stream",
     "text": [
      "Processing Part 6, Postcode 3073: 100%|█████████████████████████████████████████████████| 12/12 [00:12<00:00,  1.06s/it]\n"
     ]
    },
    {
     "name": "stdout",
     "output_type": "stream",
     "text": [
      "Visiting https://www.domain.com.au/rent/?ptype=house&bedrooms=3&postcode=3073&sort=dateupdated-desc&page=1\n"
     ]
    },
    {
     "name": "stderr",
     "output_type": "stream",
     "text": [
      "Processing Part 6, Postcode 3073: 100%|█████████████████████████████████████████████████| 19/19 [00:22<00:00,  1.16s/it]\n"
     ]
    },
    {
     "name": "stdout",
     "output_type": "stream",
     "text": [
      "Visiting https://www.domain.com.au/rent/?ptype=house&bedrooms=4&postcode=3073&sort=dateupdated-desc&page=1\n"
     ]
    },
    {
     "name": "stderr",
     "output_type": "stream",
     "text": [
      "Processing Part 6, Postcode 3073: 100%|███████████████████████████████████████████████████| 5/5 [00:07<00:00,  1.48s/it]\n"
     ]
    },
    {
     "name": "stdout",
     "output_type": "stream",
     "text": [
      "Visiting https://www.domain.com.au/rent/?ptype=apartment&bedrooms=1&postcode=3074&sort=dateupdated-desc&page=1\n"
     ]
    },
    {
     "name": "stderr",
     "output_type": "stream",
     "text": [
      "Processing Part 6, Postcode 3074: 100%|███████████████████████████████████████████████████| 1/1 [00:01<00:00,  1.21s/it]\n"
     ]
    },
    {
     "name": "stdout",
     "output_type": "stream",
     "text": [
      "Visiting https://www.domain.com.au/rent/?ptype=apartment&bedrooms=2&postcode=3074&sort=dateupdated-desc&page=1\n"
     ]
    },
    {
     "name": "stderr",
     "output_type": "stream",
     "text": [
      "Processing Part 6, Postcode 3074: 100%|███████████████████████████████████████████████████| 3/3 [00:03<00:00,  1.03s/it]\n"
     ]
    },
    {
     "name": "stdout",
     "output_type": "stream",
     "text": [
      "Visiting https://www.domain.com.au/rent/?ptype=apartment&bedrooms=3&postcode=3074&sort=dateupdated-desc&page=1\n",
      "No results found on page https://www.domain.com.au/rent/?ptype=apartment&bedrooms=3&postcode=3074&sort=dateupdated-desc&page=1\n"
     ]
    },
    {
     "name": "stderr",
     "output_type": "stream",
     "text": [
      "Processing Part 6, Postcode 3074: 0it [00:00, ?it/s]"
     ]
    },
    {
     "name": "stdout",
     "output_type": "stream",
     "text": [
      "Visiting https://www.domain.com.au/rent/?ptype=house&bedrooms=2&postcode=3074&sort=dateupdated-desc&page=1\n"
     ]
    },
    {
     "name": "stderr",
     "output_type": "stream",
     "text": [
      "\n"
     ]
    },
    {
     "name": "stdout",
     "output_type": "stream",
     "text": [
      "No results found on page https://www.domain.com.au/rent/?ptype=house&bedrooms=2&postcode=3074&sort=dateupdated-desc&page=1\n"
     ]
    },
    {
     "name": "stderr",
     "output_type": "stream",
     "text": [
      "Processing Part 6, Postcode 3074: 0it [00:00, ?it/s]"
     ]
    },
    {
     "name": "stdout",
     "output_type": "stream",
     "text": [
      "Visiting https://www.domain.com.au/rent/?ptype=house&bedrooms=3&postcode=3074&sort=dateupdated-desc&page=1\n"
     ]
    },
    {
     "name": "stderr",
     "output_type": "stream",
     "text": [
      "\n",
      "Processing Part 6, Postcode 3074: 100%|█████████████████████████████████████████████████| 14/14 [00:16<00:00,  1.16s/it]\n"
     ]
    },
    {
     "name": "stdout",
     "output_type": "stream",
     "text": [
      "Visiting https://www.domain.com.au/rent/?ptype=house&bedrooms=4&postcode=3074&sort=dateupdated-desc&page=1\n"
     ]
    },
    {
     "name": "stderr",
     "output_type": "stream",
     "text": [
      "Processing Part 6, Postcode 3074: 100%|███████████████████████████████████████████████████| 4/4 [00:04<00:00,  1.20s/it]\n"
     ]
    },
    {
     "name": "stdout",
     "output_type": "stream",
     "text": [
      "Visiting https://www.domain.com.au/rent/?ptype=apartment&bedrooms=1&postcode=3075&sort=dateupdated-desc&page=1\n",
      "No results found on page https://www.domain.com.au/rent/?ptype=apartment&bedrooms=1&postcode=3075&sort=dateupdated-desc&page=1\n"
     ]
    },
    {
     "name": "stderr",
     "output_type": "stream",
     "text": [
      "Processing Part 6, Postcode 3075: 0it [00:00, ?it/s]"
     ]
    },
    {
     "name": "stdout",
     "output_type": "stream",
     "text": [
      "Visiting https://www.domain.com.au/rent/?ptype=apartment&bedrooms=2&postcode=3075&sort=dateupdated-desc&page=1\n"
     ]
    },
    {
     "name": "stderr",
     "output_type": "stream",
     "text": [
      "\n",
      "Processing Part 6, Postcode 3075: 100%|███████████████████████████████████████████████████| 3/3 [00:03<00:00,  1.05s/it]\n"
     ]
    },
    {
     "name": "stdout",
     "output_type": "stream",
     "text": [
      "Visiting https://www.domain.com.au/rent/?ptype=apartment&bedrooms=3&postcode=3075&sort=dateupdated-desc&page=1\n",
      "No results found on page https://www.domain.com.au/rent/?ptype=apartment&bedrooms=3&postcode=3075&sort=dateupdated-desc&page=1\n"
     ]
    },
    {
     "name": "stderr",
     "output_type": "stream",
     "text": [
      "Processing Part 6, Postcode 3075: 0it [00:00, ?it/s]"
     ]
    },
    {
     "name": "stdout",
     "output_type": "stream",
     "text": [
      "Visiting https://www.domain.com.au/rent/?ptype=house&bedrooms=2&postcode=3075&sort=dateupdated-desc&page=1\n"
     ]
    },
    {
     "name": "stderr",
     "output_type": "stream",
     "text": [
      "\n",
      "Processing Part 6, Postcode 3075: 100%|███████████████████████████████████████████████████| 2/2 [00:02<00:00,  1.05s/it]\n"
     ]
    },
    {
     "name": "stdout",
     "output_type": "stream",
     "text": [
      "Visiting https://www.domain.com.au/rent/?ptype=house&bedrooms=3&postcode=3075&sort=dateupdated-desc&page=1\n"
     ]
    },
    {
     "name": "stderr",
     "output_type": "stream",
     "text": [
      "Processing Part 6, Postcode 3075: 100%|█████████████████████████████████████████████████| 17/17 [00:20<00:00,  1.20s/it]\n"
     ]
    },
    {
     "name": "stdout",
     "output_type": "stream",
     "text": [
      "Visiting https://www.domain.com.au/rent/?ptype=house&bedrooms=4&postcode=3075&sort=dateupdated-desc&page=1\n"
     ]
    },
    {
     "name": "stderr",
     "output_type": "stream",
     "text": [
      "Processing Part 6, Postcode 3075: 100%|███████████████████████████████████████████████████| 3/3 [00:03<00:00,  1.13s/it]\n"
     ]
    },
    {
     "name": "stdout",
     "output_type": "stream",
     "text": [
      "Completed processing Part 6/10. Data saved to ../../data/raw/domain/temp_parts/property_part_6.csv\n",
      "Visiting https://www.domain.com.au/rent/?ptype=apartment&bedrooms=1&postcode=3071&sort=dateupdated-desc&page=1\n"
     ]
    },
    {
     "name": "stderr",
     "output_type": "stream",
     "text": [
      "Processing Part 7, Postcode 3071: 100%|█████████████████████████████████████████████████| 10/10 [00:13<00:00,  1.34s/it]\n"
     ]
    },
    {
     "name": "stdout",
     "output_type": "stream",
     "text": [
      "Visiting https://www.domain.com.au/rent/?ptype=apartment&bedrooms=2&postcode=3071&sort=dateupdated-desc&page=1\n"
     ]
    },
    {
     "name": "stderr",
     "output_type": "stream",
     "text": [
      "Processing Part 7, Postcode 3071: 100%|███████████████████████████████████████████████████| 8/8 [00:09<00:00,  1.14s/it]\n"
     ]
    },
    {
     "name": "stdout",
     "output_type": "stream",
     "text": [
      "Visiting https://www.domain.com.au/rent/?ptype=apartment&bedrooms=3&postcode=3071&sort=dateupdated-desc&page=1\n"
     ]
    },
    {
     "name": "stderr",
     "output_type": "stream",
     "text": [
      "Processing Part 7, Postcode 3071: 100%|███████████████████████████████████████████████████| 3/3 [00:03<00:00,  1.23s/it]\n"
     ]
    },
    {
     "name": "stdout",
     "output_type": "stream",
     "text": [
      "Visiting https://www.domain.com.au/rent/?ptype=house&bedrooms=2&postcode=3071&sort=dateupdated-desc&page=1\n"
     ]
    },
    {
     "name": "stderr",
     "output_type": "stream",
     "text": [
      "Processing Part 7, Postcode 3071: 100%|███████████████████████████████████████████████████| 3/3 [00:03<00:00,  1.15s/it]\n"
     ]
    },
    {
     "name": "stdout",
     "output_type": "stream",
     "text": [
      "Visiting https://www.domain.com.au/rent/?ptype=house&bedrooms=3&postcode=3071&sort=dateupdated-desc&page=1\n"
     ]
    },
    {
     "name": "stderr",
     "output_type": "stream",
     "text": [
      "Processing Part 7, Postcode 3071: 100%|███████████████████████████████████████████████████| 5/5 [00:05<00:00,  1.14s/it]\n"
     ]
    },
    {
     "name": "stdout",
     "output_type": "stream",
     "text": [
      "Visiting https://www.domain.com.au/rent/?ptype=house&bedrooms=4&postcode=3071&sort=dateupdated-desc&page=1\n"
     ]
    },
    {
     "name": "stderr",
     "output_type": "stream",
     "text": [
      "Processing Part 7, Postcode 3071: 100%|███████████████████████████████████████████████████| 4/4 [00:04<00:00,  1.09s/it]\n"
     ]
    },
    {
     "name": "stdout",
     "output_type": "stream",
     "text": [
      "Visiting https://www.domain.com.au/rent/?ptype=apartment&bedrooms=1&postcode=3757&sort=dateupdated-desc&page=1\n",
      "No results found on page https://www.domain.com.au/rent/?ptype=apartment&bedrooms=1&postcode=3757&sort=dateupdated-desc&page=1\n"
     ]
    },
    {
     "name": "stderr",
     "output_type": "stream",
     "text": [
      "Processing Part 7, Postcode 3757: 0it [00:00, ?it/s]"
     ]
    },
    {
     "name": "stdout",
     "output_type": "stream",
     "text": [
      "Visiting https://www.domain.com.au/rent/?ptype=apartment&bedrooms=2&postcode=3757&sort=dateupdated-desc&page=1\n"
     ]
    },
    {
     "name": "stderr",
     "output_type": "stream",
     "text": [
      "\n"
     ]
    },
    {
     "name": "stdout",
     "output_type": "stream",
     "text": [
      "No results found on page https://www.domain.com.au/rent/?ptype=apartment&bedrooms=2&postcode=3757&sort=dateupdated-desc&page=1\n"
     ]
    },
    {
     "name": "stderr",
     "output_type": "stream",
     "text": [
      "Processing Part 7, Postcode 3757: 0it [00:00, ?it/s]"
     ]
    },
    {
     "name": "stdout",
     "output_type": "stream",
     "text": [
      "Visiting https://www.domain.com.au/rent/?ptype=apartment&bedrooms=3&postcode=3757&sort=dateupdated-desc&page=1\n"
     ]
    },
    {
     "name": "stderr",
     "output_type": "stream",
     "text": [
      "\n"
     ]
    },
    {
     "name": "stdout",
     "output_type": "stream",
     "text": [
      "No results found on page https://www.domain.com.au/rent/?ptype=apartment&bedrooms=3&postcode=3757&sort=dateupdated-desc&page=1\n"
     ]
    },
    {
     "name": "stderr",
     "output_type": "stream",
     "text": [
      "Processing Part 7, Postcode 3757: 0it [00:00, ?it/s]"
     ]
    },
    {
     "name": "stdout",
     "output_type": "stream",
     "text": [
      "Visiting https://www.domain.com.au/rent/?ptype=house&bedrooms=2&postcode=3757&sort=dateupdated-desc&page=1\n"
     ]
    },
    {
     "name": "stderr",
     "output_type": "stream",
     "text": [
      "\n",
      "Processing Part 7, Postcode 3757: 100%|███████████████████████████████████████████████████| 1/1 [00:01<00:00,  1.09s/it]\n"
     ]
    },
    {
     "name": "stdout",
     "output_type": "stream",
     "text": [
      "Visiting https://www.domain.com.au/rent/?ptype=house&bedrooms=3&postcode=3757&sort=dateupdated-desc&page=1\n"
     ]
    },
    {
     "name": "stderr",
     "output_type": "stream",
     "text": [
      "Processing Part 7, Postcode 3757: 100%|███████████████████████████████████████████████████| 3/3 [00:03<00:00,  1.20s/it]\n"
     ]
    },
    {
     "name": "stdout",
     "output_type": "stream",
     "text": [
      "Visiting https://www.domain.com.au/rent/?ptype=house&bedrooms=4&postcode=3757&sort=dateupdated-desc&page=1\n"
     ]
    },
    {
     "name": "stderr",
     "output_type": "stream",
     "text": [
      "Processing Part 7, Postcode 3757: 100%|███████████████████████████████████████████████████| 1/1 [00:01<00:00,  1.07s/it]\n"
     ]
    },
    {
     "name": "stdout",
     "output_type": "stream",
     "text": [
      "Visiting https://www.domain.com.au/rent/?ptype=apartment&bedrooms=1&postcode=3153&sort=dateupdated-desc&page=1\n"
     ]
    },
    {
     "name": "stderr",
     "output_type": "stream",
     "text": [
      "Processing Part 7, Postcode 3153: 100%|███████████████████████████████████████████████████| 1/1 [00:01<00:00,  1.25s/it]\n"
     ]
    },
    {
     "name": "stdout",
     "output_type": "stream",
     "text": [
      "Visiting https://www.domain.com.au/rent/?ptype=apartment&bedrooms=2&postcode=3153&sort=dateupdated-desc&page=1\n"
     ]
    },
    {
     "name": "stderr",
     "output_type": "stream",
     "text": [
      "Processing Part 7, Postcode 3153: 100%|███████████████████████████████████████████████████| 3/3 [00:03<00:00,  1.27s/it]\n"
     ]
    },
    {
     "name": "stdout",
     "output_type": "stream",
     "text": [
      "Visiting https://www.domain.com.au/rent/?ptype=apartment&bedrooms=3&postcode=3153&sort=dateupdated-desc&page=1\n"
     ]
    },
    {
     "name": "stderr",
     "output_type": "stream",
     "text": [
      "Processing Part 7, Postcode 3153: 100%|███████████████████████████████████████████████████| 2/2 [00:02<00:00,  1.17s/it]\n"
     ]
    },
    {
     "name": "stdout",
     "output_type": "stream",
     "text": [
      "Visiting https://www.domain.com.au/rent/?ptype=house&bedrooms=2&postcode=3153&sort=dateupdated-desc&page=1\n",
      "No results found on page https://www.domain.com.au/rent/?ptype=house&bedrooms=2&postcode=3153&sort=dateupdated-desc&page=1\n"
     ]
    },
    {
     "name": "stderr",
     "output_type": "stream",
     "text": [
      "Processing Part 7, Postcode 3153: 0it [00:00, ?it/s]"
     ]
    },
    {
     "name": "stdout",
     "output_type": "stream",
     "text": [
      "Visiting https://www.domain.com.au/rent/?ptype=house&bedrooms=3&postcode=3153&sort=dateupdated-desc&page=1\n"
     ]
    },
    {
     "name": "stderr",
     "output_type": "stream",
     "text": [
      "\n",
      "Processing Part 7, Postcode 3153: 100%|███████████████████████████████████████████████████| 8/8 [00:11<00:00,  1.46s/it]\n"
     ]
    },
    {
     "name": "stdout",
     "output_type": "stream",
     "text": [
      "Visiting https://www.domain.com.au/rent/?ptype=house&bedrooms=4&postcode=3153&sort=dateupdated-desc&page=1\n"
     ]
    },
    {
     "name": "stderr",
     "output_type": "stream",
     "text": [
      "Processing Part 7, Postcode 3153: 100%|███████████████████████████████████████████████████| 2/2 [00:02<00:00,  1.08s/it]\n"
     ]
    },
    {
     "name": "stdout",
     "output_type": "stream",
     "text": [
      "Visiting https://www.domain.com.au/rent/?ptype=apartment&bedrooms=1&postcode=3155&sort=dateupdated-desc&page=1\n"
     ]
    },
    {
     "name": "stderr",
     "output_type": "stream",
     "text": [
      "Processing Part 7, Postcode 3155: 100%|███████████████████████████████████████████████████| 3/3 [00:03<00:00,  1.24s/it]\n"
     ]
    },
    {
     "name": "stdout",
     "output_type": "stream",
     "text": [
      "Visiting https://www.domain.com.au/rent/?ptype=apartment&bedrooms=2&postcode=3155&sort=dateupdated-desc&page=1\n"
     ]
    },
    {
     "name": "stderr",
     "output_type": "stream",
     "text": [
      "Processing Part 7, Postcode 3155: 100%|███████████████████████████████████████████████████| 5/5 [00:06<00:00,  1.36s/it]\n"
     ]
    },
    {
     "name": "stdout",
     "output_type": "stream",
     "text": [
      "Visiting https://www.domain.com.au/rent/?ptype=apartment&bedrooms=3&postcode=3155&sort=dateupdated-desc&page=1\n"
     ]
    },
    {
     "name": "stderr",
     "output_type": "stream",
     "text": [
      "Processing Part 7, Postcode 3155: 100%|███████████████████████████████████████████████████| 3/3 [00:03<00:00,  1.09s/it]\n"
     ]
    },
    {
     "name": "stdout",
     "output_type": "stream",
     "text": [
      "Visiting https://www.domain.com.au/rent/?ptype=house&bedrooms=2&postcode=3155&sort=dateupdated-desc&page=1\n",
      "No results found on page https://www.domain.com.au/rent/?ptype=house&bedrooms=2&postcode=3155&sort=dateupdated-desc&page=1\n"
     ]
    },
    {
     "name": "stderr",
     "output_type": "stream",
     "text": [
      "Processing Part 7, Postcode 3155: 0it [00:00, ?it/s]"
     ]
    },
    {
     "name": "stdout",
     "output_type": "stream",
     "text": [
      "Visiting https://www.domain.com.au/rent/?ptype=house&bedrooms=3&postcode=3155&sort=dateupdated-desc&page=1\n"
     ]
    },
    {
     "name": "stderr",
     "output_type": "stream",
     "text": [
      "\n",
      "Processing Part 7, Postcode 3155: 100%|███████████████████████████████████████████████████| 8/8 [00:10<00:00,  1.26s/it]\n"
     ]
    },
    {
     "name": "stdout",
     "output_type": "stream",
     "text": [
      "Visiting https://www.domain.com.au/rent/?ptype=house&bedrooms=4&postcode=3155&sort=dateupdated-desc&page=1\n"
     ]
    },
    {
     "name": "stderr",
     "output_type": "stream",
     "text": [
      "Processing Part 7, Postcode 3155: 100%|███████████████████████████████████████████████████| 1/1 [00:01<00:00,  1.03s/it]\n"
     ]
    },
    {
     "name": "stdout",
     "output_type": "stream",
     "text": [
      "Visiting https://www.domain.com.au/rent/?ptype=apartment&bedrooms=1&postcode=3136&sort=dateupdated-desc&page=1\n"
     ]
    },
    {
     "name": "stderr",
     "output_type": "stream",
     "text": [
      "Processing Part 7, Postcode 3136: 100%|███████████████████████████████████████████████████| 2/2 [00:02<00:00,  1.25s/it]\n"
     ]
    },
    {
     "name": "stdout",
     "output_type": "stream",
     "text": [
      "Visiting https://www.domain.com.au/rent/?ptype=apartment&bedrooms=2&postcode=3136&sort=dateupdated-desc&page=1\n"
     ]
    },
    {
     "name": "stderr",
     "output_type": "stream",
     "text": [
      "Processing Part 7, Postcode 3136: 100%|███████████████████████████████████████████████████| 9/9 [00:09<00:00,  1.11s/it]\n"
     ]
    },
    {
     "name": "stdout",
     "output_type": "stream",
     "text": [
      "Visiting https://www.domain.com.au/rent/?ptype=apartment&bedrooms=3&postcode=3136&sort=dateupdated-desc&page=1\n"
     ]
    },
    {
     "name": "stderr",
     "output_type": "stream",
     "text": [
      "Processing Part 7, Postcode 3136: 100%|███████████████████████████████████████████████████| 1/1 [00:01<00:00,  1.15s/it]\n"
     ]
    },
    {
     "name": "stdout",
     "output_type": "stream",
     "text": [
      "Visiting https://www.domain.com.au/rent/?ptype=house&bedrooms=2&postcode=3136&sort=dateupdated-desc&page=1\n"
     ]
    },
    {
     "name": "stderr",
     "output_type": "stream",
     "text": [
      "Processing Part 7, Postcode 3136: 100%|███████████████████████████████████████████████████| 2/2 [00:02<00:00,  1.15s/it]\n"
     ]
    },
    {
     "name": "stdout",
     "output_type": "stream",
     "text": [
      "Visiting https://www.domain.com.au/rent/?ptype=house&bedrooms=3&postcode=3136&sort=dateupdated-desc&page=1\n"
     ]
    },
    {
     "name": "stderr",
     "output_type": "stream",
     "text": [
      "Processing Part 7, Postcode 3136: 100%|███████████████████████████████████████████████████| 9/9 [00:09<00:00,  1.11s/it]\n"
     ]
    },
    {
     "name": "stdout",
     "output_type": "stream",
     "text": [
      "Visiting https://www.domain.com.au/rent/?ptype=house&bedrooms=4&postcode=3136&sort=dateupdated-desc&page=1\n"
     ]
    },
    {
     "name": "stderr",
     "output_type": "stream",
     "text": [
      "Processing Part 7, Postcode 3136: 100%|███████████████████████████████████████████████████| 6/6 [00:07<00:00,  1.33s/it]\n"
     ]
    },
    {
     "name": "stdout",
     "output_type": "stream",
     "text": [
      "Visiting https://www.domain.com.au/rent/?ptype=apartment&bedrooms=1&postcode=3140&sort=dateupdated-desc&page=1\n",
      "No results found on page https://www.domain.com.au/rent/?ptype=apartment&bedrooms=1&postcode=3140&sort=dateupdated-desc&page=1\n"
     ]
    },
    {
     "name": "stderr",
     "output_type": "stream",
     "text": [
      "Processing Part 7, Postcode 3140: 0it [00:00, ?it/s]"
     ]
    },
    {
     "name": "stdout",
     "output_type": "stream",
     "text": [
      "Visiting https://www.domain.com.au/rent/?ptype=apartment&bedrooms=2&postcode=3140&sort=dateupdated-desc&page=1\n"
     ]
    },
    {
     "name": "stderr",
     "output_type": "stream",
     "text": [
      "\n",
      "Processing Part 7, Postcode 3140: 100%|███████████████████████████████████████████████████| 1/1 [00:02<00:00,  2.34s/it]\n"
     ]
    },
    {
     "name": "stdout",
     "output_type": "stream",
     "text": [
      "Visiting https://www.domain.com.au/rent/?ptype=apartment&bedrooms=3&postcode=3140&sort=dateupdated-desc&page=1\n",
      "No results found on page https://www.domain.com.au/rent/?ptype=apartment&bedrooms=3&postcode=3140&sort=dateupdated-desc&page=1\n"
     ]
    },
    {
     "name": "stderr",
     "output_type": "stream",
     "text": [
      "Processing Part 7, Postcode 3140: 0it [00:00, ?it/s]"
     ]
    },
    {
     "name": "stdout",
     "output_type": "stream",
     "text": [
      "Visiting https://www.domain.com.au/rent/?ptype=house&bedrooms=2&postcode=3140&sort=dateupdated-desc&page=1\n"
     ]
    },
    {
     "name": "stderr",
     "output_type": "stream",
     "text": [
      "\n"
     ]
    },
    {
     "name": "stdout",
     "output_type": "stream",
     "text": [
      "No results found on page https://www.domain.com.au/rent/?ptype=house&bedrooms=2&postcode=3140&sort=dateupdated-desc&page=1\n"
     ]
    },
    {
     "name": "stderr",
     "output_type": "stream",
     "text": [
      "Processing Part 7, Postcode 3140: 0it [00:00, ?it/s]"
     ]
    },
    {
     "name": "stdout",
     "output_type": "stream",
     "text": [
      "Visiting https://www.domain.com.au/rent/?ptype=house&bedrooms=3&postcode=3140&sort=dateupdated-desc&page=1\n"
     ]
    },
    {
     "name": "stderr",
     "output_type": "stream",
     "text": [
      "\n",
      "Processing Part 7, Postcode 3140: 100%|███████████████████████████████████████████████████| 6/6 [00:06<00:00,  1.13s/it]\n"
     ]
    },
    {
     "name": "stdout",
     "output_type": "stream",
     "text": [
      "Visiting https://www.domain.com.au/rent/?ptype=house&bedrooms=4&postcode=3140&sort=dateupdated-desc&page=1\n"
     ]
    },
    {
     "name": "stderr",
     "output_type": "stream",
     "text": [
      "Processing Part 7, Postcode 3140: 100%|███████████████████████████████████████████████████| 1/1 [00:01<00:00,  1.24s/it]\n"
     ]
    },
    {
     "name": "stdout",
     "output_type": "stream",
     "text": [
      "Visiting https://www.domain.com.au/rent/?ptype=apartment&bedrooms=1&postcode=3156&sort=dateupdated-desc&page=1\n",
      "No results found on page https://www.domain.com.au/rent/?ptype=apartment&bedrooms=1&postcode=3156&sort=dateupdated-desc&page=1\n"
     ]
    },
    {
     "name": "stderr",
     "output_type": "stream",
     "text": [
      "Processing Part 7, Postcode 3156: 0it [00:00, ?it/s]"
     ]
    },
    {
     "name": "stdout",
     "output_type": "stream",
     "text": [
      "Visiting https://www.domain.com.au/rent/?ptype=apartment&bedrooms=2&postcode=3156&sort=dateupdated-desc&page=1\n"
     ]
    },
    {
     "name": "stderr",
     "output_type": "stream",
     "text": [
      "\n",
      "Processing Part 7, Postcode 3156: 100%|███████████████████████████████████████████████████| 6/6 [00:06<00:00,  1.16s/it]\n"
     ]
    },
    {
     "name": "stdout",
     "output_type": "stream",
     "text": [
      "Visiting https://www.domain.com.au/rent/?ptype=apartment&bedrooms=3&postcode=3156&sort=dateupdated-desc&page=1\n"
     ]
    },
    {
     "name": "stderr",
     "output_type": "stream",
     "text": [
      "Processing Part 7, Postcode 3156: 100%|███████████████████████████████████████████████████| 1/1 [00:01<00:00,  1.06s/it]\n"
     ]
    },
    {
     "name": "stdout",
     "output_type": "stream",
     "text": [
      "Visiting https://www.domain.com.au/rent/?ptype=house&bedrooms=2&postcode=3156&sort=dateupdated-desc&page=1\n"
     ]
    },
    {
     "name": "stderr",
     "output_type": "stream",
     "text": [
      "Processing Part 7, Postcode 3156: 100%|███████████████████████████████████████████████████| 2/2 [00:02<00:00,  1.06s/it]\n"
     ]
    },
    {
     "name": "stdout",
     "output_type": "stream",
     "text": [
      "Visiting https://www.domain.com.au/rent/?ptype=house&bedrooms=3&postcode=3156&sort=dateupdated-desc&page=1\n"
     ]
    },
    {
     "name": "stderr",
     "output_type": "stream",
     "text": [
      "Processing Part 7, Postcode 3156: 100%|█████████████████████████████████████████████████| 14/14 [00:15<00:00,  1.09s/it]\n"
     ]
    },
    {
     "name": "stdout",
     "output_type": "stream",
     "text": [
      "Visiting https://www.domain.com.au/rent/?ptype=house&bedrooms=4&postcode=3156&sort=dateupdated-desc&page=1\n"
     ]
    },
    {
     "name": "stderr",
     "output_type": "stream",
     "text": [
      "Processing Part 7, Postcode 3156: 100%|███████████████████████████████████████████████████| 5/5 [00:05<00:00,  1.18s/it]\n"
     ]
    },
    {
     "name": "stdout",
     "output_type": "stream",
     "text": [
      "Visiting https://www.domain.com.au/rent/?ptype=apartment&bedrooms=1&postcode=3134&sort=dateupdated-desc&page=1\n"
     ]
    },
    {
     "name": "stderr",
     "output_type": "stream",
     "text": [
      "Processing Part 7, Postcode 3134: 100%|███████████████████████████████████████████████████| 1/1 [00:01<00:00,  1.09s/it]\n"
     ]
    },
    {
     "name": "stdout",
     "output_type": "stream",
     "text": [
      "Visiting https://www.domain.com.au/rent/?ptype=apartment&bedrooms=2&postcode=3134&sort=dateupdated-desc&page=1\n"
     ]
    },
    {
     "name": "stderr",
     "output_type": "stream",
     "text": [
      "Processing Part 7, Postcode 3134: 100%|█████████████████████████████████████████████████| 13/13 [00:17<00:00,  1.37s/it]\n"
     ]
    },
    {
     "name": "stdout",
     "output_type": "stream",
     "text": [
      "Visiting https://www.domain.com.au/rent/?ptype=apartment&bedrooms=3&postcode=3134&sort=dateupdated-desc&page=1\n"
     ]
    },
    {
     "name": "stderr",
     "output_type": "stream",
     "text": [
      "Processing Part 7, Postcode 3134: 100%|███████████████████████████████████████████████████| 2/2 [00:03<00:00,  1.83s/it]\n"
     ]
    },
    {
     "name": "stdout",
     "output_type": "stream",
     "text": [
      "Visiting https://www.domain.com.au/rent/?ptype=house&bedrooms=2&postcode=3134&sort=dateupdated-desc&page=1\n"
     ]
    },
    {
     "name": "stderr",
     "output_type": "stream",
     "text": [
      "Processing Part 7, Postcode 3134: 100%|███████████████████████████████████████████████████| 4/4 [00:04<00:00,  1.18s/it]\n"
     ]
    },
    {
     "name": "stdout",
     "output_type": "stream",
     "text": [
      "Visiting https://www.domain.com.au/rent/?ptype=house&bedrooms=3&postcode=3134&sort=dateupdated-desc&page=1\n"
     ]
    },
    {
     "name": "stderr",
     "output_type": "stream",
     "text": [
      "Processing Part 7, Postcode 3134: 100%|█████████████████████████████████████████████████| 12/12 [00:13<00:00,  1.09s/it]\n"
     ]
    },
    {
     "name": "stdout",
     "output_type": "stream",
     "text": [
      "Visiting https://www.domain.com.au/rent/?ptype=house&bedrooms=4&postcode=3134&sort=dateupdated-desc&page=1\n"
     ]
    },
    {
     "name": "stderr",
     "output_type": "stream",
     "text": [
      "Processing Part 7, Postcode 3134: 100%|███████████████████████████████████████████████████| 5/5 [00:05<00:00,  1.18s/it]\n"
     ]
    },
    {
     "name": "stdout",
     "output_type": "stream",
     "text": [
      "Visiting https://www.domain.com.au/rent/?ptype=apartment&bedrooms=1&postcode=3135&sort=dateupdated-desc&page=1\n"
     ]
    },
    {
     "name": "stderr",
     "output_type": "stream",
     "text": [
      "Processing Part 7, Postcode 3135: 100%|███████████████████████████████████████████████████| 2/2 [00:02<00:00,  1.20s/it]\n"
     ]
    },
    {
     "name": "stdout",
     "output_type": "stream",
     "text": [
      "Visiting https://www.domain.com.au/rent/?ptype=apartment&bedrooms=2&postcode=3135&sort=dateupdated-desc&page=1\n"
     ]
    },
    {
     "name": "stderr",
     "output_type": "stream",
     "text": [
      "Processing Part 7, Postcode 3135: 100%|███████████████████████████████████████████████████| 2/2 [00:02<00:00,  1.11s/it]\n"
     ]
    },
    {
     "name": "stdout",
     "output_type": "stream",
     "text": [
      "Visiting https://www.domain.com.au/rent/?ptype=apartment&bedrooms=3&postcode=3135&sort=dateupdated-desc&page=1\n"
     ]
    },
    {
     "name": "stderr",
     "output_type": "stream",
     "text": [
      "Processing Part 7, Postcode 3135: 100%|███████████████████████████████████████████████████| 1/1 [00:01<00:00,  1.09s/it]\n"
     ]
    },
    {
     "name": "stdout",
     "output_type": "stream",
     "text": [
      "Visiting https://www.domain.com.au/rent/?ptype=house&bedrooms=2&postcode=3135&sort=dateupdated-desc&page=1\n"
     ]
    },
    {
     "name": "stderr",
     "output_type": "stream",
     "text": [
      "Processing Part 7, Postcode 3135: 100%|███████████████████████████████████████████████████| 2/2 [00:02<00:00,  1.27s/it]\n"
     ]
    },
    {
     "name": "stdout",
     "output_type": "stream",
     "text": [
      "Visiting https://www.domain.com.au/rent/?ptype=house&bedrooms=3&postcode=3135&sort=dateupdated-desc&page=1\n"
     ]
    },
    {
     "name": "stderr",
     "output_type": "stream",
     "text": [
      "Processing Part 7, Postcode 3135: 100%|███████████████████████████████████████████████████| 8/8 [00:08<00:00,  1.06s/it]\n"
     ]
    },
    {
     "name": "stdout",
     "output_type": "stream",
     "text": [
      "Visiting https://www.domain.com.au/rent/?ptype=house&bedrooms=4&postcode=3135&sort=dateupdated-desc&page=1\n"
     ]
    },
    {
     "name": "stderr",
     "output_type": "stream",
     "text": [
      "Processing Part 7, Postcode 3135: 100%|███████████████████████████████████████████████████| 1/1 [00:01<00:00,  1.06s/it]\n"
     ]
    },
    {
     "name": "stdout",
     "output_type": "stream",
     "text": [
      "Visiting https://www.domain.com.au/rent/?ptype=apartment&bedrooms=1&postcode=3178&sort=dateupdated-desc&page=1\n"
     ]
    },
    {
     "name": "stderr",
     "output_type": "stream",
     "text": [
      "Processing Part 7, Postcode 3178: 100%|███████████████████████████████████████████████████| 1/1 [00:01<00:00,  1.09s/it]\n"
     ]
    },
    {
     "name": "stdout",
     "output_type": "stream",
     "text": [
      "Visiting https://www.domain.com.au/rent/?ptype=apartment&bedrooms=2&postcode=3178&sort=dateupdated-desc&page=1\n"
     ]
    },
    {
     "name": "stderr",
     "output_type": "stream",
     "text": [
      "Processing Part 7, Postcode 3178: 100%|███████████████████████████████████████████████████| 1/1 [00:01<00:00,  1.54s/it]\n"
     ]
    },
    {
     "name": "stdout",
     "output_type": "stream",
     "text": [
      "Visiting https://www.domain.com.au/rent/?ptype=apartment&bedrooms=3&postcode=3178&sort=dateupdated-desc&page=1\n"
     ]
    },
    {
     "name": "stderr",
     "output_type": "stream",
     "text": [
      "Processing Part 7, Postcode 3178: 100%|███████████████████████████████████████████████████| 2/2 [00:02<00:00,  1.12s/it]\n"
     ]
    },
    {
     "name": "stdout",
     "output_type": "stream",
     "text": [
      "Visiting https://www.domain.com.au/rent/?ptype=house&bedrooms=2&postcode=3178&sort=dateupdated-desc&page=1\n"
     ]
    },
    {
     "name": "stderr",
     "output_type": "stream",
     "text": [
      "Processing Part 7, Postcode 3178: 100%|███████████████████████████████████████████████████| 2/2 [00:03<00:00,  1.87s/it]\n"
     ]
    },
    {
     "name": "stdout",
     "output_type": "stream",
     "text": [
      "Visiting https://www.domain.com.au/rent/?ptype=house&bedrooms=3&postcode=3178&sort=dateupdated-desc&page=1\n"
     ]
    },
    {
     "name": "stderr",
     "output_type": "stream",
     "text": [
      "Processing Part 7, Postcode 3178: 100%|███████████████████████████████████████████████████| 8/8 [00:09<00:00,  1.14s/it]\n"
     ]
    },
    {
     "name": "stdout",
     "output_type": "stream",
     "text": [
      "Visiting https://www.domain.com.au/rent/?ptype=house&bedrooms=4&postcode=3178&sort=dateupdated-desc&page=1\n"
     ]
    },
    {
     "name": "stderr",
     "output_type": "stream",
     "text": [
      "Processing Part 7, Postcode 3178: 100%|███████████████████████████████████████████████████| 5/5 [00:05<00:00,  1.08s/it]\n"
     ]
    },
    {
     "name": "stdout",
     "output_type": "stream",
     "text": [
      "Visiting https://www.domain.com.au/rent/?ptype=apartment&bedrooms=1&postcode=3152&sort=dateupdated-desc&page=1\n"
     ]
    },
    {
     "name": "stderr",
     "output_type": "stream",
     "text": [
      "Processing Part 7, Postcode 3152: 100%|███████████████████████████████████████████████████| 1/1 [00:01<00:00,  1.07s/it]\n"
     ]
    },
    {
     "name": "stdout",
     "output_type": "stream",
     "text": [
      "Visiting https://www.domain.com.au/rent/?ptype=apartment&bedrooms=2&postcode=3152&sort=dateupdated-desc&page=1\n"
     ]
    },
    {
     "name": "stderr",
     "output_type": "stream",
     "text": [
      "Processing Part 7, Postcode 3152: 100%|███████████████████████████████████████████████████| 2/2 [00:02<00:00,  1.14s/it]\n"
     ]
    },
    {
     "name": "stdout",
     "output_type": "stream",
     "text": [
      "Visiting https://www.domain.com.au/rent/?ptype=apartment&bedrooms=3&postcode=3152&sort=dateupdated-desc&page=1\n",
      "No results found on page https://www.domain.com.au/rent/?ptype=apartment&bedrooms=3&postcode=3152&sort=dateupdated-desc&page=1\n"
     ]
    },
    {
     "name": "stderr",
     "output_type": "stream",
     "text": [
      "Processing Part 7, Postcode 3152: 0it [00:00, ?it/s]"
     ]
    },
    {
     "name": "stdout",
     "output_type": "stream",
     "text": [
      "Visiting https://www.domain.com.au/rent/?ptype=house&bedrooms=2&postcode=3152&sort=dateupdated-desc&page=1\n"
     ]
    },
    {
     "name": "stderr",
     "output_type": "stream",
     "text": [
      "\n",
      "Processing Part 7, Postcode 3152: 100%|███████████████████████████████████████████████████| 1/1 [00:01<00:00,  1.44s/it]\n"
     ]
    },
    {
     "name": "stdout",
     "output_type": "stream",
     "text": [
      "Visiting https://www.domain.com.au/rent/?ptype=house&bedrooms=3&postcode=3152&sort=dateupdated-desc&page=1\n"
     ]
    },
    {
     "name": "stderr",
     "output_type": "stream",
     "text": [
      "Processing Part 7, Postcode 3152: 100%|███████████████████████████████████████████████████| 9/9 [00:09<00:00,  1.08s/it]\n"
     ]
    },
    {
     "name": "stdout",
     "output_type": "stream",
     "text": [
      "Visiting https://www.domain.com.au/rent/?ptype=house&bedrooms=4&postcode=3152&sort=dateupdated-desc&page=1\n"
     ]
    },
    {
     "name": "stderr",
     "output_type": "stream",
     "text": [
      "Processing Part 7, Postcode 3152: 100%|█████████████████████████████████████████████████| 12/12 [00:14<00:00,  1.20s/it]\n"
     ]
    },
    {
     "name": "stdout",
     "output_type": "stream",
     "text": [
      "Visiting https://www.domain.com.au/rent/?ptype=apartment&bedrooms=1&postcode=3176&sort=dateupdated-desc&page=1\n",
      "No results found on page https://www.domain.com.au/rent/?ptype=apartment&bedrooms=1&postcode=3176&sort=dateupdated-desc&page=1\n"
     ]
    },
    {
     "name": "stderr",
     "output_type": "stream",
     "text": [
      "Processing Part 7, Postcode 3176: 0it [00:00, ?it/s]"
     ]
    },
    {
     "name": "stdout",
     "output_type": "stream",
     "text": [
      "Visiting https://www.domain.com.au/rent/?ptype=apartment&bedrooms=2&postcode=3176&sort=dateupdated-desc&page=1\n"
     ]
    },
    {
     "name": "stderr",
     "output_type": "stream",
     "text": [
      "\n"
     ]
    },
    {
     "name": "stdout",
     "output_type": "stream",
     "text": [
      "No results found on page https://www.domain.com.au/rent/?ptype=apartment&bedrooms=2&postcode=3176&sort=dateupdated-desc&page=1\n"
     ]
    },
    {
     "name": "stderr",
     "output_type": "stream",
     "text": [
      "Processing Part 7, Postcode 3176: 0it [00:00, ?it/s]"
     ]
    },
    {
     "name": "stdout",
     "output_type": "stream",
     "text": [
      "Visiting https://www.domain.com.au/rent/?ptype=apartment&bedrooms=3&postcode=3176&sort=dateupdated-desc&page=1\n"
     ]
    },
    {
     "name": "stderr",
     "output_type": "stream",
     "text": [
      "\n"
     ]
    },
    {
     "name": "stdout",
     "output_type": "stream",
     "text": [
      "No results found on page https://www.domain.com.au/rent/?ptype=apartment&bedrooms=3&postcode=3176&sort=dateupdated-desc&page=1\n"
     ]
    },
    {
     "name": "stderr",
     "output_type": "stream",
     "text": [
      "Processing Part 7, Postcode 3176: 0it [00:00, ?it/s]"
     ]
    },
    {
     "name": "stdout",
     "output_type": "stream",
     "text": [
      "Visiting https://www.domain.com.au/rent/?ptype=house&bedrooms=2&postcode=3176&sort=dateupdated-desc&page=1\n"
     ]
    },
    {
     "name": "stderr",
     "output_type": "stream",
     "text": [
      "\n"
     ]
    },
    {
     "name": "stdout",
     "output_type": "stream",
     "text": [
      "No results found on page https://www.domain.com.au/rent/?ptype=house&bedrooms=2&postcode=3176&sort=dateupdated-desc&page=1\n"
     ]
    },
    {
     "name": "stderr",
     "output_type": "stream",
     "text": [
      "Processing Part 7, Postcode 3176: 0it [00:00, ?it/s]"
     ]
    },
    {
     "name": "stdout",
     "output_type": "stream",
     "text": [
      "Visiting https://www.domain.com.au/rent/?ptype=house&bedrooms=3&postcode=3176&sort=dateupdated-desc&page=1\n"
     ]
    },
    {
     "name": "stderr",
     "output_type": "stream",
     "text": [
      "\n"
     ]
    },
    {
     "name": "stdout",
     "output_type": "stream",
     "text": [
      "No results found on page https://www.domain.com.au/rent/?ptype=house&bedrooms=3&postcode=3176&sort=dateupdated-desc&page=1\n"
     ]
    },
    {
     "name": "stderr",
     "output_type": "stream",
     "text": [
      "Processing Part 7, Postcode 3176: 0it [00:00, ?it/s]"
     ]
    },
    {
     "name": "stdout",
     "output_type": "stream",
     "text": [
      "Visiting https://www.domain.com.au/rent/?ptype=house&bedrooms=4&postcode=3176&sort=dateupdated-desc&page=1\n"
     ]
    },
    {
     "name": "stderr",
     "output_type": "stream",
     "text": [
      "\n"
     ]
    },
    {
     "name": "stdout",
     "output_type": "stream",
     "text": [
      "No results found on page https://www.domain.com.au/rent/?ptype=house&bedrooms=4&postcode=3176&sort=dateupdated-desc&page=1\n"
     ]
    },
    {
     "name": "stderr",
     "output_type": "stream",
     "text": [
      "Processing Part 7, Postcode 3176: 0it [00:00, ?it/s]"
     ]
    },
    {
     "name": "stdout",
     "output_type": "stream",
     "text": [
      "Visiting https://www.domain.com.au/rent/?ptype=apartment&bedrooms=1&postcode=3179&sort=dateupdated-desc&page=1\n"
     ]
    },
    {
     "name": "stderr",
     "output_type": "stream",
     "text": [
      "\n"
     ]
    },
    {
     "name": "stdout",
     "output_type": "stream",
     "text": [
      "No results found on page https://www.domain.com.au/rent/?ptype=apartment&bedrooms=1&postcode=3179&sort=dateupdated-desc&page=1\n"
     ]
    },
    {
     "name": "stderr",
     "output_type": "stream",
     "text": [
      "Processing Part 7, Postcode 3179: 0it [00:00, ?it/s]"
     ]
    },
    {
     "name": "stdout",
     "output_type": "stream",
     "text": [
      "Visiting https://www.domain.com.au/rent/?ptype=apartment&bedrooms=2&postcode=3179&sort=dateupdated-desc&page=1\n"
     ]
    },
    {
     "name": "stderr",
     "output_type": "stream",
     "text": [
      "\n"
     ]
    },
    {
     "name": "stdout",
     "output_type": "stream",
     "text": [
      "No results found on page https://www.domain.com.au/rent/?ptype=apartment&bedrooms=2&postcode=3179&sort=dateupdated-desc&page=1\n"
     ]
    },
    {
     "name": "stderr",
     "output_type": "stream",
     "text": [
      "Processing Part 7, Postcode 3179: 0it [00:00, ?it/s]"
     ]
    },
    {
     "name": "stdout",
     "output_type": "stream",
     "text": [
      "Visiting https://www.domain.com.au/rent/?ptype=apartment&bedrooms=3&postcode=3179&sort=dateupdated-desc&page=1\n"
     ]
    },
    {
     "name": "stderr",
     "output_type": "stream",
     "text": [
      "\n",
      "Processing Part 7, Postcode 3179: 100%|███████████████████████████████████████████████████| 1/1 [00:01<00:00,  1.19s/it]\n"
     ]
    },
    {
     "name": "stdout",
     "output_type": "stream",
     "text": [
      "Visiting https://www.domain.com.au/rent/?ptype=house&bedrooms=2&postcode=3179&sort=dateupdated-desc&page=1\n"
     ]
    },
    {
     "name": "stderr",
     "output_type": "stream",
     "text": [
      "Processing Part 7, Postcode 3179: 100%|███████████████████████████████████████████████████| 1/1 [00:01<00:00,  1.65s/it]\n"
     ]
    },
    {
     "name": "stdout",
     "output_type": "stream",
     "text": [
      "Visiting https://www.domain.com.au/rent/?ptype=house&bedrooms=3&postcode=3179&sort=dateupdated-desc&page=1\n"
     ]
    },
    {
     "name": "stderr",
     "output_type": "stream",
     "text": [
      "Processing Part 7, Postcode 3179: 100%|███████████████████████████████████████████████████| 5/5 [00:05<00:00,  1.16s/it]\n"
     ]
    },
    {
     "name": "stdout",
     "output_type": "stream",
     "text": [
      "Visiting https://www.domain.com.au/rent/?ptype=house&bedrooms=4&postcode=3179&sort=dateupdated-desc&page=1\n"
     ]
    },
    {
     "name": "stderr",
     "output_type": "stream",
     "text": [
      "Processing Part 7, Postcode 3179: 100%|███████████████████████████████████████████████████| 2/2 [00:02<00:00,  1.11s/it]\n"
     ]
    },
    {
     "name": "stdout",
     "output_type": "stream",
     "text": [
      "Visiting https://www.domain.com.au/rent/?ptype=apartment&bedrooms=1&postcode=3160&sort=dateupdated-desc&page=1\n",
      "No results found on page https://www.domain.com.au/rent/?ptype=apartment&bedrooms=1&postcode=3160&sort=dateupdated-desc&page=1\n"
     ]
    },
    {
     "name": "stderr",
     "output_type": "stream",
     "text": [
      "Processing Part 7, Postcode 3160: 0it [00:00, ?it/s]"
     ]
    },
    {
     "name": "stdout",
     "output_type": "stream",
     "text": [
      "Visiting https://www.domain.com.au/rent/?ptype=apartment&bedrooms=2&postcode=3160&sort=dateupdated-desc&page=1\n"
     ]
    },
    {
     "name": "stderr",
     "output_type": "stream",
     "text": [
      "\n"
     ]
    },
    {
     "name": "stdout",
     "output_type": "stream",
     "text": [
      "No results found on page https://www.domain.com.au/rent/?ptype=apartment&bedrooms=2&postcode=3160&sort=dateupdated-desc&page=1\n"
     ]
    },
    {
     "name": "stderr",
     "output_type": "stream",
     "text": [
      "Processing Part 7, Postcode 3160: 0it [00:00, ?it/s]"
     ]
    },
    {
     "name": "stdout",
     "output_type": "stream",
     "text": [
      "Visiting https://www.domain.com.au/rent/?ptype=apartment&bedrooms=3&postcode=3160&sort=dateupdated-desc&page=1\n"
     ]
    },
    {
     "name": "stderr",
     "output_type": "stream",
     "text": [
      "\n",
      "Processing Part 7, Postcode 3160: 100%|███████████████████████████████████████████████████| 1/1 [00:01<00:00,  1.10s/it]\n"
     ]
    },
    {
     "name": "stdout",
     "output_type": "stream",
     "text": [
      "Visiting https://www.domain.com.au/rent/?ptype=house&bedrooms=2&postcode=3160&sort=dateupdated-desc&page=1\n",
      "No results found on page https://www.domain.com.au/rent/?ptype=house&bedrooms=2&postcode=3160&sort=dateupdated-desc&page=1\n"
     ]
    },
    {
     "name": "stderr",
     "output_type": "stream",
     "text": [
      "Processing Part 7, Postcode 3160: 0it [00:00, ?it/s]"
     ]
    },
    {
     "name": "stdout",
     "output_type": "stream",
     "text": [
      "Visiting https://www.domain.com.au/rent/?ptype=house&bedrooms=3&postcode=3160&sort=dateupdated-desc&page=1\n"
     ]
    },
    {
     "name": "stderr",
     "output_type": "stream",
     "text": [
      "\n"
     ]
    },
    {
     "name": "stdout",
     "output_type": "stream",
     "text": [
      "No results found on page https://www.domain.com.au/rent/?ptype=house&bedrooms=3&postcode=3160&sort=dateupdated-desc&page=1\n"
     ]
    },
    {
     "name": "stderr",
     "output_type": "stream",
     "text": [
      "Processing Part 7, Postcode 3160: 0it [00:00, ?it/s]"
     ]
    },
    {
     "name": "stdout",
     "output_type": "stream",
     "text": [
      "Visiting https://www.domain.com.au/rent/?ptype=house&bedrooms=4&postcode=3160&sort=dateupdated-desc&page=1\n"
     ]
    },
    {
     "name": "stderr",
     "output_type": "stream",
     "text": [
      "\n"
     ]
    },
    {
     "name": "stdout",
     "output_type": "stream",
     "text": [
      "No results found on page https://www.domain.com.au/rent/?ptype=house&bedrooms=4&postcode=3160&sort=dateupdated-desc&page=1\n"
     ]
    },
    {
     "name": "stderr",
     "output_type": "stream",
     "text": [
      "Processing Part 7, Postcode 3160: 0it [00:00, ?it/s]"
     ]
    },
    {
     "name": "stdout",
     "output_type": "stream",
     "text": [
      "Visiting https://www.domain.com.au/rent/?ptype=apartment&bedrooms=1&postcode=3806&sort=dateupdated-desc&page=1\n"
     ]
    },
    {
     "name": "stderr",
     "output_type": "stream",
     "text": [
      "\n",
      "Processing Part 7, Postcode 3806: 100%|███████████████████████████████████████████████████| 2/2 [00:02<00:00,  1.15s/it]\n"
     ]
    },
    {
     "name": "stdout",
     "output_type": "stream",
     "text": [
      "Visiting https://www.domain.com.au/rent/?ptype=apartment&bedrooms=2&postcode=3806&sort=dateupdated-desc&page=1\n"
     ]
    },
    {
     "name": "stderr",
     "output_type": "stream",
     "text": [
      "Processing Part 7, Postcode 3806: 100%|███████████████████████████████████████████████████| 1/1 [00:01<00:00,  1.05s/it]\n"
     ]
    },
    {
     "name": "stdout",
     "output_type": "stream",
     "text": [
      "Visiting https://www.domain.com.au/rent/?ptype=apartment&bedrooms=3&postcode=3806&sort=dateupdated-desc&page=1\n",
      "No results found on page https://www.domain.com.au/rent/?ptype=apartment&bedrooms=3&postcode=3806&sort=dateupdated-desc&page=1\n"
     ]
    },
    {
     "name": "stderr",
     "output_type": "stream",
     "text": [
      "Processing Part 7, Postcode 3806: 0it [00:00, ?it/s]"
     ]
    },
    {
     "name": "stdout",
     "output_type": "stream",
     "text": [
      "Visiting https://www.domain.com.au/rent/?ptype=house&bedrooms=2&postcode=3806&sort=dateupdated-desc&page=1\n"
     ]
    },
    {
     "name": "stderr",
     "output_type": "stream",
     "text": [
      "\n",
      "Processing Part 7, Postcode 3806: 100%|███████████████████████████████████████████████████| 4/4 [00:04<00:00,  1.06s/it]\n"
     ]
    },
    {
     "name": "stdout",
     "output_type": "stream",
     "text": [
      "Visiting https://www.domain.com.au/rent/?ptype=house&bedrooms=3&postcode=3806&sort=dateupdated-desc&page=1\n"
     ]
    },
    {
     "name": "stderr",
     "output_type": "stream",
     "text": [
      "Processing Part 7, Postcode 3806: 100%|█████████████████████████████████████████████████| 20/20 [00:24<00:00,  1.21s/it]\n"
     ]
    },
    {
     "name": "stdout",
     "output_type": "stream",
     "text": [
      "Visiting https://www.domain.com.au/rent/?ptype=house&bedrooms=4&postcode=3806&sort=dateupdated-desc&page=1\n"
     ]
    },
    {
     "name": "stderr",
     "output_type": "stream",
     "text": [
      "Processing Part 7, Postcode 3806: 100%|█████████████████████████████████████████████████| 20/20 [00:24<00:00,  1.24s/it]\n"
     ]
    },
    {
     "name": "stdout",
     "output_type": "stream",
     "text": [
      "Visiting https://www.domain.com.au/rent/?ptype=apartment&bedrooms=1&postcode=3977&sort=dateupdated-desc&page=1\n"
     ]
    },
    {
     "name": "stderr",
     "output_type": "stream",
     "text": [
      "Processing Part 7, Postcode 3977: 100%|███████████████████████████████████████████████████| 2/2 [00:02<00:00,  1.10s/it]\n"
     ]
    },
    {
     "name": "stdout",
     "output_type": "stream",
     "text": [
      "Visiting https://www.domain.com.au/rent/?ptype=apartment&bedrooms=2&postcode=3977&sort=dateupdated-desc&page=1\n"
     ]
    },
    {
     "name": "stderr",
     "output_type": "stream",
     "text": [
      "Processing Part 7, Postcode 3977: 100%|███████████████████████████████████████████████████| 1/1 [00:01<00:00,  1.04s/it]\n"
     ]
    },
    {
     "name": "stdout",
     "output_type": "stream",
     "text": [
      "Visiting https://www.domain.com.au/rent/?ptype=apartment&bedrooms=3&postcode=3977&sort=dateupdated-desc&page=1\n"
     ]
    },
    {
     "name": "stderr",
     "output_type": "stream",
     "text": [
      "Processing Part 7, Postcode 3977: 100%|███████████████████████████████████████████████████| 2/2 [00:02<00:00,  1.30s/it]\n"
     ]
    },
    {
     "name": "stdout",
     "output_type": "stream",
     "text": [
      "Visiting https://www.domain.com.au/rent/?ptype=house&bedrooms=2&postcode=3977&sort=dateupdated-desc&page=1\n"
     ]
    },
    {
     "name": "stderr",
     "output_type": "stream",
     "text": [
      "Processing Part 7, Postcode 3977: 100%|███████████████████████████████████████████████████| 4/4 [00:04<00:00,  1.15s/it]\n"
     ]
    },
    {
     "name": "stdout",
     "output_type": "stream",
     "text": [
      "Visiting https://www.domain.com.au/rent/?ptype=house&bedrooms=3&postcode=3977&sort=dateupdated-desc&page=1\n"
     ]
    },
    {
     "name": "stderr",
     "output_type": "stream",
     "text": [
      "Processing Part 7, Postcode 3977: 100%|█████████████████████████████████████████████████| 20/20 [00:24<00:00,  1.22s/it]\n"
     ]
    },
    {
     "name": "stdout",
     "output_type": "stream",
     "text": [
      "Visiting https://www.domain.com.au/rent/?ptype=house&bedrooms=4&postcode=3977&sort=dateupdated-desc&page=1\n"
     ]
    },
    {
     "name": "stderr",
     "output_type": "stream",
     "text": [
      "Processing Part 7, Postcode 3977: 100%|█████████████████████████████████████████████████| 20/20 [00:30<00:00,  1.53s/it]\n"
     ]
    },
    {
     "name": "stdout",
     "output_type": "stream",
     "text": [
      "Visiting https://www.domain.com.au/rent/?ptype=apartment&bedrooms=1&postcode=3164&sort=dateupdated-desc&page=1\n",
      "No results found on page https://www.domain.com.au/rent/?ptype=apartment&bedrooms=1&postcode=3164&sort=dateupdated-desc&page=1\n"
     ]
    },
    {
     "name": "stderr",
     "output_type": "stream",
     "text": [
      "Processing Part 7, Postcode 3164: 0it [00:00, ?it/s]"
     ]
    },
    {
     "name": "stdout",
     "output_type": "stream",
     "text": [
      "Visiting https://www.domain.com.au/rent/?ptype=apartment&bedrooms=2&postcode=3164&sort=dateupdated-desc&page=1\n"
     ]
    },
    {
     "name": "stderr",
     "output_type": "stream",
     "text": [
      "\n"
     ]
    },
    {
     "name": "stdout",
     "output_type": "stream",
     "text": [
      "No results found on page https://www.domain.com.au/rent/?ptype=apartment&bedrooms=2&postcode=3164&sort=dateupdated-desc&page=1\n"
     ]
    },
    {
     "name": "stderr",
     "output_type": "stream",
     "text": [
      "Processing Part 7, Postcode 3164: 0it [00:00, ?it/s]"
     ]
    },
    {
     "name": "stdout",
     "output_type": "stream",
     "text": [
      "Visiting https://www.domain.com.au/rent/?ptype=apartment&bedrooms=3&postcode=3164&sort=dateupdated-desc&page=1\n"
     ]
    },
    {
     "name": "stderr",
     "output_type": "stream",
     "text": [
      "\n"
     ]
    },
    {
     "name": "stdout",
     "output_type": "stream",
     "text": [
      "No results found on page https://www.domain.com.au/rent/?ptype=apartment&bedrooms=3&postcode=3164&sort=dateupdated-desc&page=1\n"
     ]
    },
    {
     "name": "stderr",
     "output_type": "stream",
     "text": [
      "Processing Part 7, Postcode 3164: 0it [00:00, ?it/s]"
     ]
    },
    {
     "name": "stdout",
     "output_type": "stream",
     "text": [
      "Visiting https://www.domain.com.au/rent/?ptype=house&bedrooms=2&postcode=3164&sort=dateupdated-desc&page=1\n"
     ]
    },
    {
     "name": "stderr",
     "output_type": "stream",
     "text": [
      "\n"
     ]
    },
    {
     "name": "stdout",
     "output_type": "stream",
     "text": [
      "No results found on page https://www.domain.com.au/rent/?ptype=house&bedrooms=2&postcode=3164&sort=dateupdated-desc&page=1\n"
     ]
    },
    {
     "name": "stderr",
     "output_type": "stream",
     "text": [
      "Processing Part 7, Postcode 3164: 0it [00:00, ?it/s]"
     ]
    },
    {
     "name": "stdout",
     "output_type": "stream",
     "text": [
      "Visiting https://www.domain.com.au/rent/?ptype=house&bedrooms=3&postcode=3164&sort=dateupdated-desc&page=1\n"
     ]
    },
    {
     "name": "stderr",
     "output_type": "stream",
     "text": [
      "\n"
     ]
    },
    {
     "name": "stdout",
     "output_type": "stream",
     "text": [
      "No results found on page https://www.domain.com.au/rent/?ptype=house&bedrooms=3&postcode=3164&sort=dateupdated-desc&page=1\n"
     ]
    },
    {
     "name": "stderr",
     "output_type": "stream",
     "text": [
      "Processing Part 7, Postcode 3164: 0it [00:00, ?it/s]"
     ]
    },
    {
     "name": "stdout",
     "output_type": "stream",
     "text": [
      "Visiting https://www.domain.com.au/rent/?ptype=house&bedrooms=4&postcode=3164&sort=dateupdated-desc&page=1\n"
     ]
    },
    {
     "name": "stderr",
     "output_type": "stream",
     "text": [
      "\n"
     ]
    },
    {
     "name": "stdout",
     "output_type": "stream",
     "text": [
      "No results found on page https://www.domain.com.au/rent/?ptype=house&bedrooms=4&postcode=3164&sort=dateupdated-desc&page=1\n"
     ]
    },
    {
     "name": "stderr",
     "output_type": "stream",
     "text": [
      "Processing Part 7, Postcode 3164: 0it [00:00, ?it/s]"
     ]
    },
    {
     "name": "stdout",
     "output_type": "stream",
     "text": [
      "Visiting https://www.domain.com.au/rent/?ptype=apartment&bedrooms=1&postcode=3767&sort=dateupdated-desc&page=1\n"
     ]
    },
    {
     "name": "stderr",
     "output_type": "stream",
     "text": [
      "\n"
     ]
    },
    {
     "name": "stdout",
     "output_type": "stream",
     "text": [
      "No results found on page https://www.domain.com.au/rent/?ptype=apartment&bedrooms=1&postcode=3767&sort=dateupdated-desc&page=1\n"
     ]
    },
    {
     "name": "stderr",
     "output_type": "stream",
     "text": [
      "Processing Part 7, Postcode 3767: 0it [00:00, ?it/s]"
     ]
    },
    {
     "name": "stdout",
     "output_type": "stream",
     "text": [
      "Visiting https://www.domain.com.au/rent/?ptype=apartment&bedrooms=2&postcode=3767&sort=dateupdated-desc&page=1\n"
     ]
    },
    {
     "name": "stderr",
     "output_type": "stream",
     "text": [
      "\n"
     ]
    },
    {
     "name": "stdout",
     "output_type": "stream",
     "text": [
      "No results found on page https://www.domain.com.au/rent/?ptype=apartment&bedrooms=2&postcode=3767&sort=dateupdated-desc&page=1\n"
     ]
    },
    {
     "name": "stderr",
     "output_type": "stream",
     "text": [
      "Processing Part 7, Postcode 3767: 0it [00:00, ?it/s]"
     ]
    },
    {
     "name": "stdout",
     "output_type": "stream",
     "text": [
      "Visiting https://www.domain.com.au/rent/?ptype=apartment&bedrooms=3&postcode=3767&sort=dateupdated-desc&page=1\n"
     ]
    },
    {
     "name": "stderr",
     "output_type": "stream",
     "text": [
      "\n"
     ]
    },
    {
     "name": "stdout",
     "output_type": "stream",
     "text": [
      "No results found on page https://www.domain.com.au/rent/?ptype=apartment&bedrooms=3&postcode=3767&sort=dateupdated-desc&page=1\n"
     ]
    },
    {
     "name": "stderr",
     "output_type": "stream",
     "text": [
      "Processing Part 7, Postcode 3767: 0it [00:00, ?it/s]"
     ]
    },
    {
     "name": "stdout",
     "output_type": "stream",
     "text": [
      "Visiting https://www.domain.com.au/rent/?ptype=house&bedrooms=2&postcode=3767&sort=dateupdated-desc&page=1\n"
     ]
    },
    {
     "name": "stderr",
     "output_type": "stream",
     "text": [
      "\n"
     ]
    },
    {
     "name": "stdout",
     "output_type": "stream",
     "text": [
      "No results found on page https://www.domain.com.au/rent/?ptype=house&bedrooms=2&postcode=3767&sort=dateupdated-desc&page=1\n"
     ]
    },
    {
     "name": "stderr",
     "output_type": "stream",
     "text": [
      "Processing Part 7, Postcode 3767: 0it [00:00, ?it/s]"
     ]
    },
    {
     "name": "stdout",
     "output_type": "stream",
     "text": [
      "Visiting https://www.domain.com.au/rent/?ptype=house&bedrooms=3&postcode=3767&sort=dateupdated-desc&page=1\n"
     ]
    },
    {
     "name": "stderr",
     "output_type": "stream",
     "text": [
      "\n"
     ]
    },
    {
     "name": "stdout",
     "output_type": "stream",
     "text": [
      "No results found on page https://www.domain.com.au/rent/?ptype=house&bedrooms=3&postcode=3767&sort=dateupdated-desc&page=1\n"
     ]
    },
    {
     "name": "stderr",
     "output_type": "stream",
     "text": [
      "Processing Part 7, Postcode 3767: 0it [00:00, ?it/s]"
     ]
    },
    {
     "name": "stdout",
     "output_type": "stream",
     "text": [
      "Visiting https://www.domain.com.au/rent/?ptype=house&bedrooms=4&postcode=3767&sort=dateupdated-desc&page=1\n"
     ]
    },
    {
     "name": "stderr",
     "output_type": "stream",
     "text": [
      "\n"
     ]
    },
    {
     "name": "stdout",
     "output_type": "stream",
     "text": [
      "No results found on page https://www.domain.com.au/rent/?ptype=house&bedrooms=4&postcode=3767&sort=dateupdated-desc&page=1\n"
     ]
    },
    {
     "name": "stderr",
     "output_type": "stream",
     "text": [
      "Processing Part 7, Postcode 3767: 0it [00:00, ?it/s]"
     ]
    },
    {
     "name": "stdout",
     "output_type": "stream",
     "text": [
      "Visiting https://www.domain.com.au/rent/?ptype=apartment&bedrooms=1&postcode=3175&sort=dateupdated-desc&page=1\n"
     ]
    },
    {
     "name": "stderr",
     "output_type": "stream",
     "text": [
      "\n",
      "Processing Part 7, Postcode 3175: 100%|█████████████████████████████████████████████████| 11/11 [00:13<00:00,  1.26s/it]\n"
     ]
    },
    {
     "name": "stdout",
     "output_type": "stream",
     "text": [
      "Visiting https://www.domain.com.au/rent/?ptype=apartment&bedrooms=2&postcode=3175&sort=dateupdated-desc&page=1\n"
     ]
    },
    {
     "name": "stderr",
     "output_type": "stream",
     "text": [
      "Processing Part 7, Postcode 3175: 100%|█████████████████████████████████████████████████| 20/20 [00:23<00:00,  1.18s/it]\n"
     ]
    },
    {
     "name": "stdout",
     "output_type": "stream",
     "text": [
      "Visiting https://www.domain.com.au/rent/?ptype=apartment&bedrooms=3&postcode=3175&sort=dateupdated-desc&page=1\n"
     ]
    },
    {
     "name": "stderr",
     "output_type": "stream",
     "text": [
      "Processing Part 7, Postcode 3175: 100%|███████████████████████████████████████████████████| 7/7 [00:09<00:00,  1.34s/it]\n"
     ]
    },
    {
     "name": "stdout",
     "output_type": "stream",
     "text": [
      "Visiting https://www.domain.com.au/rent/?ptype=house&bedrooms=2&postcode=3175&sort=dateupdated-desc&page=1\n"
     ]
    },
    {
     "name": "stderr",
     "output_type": "stream",
     "text": [
      "Processing Part 7, Postcode 3175: 100%|███████████████████████████████████████████████████| 3/3 [00:04<00:00,  1.64s/it]\n"
     ]
    },
    {
     "name": "stdout",
     "output_type": "stream",
     "text": [
      "Visiting https://www.domain.com.au/rent/?ptype=house&bedrooms=3&postcode=3175&sort=dateupdated-desc&page=1\n"
     ]
    },
    {
     "name": "stderr",
     "output_type": "stream",
     "text": [
      "Processing Part 7, Postcode 3175: 100%|█████████████████████████████████████████████████| 20/20 [00:22<00:00,  1.14s/it]\n"
     ]
    },
    {
     "name": "stdout",
     "output_type": "stream",
     "text": [
      "Visiting https://www.domain.com.au/rent/?ptype=house&bedrooms=4&postcode=3175&sort=dateupdated-desc&page=1\n"
     ]
    },
    {
     "name": "stderr",
     "output_type": "stream",
     "text": [
      "Processing Part 7, Postcode 3175: 100%|███████████████████████████████████████████████████| 6/6 [00:06<00:00,  1.02s/it]\n"
     ]
    },
    {
     "name": "stdout",
     "output_type": "stream",
     "text": [
      "Visiting https://www.domain.com.au/rent/?ptype=apartment&bedrooms=1&postcode=3802&sort=dateupdated-desc&page=1\n",
      "No results found on page https://www.domain.com.au/rent/?ptype=apartment&bedrooms=1&postcode=3802&sort=dateupdated-desc&page=1\n"
     ]
    },
    {
     "name": "stderr",
     "output_type": "stream",
     "text": [
      "Processing Part 7, Postcode 3802: 0it [00:00, ?it/s]"
     ]
    },
    {
     "name": "stdout",
     "output_type": "stream",
     "text": [
      "Visiting https://www.domain.com.au/rent/?ptype=apartment&bedrooms=2&postcode=3802&sort=dateupdated-desc&page=1\n"
     ]
    },
    {
     "name": "stderr",
     "output_type": "stream",
     "text": [
      "\n"
     ]
    },
    {
     "name": "stdout",
     "output_type": "stream",
     "text": [
      "No results found on page https://www.domain.com.au/rent/?ptype=apartment&bedrooms=2&postcode=3802&sort=dateupdated-desc&page=1\n"
     ]
    },
    {
     "name": "stderr",
     "output_type": "stream",
     "text": [
      "Processing Part 7, Postcode 3802: 0it [00:00, ?it/s]"
     ]
    },
    {
     "name": "stdout",
     "output_type": "stream",
     "text": [
      "Visiting https://www.domain.com.au/rent/?ptype=apartment&bedrooms=3&postcode=3802&sort=dateupdated-desc&page=1\n"
     ]
    },
    {
     "name": "stderr",
     "output_type": "stream",
     "text": [
      "\n",
      "Processing Part 7, Postcode 3802: 100%|███████████████████████████████████████████████████| 1/1 [00:01<00:00,  1.04s/it]\n"
     ]
    },
    {
     "name": "stdout",
     "output_type": "stream",
     "text": [
      "Visiting https://www.domain.com.au/rent/?ptype=house&bedrooms=2&postcode=3802&sort=dateupdated-desc&page=1\n",
      "No results found on page https://www.domain.com.au/rent/?ptype=house&bedrooms=2&postcode=3802&sort=dateupdated-desc&page=1\n"
     ]
    },
    {
     "name": "stderr",
     "output_type": "stream",
     "text": [
      "Processing Part 7, Postcode 3802: 0it [00:00, ?it/s]"
     ]
    },
    {
     "name": "stdout",
     "output_type": "stream",
     "text": [
      "Visiting https://www.domain.com.au/rent/?ptype=house&bedrooms=3&postcode=3802&sort=dateupdated-desc&page=1\n"
     ]
    },
    {
     "name": "stderr",
     "output_type": "stream",
     "text": [
      "\n",
      "Processing Part 7, Postcode 3802: 100%|███████████████████████████████████████████████████| 9/9 [00:10<00:00,  1.14s/it]\n"
     ]
    },
    {
     "name": "stdout",
     "output_type": "stream",
     "text": [
      "Visiting https://www.domain.com.au/rent/?ptype=house&bedrooms=4&postcode=3802&sort=dateupdated-desc&page=1\n"
     ]
    },
    {
     "name": "stderr",
     "output_type": "stream",
     "text": [
      "Processing Part 7, Postcode 3802: 100%|███████████████████████████████████████████████████| 3/3 [00:03<00:00,  1.24s/it]\n"
     ]
    },
    {
     "name": "stdout",
     "output_type": "stream",
     "text": [
      "Visiting https://www.domain.com.au/rent/?ptype=apartment&bedrooms=1&postcode=3804&sort=dateupdated-desc&page=1\n",
      "No results found on page https://www.domain.com.au/rent/?ptype=apartment&bedrooms=1&postcode=3804&sort=dateupdated-desc&page=1\n"
     ]
    },
    {
     "name": "stderr",
     "output_type": "stream",
     "text": [
      "Processing Part 7, Postcode 3804: 0it [00:00, ?it/s]"
     ]
    },
    {
     "name": "stdout",
     "output_type": "stream",
     "text": [
      "Visiting https://www.domain.com.au/rent/?ptype=apartment&bedrooms=2&postcode=3804&sort=dateupdated-desc&page=1\n"
     ]
    },
    {
     "name": "stderr",
     "output_type": "stream",
     "text": [
      "\n"
     ]
    },
    {
     "name": "stdout",
     "output_type": "stream",
     "text": [
      "No results found on page https://www.domain.com.au/rent/?ptype=apartment&bedrooms=2&postcode=3804&sort=dateupdated-desc&page=1\n"
     ]
    },
    {
     "name": "stderr",
     "output_type": "stream",
     "text": [
      "Processing Part 7, Postcode 3804: 0it [00:00, ?it/s]"
     ]
    },
    {
     "name": "stdout",
     "output_type": "stream",
     "text": [
      "Visiting https://www.domain.com.au/rent/?ptype=apartment&bedrooms=3&postcode=3804&sort=dateupdated-desc&page=1\n"
     ]
    },
    {
     "name": "stderr",
     "output_type": "stream",
     "text": [
      "\n"
     ]
    },
    {
     "name": "stdout",
     "output_type": "stream",
     "text": [
      "No results found on page https://www.domain.com.au/rent/?ptype=apartment&bedrooms=3&postcode=3804&sort=dateupdated-desc&page=1\n"
     ]
    },
    {
     "name": "stderr",
     "output_type": "stream",
     "text": [
      "Processing Part 7, Postcode 3804: 0it [00:00, ?it/s]"
     ]
    },
    {
     "name": "stdout",
     "output_type": "stream",
     "text": [
      "Visiting https://www.domain.com.au/rent/?ptype=house&bedrooms=2&postcode=3804&sort=dateupdated-desc&page=1\n"
     ]
    },
    {
     "name": "stderr",
     "output_type": "stream",
     "text": [
      "\n"
     ]
    },
    {
     "name": "stdout",
     "output_type": "stream",
     "text": [
      "No results found on page https://www.domain.com.au/rent/?ptype=house&bedrooms=2&postcode=3804&sort=dateupdated-desc&page=1\n"
     ]
    },
    {
     "name": "stderr",
     "output_type": "stream",
     "text": [
      "Processing Part 7, Postcode 3804: 0it [00:00, ?it/s]"
     ]
    },
    {
     "name": "stdout",
     "output_type": "stream",
     "text": [
      "Visiting https://www.domain.com.au/rent/?ptype=house&bedrooms=3&postcode=3804&sort=dateupdated-desc&page=1\n"
     ]
    },
    {
     "name": "stderr",
     "output_type": "stream",
     "text": [
      "\n"
     ]
    },
    {
     "name": "stdout",
     "output_type": "stream",
     "text": [
      "No results found on page https://www.domain.com.au/rent/?ptype=house&bedrooms=3&postcode=3804&sort=dateupdated-desc&page=1\n"
     ]
    },
    {
     "name": "stderr",
     "output_type": "stream",
     "text": [
      "Processing Part 7, Postcode 3804: 0it [00:00, ?it/s]"
     ]
    },
    {
     "name": "stdout",
     "output_type": "stream",
     "text": [
      "Visiting https://www.domain.com.au/rent/?ptype=house&bedrooms=4&postcode=3804&sort=dateupdated-desc&page=1\n"
     ]
    },
    {
     "name": "stderr",
     "output_type": "stream",
     "text": [
      "\n",
      "Processing Part 7, Postcode 3804: 100%|███████████████████████████████████████████████████| 5/5 [00:05<00:00,  1.12s/it]\n"
     ]
    },
    {
     "name": "stdout",
     "output_type": "stream",
     "text": [
      "Visiting https://www.domain.com.au/rent/?ptype=apartment&bedrooms=1&postcode=3805&sort=dateupdated-desc&page=1\n"
     ]
    },
    {
     "name": "stderr",
     "output_type": "stream",
     "text": [
      "Processing Part 7, Postcode 3805: 100%|███████████████████████████████████████████████████| 1/1 [00:01<00:00,  1.25s/it]\n"
     ]
    },
    {
     "name": "stdout",
     "output_type": "stream",
     "text": [
      "Visiting https://www.domain.com.au/rent/?ptype=apartment&bedrooms=2&postcode=3805&sort=dateupdated-desc&page=1\n"
     ]
    },
    {
     "name": "stderr",
     "output_type": "stream",
     "text": [
      "Processing Part 7, Postcode 3805: 100%|███████████████████████████████████████████████████| 1/1 [00:01<00:00,  1.05s/it]\n"
     ]
    },
    {
     "name": "stdout",
     "output_type": "stream",
     "text": [
      "Visiting https://www.domain.com.au/rent/?ptype=apartment&bedrooms=3&postcode=3805&sort=dateupdated-desc&page=1\n"
     ]
    },
    {
     "name": "stderr",
     "output_type": "stream",
     "text": [
      "Processing Part 7, Postcode 3805: 100%|███████████████████████████████████████████████████| 1/1 [00:01<00:00,  1.18s/it]\n"
     ]
    },
    {
     "name": "stdout",
     "output_type": "stream",
     "text": [
      "Visiting https://www.domain.com.au/rent/?ptype=house&bedrooms=2&postcode=3805&sort=dateupdated-desc&page=1\n",
      "No results found on page https://www.domain.com.au/rent/?ptype=house&bedrooms=2&postcode=3805&sort=dateupdated-desc&page=1\n"
     ]
    },
    {
     "name": "stderr",
     "output_type": "stream",
     "text": [
      "Processing Part 7, Postcode 3805: 0it [00:00, ?it/s]"
     ]
    },
    {
     "name": "stdout",
     "output_type": "stream",
     "text": [
      "Visiting https://www.domain.com.au/rent/?ptype=house&bedrooms=3&postcode=3805&sort=dateupdated-desc&page=1\n"
     ]
    },
    {
     "name": "stderr",
     "output_type": "stream",
     "text": [
      "\n",
      "Processing Part 7, Postcode 3805: 100%|█████████████████████████████████████████████████| 17/17 [00:22<00:00,  1.31s/it]\n"
     ]
    },
    {
     "name": "stdout",
     "output_type": "stream",
     "text": [
      "Visiting https://www.domain.com.au/rent/?ptype=house&bedrooms=4&postcode=3805&sort=dateupdated-desc&page=1\n"
     ]
    },
    {
     "name": "stderr",
     "output_type": "stream",
     "text": [
      "Processing Part 7, Postcode 3805: 100%|█████████████████████████████████████████████████| 11/11 [00:12<00:00,  1.14s/it]\n"
     ]
    },
    {
     "name": "stdout",
     "output_type": "stream",
     "text": [
      "Visiting https://www.domain.com.au/rent/?ptype=apartment&bedrooms=1&postcode=3976&sort=dateupdated-desc&page=1\n",
      "No results found on page https://www.domain.com.au/rent/?ptype=apartment&bedrooms=1&postcode=3976&sort=dateupdated-desc&page=1\n"
     ]
    },
    {
     "name": "stderr",
     "output_type": "stream",
     "text": [
      "Processing Part 7, Postcode 3976: 0it [00:00, ?it/s]"
     ]
    },
    {
     "name": "stdout",
     "output_type": "stream",
     "text": [
      "Visiting https://www.domain.com.au/rent/?ptype=apartment&bedrooms=2&postcode=3976&sort=dateupdated-desc&page=1\n"
     ]
    },
    {
     "name": "stderr",
     "output_type": "stream",
     "text": [
      "\n",
      "Processing Part 7, Postcode 3976: 100%|███████████████████████████████████████████████████| 2/2 [00:01<00:00,  1.02it/s]\n"
     ]
    },
    {
     "name": "stdout",
     "output_type": "stream",
     "text": [
      "Visiting https://www.domain.com.au/rent/?ptype=apartment&bedrooms=3&postcode=3976&sort=dateupdated-desc&page=1\n"
     ]
    },
    {
     "name": "stderr",
     "output_type": "stream",
     "text": [
      "Processing Part 7, Postcode 3976: 100%|███████████████████████████████████████████████████| 1/1 [00:01<00:00,  1.08s/it]\n"
     ]
    },
    {
     "name": "stdout",
     "output_type": "stream",
     "text": [
      "Visiting https://www.domain.com.au/rent/?ptype=house&bedrooms=2&postcode=3976&sort=dateupdated-desc&page=1\n"
     ]
    },
    {
     "name": "stderr",
     "output_type": "stream",
     "text": [
      "Processing Part 7, Postcode 3976: 100%|███████████████████████████████████████████████████| 2/2 [00:04<00:00,  2.30s/it]\n"
     ]
    },
    {
     "name": "stdout",
     "output_type": "stream",
     "text": [
      "Visiting https://www.domain.com.au/rent/?ptype=house&bedrooms=3&postcode=3976&sort=dateupdated-desc&page=1\n"
     ]
    },
    {
     "name": "stderr",
     "output_type": "stream",
     "text": [
      "Processing Part 7, Postcode 3976: 100%|█████████████████████████████████████████████████| 12/12 [00:13<00:00,  1.10s/it]\n"
     ]
    },
    {
     "name": "stdout",
     "output_type": "stream",
     "text": [
      "Visiting https://www.domain.com.au/rent/?ptype=house&bedrooms=4&postcode=3976&sort=dateupdated-desc&page=1\n"
     ]
    },
    {
     "name": "stderr",
     "output_type": "stream",
     "text": [
      "Processing Part 7, Postcode 3976: 100%|███████████████████████████████████████████████████| 6/6 [00:07<00:00,  1.18s/it]\n"
     ]
    },
    {
     "name": "stdout",
     "output_type": "stream",
     "text": [
      "Visiting https://www.domain.com.au/rent/?ptype=apartment&bedrooms=1&postcode=3174&sort=dateupdated-desc&page=1\n"
     ]
    },
    {
     "name": "stderr",
     "output_type": "stream",
     "text": [
      "Processing Part 7, Postcode 3174: 100%|█████████████████████████████████████████████████| 11/11 [00:11<00:00,  1.07s/it]\n"
     ]
    },
    {
     "name": "stdout",
     "output_type": "stream",
     "text": [
      "Visiting https://www.domain.com.au/rent/?ptype=apartment&bedrooms=2&postcode=3174&sort=dateupdated-desc&page=1\n"
     ]
    },
    {
     "name": "stderr",
     "output_type": "stream",
     "text": [
      "Processing Part 7, Postcode 3174: 100%|█████████████████████████████████████████████████| 14/14 [00:16<00:00,  1.16s/it]\n"
     ]
    },
    {
     "name": "stdout",
     "output_type": "stream",
     "text": [
      "Visiting https://www.domain.com.au/rent/?ptype=apartment&bedrooms=3&postcode=3174&sort=dateupdated-desc&page=1\n"
     ]
    },
    {
     "name": "stderr",
     "output_type": "stream",
     "text": [
      "Processing Part 7, Postcode 3174: 100%|███████████████████████████████████████████████████| 4/4 [00:05<00:00,  1.42s/it]\n"
     ]
    },
    {
     "name": "stdout",
     "output_type": "stream",
     "text": [
      "Visiting https://www.domain.com.au/rent/?ptype=house&bedrooms=2&postcode=3174&sort=dateupdated-desc&page=1\n"
     ]
    },
    {
     "name": "stderr",
     "output_type": "stream",
     "text": [
      "Processing Part 7, Postcode 3174: 100%|███████████████████████████████████████████████████| 1/1 [00:01<00:00,  1.08s/it]\n"
     ]
    },
    {
     "name": "stdout",
     "output_type": "stream",
     "text": [
      "Visiting https://www.domain.com.au/rent/?ptype=house&bedrooms=3&postcode=3174&sort=dateupdated-desc&page=1\n"
     ]
    },
    {
     "name": "stderr",
     "output_type": "stream",
     "text": [
      "Processing Part 7, Postcode 3174: 100%|█████████████████████████████████████████████████| 14/14 [00:15<00:00,  1.08s/it]\n"
     ]
    },
    {
     "name": "stdout",
     "output_type": "stream",
     "text": [
      "Visiting https://www.domain.com.au/rent/?ptype=house&bedrooms=4&postcode=3174&sort=dateupdated-desc&page=1\n"
     ]
    },
    {
     "name": "stderr",
     "output_type": "stream",
     "text": [
      "Processing Part 7, Postcode 3174: 100%|███████████████████████████████████████████████████| 1/1 [00:01<00:00,  1.64s/it]\n"
     ]
    },
    {
     "name": "stdout",
     "output_type": "stream",
     "text": [
      "Completed processing Part 7/10. Data saved to ../../data/raw/domain/temp_parts/property_part_7.csv\n",
      "Visiting https://www.domain.com.au/rent/?ptype=apartment&bedrooms=1&postcode=3810&sort=dateupdated-desc&page=1\n",
      "No results found on page https://www.domain.com.au/rent/?ptype=apartment&bedrooms=1&postcode=3810&sort=dateupdated-desc&page=1\n"
     ]
    },
    {
     "name": "stderr",
     "output_type": "stream",
     "text": [
      "Processing Part 8, Postcode 3810: 0it [00:00, ?it/s]"
     ]
    },
    {
     "name": "stdout",
     "output_type": "stream",
     "text": [
      "Visiting https://www.domain.com.au/rent/?ptype=apartment&bedrooms=2&postcode=3810&sort=dateupdated-desc&page=1\n"
     ]
    },
    {
     "name": "stderr",
     "output_type": "stream",
     "text": [
      "\n",
      "Processing Part 8, Postcode 3810: 100%|███████████████████████████████████████████████████| 1/1 [00:00<00:00,  1.01it/s]\n"
     ]
    },
    {
     "name": "stdout",
     "output_type": "stream",
     "text": [
      "Visiting https://www.domain.com.au/rent/?ptype=apartment&bedrooms=3&postcode=3810&sort=dateupdated-desc&page=1\n"
     ]
    },
    {
     "name": "stderr",
     "output_type": "stream",
     "text": [
      "Processing Part 8, Postcode 3810: 100%|███████████████████████████████████████████████████| 3/3 [00:05<00:00,  1.68s/it]\n"
     ]
    },
    {
     "name": "stdout",
     "output_type": "stream",
     "text": [
      "Visiting https://www.domain.com.au/rent/?ptype=house&bedrooms=2&postcode=3810&sort=dateupdated-desc&page=1\n"
     ]
    },
    {
     "name": "stderr",
     "output_type": "stream",
     "text": [
      "Processing Part 8, Postcode 3810: 100%|███████████████████████████████████████████████████| 1/1 [00:01<00:00,  1.21s/it]\n"
     ]
    },
    {
     "name": "stdout",
     "output_type": "stream",
     "text": [
      "Visiting https://www.domain.com.au/rent/?ptype=house&bedrooms=3&postcode=3810&sort=dateupdated-desc&page=1\n"
     ]
    },
    {
     "name": "stderr",
     "output_type": "stream",
     "text": [
      "Processing Part 8, Postcode 3810: 100%|█████████████████████████████████████████████████| 20/20 [00:22<00:00,  1.12s/it]\n"
     ]
    },
    {
     "name": "stdout",
     "output_type": "stream",
     "text": [
      "Visiting https://www.domain.com.au/rent/?ptype=house&bedrooms=4&postcode=3810&sort=dateupdated-desc&page=1\n"
     ]
    },
    {
     "name": "stderr",
     "output_type": "stream",
     "text": [
      "Processing Part 8, Postcode 3810: 100%|█████████████████████████████████████████████████| 20/20 [00:24<00:00,  1.21s/it]\n"
     ]
    },
    {
     "name": "stdout",
     "output_type": "stream",
     "text": [
      "Visiting https://www.domain.com.au/rent/?ptype=apartment&bedrooms=1&postcode=3171&sort=dateupdated-desc&page=1\n",
      "No results found on page https://www.domain.com.au/rent/?ptype=apartment&bedrooms=1&postcode=3171&sort=dateupdated-desc&page=1\n"
     ]
    },
    {
     "name": "stderr",
     "output_type": "stream",
     "text": [
      "Processing Part 8, Postcode 3171: 0it [00:00, ?it/s]"
     ]
    },
    {
     "name": "stdout",
     "output_type": "stream",
     "text": [
      "Visiting https://www.domain.com.au/rent/?ptype=apartment&bedrooms=2&postcode=3171&sort=dateupdated-desc&page=1\n"
     ]
    },
    {
     "name": "stderr",
     "output_type": "stream",
     "text": [
      "\n",
      "Processing Part 8, Postcode 3171: 100%|███████████████████████████████████████████████████| 9/9 [00:10<00:00,  1.11s/it]\n"
     ]
    },
    {
     "name": "stdout",
     "output_type": "stream",
     "text": [
      "Visiting https://www.domain.com.au/rent/?ptype=apartment&bedrooms=3&postcode=3171&sort=dateupdated-desc&page=1\n"
     ]
    },
    {
     "name": "stderr",
     "output_type": "stream",
     "text": [
      "Processing Part 8, Postcode 3171: 100%|███████████████████████████████████████████████████| 4/4 [00:04<00:00,  1.13s/it]\n"
     ]
    },
    {
     "name": "stdout",
     "output_type": "stream",
     "text": [
      "Visiting https://www.domain.com.au/rent/?ptype=house&bedrooms=2&postcode=3171&sort=dateupdated-desc&page=1\n"
     ]
    },
    {
     "name": "stderr",
     "output_type": "stream",
     "text": [
      "Processing Part 8, Postcode 3171: 100%|███████████████████████████████████████████████████| 1/1 [00:00<00:00,  1.03it/s]\n"
     ]
    },
    {
     "name": "stdout",
     "output_type": "stream",
     "text": [
      "Visiting https://www.domain.com.au/rent/?ptype=house&bedrooms=3&postcode=3171&sort=dateupdated-desc&page=1\n"
     ]
    },
    {
     "name": "stderr",
     "output_type": "stream",
     "text": [
      "Processing Part 8, Postcode 3171: 100%|█████████████████████████████████████████████████| 16/16 [00:17<00:00,  1.12s/it]\n"
     ]
    },
    {
     "name": "stdout",
     "output_type": "stream",
     "text": [
      "Visiting https://www.domain.com.au/rent/?ptype=house&bedrooms=4&postcode=3171&sort=dateupdated-desc&page=1\n"
     ]
    },
    {
     "name": "stderr",
     "output_type": "stream",
     "text": [
      "Processing Part 8, Postcode 3171: 100%|███████████████████████████████████████████████████| 1/1 [00:01<00:00,  1.15s/it]\n"
     ]
    },
    {
     "name": "stdout",
     "output_type": "stream",
     "text": [
      "Visiting https://www.domain.com.au/rent/?ptype=apartment&bedrooms=1&postcode=3172&sort=dateupdated-desc&page=1\n",
      "No results found on page https://www.domain.com.au/rent/?ptype=apartment&bedrooms=1&postcode=3172&sort=dateupdated-desc&page=1\n"
     ]
    },
    {
     "name": "stderr",
     "output_type": "stream",
     "text": [
      "Processing Part 8, Postcode 3172: 0it [00:00, ?it/s]"
     ]
    },
    {
     "name": "stdout",
     "output_type": "stream",
     "text": [
      "Visiting https://www.domain.com.au/rent/?ptype=apartment&bedrooms=2&postcode=3172&sort=dateupdated-desc&page=1\n"
     ]
    },
    {
     "name": "stderr",
     "output_type": "stream",
     "text": [
      "\n"
     ]
    },
    {
     "name": "stdout",
     "output_type": "stream",
     "text": [
      "No results found on page https://www.domain.com.au/rent/?ptype=apartment&bedrooms=2&postcode=3172&sort=dateupdated-desc&page=1\n"
     ]
    },
    {
     "name": "stderr",
     "output_type": "stream",
     "text": [
      "Processing Part 8, Postcode 3172: 0it [00:00, ?it/s]"
     ]
    },
    {
     "name": "stdout",
     "output_type": "stream",
     "text": [
      "Visiting https://www.domain.com.au/rent/?ptype=apartment&bedrooms=3&postcode=3172&sort=dateupdated-desc&page=1\n"
     ]
    },
    {
     "name": "stderr",
     "output_type": "stream",
     "text": [
      "\n",
      "Processing Part 8, Postcode 3172: 100%|███████████████████████████████████████████████████| 1/1 [00:01<00:00,  1.13s/it]\n"
     ]
    },
    {
     "name": "stdout",
     "output_type": "stream",
     "text": [
      "Visiting https://www.domain.com.au/rent/?ptype=house&bedrooms=2&postcode=3172&sort=dateupdated-desc&page=1\n",
      "No results found on page https://www.domain.com.au/rent/?ptype=house&bedrooms=2&postcode=3172&sort=dateupdated-desc&page=1\n"
     ]
    },
    {
     "name": "stderr",
     "output_type": "stream",
     "text": [
      "Processing Part 8, Postcode 3172: 0it [00:00, ?it/s]"
     ]
    },
    {
     "name": "stdout",
     "output_type": "stream",
     "text": [
      "Visiting https://www.domain.com.au/rent/?ptype=house&bedrooms=3&postcode=3172&sort=dateupdated-desc&page=1\n"
     ]
    },
    {
     "name": "stderr",
     "output_type": "stream",
     "text": [
      "\n",
      "Processing Part 8, Postcode 3172: 100%|███████████████████████████████████████████████████| 4/4 [00:05<00:00,  1.32s/it]\n"
     ]
    },
    {
     "name": "stdout",
     "output_type": "stream",
     "text": [
      "Visiting https://www.domain.com.au/rent/?ptype=house&bedrooms=4&postcode=3172&sort=dateupdated-desc&page=1\n"
     ]
    },
    {
     "name": "stderr",
     "output_type": "stream",
     "text": [
      "Processing Part 8, Postcode 3172: 100%|███████████████████████████████████████████████████| 2/2 [00:02<00:00,  1.22s/it]\n"
     ]
    },
    {
     "name": "stdout",
     "output_type": "stream",
     "text": [
      "Visiting https://www.domain.com.au/rent/?ptype=apartment&bedrooms=1&postcode=3936&sort=dateupdated-desc&page=1\n",
      "No results found on page https://www.domain.com.au/rent/?ptype=apartment&bedrooms=1&postcode=3936&sort=dateupdated-desc&page=1\n"
     ]
    },
    {
     "name": "stderr",
     "output_type": "stream",
     "text": [
      "Processing Part 8, Postcode 3936: 0it [00:00, ?it/s]"
     ]
    },
    {
     "name": "stdout",
     "output_type": "stream",
     "text": [
      "Visiting https://www.domain.com.au/rent/?ptype=apartment&bedrooms=2&postcode=3936&sort=dateupdated-desc&page=1\n"
     ]
    },
    {
     "name": "stderr",
     "output_type": "stream",
     "text": [
      "\n"
     ]
    },
    {
     "name": "stdout",
     "output_type": "stream",
     "text": [
      "No results found on page https://www.domain.com.au/rent/?ptype=apartment&bedrooms=2&postcode=3936&sort=dateupdated-desc&page=1\n"
     ]
    },
    {
     "name": "stderr",
     "output_type": "stream",
     "text": [
      "Processing Part 8, Postcode 3936: 0it [00:00, ?it/s]"
     ]
    },
    {
     "name": "stdout",
     "output_type": "stream",
     "text": [
      "Visiting https://www.domain.com.au/rent/?ptype=apartment&bedrooms=3&postcode=3936&sort=dateupdated-desc&page=1\n"
     ]
    },
    {
     "name": "stderr",
     "output_type": "stream",
     "text": [
      "\n"
     ]
    },
    {
     "name": "stdout",
     "output_type": "stream",
     "text": [
      "No results found on page https://www.domain.com.au/rent/?ptype=apartment&bedrooms=3&postcode=3936&sort=dateupdated-desc&page=1\n"
     ]
    },
    {
     "name": "stderr",
     "output_type": "stream",
     "text": [
      "Processing Part 8, Postcode 3936: 0it [00:00, ?it/s]"
     ]
    },
    {
     "name": "stdout",
     "output_type": "stream",
     "text": [
      "Visiting https://www.domain.com.au/rent/?ptype=house&bedrooms=2&postcode=3936&sort=dateupdated-desc&page=1\n"
     ]
    },
    {
     "name": "stderr",
     "output_type": "stream",
     "text": [
      "\n",
      "Processing Part 8, Postcode 3936: 100%|███████████████████████████████████████████████████| 1/1 [00:01<00:00,  1.12s/it]\n"
     ]
    },
    {
     "name": "stdout",
     "output_type": "stream",
     "text": [
      "Visiting https://www.domain.com.au/rent/?ptype=house&bedrooms=3&postcode=3936&sort=dateupdated-desc&page=1\n"
     ]
    },
    {
     "name": "stderr",
     "output_type": "stream",
     "text": [
      "Processing Part 8, Postcode 3936: 100%|███████████████████████████████████████████████████| 3/3 [00:03<00:00,  1.06s/it]\n"
     ]
    },
    {
     "name": "stdout",
     "output_type": "stream",
     "text": [
      "Visiting https://www.domain.com.au/rent/?ptype=house&bedrooms=4&postcode=3936&sort=dateupdated-desc&page=1\n"
     ]
    },
    {
     "name": "stderr",
     "output_type": "stream",
     "text": [
      "Processing Part 8, Postcode 3936: 100%|███████████████████████████████████████████████████| 8/8 [00:08<00:00,  1.09s/it]\n"
     ]
    },
    {
     "name": "stdout",
     "output_type": "stream",
     "text": [
      "Visiting https://www.domain.com.au/rent/?ptype=apartment&bedrooms=1&postcode=3944&sort=dateupdated-desc&page=1\n",
      "No results found on page https://www.domain.com.au/rent/?ptype=apartment&bedrooms=1&postcode=3944&sort=dateupdated-desc&page=1\n"
     ]
    },
    {
     "name": "stderr",
     "output_type": "stream",
     "text": [
      "Processing Part 8, Postcode 3944: 0it [00:00, ?it/s]"
     ]
    },
    {
     "name": "stdout",
     "output_type": "stream",
     "text": [
      "Visiting https://www.domain.com.au/rent/?ptype=apartment&bedrooms=2&postcode=3944&sort=dateupdated-desc&page=1\n"
     ]
    },
    {
     "name": "stderr",
     "output_type": "stream",
     "text": [
      "\n",
      "Processing Part 8, Postcode 3944: 100%|███████████████████████████████████████████████████| 2/2 [00:02<00:00,  1.10s/it]\n"
     ]
    },
    {
     "name": "stdout",
     "output_type": "stream",
     "text": [
      "Visiting https://www.domain.com.au/rent/?ptype=apartment&bedrooms=3&postcode=3944&sort=dateupdated-desc&page=1\n"
     ]
    },
    {
     "name": "stderr",
     "output_type": "stream",
     "text": [
      "Processing Part 8, Postcode 3944: 100%|███████████████████████████████████████████████████| 1/1 [00:01<00:00,  1.07s/it]\n"
     ]
    },
    {
     "name": "stdout",
     "output_type": "stream",
     "text": [
      "Visiting https://www.domain.com.au/rent/?ptype=house&bedrooms=2&postcode=3944&sort=dateupdated-desc&page=1\n",
      "No results found on page https://www.domain.com.au/rent/?ptype=house&bedrooms=2&postcode=3944&sort=dateupdated-desc&page=1\n"
     ]
    },
    {
     "name": "stderr",
     "output_type": "stream",
     "text": [
      "Processing Part 8, Postcode 3944: 0it [00:00, ?it/s]"
     ]
    },
    {
     "name": "stdout",
     "output_type": "stream",
     "text": [
      "Visiting https://www.domain.com.au/rent/?ptype=house&bedrooms=3&postcode=3944&sort=dateupdated-desc&page=1\n"
     ]
    },
    {
     "name": "stderr",
     "output_type": "stream",
     "text": [
      "\n",
      "Processing Part 8, Postcode 3944: 100%|███████████████████████████████████████████████████| 1/1 [00:01<00:00,  1.63s/it]\n"
     ]
    },
    {
     "name": "stdout",
     "output_type": "stream",
     "text": [
      "Visiting https://www.domain.com.au/rent/?ptype=house&bedrooms=4&postcode=3944&sort=dateupdated-desc&page=1\n"
     ]
    },
    {
     "name": "stderr",
     "output_type": "stream",
     "text": [
      "Processing Part 8, Postcode 3944: 100%|███████████████████████████████████████████████████| 2/2 [00:02<00:00,  1.22s/it]\n"
     ]
    },
    {
     "name": "stdout",
     "output_type": "stream",
     "text": [
      "Visiting https://www.domain.com.au/rent/?ptype=apartment&bedrooms=1&postcode=3199&sort=dateupdated-desc&page=1\n"
     ]
    },
    {
     "name": "stderr",
     "output_type": "stream",
     "text": [
      "Processing Part 8, Postcode 3199: 100%|█████████████████████████████████████████████████| 20/20 [00:22<00:00,  1.13s/it]\n"
     ]
    },
    {
     "name": "stdout",
     "output_type": "stream",
     "text": [
      "Visiting https://www.domain.com.au/rent/?ptype=apartment&bedrooms=2&postcode=3199&sort=dateupdated-desc&page=1\n"
     ]
    },
    {
     "name": "stderr",
     "output_type": "stream",
     "text": [
      "Processing Part 8, Postcode 3199: 100%|█████████████████████████████████████████████████| 20/20 [00:26<00:00,  1.34s/it]\n"
     ]
    },
    {
     "name": "stdout",
     "output_type": "stream",
     "text": [
      "Visiting https://www.domain.com.au/rent/?ptype=apartment&bedrooms=3&postcode=3199&sort=dateupdated-desc&page=1\n"
     ]
    },
    {
     "name": "stderr",
     "output_type": "stream",
     "text": [
      "Processing Part 8, Postcode 3199: 100%|███████████████████████████████████████████████████| 4/4 [00:04<00:00,  1.17s/it]\n"
     ]
    },
    {
     "name": "stdout",
     "output_type": "stream",
     "text": [
      "Visiting https://www.domain.com.au/rent/?ptype=house&bedrooms=2&postcode=3199&sort=dateupdated-desc&page=1\n"
     ]
    },
    {
     "name": "stderr",
     "output_type": "stream",
     "text": [
      "Processing Part 8, Postcode 3199: 100%|███████████████████████████████████████████████████| 4/4 [00:08<00:00,  2.20s/it]\n"
     ]
    },
    {
     "name": "stdout",
     "output_type": "stream",
     "text": [
      "Visiting https://www.domain.com.au/rent/?ptype=house&bedrooms=3&postcode=3199&sort=dateupdated-desc&page=1\n"
     ]
    },
    {
     "name": "stderr",
     "output_type": "stream",
     "text": [
      "Processing Part 8, Postcode 3199: 100%|█████████████████████████████████████████████████| 20/20 [00:23<00:00,  1.18s/it]\n"
     ]
    },
    {
     "name": "stdout",
     "output_type": "stream",
     "text": [
      "Visiting https://www.domain.com.au/rent/?ptype=house&bedrooms=4&postcode=3199&sort=dateupdated-desc&page=1\n"
     ]
    },
    {
     "name": "stderr",
     "output_type": "stream",
     "text": [
      "Processing Part 8, Postcode 3199: 100%|█████████████████████████████████████████████████| 17/17 [00:19<00:00,  1.16s/it]\n"
     ]
    },
    {
     "name": "stdout",
     "output_type": "stream",
     "text": [
      "Visiting https://www.domain.com.au/rent/?ptype=apartment&bedrooms=1&postcode=3200&sort=dateupdated-desc&page=1\n",
      "No results found on page https://www.domain.com.au/rent/?ptype=apartment&bedrooms=1&postcode=3200&sort=dateupdated-desc&page=1\n"
     ]
    },
    {
     "name": "stderr",
     "output_type": "stream",
     "text": [
      "Processing Part 8, Postcode 3200: 0it [00:00, ?it/s]"
     ]
    },
    {
     "name": "stdout",
     "output_type": "stream",
     "text": [
      "Visiting https://www.domain.com.au/rent/?ptype=apartment&bedrooms=2&postcode=3200&sort=dateupdated-desc&page=1\n"
     ]
    },
    {
     "name": "stderr",
     "output_type": "stream",
     "text": [
      "\n"
     ]
    },
    {
     "name": "stdout",
     "output_type": "stream",
     "text": [
      "No results found on page https://www.domain.com.au/rent/?ptype=apartment&bedrooms=2&postcode=3200&sort=dateupdated-desc&page=1\n"
     ]
    },
    {
     "name": "stderr",
     "output_type": "stream",
     "text": [
      "Processing Part 8, Postcode 3200: 0it [00:00, ?it/s]"
     ]
    },
    {
     "name": "stdout",
     "output_type": "stream",
     "text": [
      "Visiting https://www.domain.com.au/rent/?ptype=apartment&bedrooms=3&postcode=3200&sort=dateupdated-desc&page=1\n"
     ]
    },
    {
     "name": "stderr",
     "output_type": "stream",
     "text": [
      "\n"
     ]
    },
    {
     "name": "stdout",
     "output_type": "stream",
     "text": [
      "No results found on page https://www.domain.com.au/rent/?ptype=apartment&bedrooms=3&postcode=3200&sort=dateupdated-desc&page=1\n"
     ]
    },
    {
     "name": "stderr",
     "output_type": "stream",
     "text": [
      "Processing Part 8, Postcode 3200: 0it [00:00, ?it/s]"
     ]
    },
    {
     "name": "stdout",
     "output_type": "stream",
     "text": [
      "Visiting https://www.domain.com.au/rent/?ptype=house&bedrooms=2&postcode=3200&sort=dateupdated-desc&page=1\n"
     ]
    },
    {
     "name": "stderr",
     "output_type": "stream",
     "text": [
      "\n"
     ]
    },
    {
     "name": "stdout",
     "output_type": "stream",
     "text": [
      "No results found on page https://www.domain.com.au/rent/?ptype=house&bedrooms=2&postcode=3200&sort=dateupdated-desc&page=1\n"
     ]
    },
    {
     "name": "stderr",
     "output_type": "stream",
     "text": [
      "Processing Part 8, Postcode 3200: 0it [00:00, ?it/s]"
     ]
    },
    {
     "name": "stdout",
     "output_type": "stream",
     "text": [
      "Visiting https://www.domain.com.au/rent/?ptype=house&bedrooms=3&postcode=3200&sort=dateupdated-desc&page=1\n"
     ]
    },
    {
     "name": "stderr",
     "output_type": "stream",
     "text": [
      "\n",
      "Processing Part 8, Postcode 3200: 100%|█████████████████████████████████████████████████| 12/12 [00:13<00:00,  1.11s/it]\n"
     ]
    },
    {
     "name": "stdout",
     "output_type": "stream",
     "text": [
      "Visiting https://www.domain.com.au/rent/?ptype=house&bedrooms=4&postcode=3200&sort=dateupdated-desc&page=1\n",
      "No results found on page https://www.domain.com.au/rent/?ptype=house&bedrooms=4&postcode=3200&sort=dateupdated-desc&page=1\n"
     ]
    },
    {
     "name": "stderr",
     "output_type": "stream",
     "text": [
      "Processing Part 8, Postcode 3200: 0it [00:00, ?it/s]"
     ]
    },
    {
     "name": "stdout",
     "output_type": "stream",
     "text": [
      "Visiting https://www.domain.com.au/rent/?ptype=apartment&bedrooms=1&postcode=3915&sort=dateupdated-desc&page=1\n"
     ]
    },
    {
     "name": "stderr",
     "output_type": "stream",
     "text": [
      "\n"
     ]
    },
    {
     "name": "stdout",
     "output_type": "stream",
     "text": [
      "No results found on page https://www.domain.com.au/rent/?ptype=apartment&bedrooms=1&postcode=3915&sort=dateupdated-desc&page=1\n"
     ]
    },
    {
     "name": "stderr",
     "output_type": "stream",
     "text": [
      "Processing Part 8, Postcode 3915: 0it [00:00, ?it/s]"
     ]
    },
    {
     "name": "stdout",
     "output_type": "stream",
     "text": [
      "Visiting https://www.domain.com.au/rent/?ptype=apartment&bedrooms=2&postcode=3915&sort=dateupdated-desc&page=1\n"
     ]
    },
    {
     "name": "stderr",
     "output_type": "stream",
     "text": [
      "\n",
      "Processing Part 8, Postcode 3915: 100%|███████████████████████████████████████████████████| 3/3 [00:03<00:00,  1.07s/it]\n"
     ]
    },
    {
     "name": "stdout",
     "output_type": "stream",
     "text": [
      "Visiting https://www.domain.com.au/rent/?ptype=apartment&bedrooms=3&postcode=3915&sort=dateupdated-desc&page=1\n",
      "No results found on page https://www.domain.com.au/rent/?ptype=apartment&bedrooms=3&postcode=3915&sort=dateupdated-desc&page=1\n"
     ]
    },
    {
     "name": "stderr",
     "output_type": "stream",
     "text": [
      "Processing Part 8, Postcode 3915: 0it [00:00, ?it/s]"
     ]
    },
    {
     "name": "stdout",
     "output_type": "stream",
     "text": [
      "Visiting https://www.domain.com.au/rent/?ptype=house&bedrooms=2&postcode=3915&sort=dateupdated-desc&page=1\n"
     ]
    },
    {
     "name": "stderr",
     "output_type": "stream",
     "text": [
      "\n",
      "Processing Part 8, Postcode 3915: 100%|███████████████████████████████████████████████████| 1/1 [00:01<00:00,  1.07s/it]\n"
     ]
    },
    {
     "name": "stdout",
     "output_type": "stream",
     "text": [
      "Visiting https://www.domain.com.au/rent/?ptype=house&bedrooms=3&postcode=3915&sort=dateupdated-desc&page=1\n"
     ]
    },
    {
     "name": "stderr",
     "output_type": "stream",
     "text": [
      "Processing Part 8, Postcode 3915: 100%|███████████████████████████████████████████████████| 6/6 [00:06<00:00,  1.09s/it]\n"
     ]
    },
    {
     "name": "stdout",
     "output_type": "stream",
     "text": [
      "Visiting https://www.domain.com.au/rent/?ptype=house&bedrooms=4&postcode=3915&sort=dateupdated-desc&page=1\n"
     ]
    },
    {
     "name": "stderr",
     "output_type": "stream",
     "text": [
      "Processing Part 8, Postcode 3915: 100%|███████████████████████████████████████████████████| 2/2 [00:02<00:00,  1.14s/it]\n"
     ]
    },
    {
     "name": "stdout",
     "output_type": "stream",
     "text": [
      "Visiting https://www.domain.com.au/rent/?ptype=apartment&bedrooms=1&postcode=3929&sort=dateupdated-desc&page=1\n",
      "No results found on page https://www.domain.com.au/rent/?ptype=apartment&bedrooms=1&postcode=3929&sort=dateupdated-desc&page=1\n"
     ]
    },
    {
     "name": "stderr",
     "output_type": "stream",
     "text": [
      "Processing Part 8, Postcode 3929: 0it [00:00, ?it/s]"
     ]
    },
    {
     "name": "stdout",
     "output_type": "stream",
     "text": [
      "Visiting https://www.domain.com.au/rent/?ptype=apartment&bedrooms=2&postcode=3929&sort=dateupdated-desc&page=1\n"
     ]
    },
    {
     "name": "stderr",
     "output_type": "stream",
     "text": [
      "\n",
      "Processing Part 8, Postcode 3929: 100%|███████████████████████████████████████████████████| 2/2 [00:03<00:00,  1.71s/it]\n"
     ]
    },
    {
     "name": "stdout",
     "output_type": "stream",
     "text": [
      "Visiting https://www.domain.com.au/rent/?ptype=apartment&bedrooms=3&postcode=3929&sort=dateupdated-desc&page=1\n",
      "No results found on page https://www.domain.com.au/rent/?ptype=apartment&bedrooms=3&postcode=3929&sort=dateupdated-desc&page=1\n"
     ]
    },
    {
     "name": "stderr",
     "output_type": "stream",
     "text": [
      "Processing Part 8, Postcode 3929: 0it [00:00, ?it/s]"
     ]
    },
    {
     "name": "stdout",
     "output_type": "stream",
     "text": [
      "Visiting https://www.domain.com.au/rent/?ptype=house&bedrooms=2&postcode=3929&sort=dateupdated-desc&page=1\n"
     ]
    },
    {
     "name": "stderr",
     "output_type": "stream",
     "text": [
      "\n"
     ]
    },
    {
     "name": "stdout",
     "output_type": "stream",
     "text": [
      "No results found on page https://www.domain.com.au/rent/?ptype=house&bedrooms=2&postcode=3929&sort=dateupdated-desc&page=1\n"
     ]
    },
    {
     "name": "stderr",
     "output_type": "stream",
     "text": [
      "Processing Part 8, Postcode 3929: 0it [00:00, ?it/s]"
     ]
    },
    {
     "name": "stdout",
     "output_type": "stream",
     "text": [
      "Visiting https://www.domain.com.au/rent/?ptype=house&bedrooms=3&postcode=3929&sort=dateupdated-desc&page=1\n"
     ]
    },
    {
     "name": "stderr",
     "output_type": "stream",
     "text": [
      "\n",
      "Processing Part 8, Postcode 3929: 100%|███████████████████████████████████████████████████| 1/1 [00:01<00:00,  1.24s/it]\n"
     ]
    },
    {
     "name": "stdout",
     "output_type": "stream",
     "text": [
      "Visiting https://www.domain.com.au/rent/?ptype=house&bedrooms=4&postcode=3929&sort=dateupdated-desc&page=1\n"
     ]
    },
    {
     "name": "stderr",
     "output_type": "stream",
     "text": [
      "Processing Part 8, Postcode 3929: 100%|███████████████████████████████████████████████████| 1/1 [00:01<00:00,  1.30s/it]\n"
     ]
    },
    {
     "name": "stdout",
     "output_type": "stream",
     "text": [
      "Visiting https://www.domain.com.au/rent/?ptype=apartment&bedrooms=1&postcode=3930&sort=dateupdated-desc&page=1\n",
      "No results found on page https://www.domain.com.au/rent/?ptype=apartment&bedrooms=1&postcode=3930&sort=dateupdated-desc&page=1\n"
     ]
    },
    {
     "name": "stderr",
     "output_type": "stream",
     "text": [
      "Processing Part 8, Postcode 3930: 0it [00:00, ?it/s]"
     ]
    },
    {
     "name": "stdout",
     "output_type": "stream",
     "text": [
      "Visiting https://www.domain.com.au/rent/?ptype=apartment&bedrooms=2&postcode=3930&sort=dateupdated-desc&page=1\n"
     ]
    },
    {
     "name": "stderr",
     "output_type": "stream",
     "text": [
      "\n",
      "Processing Part 8, Postcode 3930: 100%|███████████████████████████████████████████████████| 1/1 [00:01<00:00,  1.04s/it]\n"
     ]
    },
    {
     "name": "stdout",
     "output_type": "stream",
     "text": [
      "Visiting https://www.domain.com.au/rent/?ptype=apartment&bedrooms=3&postcode=3930&sort=dateupdated-desc&page=1\n",
      "No results found on page https://www.domain.com.au/rent/?ptype=apartment&bedrooms=3&postcode=3930&sort=dateupdated-desc&page=1\n"
     ]
    },
    {
     "name": "stderr",
     "output_type": "stream",
     "text": [
      "Processing Part 8, Postcode 3930: 0it [00:00, ?it/s]"
     ]
    },
    {
     "name": "stdout",
     "output_type": "stream",
     "text": [
      "Visiting https://www.domain.com.au/rent/?ptype=house&bedrooms=2&postcode=3930&sort=dateupdated-desc&page=1\n"
     ]
    },
    {
     "name": "stderr",
     "output_type": "stream",
     "text": [
      "\n"
     ]
    },
    {
     "name": "stdout",
     "output_type": "stream",
     "text": [
      "No results found on page https://www.domain.com.au/rent/?ptype=house&bedrooms=2&postcode=3930&sort=dateupdated-desc&page=1\n"
     ]
    },
    {
     "name": "stderr",
     "output_type": "stream",
     "text": [
      "Processing Part 8, Postcode 3930: 0it [00:00, ?it/s]"
     ]
    },
    {
     "name": "stdout",
     "output_type": "stream",
     "text": [
      "Visiting https://www.domain.com.au/rent/?ptype=house&bedrooms=3&postcode=3930&sort=dateupdated-desc&page=1\n"
     ]
    },
    {
     "name": "stderr",
     "output_type": "stream",
     "text": [
      "\n",
      "Processing Part 8, Postcode 3930: 100%|███████████████████████████████████████████████████| 3/3 [00:04<00:00,  1.47s/it]\n"
     ]
    },
    {
     "name": "stdout",
     "output_type": "stream",
     "text": [
      "Visiting https://www.domain.com.au/rent/?ptype=house&bedrooms=4&postcode=3930&sort=dateupdated-desc&page=1\n"
     ]
    },
    {
     "name": "stderr",
     "output_type": "stream",
     "text": [
      "Processing Part 8, Postcode 3930: 100%|███████████████████████████████████████████████████| 7/7 [00:07<00:00,  1.06s/it]\n"
     ]
    },
    {
     "name": "stdout",
     "output_type": "stream",
     "text": [
      "Visiting https://www.domain.com.au/rent/?ptype=apartment&bedrooms=1&postcode=3931&sort=dateupdated-desc&page=1\n"
     ]
    },
    {
     "name": "stderr",
     "output_type": "stream",
     "text": [
      "Processing Part 8, Postcode 3931: 100%|███████████████████████████████████████████████████| 1/1 [00:02<00:00,  2.21s/it]\n"
     ]
    },
    {
     "name": "stdout",
     "output_type": "stream",
     "text": [
      "Visiting https://www.domain.com.au/rent/?ptype=apartment&bedrooms=2&postcode=3931&sort=dateupdated-desc&page=1\n"
     ]
    },
    {
     "name": "stderr",
     "output_type": "stream",
     "text": [
      "Processing Part 8, Postcode 3931: 100%|███████████████████████████████████████████████████| 3/3 [00:03<00:00,  1.20s/it]\n"
     ]
    },
    {
     "name": "stdout",
     "output_type": "stream",
     "text": [
      "Visiting https://www.domain.com.au/rent/?ptype=apartment&bedrooms=3&postcode=3931&sort=dateupdated-desc&page=1\n"
     ]
    },
    {
     "name": "stderr",
     "output_type": "stream",
     "text": [
      "Processing Part 8, Postcode 3931: 100%|███████████████████████████████████████████████████| 1/1 [00:01<00:00,  1.35s/it]\n"
     ]
    },
    {
     "name": "stdout",
     "output_type": "stream",
     "text": [
      "Visiting https://www.domain.com.au/rent/?ptype=house&bedrooms=2&postcode=3931&sort=dateupdated-desc&page=1\n",
      "No results found on page https://www.domain.com.au/rent/?ptype=house&bedrooms=2&postcode=3931&sort=dateupdated-desc&page=1\n"
     ]
    },
    {
     "name": "stderr",
     "output_type": "stream",
     "text": [
      "Processing Part 8, Postcode 3931: 0it [00:00, ?it/s]"
     ]
    },
    {
     "name": "stdout",
     "output_type": "stream",
     "text": [
      "Visiting https://www.domain.com.au/rent/?ptype=house&bedrooms=3&postcode=3931&sort=dateupdated-desc&page=1\n"
     ]
    },
    {
     "name": "stderr",
     "output_type": "stream",
     "text": [
      "\n",
      "Processing Part 8, Postcode 3931: 100%|█████████████████████████████████████████████████| 11/11 [00:12<00:00,  1.17s/it]\n"
     ]
    },
    {
     "name": "stdout",
     "output_type": "stream",
     "text": [
      "Visiting https://www.domain.com.au/rent/?ptype=house&bedrooms=4&postcode=3931&sort=dateupdated-desc&page=1\n"
     ]
    },
    {
     "name": "stderr",
     "output_type": "stream",
     "text": [
      "Processing Part 8, Postcode 3931: 100%|███████████████████████████████████████████████████| 2/2 [00:02<00:00,  1.08s/it]\n"
     ]
    },
    {
     "name": "stdout",
     "output_type": "stream",
     "text": [
      "Visiting https://www.domain.com.au/rent/?ptype=apartment&bedrooms=1&postcode=3934&sort=dateupdated-desc&page=1\n",
      "No results found on page https://www.domain.com.au/rent/?ptype=apartment&bedrooms=1&postcode=3934&sort=dateupdated-desc&page=1\n"
     ]
    },
    {
     "name": "stderr",
     "output_type": "stream",
     "text": [
      "Processing Part 8, Postcode 3934: 0it [00:00, ?it/s]"
     ]
    },
    {
     "name": "stdout",
     "output_type": "stream",
     "text": [
      "Visiting https://www.domain.com.au/rent/?ptype=apartment&bedrooms=2&postcode=3934&sort=dateupdated-desc&page=1\n"
     ]
    },
    {
     "name": "stderr",
     "output_type": "stream",
     "text": [
      "\n"
     ]
    },
    {
     "name": "stdout",
     "output_type": "stream",
     "text": [
      "No results found on page https://www.domain.com.au/rent/?ptype=apartment&bedrooms=2&postcode=3934&sort=dateupdated-desc&page=1\n"
     ]
    },
    {
     "name": "stderr",
     "output_type": "stream",
     "text": [
      "Processing Part 8, Postcode 3934: 0it [00:00, ?it/s]"
     ]
    },
    {
     "name": "stdout",
     "output_type": "stream",
     "text": [
      "Visiting https://www.domain.com.au/rent/?ptype=apartment&bedrooms=3&postcode=3934&sort=dateupdated-desc&page=1\n"
     ]
    },
    {
     "name": "stderr",
     "output_type": "stream",
     "text": [
      "\n"
     ]
    },
    {
     "name": "stdout",
     "output_type": "stream",
     "text": [
      "No results found on page https://www.domain.com.au/rent/?ptype=apartment&bedrooms=3&postcode=3934&sort=dateupdated-desc&page=1\n"
     ]
    },
    {
     "name": "stderr",
     "output_type": "stream",
     "text": [
      "Processing Part 8, Postcode 3934: 0it [00:00, ?it/s]"
     ]
    },
    {
     "name": "stdout",
     "output_type": "stream",
     "text": [
      "Visiting https://www.domain.com.au/rent/?ptype=house&bedrooms=2&postcode=3934&sort=dateupdated-desc&page=1\n"
     ]
    },
    {
     "name": "stderr",
     "output_type": "stream",
     "text": [
      "\n",
      "Processing Part 8, Postcode 3934: 100%|███████████████████████████████████████████████████| 1/1 [00:01<00:00,  1.08s/it]\n"
     ]
    },
    {
     "name": "stdout",
     "output_type": "stream",
     "text": [
      "Visiting https://www.domain.com.au/rent/?ptype=house&bedrooms=3&postcode=3934&sort=dateupdated-desc&page=1\n"
     ]
    },
    {
     "name": "stderr",
     "output_type": "stream",
     "text": [
      "Processing Part 8, Postcode 3934: 100%|███████████████████████████████████████████████████| 8/8 [00:08<00:00,  1.11s/it]\n"
     ]
    },
    {
     "name": "stdout",
     "output_type": "stream",
     "text": [
      "Visiting https://www.domain.com.au/rent/?ptype=house&bedrooms=4&postcode=3934&sort=dateupdated-desc&page=1\n"
     ]
    },
    {
     "name": "stderr",
     "output_type": "stream",
     "text": [
      "Processing Part 8, Postcode 3934: 100%|█████████████████████████████████████████████████| 13/13 [00:16<00:00,  1.24s/it]\n"
     ]
    },
    {
     "name": "stdout",
     "output_type": "stream",
     "text": [
      "Visiting https://www.domain.com.au/rent/?ptype=apartment&bedrooms=1&postcode=3198&sort=dateupdated-desc&page=1\n"
     ]
    },
    {
     "name": "stderr",
     "output_type": "stream",
     "text": [
      "Processing Part 8, Postcode 3198: 100%|███████████████████████████████████████████████████| 2/2 [00:02<00:00,  1.47s/it]\n"
     ]
    },
    {
     "name": "stdout",
     "output_type": "stream",
     "text": [
      "Visiting https://www.domain.com.au/rent/?ptype=apartment&bedrooms=2&postcode=3198&sort=dateupdated-desc&page=1\n"
     ]
    },
    {
     "name": "stderr",
     "output_type": "stream",
     "text": [
      "Processing Part 8, Postcode 3198: 100%|███████████████████████████████████████████████████| 8/8 [00:10<00:00,  1.30s/it]\n"
     ]
    },
    {
     "name": "stdout",
     "output_type": "stream",
     "text": [
      "Visiting https://www.domain.com.au/rent/?ptype=apartment&bedrooms=3&postcode=3198&sort=dateupdated-desc&page=1\n"
     ]
    },
    {
     "name": "stderr",
     "output_type": "stream",
     "text": [
      "Processing Part 8, Postcode 3198: 100%|███████████████████████████████████████████████████| 1/1 [00:01<00:00,  1.67s/it]\n"
     ]
    },
    {
     "name": "stdout",
     "output_type": "stream",
     "text": [
      "Visiting https://www.domain.com.au/rent/?ptype=house&bedrooms=2&postcode=3198&sort=dateupdated-desc&page=1\n",
      "No results found on page https://www.domain.com.au/rent/?ptype=house&bedrooms=2&postcode=3198&sort=dateupdated-desc&page=1\n"
     ]
    },
    {
     "name": "stderr",
     "output_type": "stream",
     "text": [
      "Processing Part 8, Postcode 3198: 0it [00:00, ?it/s]"
     ]
    },
    {
     "name": "stdout",
     "output_type": "stream",
     "text": [
      "Visiting https://www.domain.com.au/rent/?ptype=house&bedrooms=3&postcode=3198&sort=dateupdated-desc&page=1\n"
     ]
    },
    {
     "name": "stderr",
     "output_type": "stream",
     "text": [
      "\n",
      "Processing Part 8, Postcode 3198: 100%|█████████████████████████████████████████████████| 10/10 [00:13<00:00,  1.31s/it]\n"
     ]
    },
    {
     "name": "stdout",
     "output_type": "stream",
     "text": [
      "Visiting https://www.domain.com.au/rent/?ptype=house&bedrooms=4&postcode=3198&sort=dateupdated-desc&page=1\n"
     ]
    },
    {
     "name": "stderr",
     "output_type": "stream",
     "text": [
      "Processing Part 8, Postcode 3198: 100%|███████████████████████████████████████████████████| 2/2 [00:02<00:00,  1.15s/it]\n"
     ]
    },
    {
     "name": "stdout",
     "output_type": "stream",
     "text": [
      "Visiting https://www.domain.com.au/rent/?ptype=apartment&bedrooms=1&postcode=3201&sort=dateupdated-desc&page=1\n"
     ]
    },
    {
     "name": "stderr",
     "output_type": "stream",
     "text": [
      "Processing Part 8, Postcode 3201: 100%|███████████████████████████████████████████████████| 1/1 [00:01<00:00,  1.11s/it]\n"
     ]
    },
    {
     "name": "stdout",
     "output_type": "stream",
     "text": [
      "Visiting https://www.domain.com.au/rent/?ptype=apartment&bedrooms=2&postcode=3201&sort=dateupdated-desc&page=1\n",
      "No results found on page https://www.domain.com.au/rent/?ptype=apartment&bedrooms=2&postcode=3201&sort=dateupdated-desc&page=1\n"
     ]
    },
    {
     "name": "stderr",
     "output_type": "stream",
     "text": [
      "Processing Part 8, Postcode 3201: 0it [00:00, ?it/s]"
     ]
    },
    {
     "name": "stdout",
     "output_type": "stream",
     "text": [
      "Visiting https://www.domain.com.au/rent/?ptype=apartment&bedrooms=3&postcode=3201&sort=dateupdated-desc&page=1\n"
     ]
    },
    {
     "name": "stderr",
     "output_type": "stream",
     "text": [
      "\n",
      "Processing Part 8, Postcode 3201: 100%|███████████████████████████████████████████████████| 2/2 [00:02<00:00,  1.05s/it]\n"
     ]
    },
    {
     "name": "stdout",
     "output_type": "stream",
     "text": [
      "Visiting https://www.domain.com.au/rent/?ptype=house&bedrooms=2&postcode=3201&sort=dateupdated-desc&page=1\n",
      "No results found on page https://www.domain.com.au/rent/?ptype=house&bedrooms=2&postcode=3201&sort=dateupdated-desc&page=1\n"
     ]
    },
    {
     "name": "stderr",
     "output_type": "stream",
     "text": [
      "Processing Part 8, Postcode 3201: 0it [00:00, ?it/s]"
     ]
    },
    {
     "name": "stdout",
     "output_type": "stream",
     "text": [
      "Visiting https://www.domain.com.au/rent/?ptype=house&bedrooms=3&postcode=3201&sort=dateupdated-desc&page=1\n"
     ]
    },
    {
     "name": "stderr",
     "output_type": "stream",
     "text": [
      "\n",
      "Processing Part 8, Postcode 3201: 100%|███████████████████████████████████████████████████| 3/3 [00:03<00:00,  1.18s/it]\n"
     ]
    },
    {
     "name": "stdout",
     "output_type": "stream",
     "text": [
      "Visiting https://www.domain.com.au/rent/?ptype=house&bedrooms=4&postcode=3201&sort=dateupdated-desc&page=1\n"
     ]
    },
    {
     "name": "stderr",
     "output_type": "stream",
     "text": [
      "Processing Part 8, Postcode 3201: 100%|███████████████████████████████████████████████████| 4/4 [00:04<00:00,  1.11s/it]\n"
     ]
    },
    {
     "name": "stdout",
     "output_type": "stream",
     "text": [
      "Visiting https://www.domain.com.au/rent/?ptype=apartment&bedrooms=1&postcode=3216&sort=dateupdated-desc&page=1\n"
     ]
    },
    {
     "name": "stderr",
     "output_type": "stream",
     "text": [
      "Processing Part 8, Postcode 3216: 100%|███████████████████████████████████████████████████| 5/5 [00:06<00:00,  1.37s/it]\n"
     ]
    },
    {
     "name": "stdout",
     "output_type": "stream",
     "text": [
      "Visiting https://www.domain.com.au/rent/?ptype=apartment&bedrooms=2&postcode=3216&sort=dateupdated-desc&page=1\n"
     ]
    },
    {
     "name": "stderr",
     "output_type": "stream",
     "text": [
      "Processing Part 8, Postcode 3216: 100%|█████████████████████████████████████████████████| 10/10 [00:11<00:00,  1.20s/it]\n"
     ]
    },
    {
     "name": "stdout",
     "output_type": "stream",
     "text": [
      "Visiting https://www.domain.com.au/rent/?ptype=apartment&bedrooms=3&postcode=3216&sort=dateupdated-desc&page=1\n"
     ]
    },
    {
     "name": "stderr",
     "output_type": "stream",
     "text": [
      "Processing Part 8, Postcode 3216: 100%|███████████████████████████████████████████████████| 3/3 [00:04<00:00,  1.34s/it]\n"
     ]
    },
    {
     "name": "stdout",
     "output_type": "stream",
     "text": [
      "Visiting https://www.domain.com.au/rent/?ptype=house&bedrooms=2&postcode=3216&sort=dateupdated-desc&page=1\n"
     ]
    },
    {
     "name": "stderr",
     "output_type": "stream",
     "text": [
      "Processing Part 8, Postcode 3216: 100%|█████████████████████████████████████████████████| 15/15 [00:17<00:00,  1.16s/it]\n"
     ]
    },
    {
     "name": "stdout",
     "output_type": "stream",
     "text": [
      "Visiting https://www.domain.com.au/rent/?ptype=house&bedrooms=3&postcode=3216&sort=dateupdated-desc&page=1\n"
     ]
    },
    {
     "name": "stderr",
     "output_type": "stream",
     "text": [
      "Processing Part 8, Postcode 3216: 100%|█████████████████████████████████████████████████| 20/20 [00:21<00:00,  1.07s/it]\n"
     ]
    },
    {
     "name": "stdout",
     "output_type": "stream",
     "text": [
      "Visiting https://www.domain.com.au/rent/?ptype=house&bedrooms=4&postcode=3216&sort=dateupdated-desc&page=1\n"
     ]
    },
    {
     "name": "stderr",
     "output_type": "stream",
     "text": [
      "Processing Part 8, Postcode 3216: 100%|█████████████████████████████████████████████████| 20/20 [00:26<00:00,  1.32s/it]\n"
     ]
    },
    {
     "name": "stdout",
     "output_type": "stream",
     "text": [
      "Visiting https://www.domain.com.au/rent/?ptype=apartment&bedrooms=1&postcode=3214&sort=dateupdated-desc&page=1\n"
     ]
    },
    {
     "name": "stderr",
     "output_type": "stream",
     "text": [
      "Processing Part 8, Postcode 3214: 100%|███████████████████████████████████████████████████| 3/3 [00:03<00:00,  1.17s/it]\n"
     ]
    },
    {
     "name": "stdout",
     "output_type": "stream",
     "text": [
      "Visiting https://www.domain.com.au/rent/?ptype=apartment&bedrooms=2&postcode=3214&sort=dateupdated-desc&page=1\n"
     ]
    },
    {
     "name": "stderr",
     "output_type": "stream",
     "text": [
      "Processing Part 8, Postcode 3214: 100%|███████████████████████████████████████████████████| 5/5 [00:07<00:00,  1.53s/it]\n"
     ]
    },
    {
     "name": "stdout",
     "output_type": "stream",
     "text": [
      "Visiting https://www.domain.com.au/rent/?ptype=apartment&bedrooms=3&postcode=3214&sort=dateupdated-desc&page=1\n"
     ]
    },
    {
     "name": "stderr",
     "output_type": "stream",
     "text": [
      "Processing Part 8, Postcode 3214: 100%|███████████████████████████████████████████████████| 1/1 [00:00<00:00,  1.00it/s]\n"
     ]
    },
    {
     "name": "stdout",
     "output_type": "stream",
     "text": [
      "Visiting https://www.domain.com.au/rent/?ptype=house&bedrooms=2&postcode=3214&sort=dateupdated-desc&page=1\n"
     ]
    },
    {
     "name": "stderr",
     "output_type": "stream",
     "text": [
      "Processing Part 8, Postcode 3214: 100%|███████████████████████████████████████████████████| 5/5 [00:06<00:00,  1.37s/it]\n"
     ]
    },
    {
     "name": "stdout",
     "output_type": "stream",
     "text": [
      "Visiting https://www.domain.com.au/rent/?ptype=house&bedrooms=3&postcode=3214&sort=dateupdated-desc&page=1\n"
     ]
    },
    {
     "name": "stderr",
     "output_type": "stream",
     "text": [
      "Processing Part 8, Postcode 3214: 100%|█████████████████████████████████████████████████| 20/20 [00:25<00:00,  1.28s/it]\n"
     ]
    },
    {
     "name": "stdout",
     "output_type": "stream",
     "text": [
      "Visiting https://www.domain.com.au/rent/?ptype=house&bedrooms=4&postcode=3214&sort=dateupdated-desc&page=1\n"
     ]
    },
    {
     "name": "stderr",
     "output_type": "stream",
     "text": [
      "Processing Part 8, Postcode 3214: 100%|███████████████████████████████████████████████████| 5/5 [00:05<00:00,  1.12s/it]\n"
     ]
    },
    {
     "name": "stdout",
     "output_type": "stream",
     "text": [
      "Visiting https://www.domain.com.au/rent/?ptype=apartment&bedrooms=1&postcode=3219&sort=dateupdated-desc&page=1\n"
     ]
    },
    {
     "name": "stderr",
     "output_type": "stream",
     "text": [
      "Processing Part 8, Postcode 3219: 100%|███████████████████████████████████████████████████| 8/8 [00:08<00:00,  1.02s/it]\n"
     ]
    },
    {
     "name": "stdout",
     "output_type": "stream",
     "text": [
      "Visiting https://www.domain.com.au/rent/?ptype=apartment&bedrooms=2&postcode=3219&sort=dateupdated-desc&page=1\n"
     ]
    },
    {
     "name": "stderr",
     "output_type": "stream",
     "text": [
      "Processing Part 8, Postcode 3219: 100%|███████████████████████████████████████████████████| 6/6 [00:07<00:00,  1.21s/it]\n"
     ]
    },
    {
     "name": "stdout",
     "output_type": "stream",
     "text": [
      "Visiting https://www.domain.com.au/rent/?ptype=apartment&bedrooms=3&postcode=3219&sort=dateupdated-desc&page=1\n"
     ]
    },
    {
     "name": "stderr",
     "output_type": "stream",
     "text": [
      "Processing Part 8, Postcode 3219: 100%|███████████████████████████████████████████████████| 1/1 [00:01<00:00,  1.44s/it]\n"
     ]
    },
    {
     "name": "stdout",
     "output_type": "stream",
     "text": [
      "Visiting https://www.domain.com.au/rent/?ptype=house&bedrooms=2&postcode=3219&sort=dateupdated-desc&page=1\n"
     ]
    },
    {
     "name": "stderr",
     "output_type": "stream",
     "text": [
      "Processing Part 8, Postcode 3219: 100%|███████████████████████████████████████████████████| 5/5 [00:05<00:00,  1.18s/it]\n"
     ]
    },
    {
     "name": "stdout",
     "output_type": "stream",
     "text": [
      "Visiting https://www.domain.com.au/rent/?ptype=house&bedrooms=3&postcode=3219&sort=dateupdated-desc&page=1\n"
     ]
    },
    {
     "name": "stderr",
     "output_type": "stream",
     "text": [
      "Processing Part 8, Postcode 3219: 100%|█████████████████████████████████████████████████| 20/20 [00:23<00:00,  1.18s/it]\n"
     ]
    },
    {
     "name": "stdout",
     "output_type": "stream",
     "text": [
      "Visiting https://www.domain.com.au/rent/?ptype=house&bedrooms=4&postcode=3219&sort=dateupdated-desc&page=1\n"
     ]
    },
    {
     "name": "stderr",
     "output_type": "stream",
     "text": [
      "Processing Part 8, Postcode 3219: 100%|███████████████████████████████████████████████████| 3/3 [00:04<00:00,  1.37s/it]\n"
     ]
    },
    {
     "name": "stdout",
     "output_type": "stream",
     "text": [
      "Visiting https://www.domain.com.au/rent/?ptype=apartment&bedrooms=1&postcode=3220&sort=dateupdated-desc&page=1\n"
     ]
    },
    {
     "name": "stderr",
     "output_type": "stream",
     "text": [
      "Processing Part 8, Postcode 3220: 100%|█████████████████████████████████████████████████| 10/10 [00:11<00:00,  1.12s/it]\n"
     ]
    },
    {
     "name": "stdout",
     "output_type": "stream",
     "text": [
      "Visiting https://www.domain.com.au/rent/?ptype=apartment&bedrooms=2&postcode=3220&sort=dateupdated-desc&page=1\n"
     ]
    },
    {
     "name": "stderr",
     "output_type": "stream",
     "text": [
      "Processing Part 8, Postcode 3220: 100%|█████████████████████████████████████████████████| 20/20 [00:22<00:00,  1.14s/it]\n"
     ]
    },
    {
     "name": "stdout",
     "output_type": "stream",
     "text": [
      "Visiting https://www.domain.com.au/rent/?ptype=apartment&bedrooms=3&postcode=3220&sort=dateupdated-desc&page=1\n"
     ]
    },
    {
     "name": "stderr",
     "output_type": "stream",
     "text": [
      "Processing Part 8, Postcode 3220: 100%|███████████████████████████████████████████████████| 2/2 [00:02<00:00,  1.49s/it]\n"
     ]
    },
    {
     "name": "stdout",
     "output_type": "stream",
     "text": [
      "Visiting https://www.domain.com.au/rent/?ptype=house&bedrooms=2&postcode=3220&sort=dateupdated-desc&page=1\n"
     ]
    },
    {
     "name": "stderr",
     "output_type": "stream",
     "text": [
      "Processing Part 8, Postcode 3220: 100%|███████████████████████████████████████████████████| 4/4 [00:04<00:00,  1.03s/it]\n"
     ]
    },
    {
     "name": "stdout",
     "output_type": "stream",
     "text": [
      "Visiting https://www.domain.com.au/rent/?ptype=house&bedrooms=3&postcode=3220&sort=dateupdated-desc&page=1\n"
     ]
    },
    {
     "name": "stderr",
     "output_type": "stream",
     "text": [
      "Processing Part 8, Postcode 3220: 100%|█████████████████████████████████████████████████| 16/16 [00:19<00:00,  1.24s/it]\n"
     ]
    },
    {
     "name": "stdout",
     "output_type": "stream",
     "text": [
      "Visiting https://www.domain.com.au/rent/?ptype=house&bedrooms=4&postcode=3220&sort=dateupdated-desc&page=1\n"
     ]
    },
    {
     "name": "stderr",
     "output_type": "stream",
     "text": [
      "Processing Part 8, Postcode 3220: 100%|███████████████████████████████████████████████████| 5/5 [00:05<00:00,  1.14s/it]\n"
     ]
    },
    {
     "name": "stdout",
     "output_type": "stream",
     "text": [
      "Visiting https://www.domain.com.au/rent/?ptype=apartment&bedrooms=1&postcode=3221&sort=dateupdated-desc&page=1\n",
      "No results found on page https://www.domain.com.au/rent/?ptype=apartment&bedrooms=1&postcode=3221&sort=dateupdated-desc&page=1\n"
     ]
    },
    {
     "name": "stderr",
     "output_type": "stream",
     "text": [
      "Processing Part 8, Postcode 3221: 0it [00:00, ?it/s]"
     ]
    },
    {
     "name": "stdout",
     "output_type": "stream",
     "text": [
      "Visiting https://www.domain.com.au/rent/?ptype=apartment&bedrooms=2&postcode=3221&sort=dateupdated-desc&page=1\n"
     ]
    },
    {
     "name": "stderr",
     "output_type": "stream",
     "text": [
      "\n"
     ]
    },
    {
     "name": "stdout",
     "output_type": "stream",
     "text": [
      "No results found on page https://www.domain.com.au/rent/?ptype=apartment&bedrooms=2&postcode=3221&sort=dateupdated-desc&page=1\n"
     ]
    },
    {
     "name": "stderr",
     "output_type": "stream",
     "text": [
      "Processing Part 8, Postcode 3221: 0it [00:00, ?it/s]"
     ]
    },
    {
     "name": "stdout",
     "output_type": "stream",
     "text": [
      "Visiting https://www.domain.com.au/rent/?ptype=apartment&bedrooms=3&postcode=3221&sort=dateupdated-desc&page=1\n"
     ]
    },
    {
     "name": "stderr",
     "output_type": "stream",
     "text": [
      "\n"
     ]
    },
    {
     "name": "stdout",
     "output_type": "stream",
     "text": [
      "No results found on page https://www.domain.com.au/rent/?ptype=apartment&bedrooms=3&postcode=3221&sort=dateupdated-desc&page=1\n"
     ]
    },
    {
     "name": "stderr",
     "output_type": "stream",
     "text": [
      "Processing Part 8, Postcode 3221: 0it [00:00, ?it/s]"
     ]
    },
    {
     "name": "stdout",
     "output_type": "stream",
     "text": [
      "Visiting https://www.domain.com.au/rent/?ptype=house&bedrooms=2&postcode=3221&sort=dateupdated-desc&page=1\n"
     ]
    },
    {
     "name": "stderr",
     "output_type": "stream",
     "text": [
      "\n"
     ]
    },
    {
     "name": "stdout",
     "output_type": "stream",
     "text": [
      "No results found on page https://www.domain.com.au/rent/?ptype=house&bedrooms=2&postcode=3221&sort=dateupdated-desc&page=1\n"
     ]
    },
    {
     "name": "stderr",
     "output_type": "stream",
     "text": [
      "Processing Part 8, Postcode 3221: 0it [00:00, ?it/s]"
     ]
    },
    {
     "name": "stdout",
     "output_type": "stream",
     "text": [
      "Visiting https://www.domain.com.au/rent/?ptype=house&bedrooms=3&postcode=3221&sort=dateupdated-desc&page=1\n"
     ]
    },
    {
     "name": "stderr",
     "output_type": "stream",
     "text": [
      "\n"
     ]
    },
    {
     "name": "stdout",
     "output_type": "stream",
     "text": [
      "No results found on page https://www.domain.com.au/rent/?ptype=house&bedrooms=3&postcode=3221&sort=dateupdated-desc&page=1\n"
     ]
    },
    {
     "name": "stderr",
     "output_type": "stream",
     "text": [
      "Processing Part 8, Postcode 3221: 0it [00:00, ?it/s]"
     ]
    },
    {
     "name": "stdout",
     "output_type": "stream",
     "text": [
      "Visiting https://www.domain.com.au/rent/?ptype=house&bedrooms=4&postcode=3221&sort=dateupdated-desc&page=1\n"
     ]
    },
    {
     "name": "stderr",
     "output_type": "stream",
     "text": [
      "\n"
     ]
    },
    {
     "name": "stdout",
     "output_type": "stream",
     "text": [
      "No results found on page https://www.domain.com.au/rent/?ptype=house&bedrooms=4&postcode=3221&sort=dateupdated-desc&page=1\n"
     ]
    },
    {
     "name": "stderr",
     "output_type": "stream",
     "text": [
      "Processing Part 8, Postcode 3221: 0it [00:00, ?it/s]"
     ]
    },
    {
     "name": "stdout",
     "output_type": "stream",
     "text": [
      "Visiting https://www.domain.com.au/rent/?ptype=apartment&bedrooms=1&postcode=3218&sort=dateupdated-desc&page=1\n"
     ]
    },
    {
     "name": "stderr",
     "output_type": "stream",
     "text": [
      "\n",
      "Processing Part 8, Postcode 3218: 100%|███████████████████████████████████████████████████| 5/5 [00:06<00:00,  1.31s/it]\n"
     ]
    },
    {
     "name": "stdout",
     "output_type": "stream",
     "text": [
      "Visiting https://www.domain.com.au/rent/?ptype=apartment&bedrooms=2&postcode=3218&sort=dateupdated-desc&page=1\n"
     ]
    },
    {
     "name": "stderr",
     "output_type": "stream",
     "text": [
      "Processing Part 8, Postcode 3218: 100%|███████████████████████████████████████████████████| 7/7 [00:08<00:00,  1.27s/it]\n"
     ]
    },
    {
     "name": "stdout",
     "output_type": "stream",
     "text": [
      "Visiting https://www.domain.com.au/rent/?ptype=apartment&bedrooms=3&postcode=3218&sort=dateupdated-desc&page=1\n"
     ]
    },
    {
     "name": "stderr",
     "output_type": "stream",
     "text": [
      "Processing Part 8, Postcode 3218: 100%|███████████████████████████████████████████████████| 2/2 [00:02<00:00,  1.37s/it]\n"
     ]
    },
    {
     "name": "stdout",
     "output_type": "stream",
     "text": [
      "Visiting https://www.domain.com.au/rent/?ptype=house&bedrooms=2&postcode=3218&sort=dateupdated-desc&page=1\n"
     ]
    },
    {
     "name": "stderr",
     "output_type": "stream",
     "text": [
      "Processing Part 8, Postcode 3218: 100%|███████████████████████████████████████████████████| 2/2 [00:02<00:00,  1.02s/it]\n"
     ]
    },
    {
     "name": "stdout",
     "output_type": "stream",
     "text": [
      "Visiting https://www.domain.com.au/rent/?ptype=house&bedrooms=3&postcode=3218&sort=dateupdated-desc&page=1\n"
     ]
    },
    {
     "name": "stderr",
     "output_type": "stream",
     "text": [
      "Processing Part 8, Postcode 3218: 100%|█████████████████████████████████████████████████| 17/17 [00:20<00:00,  1.22s/it]\n"
     ]
    },
    {
     "name": "stdout",
     "output_type": "stream",
     "text": [
      "Visiting https://www.domain.com.au/rent/?ptype=house&bedrooms=4&postcode=3218&sort=dateupdated-desc&page=1\n"
     ]
    },
    {
     "name": "stderr",
     "output_type": "stream",
     "text": [
      "Processing Part 8, Postcode 3218: 100%|███████████████████████████████████████████████████| 8/8 [00:10<00:00,  1.33s/it]\n"
     ]
    },
    {
     "name": "stdout",
     "output_type": "stream",
     "text": [
      "Visiting https://www.domain.com.au/rent/?ptype=apartment&bedrooms=1&postcode=3212&sort=dateupdated-desc&page=1\n",
      "No results found on page https://www.domain.com.au/rent/?ptype=apartment&bedrooms=1&postcode=3212&sort=dateupdated-desc&page=1\n"
     ]
    },
    {
     "name": "stderr",
     "output_type": "stream",
     "text": [
      "Processing Part 8, Postcode 3212: 0it [00:00, ?it/s]"
     ]
    },
    {
     "name": "stdout",
     "output_type": "stream",
     "text": [
      "Visiting https://www.domain.com.au/rent/?ptype=apartment&bedrooms=2&postcode=3212&sort=dateupdated-desc&page=1\n"
     ]
    },
    {
     "name": "stderr",
     "output_type": "stream",
     "text": [
      "\n",
      "Processing Part 8, Postcode 3212: 100%|███████████████████████████████████████████████████| 1/1 [00:01<00:00,  1.27s/it]\n"
     ]
    },
    {
     "name": "stdout",
     "output_type": "stream",
     "text": [
      "Visiting https://www.domain.com.au/rent/?ptype=apartment&bedrooms=3&postcode=3212&sort=dateupdated-desc&page=1\n",
      "No results found on page https://www.domain.com.au/rent/?ptype=apartment&bedrooms=3&postcode=3212&sort=dateupdated-desc&page=1\n"
     ]
    },
    {
     "name": "stderr",
     "output_type": "stream",
     "text": [
      "Processing Part 8, Postcode 3212: 0it [00:00, ?it/s]"
     ]
    },
    {
     "name": "stdout",
     "output_type": "stream",
     "text": [
      "Visiting https://www.domain.com.au/rent/?ptype=house&bedrooms=2&postcode=3212&sort=dateupdated-desc&page=1\n"
     ]
    },
    {
     "name": "stderr",
     "output_type": "stream",
     "text": [
      "\n"
     ]
    },
    {
     "name": "stdout",
     "output_type": "stream",
     "text": [
      "No results found on page https://www.domain.com.au/rent/?ptype=house&bedrooms=2&postcode=3212&sort=dateupdated-desc&page=1\n"
     ]
    },
    {
     "name": "stderr",
     "output_type": "stream",
     "text": [
      "Processing Part 8, Postcode 3212: 0it [00:00, ?it/s]"
     ]
    },
    {
     "name": "stdout",
     "output_type": "stream",
     "text": [
      "Visiting https://www.domain.com.au/rent/?ptype=house&bedrooms=3&postcode=3212&sort=dateupdated-desc&page=1\n"
     ]
    },
    {
     "name": "stderr",
     "output_type": "stream",
     "text": [
      "\n",
      "Processing Part 8, Postcode 3212: 100%|█████████████████████████████████████████████████| 10/10 [00:14<00:00,  1.45s/it]\n"
     ]
    },
    {
     "name": "stdout",
     "output_type": "stream",
     "text": [
      "Visiting https://www.domain.com.au/rent/?ptype=house&bedrooms=4&postcode=3212&sort=dateupdated-desc&page=1\n"
     ]
    },
    {
     "name": "stderr",
     "output_type": "stream",
     "text": [
      "Processing Part 8, Postcode 3212: 100%|█████████████████████████████████████████████████| 17/17 [00:22<00:00,  1.35s/it]\n"
     ]
    },
    {
     "name": "stdout",
     "output_type": "stream",
     "text": [
      "Visiting https://www.domain.com.au/rent/?ptype=apartment&bedrooms=1&postcode=3220&sort=dateupdated-desc&page=1\n"
     ]
    },
    {
     "name": "stderr",
     "output_type": "stream",
     "text": [
      "Processing Part 8, Postcode 3220: 100%|█████████████████████████████████████████████████| 10/10 [00:13<00:00,  1.32s/it]\n"
     ]
    },
    {
     "name": "stdout",
     "output_type": "stream",
     "text": [
      "Visiting https://www.domain.com.au/rent/?ptype=apartment&bedrooms=2&postcode=3220&sort=dateupdated-desc&page=1\n"
     ]
    },
    {
     "name": "stderr",
     "output_type": "stream",
     "text": [
      "Processing Part 8, Postcode 3220: 100%|█████████████████████████████████████████████████| 20/20 [00:22<00:00,  1.12s/it]\n"
     ]
    },
    {
     "name": "stdout",
     "output_type": "stream",
     "text": [
      "Visiting https://www.domain.com.au/rent/?ptype=apartment&bedrooms=3&postcode=3220&sort=dateupdated-desc&page=1\n"
     ]
    },
    {
     "name": "stderr",
     "output_type": "stream",
     "text": [
      "Processing Part 8, Postcode 3220: 100%|███████████████████████████████████████████████████| 2/2 [00:02<00:00,  1.05s/it]\n"
     ]
    },
    {
     "name": "stdout",
     "output_type": "stream",
     "text": [
      "Visiting https://www.domain.com.au/rent/?ptype=house&bedrooms=2&postcode=3220&sort=dateupdated-desc&page=1\n"
     ]
    },
    {
     "name": "stderr",
     "output_type": "stream",
     "text": [
      "Processing Part 8, Postcode 3220: 100%|███████████████████████████████████████████████████| 4/4 [00:04<00:00,  1.18s/it]\n"
     ]
    },
    {
     "name": "stdout",
     "output_type": "stream",
     "text": [
      "Visiting https://www.domain.com.au/rent/?ptype=house&bedrooms=3&postcode=3220&sort=dateupdated-desc&page=1\n"
     ]
    },
    {
     "name": "stderr",
     "output_type": "stream",
     "text": [
      "Processing Part 8, Postcode 3220: 100%|█████████████████████████████████████████████████| 16/16 [00:18<00:00,  1.14s/it]\n"
     ]
    },
    {
     "name": "stdout",
     "output_type": "stream",
     "text": [
      "Visiting https://www.domain.com.au/rent/?ptype=house&bedrooms=4&postcode=3220&sort=dateupdated-desc&page=1\n"
     ]
    },
    {
     "name": "stderr",
     "output_type": "stream",
     "text": [
      "Processing Part 8, Postcode 3220: 100%|███████████████████████████████████████████████████| 5/5 [00:05<00:00,  1.08s/it]\n"
     ]
    },
    {
     "name": "stdout",
     "output_type": "stream",
     "text": [
      "Visiting https://www.domain.com.au/rent/?ptype=apartment&bedrooms=1&postcode=3351&sort=dateupdated-desc&page=1\n",
      "No results found on page https://www.domain.com.au/rent/?ptype=apartment&bedrooms=1&postcode=3351&sort=dateupdated-desc&page=1\n"
     ]
    },
    {
     "name": "stderr",
     "output_type": "stream",
     "text": [
      "Processing Part 8, Postcode 3351: 0it [00:00, ?it/s]"
     ]
    },
    {
     "name": "stdout",
     "output_type": "stream",
     "text": [
      "Visiting https://www.domain.com.au/rent/?ptype=apartment&bedrooms=2&postcode=3351&sort=dateupdated-desc&page=1\n"
     ]
    },
    {
     "name": "stderr",
     "output_type": "stream",
     "text": [
      "\n"
     ]
    },
    {
     "name": "stdout",
     "output_type": "stream",
     "text": [
      "No results found on page https://www.domain.com.au/rent/?ptype=apartment&bedrooms=2&postcode=3351&sort=dateupdated-desc&page=1\n"
     ]
    },
    {
     "name": "stderr",
     "output_type": "stream",
     "text": [
      "Processing Part 8, Postcode 3351: 0it [00:00, ?it/s]"
     ]
    },
    {
     "name": "stdout",
     "output_type": "stream",
     "text": [
      "Visiting https://www.domain.com.au/rent/?ptype=apartment&bedrooms=3&postcode=3351&sort=dateupdated-desc&page=1\n"
     ]
    },
    {
     "name": "stderr",
     "output_type": "stream",
     "text": [
      "\n"
     ]
    },
    {
     "name": "stdout",
     "output_type": "stream",
     "text": [
      "No results found on page https://www.domain.com.au/rent/?ptype=apartment&bedrooms=3&postcode=3351&sort=dateupdated-desc&page=1\n"
     ]
    },
    {
     "name": "stderr",
     "output_type": "stream",
     "text": [
      "Processing Part 8, Postcode 3351: 0it [00:00, ?it/s]"
     ]
    },
    {
     "name": "stdout",
     "output_type": "stream",
     "text": [
      "Visiting https://www.domain.com.au/rent/?ptype=house&bedrooms=2&postcode=3351&sort=dateupdated-desc&page=1\n"
     ]
    },
    {
     "name": "stderr",
     "output_type": "stream",
     "text": [
      "\n"
     ]
    },
    {
     "name": "stdout",
     "output_type": "stream",
     "text": [
      "No results found on page https://www.domain.com.au/rent/?ptype=house&bedrooms=2&postcode=3351&sort=dateupdated-desc&page=1\n"
     ]
    },
    {
     "name": "stderr",
     "output_type": "stream",
     "text": [
      "Processing Part 8, Postcode 3351: 0it [00:00, ?it/s]"
     ]
    },
    {
     "name": "stdout",
     "output_type": "stream",
     "text": [
      "Visiting https://www.domain.com.au/rent/?ptype=house&bedrooms=3&postcode=3351&sort=dateupdated-desc&page=1\n"
     ]
    },
    {
     "name": "stderr",
     "output_type": "stream",
     "text": [
      "\n",
      "Processing Part 8, Postcode 3351: 100%|███████████████████████████████████████████████████| 3/3 [00:03<00:00,  1.33s/it]\n"
     ]
    },
    {
     "name": "stdout",
     "output_type": "stream",
     "text": [
      "Visiting https://www.domain.com.au/rent/?ptype=house&bedrooms=4&postcode=3351&sort=dateupdated-desc&page=1\n"
     ]
    },
    {
     "name": "stderr",
     "output_type": "stream",
     "text": [
      "Processing Part 8, Postcode 3351: 100%|███████████████████████████████████████████████████| 8/8 [00:09<00:00,  1.15s/it]\n"
     ]
    },
    {
     "name": "stdout",
     "output_type": "stream",
     "text": [
      "Visiting https://www.domain.com.au/rent/?ptype=apartment&bedrooms=1&postcode=3215&sort=dateupdated-desc&page=1\n"
     ]
    },
    {
     "name": "stderr",
     "output_type": "stream",
     "text": [
      "Processing Part 8, Postcode 3215: 100%|███████████████████████████████████████████████████| 2/2 [00:01<00:00,  1.00it/s]\n"
     ]
    },
    {
     "name": "stdout",
     "output_type": "stream",
     "text": [
      "Visiting https://www.domain.com.au/rent/?ptype=apartment&bedrooms=2&postcode=3215&sort=dateupdated-desc&page=1\n"
     ]
    },
    {
     "name": "stderr",
     "output_type": "stream",
     "text": [
      "Processing Part 8, Postcode 3215: 100%|███████████████████████████████████████████████████| 5/5 [00:05<00:00,  1.14s/it]\n"
     ]
    },
    {
     "name": "stdout",
     "output_type": "stream",
     "text": [
      "Visiting https://www.domain.com.au/rent/?ptype=apartment&bedrooms=3&postcode=3215&sort=dateupdated-desc&page=1\n"
     ]
    },
    {
     "name": "stderr",
     "output_type": "stream",
     "text": [
      "Processing Part 8, Postcode 3215: 100%|███████████████████████████████████████████████████| 5/5 [00:05<00:00,  1.09s/it]\n"
     ]
    },
    {
     "name": "stdout",
     "output_type": "stream",
     "text": [
      "Visiting https://www.domain.com.au/rent/?ptype=house&bedrooms=2&postcode=3215&sort=dateupdated-desc&page=1\n"
     ]
    },
    {
     "name": "stderr",
     "output_type": "stream",
     "text": [
      "Processing Part 8, Postcode 3215: 100%|███████████████████████████████████████████████████| 1/1 [00:01<00:00,  1.20s/it]\n"
     ]
    },
    {
     "name": "stdout",
     "output_type": "stream",
     "text": [
      "Visiting https://www.domain.com.au/rent/?ptype=house&bedrooms=3&postcode=3215&sort=dateupdated-desc&page=1\n"
     ]
    },
    {
     "name": "stderr",
     "output_type": "stream",
     "text": [
      "Processing Part 8, Postcode 3215: 100%|█████████████████████████████████████████████████| 20/20 [00:23<00:00,  1.19s/it]\n"
     ]
    },
    {
     "name": "stdout",
     "output_type": "stream",
     "text": [
      "Visiting https://www.domain.com.au/rent/?ptype=house&bedrooms=4&postcode=3215&sort=dateupdated-desc&page=1\n"
     ]
    },
    {
     "name": "stderr",
     "output_type": "stream",
     "text": [
      "Processing Part 8, Postcode 3215: 100%|███████████████████████████████████████████████████| 7/7 [00:07<00:00,  1.13s/it]\n"
     ]
    },
    {
     "name": "stdout",
     "output_type": "stream",
     "text": [
      "Completed processing Part 8/10. Data saved to ../../data/raw/domain/temp_parts/property_part_8.csv\n",
      "Visiting https://www.domain.com.au/rent/?ptype=apartment&bedrooms=1&postcode=3353&sort=dateupdated-desc&page=1\n",
      "No results found on page https://www.domain.com.au/rent/?ptype=apartment&bedrooms=1&postcode=3353&sort=dateupdated-desc&page=1\n"
     ]
    },
    {
     "name": "stderr",
     "output_type": "stream",
     "text": [
      "Processing Part 9, Postcode 3353: 0it [00:00, ?it/s]"
     ]
    },
    {
     "name": "stdout",
     "output_type": "stream",
     "text": [
      "Visiting https://www.domain.com.au/rent/?ptype=apartment&bedrooms=2&postcode=3353&sort=dateupdated-desc&page=1\n"
     ]
    },
    {
     "name": "stderr",
     "output_type": "stream",
     "text": [
      "\n"
     ]
    },
    {
     "name": "stdout",
     "output_type": "stream",
     "text": [
      "No results found on page https://www.domain.com.au/rent/?ptype=apartment&bedrooms=2&postcode=3353&sort=dateupdated-desc&page=1\n"
     ]
    },
    {
     "name": "stderr",
     "output_type": "stream",
     "text": [
      "Processing Part 9, Postcode 3353: 0it [00:00, ?it/s]"
     ]
    },
    {
     "name": "stdout",
     "output_type": "stream",
     "text": [
      "Visiting https://www.domain.com.au/rent/?ptype=apartment&bedrooms=3&postcode=3353&sort=dateupdated-desc&page=1\n"
     ]
    },
    {
     "name": "stderr",
     "output_type": "stream",
     "text": [
      "\n"
     ]
    },
    {
     "name": "stdout",
     "output_type": "stream",
     "text": [
      "No results found on page https://www.domain.com.au/rent/?ptype=apartment&bedrooms=3&postcode=3353&sort=dateupdated-desc&page=1\n"
     ]
    },
    {
     "name": "stderr",
     "output_type": "stream",
     "text": [
      "Processing Part 9, Postcode 3353: 0it [00:00, ?it/s]"
     ]
    },
    {
     "name": "stdout",
     "output_type": "stream",
     "text": [
      "Visiting https://www.domain.com.au/rent/?ptype=house&bedrooms=2&postcode=3353&sort=dateupdated-desc&page=1\n"
     ]
    },
    {
     "name": "stderr",
     "output_type": "stream",
     "text": [
      "\n"
     ]
    },
    {
     "name": "stdout",
     "output_type": "stream",
     "text": [
      "No results found on page https://www.domain.com.au/rent/?ptype=house&bedrooms=2&postcode=3353&sort=dateupdated-desc&page=1\n"
     ]
    },
    {
     "name": "stderr",
     "output_type": "stream",
     "text": [
      "Processing Part 9, Postcode 3353: 0it [00:00, ?it/s]"
     ]
    },
    {
     "name": "stdout",
     "output_type": "stream",
     "text": [
      "Visiting https://www.domain.com.au/rent/?ptype=house&bedrooms=3&postcode=3353&sort=dateupdated-desc&page=1\n"
     ]
    },
    {
     "name": "stderr",
     "output_type": "stream",
     "text": [
      "\n"
     ]
    },
    {
     "name": "stdout",
     "output_type": "stream",
     "text": [
      "No results found on page https://www.domain.com.au/rent/?ptype=house&bedrooms=3&postcode=3353&sort=dateupdated-desc&page=1\n"
     ]
    },
    {
     "name": "stderr",
     "output_type": "stream",
     "text": [
      "Processing Part 9, Postcode 3353: 0it [00:00, ?it/s]"
     ]
    },
    {
     "name": "stdout",
     "output_type": "stream",
     "text": [
      "Visiting https://www.domain.com.au/rent/?ptype=house&bedrooms=4&postcode=3353&sort=dateupdated-desc&page=1\n"
     ]
    },
    {
     "name": "stderr",
     "output_type": "stream",
     "text": [
      "\n"
     ]
    },
    {
     "name": "stdout",
     "output_type": "stream",
     "text": [
      "No results found on page https://www.domain.com.au/rent/?ptype=house&bedrooms=4&postcode=3353&sort=dateupdated-desc&page=1\n"
     ]
    },
    {
     "name": "stderr",
     "output_type": "stream",
     "text": [
      "Processing Part 9, Postcode 3353: 0it [00:00, ?it/s]"
     ]
    },
    {
     "name": "stdout",
     "output_type": "stream",
     "text": [
      "Visiting https://www.domain.com.au/rent/?ptype=apartment&bedrooms=1&postcode=3357&sort=dateupdated-desc&page=1\n"
     ]
    },
    {
     "name": "stderr",
     "output_type": "stream",
     "text": [
      "\n"
     ]
    },
    {
     "name": "stdout",
     "output_type": "stream",
     "text": [
      "No results found on page https://www.domain.com.au/rent/?ptype=apartment&bedrooms=1&postcode=3357&sort=dateupdated-desc&page=1\n"
     ]
    },
    {
     "name": "stderr",
     "output_type": "stream",
     "text": [
      "Processing Part 9, Postcode 3357: 0it [00:00, ?it/s]"
     ]
    },
    {
     "name": "stdout",
     "output_type": "stream",
     "text": [
      "Visiting https://www.domain.com.au/rent/?ptype=apartment&bedrooms=2&postcode=3357&sort=dateupdated-desc&page=1\n"
     ]
    },
    {
     "name": "stderr",
     "output_type": "stream",
     "text": [
      "\n",
      "Processing Part 9, Postcode 3357: 100%|███████████████████████████████████████████████████| 1/1 [00:00<00:00,  1.01it/s]\n"
     ]
    },
    {
     "name": "stdout",
     "output_type": "stream",
     "text": [
      "Visiting https://www.domain.com.au/rent/?ptype=apartment&bedrooms=3&postcode=3357&sort=dateupdated-desc&page=1\n",
      "No results found on page https://www.domain.com.au/rent/?ptype=apartment&bedrooms=3&postcode=3357&sort=dateupdated-desc&page=1\n"
     ]
    },
    {
     "name": "stderr",
     "output_type": "stream",
     "text": [
      "Processing Part 9, Postcode 3357: 0it [00:00, ?it/s]"
     ]
    },
    {
     "name": "stdout",
     "output_type": "stream",
     "text": [
      "Visiting https://www.domain.com.au/rent/?ptype=house&bedrooms=2&postcode=3357&sort=dateupdated-desc&page=1\n"
     ]
    },
    {
     "name": "stderr",
     "output_type": "stream",
     "text": [
      "\n",
      "Processing Part 9, Postcode 3357: 100%|███████████████████████████████████████████████████| 1/1 [00:01<00:00,  1.14s/it]\n"
     ]
    },
    {
     "name": "stdout",
     "output_type": "stream",
     "text": [
      "Visiting https://www.domain.com.au/rent/?ptype=house&bedrooms=3&postcode=3357&sort=dateupdated-desc&page=1\n",
      "No results found on page https://www.domain.com.au/rent/?ptype=house&bedrooms=3&postcode=3357&sort=dateupdated-desc&page=1\n"
     ]
    },
    {
     "name": "stderr",
     "output_type": "stream",
     "text": [
      "Processing Part 9, Postcode 3357: 0it [00:00, ?it/s]"
     ]
    },
    {
     "name": "stdout",
     "output_type": "stream",
     "text": [
      "Visiting https://www.domain.com.au/rent/?ptype=house&bedrooms=4&postcode=3357&sort=dateupdated-desc&page=1\n"
     ]
    },
    {
     "name": "stderr",
     "output_type": "stream",
     "text": [
      "\n",
      "Processing Part 9, Postcode 3357: 100%|███████████████████████████████████████████████████| 1/1 [00:01<00:00,  1.29s/it]\n"
     ]
    },
    {
     "name": "stdout",
     "output_type": "stream",
     "text": [
      "Visiting https://www.domain.com.au/rent/?ptype=apartment&bedrooms=1&postcode=3356&sort=dateupdated-desc&page=1\n"
     ]
    },
    {
     "name": "stderr",
     "output_type": "stream",
     "text": [
      "Processing Part 9, Postcode 3356: 100%|███████████████████████████████████████████████████| 5/5 [00:06<00:00,  1.38s/it]\n"
     ]
    },
    {
     "name": "stdout",
     "output_type": "stream",
     "text": [
      "Visiting https://www.domain.com.au/rent/?ptype=apartment&bedrooms=2&postcode=3356&sort=dateupdated-desc&page=1\n"
     ]
    },
    {
     "name": "stderr",
     "output_type": "stream",
     "text": [
      "Processing Part 9, Postcode 3356: 100%|███████████████████████████████████████████████████| 1/1 [00:02<00:00,  2.11s/it]\n"
     ]
    },
    {
     "name": "stdout",
     "output_type": "stream",
     "text": [
      "Visiting https://www.domain.com.au/rent/?ptype=apartment&bedrooms=3&postcode=3356&sort=dateupdated-desc&page=1\n"
     ]
    },
    {
     "name": "stderr",
     "output_type": "stream",
     "text": [
      "Processing Part 9, Postcode 3356: 100%|███████████████████████████████████████████████████| 2/2 [00:02<00:00,  1.10s/it]\n"
     ]
    },
    {
     "name": "stdout",
     "output_type": "stream",
     "text": [
      "Visiting https://www.domain.com.au/rent/?ptype=house&bedrooms=2&postcode=3356&sort=dateupdated-desc&page=1\n"
     ]
    },
    {
     "name": "stderr",
     "output_type": "stream",
     "text": [
      "Processing Part 9, Postcode 3356: 100%|███████████████████████████████████████████████████| 7/7 [00:08<00:00,  1.25s/it]\n"
     ]
    },
    {
     "name": "stdout",
     "output_type": "stream",
     "text": [
      "Visiting https://www.domain.com.au/rent/?ptype=house&bedrooms=3&postcode=3356&sort=dateupdated-desc&page=1\n"
     ]
    },
    {
     "name": "stderr",
     "output_type": "stream",
     "text": [
      "Processing Part 9, Postcode 3356: 100%|█████████████████████████████████████████████████| 16/16 [00:18<00:00,  1.18s/it]\n"
     ]
    },
    {
     "name": "stdout",
     "output_type": "stream",
     "text": [
      "Visiting https://www.domain.com.au/rent/?ptype=house&bedrooms=4&postcode=3356&sort=dateupdated-desc&page=1\n"
     ]
    },
    {
     "name": "stderr",
     "output_type": "stream",
     "text": [
      "Processing Part 9, Postcode 3356: 100%|█████████████████████████████████████████████████| 13/13 [00:15<00:00,  1.22s/it]\n"
     ]
    },
    {
     "name": "stdout",
     "output_type": "stream",
     "text": [
      "Visiting https://www.domain.com.au/rent/?ptype=apartment&bedrooms=1&postcode=3350&sort=dateupdated-desc&page=1\n"
     ]
    },
    {
     "name": "stderr",
     "output_type": "stream",
     "text": [
      "Processing Part 9, Postcode 3350: 100%|█████████████████████████████████████████████████| 13/13 [00:14<00:00,  1.12s/it]\n"
     ]
    },
    {
     "name": "stdout",
     "output_type": "stream",
     "text": [
      "Visiting https://www.domain.com.au/rent/?ptype=apartment&bedrooms=2&postcode=3350&sort=dateupdated-desc&page=1\n"
     ]
    },
    {
     "name": "stderr",
     "output_type": "stream",
     "text": [
      "Processing Part 9, Postcode 3350: 100%|█████████████████████████████████████████████████| 10/10 [00:11<00:00,  1.11s/it]\n"
     ]
    },
    {
     "name": "stdout",
     "output_type": "stream",
     "text": [
      "Visiting https://www.domain.com.au/rent/?ptype=apartment&bedrooms=3&postcode=3350&sort=dateupdated-desc&page=1\n"
     ]
    },
    {
     "name": "stderr",
     "output_type": "stream",
     "text": [
      "Processing Part 9, Postcode 3350: 100%|███████████████████████████████████████████████████| 5/5 [00:06<00:00,  1.23s/it]\n"
     ]
    },
    {
     "name": "stdout",
     "output_type": "stream",
     "text": [
      "Visiting https://www.domain.com.au/rent/?ptype=house&bedrooms=2&postcode=3350&sort=dateupdated-desc&page=1\n"
     ]
    },
    {
     "name": "stderr",
     "output_type": "stream",
     "text": [
      "Processing Part 9, Postcode 3350: 100%|█████████████████████████████████████████████████| 17/17 [00:19<00:00,  1.16s/it]\n"
     ]
    },
    {
     "name": "stdout",
     "output_type": "stream",
     "text": [
      "Visiting https://www.domain.com.au/rent/?ptype=house&bedrooms=3&postcode=3350&sort=dateupdated-desc&page=1\n"
     ]
    },
    {
     "name": "stderr",
     "output_type": "stream",
     "text": [
      "Processing Part 9, Postcode 3350: 100%|█████████████████████████████████████████████████| 20/20 [00:23<00:00,  1.18s/it]\n"
     ]
    },
    {
     "name": "stdout",
     "output_type": "stream",
     "text": [
      "Visiting https://www.domain.com.au/rent/?ptype=house&bedrooms=4&postcode=3350&sort=dateupdated-desc&page=1\n"
     ]
    },
    {
     "name": "stderr",
     "output_type": "stream",
     "text": [
      "Processing Part 9, Postcode 3350: 100%|█████████████████████████████████████████████████| 20/20 [00:23<00:00,  1.17s/it]\n"
     ]
    },
    {
     "name": "stdout",
     "output_type": "stream",
     "text": [
      "Visiting https://www.domain.com.au/rent/?ptype=apartment&bedrooms=1&postcode=3355&sort=dateupdated-desc&page=1\n"
     ]
    },
    {
     "name": "stderr",
     "output_type": "stream",
     "text": [
      "Processing Part 9, Postcode 3355: 100%|███████████████████████████████████████████████████| 1/1 [00:01<00:00,  1.90s/it]\n"
     ]
    },
    {
     "name": "stdout",
     "output_type": "stream",
     "text": [
      "Visiting https://www.domain.com.au/rent/?ptype=apartment&bedrooms=2&postcode=3355&sort=dateupdated-desc&page=1\n"
     ]
    },
    {
     "name": "stderr",
     "output_type": "stream",
     "text": [
      "Processing Part 9, Postcode 3355: 100%|███████████████████████████████████████████████████| 3/3 [00:04<00:00,  1.46s/it]\n"
     ]
    },
    {
     "name": "stdout",
     "output_type": "stream",
     "text": [
      "Visiting https://www.domain.com.au/rent/?ptype=apartment&bedrooms=3&postcode=3355&sort=dateupdated-desc&page=1\n",
      "No results found on page https://www.domain.com.au/rent/?ptype=apartment&bedrooms=3&postcode=3355&sort=dateupdated-desc&page=1\n"
     ]
    },
    {
     "name": "stderr",
     "output_type": "stream",
     "text": [
      "Processing Part 9, Postcode 3355: 0it [00:00, ?it/s]"
     ]
    },
    {
     "name": "stdout",
     "output_type": "stream",
     "text": [
      "Visiting https://www.domain.com.au/rent/?ptype=house&bedrooms=2&postcode=3355&sort=dateupdated-desc&page=1\n"
     ]
    },
    {
     "name": "stderr",
     "output_type": "stream",
     "text": [
      "\n",
      "Processing Part 9, Postcode 3355: 100%|███████████████████████████████████████████████████| 6/6 [00:08<00:00,  1.47s/it]\n"
     ]
    },
    {
     "name": "stdout",
     "output_type": "stream",
     "text": [
      "Visiting https://www.domain.com.au/rent/?ptype=house&bedrooms=3&postcode=3355&sort=dateupdated-desc&page=1\n"
     ]
    },
    {
     "name": "stderr",
     "output_type": "stream",
     "text": [
      "Processing Part 9, Postcode 3355: 100%|█████████████████████████████████████████████████| 20/20 [00:27<00:00,  1.37s/it]\n"
     ]
    },
    {
     "name": "stdout",
     "output_type": "stream",
     "text": [
      "Visiting https://www.domain.com.au/rent/?ptype=house&bedrooms=4&postcode=3355&sort=dateupdated-desc&page=1\n",
      "No results found on page https://www.domain.com.au/rent/?ptype=house&bedrooms=4&postcode=3355&sort=dateupdated-desc&page=1\n"
     ]
    },
    {
     "name": "stderr",
     "output_type": "stream",
     "text": [
      "Processing Part 9, Postcode 3355: 0it [00:00, ?it/s]"
     ]
    },
    {
     "name": "stdout",
     "output_type": "stream",
     "text": [
      "Visiting https://www.domain.com.au/rent/?ptype=apartment&bedrooms=1&postcode=3552&sort=dateupdated-desc&page=1\n"
     ]
    },
    {
     "name": "stderr",
     "output_type": "stream",
     "text": [
      "\n"
     ]
    },
    {
     "name": "stdout",
     "output_type": "stream",
     "text": [
      "No results found on page https://www.domain.com.au/rent/?ptype=apartment&bedrooms=1&postcode=3552&sort=dateupdated-desc&page=1\n"
     ]
    },
    {
     "name": "stderr",
     "output_type": "stream",
     "text": [
      "Processing Part 9, Postcode 3552: 0it [00:00, ?it/s]"
     ]
    },
    {
     "name": "stdout",
     "output_type": "stream",
     "text": [
      "Visiting https://www.domain.com.au/rent/?ptype=apartment&bedrooms=2&postcode=3552&sort=dateupdated-desc&page=1\n"
     ]
    },
    {
     "name": "stderr",
     "output_type": "stream",
     "text": [
      "\n"
     ]
    },
    {
     "name": "stdout",
     "output_type": "stream",
     "text": [
      "No results found on page https://www.domain.com.au/rent/?ptype=apartment&bedrooms=2&postcode=3552&sort=dateupdated-desc&page=1\n"
     ]
    },
    {
     "name": "stderr",
     "output_type": "stream",
     "text": [
      "Processing Part 9, Postcode 3552: 0it [00:00, ?it/s]"
     ]
    },
    {
     "name": "stdout",
     "output_type": "stream",
     "text": [
      "Visiting https://www.domain.com.au/rent/?ptype=apartment&bedrooms=3&postcode=3552&sort=dateupdated-desc&page=1\n"
     ]
    },
    {
     "name": "stderr",
     "output_type": "stream",
     "text": [
      "\n"
     ]
    },
    {
     "name": "stdout",
     "output_type": "stream",
     "text": [
      "No results found on page https://www.domain.com.au/rent/?ptype=apartment&bedrooms=3&postcode=3552&sort=dateupdated-desc&page=1\n"
     ]
    },
    {
     "name": "stderr",
     "output_type": "stream",
     "text": [
      "Processing Part 9, Postcode 3552: 0it [00:00, ?it/s]"
     ]
    },
    {
     "name": "stdout",
     "output_type": "stream",
     "text": [
      "Visiting https://www.domain.com.au/rent/?ptype=house&bedrooms=2&postcode=3552&sort=dateupdated-desc&page=1\n"
     ]
    },
    {
     "name": "stderr",
     "output_type": "stream",
     "text": [
      "\n"
     ]
    },
    {
     "name": "stdout",
     "output_type": "stream",
     "text": [
      "No results found on page https://www.domain.com.au/rent/?ptype=house&bedrooms=2&postcode=3552&sort=dateupdated-desc&page=1\n"
     ]
    },
    {
     "name": "stderr",
     "output_type": "stream",
     "text": [
      "Processing Part 9, Postcode 3552: 0it [00:00, ?it/s]"
     ]
    },
    {
     "name": "stdout",
     "output_type": "stream",
     "text": [
      "Visiting https://www.domain.com.au/rent/?ptype=house&bedrooms=3&postcode=3552&sort=dateupdated-desc&page=1\n"
     ]
    },
    {
     "name": "stderr",
     "output_type": "stream",
     "text": [
      "\n"
     ]
    },
    {
     "name": "stdout",
     "output_type": "stream",
     "text": [
      "No results found on page https://www.domain.com.au/rent/?ptype=house&bedrooms=3&postcode=3552&sort=dateupdated-desc&page=1\n"
     ]
    },
    {
     "name": "stderr",
     "output_type": "stream",
     "text": [
      "Processing Part 9, Postcode 3552: 0it [00:00, ?it/s]"
     ]
    },
    {
     "name": "stdout",
     "output_type": "stream",
     "text": [
      "Visiting https://www.domain.com.au/rent/?ptype=house&bedrooms=4&postcode=3552&sort=dateupdated-desc&page=1\n"
     ]
    },
    {
     "name": "stderr",
     "output_type": "stream",
     "text": [
      "\n"
     ]
    },
    {
     "name": "stdout",
     "output_type": "stream",
     "text": [
      "No results found on page https://www.domain.com.au/rent/?ptype=house&bedrooms=4&postcode=3552&sort=dateupdated-desc&page=1\n"
     ]
    },
    {
     "name": "stderr",
     "output_type": "stream",
     "text": [
      "Processing Part 9, Postcode 3552: 0it [00:00, ?it/s]"
     ]
    },
    {
     "name": "stdout",
     "output_type": "stream",
     "text": [
      "Visiting https://www.domain.com.au/rent/?ptype=apartment&bedrooms=1&postcode=3554&sort=dateupdated-desc&page=1\n"
     ]
    },
    {
     "name": "stderr",
     "output_type": "stream",
     "text": [
      "\n"
     ]
    },
    {
     "name": "stdout",
     "output_type": "stream",
     "text": [
      "No results found on page https://www.domain.com.au/rent/?ptype=apartment&bedrooms=1&postcode=3554&sort=dateupdated-desc&page=1\n"
     ]
    },
    {
     "name": "stderr",
     "output_type": "stream",
     "text": [
      "Processing Part 9, Postcode 3554: 0it [00:00, ?it/s]"
     ]
    },
    {
     "name": "stdout",
     "output_type": "stream",
     "text": [
      "Visiting https://www.domain.com.au/rent/?ptype=apartment&bedrooms=2&postcode=3554&sort=dateupdated-desc&page=1\n"
     ]
    },
    {
     "name": "stderr",
     "output_type": "stream",
     "text": [
      "\n"
     ]
    },
    {
     "name": "stdout",
     "output_type": "stream",
     "text": [
      "No results found on page https://www.domain.com.au/rent/?ptype=apartment&bedrooms=2&postcode=3554&sort=dateupdated-desc&page=1\n"
     ]
    },
    {
     "name": "stderr",
     "output_type": "stream",
     "text": [
      "Processing Part 9, Postcode 3554: 0it [00:00, ?it/s]"
     ]
    },
    {
     "name": "stdout",
     "output_type": "stream",
     "text": [
      "Visiting https://www.domain.com.au/rent/?ptype=apartment&bedrooms=3&postcode=3554&sort=dateupdated-desc&page=1\n"
     ]
    },
    {
     "name": "stderr",
     "output_type": "stream",
     "text": [
      "\n"
     ]
    },
    {
     "name": "stdout",
     "output_type": "stream",
     "text": [
      "No results found on page https://www.domain.com.au/rent/?ptype=apartment&bedrooms=3&postcode=3554&sort=dateupdated-desc&page=1\n"
     ]
    },
    {
     "name": "stderr",
     "output_type": "stream",
     "text": [
      "Processing Part 9, Postcode 3554: 0it [00:00, ?it/s]"
     ]
    },
    {
     "name": "stdout",
     "output_type": "stream",
     "text": [
      "Visiting https://www.domain.com.au/rent/?ptype=house&bedrooms=2&postcode=3554&sort=dateupdated-desc&page=1\n"
     ]
    },
    {
     "name": "stderr",
     "output_type": "stream",
     "text": [
      "\n"
     ]
    },
    {
     "name": "stdout",
     "output_type": "stream",
     "text": [
      "No results found on page https://www.domain.com.au/rent/?ptype=house&bedrooms=2&postcode=3554&sort=dateupdated-desc&page=1\n"
     ]
    },
    {
     "name": "stderr",
     "output_type": "stream",
     "text": [
      "Processing Part 9, Postcode 3554: 0it [00:00, ?it/s]"
     ]
    },
    {
     "name": "stdout",
     "output_type": "stream",
     "text": [
      "Visiting https://www.domain.com.au/rent/?ptype=house&bedrooms=3&postcode=3554&sort=dateupdated-desc&page=1\n"
     ]
    },
    {
     "name": "stderr",
     "output_type": "stream",
     "text": [
      "\n"
     ]
    },
    {
     "name": "stdout",
     "output_type": "stream",
     "text": [
      "No results found on page https://www.domain.com.au/rent/?ptype=house&bedrooms=3&postcode=3554&sort=dateupdated-desc&page=1\n"
     ]
    },
    {
     "name": "stderr",
     "output_type": "stream",
     "text": [
      "Processing Part 9, Postcode 3554: 0it [00:00, ?it/s]"
     ]
    },
    {
     "name": "stdout",
     "output_type": "stream",
     "text": [
      "Visiting https://www.domain.com.au/rent/?ptype=house&bedrooms=4&postcode=3554&sort=dateupdated-desc&page=1\n"
     ]
    },
    {
     "name": "stderr",
     "output_type": "stream",
     "text": [
      "\n"
     ]
    },
    {
     "name": "stdout",
     "output_type": "stream",
     "text": [
      "No results found on page https://www.domain.com.au/rent/?ptype=house&bedrooms=4&postcode=3554&sort=dateupdated-desc&page=1\n"
     ]
    },
    {
     "name": "stderr",
     "output_type": "stream",
     "text": [
      "Processing Part 9, Postcode 3554: 0it [00:00, ?it/s]"
     ]
    },
    {
     "name": "stdout",
     "output_type": "stream",
     "text": [
      "Visiting https://www.domain.com.au/rent/?ptype=apartment&bedrooms=1&postcode=3551&sort=dateupdated-desc&page=1\n"
     ]
    },
    {
     "name": "stderr",
     "output_type": "stream",
     "text": [
      "\n"
     ]
    },
    {
     "name": "stdout",
     "output_type": "stream",
     "text": [
      "No results found on page https://www.domain.com.au/rent/?ptype=apartment&bedrooms=1&postcode=3551&sort=dateupdated-desc&page=1\n"
     ]
    },
    {
     "name": "stderr",
     "output_type": "stream",
     "text": [
      "Processing Part 9, Postcode 3551: 0it [00:00, ?it/s]"
     ]
    },
    {
     "name": "stdout",
     "output_type": "stream",
     "text": [
      "Visiting https://www.domain.com.au/rent/?ptype=apartment&bedrooms=2&postcode=3551&sort=dateupdated-desc&page=1\n"
     ]
    },
    {
     "name": "stderr",
     "output_type": "stream",
     "text": [
      "\n",
      "Processing Part 9, Postcode 3551: 100%|███████████████████████████████████████████████████| 1/1 [00:01<00:00,  1.39s/it]\n"
     ]
    },
    {
     "name": "stdout",
     "output_type": "stream",
     "text": [
      "Visiting https://www.domain.com.au/rent/?ptype=apartment&bedrooms=3&postcode=3551&sort=dateupdated-desc&page=1\n",
      "No results found on page https://www.domain.com.au/rent/?ptype=apartment&bedrooms=3&postcode=3551&sort=dateupdated-desc&page=1\n"
     ]
    },
    {
     "name": "stderr",
     "output_type": "stream",
     "text": [
      "Processing Part 9, Postcode 3551: 0it [00:00, ?it/s]"
     ]
    },
    {
     "name": "stdout",
     "output_type": "stream",
     "text": [
      "Visiting https://www.domain.com.au/rent/?ptype=house&bedrooms=2&postcode=3551&sort=dateupdated-desc&page=1\n"
     ]
    },
    {
     "name": "stderr",
     "output_type": "stream",
     "text": [
      "\n"
     ]
    },
    {
     "name": "stdout",
     "output_type": "stream",
     "text": [
      "No results found on page https://www.domain.com.au/rent/?ptype=house&bedrooms=2&postcode=3551&sort=dateupdated-desc&page=1\n"
     ]
    },
    {
     "name": "stderr",
     "output_type": "stream",
     "text": [
      "Processing Part 9, Postcode 3551: 0it [00:00, ?it/s]"
     ]
    },
    {
     "name": "stdout",
     "output_type": "stream",
     "text": [
      "Visiting https://www.domain.com.au/rent/?ptype=house&bedrooms=3&postcode=3551&sort=dateupdated-desc&page=1\n"
     ]
    },
    {
     "name": "stderr",
     "output_type": "stream",
     "text": [
      "\n",
      "Processing Part 9, Postcode 3551: 100%|███████████████████████████████████████████████████| 4/4 [00:04<00:00,  1.06s/it]\n"
     ]
    },
    {
     "name": "stdout",
     "output_type": "stream",
     "text": [
      "Visiting https://www.domain.com.au/rent/?ptype=house&bedrooms=4&postcode=3551&sort=dateupdated-desc&page=1\n"
     ]
    },
    {
     "name": "stderr",
     "output_type": "stream",
     "text": [
      "Processing Part 9, Postcode 3551: 100%|█████████████████████████████████████████████████| 17/17 [00:19<00:00,  1.16s/it]\n"
     ]
    },
    {
     "name": "stdout",
     "output_type": "stream",
     "text": [
      "Visiting https://www.domain.com.au/rent/?ptype=apartment&bedrooms=1&postcode=3550&sort=dateupdated-desc&page=1\n"
     ]
    },
    {
     "name": "stderr",
     "output_type": "stream",
     "text": [
      "Processing Part 9, Postcode 3550: 100%|███████████████████████████████████████████████████| 1/1 [00:01<00:00,  1.05s/it]\n"
     ]
    },
    {
     "name": "stdout",
     "output_type": "stream",
     "text": [
      "Visiting https://www.domain.com.au/rent/?ptype=apartment&bedrooms=2&postcode=3550&sort=dateupdated-desc&page=1\n"
     ]
    },
    {
     "name": "stderr",
     "output_type": "stream",
     "text": [
      "Processing Part 9, Postcode 3550: 100%|█████████████████████████████████████████████████| 12/12 [00:14<00:00,  1.20s/it]\n"
     ]
    },
    {
     "name": "stdout",
     "output_type": "stream",
     "text": [
      "Visiting https://www.domain.com.au/rent/?ptype=apartment&bedrooms=3&postcode=3550&sort=dateupdated-desc&page=1\n"
     ]
    },
    {
     "name": "stderr",
     "output_type": "stream",
     "text": [
      "Processing Part 9, Postcode 3550: 100%|███████████████████████████████████████████████████| 2/2 [00:02<00:00,  1.20s/it]\n"
     ]
    },
    {
     "name": "stdout",
     "output_type": "stream",
     "text": [
      "Visiting https://www.domain.com.au/rent/?ptype=house&bedrooms=2&postcode=3550&sort=dateupdated-desc&page=1\n"
     ]
    },
    {
     "name": "stderr",
     "output_type": "stream",
     "text": [
      "Processing Part 9, Postcode 3550: 100%|█████████████████████████████████████████████████| 20/20 [00:27<00:00,  1.38s/it]\n"
     ]
    },
    {
     "name": "stdout",
     "output_type": "stream",
     "text": [
      "Visiting https://www.domain.com.au/rent/?ptype=house&bedrooms=3&postcode=3550&sort=dateupdated-desc&page=1\n"
     ]
    },
    {
     "name": "stderr",
     "output_type": "stream",
     "text": [
      "Processing Part 9, Postcode 3550: 100%|█████████████████████████████████████████████████| 20/20 [00:22<00:00,  1.13s/it]\n"
     ]
    },
    {
     "name": "stdout",
     "output_type": "stream",
     "text": [
      "Visiting https://www.domain.com.au/rent/?ptype=house&bedrooms=4&postcode=3550&sort=dateupdated-desc&page=1\n"
     ]
    },
    {
     "name": "stderr",
     "output_type": "stream",
     "text": [
      "Processing Part 9, Postcode 3550: 100%|███████████████████████████████████████████████████| 9/9 [00:11<00:00,  1.23s/it]\n"
     ]
    },
    {
     "name": "stdout",
     "output_type": "stream",
     "text": [
      "Visiting https://www.domain.com.au/rent/?ptype=apartment&bedrooms=1&postcode=3555&sort=dateupdated-desc&page=1\n",
      "No results found on page https://www.domain.com.au/rent/?ptype=apartment&bedrooms=1&postcode=3555&sort=dateupdated-desc&page=1\n"
     ]
    },
    {
     "name": "stderr",
     "output_type": "stream",
     "text": [
      "Processing Part 9, Postcode 3555: 0it [00:00, ?it/s]"
     ]
    },
    {
     "name": "stdout",
     "output_type": "stream",
     "text": [
      "Visiting https://www.domain.com.au/rent/?ptype=apartment&bedrooms=2&postcode=3555&sort=dateupdated-desc&page=1\n"
     ]
    },
    {
     "name": "stderr",
     "output_type": "stream",
     "text": [
      "\n"
     ]
    },
    {
     "name": "stdout",
     "output_type": "stream",
     "text": [
      "No results found on page https://www.domain.com.au/rent/?ptype=apartment&bedrooms=2&postcode=3555&sort=dateupdated-desc&page=1\n"
     ]
    },
    {
     "name": "stderr",
     "output_type": "stream",
     "text": [
      "Processing Part 9, Postcode 3555: 0it [00:00, ?it/s]"
     ]
    },
    {
     "name": "stdout",
     "output_type": "stream",
     "text": [
      "Visiting https://www.domain.com.au/rent/?ptype=apartment&bedrooms=3&postcode=3555&sort=dateupdated-desc&page=1\n"
     ]
    },
    {
     "name": "stderr",
     "output_type": "stream",
     "text": [
      "\n",
      "Processing Part 9, Postcode 3555: 100%|███████████████████████████████████████████████████| 1/1 [00:01<00:00,  1.49s/it]\n"
     ]
    },
    {
     "name": "stdout",
     "output_type": "stream",
     "text": [
      "Visiting https://www.domain.com.au/rent/?ptype=house&bedrooms=2&postcode=3555&sort=dateupdated-desc&page=1\n"
     ]
    },
    {
     "name": "stderr",
     "output_type": "stream",
     "text": [
      "Processing Part 9, Postcode 3555: 100%|███████████████████████████████████████████████████| 3/3 [00:03<00:00,  1.16s/it]\n"
     ]
    },
    {
     "name": "stdout",
     "output_type": "stream",
     "text": [
      "Visiting https://www.domain.com.au/rent/?ptype=house&bedrooms=3&postcode=3555&sort=dateupdated-desc&page=1\n"
     ]
    },
    {
     "name": "stderr",
     "output_type": "stream",
     "text": [
      "Processing Part 9, Postcode 3555: 100%|█████████████████████████████████████████████████| 18/18 [00:20<00:00,  1.16s/it]\n"
     ]
    },
    {
     "name": "stdout",
     "output_type": "stream",
     "text": [
      "Visiting https://www.domain.com.au/rent/?ptype=house&bedrooms=4&postcode=3555&sort=dateupdated-desc&page=1\n",
      "No results found on page https://www.domain.com.au/rent/?ptype=house&bedrooms=4&postcode=3555&sort=dateupdated-desc&page=1\n"
     ]
    },
    {
     "name": "stderr",
     "output_type": "stream",
     "text": [
      "Processing Part 9, Postcode 3555: 0it [00:00, ?it/s]"
     ]
    },
    {
     "name": "stdout",
     "output_type": "stream",
     "text": [
      "Visiting https://www.domain.com.au/rent/?ptype=apartment&bedrooms=1&postcode=3550&sort=dateupdated-desc&page=1\n"
     ]
    },
    {
     "name": "stderr",
     "output_type": "stream",
     "text": [
      "\n",
      "Processing Part 9, Postcode 3550: 100%|███████████████████████████████████████████████████| 1/1 [00:00<00:00,  1.00it/s]\n"
     ]
    },
    {
     "name": "stdout",
     "output_type": "stream",
     "text": [
      "Visiting https://www.domain.com.au/rent/?ptype=apartment&bedrooms=2&postcode=3550&sort=dateupdated-desc&page=1\n"
     ]
    },
    {
     "name": "stderr",
     "output_type": "stream",
     "text": [
      "Processing Part 9, Postcode 3550: 100%|█████████████████████████████████████████████████| 12/12 [00:15<00:00,  1.26s/it]\n"
     ]
    },
    {
     "name": "stdout",
     "output_type": "stream",
     "text": [
      "Visiting https://www.domain.com.au/rent/?ptype=apartment&bedrooms=3&postcode=3550&sort=dateupdated-desc&page=1\n"
     ]
    },
    {
     "name": "stderr",
     "output_type": "stream",
     "text": [
      "Processing Part 9, Postcode 3550: 100%|███████████████████████████████████████████████████| 2/2 [00:02<00:00,  1.13s/it]\n"
     ]
    },
    {
     "name": "stdout",
     "output_type": "stream",
     "text": [
      "Visiting https://www.domain.com.au/rent/?ptype=house&bedrooms=2&postcode=3550&sort=dateupdated-desc&page=1\n"
     ]
    },
    {
     "name": "stderr",
     "output_type": "stream",
     "text": [
      "Processing Part 9, Postcode 3550: 100%|█████████████████████████████████████████████████| 20/20 [00:22<00:00,  1.13s/it]\n"
     ]
    },
    {
     "name": "stdout",
     "output_type": "stream",
     "text": [
      "Visiting https://www.domain.com.au/rent/?ptype=house&bedrooms=3&postcode=3550&sort=dateupdated-desc&page=1\n"
     ]
    },
    {
     "name": "stderr",
     "output_type": "stream",
     "text": [
      "Processing Part 9, Postcode 3550: 100%|█████████████████████████████████████████████████| 20/20 [00:22<00:00,  1.12s/it]\n"
     ]
    },
    {
     "name": "stdout",
     "output_type": "stream",
     "text": [
      "Visiting https://www.domain.com.au/rent/?ptype=house&bedrooms=4&postcode=3550&sort=dateupdated-desc&page=1\n"
     ]
    },
    {
     "name": "stderr",
     "output_type": "stream",
     "text": [
      "Processing Part 9, Postcode 3550: 100%|███████████████████████████████████████████████████| 9/9 [00:11<00:00,  1.29s/it]\n"
     ]
    },
    {
     "name": "stdout",
     "output_type": "stream",
     "text": [
      "Visiting https://www.domain.com.au/rent/?ptype=apartment&bedrooms=1&postcode=3875&sort=dateupdated-desc&page=1\n"
     ]
    },
    {
     "name": "stderr",
     "output_type": "stream",
     "text": [
      "Processing Part 9, Postcode 3875: 100%|███████████████████████████████████████████████████| 1/1 [00:01<00:00,  1.31s/it]\n"
     ]
    },
    {
     "name": "stdout",
     "output_type": "stream",
     "text": [
      "Visiting https://www.domain.com.au/rent/?ptype=apartment&bedrooms=2&postcode=3875&sort=dateupdated-desc&page=1\n"
     ]
    },
    {
     "name": "stderr",
     "output_type": "stream",
     "text": [
      "Processing Part 9, Postcode 3875: 100%|███████████████████████████████████████████████████| 2/2 [00:02<00:00,  1.03s/it]\n"
     ]
    },
    {
     "name": "stdout",
     "output_type": "stream",
     "text": [
      "Visiting https://www.domain.com.au/rent/?ptype=apartment&bedrooms=3&postcode=3875&sort=dateupdated-desc&page=1\n"
     ]
    },
    {
     "name": "stderr",
     "output_type": "stream",
     "text": [
      "Processing Part 9, Postcode 3875: 100%|███████████████████████████████████████████████████| 1/1 [00:01<00:00,  1.08s/it]\n"
     ]
    },
    {
     "name": "stdout",
     "output_type": "stream",
     "text": [
      "Visiting https://www.domain.com.au/rent/?ptype=house&bedrooms=2&postcode=3875&sort=dateupdated-desc&page=1\n"
     ]
    },
    {
     "name": "stderr",
     "output_type": "stream",
     "text": [
      "Processing Part 9, Postcode 3875: 100%|███████████████████████████████████████████████████| 2/2 [00:03<00:00,  1.70s/it]\n"
     ]
    },
    {
     "name": "stdout",
     "output_type": "stream",
     "text": [
      "Visiting https://www.domain.com.au/rent/?ptype=house&bedrooms=3&postcode=3875&sort=dateupdated-desc&page=1\n"
     ]
    },
    {
     "name": "stderr",
     "output_type": "stream",
     "text": [
      "Processing Part 9, Postcode 3875: 100%|███████████████████████████████████████████████████| 9/9 [00:09<00:00,  1.09s/it]\n"
     ]
    },
    {
     "name": "stdout",
     "output_type": "stream",
     "text": [
      "Visiting https://www.domain.com.au/rent/?ptype=house&bedrooms=4&postcode=3875&sort=dateupdated-desc&page=1\n"
     ]
    },
    {
     "name": "stderr",
     "output_type": "stream",
     "text": [
      "Processing Part 9, Postcode 3875: 100%|███████████████████████████████████████████████████| 8/8 [00:11<00:00,  1.38s/it]\n"
     ]
    },
    {
     "name": "stdout",
     "output_type": "stream",
     "text": [
      "Visiting https://www.domain.com.au/rent/?ptype=apartment&bedrooms=1&postcode=3671&sort=dateupdated-desc&page=1\n",
      "No results found on page https://www.domain.com.au/rent/?ptype=apartment&bedrooms=1&postcode=3671&sort=dateupdated-desc&page=1\n"
     ]
    },
    {
     "name": "stderr",
     "output_type": "stream",
     "text": [
      "Processing Part 9, Postcode 3671: 0it [00:00, ?it/s]"
     ]
    },
    {
     "name": "stdout",
     "output_type": "stream",
     "text": [
      "Visiting https://www.domain.com.au/rent/?ptype=apartment&bedrooms=2&postcode=3671&sort=dateupdated-desc&page=1\n"
     ]
    },
    {
     "name": "stderr",
     "output_type": "stream",
     "text": [
      "\n"
     ]
    },
    {
     "name": "stdout",
     "output_type": "stream",
     "text": [
      "No results found on page https://www.domain.com.au/rent/?ptype=apartment&bedrooms=2&postcode=3671&sort=dateupdated-desc&page=1\n"
     ]
    },
    {
     "name": "stderr",
     "output_type": "stream",
     "text": [
      "Processing Part 9, Postcode 3671: 0it [00:00, ?it/s]"
     ]
    },
    {
     "name": "stdout",
     "output_type": "stream",
     "text": [
      "Visiting https://www.domain.com.au/rent/?ptype=apartment&bedrooms=3&postcode=3671&sort=dateupdated-desc&page=1\n"
     ]
    },
    {
     "name": "stderr",
     "output_type": "stream",
     "text": [
      "\n"
     ]
    },
    {
     "name": "stdout",
     "output_type": "stream",
     "text": [
      "No results found on page https://www.domain.com.au/rent/?ptype=apartment&bedrooms=3&postcode=3671&sort=dateupdated-desc&page=1\n"
     ]
    },
    {
     "name": "stderr",
     "output_type": "stream",
     "text": [
      "Processing Part 9, Postcode 3671: 0it [00:00, ?it/s]"
     ]
    },
    {
     "name": "stdout",
     "output_type": "stream",
     "text": [
      "Visiting https://www.domain.com.au/rent/?ptype=house&bedrooms=2&postcode=3671&sort=dateupdated-desc&page=1\n"
     ]
    },
    {
     "name": "stderr",
     "output_type": "stream",
     "text": [
      "\n"
     ]
    },
    {
     "name": "stdout",
     "output_type": "stream",
     "text": [
      "No results found on page https://www.domain.com.au/rent/?ptype=house&bedrooms=2&postcode=3671&sort=dateupdated-desc&page=1\n"
     ]
    },
    {
     "name": "stderr",
     "output_type": "stream",
     "text": [
      "Processing Part 9, Postcode 3671: 0it [00:00, ?it/s]"
     ]
    },
    {
     "name": "stdout",
     "output_type": "stream",
     "text": [
      "Visiting https://www.domain.com.au/rent/?ptype=house&bedrooms=3&postcode=3671&sort=dateupdated-desc&page=1\n"
     ]
    },
    {
     "name": "stderr",
     "output_type": "stream",
     "text": [
      "\n"
     ]
    },
    {
     "name": "stdout",
     "output_type": "stream",
     "text": [
      "No results found on page https://www.domain.com.au/rent/?ptype=house&bedrooms=3&postcode=3671&sort=dateupdated-desc&page=1\n"
     ]
    },
    {
     "name": "stderr",
     "output_type": "stream",
     "text": [
      "Processing Part 9, Postcode 3671: 0it [00:00, ?it/s]"
     ]
    },
    {
     "name": "stdout",
     "output_type": "stream",
     "text": [
      "Visiting https://www.domain.com.au/rent/?ptype=house&bedrooms=4&postcode=3671&sort=dateupdated-desc&page=1\n"
     ]
    },
    {
     "name": "stderr",
     "output_type": "stream",
     "text": [
      "\n"
     ]
    },
    {
     "name": "stdout",
     "output_type": "stream",
     "text": [
      "No results found on page https://www.domain.com.au/rent/?ptype=house&bedrooms=4&postcode=3671&sort=dateupdated-desc&page=1\n"
     ]
    },
    {
     "name": "stderr",
     "output_type": "stream",
     "text": [
      "Processing Part 9, Postcode 3671: 0it [00:00, ?it/s]"
     ]
    },
    {
     "name": "stdout",
     "output_type": "stream",
     "text": [
      "Visiting https://www.domain.com.au/rent/?ptype=apartment&bedrooms=1&postcode=3672&sort=dateupdated-desc&page=1\n"
     ]
    },
    {
     "name": "stderr",
     "output_type": "stream",
     "text": [
      "\n",
      "Processing Part 9, Postcode 3672: 100%|███████████████████████████████████████████████████| 1/1 [00:01<00:00,  1.04s/it]\n"
     ]
    },
    {
     "name": "stdout",
     "output_type": "stream",
     "text": [
      "Visiting https://www.domain.com.au/rent/?ptype=apartment&bedrooms=2&postcode=3672&sort=dateupdated-desc&page=1\n",
      "No results found on page https://www.domain.com.au/rent/?ptype=apartment&bedrooms=2&postcode=3672&sort=dateupdated-desc&page=1\n"
     ]
    },
    {
     "name": "stderr",
     "output_type": "stream",
     "text": [
      "Processing Part 9, Postcode 3672: 0it [00:00, ?it/s]"
     ]
    },
    {
     "name": "stdout",
     "output_type": "stream",
     "text": [
      "Visiting https://www.domain.com.au/rent/?ptype=apartment&bedrooms=3&postcode=3672&sort=dateupdated-desc&page=1\n"
     ]
    },
    {
     "name": "stderr",
     "output_type": "stream",
     "text": [
      "\n"
     ]
    },
    {
     "name": "stdout",
     "output_type": "stream",
     "text": [
      "No results found on page https://www.domain.com.au/rent/?ptype=apartment&bedrooms=3&postcode=3672&sort=dateupdated-desc&page=1\n"
     ]
    },
    {
     "name": "stderr",
     "output_type": "stream",
     "text": [
      "Processing Part 9, Postcode 3672: 0it [00:00, ?it/s]"
     ]
    },
    {
     "name": "stdout",
     "output_type": "stream",
     "text": [
      "Visiting https://www.domain.com.au/rent/?ptype=house&bedrooms=2&postcode=3672&sort=dateupdated-desc&page=1\n"
     ]
    },
    {
     "name": "stderr",
     "output_type": "stream",
     "text": [
      "\n",
      "Processing Part 9, Postcode 3672: 100%|███████████████████████████████████████████████████| 3/3 [00:03<00:00,  1.06s/it]\n"
     ]
    },
    {
     "name": "stdout",
     "output_type": "stream",
     "text": [
      "Visiting https://www.domain.com.au/rent/?ptype=house&bedrooms=3&postcode=3672&sort=dateupdated-desc&page=1\n"
     ]
    },
    {
     "name": "stderr",
     "output_type": "stream",
     "text": [
      "Processing Part 9, Postcode 3672: 100%|███████████████████████████████████████████████████| 5/5 [00:05<00:00,  1.07s/it]\n"
     ]
    },
    {
     "name": "stdout",
     "output_type": "stream",
     "text": [
      "Visiting https://www.domain.com.au/rent/?ptype=house&bedrooms=4&postcode=3672&sort=dateupdated-desc&page=1\n"
     ]
    },
    {
     "name": "stderr",
     "output_type": "stream",
     "text": [
      "Processing Part 9, Postcode 3672: 100%|███████████████████████████████████████████████████| 4/4 [00:04<00:00,  1.24s/it]\n"
     ]
    },
    {
     "name": "stdout",
     "output_type": "stream",
     "text": [
      "Visiting https://www.domain.com.au/rent/?ptype=apartment&bedrooms=1&postcode=3450&sort=dateupdated-desc&page=1\n"
     ]
    },
    {
     "name": "stderr",
     "output_type": "stream",
     "text": [
      "Processing Part 9, Postcode 3450: 100%|███████████████████████████████████████████████████| 2/2 [00:02<00:00,  1.01s/it]\n"
     ]
    },
    {
     "name": "stdout",
     "output_type": "stream",
     "text": [
      "Visiting https://www.domain.com.au/rent/?ptype=apartment&bedrooms=2&postcode=3450&sort=dateupdated-desc&page=1\n"
     ]
    },
    {
     "name": "stderr",
     "output_type": "stream",
     "text": [
      "Processing Part 9, Postcode 3450: 100%|███████████████████████████████████████████████████| 1/1 [00:01<00:00,  1.03s/it]\n"
     ]
    },
    {
     "name": "stdout",
     "output_type": "stream",
     "text": [
      "Visiting https://www.domain.com.au/rent/?ptype=apartment&bedrooms=3&postcode=3450&sort=dateupdated-desc&page=1\n",
      "No results found on page https://www.domain.com.au/rent/?ptype=apartment&bedrooms=3&postcode=3450&sort=dateupdated-desc&page=1\n"
     ]
    },
    {
     "name": "stderr",
     "output_type": "stream",
     "text": [
      "Processing Part 9, Postcode 3450: 0it [00:00, ?it/s]"
     ]
    },
    {
     "name": "stdout",
     "output_type": "stream",
     "text": [
      "Visiting https://www.domain.com.au/rent/?ptype=house&bedrooms=2&postcode=3450&sort=dateupdated-desc&page=1\n"
     ]
    },
    {
     "name": "stderr",
     "output_type": "stream",
     "text": [
      "\n",
      "Processing Part 9, Postcode 3450: 100%|███████████████████████████████████████████████████| 1/1 [00:01<00:00,  1.03s/it]\n"
     ]
    },
    {
     "name": "stdout",
     "output_type": "stream",
     "text": [
      "Visiting https://www.domain.com.au/rent/?ptype=house&bedrooms=3&postcode=3450&sort=dateupdated-desc&page=1\n"
     ]
    },
    {
     "name": "stderr",
     "output_type": "stream",
     "text": [
      "Processing Part 9, Postcode 3450: 100%|███████████████████████████████████████████████████| 7/7 [00:12<00:00,  1.75s/it]\n"
     ]
    },
    {
     "name": "stdout",
     "output_type": "stream",
     "text": [
      "Visiting https://www.domain.com.au/rent/?ptype=house&bedrooms=4&postcode=3450&sort=dateupdated-desc&page=1\n",
      "No results found on page https://www.domain.com.au/rent/?ptype=house&bedrooms=4&postcode=3450&sort=dateupdated-desc&page=1\n"
     ]
    },
    {
     "name": "stderr",
     "output_type": "stream",
     "text": [
      "Processing Part 9, Postcode 3450: 0it [00:00, ?it/s]"
     ]
    },
    {
     "name": "stdout",
     "output_type": "stream",
     "text": [
      "Visiting https://www.domain.com.au/rent/?ptype=apartment&bedrooms=1&postcode=3564&sort=dateupdated-desc&page=1\n"
     ]
    },
    {
     "name": "stderr",
     "output_type": "stream",
     "text": [
      "\n",
      "Processing Part 9, Postcode 3564: 100%|███████████████████████████████████████████████████| 3/3 [00:04<00:00,  1.35s/it]\n"
     ]
    },
    {
     "name": "stdout",
     "output_type": "stream",
     "text": [
      "Visiting https://www.domain.com.au/rent/?ptype=apartment&bedrooms=2&postcode=3564&sort=dateupdated-desc&page=1\n"
     ]
    },
    {
     "name": "stderr",
     "output_type": "stream",
     "text": [
      "Processing Part 9, Postcode 3564: 100%|███████████████████████████████████████████████████| 4/4 [00:05<00:00,  1.32s/it]\n"
     ]
    },
    {
     "name": "stdout",
     "output_type": "stream",
     "text": [
      "Visiting https://www.domain.com.au/rent/?ptype=apartment&bedrooms=3&postcode=3564&sort=dateupdated-desc&page=1\n",
      "No results found on page https://www.domain.com.au/rent/?ptype=apartment&bedrooms=3&postcode=3564&sort=dateupdated-desc&page=1\n"
     ]
    },
    {
     "name": "stderr",
     "output_type": "stream",
     "text": [
      "Processing Part 9, Postcode 3564: 0it [00:00, ?it/s]"
     ]
    },
    {
     "name": "stdout",
     "output_type": "stream",
     "text": [
      "Visiting https://www.domain.com.au/rent/?ptype=house&bedrooms=2&postcode=3564&sort=dateupdated-desc&page=1\n"
     ]
    },
    {
     "name": "stderr",
     "output_type": "stream",
     "text": [
      "\n",
      "Processing Part 9, Postcode 3564: 100%|███████████████████████████████████████████████████| 1/1 [00:01<00:00,  1.08s/it]\n"
     ]
    },
    {
     "name": "stdout",
     "output_type": "stream",
     "text": [
      "Visiting https://www.domain.com.au/rent/?ptype=house&bedrooms=3&postcode=3564&sort=dateupdated-desc&page=1\n"
     ]
    },
    {
     "name": "stderr",
     "output_type": "stream",
     "text": [
      "Processing Part 9, Postcode 3564: 100%|███████████████████████████████████████████████████| 4/4 [00:04<00:00,  1.05s/it]\n"
     ]
    },
    {
     "name": "stdout",
     "output_type": "stream",
     "text": [
      "Visiting https://www.domain.com.au/rent/?ptype=house&bedrooms=4&postcode=3564&sort=dateupdated-desc&page=1\n"
     ]
    },
    {
     "name": "stderr",
     "output_type": "stream",
     "text": [
      "Processing Part 9, Postcode 3564: 100%|███████████████████████████████████████████████████| 3/3 [00:03<00:00,  1.28s/it]\n"
     ]
    },
    {
     "name": "stdout",
     "output_type": "stream",
     "text": [
      "Visiting https://www.domain.com.au/rent/?ptype=apartment&bedrooms=1&postcode=3300&sort=dateupdated-desc&page=1\n",
      "No results found on page https://www.domain.com.au/rent/?ptype=apartment&bedrooms=1&postcode=3300&sort=dateupdated-desc&page=1\n"
     ]
    },
    {
     "name": "stderr",
     "output_type": "stream",
     "text": [
      "Processing Part 9, Postcode 3300: 0it [00:00, ?it/s]"
     ]
    },
    {
     "name": "stdout",
     "output_type": "stream",
     "text": [
      "Visiting https://www.domain.com.au/rent/?ptype=apartment&bedrooms=2&postcode=3300&sort=dateupdated-desc&page=1\n"
     ]
    },
    {
     "name": "stderr",
     "output_type": "stream",
     "text": [
      "\n",
      "Processing Part 9, Postcode 3300: 100%|███████████████████████████████████████████████████| 1/1 [00:01<00:00,  1.33s/it]\n"
     ]
    },
    {
     "name": "stdout",
     "output_type": "stream",
     "text": [
      "Visiting https://www.domain.com.au/rent/?ptype=apartment&bedrooms=3&postcode=3300&sort=dateupdated-desc&page=1\n",
      "No results found on page https://www.domain.com.au/rent/?ptype=apartment&bedrooms=3&postcode=3300&sort=dateupdated-desc&page=1\n"
     ]
    },
    {
     "name": "stderr",
     "output_type": "stream",
     "text": [
      "Processing Part 9, Postcode 3300: 0it [00:00, ?it/s]"
     ]
    },
    {
     "name": "stdout",
     "output_type": "stream",
     "text": [
      "Visiting https://www.domain.com.au/rent/?ptype=house&bedrooms=2&postcode=3300&sort=dateupdated-desc&page=1\n"
     ]
    },
    {
     "name": "stderr",
     "output_type": "stream",
     "text": [
      "\n",
      "Processing Part 9, Postcode 3300: 100%|███████████████████████████████████████████████████| 1/1 [00:00<00:00,  1.00it/s]\n"
     ]
    },
    {
     "name": "stdout",
     "output_type": "stream",
     "text": [
      "Visiting https://www.domain.com.au/rent/?ptype=house&bedrooms=3&postcode=3300&sort=dateupdated-desc&page=1\n"
     ]
    },
    {
     "name": "stderr",
     "output_type": "stream",
     "text": [
      "Processing Part 9, Postcode 3300: 100%|███████████████████████████████████████████████████| 2/2 [00:02<00:00,  1.17s/it]\n"
     ]
    },
    {
     "name": "stdout",
     "output_type": "stream",
     "text": [
      "Visiting https://www.domain.com.au/rent/?ptype=house&bedrooms=4&postcode=3300&sort=dateupdated-desc&page=1\n",
      "No results found on page https://www.domain.com.au/rent/?ptype=house&bedrooms=4&postcode=3300&sort=dateupdated-desc&page=1\n"
     ]
    },
    {
     "name": "stderr",
     "output_type": "stream",
     "text": [
      "Processing Part 9, Postcode 3300: 0it [00:00, ?it/s]"
     ]
    },
    {
     "name": "stdout",
     "output_type": "stream",
     "text": [
      "Visiting https://www.domain.com.au/rent/?ptype=apartment&bedrooms=1&postcode=3400&sort=dateupdated-desc&page=1\n"
     ]
    },
    {
     "name": "stderr",
     "output_type": "stream",
     "text": [
      "\n"
     ]
    },
    {
     "name": "stdout",
     "output_type": "stream",
     "text": [
      "No results found on page https://www.domain.com.au/rent/?ptype=apartment&bedrooms=1&postcode=3400&sort=dateupdated-desc&page=1\n"
     ]
    },
    {
     "name": "stderr",
     "output_type": "stream",
     "text": [
      "Processing Part 9, Postcode 3400: 0it [00:00, ?it/s]"
     ]
    },
    {
     "name": "stdout",
     "output_type": "stream",
     "text": [
      "Visiting https://www.domain.com.au/rent/?ptype=apartment&bedrooms=2&postcode=3400&sort=dateupdated-desc&page=1\n"
     ]
    },
    {
     "name": "stderr",
     "output_type": "stream",
     "text": [
      "\n",
      "Processing Part 9, Postcode 3400: 100%|███████████████████████████████████████████████████| 1/1 [00:01<00:00,  1.09s/it]\n"
     ]
    },
    {
     "name": "stdout",
     "output_type": "stream",
     "text": [
      "Visiting https://www.domain.com.au/rent/?ptype=apartment&bedrooms=3&postcode=3400&sort=dateupdated-desc&page=1\n"
     ]
    },
    {
     "name": "stderr",
     "output_type": "stream",
     "text": [
      "Processing Part 9, Postcode 3400: 100%|███████████████████████████████████████████████████| 2/2 [00:02<00:00,  1.14s/it]\n"
     ]
    },
    {
     "name": "stdout",
     "output_type": "stream",
     "text": [
      "Visiting https://www.domain.com.au/rent/?ptype=house&bedrooms=2&postcode=3400&sort=dateupdated-desc&page=1\n"
     ]
    },
    {
     "name": "stderr",
     "output_type": "stream",
     "text": [
      "Processing Part 9, Postcode 3400: 100%|███████████████████████████████████████████████████| 1/1 [00:00<00:00,  1.02it/s]\n"
     ]
    },
    {
     "name": "stdout",
     "output_type": "stream",
     "text": [
      "Visiting https://www.domain.com.au/rent/?ptype=house&bedrooms=3&postcode=3400&sort=dateupdated-desc&page=1\n"
     ]
    },
    {
     "name": "stderr",
     "output_type": "stream",
     "text": [
      "Processing Part 9, Postcode 3400: 100%|█████████████████████████████████████████████████| 16/16 [00:20<00:00,  1.26s/it]\n"
     ]
    },
    {
     "name": "stdout",
     "output_type": "stream",
     "text": [
      "Visiting https://www.domain.com.au/rent/?ptype=house&bedrooms=4&postcode=3400&sort=dateupdated-desc&page=1\n"
     ]
    },
    {
     "name": "stderr",
     "output_type": "stream",
     "text": [
      "Processing Part 9, Postcode 3400: 100%|███████████████████████████████████████████████████| 2/2 [00:02<00:00,  1.07s/it]\n"
     ]
    },
    {
     "name": "stdout",
     "output_type": "stream",
     "text": [
      "Visiting https://www.domain.com.au/rent/?ptype=apartment&bedrooms=1&postcode=3402&sort=dateupdated-desc&page=1\n",
      "No results found on page https://www.domain.com.au/rent/?ptype=apartment&bedrooms=1&postcode=3402&sort=dateupdated-desc&page=1\n"
     ]
    },
    {
     "name": "stderr",
     "output_type": "stream",
     "text": [
      "Processing Part 9, Postcode 3402: 0it [00:00, ?it/s]"
     ]
    },
    {
     "name": "stdout",
     "output_type": "stream",
     "text": [
      "Visiting https://www.domain.com.au/rent/?ptype=apartment&bedrooms=2&postcode=3402&sort=dateupdated-desc&page=1\n"
     ]
    },
    {
     "name": "stderr",
     "output_type": "stream",
     "text": [
      "\n"
     ]
    },
    {
     "name": "stdout",
     "output_type": "stream",
     "text": [
      "No results found on page https://www.domain.com.au/rent/?ptype=apartment&bedrooms=2&postcode=3402&sort=dateupdated-desc&page=1\n"
     ]
    },
    {
     "name": "stderr",
     "output_type": "stream",
     "text": [
      "Processing Part 9, Postcode 3402: 0it [00:00, ?it/s]"
     ]
    },
    {
     "name": "stdout",
     "output_type": "stream",
     "text": [
      "Visiting https://www.domain.com.au/rent/?ptype=apartment&bedrooms=3&postcode=3402&sort=dateupdated-desc&page=1\n"
     ]
    },
    {
     "name": "stderr",
     "output_type": "stream",
     "text": [
      "\n"
     ]
    },
    {
     "name": "stdout",
     "output_type": "stream",
     "text": [
      "No results found on page https://www.domain.com.au/rent/?ptype=apartment&bedrooms=3&postcode=3402&sort=dateupdated-desc&page=1\n"
     ]
    },
    {
     "name": "stderr",
     "output_type": "stream",
     "text": [
      "Processing Part 9, Postcode 3402: 0it [00:00, ?it/s]"
     ]
    },
    {
     "name": "stdout",
     "output_type": "stream",
     "text": [
      "Visiting https://www.domain.com.au/rent/?ptype=house&bedrooms=2&postcode=3402&sort=dateupdated-desc&page=1\n"
     ]
    },
    {
     "name": "stderr",
     "output_type": "stream",
     "text": [
      "\n"
     ]
    },
    {
     "name": "stdout",
     "output_type": "stream",
     "text": [
      "No results found on page https://www.domain.com.au/rent/?ptype=house&bedrooms=2&postcode=3402&sort=dateupdated-desc&page=1\n"
     ]
    },
    {
     "name": "stderr",
     "output_type": "stream",
     "text": [
      "Processing Part 9, Postcode 3402: 0it [00:00, ?it/s]"
     ]
    },
    {
     "name": "stdout",
     "output_type": "stream",
     "text": [
      "Visiting https://www.domain.com.au/rent/?ptype=house&bedrooms=3&postcode=3402&sort=dateupdated-desc&page=1\n"
     ]
    },
    {
     "name": "stderr",
     "output_type": "stream",
     "text": [
      "\n"
     ]
    },
    {
     "name": "stdout",
     "output_type": "stream",
     "text": [
      "No results found on page https://www.domain.com.au/rent/?ptype=house&bedrooms=3&postcode=3402&sort=dateupdated-desc&page=1\n"
     ]
    },
    {
     "name": "stderr",
     "output_type": "stream",
     "text": [
      "Processing Part 9, Postcode 3402: 0it [00:00, ?it/s]"
     ]
    },
    {
     "name": "stdout",
     "output_type": "stream",
     "text": [
      "Visiting https://www.domain.com.au/rent/?ptype=house&bedrooms=4&postcode=3402&sort=dateupdated-desc&page=1\n"
     ]
    },
    {
     "name": "stderr",
     "output_type": "stream",
     "text": [
      "\n"
     ]
    },
    {
     "name": "stdout",
     "output_type": "stream",
     "text": [
      "No results found on page https://www.domain.com.au/rent/?ptype=house&bedrooms=4&postcode=3402&sort=dateupdated-desc&page=1\n"
     ]
    },
    {
     "name": "stderr",
     "output_type": "stream",
     "text": [
      "Processing Part 9, Postcode 3402: 0it [00:00, ?it/s]"
     ]
    },
    {
     "name": "stdout",
     "output_type": "stream",
     "text": [
      "Visiting https://www.domain.com.au/rent/?ptype=apartment&bedrooms=1&postcode=3500&sort=dateupdated-desc&page=1\n"
     ]
    },
    {
     "name": "stderr",
     "output_type": "stream",
     "text": [
      "\n",
      "Processing Part 9, Postcode 3500: 100%|███████████████████████████████████████████████████| 2/2 [00:02<00:00,  1.08s/it]\n"
     ]
    },
    {
     "name": "stdout",
     "output_type": "stream",
     "text": [
      "Visiting https://www.domain.com.au/rent/?ptype=apartment&bedrooms=2&postcode=3500&sort=dateupdated-desc&page=1\n"
     ]
    },
    {
     "name": "stderr",
     "output_type": "stream",
     "text": [
      "Processing Part 9, Postcode 3500: 100%|███████████████████████████████████████████████████| 6/6 [00:06<00:00,  1.02s/it]\n"
     ]
    },
    {
     "name": "stdout",
     "output_type": "stream",
     "text": [
      "Visiting https://www.domain.com.au/rent/?ptype=apartment&bedrooms=3&postcode=3500&sort=dateupdated-desc&page=1\n"
     ]
    },
    {
     "name": "stderr",
     "output_type": "stream",
     "text": [
      "Processing Part 9, Postcode 3500: 100%|███████████████████████████████████████████████████| 3/3 [00:03<00:00,  1.10s/it]\n"
     ]
    },
    {
     "name": "stdout",
     "output_type": "stream",
     "text": [
      "Visiting https://www.domain.com.au/rent/?ptype=house&bedrooms=2&postcode=3500&sort=dateupdated-desc&page=1\n"
     ]
    },
    {
     "name": "stderr",
     "output_type": "stream",
     "text": [
      "Processing Part 9, Postcode 3500: 100%|███████████████████████████████████████████████████| 6/6 [00:07<00:00,  1.27s/it]\n"
     ]
    },
    {
     "name": "stdout",
     "output_type": "stream",
     "text": [
      "Visiting https://www.domain.com.au/rent/?ptype=house&bedrooms=3&postcode=3500&sort=dateupdated-desc&page=1\n"
     ]
    },
    {
     "name": "stderr",
     "output_type": "stream",
     "text": [
      "Processing Part 9, Postcode 3500: 100%|█████████████████████████████████████████████████| 20/20 [00:25<00:00,  1.26s/it]\n"
     ]
    },
    {
     "name": "stdout",
     "output_type": "stream",
     "text": [
      "Visiting https://www.domain.com.au/rent/?ptype=house&bedrooms=4&postcode=3500&sort=dateupdated-desc&page=1\n"
     ]
    },
    {
     "name": "stderr",
     "output_type": "stream",
     "text": [
      "Processing Part 9, Postcode 3500: 100%|███████████████████████████████████████████████████| 8/8 [00:12<00:00,  1.53s/it]\n"
     ]
    },
    {
     "name": "stdout",
     "output_type": "stream",
     "text": [
      "Visiting https://www.domain.com.au/rent/?ptype=apartment&bedrooms=1&postcode=3501&sort=dateupdated-desc&page=1\n",
      "No results found on page https://www.domain.com.au/rent/?ptype=apartment&bedrooms=1&postcode=3501&sort=dateupdated-desc&page=1\n"
     ]
    },
    {
     "name": "stderr",
     "output_type": "stream",
     "text": [
      "Processing Part 9, Postcode 3501: 0it [00:00, ?it/s]"
     ]
    },
    {
     "name": "stdout",
     "output_type": "stream",
     "text": [
      "Visiting https://www.domain.com.au/rent/?ptype=apartment&bedrooms=2&postcode=3501&sort=dateupdated-desc&page=1\n"
     ]
    },
    {
     "name": "stderr",
     "output_type": "stream",
     "text": [
      "\n",
      "Processing Part 9, Postcode 3501: 100%|███████████████████████████████████████████████████| 1/1 [00:01<00:00,  1.09s/it]\n"
     ]
    },
    {
     "name": "stdout",
     "output_type": "stream",
     "text": [
      "Visiting https://www.domain.com.au/rent/?ptype=apartment&bedrooms=3&postcode=3501&sort=dateupdated-desc&page=1\n",
      "No results found on page https://www.domain.com.au/rent/?ptype=apartment&bedrooms=3&postcode=3501&sort=dateupdated-desc&page=1\n"
     ]
    },
    {
     "name": "stderr",
     "output_type": "stream",
     "text": [
      "Processing Part 9, Postcode 3501: 0it [00:00, ?it/s]"
     ]
    },
    {
     "name": "stdout",
     "output_type": "stream",
     "text": [
      "Visiting https://www.domain.com.au/rent/?ptype=house&bedrooms=2&postcode=3501&sort=dateupdated-desc&page=1\n"
     ]
    },
    {
     "name": "stderr",
     "output_type": "stream",
     "text": [
      "\n"
     ]
    },
    {
     "name": "stdout",
     "output_type": "stream",
     "text": [
      "No results found on page https://www.domain.com.au/rent/?ptype=house&bedrooms=2&postcode=3501&sort=dateupdated-desc&page=1\n"
     ]
    },
    {
     "name": "stderr",
     "output_type": "stream",
     "text": [
      "Processing Part 9, Postcode 3501: 0it [00:00, ?it/s]"
     ]
    },
    {
     "name": "stdout",
     "output_type": "stream",
     "text": [
      "Visiting https://www.domain.com.au/rent/?ptype=house&bedrooms=3&postcode=3501&sort=dateupdated-desc&page=1\n"
     ]
    },
    {
     "name": "stderr",
     "output_type": "stream",
     "text": [
      "\n"
     ]
    },
    {
     "name": "stdout",
     "output_type": "stream",
     "text": [
      "No results found on page https://www.domain.com.au/rent/?ptype=house&bedrooms=3&postcode=3501&sort=dateupdated-desc&page=1\n"
     ]
    },
    {
     "name": "stderr",
     "output_type": "stream",
     "text": [
      "Processing Part 9, Postcode 3501: 0it [00:00, ?it/s]"
     ]
    },
    {
     "name": "stdout",
     "output_type": "stream",
     "text": [
      "Visiting https://www.domain.com.au/rent/?ptype=house&bedrooms=4&postcode=3501&sort=dateupdated-desc&page=1\n"
     ]
    },
    {
     "name": "stderr",
     "output_type": "stream",
     "text": [
      "\n"
     ]
    },
    {
     "name": "stdout",
     "output_type": "stream",
     "text": [
      "No results found on page https://www.domain.com.au/rent/?ptype=house&bedrooms=4&postcode=3501&sort=dateupdated-desc&page=1\n"
     ]
    },
    {
     "name": "stderr",
     "output_type": "stream",
     "text": [
      "Processing Part 9, Postcode 3501: 0it [00:00, ?it/s]"
     ]
    },
    {
     "name": "stdout",
     "output_type": "stream",
     "text": [
      "Visiting https://www.domain.com.au/rent/?ptype=apartment&bedrooms=1&postcode=3502&sort=dateupdated-desc&page=1\n"
     ]
    },
    {
     "name": "stderr",
     "output_type": "stream",
     "text": [
      "\n"
     ]
    },
    {
     "name": "stdout",
     "output_type": "stream",
     "text": [
      "No results found on page https://www.domain.com.au/rent/?ptype=apartment&bedrooms=1&postcode=3502&sort=dateupdated-desc&page=1\n"
     ]
    },
    {
     "name": "stderr",
     "output_type": "stream",
     "text": [
      "Processing Part 9, Postcode 3502: 0it [00:00, ?it/s]"
     ]
    },
    {
     "name": "stdout",
     "output_type": "stream",
     "text": [
      "Visiting https://www.domain.com.au/rent/?ptype=apartment&bedrooms=2&postcode=3502&sort=dateupdated-desc&page=1\n"
     ]
    },
    {
     "name": "stderr",
     "output_type": "stream",
     "text": [
      "\n"
     ]
    },
    {
     "name": "stdout",
     "output_type": "stream",
     "text": [
      "No results found on page https://www.domain.com.au/rent/?ptype=apartment&bedrooms=2&postcode=3502&sort=dateupdated-desc&page=1\n"
     ]
    },
    {
     "name": "stderr",
     "output_type": "stream",
     "text": [
      "Processing Part 9, Postcode 3502: 0it [00:00, ?it/s]"
     ]
    },
    {
     "name": "stdout",
     "output_type": "stream",
     "text": [
      "Visiting https://www.domain.com.au/rent/?ptype=apartment&bedrooms=3&postcode=3502&sort=dateupdated-desc&page=1\n"
     ]
    },
    {
     "name": "stderr",
     "output_type": "stream",
     "text": [
      "\n"
     ]
    },
    {
     "name": "stdout",
     "output_type": "stream",
     "text": [
      "No results found on page https://www.domain.com.au/rent/?ptype=apartment&bedrooms=3&postcode=3502&sort=dateupdated-desc&page=1\n"
     ]
    },
    {
     "name": "stderr",
     "output_type": "stream",
     "text": [
      "Processing Part 9, Postcode 3502: 0it [00:00, ?it/s]"
     ]
    },
    {
     "name": "stdout",
     "output_type": "stream",
     "text": [
      "Visiting https://www.domain.com.au/rent/?ptype=house&bedrooms=2&postcode=3502&sort=dateupdated-desc&page=1\n"
     ]
    },
    {
     "name": "stderr",
     "output_type": "stream",
     "text": [
      "\n"
     ]
    },
    {
     "name": "stdout",
     "output_type": "stream",
     "text": [
      "No results found on page https://www.domain.com.au/rent/?ptype=house&bedrooms=2&postcode=3502&sort=dateupdated-desc&page=1\n"
     ]
    },
    {
     "name": "stderr",
     "output_type": "stream",
     "text": [
      "Processing Part 9, Postcode 3502: 0it [00:00, ?it/s]"
     ]
    },
    {
     "name": "stdout",
     "output_type": "stream",
     "text": [
      "Visiting https://www.domain.com.au/rent/?ptype=house&bedrooms=3&postcode=3502&sort=dateupdated-desc&page=1\n"
     ]
    },
    {
     "name": "stderr",
     "output_type": "stream",
     "text": [
      "\n"
     ]
    },
    {
     "name": "stdout",
     "output_type": "stream",
     "text": [
      "No results found on page https://www.domain.com.au/rent/?ptype=house&bedrooms=3&postcode=3502&sort=dateupdated-desc&page=1\n"
     ]
    },
    {
     "name": "stderr",
     "output_type": "stream",
     "text": [
      "Processing Part 9, Postcode 3502: 0it [00:00, ?it/s]"
     ]
    },
    {
     "name": "stdout",
     "output_type": "stream",
     "text": [
      "Visiting https://www.domain.com.au/rent/?ptype=house&bedrooms=4&postcode=3502&sort=dateupdated-desc&page=1\n"
     ]
    },
    {
     "name": "stderr",
     "output_type": "stream",
     "text": [
      "\n"
     ]
    },
    {
     "name": "stdout",
     "output_type": "stream",
     "text": [
      "No results found on page https://www.domain.com.au/rent/?ptype=house&bedrooms=4&postcode=3502&sort=dateupdated-desc&page=1\n"
     ]
    },
    {
     "name": "stderr",
     "output_type": "stream",
     "text": [
      "Processing Part 9, Postcode 3502: 0it [00:00, ?it/s]"
     ]
    },
    {
     "name": "stdout",
     "output_type": "stream",
     "text": [
      "Visiting https://www.domain.com.au/rent/?ptype=apartment&bedrooms=1&postcode=3825&sort=dateupdated-desc&page=1\n"
     ]
    },
    {
     "name": "stderr",
     "output_type": "stream",
     "text": [
      "\n",
      "Processing Part 9, Postcode 3825: 100%|███████████████████████████████████████████████████| 3/3 [00:03<00:00,  1.09s/it]\n"
     ]
    },
    {
     "name": "stdout",
     "output_type": "stream",
     "text": [
      "Visiting https://www.domain.com.au/rent/?ptype=apartment&bedrooms=2&postcode=3825&sort=dateupdated-desc&page=1\n"
     ]
    },
    {
     "name": "stderr",
     "output_type": "stream",
     "text": [
      "Processing Part 9, Postcode 3825: 100%|███████████████████████████████████████████████████| 4/4 [00:05<00:00,  1.39s/it]\n"
     ]
    },
    {
     "name": "stdout",
     "output_type": "stream",
     "text": [
      "Visiting https://www.domain.com.au/rent/?ptype=apartment&bedrooms=3&postcode=3825&sort=dateupdated-desc&page=1\n",
      "No results found on page https://www.domain.com.au/rent/?ptype=apartment&bedrooms=3&postcode=3825&sort=dateupdated-desc&page=1\n"
     ]
    },
    {
     "name": "stderr",
     "output_type": "stream",
     "text": [
      "Processing Part 9, Postcode 3825: 0it [00:00, ?it/s]"
     ]
    },
    {
     "name": "stdout",
     "output_type": "stream",
     "text": [
      "Visiting https://www.domain.com.au/rent/?ptype=house&bedrooms=2&postcode=3825&sort=dateupdated-desc&page=1\n"
     ]
    },
    {
     "name": "stderr",
     "output_type": "stream",
     "text": [
      "\n",
      "Processing Part 9, Postcode 3825: 100%|███████████████████████████████████████████████████| 3/3 [00:03<00:00,  1.22s/it]\n"
     ]
    },
    {
     "name": "stdout",
     "output_type": "stream",
     "text": [
      "Visiting https://www.domain.com.au/rent/?ptype=house&bedrooms=3&postcode=3825&sort=dateupdated-desc&page=1\n"
     ]
    },
    {
     "name": "stderr",
     "output_type": "stream",
     "text": [
      "Processing Part 9, Postcode 3825: 100%|███████████████████████████████████████████████████| 8/8 [00:10<00:00,  1.31s/it]\n"
     ]
    },
    {
     "name": "stdout",
     "output_type": "stream",
     "text": [
      "Visiting https://www.domain.com.au/rent/?ptype=house&bedrooms=4&postcode=3825&sort=dateupdated-desc&page=1\n"
     ]
    },
    {
     "name": "stderr",
     "output_type": "stream",
     "text": [
      "Processing Part 9, Postcode 3825: 100%|███████████████████████████████████████████████████| 5/5 [00:05<00:00,  1.17s/it]\n"
     ]
    },
    {
     "name": "stdout",
     "output_type": "stream",
     "text": [
      "Visiting https://www.domain.com.au/rent/?ptype=apartment&bedrooms=1&postcode=3840&sort=dateupdated-desc&page=1\n"
     ]
    },
    {
     "name": "stderr",
     "output_type": "stream",
     "text": [
      "Processing Part 9, Postcode 3840: 100%|███████████████████████████████████████████████████| 4/4 [00:04<00:00,  1.11s/it]\n"
     ]
    },
    {
     "name": "stdout",
     "output_type": "stream",
     "text": [
      "Visiting https://www.domain.com.au/rent/?ptype=apartment&bedrooms=2&postcode=3840&sort=dateupdated-desc&page=1\n"
     ]
    },
    {
     "name": "stderr",
     "output_type": "stream",
     "text": [
      "Processing Part 9, Postcode 3840: 100%|███████████████████████████████████████████████████| 7/7 [00:07<00:00,  1.07s/it]\n"
     ]
    },
    {
     "name": "stdout",
     "output_type": "stream",
     "text": [
      "Visiting https://www.domain.com.au/rent/?ptype=apartment&bedrooms=3&postcode=3840&sort=dateupdated-desc&page=1\n",
      "No results found on page https://www.domain.com.au/rent/?ptype=apartment&bedrooms=3&postcode=3840&sort=dateupdated-desc&page=1\n"
     ]
    },
    {
     "name": "stderr",
     "output_type": "stream",
     "text": [
      "Processing Part 9, Postcode 3840: 0it [00:00, ?it/s]"
     ]
    },
    {
     "name": "stdout",
     "output_type": "stream",
     "text": [
      "Visiting https://www.domain.com.au/rent/?ptype=house&bedrooms=2&postcode=3840&sort=dateupdated-desc&page=1\n"
     ]
    },
    {
     "name": "stderr",
     "output_type": "stream",
     "text": [
      "\n",
      "Processing Part 9, Postcode 3840: 100%|███████████████████████████████████████████████████| 8/8 [00:10<00:00,  1.37s/it]\n"
     ]
    },
    {
     "name": "stdout",
     "output_type": "stream",
     "text": [
      "Visiting https://www.domain.com.au/rent/?ptype=house&bedrooms=3&postcode=3840&sort=dateupdated-desc&page=1\n"
     ]
    },
    {
     "name": "stderr",
     "output_type": "stream",
     "text": [
      "Processing Part 9, Postcode 3840: 100%|█████████████████████████████████████████████████| 12/12 [00:13<00:00,  1.11s/it]\n"
     ]
    },
    {
     "name": "stdout",
     "output_type": "stream",
     "text": [
      "Visiting https://www.domain.com.au/rent/?ptype=house&bedrooms=4&postcode=3840&sort=dateupdated-desc&page=1\n"
     ]
    },
    {
     "name": "stderr",
     "output_type": "stream",
     "text": [
      "Processing Part 9, Postcode 3840: 100%|███████████████████████████████████████████████████| 9/9 [00:09<00:00,  1.10s/it]\n"
     ]
    },
    {
     "name": "stdout",
     "output_type": "stream",
     "text": [
      "Completed processing Part 9/10. Data saved to ../../data/raw/domain/temp_parts/property_part_9.csv\n",
      "Visiting https://www.domain.com.au/rent/?ptype=apartment&bedrooms=1&postcode=3226&sort=dateupdated-desc&page=1\n"
     ]
    },
    {
     "name": "stderr",
     "output_type": "stream",
     "text": [
      "Processing Part 10, Postcode 3226: 100%|██████████████████████████████████████████████████| 1/1 [00:01<00:00,  1.13s/it]\n"
     ]
    },
    {
     "name": "stdout",
     "output_type": "stream",
     "text": [
      "Visiting https://www.domain.com.au/rent/?ptype=apartment&bedrooms=2&postcode=3226&sort=dateupdated-desc&page=1\n"
     ]
    },
    {
     "name": "stderr",
     "output_type": "stream",
     "text": [
      "Processing Part 10, Postcode 3226: 100%|██████████████████████████████████████████████████| 3/3 [00:03<00:00,  1.12s/it]\n"
     ]
    },
    {
     "name": "stdout",
     "output_type": "stream",
     "text": [
      "Visiting https://www.domain.com.au/rent/?ptype=apartment&bedrooms=3&postcode=3226&sort=dateupdated-desc&page=1\n"
     ]
    },
    {
     "name": "stderr",
     "output_type": "stream",
     "text": [
      "Processing Part 10, Postcode 3226: 100%|██████████████████████████████████████████████████| 1/1 [00:00<00:00,  1.03it/s]\n"
     ]
    },
    {
     "name": "stdout",
     "output_type": "stream",
     "text": [
      "Visiting https://www.domain.com.au/rent/?ptype=house&bedrooms=2&postcode=3226&sort=dateupdated-desc&page=1\n"
     ]
    },
    {
     "name": "stderr",
     "output_type": "stream",
     "text": [
      "Processing Part 10, Postcode 3226: 100%|██████████████████████████████████████████████████| 3/3 [00:03<00:00,  1.08s/it]\n"
     ]
    },
    {
     "name": "stdout",
     "output_type": "stream",
     "text": [
      "Visiting https://www.domain.com.au/rent/?ptype=house&bedrooms=3&postcode=3226&sort=dateupdated-desc&page=1\n"
     ]
    },
    {
     "name": "stderr",
     "output_type": "stream",
     "text": [
      "Processing Part 10, Postcode 3226: 100%|████████████████████████████████████████████████| 12/12 [00:13<00:00,  1.09s/it]\n"
     ]
    },
    {
     "name": "stdout",
     "output_type": "stream",
     "text": [
      "Visiting https://www.domain.com.au/rent/?ptype=house&bedrooms=4&postcode=3226&sort=dateupdated-desc&page=1\n"
     ]
    },
    {
     "name": "stderr",
     "output_type": "stream",
     "text": [
      "Processing Part 10, Postcode 3226: 100%|██████████████████████████████████████████████████| 7/7 [00:08<00:00,  1.27s/it]\n"
     ]
    },
    {
     "name": "stdout",
     "output_type": "stream",
     "text": [
      "Visiting https://www.domain.com.au/rent/?ptype=apartment&bedrooms=1&postcode=3227&sort=dateupdated-desc&page=1\n",
      "No results found on page https://www.domain.com.au/rent/?ptype=apartment&bedrooms=1&postcode=3227&sort=dateupdated-desc&page=1\n"
     ]
    },
    {
     "name": "stderr",
     "output_type": "stream",
     "text": [
      "Processing Part 10, Postcode 3227: 0it [00:00, ?it/s]"
     ]
    },
    {
     "name": "stdout",
     "output_type": "stream",
     "text": [
      "Visiting https://www.domain.com.au/rent/?ptype=apartment&bedrooms=2&postcode=3227&sort=dateupdated-desc&page=1\n"
     ]
    },
    {
     "name": "stderr",
     "output_type": "stream",
     "text": [
      "\n"
     ]
    },
    {
     "name": "stdout",
     "output_type": "stream",
     "text": [
      "No results found on page https://www.domain.com.au/rent/?ptype=apartment&bedrooms=2&postcode=3227&sort=dateupdated-desc&page=1\n"
     ]
    },
    {
     "name": "stderr",
     "output_type": "stream",
     "text": [
      "Processing Part 10, Postcode 3227: 0it [00:00, ?it/s]"
     ]
    },
    {
     "name": "stdout",
     "output_type": "stream",
     "text": [
      "Visiting https://www.domain.com.au/rent/?ptype=apartment&bedrooms=3&postcode=3227&sort=dateupdated-desc&page=1\n"
     ]
    },
    {
     "name": "stderr",
     "output_type": "stream",
     "text": [
      "\n",
      "Processing Part 10, Postcode 3227: 100%|██████████████████████████████████████████████████| 2/2 [00:02<00:00,  1.01s/it]\n"
     ]
    },
    {
     "name": "stdout",
     "output_type": "stream",
     "text": [
      "Visiting https://www.domain.com.au/rent/?ptype=house&bedrooms=2&postcode=3227&sort=dateupdated-desc&page=1\n"
     ]
    },
    {
     "name": "stderr",
     "output_type": "stream",
     "text": [
      "Processing Part 10, Postcode 3227: 100%|██████████████████████████████████████████████████| 2/2 [00:02<00:00,  1.10s/it]\n"
     ]
    },
    {
     "name": "stdout",
     "output_type": "stream",
     "text": [
      "Visiting https://www.domain.com.au/rent/?ptype=house&bedrooms=3&postcode=3227&sort=dateupdated-desc&page=1\n",
      "No results found on page https://www.domain.com.au/rent/?ptype=house&bedrooms=3&postcode=3227&sort=dateupdated-desc&page=1\n"
     ]
    },
    {
     "name": "stderr",
     "output_type": "stream",
     "text": [
      "Processing Part 10, Postcode 3227: 0it [00:00, ?it/s]"
     ]
    },
    {
     "name": "stdout",
     "output_type": "stream",
     "text": [
      "Visiting https://www.domain.com.au/rent/?ptype=house&bedrooms=4&postcode=3227&sort=dateupdated-desc&page=1\n"
     ]
    },
    {
     "name": "stderr",
     "output_type": "stream",
     "text": [
      "\n",
      "Processing Part 10, Postcode 3227: 100%|██████████████████████████████████████████████████| 2/2 [00:02<00:00,  1.09s/it]\n"
     ]
    },
    {
     "name": "stdout",
     "output_type": "stream",
     "text": [
      "Visiting https://www.domain.com.au/rent/?ptype=apartment&bedrooms=1&postcode=3305&sort=dateupdated-desc&page=1\n",
      "No results found on page https://www.domain.com.au/rent/?ptype=apartment&bedrooms=1&postcode=3305&sort=dateupdated-desc&page=1\n"
     ]
    },
    {
     "name": "stderr",
     "output_type": "stream",
     "text": [
      "Processing Part 10, Postcode 3305: 0it [00:00, ?it/s]"
     ]
    },
    {
     "name": "stdout",
     "output_type": "stream",
     "text": [
      "Visiting https://www.domain.com.au/rent/?ptype=apartment&bedrooms=2&postcode=3305&sort=dateupdated-desc&page=1\n"
     ]
    },
    {
     "name": "stderr",
     "output_type": "stream",
     "text": [
      "\n",
      "Processing Part 10, Postcode 3305: 100%|██████████████████████████████████████████████████| 3/3 [00:03<00:00,  1.05s/it]\n"
     ]
    },
    {
     "name": "stdout",
     "output_type": "stream",
     "text": [
      "Visiting https://www.domain.com.au/rent/?ptype=apartment&bedrooms=3&postcode=3305&sort=dateupdated-desc&page=1\n",
      "No results found on page https://www.domain.com.au/rent/?ptype=apartment&bedrooms=3&postcode=3305&sort=dateupdated-desc&page=1\n"
     ]
    },
    {
     "name": "stderr",
     "output_type": "stream",
     "text": [
      "Processing Part 10, Postcode 3305: 0it [00:00, ?it/s]"
     ]
    },
    {
     "name": "stdout",
     "output_type": "stream",
     "text": [
      "Visiting https://www.domain.com.au/rent/?ptype=house&bedrooms=2&postcode=3305&sort=dateupdated-desc&page=1\n"
     ]
    },
    {
     "name": "stderr",
     "output_type": "stream",
     "text": [
      "\n",
      "Processing Part 10, Postcode 3305: 100%|██████████████████████████████████████████████████| 1/1 [00:00<00:00,  1.04it/s]\n"
     ]
    },
    {
     "name": "stdout",
     "output_type": "stream",
     "text": [
      "Visiting https://www.domain.com.au/rent/?ptype=house&bedrooms=3&postcode=3305&sort=dateupdated-desc&page=1\n"
     ]
    },
    {
     "name": "stderr",
     "output_type": "stream",
     "text": [
      "Processing Part 10, Postcode 3305: 100%|██████████████████████████████████████████████████| 7/7 [00:07<00:00,  1.10s/it]\n"
     ]
    },
    {
     "name": "stdout",
     "output_type": "stream",
     "text": [
      "Visiting https://www.domain.com.au/rent/?ptype=house&bedrooms=4&postcode=3305&sort=dateupdated-desc&page=1\n"
     ]
    },
    {
     "name": "stderr",
     "output_type": "stream",
     "text": [
      "Processing Part 10, Postcode 3305: 100%|██████████████████████████████████████████████████| 4/4 [00:04<00:00,  1.04s/it]\n"
     ]
    },
    {
     "name": "stdout",
     "output_type": "stream",
     "text": [
      "Visiting https://www.domain.com.au/rent/?ptype=apartment&bedrooms=1&postcode=3852&sort=dateupdated-desc&page=1\n",
      "No results found on page https://www.domain.com.au/rent/?ptype=apartment&bedrooms=1&postcode=3852&sort=dateupdated-desc&page=1\n"
     ]
    },
    {
     "name": "stderr",
     "output_type": "stream",
     "text": [
      "Processing Part 10, Postcode 3852: 0it [00:00, ?it/s]"
     ]
    },
    {
     "name": "stdout",
     "output_type": "stream",
     "text": [
      "Visiting https://www.domain.com.au/rent/?ptype=apartment&bedrooms=2&postcode=3852&sort=dateupdated-desc&page=1\n"
     ]
    },
    {
     "name": "stderr",
     "output_type": "stream",
     "text": [
      "\n"
     ]
    },
    {
     "name": "stdout",
     "output_type": "stream",
     "text": [
      "No results found on page https://www.domain.com.au/rent/?ptype=apartment&bedrooms=2&postcode=3852&sort=dateupdated-desc&page=1\n"
     ]
    },
    {
     "name": "stderr",
     "output_type": "stream",
     "text": [
      "Processing Part 10, Postcode 3852: 0it [00:00, ?it/s]"
     ]
    },
    {
     "name": "stdout",
     "output_type": "stream",
     "text": [
      "Visiting https://www.domain.com.au/rent/?ptype=apartment&bedrooms=3&postcode=3852&sort=dateupdated-desc&page=1\n"
     ]
    },
    {
     "name": "stderr",
     "output_type": "stream",
     "text": [
      "\n"
     ]
    },
    {
     "name": "stdout",
     "output_type": "stream",
     "text": [
      "No results found on page https://www.domain.com.au/rent/?ptype=apartment&bedrooms=3&postcode=3852&sort=dateupdated-desc&page=1\n"
     ]
    },
    {
     "name": "stderr",
     "output_type": "stream",
     "text": [
      "Processing Part 10, Postcode 3852: 0it [00:00, ?it/s]"
     ]
    },
    {
     "name": "stdout",
     "output_type": "stream",
     "text": [
      "Visiting https://www.domain.com.au/rent/?ptype=house&bedrooms=2&postcode=3852&sort=dateupdated-desc&page=1\n"
     ]
    },
    {
     "name": "stderr",
     "output_type": "stream",
     "text": [
      "\n"
     ]
    },
    {
     "name": "stdout",
     "output_type": "stream",
     "text": [
      "No results found on page https://www.domain.com.au/rent/?ptype=house&bedrooms=2&postcode=3852&sort=dateupdated-desc&page=1\n"
     ]
    },
    {
     "name": "stderr",
     "output_type": "stream",
     "text": [
      "Processing Part 10, Postcode 3852: 0it [00:00, ?it/s]"
     ]
    },
    {
     "name": "stdout",
     "output_type": "stream",
     "text": [
      "Visiting https://www.domain.com.au/rent/?ptype=house&bedrooms=3&postcode=3852&sort=dateupdated-desc&page=1\n"
     ]
    },
    {
     "name": "stderr",
     "output_type": "stream",
     "text": [
      "\n"
     ]
    },
    {
     "name": "stdout",
     "output_type": "stream",
     "text": [
      "No results found on page https://www.domain.com.au/rent/?ptype=house&bedrooms=3&postcode=3852&sort=dateupdated-desc&page=1\n"
     ]
    },
    {
     "name": "stderr",
     "output_type": "stream",
     "text": [
      "Processing Part 10, Postcode 3852: 0it [00:00, ?it/s]"
     ]
    },
    {
     "name": "stdout",
     "output_type": "stream",
     "text": [
      "Visiting https://www.domain.com.au/rent/?ptype=house&bedrooms=4&postcode=3852&sort=dateupdated-desc&page=1\n"
     ]
    },
    {
     "name": "stderr",
     "output_type": "stream",
     "text": [
      "\n"
     ]
    },
    {
     "name": "stdout",
     "output_type": "stream",
     "text": [
      "No results found on page https://www.domain.com.au/rent/?ptype=house&bedrooms=4&postcode=3852&sort=dateupdated-desc&page=1\n"
     ]
    },
    {
     "name": "stderr",
     "output_type": "stream",
     "text": [
      "Processing Part 10, Postcode 3852: 0it [00:00, ?it/s]"
     ]
    },
    {
     "name": "stdout",
     "output_type": "stream",
     "text": [
      "Visiting https://www.domain.com.au/rent/?ptype=apartment&bedrooms=1&postcode=3850&sort=dateupdated-desc&page=1\n"
     ]
    },
    {
     "name": "stderr",
     "output_type": "stream",
     "text": [
      "\n"
     ]
    },
    {
     "name": "stdout",
     "output_type": "stream",
     "text": [
      "No results found on page https://www.domain.com.au/rent/?ptype=apartment&bedrooms=1&postcode=3850&sort=dateupdated-desc&page=1\n"
     ]
    },
    {
     "name": "stderr",
     "output_type": "stream",
     "text": [
      "Processing Part 10, Postcode 3850: 0it [00:00, ?it/s]"
     ]
    },
    {
     "name": "stdout",
     "output_type": "stream",
     "text": [
      "Visiting https://www.domain.com.au/rent/?ptype=apartment&bedrooms=2&postcode=3850&sort=dateupdated-desc&page=1\n"
     ]
    },
    {
     "name": "stderr",
     "output_type": "stream",
     "text": [
      "\n",
      "Processing Part 10, Postcode 3850: 100%|██████████████████████████████████████████████████| 4/4 [00:04<00:00,  1.05s/it]\n"
     ]
    },
    {
     "name": "stdout",
     "output_type": "stream",
     "text": [
      "Visiting https://www.domain.com.au/rent/?ptype=apartment&bedrooms=3&postcode=3850&sort=dateupdated-desc&page=1\n"
     ]
    },
    {
     "name": "stderr",
     "output_type": "stream",
     "text": [
      "Processing Part 10, Postcode 3850: 100%|██████████████████████████████████████████████████| 1/1 [00:01<00:00,  1.04s/it]\n"
     ]
    },
    {
     "name": "stdout",
     "output_type": "stream",
     "text": [
      "Visiting https://www.domain.com.au/rent/?ptype=house&bedrooms=2&postcode=3850&sort=dateupdated-desc&page=1\n",
      "No results found on page https://www.domain.com.au/rent/?ptype=house&bedrooms=2&postcode=3850&sort=dateupdated-desc&page=1\n"
     ]
    },
    {
     "name": "stderr",
     "output_type": "stream",
     "text": [
      "Processing Part 10, Postcode 3850: 0it [00:00, ?it/s]"
     ]
    },
    {
     "name": "stdout",
     "output_type": "stream",
     "text": [
      "Visiting https://www.domain.com.au/rent/?ptype=house&bedrooms=3&postcode=3850&sort=dateupdated-desc&page=1\n"
     ]
    },
    {
     "name": "stderr",
     "output_type": "stream",
     "text": [
      "\n",
      "Processing Part 10, Postcode 3850: 100%|██████████████████████████████████████████████████| 3/3 [00:03<00:00,  1.05s/it]\n"
     ]
    },
    {
     "name": "stdout",
     "output_type": "stream",
     "text": [
      "Visiting https://www.domain.com.au/rent/?ptype=house&bedrooms=4&postcode=3850&sort=dateupdated-desc&page=1\n"
     ]
    },
    {
     "name": "stderr",
     "output_type": "stream",
     "text": [
      "Processing Part 10, Postcode 3850: 100%|██████████████████████████████████████████████████| 2/2 [00:02<00:00,  1.05s/it]\n"
     ]
    },
    {
     "name": "stdout",
     "output_type": "stream",
     "text": [
      "Visiting https://www.domain.com.au/rent/?ptype=apartment&bedrooms=1&postcode=3853&sort=dateupdated-desc&page=1\n",
      "No results found on page https://www.domain.com.au/rent/?ptype=apartment&bedrooms=1&postcode=3853&sort=dateupdated-desc&page=1\n"
     ]
    },
    {
     "name": "stderr",
     "output_type": "stream",
     "text": [
      "Processing Part 10, Postcode 3853: 0it [00:00, ?it/s]"
     ]
    },
    {
     "name": "stdout",
     "output_type": "stream",
     "text": [
      "Visiting https://www.domain.com.au/rent/?ptype=apartment&bedrooms=2&postcode=3853&sort=dateupdated-desc&page=1\n"
     ]
    },
    {
     "name": "stderr",
     "output_type": "stream",
     "text": [
      "\n"
     ]
    },
    {
     "name": "stdout",
     "output_type": "stream",
     "text": [
      "No results found on page https://www.domain.com.au/rent/?ptype=apartment&bedrooms=2&postcode=3853&sort=dateupdated-desc&page=1\n"
     ]
    },
    {
     "name": "stderr",
     "output_type": "stream",
     "text": [
      "Processing Part 10, Postcode 3853: 0it [00:00, ?it/s]"
     ]
    },
    {
     "name": "stdout",
     "output_type": "stream",
     "text": [
      "Visiting https://www.domain.com.au/rent/?ptype=apartment&bedrooms=3&postcode=3853&sort=dateupdated-desc&page=1\n"
     ]
    },
    {
     "name": "stderr",
     "output_type": "stream",
     "text": [
      "\n"
     ]
    },
    {
     "name": "stdout",
     "output_type": "stream",
     "text": [
      "No results found on page https://www.domain.com.au/rent/?ptype=apartment&bedrooms=3&postcode=3853&sort=dateupdated-desc&page=1\n"
     ]
    },
    {
     "name": "stderr",
     "output_type": "stream",
     "text": [
      "Processing Part 10, Postcode 3853: 0it [00:00, ?it/s]"
     ]
    },
    {
     "name": "stdout",
     "output_type": "stream",
     "text": [
      "Visiting https://www.domain.com.au/rent/?ptype=house&bedrooms=2&postcode=3853&sort=dateupdated-desc&page=1\n"
     ]
    },
    {
     "name": "stderr",
     "output_type": "stream",
     "text": [
      "\n"
     ]
    },
    {
     "name": "stdout",
     "output_type": "stream",
     "text": [
      "No results found on page https://www.domain.com.au/rent/?ptype=house&bedrooms=2&postcode=3853&sort=dateupdated-desc&page=1\n"
     ]
    },
    {
     "name": "stderr",
     "output_type": "stream",
     "text": [
      "Processing Part 10, Postcode 3853: 0it [00:00, ?it/s]"
     ]
    },
    {
     "name": "stdout",
     "output_type": "stream",
     "text": [
      "Visiting https://www.domain.com.au/rent/?ptype=house&bedrooms=3&postcode=3853&sort=dateupdated-desc&page=1\n"
     ]
    },
    {
     "name": "stderr",
     "output_type": "stream",
     "text": [
      "\n"
     ]
    },
    {
     "name": "stdout",
     "output_type": "stream",
     "text": [
      "No results found on page https://www.domain.com.au/rent/?ptype=house&bedrooms=3&postcode=3853&sort=dateupdated-desc&page=1\n"
     ]
    },
    {
     "name": "stderr",
     "output_type": "stream",
     "text": [
      "Processing Part 10, Postcode 3853: 0it [00:00, ?it/s]"
     ]
    },
    {
     "name": "stdout",
     "output_type": "stream",
     "text": [
      "Visiting https://www.domain.com.au/rent/?ptype=house&bedrooms=4&postcode=3853&sort=dateupdated-desc&page=1\n"
     ]
    },
    {
     "name": "stderr",
     "output_type": "stream",
     "text": [
      "\n"
     ]
    },
    {
     "name": "stdout",
     "output_type": "stream",
     "text": [
      "No results found on page https://www.domain.com.au/rent/?ptype=house&bedrooms=4&postcode=3853&sort=dateupdated-desc&page=1\n"
     ]
    },
    {
     "name": "stderr",
     "output_type": "stream",
     "text": [
      "Processing Part 10, Postcode 3853: 0it [00:00, ?it/s]"
     ]
    },
    {
     "name": "stdout",
     "output_type": "stream",
     "text": [
      "Visiting https://www.domain.com.au/rent/?ptype=apartment&bedrooms=1&postcode=3859&sort=dateupdated-desc&page=1\n"
     ]
    },
    {
     "name": "stderr",
     "output_type": "stream",
     "text": [
      "\n"
     ]
    },
    {
     "name": "stdout",
     "output_type": "stream",
     "text": [
      "No results found on page https://www.domain.com.au/rent/?ptype=apartment&bedrooms=1&postcode=3859&sort=dateupdated-desc&page=1\n"
     ]
    },
    {
     "name": "stderr",
     "output_type": "stream",
     "text": [
      "Processing Part 10, Postcode 3859: 0it [00:00, ?it/s]"
     ]
    },
    {
     "name": "stdout",
     "output_type": "stream",
     "text": [
      "Visiting https://www.domain.com.au/rent/?ptype=apartment&bedrooms=2&postcode=3859&sort=dateupdated-desc&page=1\n"
     ]
    },
    {
     "name": "stderr",
     "output_type": "stream",
     "text": [
      "\n"
     ]
    },
    {
     "name": "stdout",
     "output_type": "stream",
     "text": [
      "No results found on page https://www.domain.com.au/rent/?ptype=apartment&bedrooms=2&postcode=3859&sort=dateupdated-desc&page=1\n"
     ]
    },
    {
     "name": "stderr",
     "output_type": "stream",
     "text": [
      "Processing Part 10, Postcode 3859: 0it [00:00, ?it/s]"
     ]
    },
    {
     "name": "stdout",
     "output_type": "stream",
     "text": [
      "Visiting https://www.domain.com.au/rent/?ptype=apartment&bedrooms=3&postcode=3859&sort=dateupdated-desc&page=1\n"
     ]
    },
    {
     "name": "stderr",
     "output_type": "stream",
     "text": [
      "\n"
     ]
    },
    {
     "name": "stdout",
     "output_type": "stream",
     "text": [
      "No results found on page https://www.domain.com.au/rent/?ptype=apartment&bedrooms=3&postcode=3859&sort=dateupdated-desc&page=1\n"
     ]
    },
    {
     "name": "stderr",
     "output_type": "stream",
     "text": [
      "Processing Part 10, Postcode 3859: 0it [00:00, ?it/s]"
     ]
    },
    {
     "name": "stdout",
     "output_type": "stream",
     "text": [
      "Visiting https://www.domain.com.au/rent/?ptype=house&bedrooms=2&postcode=3859&sort=dateupdated-desc&page=1\n"
     ]
    },
    {
     "name": "stderr",
     "output_type": "stream",
     "text": [
      "\n"
     ]
    },
    {
     "name": "stdout",
     "output_type": "stream",
     "text": [
      "No results found on page https://www.domain.com.au/rent/?ptype=house&bedrooms=2&postcode=3859&sort=dateupdated-desc&page=1\n"
     ]
    },
    {
     "name": "stderr",
     "output_type": "stream",
     "text": [
      "Processing Part 10, Postcode 3859: 0it [00:00, ?it/s]"
     ]
    },
    {
     "name": "stdout",
     "output_type": "stream",
     "text": [
      "Visiting https://www.domain.com.au/rent/?ptype=house&bedrooms=3&postcode=3859&sort=dateupdated-desc&page=1\n"
     ]
    },
    {
     "name": "stderr",
     "output_type": "stream",
     "text": [
      "\n"
     ]
    },
    {
     "name": "stdout",
     "output_type": "stream",
     "text": [
      "No results found on page https://www.domain.com.au/rent/?ptype=house&bedrooms=3&postcode=3859&sort=dateupdated-desc&page=1\n"
     ]
    },
    {
     "name": "stderr",
     "output_type": "stream",
     "text": [
      "Processing Part 10, Postcode 3859: 0it [00:00, ?it/s]"
     ]
    },
    {
     "name": "stdout",
     "output_type": "stream",
     "text": [
      "Visiting https://www.domain.com.au/rent/?ptype=house&bedrooms=4&postcode=3859&sort=dateupdated-desc&page=1\n"
     ]
    },
    {
     "name": "stderr",
     "output_type": "stream",
     "text": [
      "\n"
     ]
    },
    {
     "name": "stdout",
     "output_type": "stream",
     "text": [
      "No results found on page https://www.domain.com.au/rent/?ptype=house&bedrooms=4&postcode=3859&sort=dateupdated-desc&page=1\n"
     ]
    },
    {
     "name": "stderr",
     "output_type": "stream",
     "text": [
      "Processing Part 10, Postcode 3859: 0it [00:00, ?it/s]"
     ]
    },
    {
     "name": "stdout",
     "output_type": "stream",
     "text": [
      "Visiting https://www.domain.com.au/rent/?ptype=apartment&bedrooms=1&postcode=3860&sort=dateupdated-desc&page=1\n"
     ]
    },
    {
     "name": "stderr",
     "output_type": "stream",
     "text": [
      "\n"
     ]
    },
    {
     "name": "stdout",
     "output_type": "stream",
     "text": [
      "No results found on page https://www.domain.com.au/rent/?ptype=apartment&bedrooms=1&postcode=3860&sort=dateupdated-desc&page=1\n"
     ]
    },
    {
     "name": "stderr",
     "output_type": "stream",
     "text": [
      "Processing Part 10, Postcode 3860: 0it [00:00, ?it/s]"
     ]
    },
    {
     "name": "stdout",
     "output_type": "stream",
     "text": [
      "Visiting https://www.domain.com.au/rent/?ptype=apartment&bedrooms=2&postcode=3860&sort=dateupdated-desc&page=1\n"
     ]
    },
    {
     "name": "stderr",
     "output_type": "stream",
     "text": [
      "\n",
      "Processing Part 10, Postcode 3860: 100%|██████████████████████████████████████████████████| 1/1 [00:00<00:00,  1.04it/s]\n"
     ]
    },
    {
     "name": "stdout",
     "output_type": "stream",
     "text": [
      "Visiting https://www.domain.com.au/rent/?ptype=apartment&bedrooms=3&postcode=3860&sort=dateupdated-desc&page=1\n",
      "No results found on page https://www.domain.com.au/rent/?ptype=apartment&bedrooms=3&postcode=3860&sort=dateupdated-desc&page=1\n"
     ]
    },
    {
     "name": "stderr",
     "output_type": "stream",
     "text": [
      "Processing Part 10, Postcode 3860: 0it [00:00, ?it/s]"
     ]
    },
    {
     "name": "stdout",
     "output_type": "stream",
     "text": [
      "Visiting https://www.domain.com.au/rent/?ptype=house&bedrooms=2&postcode=3860&sort=dateupdated-desc&page=1\n"
     ]
    },
    {
     "name": "stderr",
     "output_type": "stream",
     "text": [
      "\n"
     ]
    },
    {
     "name": "stdout",
     "output_type": "stream",
     "text": [
      "No results found on page https://www.domain.com.au/rent/?ptype=house&bedrooms=2&postcode=3860&sort=dateupdated-desc&page=1\n"
     ]
    },
    {
     "name": "stderr",
     "output_type": "stream",
     "text": [
      "Processing Part 10, Postcode 3860: 0it [00:00, ?it/s]"
     ]
    },
    {
     "name": "stdout",
     "output_type": "stream",
     "text": [
      "Visiting https://www.domain.com.au/rent/?ptype=house&bedrooms=3&postcode=3860&sort=dateupdated-desc&page=1\n"
     ]
    },
    {
     "name": "stderr",
     "output_type": "stream",
     "text": [
      "\n",
      "Processing Part 10, Postcode 3860: 100%|██████████████████████████████████████████████████| 1/1 [00:01<00:00,  1.43s/it]\n"
     ]
    },
    {
     "name": "stdout",
     "output_type": "stream",
     "text": [
      "Visiting https://www.domain.com.au/rent/?ptype=house&bedrooms=4&postcode=3860&sort=dateupdated-desc&page=1\n"
     ]
    },
    {
     "name": "stderr",
     "output_type": "stream",
     "text": [
      "Processing Part 10, Postcode 3860: 100%|██████████████████████████████████████████████████| 3/3 [00:03<00:00,  1.02s/it]\n"
     ]
    },
    {
     "name": "stdout",
     "output_type": "stream",
     "text": [
      "Visiting https://www.domain.com.au/rent/?ptype=apartment&bedrooms=1&postcode=3660&sort=dateupdated-desc&page=1\n"
     ]
    },
    {
     "name": "stderr",
     "output_type": "stream",
     "text": [
      "Processing Part 10, Postcode 3660: 100%|██████████████████████████████████████████████████| 2/2 [00:04<00:00,  2.07s/it]\n"
     ]
    },
    {
     "name": "stdout",
     "output_type": "stream",
     "text": [
      "Visiting https://www.domain.com.au/rent/?ptype=apartment&bedrooms=2&postcode=3660&sort=dateupdated-desc&page=1\n"
     ]
    },
    {
     "name": "stderr",
     "output_type": "stream",
     "text": [
      "Processing Part 10, Postcode 3660: 100%|██████████████████████████████████████████████████| 2/2 [00:02<00:00,  1.18s/it]\n"
     ]
    },
    {
     "name": "stdout",
     "output_type": "stream",
     "text": [
      "Visiting https://www.domain.com.au/rent/?ptype=apartment&bedrooms=3&postcode=3660&sort=dateupdated-desc&page=1\n",
      "No results found on page https://www.domain.com.au/rent/?ptype=apartment&bedrooms=3&postcode=3660&sort=dateupdated-desc&page=1\n"
     ]
    },
    {
     "name": "stderr",
     "output_type": "stream",
     "text": [
      "Processing Part 10, Postcode 3660: 0it [00:00, ?it/s]"
     ]
    },
    {
     "name": "stdout",
     "output_type": "stream",
     "text": [
      "Visiting https://www.domain.com.au/rent/?ptype=house&bedrooms=2&postcode=3660&sort=dateupdated-desc&page=1\n"
     ]
    },
    {
     "name": "stderr",
     "output_type": "stream",
     "text": [
      "\n"
     ]
    },
    {
     "name": "stdout",
     "output_type": "stream",
     "text": [
      "No results found on page https://www.domain.com.au/rent/?ptype=house&bedrooms=2&postcode=3660&sort=dateupdated-desc&page=1\n"
     ]
    },
    {
     "name": "stderr",
     "output_type": "stream",
     "text": [
      "Processing Part 10, Postcode 3660: 0it [00:00, ?it/s]"
     ]
    },
    {
     "name": "stdout",
     "output_type": "stream",
     "text": [
      "Visiting https://www.domain.com.au/rent/?ptype=house&bedrooms=3&postcode=3660&sort=dateupdated-desc&page=1\n"
     ]
    },
    {
     "name": "stderr",
     "output_type": "stream",
     "text": [
      "\n",
      "Processing Part 10, Postcode 3660: 100%|██████████████████████████████████████████████████| 2/2 [00:02<00:00,  1.07s/it]\n"
     ]
    },
    {
     "name": "stdout",
     "output_type": "stream",
     "text": [
      "Visiting https://www.domain.com.au/rent/?ptype=house&bedrooms=4&postcode=3660&sort=dateupdated-desc&page=1\n",
      "No results found on page https://www.domain.com.au/rent/?ptype=house&bedrooms=4&postcode=3660&sort=dateupdated-desc&page=1\n"
     ]
    },
    {
     "name": "stderr",
     "output_type": "stream",
     "text": [
      "Processing Part 10, Postcode 3660: 0it [00:00, ?it/s]"
     ]
    },
    {
     "name": "stdout",
     "output_type": "stream",
     "text": [
      "Visiting https://www.domain.com.au/rent/?ptype=apartment&bedrooms=1&postcode=3661&sort=dateupdated-desc&page=1\n"
     ]
    },
    {
     "name": "stderr",
     "output_type": "stream",
     "text": [
      "\n"
     ]
    },
    {
     "name": "stdout",
     "output_type": "stream",
     "text": [
      "No results found on page https://www.domain.com.au/rent/?ptype=apartment&bedrooms=1&postcode=3661&sort=dateupdated-desc&page=1\n"
     ]
    },
    {
     "name": "stderr",
     "output_type": "stream",
     "text": [
      "Processing Part 10, Postcode 3661: 0it [00:00, ?it/s]"
     ]
    },
    {
     "name": "stdout",
     "output_type": "stream",
     "text": [
      "Visiting https://www.domain.com.au/rent/?ptype=apartment&bedrooms=2&postcode=3661&sort=dateupdated-desc&page=1\n"
     ]
    },
    {
     "name": "stderr",
     "output_type": "stream",
     "text": [
      "\n"
     ]
    },
    {
     "name": "stdout",
     "output_type": "stream",
     "text": [
      "No results found on page https://www.domain.com.au/rent/?ptype=apartment&bedrooms=2&postcode=3661&sort=dateupdated-desc&page=1\n"
     ]
    },
    {
     "name": "stderr",
     "output_type": "stream",
     "text": [
      "Processing Part 10, Postcode 3661: 0it [00:00, ?it/s]"
     ]
    },
    {
     "name": "stdout",
     "output_type": "stream",
     "text": [
      "Visiting https://www.domain.com.au/rent/?ptype=apartment&bedrooms=3&postcode=3661&sort=dateupdated-desc&page=1\n"
     ]
    },
    {
     "name": "stderr",
     "output_type": "stream",
     "text": [
      "\n"
     ]
    },
    {
     "name": "stdout",
     "output_type": "stream",
     "text": [
      "No results found on page https://www.domain.com.au/rent/?ptype=apartment&bedrooms=3&postcode=3661&sort=dateupdated-desc&page=1\n"
     ]
    },
    {
     "name": "stderr",
     "output_type": "stream",
     "text": [
      "Processing Part 10, Postcode 3661: 0it [00:00, ?it/s]"
     ]
    },
    {
     "name": "stdout",
     "output_type": "stream",
     "text": [
      "Visiting https://www.domain.com.au/rent/?ptype=house&bedrooms=2&postcode=3661&sort=dateupdated-desc&page=1\n"
     ]
    },
    {
     "name": "stderr",
     "output_type": "stream",
     "text": [
      "\n"
     ]
    },
    {
     "name": "stdout",
     "output_type": "stream",
     "text": [
      "No results found on page https://www.domain.com.au/rent/?ptype=house&bedrooms=2&postcode=3661&sort=dateupdated-desc&page=1\n"
     ]
    },
    {
     "name": "stderr",
     "output_type": "stream",
     "text": [
      "Processing Part 10, Postcode 3661: 0it [00:00, ?it/s]"
     ]
    },
    {
     "name": "stdout",
     "output_type": "stream",
     "text": [
      "Visiting https://www.domain.com.au/rent/?ptype=house&bedrooms=3&postcode=3661&sort=dateupdated-desc&page=1\n"
     ]
    },
    {
     "name": "stderr",
     "output_type": "stream",
     "text": [
      "\n"
     ]
    },
    {
     "name": "stdout",
     "output_type": "stream",
     "text": [
      "No results found on page https://www.domain.com.au/rent/?ptype=house&bedrooms=3&postcode=3661&sort=dateupdated-desc&page=1\n"
     ]
    },
    {
     "name": "stderr",
     "output_type": "stream",
     "text": [
      "Processing Part 10, Postcode 3661: 0it [00:00, ?it/s]"
     ]
    },
    {
     "name": "stdout",
     "output_type": "stream",
     "text": [
      "Visiting https://www.domain.com.au/rent/?ptype=house&bedrooms=4&postcode=3661&sort=dateupdated-desc&page=1\n"
     ]
    },
    {
     "name": "stderr",
     "output_type": "stream",
     "text": [
      "\n"
     ]
    },
    {
     "name": "stdout",
     "output_type": "stream",
     "text": [
      "No results found on page https://www.domain.com.au/rent/?ptype=house&bedrooms=4&postcode=3661&sort=dateupdated-desc&page=1\n"
     ]
    },
    {
     "name": "stderr",
     "output_type": "stream",
     "text": [
      "Processing Part 10, Postcode 3661: 0it [00:00, ?it/s]"
     ]
    },
    {
     "name": "stdout",
     "output_type": "stream",
     "text": [
      "Visiting https://www.domain.com.au/rent/?ptype=apartment&bedrooms=1&postcode=3630&sort=dateupdated-desc&page=1\n"
     ]
    },
    {
     "name": "stderr",
     "output_type": "stream",
     "text": [
      "\n",
      "Processing Part 10, Postcode 3630: 100%|██████████████████████████████████████████████████| 3/3 [00:03<00:00,  1.04s/it]\n"
     ]
    },
    {
     "name": "stdout",
     "output_type": "stream",
     "text": [
      "Visiting https://www.domain.com.au/rent/?ptype=apartment&bedrooms=2&postcode=3630&sort=dateupdated-desc&page=1\n"
     ]
    },
    {
     "name": "stderr",
     "output_type": "stream",
     "text": [
      "Processing Part 10, Postcode 3630: 100%|████████████████████████████████████████████████| 18/18 [00:19<00:00,  1.10s/it]\n"
     ]
    },
    {
     "name": "stdout",
     "output_type": "stream",
     "text": [
      "Visiting https://www.domain.com.au/rent/?ptype=apartment&bedrooms=3&postcode=3630&sort=dateupdated-desc&page=1\n"
     ]
    },
    {
     "name": "stderr",
     "output_type": "stream",
     "text": [
      "Processing Part 10, Postcode 3630: 100%|██████████████████████████████████████████████████| 1/1 [00:01<00:00,  1.58s/it]\n"
     ]
    },
    {
     "name": "stdout",
     "output_type": "stream",
     "text": [
      "Visiting https://www.domain.com.au/rent/?ptype=house&bedrooms=2&postcode=3630&sort=dateupdated-desc&page=1\n"
     ]
    },
    {
     "name": "stderr",
     "output_type": "stream",
     "text": [
      "Processing Part 10, Postcode 3630: 100%|██████████████████████████████████████████████████| 2/2 [00:02<00:00,  1.06s/it]\n"
     ]
    },
    {
     "name": "stdout",
     "output_type": "stream",
     "text": [
      "Visiting https://www.domain.com.au/rent/?ptype=house&bedrooms=3&postcode=3630&sort=dateupdated-desc&page=1\n"
     ]
    },
    {
     "name": "stderr",
     "output_type": "stream",
     "text": [
      "Processing Part 10, Postcode 3630: 100%|████████████████████████████████████████████████| 20/20 [00:21<00:00,  1.10s/it]\n"
     ]
    },
    {
     "name": "stdout",
     "output_type": "stream",
     "text": [
      "Visiting https://www.domain.com.au/rent/?ptype=house&bedrooms=4&postcode=3630&sort=dateupdated-desc&page=1\n"
     ]
    },
    {
     "name": "stderr",
     "output_type": "stream",
     "text": [
      "Processing Part 10, Postcode 3630: 100%|████████████████████████████████████████████████| 10/10 [00:11<00:00,  1.10s/it]\n"
     ]
    },
    {
     "name": "stdout",
     "output_type": "stream",
     "text": [
      "Visiting https://www.domain.com.au/rent/?ptype=apartment&bedrooms=1&postcode=3631&sort=dateupdated-desc&page=1\n",
      "No results found on page https://www.domain.com.au/rent/?ptype=apartment&bedrooms=1&postcode=3631&sort=dateupdated-desc&page=1\n"
     ]
    },
    {
     "name": "stderr",
     "output_type": "stream",
     "text": [
      "Processing Part 10, Postcode 3631: 0it [00:00, ?it/s]"
     ]
    },
    {
     "name": "stdout",
     "output_type": "stream",
     "text": [
      "Visiting https://www.domain.com.au/rent/?ptype=apartment&bedrooms=2&postcode=3631&sort=dateupdated-desc&page=1\n"
     ]
    },
    {
     "name": "stderr",
     "output_type": "stream",
     "text": [
      "\n",
      "Processing Part 10, Postcode 3631: 100%|██████████████████████████████████████████████████| 2/2 [00:02<00:00,  1.08s/it]\n"
     ]
    },
    {
     "name": "stdout",
     "output_type": "stream",
     "text": [
      "Visiting https://www.domain.com.au/rent/?ptype=apartment&bedrooms=3&postcode=3631&sort=dateupdated-desc&page=1\n"
     ]
    },
    {
     "name": "stderr",
     "output_type": "stream",
     "text": [
      "Processing Part 10, Postcode 3631: 100%|██████████████████████████████████████████████████| 2/2 [00:02<00:00,  1.34s/it]\n"
     ]
    },
    {
     "name": "stdout",
     "output_type": "stream",
     "text": [
      "Visiting https://www.domain.com.au/rent/?ptype=house&bedrooms=2&postcode=3631&sort=dateupdated-desc&page=1\n",
      "No results found on page https://www.domain.com.au/rent/?ptype=house&bedrooms=2&postcode=3631&sort=dateupdated-desc&page=1\n"
     ]
    },
    {
     "name": "stderr",
     "output_type": "stream",
     "text": [
      "Processing Part 10, Postcode 3631: 0it [00:00, ?it/s]"
     ]
    },
    {
     "name": "stdout",
     "output_type": "stream",
     "text": [
      "Visiting https://www.domain.com.au/rent/?ptype=house&bedrooms=3&postcode=3631&sort=dateupdated-desc&page=1\n"
     ]
    },
    {
     "name": "stderr",
     "output_type": "stream",
     "text": [
      "\n",
      "Processing Part 10, Postcode 3631: 100%|██████████████████████████████████████████████████| 2/2 [00:01<00:00,  1.00it/s]\n"
     ]
    },
    {
     "name": "stdout",
     "output_type": "stream",
     "text": [
      "Visiting https://www.domain.com.au/rent/?ptype=house&bedrooms=4&postcode=3631&sort=dateupdated-desc&page=1\n"
     ]
    },
    {
     "name": "stderr",
     "output_type": "stream",
     "text": [
      "Processing Part 10, Postcode 3631: 100%|██████████████████████████████████████████████████| 8/8 [00:08<00:00,  1.12s/it]\n"
     ]
    },
    {
     "name": "stdout",
     "output_type": "stream",
     "text": [
      "Visiting https://www.domain.com.au/rent/?ptype=apartment&bedrooms=1&postcode=3632&sort=dateupdated-desc&page=1\n",
      "No results found on page https://www.domain.com.au/rent/?ptype=apartment&bedrooms=1&postcode=3632&sort=dateupdated-desc&page=1\n"
     ]
    },
    {
     "name": "stderr",
     "output_type": "stream",
     "text": [
      "Processing Part 10, Postcode 3632: 0it [00:00, ?it/s]"
     ]
    },
    {
     "name": "stdout",
     "output_type": "stream",
     "text": [
      "Visiting https://www.domain.com.au/rent/?ptype=apartment&bedrooms=2&postcode=3632&sort=dateupdated-desc&page=1\n"
     ]
    },
    {
     "name": "stderr",
     "output_type": "stream",
     "text": [
      "\n"
     ]
    },
    {
     "name": "stdout",
     "output_type": "stream",
     "text": [
      "No results found on page https://www.domain.com.au/rent/?ptype=apartment&bedrooms=2&postcode=3632&sort=dateupdated-desc&page=1\n"
     ]
    },
    {
     "name": "stderr",
     "output_type": "stream",
     "text": [
      "Processing Part 10, Postcode 3632: 0it [00:00, ?it/s]"
     ]
    },
    {
     "name": "stdout",
     "output_type": "stream",
     "text": [
      "Visiting https://www.domain.com.au/rent/?ptype=apartment&bedrooms=3&postcode=3632&sort=dateupdated-desc&page=1\n"
     ]
    },
    {
     "name": "stderr",
     "output_type": "stream",
     "text": [
      "\n"
     ]
    },
    {
     "name": "stdout",
     "output_type": "stream",
     "text": [
      "No results found on page https://www.domain.com.au/rent/?ptype=apartment&bedrooms=3&postcode=3632&sort=dateupdated-desc&page=1\n"
     ]
    },
    {
     "name": "stderr",
     "output_type": "stream",
     "text": [
      "Processing Part 10, Postcode 3632: 0it [00:00, ?it/s]"
     ]
    },
    {
     "name": "stdout",
     "output_type": "stream",
     "text": [
      "Visiting https://www.domain.com.au/rent/?ptype=house&bedrooms=2&postcode=3632&sort=dateupdated-desc&page=1\n"
     ]
    },
    {
     "name": "stderr",
     "output_type": "stream",
     "text": [
      "\n"
     ]
    },
    {
     "name": "stdout",
     "output_type": "stream",
     "text": [
      "No results found on page https://www.domain.com.au/rent/?ptype=house&bedrooms=2&postcode=3632&sort=dateupdated-desc&page=1\n"
     ]
    },
    {
     "name": "stderr",
     "output_type": "stream",
     "text": [
      "Processing Part 10, Postcode 3632: 0it [00:00, ?it/s]"
     ]
    },
    {
     "name": "stdout",
     "output_type": "stream",
     "text": [
      "Visiting https://www.domain.com.au/rent/?ptype=house&bedrooms=3&postcode=3632&sort=dateupdated-desc&page=1\n"
     ]
    },
    {
     "name": "stderr",
     "output_type": "stream",
     "text": [
      "\n"
     ]
    },
    {
     "name": "stdout",
     "output_type": "stream",
     "text": [
      "No results found on page https://www.domain.com.au/rent/?ptype=house&bedrooms=3&postcode=3632&sort=dateupdated-desc&page=1\n"
     ]
    },
    {
     "name": "stderr",
     "output_type": "stream",
     "text": [
      "Processing Part 10, Postcode 3632: 0it [00:00, ?it/s]"
     ]
    },
    {
     "name": "stdout",
     "output_type": "stream",
     "text": [
      "Visiting https://www.domain.com.au/rent/?ptype=house&bedrooms=4&postcode=3632&sort=dateupdated-desc&page=1\n"
     ]
    },
    {
     "name": "stderr",
     "output_type": "stream",
     "text": [
      "\n"
     ]
    },
    {
     "name": "stdout",
     "output_type": "stream",
     "text": [
      "No results found on page https://www.domain.com.au/rent/?ptype=house&bedrooms=4&postcode=3632&sort=dateupdated-desc&page=1\n"
     ]
    },
    {
     "name": "stderr",
     "output_type": "stream",
     "text": [
      "Processing Part 10, Postcode 3632: 0it [00:00, ?it/s]"
     ]
    },
    {
     "name": "stdout",
     "output_type": "stream",
     "text": [
      "Visiting https://www.domain.com.au/rent/?ptype=apartment&bedrooms=1&postcode=3585&sort=dateupdated-desc&page=1\n"
     ]
    },
    {
     "name": "stderr",
     "output_type": "stream",
     "text": [
      "\n"
     ]
    },
    {
     "name": "stdout",
     "output_type": "stream",
     "text": [
      "No results found on page https://www.domain.com.au/rent/?ptype=apartment&bedrooms=1&postcode=3585&sort=dateupdated-desc&page=1\n"
     ]
    },
    {
     "name": "stderr",
     "output_type": "stream",
     "text": [
      "Processing Part 10, Postcode 3585: 0it [00:00, ?it/s]"
     ]
    },
    {
     "name": "stdout",
     "output_type": "stream",
     "text": [
      "Visiting https://www.domain.com.au/rent/?ptype=apartment&bedrooms=2&postcode=3585&sort=dateupdated-desc&page=1\n"
     ]
    },
    {
     "name": "stderr",
     "output_type": "stream",
     "text": [
      "\n",
      "Processing Part 10, Postcode 3585: 100%|██████████████████████████████████████████████████| 1/1 [00:01<00:00,  1.07s/it]\n"
     ]
    },
    {
     "name": "stdout",
     "output_type": "stream",
     "text": [
      "Visiting https://www.domain.com.au/rent/?ptype=apartment&bedrooms=3&postcode=3585&sort=dateupdated-desc&page=1\n",
      "No results found on page https://www.domain.com.au/rent/?ptype=apartment&bedrooms=3&postcode=3585&sort=dateupdated-desc&page=1\n"
     ]
    },
    {
     "name": "stderr",
     "output_type": "stream",
     "text": [
      "Processing Part 10, Postcode 3585: 0it [00:00, ?it/s]"
     ]
    },
    {
     "name": "stdout",
     "output_type": "stream",
     "text": [
      "Visiting https://www.domain.com.au/rent/?ptype=house&bedrooms=2&postcode=3585&sort=dateupdated-desc&page=1\n"
     ]
    },
    {
     "name": "stderr",
     "output_type": "stream",
     "text": [
      "\n"
     ]
    },
    {
     "name": "stdout",
     "output_type": "stream",
     "text": [
      "No results found on page https://www.domain.com.au/rent/?ptype=house&bedrooms=2&postcode=3585&sort=dateupdated-desc&page=1\n"
     ]
    },
    {
     "name": "stderr",
     "output_type": "stream",
     "text": [
      "Processing Part 10, Postcode 3585: 0it [00:00, ?it/s]"
     ]
    },
    {
     "name": "stdout",
     "output_type": "stream",
     "text": [
      "Visiting https://www.domain.com.au/rent/?ptype=house&bedrooms=3&postcode=3585&sort=dateupdated-desc&page=1\n"
     ]
    },
    {
     "name": "stderr",
     "output_type": "stream",
     "text": [
      "\n",
      "Processing Part 10, Postcode 3585: 100%|██████████████████████████████████████████████████| 1/1 [00:01<00:00,  1.05s/it]\n"
     ]
    },
    {
     "name": "stdout",
     "output_type": "stream",
     "text": [
      "Visiting https://www.domain.com.au/rent/?ptype=house&bedrooms=4&postcode=3585&sort=dateupdated-desc&page=1\n"
     ]
    },
    {
     "name": "stderr",
     "output_type": "stream",
     "text": [
      "Processing Part 10, Postcode 3585: 100%|██████████████████████████████████████████████████| 2/2 [00:01<00:00,  1.01it/s]\n"
     ]
    },
    {
     "name": "stdout",
     "output_type": "stream",
     "text": [
      "Visiting https://www.domain.com.au/rent/?ptype=apartment&bedrooms=1&postcode=3228&sort=dateupdated-desc&page=1\n",
      "No results found on page https://www.domain.com.au/rent/?ptype=apartment&bedrooms=1&postcode=3228&sort=dateupdated-desc&page=1\n"
     ]
    },
    {
     "name": "stderr",
     "output_type": "stream",
     "text": [
      "Processing Part 10, Postcode 3228: 0it [00:00, ?it/s]"
     ]
    },
    {
     "name": "stdout",
     "output_type": "stream",
     "text": [
      "Visiting https://www.domain.com.au/rent/?ptype=apartment&bedrooms=2&postcode=3228&sort=dateupdated-desc&page=1\n"
     ]
    },
    {
     "name": "stderr",
     "output_type": "stream",
     "text": [
      "\n",
      "Processing Part 10, Postcode 3228: 100%|██████████████████████████████████████████████████| 1/1 [00:01<00:00,  1.07s/it]\n"
     ]
    },
    {
     "name": "stdout",
     "output_type": "stream",
     "text": [
      "Visiting https://www.domain.com.au/rent/?ptype=apartment&bedrooms=3&postcode=3228&sort=dateupdated-desc&page=1\n",
      "No results found on page https://www.domain.com.au/rent/?ptype=apartment&bedrooms=3&postcode=3228&sort=dateupdated-desc&page=1\n"
     ]
    },
    {
     "name": "stderr",
     "output_type": "stream",
     "text": [
      "Processing Part 10, Postcode 3228: 0it [00:00, ?it/s]"
     ]
    },
    {
     "name": "stdout",
     "output_type": "stream",
     "text": [
      "Visiting https://www.domain.com.au/rent/?ptype=house&bedrooms=2&postcode=3228&sort=dateupdated-desc&page=1\n"
     ]
    },
    {
     "name": "stderr",
     "output_type": "stream",
     "text": [
      "\n"
     ]
    },
    {
     "name": "stdout",
     "output_type": "stream",
     "text": [
      "No results found on page https://www.domain.com.au/rent/?ptype=house&bedrooms=2&postcode=3228&sort=dateupdated-desc&page=1\n"
     ]
    },
    {
     "name": "stderr",
     "output_type": "stream",
     "text": [
      "Processing Part 10, Postcode 3228: 0it [00:00, ?it/s]"
     ]
    },
    {
     "name": "stdout",
     "output_type": "stream",
     "text": [
      "Visiting https://www.domain.com.au/rent/?ptype=house&bedrooms=3&postcode=3228&sort=dateupdated-desc&page=1\n"
     ]
    },
    {
     "name": "stderr",
     "output_type": "stream",
     "text": [
      "\n",
      "Processing Part 10, Postcode 3228: 100%|██████████████████████████████████████████████████| 9/9 [00:10<00:00,  1.13s/it]\n"
     ]
    },
    {
     "name": "stdout",
     "output_type": "stream",
     "text": [
      "Visiting https://www.domain.com.au/rent/?ptype=house&bedrooms=4&postcode=3228&sort=dateupdated-desc&page=1\n"
     ]
    },
    {
     "name": "stderr",
     "output_type": "stream",
     "text": [
      "Processing Part 10, Postcode 3228: 100%|██████████████████████████████████████████████████| 5/5 [00:05<00:00,  1.20s/it]\n"
     ]
    },
    {
     "name": "stdout",
     "output_type": "stream",
     "text": [
      "Visiting https://www.domain.com.au/rent/?ptype=apartment&bedrooms=1&postcode=3844&sort=dateupdated-desc&page=1\n"
     ]
    },
    {
     "name": "stderr",
     "output_type": "stream",
     "text": [
      "Processing Part 10, Postcode 3844: 100%|██████████████████████████████████████████████████| 4/4 [00:07<00:00,  1.77s/it]\n"
     ]
    },
    {
     "name": "stdout",
     "output_type": "stream",
     "text": [
      "Visiting https://www.domain.com.au/rent/?ptype=apartment&bedrooms=2&postcode=3844&sort=dateupdated-desc&page=1\n"
     ]
    },
    {
     "name": "stderr",
     "output_type": "stream",
     "text": [
      "Processing Part 10, Postcode 3844: 100%|██████████████████████████████████████████████████| 3/3 [00:03<00:00,  1.04s/it]\n"
     ]
    },
    {
     "name": "stdout",
     "output_type": "stream",
     "text": [
      "Visiting https://www.domain.com.au/rent/?ptype=apartment&bedrooms=3&postcode=3844&sort=dateupdated-desc&page=1\n"
     ]
    },
    {
     "name": "stderr",
     "output_type": "stream",
     "text": [
      "Processing Part 10, Postcode 3844: 100%|██████████████████████████████████████████████████| 2/2 [00:02<00:00,  1.00s/it]\n"
     ]
    },
    {
     "name": "stdout",
     "output_type": "stream",
     "text": [
      "Visiting https://www.domain.com.au/rent/?ptype=house&bedrooms=2&postcode=3844&sort=dateupdated-desc&page=1\n"
     ]
    },
    {
     "name": "stderr",
     "output_type": "stream",
     "text": [
      "Processing Part 10, Postcode 3844: 100%|██████████████████████████████████████████████████| 2/2 [00:01<00:00,  1.02it/s]\n"
     ]
    },
    {
     "name": "stdout",
     "output_type": "stream",
     "text": [
      "Visiting https://www.domain.com.au/rent/?ptype=house&bedrooms=3&postcode=3844&sort=dateupdated-desc&page=1\n"
     ]
    },
    {
     "name": "stderr",
     "output_type": "stream",
     "text": [
      "Processing Part 10, Postcode 3844: 100%|████████████████████████████████████████████████| 14/14 [00:15<00:00,  1.13s/it]\n"
     ]
    },
    {
     "name": "stdout",
     "output_type": "stream",
     "text": [
      "Visiting https://www.domain.com.au/rent/?ptype=house&bedrooms=4&postcode=3844&sort=dateupdated-desc&page=1\n"
     ]
    },
    {
     "name": "stderr",
     "output_type": "stream",
     "text": [
      "Processing Part 10, Postcode 3844: 100%|██████████████████████████████████████████████████| 6/6 [00:07<00:00,  1.22s/it]\n"
     ]
    },
    {
     "name": "stdout",
     "output_type": "stream",
     "text": [
      "Visiting https://www.domain.com.au/rent/?ptype=apartment&bedrooms=1&postcode=3677&sort=dateupdated-desc&page=1\n"
     ]
    },
    {
     "name": "stderr",
     "output_type": "stream",
     "text": [
      "Processing Part 10, Postcode 3677: 100%|██████████████████████████████████████████████████| 2/2 [00:02<00:00,  1.02s/it]\n"
     ]
    },
    {
     "name": "stdout",
     "output_type": "stream",
     "text": [
      "Visiting https://www.domain.com.au/rent/?ptype=apartment&bedrooms=2&postcode=3677&sort=dateupdated-desc&page=1\n"
     ]
    },
    {
     "name": "stderr",
     "output_type": "stream",
     "text": [
      "Processing Part 10, Postcode 3677: 100%|██████████████████████████████████████████████████| 7/7 [00:07<00:00,  1.09s/it]\n"
     ]
    },
    {
     "name": "stdout",
     "output_type": "stream",
     "text": [
      "Visiting https://www.domain.com.au/rent/?ptype=apartment&bedrooms=3&postcode=3677&sort=dateupdated-desc&page=1\n",
      "No results found on page https://www.domain.com.au/rent/?ptype=apartment&bedrooms=3&postcode=3677&sort=dateupdated-desc&page=1\n"
     ]
    },
    {
     "name": "stderr",
     "output_type": "stream",
     "text": [
      "Processing Part 10, Postcode 3677: 0it [00:00, ?it/s]"
     ]
    },
    {
     "name": "stdout",
     "output_type": "stream",
     "text": [
      "Visiting https://www.domain.com.au/rent/?ptype=house&bedrooms=2&postcode=3677&sort=dateupdated-desc&page=1\n"
     ]
    },
    {
     "name": "stderr",
     "output_type": "stream",
     "text": [
      "\n",
      "Processing Part 10, Postcode 3677: 100%|██████████████████████████████████████████████████| 2/2 [00:02<00:00,  1.00s/it]\n"
     ]
    },
    {
     "name": "stdout",
     "output_type": "stream",
     "text": [
      "Visiting https://www.domain.com.au/rent/?ptype=house&bedrooms=3&postcode=3677&sort=dateupdated-desc&page=1\n"
     ]
    },
    {
     "name": "stderr",
     "output_type": "stream",
     "text": [
      "Processing Part 10, Postcode 3677: 100%|██████████████████████████████████████████████████| 6/6 [00:06<00:00,  1.11s/it]\n"
     ]
    },
    {
     "name": "stdout",
     "output_type": "stream",
     "text": [
      "Visiting https://www.domain.com.au/rent/?ptype=house&bedrooms=4&postcode=3677&sort=dateupdated-desc&page=1\n"
     ]
    },
    {
     "name": "stderr",
     "output_type": "stream",
     "text": [
      "Processing Part 10, Postcode 3677: 100%|██████████████████████████████████████████████████| 1/1 [00:01<00:00,  1.01s/it]\n"
     ]
    },
    {
     "name": "stdout",
     "output_type": "stream",
     "text": [
      "Visiting https://www.domain.com.au/rent/?ptype=apartment&bedrooms=1&postcode=3820&sort=dateupdated-desc&page=1\n",
      "No results found on page https://www.domain.com.au/rent/?ptype=apartment&bedrooms=1&postcode=3820&sort=dateupdated-desc&page=1\n"
     ]
    },
    {
     "name": "stderr",
     "output_type": "stream",
     "text": [
      "Processing Part 10, Postcode 3820: 0it [00:00, ?it/s]"
     ]
    },
    {
     "name": "stdout",
     "output_type": "stream",
     "text": [
      "Visiting https://www.domain.com.au/rent/?ptype=apartment&bedrooms=2&postcode=3820&sort=dateupdated-desc&page=1\n"
     ]
    },
    {
     "name": "stderr",
     "output_type": "stream",
     "text": [
      "\n"
     ]
    },
    {
     "name": "stdout",
     "output_type": "stream",
     "text": [
      "No results found on page https://www.domain.com.au/rent/?ptype=apartment&bedrooms=2&postcode=3820&sort=dateupdated-desc&page=1\n"
     ]
    },
    {
     "name": "stderr",
     "output_type": "stream",
     "text": [
      "Processing Part 10, Postcode 3820: 0it [00:00, ?it/s]"
     ]
    },
    {
     "name": "stdout",
     "output_type": "stream",
     "text": [
      "Visiting https://www.domain.com.au/rent/?ptype=apartment&bedrooms=3&postcode=3820&sort=dateupdated-desc&page=1\n"
     ]
    },
    {
     "name": "stderr",
     "output_type": "stream",
     "text": [
      "\n"
     ]
    },
    {
     "name": "stdout",
     "output_type": "stream",
     "text": [
      "No results found on page https://www.domain.com.au/rent/?ptype=apartment&bedrooms=3&postcode=3820&sort=dateupdated-desc&page=1\n"
     ]
    },
    {
     "name": "stderr",
     "output_type": "stream",
     "text": [
      "Processing Part 10, Postcode 3820: 0it [00:00, ?it/s]"
     ]
    },
    {
     "name": "stdout",
     "output_type": "stream",
     "text": [
      "Visiting https://www.domain.com.au/rent/?ptype=house&bedrooms=2&postcode=3820&sort=dateupdated-desc&page=1\n"
     ]
    },
    {
     "name": "stderr",
     "output_type": "stream",
     "text": [
      "\n",
      "Processing Part 10, Postcode 3820: 100%|██████████████████████████████████████████████████| 1/1 [00:01<00:00,  1.06s/it]\n"
     ]
    },
    {
     "name": "stdout",
     "output_type": "stream",
     "text": [
      "Visiting https://www.domain.com.au/rent/?ptype=house&bedrooms=3&postcode=3820&sort=dateupdated-desc&page=1\n"
     ]
    },
    {
     "name": "stderr",
     "output_type": "stream",
     "text": [
      "Processing Part 10, Postcode 3820: 100%|██████████████████████████████████████████████████| 9/9 [00:09<00:00,  1.07s/it]\n"
     ]
    },
    {
     "name": "stdout",
     "output_type": "stream",
     "text": [
      "Visiting https://www.domain.com.au/rent/?ptype=house&bedrooms=4&postcode=3820&sort=dateupdated-desc&page=1\n"
     ]
    },
    {
     "name": "stderr",
     "output_type": "stream",
     "text": [
      "Processing Part 10, Postcode 3820: 100%|████████████████████████████████████████████████| 13/13 [00:15<00:00,  1.17s/it]\n"
     ]
    },
    {
     "name": "stdout",
     "output_type": "stream",
     "text": [
      "Visiting https://www.domain.com.au/rent/?ptype=apartment&bedrooms=1&postcode=3821&sort=dateupdated-desc&page=1\n",
      "No results found on page https://www.domain.com.au/rent/?ptype=apartment&bedrooms=1&postcode=3821&sort=dateupdated-desc&page=1\n"
     ]
    },
    {
     "name": "stderr",
     "output_type": "stream",
     "text": [
      "Processing Part 10, Postcode 3821: 0it [00:00, ?it/s]"
     ]
    },
    {
     "name": "stdout",
     "output_type": "stream",
     "text": [
      "Visiting https://www.domain.com.au/rent/?ptype=apartment&bedrooms=2&postcode=3821&sort=dateupdated-desc&page=1\n"
     ]
    },
    {
     "name": "stderr",
     "output_type": "stream",
     "text": [
      "\n"
     ]
    },
    {
     "name": "stdout",
     "output_type": "stream",
     "text": [
      "No results found on page https://www.domain.com.au/rent/?ptype=apartment&bedrooms=2&postcode=3821&sort=dateupdated-desc&page=1\n"
     ]
    },
    {
     "name": "stderr",
     "output_type": "stream",
     "text": [
      "Processing Part 10, Postcode 3821: 0it [00:00, ?it/s]"
     ]
    },
    {
     "name": "stdout",
     "output_type": "stream",
     "text": [
      "Visiting https://www.domain.com.au/rent/?ptype=apartment&bedrooms=3&postcode=3821&sort=dateupdated-desc&page=1\n"
     ]
    },
    {
     "name": "stderr",
     "output_type": "stream",
     "text": [
      "\n"
     ]
    },
    {
     "name": "stdout",
     "output_type": "stream",
     "text": [
      "No results found on page https://www.domain.com.au/rent/?ptype=apartment&bedrooms=3&postcode=3821&sort=dateupdated-desc&page=1\n"
     ]
    },
    {
     "name": "stderr",
     "output_type": "stream",
     "text": [
      "Processing Part 10, Postcode 3821: 0it [00:00, ?it/s]"
     ]
    },
    {
     "name": "stdout",
     "output_type": "stream",
     "text": [
      "Visiting https://www.domain.com.au/rent/?ptype=house&bedrooms=2&postcode=3821&sort=dateupdated-desc&page=1\n"
     ]
    },
    {
     "name": "stderr",
     "output_type": "stream",
     "text": [
      "\n"
     ]
    },
    {
     "name": "stdout",
     "output_type": "stream",
     "text": [
      "No results found on page https://www.domain.com.au/rent/?ptype=house&bedrooms=2&postcode=3821&sort=dateupdated-desc&page=1\n"
     ]
    },
    {
     "name": "stderr",
     "output_type": "stream",
     "text": [
      "Processing Part 10, Postcode 3821: 0it [00:00, ?it/s]"
     ]
    },
    {
     "name": "stdout",
     "output_type": "stream",
     "text": [
      "Visiting https://www.domain.com.au/rent/?ptype=house&bedrooms=3&postcode=3821&sort=dateupdated-desc&page=1\n"
     ]
    },
    {
     "name": "stderr",
     "output_type": "stream",
     "text": [
      "\n"
     ]
    },
    {
     "name": "stdout",
     "output_type": "stream",
     "text": [
      "No results found on page https://www.domain.com.au/rent/?ptype=house&bedrooms=3&postcode=3821&sort=dateupdated-desc&page=1\n"
     ]
    },
    {
     "name": "stderr",
     "output_type": "stream",
     "text": [
      "Processing Part 10, Postcode 3821: 0it [00:00, ?it/s]"
     ]
    },
    {
     "name": "stdout",
     "output_type": "stream",
     "text": [
      "Visiting https://www.domain.com.au/rent/?ptype=house&bedrooms=4&postcode=3821&sort=dateupdated-desc&page=1\n"
     ]
    },
    {
     "name": "stderr",
     "output_type": "stream",
     "text": [
      "\n"
     ]
    },
    {
     "name": "stdout",
     "output_type": "stream",
     "text": [
      "No results found on page https://www.domain.com.au/rent/?ptype=house&bedrooms=4&postcode=3821&sort=dateupdated-desc&page=1\n"
     ]
    },
    {
     "name": "stderr",
     "output_type": "stream",
     "text": [
      "Processing Part 10, Postcode 3821: 0it [00:00, ?it/s]"
     ]
    },
    {
     "name": "stdout",
     "output_type": "stream",
     "text": [
      "Visiting https://www.domain.com.au/rent/?ptype=apartment&bedrooms=1&postcode=3280&sort=dateupdated-desc&page=1\n"
     ]
    },
    {
     "name": "stderr",
     "output_type": "stream",
     "text": [
      "\n"
     ]
    },
    {
     "name": "stdout",
     "output_type": "stream",
     "text": [
      "No results found on page https://www.domain.com.au/rent/?ptype=apartment&bedrooms=1&postcode=3280&sort=dateupdated-desc&page=1\n"
     ]
    },
    {
     "name": "stderr",
     "output_type": "stream",
     "text": [
      "Processing Part 10, Postcode 3280: 0it [00:00, ?it/s]"
     ]
    },
    {
     "name": "stdout",
     "output_type": "stream",
     "text": [
      "Visiting https://www.domain.com.au/rent/?ptype=apartment&bedrooms=2&postcode=3280&sort=dateupdated-desc&page=1\n"
     ]
    },
    {
     "name": "stderr",
     "output_type": "stream",
     "text": [
      "\n",
      "Processing Part 10, Postcode 3280: 100%|██████████████████████████████████████████████████| 7/7 [00:07<00:00,  1.06s/it]\n"
     ]
    },
    {
     "name": "stdout",
     "output_type": "stream",
     "text": [
      "Visiting https://www.domain.com.au/rent/?ptype=apartment&bedrooms=3&postcode=3280&sort=dateupdated-desc&page=1\n",
      "No results found on page https://www.domain.com.au/rent/?ptype=apartment&bedrooms=3&postcode=3280&sort=dateupdated-desc&page=1\n"
     ]
    },
    {
     "name": "stderr",
     "output_type": "stream",
     "text": [
      "Processing Part 10, Postcode 3280: 0it [00:00, ?it/s]"
     ]
    },
    {
     "name": "stdout",
     "output_type": "stream",
     "text": [
      "Visiting https://www.domain.com.au/rent/?ptype=house&bedrooms=2&postcode=3280&sort=dateupdated-desc&page=1\n"
     ]
    },
    {
     "name": "stderr",
     "output_type": "stream",
     "text": [
      "\n",
      "Processing Part 10, Postcode 3280: 100%|██████████████████████████████████████████████████| 2/2 [00:02<00:00,  1.14s/it]\n"
     ]
    },
    {
     "name": "stdout",
     "output_type": "stream",
     "text": [
      "Visiting https://www.domain.com.au/rent/?ptype=house&bedrooms=3&postcode=3280&sort=dateupdated-desc&page=1\n"
     ]
    },
    {
     "name": "stderr",
     "output_type": "stream",
     "text": [
      "Processing Part 10, Postcode 3280: 100%|████████████████████████████████████████████████| 11/11 [00:13<00:00,  1.22s/it]\n"
     ]
    },
    {
     "name": "stdout",
     "output_type": "stream",
     "text": [
      "Visiting https://www.domain.com.au/rent/?ptype=house&bedrooms=4&postcode=3280&sort=dateupdated-desc&page=1\n"
     ]
    },
    {
     "name": "stderr",
     "output_type": "stream",
     "text": [
      "Processing Part 10, Postcode 3280: 100%|██████████████████████████████████████████████████| 7/7 [00:09<00:00,  1.34s/it]\n"
     ]
    },
    {
     "name": "stdout",
     "output_type": "stream",
     "text": [
      "Visiting https://www.domain.com.au/rent/?ptype=apartment&bedrooms=1&postcode=3689&sort=dateupdated-desc&page=1\n",
      "No results found on page https://www.domain.com.au/rent/?ptype=apartment&bedrooms=1&postcode=3689&sort=dateupdated-desc&page=1\n"
     ]
    },
    {
     "name": "stderr",
     "output_type": "stream",
     "text": [
      "Processing Part 10, Postcode 3689: 0it [00:00, ?it/s]"
     ]
    },
    {
     "name": "stdout",
     "output_type": "stream",
     "text": [
      "Visiting https://www.domain.com.au/rent/?ptype=apartment&bedrooms=2&postcode=3689&sort=dateupdated-desc&page=1\n"
     ]
    },
    {
     "name": "stderr",
     "output_type": "stream",
     "text": [
      "\n"
     ]
    },
    {
     "name": "stdout",
     "output_type": "stream",
     "text": [
      "No results found on page https://www.domain.com.au/rent/?ptype=apartment&bedrooms=2&postcode=3689&sort=dateupdated-desc&page=1\n"
     ]
    },
    {
     "name": "stderr",
     "output_type": "stream",
     "text": [
      "Processing Part 10, Postcode 3689: 0it [00:00, ?it/s]"
     ]
    },
    {
     "name": "stdout",
     "output_type": "stream",
     "text": [
      "Visiting https://www.domain.com.au/rent/?ptype=apartment&bedrooms=3&postcode=3689&sort=dateupdated-desc&page=1\n"
     ]
    },
    {
     "name": "stderr",
     "output_type": "stream",
     "text": [
      "\n"
     ]
    },
    {
     "name": "stdout",
     "output_type": "stream",
     "text": [
      "No results found on page https://www.domain.com.au/rent/?ptype=apartment&bedrooms=3&postcode=3689&sort=dateupdated-desc&page=1\n"
     ]
    },
    {
     "name": "stderr",
     "output_type": "stream",
     "text": [
      "Processing Part 10, Postcode 3689: 0it [00:00, ?it/s]"
     ]
    },
    {
     "name": "stdout",
     "output_type": "stream",
     "text": [
      "Visiting https://www.domain.com.au/rent/?ptype=house&bedrooms=2&postcode=3689&sort=dateupdated-desc&page=1\n"
     ]
    },
    {
     "name": "stderr",
     "output_type": "stream",
     "text": [
      "\n"
     ]
    },
    {
     "name": "stdout",
     "output_type": "stream",
     "text": [
      "No results found on page https://www.domain.com.au/rent/?ptype=house&bedrooms=2&postcode=3689&sort=dateupdated-desc&page=1\n"
     ]
    },
    {
     "name": "stderr",
     "output_type": "stream",
     "text": [
      "Processing Part 10, Postcode 3689: 0it [00:00, ?it/s]"
     ]
    },
    {
     "name": "stdout",
     "output_type": "stream",
     "text": [
      "Visiting https://www.domain.com.au/rent/?ptype=house&bedrooms=3&postcode=3689&sort=dateupdated-desc&page=1\n"
     ]
    },
    {
     "name": "stderr",
     "output_type": "stream",
     "text": [
      "\n"
     ]
    },
    {
     "name": "stdout",
     "output_type": "stream",
     "text": [
      "No results found on page https://www.domain.com.au/rent/?ptype=house&bedrooms=3&postcode=3689&sort=dateupdated-desc&page=1\n"
     ]
    },
    {
     "name": "stderr",
     "output_type": "stream",
     "text": [
      "Processing Part 10, Postcode 3689: 0it [00:00, ?it/s]"
     ]
    },
    {
     "name": "stdout",
     "output_type": "stream",
     "text": [
      "Visiting https://www.domain.com.au/rent/?ptype=house&bedrooms=4&postcode=3689&sort=dateupdated-desc&page=1\n"
     ]
    },
    {
     "name": "stderr",
     "output_type": "stream",
     "text": [
      "\n"
     ]
    },
    {
     "name": "stdout",
     "output_type": "stream",
     "text": [
      "No results found on page https://www.domain.com.au/rent/?ptype=house&bedrooms=4&postcode=3689&sort=dateupdated-desc&page=1\n"
     ]
    },
    {
     "name": "stderr",
     "output_type": "stream",
     "text": [
      "Processing Part 10, Postcode 3689: 0it [00:00, ?it/s]"
     ]
    },
    {
     "name": "stdout",
     "output_type": "stream",
     "text": [
      "Visiting https://www.domain.com.au/rent/?ptype=apartment&bedrooms=1&postcode=3690&sort=dateupdated-desc&page=1\n"
     ]
    },
    {
     "name": "stderr",
     "output_type": "stream",
     "text": [
      "\n",
      "Processing Part 10, Postcode 3690: 100%|██████████████████████████████████████████████████| 1/1 [00:01<00:00,  1.14s/it]\n"
     ]
    },
    {
     "name": "stdout",
     "output_type": "stream",
     "text": [
      "Visiting https://www.domain.com.au/rent/?ptype=apartment&bedrooms=2&postcode=3690&sort=dateupdated-desc&page=1\n"
     ]
    },
    {
     "name": "stderr",
     "output_type": "stream",
     "text": [
      "Processing Part 10, Postcode 3690: 100%|██████████████████████████████████████████████████| 9/9 [00:11<00:00,  1.25s/it]\n"
     ]
    },
    {
     "name": "stdout",
     "output_type": "stream",
     "text": [
      "Visiting https://www.domain.com.au/rent/?ptype=apartment&bedrooms=3&postcode=3690&sort=dateupdated-desc&page=1\n"
     ]
    },
    {
     "name": "stderr",
     "output_type": "stream",
     "text": [
      "Processing Part 10, Postcode 3690: 100%|██████████████████████████████████████████████████| 1/1 [00:01<00:00,  1.02s/it]\n"
     ]
    },
    {
     "name": "stdout",
     "output_type": "stream",
     "text": [
      "Visiting https://www.domain.com.au/rent/?ptype=house&bedrooms=2&postcode=3690&sort=dateupdated-desc&page=1\n"
     ]
    },
    {
     "name": "stderr",
     "output_type": "stream",
     "text": [
      "Processing Part 10, Postcode 3690: 100%|██████████████████████████████████████████████████| 4/4 [00:04<00:00,  1.14s/it]\n"
     ]
    },
    {
     "name": "stdout",
     "output_type": "stream",
     "text": [
      "Visiting https://www.domain.com.au/rent/?ptype=house&bedrooms=3&postcode=3690&sort=dateupdated-desc&page=1\n"
     ]
    },
    {
     "name": "stderr",
     "output_type": "stream",
     "text": [
      "Processing Part 10, Postcode 3690: 100%|████████████████████████████████████████████████| 20/20 [00:22<00:00,  1.11s/it]\n"
     ]
    },
    {
     "name": "stdout",
     "output_type": "stream",
     "text": [
      "Visiting https://www.domain.com.au/rent/?ptype=house&bedrooms=4&postcode=3690&sort=dateupdated-desc&page=1\n"
     ]
    },
    {
     "name": "stderr",
     "output_type": "stream",
     "text": [
      "Processing Part 10, Postcode 3690: 100%|██████████████████████████████████████████████████| 8/8 [00:08<00:00,  1.12s/it]\n"
     ]
    },
    {
     "name": "stdout",
     "output_type": "stream",
     "text": [
      "Visiting https://www.domain.com.au/rent/?ptype=apartment&bedrooms=1&postcode=3691&sort=dateupdated-desc&page=1\n",
      "No results found on page https://www.domain.com.au/rent/?ptype=apartment&bedrooms=1&postcode=3691&sort=dateupdated-desc&page=1\n"
     ]
    },
    {
     "name": "stderr",
     "output_type": "stream",
     "text": [
      "Processing Part 10, Postcode 3691: 0it [00:00, ?it/s]"
     ]
    },
    {
     "name": "stdout",
     "output_type": "stream",
     "text": [
      "Visiting https://www.domain.com.au/rent/?ptype=apartment&bedrooms=2&postcode=3691&sort=dateupdated-desc&page=1\n"
     ]
    },
    {
     "name": "stderr",
     "output_type": "stream",
     "text": [
      "\n"
     ]
    },
    {
     "name": "stdout",
     "output_type": "stream",
     "text": [
      "No results found on page https://www.domain.com.au/rent/?ptype=apartment&bedrooms=2&postcode=3691&sort=dateupdated-desc&page=1\n"
     ]
    },
    {
     "name": "stderr",
     "output_type": "stream",
     "text": [
      "Processing Part 10, Postcode 3691: 0it [00:00, ?it/s]"
     ]
    },
    {
     "name": "stdout",
     "output_type": "stream",
     "text": [
      "Visiting https://www.domain.com.au/rent/?ptype=apartment&bedrooms=3&postcode=3691&sort=dateupdated-desc&page=1\n"
     ]
    },
    {
     "name": "stderr",
     "output_type": "stream",
     "text": [
      "\n"
     ]
    },
    {
     "name": "stdout",
     "output_type": "stream",
     "text": [
      "No results found on page https://www.domain.com.au/rent/?ptype=apartment&bedrooms=3&postcode=3691&sort=dateupdated-desc&page=1\n"
     ]
    },
    {
     "name": "stderr",
     "output_type": "stream",
     "text": [
      "Processing Part 10, Postcode 3691: 0it [00:00, ?it/s]"
     ]
    },
    {
     "name": "stdout",
     "output_type": "stream",
     "text": [
      "Visiting https://www.domain.com.au/rent/?ptype=house&bedrooms=2&postcode=3691&sort=dateupdated-desc&page=1\n"
     ]
    },
    {
     "name": "stderr",
     "output_type": "stream",
     "text": [
      "\n"
     ]
    },
    {
     "name": "stdout",
     "output_type": "stream",
     "text": [
      "No results found on page https://www.domain.com.au/rent/?ptype=house&bedrooms=2&postcode=3691&sort=dateupdated-desc&page=1\n"
     ]
    },
    {
     "name": "stderr",
     "output_type": "stream",
     "text": [
      "Processing Part 10, Postcode 3691: 0it [00:00, ?it/s]"
     ]
    },
    {
     "name": "stdout",
     "output_type": "stream",
     "text": [
      "Visiting https://www.domain.com.au/rent/?ptype=house&bedrooms=3&postcode=3691&sort=dateupdated-desc&page=1\n"
     ]
    },
    {
     "name": "stderr",
     "output_type": "stream",
     "text": [
      "\n",
      "Processing Part 10, Postcode 3691: 100%|██████████████████████████████████████████████████| 1/1 [00:01<00:00,  1.21s/it]\n"
     ]
    },
    {
     "name": "stdout",
     "output_type": "stream",
     "text": [
      "Visiting https://www.domain.com.au/rent/?ptype=house&bedrooms=4&postcode=3691&sort=dateupdated-desc&page=1\n"
     ]
    },
    {
     "name": "stderr",
     "output_type": "stream",
     "text": [
      "Processing Part 10, Postcode 3691: 100%|██████████████████████████████████████████████████| 7/7 [00:07<00:00,  1.12s/it]"
     ]
    },
    {
     "name": "stdout",
     "output_type": "stream",
     "text": [
      "Completed processing Part 10/10. Data saved to ../../data/raw/domain/temp_parts/property_part_10.csv\n",
      "Combined file saved at ../../data/raw/domain/all_properties_combined.csv\n",
      "Temporary files and folder deleted.\n"
     ]
    },
    {
     "name": "stderr",
     "output_type": "stream",
     "text": [
      "\n"
     ]
    }
   ],
   "source": [
    "# # Define the property types and number of bedrooms for each category\n",
    "# categories = {\n",
    "#     \"apartment\": [1, 2, 3],  # Flats with 1, 2, 3 bedrooms\n",
    "#     \"house\": [2, 3, 4]       # Houses with 2, 3, 4 bedrooms\n",
    "# }\n",
    "\n",
    "# # Define the number of parts to split the postcodes into\n",
    "# num_parts = 10\n",
    "# split_postcodes = np.array_split(postcodes, num_parts)\n",
    "\n",
    "# # Create a temporary folder for storing the part files\n",
    "# output_relative_dir = '../../data/raw/domain/'\n",
    "# temp_folder = os.path.join(output_relative_dir, 'temp_parts')\n",
    "# os.makedirs(temp_folder, exist_ok=True)\n",
    "\n",
    "# temp_files = []\n",
    "\n",
    "# BASE_URL = \"https://www.domain.com.au\"\n",
    "\n",
    "# # Iterate through each part of the postcodes\n",
    "# for i, part_postcodes in enumerate(split_postcodes):\n",
    "#     temp_file = os.path.join(temp_folder, f'property_part_{i+1}.csv')\n",
    "    \n",
    "#     # Check if the file already exists\n",
    "#     if os.path.exists(temp_file):\n",
    "#         print(f\"File for Part {i+1} already exists. Skipping processing for this part.\")\n",
    "#         temp_files.append(temp_file)\n",
    "#         continue\n",
    "\n",
    "#     part_property_metadata = []\n",
    "\n",
    "#     # Process each postcode in the current part\n",
    "#     for postcode in part_postcodes:\n",
    "#         N_PAGES = range(1, 2)\n",
    "\n",
    "#         # Collect links for each property type and number of bedrooms\n",
    "#         for ptype, bedrooms_list in categories.items():\n",
    "#             for bedrooms in bedrooms_list:\n",
    "#                 url_links = []\n",
    "#                 for page in N_PAGES:\n",
    "#                     url = BASE_URL + f\"/rent/?ptype={ptype}&bedrooms={bedrooms}&postcode={postcode}&sort=dateupdated-desc&page={page}\"\n",
    "#                     print(f\"Visiting {url}\")\n",
    "\n",
    "#                     # Fetch and process the page\n",
    "#                     try:\n",
    "#                         bs_object = BeautifulSoup(urlopen(Request(url, headers={'User-Agent': \"PostmanRuntime/7.6.0\"})), \"html.parser\")\n",
    "#                     except Exception as e:\n",
    "#                         print(f\"Failed to load page {url}: {e}\")\n",
    "#                         continue\n",
    "\n",
    "#                     result_section = bs_object.find(\"ul\", {\"data-testid\": \"results\"})\n",
    "#                     if not result_section:\n",
    "#                         print(f\"No results found on page {url}\")\n",
    "#                         continue\n",
    "\n",
    "#                     index_links = result_section.findAll(\"a\", href=re.compile(f\"{BASE_URL}/*\"))\n",
    "#                     for link in index_links:\n",
    "#                         if link.get('class') and 'address' in link['class']:\n",
    "#                             url_links.append(link['href'])\n",
    "\n",
    "#                 # Now, scrape property details from each collected link\n",
    "#                 for property_url in tqdm(url_links, desc=f\"Processing Part {i+1}, Postcode {postcode}\"):\n",
    "#                     try:\n",
    "#                         bs_object = BeautifulSoup(urlopen(Request(property_url, headers={'User-Agent': \"PostmanRuntime/7.6.0\"})), \"html.parser\")\n",
    "#                         time.sleep(0.5)  # Delay to avoid rate limiting\n",
    "#                     except Exception as e:\n",
    "#                         print(f\"Failed to load property page {property_url}: {e}\")\n",
    "#                         continue\n",
    "\n",
    "#                     try:\n",
    "#                         # Extract property details\n",
    "#                         address = bs_object.find(\"h1\", {\"class\": \"css-164r41r\"}).text if bs_object.find(\"h1\", {\"class\": \"css-164r41r\"}) else \"N/A\"\n",
    "#                         cost_text = bs_object.find(\"div\", {\"data-testid\": \"listing-details__summary-title\"}).text if bs_object.find(\"div\", {\"data-testid\": \"listing-details__summary-title\"}) else \"N/A\"\n",
    "\n",
    "#                         # Extract property type\n",
    "#                         property_type = ptype.capitalize()\n",
    "\n",
    "#                         # Extract number of bedrooms\n",
    "#                         bathrooms = \"N/A\"\n",
    "#                         rooms_section = bs_object.find(\"div\", {\"data-testid\": \"property-features\"})\n",
    "#                         if rooms_section:\n",
    "#                             rooms = rooms_section.findAll(\"span\", {\"data-testid\": \"property-features-text-container\"})\n",
    "#                             for feature in rooms:\n",
    "#                                 text = feature.text.lower()\n",
    "#                                 if 'bath' in text:\n",
    "#                                     bathrooms = re.findall(r'\\d+', text)[0] if re.findall(r'\\d+', text) else \"N/A\"\n",
    "\n",
    "#                         # Attempt to find the link that contains the coordinates\n",
    "#                         try:\n",
    "#                             href = bs_object.find(\"a\", {\"target\": \"_blank\", 'rel': \"noopener noreferrer\"})\n",
    "#                             href = href.attrs['href'] if href else \"\"\n",
    "#                             coordinates = [float(coord) for coord in re.findall(r'destination=([-\\s,\\d\\.]+)', href)[0].split(',')] if href else [None, None]\n",
    "#                             latitude, longitude = coordinates if len(coordinates) == 2 else (None, None)\n",
    "#                         except (AttributeError, IndexError, ValueError):\n",
    "#                             latitude, longitude = None, None\n",
    "\n",
    "#                         # Extract closest government secondary school information\n",
    "#                         gov_school_name, gov_school_distance = \"N/A\", \"N/A\"\n",
    "#                         school_section = bs_object.find(\"div\", {\"data-testid\": \"listing-details__school-catchment\"})\n",
    "#                         if school_section:\n",
    "#                             gov_section = school_section.find(\"h3\", string=\"Government School Catchment\")\n",
    "#                             if gov_section:\n",
    "#                                 gov_secondary = gov_section.find_next(\"ul\")\n",
    "#                                 if gov_secondary:\n",
    "#                                     gov_schools = gov_secondary.find_all(\"li\", {\"data-testid\": \"fe-co-school-catchment-school\"})\n",
    "#                                     for school in gov_schools:\n",
    "#                                         levels = school.find_all(\"li\", {\"data-testid\": \"fe-co-school-catchment-tags\"})\n",
    "#                                         if any('7-12' in level.text or '7-10' in level.text or '10-12' in level.text for level in levels):\n",
    "#                                             gov_school_name = school.find(\"h4\").text\n",
    "#                                             gov_school_distance = school.find(\"p\").text\n",
    "#                                             break\n",
    "\n",
    "#                         # Extract Neighbourhood Insights age data\n",
    "#                         age_under_20, age_20_39, age_40_59, age_60_plus = \"N/A\", \"N/A\", \"N/A\", \"N/A\"\n",
    "#                         neighbourhood_section = bs_object.find(\"div\", {\"data-testid\": \"listing-details-neighbourhood-insights-container\"})\n",
    "#                         if neighbourhood_section:\n",
    "#                             age_table = neighbourhood_section.find(\"table\", {\"class\": \"css-8atqhb\"})\n",
    "#                             if age_table:\n",
    "#                                 age_rows = age_table.find_all(\"tr\", {\"data-testid\": \"neighbourhood-insights__age-brackets-row\"})\n",
    "#                                 for row in age_rows:\n",
    "#                                     age_label = row.find(\"td\", {\"data-testid\": \"neighbourhood-insights__label\"}).text\n",
    "#                                     age_value = row.find(\"div\", {\"data-testid\": \"bar-value\"}).text\n",
    "#                                     if \"under 20\" in age_label.lower():\n",
    "#                                         age_under_20 = age_value\n",
    "#                                     elif \"20 - 39\" in age_label.lower():\n",
    "#                                         age_20_39 = age_value\n",
    "#                                     elif \"40 - 59\" in age_label.lower():\n",
    "#                                         age_40_59 = age_value\n",
    "#                                     elif \"60+\" in age_label.lower():\n",
    "#                                         age_60_plus = age_value\n",
    "\n",
    "#                         # Append the flattened property data to the list\n",
    "#                         part_property_metadata.append({\n",
    "#                             'Address': address,\n",
    "#                             'Cost': cost_text,\n",
    "#                             'Property Type': property_type,  # House or Apartment\n",
    "#                             'Bedrooms': bedrooms,\n",
    "#                             'Bathrooms': bathrooms,\n",
    "#                             'Latitude': latitude,  # New Latitude field as float\n",
    "#                             'Longitude': longitude,  # New Longitude field as float\n",
    "#                             'Closest Gov Secondary School': gov_school_name,\n",
    "#                             'Gov Secondary Distance': gov_school_distance,\n",
    "#                             'Age under 20': age_under_20,   \n",
    "#                             'Age 20-39': age_20_39,        \n",
    "#                             'Age 40-59': age_40_59,        \n",
    "#                             'Age 60+': age_60_plus,         \n",
    "#                             'Postcode': postcode\n",
    "#                         })\n",
    "\n",
    "#                     except AttributeError as e:\n",
    "#                         print(f\"Issue with {property_url}: {e}\")\n",
    "\n",
    "#     # Save the current part to a temporary file\n",
    "#     if part_property_metadata:\n",
    "#         df = pd.DataFrame(part_property_metadata)\n",
    "#         df.to_csv(temp_file, index=False)\n",
    "#         temp_files.append(temp_file)\n",
    "#         print(f\"Completed processing Part {i+1}/{num_parts}. Data saved to {temp_file}\")\n",
    "\n",
    "# # Combine all parts into one large file\n",
    "# combined_df = pd.concat([pd.read_csv(file) for file in temp_files])\n",
    "\n",
    "# # Save the combined DataFrame\n",
    "# combined_file = os.path.join(output_relative_dir, 'all_properties_combined.csv')\n",
    "# combined_df.to_csv(combined_file, index=False)\n",
    "# print(f\"Combined file saved at {combined_file}\")\n",
    "\n",
    "# # Delete the temporary files and folder\n",
    "# for file in temp_files:\n",
    "#     os.remove(file)\n",
    "# os.rmdir(temp_folder)\n",
    "\n",
    "# print(f\"Temporary files and folder deleted.\")\n"
   ]
  },
  {
   "cell_type": "code",
   "execution_count": 5,
   "metadata": {},
   "outputs": [
    {
     "name": "stdout",
     "output_type": "stream",
     "text": [
      "File downloaded successfully and saved as ../../data/raw/domain/past_data.xlsx\n"
     ]
    }
   ],
   "source": [
    "# download past data\n",
    "url = \"https://www.dffh.vic.gov.au/moving-annual-rent-suburb-december-quarter-2023-excel\"\n",
    "\n",
    "output_directory = \"../../data/raw/domain/\"\n",
    "file_name = \"past_data.xlsx\"\n",
    "output_path = os.path.join(output_directory, file_name)\n",
    "\n",
    "# Send a GET request to the URL\n",
    "response = requests.get(url)\n",
    "\n",
    "# Check if the request was successful\n",
    "if response.status_code == 200:\n",
    "    # Write the content of the response to the specified path\n",
    "    with open(output_path, 'wb') as file:\n",
    "        file.write(response.content)\n",
    "    print(f\"File downloaded successfully and saved as {output_path}\")\n",
    "else:\n",
    "    print(f\"Failed to download the file. Status code: {response.status_code}\")"
   ]
  }
 ],
 "metadata": {
  "kernelspec": {
   "display_name": "Python 3 (ipykernel)",
   "language": "python",
   "name": "python3"
  },
  "language_info": {
   "codemirror_mode": {
    "name": "ipython",
    "version": 3
   },
   "file_extension": ".py",
   "mimetype": "text/x-python",
   "name": "python",
   "nbconvert_exporter": "python",
   "pygments_lexer": "ipython3",
   "version": "3.11.9"
  }
 },
 "nbformat": 4,
 "nbformat_minor": 4
}
