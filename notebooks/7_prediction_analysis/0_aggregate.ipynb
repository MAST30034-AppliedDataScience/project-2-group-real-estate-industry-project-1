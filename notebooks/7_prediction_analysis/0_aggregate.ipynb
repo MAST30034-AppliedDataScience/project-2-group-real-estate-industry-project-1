{
 "cells": [
  {
   "cell_type": "markdown",
   "metadata": {},
   "source": [
    "### This file is dedicated to put together the predicted 2025 to 2027 data to calculated a growth rate for each property, than, calculate suburb overall growth rate\n",
    "\n",
    "This is in order to find most growth rate suburb and most growth rate property(s) \\\n",
    "Created by Yuecheng Wang 30-09-2024"
   ]
  },
  {
   "cell_type": "code",
   "execution_count": 2,
   "metadata": {},
   "outputs": [],
   "source": [
    "import pandas as pd"
   ]
  },
  {
   "cell_type": "code",
   "execution_count": 3,
   "metadata": {},
   "outputs": [],
   "source": [
    "df = pd.read_csv('../../data/curated/final_with_predictions_15_to_27.csv')\n",
    "df_filtered = df[['Address', 'Suburb', 'Year', 'Cost']]"
   ]
  },
  {
   "cell_type": "code",
   "execution_count": 4,
   "metadata": {},
   "outputs": [
    {
     "name": "stdout",
     "output_type": "stream",
     "text": [
      "                                             Address         Suburb    Year  \\\n",
      "18010  004B/12 Albert Street, Hawthorn East VIC 3123  East Hawthorn  2015.0   \n",
      "18011  004B/12 Albert Street, Hawthorn East VIC 3123  East Hawthorn  2016.0   \n",
      "18012  004B/12 Albert Street, Hawthorn East VIC 3123  East Hawthorn  2017.0   \n",
      "18013  004B/12 Albert Street, Hawthorn East VIC 3123  East Hawthorn  2018.0   \n",
      "18014  004B/12 Albert Street, Hawthorn East VIC 3123  East Hawthorn  2019.0   \n",
      "\n",
      "             Cost  Growth Rate  \n",
      "18010  307.692308          NaN  \n",
      "18011  315.384615     1.025000  \n",
      "18012  326.923077     1.036585  \n",
      "18013  341.346154     1.044118  \n",
      "18014  344.807692     1.010141  \n"
     ]
    }
   ],
   "source": [
    "# Sort the data by Address, Suburb, and Year\n",
    "df_filtered = df_filtered.sort_values(by=['Address', 'Suburb', 'Year'])\n",
    "\n",
    "# Calculate the percentage growth rate as (Cost in current year / Cost in previous year - 1) * 100\n",
    "df_filtered['Growth Rate'] = df_filtered.groupby(['Address', 'Suburb'])['Cost'].transform(lambda x: (x / x.shift(1)))\n",
    "\n",
    "# Display the first few rows to check the growth rate calculation\n",
    "print(df_filtered.head())\n"
   ]
  },
  {
   "cell_type": "code",
   "execution_count": 5,
   "metadata": {},
   "outputs": [],
   "source": [
    "df_pivot = df_filtered.pivot_table(\n",
    "    index=['Address', 'Suburb'],  # Keep these columns as the index\n",
    "    columns='Year',                 # The years become columns\n",
    "    values='Growth Rate',           # The values are the growth rates\n",
    "    aggfunc='first'                 # We take the first occurrence (unique for each year)\n",
    ")"
   ]
  },
  {
   "cell_type": "code",
   "execution_count": 6,
   "metadata": {},
   "outputs": [],
   "source": [
    "df_pivot.columns = [int(year) for year in df_pivot.columns]\n",
    "\n",
    "\n",
    "df_pivot['Average Growth Rate'] = df_pivot.mean(axis=1)\n",
    "\n",
    "\n",
    "df_final = df_pivot.reset_index()"
   ]
  },
  {
   "cell_type": "code",
   "execution_count": 7,
   "metadata": {},
   "outputs": [
    {
     "name": "stdout",
     "output_type": "stream",
     "text": [
      "                                         Address  \\\n",
      "0  004B/12 Albert Street, Hawthorn East VIC 3123   \n",
      "1       04/390 Burwood Highway, Burwood VIC 3125   \n",
      "2       07/390 Burwood Highway, Burwood VIC 3125   \n",
      "3                1 Acton Court, Newcomb VIC 3219   \n",
      "4              1 Aden Court, Thomastown VIC 3074   \n",
      "\n",
      "                                Suburb      2016      2017      2018  \\\n",
      "0                        East Hawthorn  1.025000  1.036585  1.044118   \n",
      "1  Canterbury-Surrey Hills-Mont Albert  1.013966  1.060606  1.033766   \n",
      "2  Canterbury-Surrey Hills-Mont Albert  1.013966  1.060606  1.033766   \n",
      "3                     Geelong-Newcombe  1.033333  1.024194  1.043307   \n",
      "4                     Thomastown-Lalor  1.035019  1.037594  1.036232   \n",
      "\n",
      "       2019      2020      2021      2022      2023      2024      2025  \\\n",
      "0  1.010141  0.947016  0.918728  1.080128  1.163996  1.060503  1.170103   \n",
      "1  1.037688  0.983051  0.955665  1.063402  1.114881  0.956522  1.054430   \n",
      "2  1.037688  0.983051  0.955665  1.063402  1.114881  0.956522  1.021479   \n",
      "3  1.049057  1.021583  1.069718  1.089533  1.047331  1.084615  1.135996   \n",
      "4  1.010490  0.999308  0.997230  1.041667  1.102222  1.209677  1.084678   \n",
      "\n",
      "       2026      2027  Average Growth Rate  \n",
      "0  1.050140  0.956695             1.038596  \n",
      "1  1.000483  1.015505             1.024164  \n",
      "2  1.000483  1.015505             1.021418  \n",
      "3  1.001069  1.014664             1.051200  \n",
      "4  1.019561  0.991673             1.047113  \n"
     ]
    }
   ],
   "source": [
    "df_final.to_csv('../../data/curated/property_growth_rates.csv', index=False)\n",
    "\n",
    "print(df_final.head())"
   ]
  },
  {
   "cell_type": "code",
   "execution_count": 8,
   "metadata": {},
   "outputs": [],
   "source": [
    "# Group by suburb\n",
    "df_filtered['Income'] = df['Income']\n",
    "\n"
   ]
  },
  {
   "cell_type": "code",
   "execution_count": 9,
   "metadata": {},
   "outputs": [],
   "source": [
    "df_suburb_agg = df_filtered.groupby(['Suburb', 'Year']).agg(\n",
    "    Median_Cost=('Cost', 'median'),\n",
    "    Median_Growth_Rate=('Growth Rate', 'median'),\n",
    "    Median_Income=('Income', 'median')\n",
    ").reset_index()"
   ]
  },
  {
   "cell_type": "code",
   "execution_count": 10,
   "metadata": {},
   "outputs": [
    {
     "name": "stdout",
     "output_type": "stream",
     "text": [
      "                                  Suburb    Year  Median_Cost  \\\n",
      "0  Albert Park-Middle Park-West St Kilda  2015.0       501.25   \n",
      "1  Albert Park-Middle Park-West St Kilda  2016.0       515.00   \n",
      "2  Albert Park-Middle Park-West St Kilda  2017.0       535.25   \n",
      "3  Albert Park-Middle Park-West St Kilda  2018.0       563.00   \n",
      "4  Albert Park-Middle Park-West St Kilda  2019.0       580.00   \n",
      "\n",
      "   Median_Growth_Rate  Median_Income  \n",
      "0                 NaN        62962.6  \n",
      "1            1.027431        65352.0  \n",
      "2            1.039320        66627.0  \n",
      "3            1.051845        67518.0  \n",
      "4            1.030195        68933.0  \n"
     ]
    }
   ],
   "source": [
    "# Save the aggregated data to a CSV file\n",
    "df_suburb_agg.to_csv('../../data/curated/suburb_yearly_aggregates.csv', index=False)\n",
    "\n",
    "# Display the first few rows to verify the result\n",
    "print(df_suburb_agg.head())\n"
   ]
  },
  {
   "cell_type": "code",
   "execution_count": 11,
   "metadata": {},
   "outputs": [
    {
     "data": {
      "text/html": [
       "<div>\n",
       "<style scoped>\n",
       "    .dataframe tbody tr th:only-of-type {\n",
       "        vertical-align: middle;\n",
       "    }\n",
       "\n",
       "    .dataframe tbody tr th {\n",
       "        vertical-align: top;\n",
       "    }\n",
       "\n",
       "    .dataframe thead th {\n",
       "        text-align: right;\n",
       "    }\n",
       "</style>\n",
       "<table border=\"1\" class=\"dataframe\">\n",
       "  <thead>\n",
       "    <tr style=\"text-align: right;\">\n",
       "      <th></th>\n",
       "      <th>Suburb</th>\n",
       "      <th>Average_Growth_Rate_2025_2027</th>\n",
       "    </tr>\n",
       "  </thead>\n",
       "  <tbody>\n",
       "    <tr>\n",
       "      <th>0</th>\n",
       "      <td>Echuca</td>\n",
       "      <td>1.102561</td>\n",
       "    </tr>\n",
       "    <tr>\n",
       "      <th>1</th>\n",
       "      <td>Port Melbourne</td>\n",
       "      <td>1.074349</td>\n",
       "    </tr>\n",
       "    <tr>\n",
       "      <th>2</th>\n",
       "      <td>Melton</td>\n",
       "      <td>1.065699</td>\n",
       "    </tr>\n",
       "    <tr>\n",
       "      <th>3</th>\n",
       "      <td>Herne Hill-Geelong West</td>\n",
       "      <td>1.059784</td>\n",
       "    </tr>\n",
       "    <tr>\n",
       "      <th>4</th>\n",
       "      <td>Wanagaratta</td>\n",
       "      <td>1.058057</td>\n",
       "    </tr>\n",
       "    <tr>\n",
       "      <th>5</th>\n",
       "      <td>Lara</td>\n",
       "      <td>1.057788</td>\n",
       "    </tr>\n",
       "    <tr>\n",
       "      <th>6</th>\n",
       "      <td>Sunbury</td>\n",
       "      <td>1.056732</td>\n",
       "    </tr>\n",
       "    <tr>\n",
       "      <th>7</th>\n",
       "      <td>Yarra Ranges</td>\n",
       "      <td>1.055254</td>\n",
       "    </tr>\n",
       "    <tr>\n",
       "      <th>8</th>\n",
       "      <td>Belmont-Grovedale</td>\n",
       "      <td>1.051702</td>\n",
       "    </tr>\n",
       "    <tr>\n",
       "      <th>9</th>\n",
       "      <td>Corio</td>\n",
       "      <td>1.051330</td>\n",
       "    </tr>\n",
       "  </tbody>\n",
       "</table>\n",
       "</div>"
      ],
      "text/plain": [
       "                    Suburb  Average_Growth_Rate_2025_2027\n",
       "0                   Echuca                       1.102561\n",
       "1           Port Melbourne                       1.074349\n",
       "2                   Melton                       1.065699\n",
       "3  Herne Hill-Geelong West                       1.059784\n",
       "4              Wanagaratta                       1.058057\n",
       "5                     Lara                       1.057788\n",
       "6                  Sunbury                       1.056732\n",
       "7             Yarra Ranges                       1.055254\n",
       "8        Belmont-Grovedale                       1.051702\n",
       "9                    Corio                       1.051330"
      ]
     },
     "execution_count": 11,
     "metadata": {},
     "output_type": "execute_result"
    }
   ],
   "source": [
    "future_data = df_suburb_agg[df_suburb_agg['Year'].isin([2025, 2026, 2027])]\n",
    "avg_growth_rates = future_data.groupby('Suburb')['Median_Growth_Rate'].mean().reset_index()\n",
    "avg_growth_rates.columns = ['Suburb', 'Average_Growth_Rate_2025_2027']\n",
    "avg_growth_rates_sorted = avg_growth_rates.sort_values(by='Average_Growth_Rate_2025_2027', ascending=False).reset_index(drop=True)\n",
    "\n",
    "avg_growth_rates_sorted.head(10)"
   ]
  }
 ],
 "metadata": {
  "kernelspec": {
   "display_name": "Python 3",
   "language": "python",
   "name": "python3"
  },
  "language_info": {
   "codemirror_mode": {
    "name": "ipython",
    "version": 3
   },
   "file_extension": ".py",
   "mimetype": "text/x-python",
   "name": "python",
   "nbconvert_exporter": "python",
   "pygments_lexer": "ipython3",
   "version": "3.11.5"
  }
 },
 "nbformat": 4,
 "nbformat_minor": 2
}
