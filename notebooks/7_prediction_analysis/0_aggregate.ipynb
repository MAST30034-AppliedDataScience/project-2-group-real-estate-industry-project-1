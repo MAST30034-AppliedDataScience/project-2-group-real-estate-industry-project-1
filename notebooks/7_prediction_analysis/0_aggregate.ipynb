{
 "cells": [
  {
   "cell_type": "markdown",
   "metadata": {},
   "source": [
    "### This file is dedicated to put together the predicted 2025 to 2027 data to calculated a growth rate for each property, than, calculate suburb overall growth rate\n",
    "\n",
    "This is in order to find most growth rate suburb and most growth rate property(s) \\\n",
    "Created by Yuecheng Wang 30-09-2024"
   ]
  },
  {
   "cell_type": "code",
   "execution_count": 62,
   "metadata": {},
   "outputs": [],
   "source": [
    "import pandas as pd"
   ]
  },
  {
   "cell_type": "code",
   "execution_count": 63,
   "metadata": {},
   "outputs": [],
   "source": [
    "df = pd.read_csv('../../data/curated/final_with_predictions_15_to_27.csv')\n",
    "df_filtered = df[['Address', 'Suburb', 'Year', 'Cost']]"
   ]
  },
  {
   "cell_type": "code",
   "execution_count": 64,
   "metadata": {},
   "outputs": [
    {
     "name": "stdout",
     "output_type": "stream",
     "text": [
      "                                             Address         Suburb    Year  \\\n",
      "18140  004B/12 Albert Street, Hawthorn East VIC 3123  East Hawthorn  2015.0   \n",
      "18141  004B/12 Albert Street, Hawthorn East VIC 3123  East Hawthorn  2016.0   \n",
      "18142  004B/12 Albert Street, Hawthorn East VIC 3123  East Hawthorn  2017.0   \n",
      "18143  004B/12 Albert Street, Hawthorn East VIC 3123  East Hawthorn  2018.0   \n",
      "18144  004B/12 Albert Street, Hawthorn East VIC 3123  East Hawthorn  2019.0   \n",
      "\n",
      "             Cost  Growth Rate  \n",
      "18140  307.692308          NaN  \n",
      "18141  315.384615     1.025000  \n",
      "18142  326.923077     1.036585  \n",
      "18143  341.346154     1.044118  \n",
      "18144  344.807692     1.010141  \n"
     ]
    }
   ],
   "source": [
    "# Sort the data by Address, Suburb, and Year\n",
    "df_filtered = df_filtered.sort_values(by=['Address', 'Suburb', 'Year'])\n",
    "\n",
    "# Calculate the percentage growth rate as (Cost in current year / Cost in previous year - 1) * 100\n",
    "df_filtered['Growth Rate'] = df_filtered.groupby(['Address', 'Suburb'])['Cost'].transform(lambda x: (x / x.shift(1)))\n",
    "\n",
    "# Display the first few rows to check the growth rate calculation\n",
    "print(df_filtered.head())\n"
   ]
  },
  {
   "cell_type": "code",
   "execution_count": 65,
   "metadata": {},
   "outputs": [],
   "source": [
    "df_pivot = df_filtered.pivot_table(\n",
    "    index=['Address', 'Suburb'],  # Keep these columns as the index\n",
    "    columns='Year',                 # The years become columns\n",
    "    values='Growth Rate',           # The values are the growth rates\n",
    "    aggfunc='first'                 # We take the first occurrence (unique for each year)\n",
    ")"
   ]
  },
  {
   "cell_type": "code",
   "execution_count": 66,
   "metadata": {},
   "outputs": [],
   "source": [
    "df_pivot.columns = [int(year) for year in df_pivot.columns]\n",
    "\n",
    "\n",
    "df_pivot['Average Growth Rate'] = df_pivot.mean(axis=1)\n",
    "\n",
    "\n",
    "df_final = df_pivot.reset_index()"
   ]
  },
  {
   "cell_type": "code",
   "execution_count": 67,
   "metadata": {},
   "outputs": [
    {
     "name": "stdout",
     "output_type": "stream",
     "text": [
      "                                         Address               Suburb  2015  \\\n",
      "0  004B/12 Albert Street, Hawthorn East VIC 3123        East Hawthorn   NaN   \n",
      "1       04/390 Burwood Highway, Burwood VIC 3125    Burwood-Ashburton   NaN   \n",
      "2       07/390 Burwood Highway, Burwood VIC 3125    Burwood-Ashburton   NaN   \n",
      "3                1 Acton Court, Newcomb VIC 3219  St Albans-Deer Park   NaN   \n",
      "4              1 Aden Court, Thomastown VIC 3074     Thomastown-Lalor   NaN   \n",
      "\n",
      "       2016      2017      2018      2019      2020      2021      2022  \\\n",
      "0  1.025000  1.036585  1.044118  1.010141  0.947016  0.918728  1.080128   \n",
      "1  1.045094  1.040816  1.036415  1.010811  0.973797  0.988468  1.027778   \n",
      "2  1.045094  1.040816  1.036415  1.010811  0.973797  0.988468  1.027778   \n",
      "3  1.032000  1.046512  1.037037  1.017857  1.000000  0.982456  1.035714   \n",
      "4  1.035019  1.037594  1.036232  1.010490  0.999308  0.997230  1.041667   \n",
      "\n",
      "       2023      2024      2025      2026      2027  Average Growth Rate  \n",
      "0  1.163996  1.060503  1.110955  1.017417  1.006504             1.035091  \n",
      "1  1.106306  1.123779  1.140338  1.000886  1.007146             1.041803  \n",
      "2  1.106306  1.123779  1.104702  1.000886  1.007146             1.038833  \n",
      "3  1.075862  1.230769  1.152521  1.000248  1.026546             1.053127  \n",
      "4  1.102222  1.209677  1.119558  1.021925  1.003525             1.051204  \n"
     ]
    }
   ],
   "source": [
    "df_final.to_csv('../../data/curated/property_growth_rates.csv', index=False)\n",
    "\n",
    "print(df_final.head())"
   ]
  },
  {
   "cell_type": "code",
   "execution_count": 69,
   "metadata": {},
   "outputs": [],
   "source": [
    "# Group by suburb\n",
    "df_filtered['Income'] = df['Income']\n",
    "\n"
   ]
  },
  {
   "cell_type": "code",
   "execution_count": 70,
   "metadata": {},
   "outputs": [],
   "source": [
    "df_suburb_agg = df_filtered.groupby(['Suburb', 'Year']).agg(\n",
    "    Median_Cost=('Cost', 'median'),\n",
    "    Median_Growth_Rate=('Growth Rate', 'median'),\n",
    "    Median_Income=('Income', 'median')\n",
    ").reset_index()"
   ]
  },
  {
   "cell_type": "code",
   "execution_count": 72,
   "metadata": {},
   "outputs": [
    {
     "name": "stdout",
     "output_type": "stream",
     "text": [
      "                                  Suburb    Year  Median_Cost  \\\n",
      "0  Albert Park-Middle Park-West St Kilda  2015.0       501.25   \n",
      "1  Albert Park-Middle Park-West St Kilda  2016.0       515.00   \n",
      "2  Albert Park-Middle Park-West St Kilda  2017.0       535.25   \n",
      "3  Albert Park-Middle Park-West St Kilda  2018.0       563.00   \n",
      "4  Albert Park-Middle Park-West St Kilda  2019.0       580.00   \n",
      "\n",
      "   Median_Growth_Rate  Median_Income  \n",
      "0                 NaN        51260.1  \n",
      "1            1.027431        53464.0  \n",
      "2            1.039320        56945.0  \n",
      "3            1.051845        59644.0  \n",
      "4            1.030195        60523.0  \n"
     ]
    }
   ],
   "source": [
    "# Save the aggregated data to a CSV file\n",
    "df_suburb_agg.to_csv('../../data/curated/suburb_yearly_aggregates.csv', index=False)\n",
    "\n",
    "# Display the first few rows to verify the result\n",
    "print(df_suburb_agg.head())\n"
   ]
  }
 ],
 "metadata": {
  "kernelspec": {
   "display_name": "Python 3",
   "language": "python",
   "name": "python3"
  },
  "language_info": {
   "codemirror_mode": {
    "name": "ipython",
    "version": 3
   },
   "file_extension": ".py",
   "mimetype": "text/x-python",
   "name": "python",
   "nbconvert_exporter": "python",
   "pygments_lexer": "ipython3",
   "version": "3.11.5"
  }
 },
 "nbformat": 4,
 "nbformat_minor": 2
}
