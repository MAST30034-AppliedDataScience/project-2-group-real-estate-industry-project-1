{
 "cells": [
  {
   "cell_type": "markdown",
   "metadata": {},
   "source": [
    "### This file is dedicated to scrape and download data from domain.com.au"
   ]
  },
  {
   "cell_type": "markdown",
   "metadata": {},
   "source": [
    "Yuecheng Wang Aug 30, modify from ./scripts/scrape.py"
   ]
  },
  {
   "cell_type": "code",
   "execution_count": 1,
   "metadata": {},
   "outputs": [],
   "source": [
    "# built-in imports\n",
    "import pandas as pd\n",
    "import re\n",
    "from json import dump\n",
    "from tqdm import tqdm\n",
    "\n",
    "from collections import defaultdict\n",
    "import urllib.request\n",
    "\n",
    "# user packages\n",
    "from bs4 import BeautifulSoup\n",
    "from urllib.request import urlopen, Request\n",
    "import os"
   ]
  },
  {
   "cell_type": "code",
   "execution_count": 2,
   "metadata": {},
   "outputs": [],
   "source": [
    "# constants\n",
    "BASE_URL = \"https://www.domain.com.au\""
   ]
  },
  {
   "cell_type": "code",
   "execution_count": 3,
   "metadata": {},
   "outputs": [],
   "source": [
    "# set up different type of properties\n",
    "properties = [\n",
    "#             (\"flat1b\", \"/rent/?ptype=apartment&bedrooms=1&price=50-any&sort=default-desc&state=vic\", 50),\n",
    "#             (\"flat2b\", \"/rent/?ptype=apartment&bedrooms=2&price=50-any&sort=default-desc&state=vic\", 20),\n",
    "              (\"flat3b\", \"/rent/?ptype=apartment&bedrooms=3&price=50-any&sort=default-desc&state=vic\", 20),\n",
    "              (\"house2b\", \"/rent/?ptype=house&bedrooms=2&price=50-any&sort=default-desc&state=vic\", 20),\n",
    "              (\"house3b\", \"/rent/?ptype=house&bedrooms=3&price=50-any&sort=default-desc&state=vic\", 20),\n",
    "              (\"house4b\", \"/rent/?ptype=house&bedrooms=4&price=50-any&sort=default-desc&state=vic\", 20)\n",
    "             ]"
   ]
  },
  {
   "cell_type": "code",
   "execution_count": 4,
   "metadata": {},
   "outputs": [
    {
     "name": "stdout",
     "output_type": "stream",
     "text": [
      "Visiting https://www.domain.com.au/rent/?ptype=apartment&bedrooms=3&price=50-any&sort=default-desc&state=vic&page=1\n",
      "Visiting https://www.domain.com.au/rent/?ptype=apartment&bedrooms=3&price=50-any&sort=default-desc&state=vic&page=2\n",
      "Visiting https://www.domain.com.au/rent/?ptype=apartment&bedrooms=3&price=50-any&sort=default-desc&state=vic&page=3\n",
      "Visiting https://www.domain.com.au/rent/?ptype=apartment&bedrooms=3&price=50-any&sort=default-desc&state=vic&page=4\n",
      "Visiting https://www.domain.com.au/rent/?ptype=apartment&bedrooms=3&price=50-any&sort=default-desc&state=vic&page=5\n",
      "Visiting https://www.domain.com.au/rent/?ptype=apartment&bedrooms=3&price=50-any&sort=default-desc&state=vic&page=6\n",
      "Visiting https://www.domain.com.au/rent/?ptype=apartment&bedrooms=3&price=50-any&sort=default-desc&state=vic&page=7\n",
      "Visiting https://www.domain.com.au/rent/?ptype=apartment&bedrooms=3&price=50-any&sort=default-desc&state=vic&page=8\n",
      "Visiting https://www.domain.com.au/rent/?ptype=apartment&bedrooms=3&price=50-any&sort=default-desc&state=vic&page=9\n",
      "Visiting https://www.domain.com.au/rent/?ptype=apartment&bedrooms=3&price=50-any&sort=default-desc&state=vic&page=10\n",
      "Visiting https://www.domain.com.au/rent/?ptype=apartment&bedrooms=3&price=50-any&sort=default-desc&state=vic&page=11\n",
      "Visiting https://www.domain.com.au/rent/?ptype=apartment&bedrooms=3&price=50-any&sort=default-desc&state=vic&page=12\n",
      "Visiting https://www.domain.com.au/rent/?ptype=apartment&bedrooms=3&price=50-any&sort=default-desc&state=vic&page=13\n",
      "Visiting https://www.domain.com.au/rent/?ptype=apartment&bedrooms=3&price=50-any&sort=default-desc&state=vic&page=14\n",
      "Visiting https://www.domain.com.au/rent/?ptype=apartment&bedrooms=3&price=50-any&sort=default-desc&state=vic&page=15\n",
      "Visiting https://www.domain.com.au/rent/?ptype=apartment&bedrooms=3&price=50-any&sort=default-desc&state=vic&page=16\n",
      "Visiting https://www.domain.com.au/rent/?ptype=apartment&bedrooms=3&price=50-any&sort=default-desc&state=vic&page=17\n",
      "Visiting https://www.domain.com.au/rent/?ptype=apartment&bedrooms=3&price=50-any&sort=default-desc&state=vic&page=18\n",
      "Visiting https://www.domain.com.au/rent/?ptype=apartment&bedrooms=3&price=50-any&sort=default-desc&state=vic&page=19\n",
      "Visiting https://www.domain.com.au/rent/?ptype=apartment&bedrooms=3&price=50-any&sort=default-desc&state=vic&page=20\n"
     ]
    },
    {
     "name": "stderr",
     "output_type": "stream",
     "text": [
      "100% successful: 100%|████████████████████████████████████████████████████████████████| 401/401 [04:24<00:00,  1.51it/s]\n"
     ]
    },
    {
     "name": "stdout",
     "output_type": "stream",
     "text": [
      "Data saved to ../../data/raw/domain/flat3b.csv\n",
      "Visiting https://www.domain.com.au/rent/?ptype=house&bedrooms=2&price=50-any&sort=default-desc&state=vic&page=1\n",
      "Visiting https://www.domain.com.au/rent/?ptype=house&bedrooms=2&price=50-any&sort=default-desc&state=vic&page=2\n",
      "Visiting https://www.domain.com.au/rent/?ptype=house&bedrooms=2&price=50-any&sort=default-desc&state=vic&page=3\n",
      "Visiting https://www.domain.com.au/rent/?ptype=house&bedrooms=2&price=50-any&sort=default-desc&state=vic&page=4\n",
      "Visiting https://www.domain.com.au/rent/?ptype=house&bedrooms=2&price=50-any&sort=default-desc&state=vic&page=5\n",
      "Visiting https://www.domain.com.au/rent/?ptype=house&bedrooms=2&price=50-any&sort=default-desc&state=vic&page=6\n",
      "Visiting https://www.domain.com.au/rent/?ptype=house&bedrooms=2&price=50-any&sort=default-desc&state=vic&page=7\n",
      "Visiting https://www.domain.com.au/rent/?ptype=house&bedrooms=2&price=50-any&sort=default-desc&state=vic&page=8\n",
      "Visiting https://www.domain.com.au/rent/?ptype=house&bedrooms=2&price=50-any&sort=default-desc&state=vic&page=9\n",
      "Visiting https://www.domain.com.au/rent/?ptype=house&bedrooms=2&price=50-any&sort=default-desc&state=vic&page=10\n",
      "Visiting https://www.domain.com.au/rent/?ptype=house&bedrooms=2&price=50-any&sort=default-desc&state=vic&page=11\n",
      "Visiting https://www.domain.com.au/rent/?ptype=house&bedrooms=2&price=50-any&sort=default-desc&state=vic&page=12\n",
      "Visiting https://www.domain.com.au/rent/?ptype=house&bedrooms=2&price=50-any&sort=default-desc&state=vic&page=13\n",
      "Visiting https://www.domain.com.au/rent/?ptype=house&bedrooms=2&price=50-any&sort=default-desc&state=vic&page=14\n",
      "Visiting https://www.domain.com.au/rent/?ptype=house&bedrooms=2&price=50-any&sort=default-desc&state=vic&page=15\n",
      "Visiting https://www.domain.com.au/rent/?ptype=house&bedrooms=2&price=50-any&sort=default-desc&state=vic&page=16\n",
      "Visiting https://www.domain.com.au/rent/?ptype=house&bedrooms=2&price=50-any&sort=default-desc&state=vic&page=17\n",
      "Visiting https://www.domain.com.au/rent/?ptype=house&bedrooms=2&price=50-any&sort=default-desc&state=vic&page=18\n",
      "Visiting https://www.domain.com.au/rent/?ptype=house&bedrooms=2&price=50-any&sort=default-desc&state=vic&page=19\n",
      "Visiting https://www.domain.com.au/rent/?ptype=house&bedrooms=2&price=50-any&sort=default-desc&state=vic&page=20\n"
     ]
    },
    {
     "name": "stderr",
     "output_type": "stream",
     "text": [
      "100% successful: 100%|████████████████████████████████████████████████████████████████| 401/401 [04:25<00:00,  1.51it/s]\n"
     ]
    },
    {
     "name": "stdout",
     "output_type": "stream",
     "text": [
      "Data saved to ../../data/raw/domain/house2b.csv\n",
      "Visiting https://www.domain.com.au/rent/?ptype=house&bedrooms=3&price=50-any&sort=default-desc&state=vic&page=1\n",
      "Visiting https://www.domain.com.au/rent/?ptype=house&bedrooms=3&price=50-any&sort=default-desc&state=vic&page=2\n",
      "Visiting https://www.domain.com.au/rent/?ptype=house&bedrooms=3&price=50-any&sort=default-desc&state=vic&page=3\n",
      "Visiting https://www.domain.com.au/rent/?ptype=house&bedrooms=3&price=50-any&sort=default-desc&state=vic&page=4\n",
      "Visiting https://www.domain.com.au/rent/?ptype=house&bedrooms=3&price=50-any&sort=default-desc&state=vic&page=5\n",
      "Visiting https://www.domain.com.au/rent/?ptype=house&bedrooms=3&price=50-any&sort=default-desc&state=vic&page=6\n",
      "Visiting https://www.domain.com.au/rent/?ptype=house&bedrooms=3&price=50-any&sort=default-desc&state=vic&page=7\n",
      "Visiting https://www.domain.com.au/rent/?ptype=house&bedrooms=3&price=50-any&sort=default-desc&state=vic&page=8\n",
      "Visiting https://www.domain.com.au/rent/?ptype=house&bedrooms=3&price=50-any&sort=default-desc&state=vic&page=9\n",
      "Visiting https://www.domain.com.au/rent/?ptype=house&bedrooms=3&price=50-any&sort=default-desc&state=vic&page=10\n",
      "Visiting https://www.domain.com.au/rent/?ptype=house&bedrooms=3&price=50-any&sort=default-desc&state=vic&page=11\n",
      "Visiting https://www.domain.com.au/rent/?ptype=house&bedrooms=3&price=50-any&sort=default-desc&state=vic&page=12\n",
      "Visiting https://www.domain.com.au/rent/?ptype=house&bedrooms=3&price=50-any&sort=default-desc&state=vic&page=13\n",
      "Visiting https://www.domain.com.au/rent/?ptype=house&bedrooms=3&price=50-any&sort=default-desc&state=vic&page=14\n",
      "Visiting https://www.domain.com.au/rent/?ptype=house&bedrooms=3&price=50-any&sort=default-desc&state=vic&page=15\n",
      "Visiting https://www.domain.com.au/rent/?ptype=house&bedrooms=3&price=50-any&sort=default-desc&state=vic&page=16\n",
      "Visiting https://www.domain.com.au/rent/?ptype=house&bedrooms=3&price=50-any&sort=default-desc&state=vic&page=17\n",
      "Visiting https://www.domain.com.au/rent/?ptype=house&bedrooms=3&price=50-any&sort=default-desc&state=vic&page=18\n",
      "Visiting https://www.domain.com.au/rent/?ptype=house&bedrooms=3&price=50-any&sort=default-desc&state=vic&page=19\n",
      "Visiting https://www.domain.com.au/rent/?ptype=house&bedrooms=3&price=50-any&sort=default-desc&state=vic&page=20\n"
     ]
    },
    {
     "name": "stderr",
     "output_type": "stream",
     "text": [
      "100% successful: 100%|████████████████████████████████████████████████████████████████| 401/401 [04:18<00:00,  1.55it/s]\n"
     ]
    },
    {
     "name": "stdout",
     "output_type": "stream",
     "text": [
      "Data saved to ../../data/raw/domain/house3b.csv\n",
      "Visiting https://www.domain.com.au/rent/?ptype=house&bedrooms=4&price=50-any&sort=default-desc&state=vic&page=1\n",
      "Visiting https://www.domain.com.au/rent/?ptype=house&bedrooms=4&price=50-any&sort=default-desc&state=vic&page=2\n",
      "Visiting https://www.domain.com.au/rent/?ptype=house&bedrooms=4&price=50-any&sort=default-desc&state=vic&page=3\n",
      "Visiting https://www.domain.com.au/rent/?ptype=house&bedrooms=4&price=50-any&sort=default-desc&state=vic&page=4\n",
      "Visiting https://www.domain.com.au/rent/?ptype=house&bedrooms=4&price=50-any&sort=default-desc&state=vic&page=5\n",
      "Visiting https://www.domain.com.au/rent/?ptype=house&bedrooms=4&price=50-any&sort=default-desc&state=vic&page=6\n",
      "Visiting https://www.domain.com.au/rent/?ptype=house&bedrooms=4&price=50-any&sort=default-desc&state=vic&page=7\n",
      "Visiting https://www.domain.com.au/rent/?ptype=house&bedrooms=4&price=50-any&sort=default-desc&state=vic&page=8\n",
      "Visiting https://www.domain.com.au/rent/?ptype=house&bedrooms=4&price=50-any&sort=default-desc&state=vic&page=9\n",
      "Visiting https://www.domain.com.au/rent/?ptype=house&bedrooms=4&price=50-any&sort=default-desc&state=vic&page=10\n",
      "Visiting https://www.domain.com.au/rent/?ptype=house&bedrooms=4&price=50-any&sort=default-desc&state=vic&page=11\n",
      "Visiting https://www.domain.com.au/rent/?ptype=house&bedrooms=4&price=50-any&sort=default-desc&state=vic&page=12\n",
      "Visiting https://www.domain.com.au/rent/?ptype=house&bedrooms=4&price=50-any&sort=default-desc&state=vic&page=13\n",
      "Visiting https://www.domain.com.au/rent/?ptype=house&bedrooms=4&price=50-any&sort=default-desc&state=vic&page=14\n",
      "Visiting https://www.domain.com.au/rent/?ptype=house&bedrooms=4&price=50-any&sort=default-desc&state=vic&page=15\n",
      "Visiting https://www.domain.com.au/rent/?ptype=house&bedrooms=4&price=50-any&sort=default-desc&state=vic&page=16\n",
      "Visiting https://www.domain.com.au/rent/?ptype=house&bedrooms=4&price=50-any&sort=default-desc&state=vic&page=17\n",
      "Visiting https://www.domain.com.au/rent/?ptype=house&bedrooms=4&price=50-any&sort=default-desc&state=vic&page=18\n",
      "Visiting https://www.domain.com.au/rent/?ptype=house&bedrooms=4&price=50-any&sort=default-desc&state=vic&page=19\n",
      "Visiting https://www.domain.com.au/rent/?ptype=house&bedrooms=4&price=50-any&sort=default-desc&state=vic&page=20\n"
     ]
    },
    {
     "name": "stderr",
     "output_type": "stream",
     "text": [
      "100% successful: 100%|████████████████████████████████████████████████████████████████| 401/401 [04:24<00:00,  1.52it/s]"
     ]
    },
    {
     "name": "stdout",
     "output_type": "stream",
     "text": [
      "Data saved to ../../data/raw/domain/house4b.csv\n"
     ]
    },
    {
     "name": "stderr",
     "output_type": "stream",
     "text": [
      "\n"
     ]
    }
   ],
   "source": [
    "# Save scraped data directly to CSV files\n",
    "for ptype, purl, ppage in properties:\n",
    "    url_links = []\n",
    "    property_metadata = []\n",
    "    N_PAGES = range(1, ppage + 1)\n",
    "    \n",
    "    # Generate list of URLs to visit\n",
    "    for page in N_PAGES:\n",
    "        url = BASE_URL + f\"{purl}&page={page}\"\n",
    "        print(f\"Visiting {url}\")\n",
    "        bs_object = BeautifulSoup(urlopen(Request(url, headers={'User-Agent': \"PostmanRuntime/7.6.0\"})), \"html.parser\")\n",
    "    \n",
    "        # Find property listing links\n",
    "        index_links = bs_object.find(\"ul\", {\"data-testid\": \"results\"}).findAll(\n",
    "            \"a\", href=re.compile(f\"{BASE_URL}/*\")\n",
    "        )\n",
    "    \n",
    "        for link in index_links:\n",
    "            # If it's a property address, add it to the list\n",
    "            if 'address' in link['class']:\n",
    "                url_links.append(link['href'])\n",
    "    \n",
    "    # For each URL, scrape the property metadata\n",
    "    pbar = tqdm(url_links)\n",
    "    success_count, total_count = 0, 0\n",
    "    for property_url in pbar:\n",
    "        bs_object = BeautifulSoup(urlopen(Request(property_url, headers={'User-Agent': \"PostmanRuntime/7.6.0\"})), \"html.parser\")\n",
    "        total_count += 1\n",
    "        \n",
    "        try: \n",
    "            # Extract property details\n",
    "            address = bs_object.find(\"h1\", {\"class\": \"css-164r41r\"}).text\n",
    "            cost_text = bs_object.find(\"div\", {\"data-testid\": \"listing-details__summary-title\"}).text\n",
    "            \n",
    "            # Extract rooms and parking details\n",
    "            rooms = bs_object.find(\"div\", {\"data-testid\": \"property-features\"}).findAll(\"span\", {\"data-testid\": \"property-features-text-container\"})\n",
    "            room_details = ', '.join([re.findall(r'\\d+\\s[A-Za-z]+', feature.text)[0] for feature in rooms if 'Bed' in feature.text or 'Bath' in feature.text])\n",
    "            parking_details = ', '.join([re.findall(r'\\S+\\s[A-Za-z]+', feature.text)[0] for feature in rooms if 'Parking' in feature.text])\n",
    "\n",
    "            try:\n",
    "                # Attempt to find the link that contains the coordinates\n",
    "                href = bs_object.find(\"a\", {\"target\": \"_blank\", 'rel': \"noopener noreferrer\"}).attrs['href']\n",
    "                # Extract coordinates from the URL using regex\n",
    "                coordinates = [float(coord) for coord in re.findall(r'destination=([-\\s,\\d\\.]+)', href)[0].split(',')]\n",
    "            except (AttributeError, IndexError, ValueError) as e:\n",
    "                # If coordinates are not found or an error occurs, set coordinates to None\n",
    "                coordinates = [None, None]\n",
    "\n",
    "            # Append the flattened property data to the list\n",
    "            property_metadata.append({\n",
    "                'Address': address,\n",
    "                'Cost': cost_text,\n",
    "                'Rooms': room_details,\n",
    "                'Parking': parking_details,\n",
    "                'Coordinates': coordinates\n",
    "            })\n",
    "            success_count += 1\n",
    "            \n",
    "        except AttributeError:\n",
    "            print(f\"Issue with {property_url}\")\n",
    "    \n",
    "        pbar.set_description(f\"{(success_count / total_count * 100):.0f}% successful\")\n",
    "\n",
    "    # Save to CSV with one row per property\n",
    "    output_relative_dir = '../../data/raw/domain/'\n",
    "    if not os.path.exists(output_relative_dir):\n",
    "        os.makedirs(output_relative_dir)\n",
    "\n",
    "    csv_file_path = f'{output_relative_dir}{ptype}.csv'\n",
    "    df = pd.DataFrame(property_metadata)\n",
    "    df.to_csv(csv_file_path, index=False)\n",
    "    print(f\"Data saved to {csv_file_path}\")"
   ]
  }
 ],
 "metadata": {
  "kernelspec": {
   "display_name": "Python 3 (ipykernel)",
   "language": "python",
   "name": "python3"
  },
  "language_info": {
   "codemirror_mode": {
    "name": "ipython",
    "version": 3
   },
   "file_extension": ".py",
   "mimetype": "text/x-python",
   "name": "python",
   "nbconvert_exporter": "python",
   "pygments_lexer": "ipython3",
   "version": "3.11.9"
  }
 },
 "nbformat": 4,
 "nbformat_minor": 4
}
