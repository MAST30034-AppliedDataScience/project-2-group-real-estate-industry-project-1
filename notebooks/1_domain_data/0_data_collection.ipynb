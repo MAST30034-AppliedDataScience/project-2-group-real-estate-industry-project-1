{
 "cells": [
  {
   "cell_type": "markdown",
   "metadata": {},
   "source": [
    "### This file is dedicated to scrape and download data from domain.com.au"
   ]
  },
  {
   "cell_type": "markdown",
   "metadata": {},
   "source": [
    "Yuecheng Wang Aug 30, modify from ./scripts/scrape.py"
   ]
  },
  {
   "cell_type": "code",
   "execution_count": 1,
   "metadata": {},
   "outputs": [],
   "source": [
    "# built-in imports\n",
    "import pandas as pd\n",
    "import re\n",
    "from json import dump\n",
    "from tqdm import tqdm\n",
    "\n",
    "from collections import defaultdict\n",
    "import urllib.request\n",
    "\n",
    "# user packages\n",
    "from bs4 import BeautifulSoup\n",
    "from urllib.request import urlopen, Request\n",
    "import os"
   ]
  },
  {
   "cell_type": "code",
   "execution_count": 2,
   "metadata": {},
   "outputs": [],
   "source": [
    "# constants\n",
    "BASE_URL = \"https://www.domain.com.au\"\n",
    "N_PAGES = range(1, 5) # update this to your liking"
   ]
  },
  {
   "cell_type": "code",
   "execution_count": 3,
   "metadata": {},
   "outputs": [],
   "source": [
    "# begin code\n",
    "url_links = []\n",
    "property_metadata = defaultdict(dict)"
   ]
  },
  {
   "cell_type": "code",
   "execution_count": 4,
   "metadata": {},
   "outputs": [
    {
     "name": "stdout",
     "output_type": "stream",
     "text": [
      "Visiting https://www.domain.com.au/rent/melbourne-region-vic/?sort=price-desc&page=1\n",
      "Visiting https://www.domain.com.au/rent/melbourne-region-vic/?sort=price-desc&page=2\n",
      "Visiting https://www.domain.com.au/rent/melbourne-region-vic/?sort=price-desc&page=3\n",
      "Visiting https://www.domain.com.au/rent/melbourne-region-vic/?sort=price-desc&page=4\n"
     ]
    }
   ],
   "source": [
    "# generate list of urls to visit\n",
    "for page in N_PAGES:\n",
    "    url = BASE_URL + f\"/rent/melbourne-region-vic/?sort=price-desc&page={page}\"\n",
    "    print(f\"Visiting {url}\")\n",
    "    bs_object = BeautifulSoup(urlopen(Request(url, headers={'User-Agent':\"PostmanRuntime/7.6.0\"})), \"html.parser\")\n",
    "\n",
    "    # find the unordered list (ul) elements which are the results, then\n",
    "    # find all href (a) tags that are from the base_url website.\n",
    "    index_links = bs_object \\\n",
    "        .find(\n",
    "            \"ul\",\n",
    "            {\"data-testid\": \"results\"}\n",
    "        ) \\\n",
    "        .findAll(\n",
    "            \"a\",\n",
    "            href=re.compile(f\"{BASE_URL}/*\") # the `*` denotes wildcard any\n",
    "        )\n",
    "\n",
    "    for link in index_links:\n",
    "        # if its a property address, add it to the list\n",
    "        if 'address' in link['class']:\n",
    "            url_links.append(link['href'])"
   ]
  },
  {
   "cell_type": "code",
   "execution_count": 5,
   "metadata": {},
   "outputs": [
    {
     "name": "stderr",
     "output_type": "stream",
     "text": [
      "100% successful: 100%|██████████████████████████████████████████████████████████████████| 79/79 [01:35<00:00,  1.21s/it]\n"
     ]
    }
   ],
   "source": [
    "# for each url, scrape some basic metadata\n",
    "pbar = tqdm(url_links[1:])\n",
    "success_count, total_count = 0, 0\n",
    "for property_url in pbar:\n",
    "    bs_object = BeautifulSoup(urlopen(Request(property_url, headers={'User-Agent':\"PostmanRuntime/7.6.0\"})), \"html.parser\")\n",
    "    total_count += 1\n",
    "    \n",
    "    try: \n",
    "        # looks for the header class to get property name\n",
    "        property_metadata[property_url]['name'] = bs_object \\\n",
    "            .find(\"h1\", {\"class\": \"css-164r41r\"}) \\\n",
    "            .text\n",
    "\n",
    "        # looks for the div containing a summary title for cost\n",
    "        property_metadata[property_url]['cost_text'] = bs_object \\\n",
    "            .find(\"div\", {\"data-testid\": \"listing-details__summary-title\"}) \\\n",
    "            .text\n",
    "\n",
    "        # get rooms and parking\n",
    "        rooms = bs_object \\\n",
    "                .find(\"div\", {\"data-testid\": \"property-features\"}) \\\n",
    "                .findAll(\"span\", {\"data-testid\": \"property-features-text-container\"})\n",
    "\n",
    "        # rooms\n",
    "        property_metadata[property_url]['rooms'] = [\n",
    "            re.findall(r'\\d+\\s[A-Za-z]+', feature.text)[0] for feature in rooms\n",
    "            if 'Bed' in feature.text or 'Bath' in feature.text\n",
    "        ]\n",
    "        # parking\n",
    "        property_metadata[property_url]['parking'] = [\n",
    "            re.findall(r'\\S+\\s[A-Za-z]+', feature.text)[0] for feature in rooms\n",
    "            if 'Parking' in feature.text\n",
    "        ]\n",
    "\n",
    "        property_metadata[property_url]['desc'] = re \\\n",
    "            .sub(r'<br\\/>', '\\n', str(bs_object.find(\"p\"))) \\\n",
    "            .strip('</p>')\n",
    "        success_count += 1\n",
    "        \n",
    "    except AttributeError:\n",
    "        print(f\"Issue with {property_url}\")\n",
    "\n",
    "    pbar.set_description(f\"{(success_count/total_count * 100):.0f}% successful\")\n"
   ]
  },
  {
   "cell_type": "code",
   "execution_count": 6,
   "metadata": {},
   "outputs": [],
   "source": [
    "# output to example json in data/raw/domain\n",
    "\n",
    "output_relative_dir = '../../data/raw/domain/'\n",
    "if not os.path.exists(output_relative_dir):\n",
    "    os.makedirs(output_relative_dir)\n",
    "\n",
    "with open('../../data/raw/domain/example.json', 'w') as f:\n",
    "    dump(property_metadata, f)\n"
   ]
  }
 ],
 "metadata": {
  "kernelspec": {
   "display_name": "Python 3 (ipykernel)",
   "language": "python",
   "name": "python3"
  },
  "language_info": {
   "codemirror_mode": {
    "name": "ipython",
    "version": 3
   },
   "file_extension": ".py",
   "mimetype": "text/x-python",
   "name": "python",
   "nbconvert_exporter": "python",
   "pygments_lexer": "ipython3",
   "version": "3.11.9"
  }
 },
 "nbformat": 4,
 "nbformat_minor": 4
}
