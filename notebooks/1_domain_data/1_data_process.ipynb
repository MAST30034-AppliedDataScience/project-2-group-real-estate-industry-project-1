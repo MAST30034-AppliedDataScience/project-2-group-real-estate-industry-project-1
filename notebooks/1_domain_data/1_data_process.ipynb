{
 "cells": [
  {
   "cell_type": "markdown",
   "metadata": {},
   "source": [
    "### This file is dedicated to parse and have a basic look at data from domain.com.au, then curate for use."
   ]
  },
  {
   "cell_type": "markdown",
   "metadata": {},
   "source": [
    "Yuecheng Wang, Aug 30"
   ]
  },
  {
   "cell_type": "code",
   "execution_count": 1,
   "metadata": {},
   "outputs": [],
   "source": [
    "import pandas as pd\n",
    "import folium"
   ]
  },
  {
   "cell_type": "code",
   "execution_count": 2,
   "metadata": {},
   "outputs": [
    {
     "ename": "NameError",
     "evalue": "name 'df' is not defined",
     "output_type": "error",
     "traceback": [
      "\u001b[0;31m---------------------------------------------------------------------------\u001b[0m",
      "\u001b[0;31mNameError\u001b[0m                                 Traceback (most recent call last)",
      "Cell \u001b[0;32mIn[2], line 20\u001b[0m\n\u001b[1;32m     13\u001b[0m             folium\u001b[38;5;241m.\u001b[39mMarker(\n\u001b[1;32m     14\u001b[0m                 location\u001b[38;5;241m=\u001b[39m[latitude, longitude],\n\u001b[1;32m     15\u001b[0m                 popup\u001b[38;5;241m=\u001b[39mpopup_info,\n\u001b[1;32m     16\u001b[0m                 tooltip\u001b[38;5;241m=\u001b[39mrow[\u001b[38;5;124m'\u001b[39m\u001b[38;5;124mAddress\u001b[39m\u001b[38;5;124m'\u001b[39m]\n\u001b[1;32m     17\u001b[0m             )\u001b[38;5;241m.\u001b[39madd_to(map_object)\n\u001b[1;32m     19\u001b[0m \u001b[38;5;66;03m# Add the property markers to the map\u001b[39;00m\n\u001b[0;32m---> 20\u001b[0m add_property_markers(\u001b[43mdf\u001b[49m, victoria_map)\n\u001b[1;32m     22\u001b[0m \u001b[38;5;66;03m# Display the map\u001b[39;00m\n\u001b[1;32m     23\u001b[0m victoria_map\n",
      "\u001b[0;31mNameError\u001b[0m: name 'df' is not defined"
     ]
    }
   ],
   "source": [
    "# Initialize a Folium map centered around Victoria\n",
    "victoria_map = folium.Map(location=[-37.4713, 144.7852], zoom_start=8)\n",
    "\n",
    "# Function to add markers for each property\n",
    "def add_property_markers(df, map_object):\n",
    "    for _, row in df.iterrows():\n",
    "        coordinates = row['Coordinates']\n",
    "        if pd.notna(coordinates) and len(coordinates) == 2:\n",
    "            # Extract latitude and longitude\n",
    "            latitude, longitude = coordinates\n",
    "            # Create a marker with property details\n",
    "            popup_info = f\"Address: {row['Address']}<br>Cost: {row['Cost']}<br>Rooms: {row['Rooms']}<br>Parking: {row['Parking']}\"\n",
    "            folium.Marker(\n",
    "                location=[latitude, longitude],\n",
    "                popup=popup_info,\n",
    "                tooltip=row['Address']\n",
    "            ).add_to(map_object)\n",
    "\n",
    "# Add the property markers to the map\n",
    "add_property_markers(df, victoria_map)\n",
    "\n",
    "# Display the map\n",
    "victoria_map"
   ]
  }
 ],
 "metadata": {
  "kernelspec": {
   "display_name": "Python 3 (ipykernel)",
   "language": "python",
   "name": "python3"
  },
  "language_info": {
   "codemirror_mode": {
    "name": "ipython",
    "version": 3
   },
   "file_extension": ".py",
   "mimetype": "text/x-python",
   "name": "python",
   "nbconvert_exporter": "python",
   "pygments_lexer": "ipython3",
   "version": "3.11.9"
  }
 },
 "nbformat": 4,
 "nbformat_minor": 4
}
