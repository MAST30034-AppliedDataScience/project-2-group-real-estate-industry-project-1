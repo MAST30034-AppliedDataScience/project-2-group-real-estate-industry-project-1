{
 "cells": [
  {
   "cell_type": "code",
   "execution_count": 1,
   "id": "893d91ad-6dbe-499d-975f-7d8727b55ef3",
   "metadata": {},
   "outputs": [],
   "source": [
    "import pandas as pd\n",
    "import re\n",
    "import numpy as np"
   ]
  },
  {
   "cell_type": "code",
   "execution_count": 2,
   "id": "d5e40d22-07fe-453a-bbcf-552e5a179d22",
   "metadata": {},
   "outputs": [],
   "source": [
    "# dataset scraped at 20 Sept\n",
    "# if you want to use newly scraped data, uncomment block below\n",
    "\n",
    "file_path = \"../../data/manual/all_properties_combined.csv\"\n",
    "domain_data = pd.read_csv(file_path)"
   ]
  },
  {
   "cell_type": "code",
   "execution_count": null,
   "id": "4518d4e5-4be1-43d2-9c6f-fcecae6d1c28",
   "metadata": {},
   "outputs": [],
   "source": [
    "# file_path = \"../../data/raw/domain/all_properties_combined.csv\""
   ]
  },
  {
   "cell_type": "code",
   "execution_count": 3,
   "id": "0174019b-2614-4ef4-bfa8-c9f29027938d",
   "metadata": {},
   "outputs": [
    {
     "data": {
      "text/plain": [
       "(7459, 14)"
      ]
     },
     "execution_count": 3,
     "metadata": {},
     "output_type": "execute_result"
    }
   ],
   "source": [
    "domain_data.shape"
   ]
  },
  {
   "cell_type": "code",
   "execution_count": 4,
   "id": "130c4c7c-f2c0-47ad-b3f9-3814193e4ec2",
   "metadata": {},
   "outputs": [
    {
     "data": {
      "text/plain": [
       "(6639, 14)"
      ]
     },
     "execution_count": 4,
     "metadata": {},
     "output_type": "execute_result"
    }
   ],
   "source": [
    "# Remove dups\n",
    "domain_data = domain_data.drop_duplicates()\n",
    "domain_data.shape"
   ]
  },
  {
   "cell_type": "code",
   "execution_count": 5,
   "id": "c77ce8e0-eb98-4a98-a56f-fe494eb2e688",
   "metadata": {},
   "outputs": [
    {
     "name": "stdout",
     "output_type": "stream",
     "text": [
      "number of missing value in each column：\n",
      "Address                           0\n",
      "Cost                              0\n",
      "Property Type                     0\n",
      "Bedrooms                          0\n",
      "Bathrooms                         0\n",
      "Latitude                          0\n",
      "Longitude                         0\n",
      "Closest Gov Secondary School    860\n",
      "Gov Secondary Distance          860\n",
      "Age under 20                     78\n",
      "Age 20-39                        78\n",
      "Age 40-59                        78\n",
      "Age 60+                          78\n",
      "Postcode                          0\n",
      "dtype: int64\n"
     ]
    }
   ],
   "source": [
    "missing_values = domain_data.isnull().sum()\n",
    "print(\"number of missing value in each column：\")\n",
    "print(missing_values)"
   ]
  },
  {
   "cell_type": "markdown",
   "id": "f74b0d91-b7a7-4040-8908-4cdb81164e45",
   "metadata": {},
   "source": [
    "No need to drop any, those missing are OK for some analysis."
   ]
  },
  {
   "cell_type": "code",
   "execution_count": 6,
   "id": "c1f63a7d-87d8-46b7-bf36-063c43542c02",
   "metadata": {},
   "outputs": [
    {
     "data": {
      "text/html": [
       "<div>\n",
       "<style scoped>\n",
       "    .dataframe tbody tr th:only-of-type {\n",
       "        vertical-align: middle;\n",
       "    }\n",
       "\n",
       "    .dataframe tbody tr th {\n",
       "        vertical-align: top;\n",
       "    }\n",
       "\n",
       "    .dataframe thead th {\n",
       "        text-align: right;\n",
       "    }\n",
       "</style>\n",
       "<table border=\"1\" class=\"dataframe\">\n",
       "  <thead>\n",
       "    <tr style=\"text-align: right;\">\n",
       "      <th></th>\n",
       "      <th>Cost</th>\n",
       "      <th>Bedrooms</th>\n",
       "      <th>Bathrooms</th>\n",
       "      <th>Latitude</th>\n",
       "      <th>Longitude</th>\n",
       "      <th>Postcode</th>\n",
       "    </tr>\n",
       "  </thead>\n",
       "  <tbody>\n",
       "    <tr>\n",
       "      <th>count</th>\n",
       "      <td>6426.000000</td>\n",
       "      <td>6426.000000</td>\n",
       "      <td>6426.000000</td>\n",
       "      <td>6426.000000</td>\n",
       "      <td>6426.000000</td>\n",
       "      <td>6426.000000</td>\n",
       "    </tr>\n",
       "    <tr>\n",
       "      <th>mean</th>\n",
       "      <td>601.937923</td>\n",
       "      <td>2.525210</td>\n",
       "      <td>1.437130</td>\n",
       "      <td>-37.760485</td>\n",
       "      <td>144.901705</td>\n",
       "      <td>3198.325086</td>\n",
       "    </tr>\n",
       "    <tr>\n",
       "      <th>std</th>\n",
       "      <td>475.794794</td>\n",
       "      <td>0.947034</td>\n",
       "      <td>0.569128</td>\n",
       "      <td>0.802389</td>\n",
       "      <td>2.618571</td>\n",
       "      <td>224.367865</td>\n",
       "    </tr>\n",
       "    <tr>\n",
       "      <th>min</th>\n",
       "      <td>100.000000</td>\n",
       "      <td>1.000000</td>\n",
       "      <td>0.000000</td>\n",
       "      <td>-38.477668</td>\n",
       "      <td>0.000000</td>\n",
       "      <td>3000.000000</td>\n",
       "    </tr>\n",
       "    <tr>\n",
       "      <th>25%</th>\n",
       "      <td>460.000000</td>\n",
       "      <td>2.000000</td>\n",
       "      <td>1.000000</td>\n",
       "      <td>-37.893692</td>\n",
       "      <td>144.903884</td>\n",
       "      <td>3058.000000</td>\n",
       "    </tr>\n",
       "    <tr>\n",
       "      <th>50%</th>\n",
       "      <td>550.000000</td>\n",
       "      <td>3.000000</td>\n",
       "      <td>1.000000</td>\n",
       "      <td>-37.822914</td>\n",
       "      <td>144.999046</td>\n",
       "      <td>3141.000000</td>\n",
       "    </tr>\n",
       "    <tr>\n",
       "      <th>75%</th>\n",
       "      <td>675.000000</td>\n",
       "      <td>3.000000</td>\n",
       "      <td>2.000000</td>\n",
       "      <td>-37.764778</td>\n",
       "      <td>145.109044</td>\n",
       "      <td>3201.000000</td>\n",
       "    </tr>\n",
       "    <tr>\n",
       "      <th>max</th>\n",
       "      <td>32328.000000</td>\n",
       "      <td>4.000000</td>\n",
       "      <td>4.000000</td>\n",
       "      <td>0.000000</td>\n",
       "      <td>147.655880</td>\n",
       "      <td>3977.000000</td>\n",
       "    </tr>\n",
       "  </tbody>\n",
       "</table>\n",
       "</div>"
      ],
      "text/plain": [
       "               Cost     Bedrooms    Bathrooms     Latitude    Longitude  \\\n",
       "count   6426.000000  6426.000000  6426.000000  6426.000000  6426.000000   \n",
       "mean     601.937923     2.525210     1.437130   -37.760485   144.901705   \n",
       "std      475.794794     0.947034     0.569128     0.802389     2.618571   \n",
       "min      100.000000     1.000000     0.000000   -38.477668     0.000000   \n",
       "25%      460.000000     2.000000     1.000000   -37.893692   144.903884   \n",
       "50%      550.000000     3.000000     1.000000   -37.822914   144.999046   \n",
       "75%      675.000000     3.000000     2.000000   -37.764778   145.109044   \n",
       "max    32328.000000     4.000000     4.000000     0.000000   147.655880   \n",
       "\n",
       "          Postcode  \n",
       "count  6426.000000  \n",
       "mean   3198.325086  \n",
       "std     224.367865  \n",
       "min    3000.000000  \n",
       "25%    3058.000000  \n",
       "50%    3141.000000  \n",
       "75%    3201.000000  \n",
       "max    3977.000000  "
      ]
     },
     "execution_count": 6,
     "metadata": {},
     "output_type": "execute_result"
    }
   ],
   "source": [
    "# Using apply with a lambda function and regular expression to handle commas in prices\n",
    "domain_data['Cost'] = domain_data['Cost'].apply(\n",
    "    lambda x: float(re.search(r'\\$(\\d{1,3}(,\\d{3})*(\\.\\d+)?)', x).group(1).replace(',', '')) \n",
    "    if pd.notnull(x) and re.search(r'\\$(\\d{1,3}(,\\d{3})*(\\.\\d+)?)', x) else None\n",
    ")\n",
    "\n",
    "# Remove rows where 'Cost' is NaN (i.e., no price listed)\n",
    "domain_data = domain_data.dropna(subset=['Cost'])\n",
    "\n",
    "domain_data.describe()"
   ]
  },
  {
   "cell_type": "code",
   "execution_count": 9,
   "id": "9dbad650-41c5-4437-b8fb-4237675a07fe",
   "metadata": {},
   "outputs": [
    {
     "data": {
      "text/plain": [
       "(6426, 14)"
      ]
     },
     "execution_count": 9,
     "metadata": {},
     "output_type": "execute_result"
    }
   ],
   "source": [
    "domain_data.shape"
   ]
  },
  {
   "cell_type": "code",
   "execution_count": 7,
   "id": "d7a73609-2147-4dda-a456-98fe228ab9cc",
   "metadata": {},
   "outputs": [],
   "source": [
    "# Remove price outlier\n",
    "# Calculate Q1 (25th percentile) and Q3 (75th percentile)\n",
    "Q1 = domain_data['Cost'].quantile(0.25)\n",
    "Q3 = domain_data['Cost'].quantile(0.75)\n",
    "\n",
    "# Calculate IQR\n",
    "IQR = Q3 - Q1\n",
    "\n",
    "# Get the number of records (N)\n",
    "N = len(domain_data)\n",
    "\n",
    "# Apply the formula for N > 100\n",
    "multiplier = np.sqrt(np.log(N) - 0.5)\n",
    "\n",
    "# Define the lower and upper bounds for outliers\n",
    "lower_bound = Q1 - multiplier * IQR\n",
    "upper_bound = Q3 + multiplier * IQR\n",
    "\n",
    "# Filter the DataFrame to exclude outliers\n",
    "filtered_domain_data = domain_data[(domain_data['Cost'] >= lower_bound) & (domain_data['Cost'] <= upper_bound)]"
   ]
  },
  {
   "cell_type": "code",
   "execution_count": 8,
   "id": "b11d58c7-9cb7-41ea-8ce9-655cd632de5f",
   "metadata": {},
   "outputs": [
    {
     "data": {
      "text/plain": [
       "(6283, 14)"
      ]
     },
     "execution_count": 8,
     "metadata": {},
     "output_type": "execute_result"
    }
   ],
   "source": [
    "filtered_domain_data.shape"
   ]
  },
  {
   "cell_type": "code",
   "execution_count": 12,
   "id": "d795eefe-06d7-4812-b276-4a6f597d493d",
   "metadata": {},
   "outputs": [
    {
     "data": {
      "text/plain": [
       "205"
      ]
     },
     "execution_count": 12,
     "metadata": {},
     "output_type": "execute_result"
    }
   ],
   "source": [
    "filtered_domain_data['Postcode'].nunique()"
   ]
  },
  {
   "cell_type": "code",
   "execution_count": 10,
   "id": "1bcedd2c-6c93-4dd7-88eb-a3be8abeae0a",
   "metadata": {},
   "outputs": [],
   "source": [
    "filtered_domain_data.to_csv(\"../../data/raw/domain/all_properties_preprocessed.csv\")"
   ]
  }
 ],
 "metadata": {
  "kernelspec": {
   "display_name": "Python 3 (ipykernel)",
   "language": "python",
   "name": "python3"
  },
  "language_info": {
   "codemirror_mode": {
    "name": "ipython",
    "version": 3
   },
   "file_extension": ".py",
   "mimetype": "text/x-python",
   "name": "python",
   "nbconvert_exporter": "python",
   "pygments_lexer": "ipython3",
   "version": "3.11.9"
  }
 },
 "nbformat": 4,
 "nbformat_minor": 5
}
