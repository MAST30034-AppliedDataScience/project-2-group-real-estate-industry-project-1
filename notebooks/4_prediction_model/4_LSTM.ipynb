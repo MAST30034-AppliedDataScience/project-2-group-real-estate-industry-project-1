{
 "cells": [
  {
   "cell_type": "code",
   "execution_count": 23,
   "metadata": {},
   "outputs": [],
   "source": [
    "import pandas as pd\n",
    "\n",
    "from sklearn.preprocessing import MinMaxScaler\n",
    "import numpy as np\n",
    "import tensorflow as tf\n",
    "from tensorflow.keras.models import Sequential\n",
    "from tensorflow.keras.layers import LSTM, Dense, Dropout\n",
    "from sklearn.model_selection import train_test_split\n",
    "from sklearn.metrics import mean_squared_error\n",
    "from sklearn.preprocessing import LabelEncoder\n"
   ]
  },
  {
   "cell_type": "code",
   "execution_count": 24,
   "id": "1cae9131",
   "metadata": {},
   "outputs": [],
   "source": [
    "df = pd.read_csv('../../data/curated/individual_property_final.csv')"
   ]
  },
  {
   "cell_type": "code",
   "execution_count": 25,
   "id": "173002f8",
   "metadata": {},
   "outputs": [
    {
     "name": "stdout",
     "output_type": "stream",
     "text": [
      "X shape: (8550, 10, 21), y shape: (8550, 1)\n"
     ]
    }
   ],
   "source": [
    "# Select relevant features and target (assuming 'Cost' is the target)\n",
    "df = df.drop(columns=['Address', 'Latitude', 'Longitude', 'Postcode', 'SA2_CODE21', 'LGA_CODE24', 'Suburb'], axis=1)\n",
    "\n",
    "categorical_columns = ['Property Type','Closest Gov Secondary School']\n",
    "# Apply LabelEncoder to each categorical column\n",
    "label_encoders = {}\n",
    "for col in categorical_columns:\n",
    "    le = LabelEncoder()\n",
    "    df[col] = le.fit_transform(df[col])\n",
    "    label_encoders[col] = le\n",
    "    \n",
    "df_train = df[(df['Year'] >= 2015) & (df['Year'] <= 2024)]\n",
    "df_predict = df[(df['Year'] >= 2025) & (df['Year'] <= 2027)]\n",
    "\n",
    "features = df_train.drop(columns=['Cost'])\n",
    "target = df_train['Cost']\n",
    "\n",
    "# Normalize the features and target using MinMaxScaler (LSTMs work better with normalized data)\n",
    "scaler = MinMaxScaler()\n",
    "features_scaled = scaler.fit_transform(features)\n",
    "target_scaled = scaler.fit_transform(target.values.reshape(-1, 1))\n",
    "\n",
    "# Convert data into sequences for LSTM\n",
    "def create_sequences(features, target, time_steps=10):\n",
    "    X, y = [], []\n",
    "    for i in range(len(features) - time_steps):\n",
    "        X.append(features[i:i+time_steps])\n",
    "        y.append(target[i+time_steps])\n",
    "    return np.array(X), np.array(y)\n",
    "\n",
    "# Set the number of time steps (e.g., 10 previous timesteps to predict the next one)\n",
    "time_steps = 10\n",
    "X, y = create_sequences(features_scaled, target_scaled, time_steps)\n",
    "\n",
    "# Display the shape of the data\n",
    "print(f'X shape: {X.shape}, y shape: {y.shape}')\n"
   ]
  },
  {
   "cell_type": "code",
   "execution_count": 26,
   "id": "2090570b",
   "metadata": {},
   "outputs": [
    {
     "name": "stdout",
     "output_type": "stream",
     "text": [
      "Model: \"sequential_2\"\n",
      "_________________________________________________________________\n",
      " Layer (type)                Output Shape              Param #   \n",
      "=================================================================\n",
      " lstm_2 (LSTM)               (None, 50)                14400     \n",
      "                                                                 \n",
      " dropout_2 (Dropout)         (None, 50)                0         \n",
      "                                                                 \n",
      " dense_2 (Dense)             (None, 1)                 51        \n",
      "                                                                 \n",
      "=================================================================\n",
      "Total params: 14451 (56.45 KB)\n",
      "Trainable params: 14451 (56.45 KB)\n",
      "Non-trainable params: 0 (0.00 Byte)\n",
      "_________________________________________________________________\n"
     ]
    }
   ],
   "source": [
    "\n",
    "# Build a simple LSTM model\n",
    "model = Sequential()\n",
    "\n",
    "# Add the LSTM layer with 50 units\n",
    "model.add(LSTM(units=50, return_sequences=False, input_shape=(X.shape[1], X.shape[2])))\n",
    "\n",
    "# Optionally, add Dropout for regularization\n",
    "model.add(Dropout(0.2))\n",
    "\n",
    "# Add a Dense layer for the output\n",
    "model.add(Dense(units=1))\n",
    "\n",
    "# Compile the model\n",
    "model.compile(optimizer='adam', loss='mean_squared_error')\n",
    "\n",
    "# Display model summary\n",
    "model.summary()\n"
   ]
  },
  {
   "cell_type": "code",
   "execution_count": 27,
   "id": "a5146d62",
   "metadata": {},
   "outputs": [
    {
     "name": "stdout",
     "output_type": "stream",
     "text": [
      "Epoch 1/50\n",
      "214/214 [==============================] - 1s 3ms/step - loss: 0.0324 - val_loss: 0.0239\n",
      "Epoch 2/50\n",
      "214/214 [==============================] - 0s 2ms/step - loss: 0.0238 - val_loss: 0.0224\n",
      "Epoch 3/50\n",
      "214/214 [==============================] - 0s 2ms/step - loss: 0.0224 - val_loss: 0.0211\n",
      "Epoch 4/50\n",
      "214/214 [==============================] - 0s 2ms/step - loss: 0.0214 - val_loss: 0.0203\n",
      "Epoch 5/50\n",
      "214/214 [==============================] - 0s 2ms/step - loss: 0.0206 - val_loss: 0.0202\n",
      "Epoch 6/50\n",
      "214/214 [==============================] - 0s 2ms/step - loss: 0.0200 - val_loss: 0.0201\n",
      "Epoch 7/50\n",
      "214/214 [==============================] - 0s 2ms/step - loss: 0.0192 - val_loss: 0.0191\n",
      "Epoch 8/50\n",
      "214/214 [==============================] - 0s 2ms/step - loss: 0.0187 - val_loss: 0.0189\n",
      "Epoch 9/50\n",
      "214/214 [==============================] - 0s 2ms/step - loss: 0.0188 - val_loss: 0.0187\n",
      "Epoch 10/50\n",
      "214/214 [==============================] - 0s 2ms/step - loss: 0.0180 - val_loss: 0.0185\n",
      "Epoch 11/50\n",
      "214/214 [==============================] - 0s 2ms/step - loss: 0.0184 - val_loss: 0.0185\n",
      "Epoch 12/50\n",
      "214/214 [==============================] - 0s 2ms/step - loss: 0.0177 - val_loss: 0.0183\n",
      "Epoch 13/50\n",
      "214/214 [==============================] - 0s 2ms/step - loss: 0.0176 - val_loss: 0.0180\n",
      "Epoch 14/50\n",
      "214/214 [==============================] - 0s 2ms/step - loss: 0.0174 - val_loss: 0.0179\n",
      "Epoch 15/50\n",
      "214/214 [==============================] - 0s 2ms/step - loss: 0.0172 - val_loss: 0.0179\n",
      "Epoch 16/50\n",
      "214/214 [==============================] - 0s 2ms/step - loss: 0.0169 - val_loss: 0.0177\n",
      "Epoch 17/50\n",
      "214/214 [==============================] - 0s 2ms/step - loss: 0.0169 - val_loss: 0.0177\n",
      "Epoch 18/50\n",
      "214/214 [==============================] - 0s 2ms/step - loss: 0.0167 - val_loss: 0.0176\n",
      "Epoch 19/50\n",
      "214/214 [==============================] - 0s 2ms/step - loss: 0.0161 - val_loss: 0.0176\n",
      "Epoch 20/50\n",
      "214/214 [==============================] - 0s 2ms/step - loss: 0.0161 - val_loss: 0.0165\n",
      "Epoch 21/50\n",
      "214/214 [==============================] - 0s 2ms/step - loss: 0.0158 - val_loss: 0.0170\n",
      "Epoch 22/50\n",
      "214/214 [==============================] - 0s 2ms/step - loss: 0.0155 - val_loss: 0.0162\n",
      "Epoch 23/50\n",
      "214/214 [==============================] - 0s 2ms/step - loss: 0.0154 - val_loss: 0.0161\n",
      "Epoch 24/50\n",
      "214/214 [==============================] - 0s 2ms/step - loss: 0.0150 - val_loss: 0.0158\n",
      "Epoch 25/50\n",
      "214/214 [==============================] - 0s 2ms/step - loss: 0.0146 - val_loss: 0.0160\n",
      "Epoch 26/50\n",
      "214/214 [==============================] - 0s 2ms/step - loss: 0.0148 - val_loss: 0.0159\n",
      "Epoch 27/50\n",
      "214/214 [==============================] - 0s 2ms/step - loss: 0.0139 - val_loss: 0.0156\n",
      "Epoch 28/50\n",
      "214/214 [==============================] - 0s 2ms/step - loss: 0.0139 - val_loss: 0.0154\n",
      "Epoch 29/50\n",
      "214/214 [==============================] - 0s 2ms/step - loss: 0.0134 - val_loss: 0.0150\n",
      "Epoch 30/50\n",
      "214/214 [==============================] - 0s 2ms/step - loss: 0.0134 - val_loss: 0.0153\n",
      "Epoch 31/50\n",
      "214/214 [==============================] - 0s 2ms/step - loss: 0.0131 - val_loss: 0.0151\n",
      "Epoch 32/50\n",
      "214/214 [==============================] - 0s 2ms/step - loss: 0.0129 - val_loss: 0.0146\n",
      "Epoch 33/50\n",
      "214/214 [==============================] - 0s 2ms/step - loss: 0.0126 - val_loss: 0.0145\n",
      "Epoch 34/50\n",
      "214/214 [==============================] - 0s 2ms/step - loss: 0.0122 - val_loss: 0.0145\n",
      "Epoch 35/50\n",
      "214/214 [==============================] - 0s 2ms/step - loss: 0.0121 - val_loss: 0.0140\n",
      "Epoch 36/50\n",
      "214/214 [==============================] - 0s 2ms/step - loss: 0.0116 - val_loss: 0.0141\n",
      "Epoch 37/50\n",
      "214/214 [==============================] - 0s 2ms/step - loss: 0.0117 - val_loss: 0.0137\n",
      "Epoch 38/50\n",
      "214/214 [==============================] - 0s 2ms/step - loss: 0.0113 - val_loss: 0.0130\n",
      "Epoch 39/50\n",
      "214/214 [==============================] - 0s 2ms/step - loss: 0.0108 - val_loss: 0.0140\n",
      "Epoch 40/50\n",
      "214/214 [==============================] - 0s 2ms/step - loss: 0.0107 - val_loss: 0.0122\n",
      "Epoch 41/50\n",
      "214/214 [==============================] - 0s 2ms/step - loss: 0.0102 - val_loss: 0.0127\n",
      "Epoch 42/50\n",
      "214/214 [==============================] - 0s 2ms/step - loss: 0.0100 - val_loss: 0.0116\n",
      "Epoch 43/50\n",
      "214/214 [==============================] - 0s 2ms/step - loss: 0.0098 - val_loss: 0.0116\n",
      "Epoch 44/50\n",
      "214/214 [==============================] - 0s 2ms/step - loss: 0.0093 - val_loss: 0.0114\n",
      "Epoch 45/50\n",
      "214/214 [==============================] - 0s 2ms/step - loss: 0.0090 - val_loss: 0.0113\n",
      "Epoch 46/50\n",
      "214/214 [==============================] - 0s 2ms/step - loss: 0.0088 - val_loss: 0.0111\n",
      "Epoch 47/50\n",
      "214/214 [==============================] - 0s 2ms/step - loss: 0.0088 - val_loss: 0.0115\n",
      "Epoch 48/50\n",
      "214/214 [==============================] - 0s 2ms/step - loss: 0.0084 - val_loss: 0.0112\n",
      "Epoch 49/50\n",
      "214/214 [==============================] - 0s 2ms/step - loss: 0.0080 - val_loss: 0.0109\n",
      "Epoch 50/50\n",
      "214/214 [==============================] - 0s 2ms/step - loss: 0.0080 - val_loss: 0.0105\n"
     ]
    }
   ],
   "source": [
    "seed=37\n",
    "\n",
    "# Split the data into training and testing sets\n",
    "X_train, X_test, y_train, y_test = train_test_split(X, y, test_size=0.2, random_state=seed)\n",
    "\n",
    "# Train the model\n",
    "history = model.fit(X_train, y_train, epochs=50, batch_size=32, validation_data=(X_test, y_test))\n"
   ]
  },
  {
   "cell_type": "code",
   "execution_count": 28,
   "id": "baa72c30",
   "metadata": {},
   "outputs": [
    {
     "name": "stdout",
     "output_type": "stream",
     "text": [
      "54/54 [==============================] - 0s 849us/step - loss: 0.0105\n",
      "Test Loss: 0.010548189282417297\n",
      "54/54 [==============================] - 0s 887us/step\n",
      "Predicted: [366.28137 147.93211 412.28522 ... 664.2967  403.72528 298.73987]\n",
      "Actual: [392.00242718 144.         336.         ... 640.         415.15486726\n",
      " 328.25      ]\n"
     ]
    }
   ],
   "source": [
    "# Evaluate the model on the test set\n",
    "test_loss = model.evaluate(X_test, y_test)\n",
    "print(f'Test Loss: {test_loss}')\n",
    "\n",
    "# Make predictions\n",
    "y_pred = model.predict(X_test)\n",
    "\n",
    "# Optionally, inverse transform the scaled predictions and true values\n",
    "y_pred_inverse = scaler.inverse_transform(y_pred)\n",
    "y_test_inverse = scaler.inverse_transform(y_test.reshape(-1, 1))\n",
    "\n",
    "# Display the predictions and true values\n",
    "print(f'Predicted: {y_pred_inverse.flatten()}')\n",
    "print(f'Actual: {y_test_inverse.flatten()}')"
   ]
  },
  {
   "cell_type": "code",
   "execution_count": 29,
   "id": "08ab6947",
   "metadata": {},
   "outputs": [
    {
     "name": "stdout",
     "output_type": "stream",
     "text": [
      "54/54 [==============================] - 0s 811us/step\n",
      "RMSE: 112.44549439163991\n"
     ]
    }
   ],
   "source": [
    "\n",
    "# Make predictions on the test set\n",
    "y_pred = model.predict(X_test)\n",
    "\n",
    "# Inverse transform the scaled predictions and true values (if you scaled the data)\n",
    "y_pred_inverse = scaler.inverse_transform(y_pred)\n",
    "y_test_inverse = scaler.inverse_transform(y_test.reshape(-1, 1))\n",
    "\n",
    "# Calculate RMSE\n",
    "rmse = np.sqrt(mean_squared_error(y_test_inverse, y_pred_inverse))\n",
    "print(f'RMSE: {rmse}')\n"
   ]
  },
  {
   "cell_type": "markdown",
   "id": "df99b794",
   "metadata": {},
   "source": [
    "Looks bad, skip"
   ]
  }
 ],
 "metadata": {
  "kernelspec": {
   "display_name": "Python 3",
   "language": "python",
   "name": "python3"
  },
  "language_info": {
   "codemirror_mode": {
    "name": "ipython",
    "version": 3
   },
   "file_extension": ".py",
   "mimetype": "text/x-python",
   "name": "python",
   "nbconvert_exporter": "python",
   "pygments_lexer": "ipython3",
   "version": "3.11.5"
  }
 },
 "nbformat": 4,
 "nbformat_minor": 5
}
