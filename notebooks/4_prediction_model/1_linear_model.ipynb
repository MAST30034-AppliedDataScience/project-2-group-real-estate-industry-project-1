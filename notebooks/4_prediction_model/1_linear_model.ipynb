{
 "cells": [
  {
   "cell_type": "markdown",
   "id": "79c30223-0ed4-4b24-ba03-f441b4a58324",
   "metadata": {},
   "source": [
    "Please fit a linear model with individual property data, response:cost"
   ]
  },
  {
   "cell_type": "code",
   "execution_count": null,
   "id": "9eaa104b-61ad-4af7-aaa6-374d0bba8700",
   "metadata": {},
   "outputs": [],
   "source": [
    "# import pandas as pd"
   ]
  },
  {
   "cell_type": "code",
   "execution_count": null,
   "id": "0a05d52c-2b46-4fd7-85eb-3c553a567f88",
   "metadata": {},
   "outputs": [],
   "source": [
    "# individual_property = pd.read_csv(\"../../data/curated/individual_property.csv\")"
   ]
  },
  {
   "cell_type": "markdown",
   "id": "5e149e53-9119-460f-9257-74fd6580a1d5",
   "metadata": {},
   "source": [
    "Now, do some preprocess specifically for Linear Model, such as encoding/remove categorical features, normalization. \\\n",
    "Split data into train and test, please fit normalization ONLY on training and apply on test. \\\n",
    "Fit a model, use panelize terms to increase accuracy maybe, show weight for each feature, better to graph it out :D"
   ]
  }
 ],
 "metadata": {
  "kernelspec": {
   "display_name": "Python 3 (ipykernel)",
   "language": "python",
   "name": "python3"
  },
  "language_info": {
   "codemirror_mode": {
    "name": "ipython",
    "version": 3
   },
   "file_extension": ".py",
   "mimetype": "text/x-python",
   "name": "python",
   "nbconvert_exporter": "python",
   "pygments_lexer": "ipython3",
   "version": "3.11.9"
  }
 },
 "nbformat": 4,
 "nbformat_minor": 5
}
