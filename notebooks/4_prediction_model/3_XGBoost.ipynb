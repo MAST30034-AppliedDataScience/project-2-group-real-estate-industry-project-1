{
 "cells": [
  {
   "cell_type": "code",
   "execution_count": 1,
   "id": "e8ab50d5-00a0-4db9-9fe8-6929fb5399df",
   "metadata": {},
   "outputs": [],
   "source": [
    "import pandas as pd\n",
    "from xgboost import XGBRegressor\n",
    "from sklearn.model_selection import train_test_split\n",
    "from sklearn.metrics import root_mean_squared_error\n",
    "import numpy as np\n",
    "import seaborn as sns\n",
    "import matplotlib.pyplot as plt\n",
    "from sklearn.preprocessing import LabelEncoder\n",
    "from sklearn.model_selection import RandomizedSearchCV\n",
    "from tqdm import tqdm"
   ]
  },
  {
   "cell_type": "code",
   "execution_count": 2,
   "id": "b17a34fe-9cc4-42bc-9252-20f21f7ac7d9",
   "metadata": {},
   "outputs": [
    {
     "data": {
      "text/plain": [
       "Address                             0\n",
       "Cost                            18636\n",
       "Property Type                       0\n",
       "Bedrooms                            0\n",
       "Bathrooms                           0\n",
       "Latitude                            0\n",
       "Longitude                           0\n",
       "Closest Gov Secondary School        0\n",
       "Age under 20                        0\n",
       "Age 20-39                           0\n",
       "Age 40-59                           0\n",
       "Age 60+                             0\n",
       "Postcode                            0\n",
       "CBD Distance                        0\n",
       "Train Distance                      0\n",
       "Electricity Distance                0\n",
       "Hospital Distance                   0\n",
       "Library Distance                    0\n",
       "Park Distance                       0\n",
       "Tourist Attraction Distance         0\n",
       "Grocery Distance                    0\n",
       "Year                                0\n",
       "SA2_CODE21                          0\n",
       "Population                          0\n",
       "Income                              0\n",
       "LGA_CODE24                          0\n",
       "Incidents Recorded                  0\n",
       "Suburb                              0\n",
       "Gov Secondary Distance              0\n",
       "dtype: int64"
      ]
     },
     "execution_count": 2,
     "metadata": {},
     "output_type": "execute_result"
    }
   ],
   "source": [
    "df = pd.read_csv('../../data/curated/individual_property_final.csv')\n",
    "df.isnull().sum()"
   ]
  },
  {
   "cell_type": "code",
   "execution_count": 3,
   "id": "7bfa1d12-897d-434c-853a-1b98dd8bc8e7",
   "metadata": {},
   "outputs": [],
   "source": [
    "# Select features for predicted\n",
    "df = df.drop(columns=['Address', 'Latitude', 'Longitude', 'Postcode', 'SA2_CODE21', 'LGA_CODE24', 'Suburb'], axis=1)\n",
    "\n",
    "categorical_columns = ['Property Type','Closest Gov Secondary School']\n",
    "# Apply LabelEncoder to each categorical column\n",
    "label_encoders = {}\n",
    "for col in categorical_columns:\n",
    "    le = LabelEncoder()\n",
    "    df[col] = le.fit_transform(df[col])\n",
    "    label_encoders[col] = le"
   ]
  },
  {
   "cell_type": "code",
   "execution_count": 4,
   "id": "18a7157f-d57a-4554-818f-53df60e863aa",
   "metadata": {},
   "outputs": [],
   "source": [
    "df_train = df[(df['Year'] >= 2015) & (df['Year'] <= 2024)]\n",
    "df_predict = df[(df['Year'] >= 2025) & (df['Year'] <= 2027)]"
   ]
  },
  {
   "cell_type": "code",
   "execution_count": 5,
   "id": "ccd4d448-03e7-4b8f-b0b1-c871953b3d2a",
   "metadata": {},
   "outputs": [],
   "source": [
    "X = df_train.drop(columns=['Cost'])\n",
    "y = df_train['Cost']"
   ]
  },
  {
   "cell_type": "code",
   "execution_count": 6,
   "id": "221e4961-84c8-4a1e-bf15-07eaa8c25298",
   "metadata": {},
   "outputs": [],
   "source": [
    "seed = 37 "
   ]
  },
  {
   "cell_type": "code",
   "execution_count": 7,
   "id": "b535b2e7-aadd-47ff-a4e0-2552632d07b6",
   "metadata": {},
   "outputs": [],
   "source": [
    "X_train, X_val, y_train, y_val = train_test_split(X, y, test_size=0.2, random_state=seed)"
   ]
  },
  {
   "cell_type": "code",
   "execution_count": 8,
   "id": "ac3926bf-4f5d-496a-92a0-3c365612c3f2",
   "metadata": {},
   "outputs": [],
   "source": [
    "# XGB with tuning\n",
    "\n",
    "param_dist = {\n",
    "    'n_estimators': [100, 200, 300, 400],\n",
    "    'max_depth': [3, 5, 7, 10],\n",
    "    'learning_rate': [0.01, 0.05, 0.1, 0.2],\n",
    "    'subsample': [0.6, 0.8, 1.0],\n",
    "    'colsample_bytree': [0.6, 0.8, 1.0],\n",
    "    'gamma': [0, 0.1, 0.3, 0.5],\n",
    "    'reg_alpha': [0, 0.01, 0.1],\n",
    "    'reg_lambda': [0.1, 1, 10]\n",
    "}\n"
   ]
  },
  {
   "cell_type": "code",
   "execution_count": 11,
   "id": "9bfa80de-66e8-45fa-89cf-9e69eb760ea1",
   "metadata": {},
   "outputs": [],
   "source": [
    "# Initialize the XGBoost Regressor\n",
    "xgb_model = XGBRegressor(objective='reg:squarederror', random_state=seed)\n",
    "\n",
    "random_search = RandomizedSearchCV(\n",
    "    estimator=xgb_model,\n",
    "    param_distributions=param_dist,\n",
    "    n_iter=10,  # Reduce iterations for testing\n",
    "    scoring='neg_mean_squared_error',\n",
    "    cv=5,\n",
    "    verbose=2,  # Set higher verbosity to see progress in console\n",
    "    random_state=42,\n",
    "    n_jobs=2\n",
    ")\n"
   ]
  },
  {
   "cell_type": "code",
   "execution_count": 12,
   "id": "3c956986-7a00-4b9e-9024-71717127f4db",
   "metadata": {},
   "outputs": [
    {
     "name": "stdout",
     "output_type": "stream",
     "text": [
      "Fitting 5 folds for each of 10 candidates, totalling 50 fits\n",
      "[CV] END colsample_bytree=1.0, gamma=0.1, learning_rate=0.01, max_depth=7, n_estimators=200, reg_alpha=0, reg_lambda=0.1, subsample=0.6; total time=   3.8s\n",
      "[CV] END colsample_bytree=1.0, gamma=0.1, learning_rate=0.01, max_depth=7, n_estimators=200, reg_alpha=0, reg_lambda=0.1, subsample=0.6; total time=   2.3s\n",
      "[CV] END colsample_bytree=0.6, gamma=0, learning_rate=0.05, max_depth=10, n_estimators=400, reg_alpha=0.1, reg_lambda=1, subsample=1.0; total time=  14.7s\n",
      "[CV] END colsample_bytree=0.6, gamma=0, learning_rate=0.05, max_depth=10, n_estimators=400, reg_alpha=0.1, reg_lambda=1, subsample=1.0; total time=  11.3s\n",
      "[CV] END colsample_bytree=0.6, gamma=0.5, learning_rate=0.01, max_depth=5, n_estimators=400, reg_alpha=0.01, reg_lambda=10, subsample=1.0; total time=   4.3s\n",
      "[CV] END colsample_bytree=0.6, gamma=0.5, learning_rate=0.01, max_depth=5, n_estimators=400, reg_alpha=0.01, reg_lambda=10, subsample=1.0; total time=   3.5s\n",
      "[CV] END colsample_bytree=0.6, gamma=0.5, learning_rate=0.01, max_depth=5, n_estimators=400, reg_alpha=0.01, reg_lambda=10, subsample=1.0; total time=   3.7s\n",
      "[CV] END colsample_bytree=0.8, gamma=0.3, learning_rate=0.2, max_depth=7, n_estimators=400, reg_alpha=0, reg_lambda=1, subsample=0.6; total time=   5.0s\n",
      "[CV] END colsample_bytree=0.8, gamma=0.3, learning_rate=0.2, max_depth=7, n_estimators=400, reg_alpha=0, reg_lambda=1, subsample=0.6; total time=   5.7s\n",
      "[CV] END colsample_bytree=0.8, gamma=0.3, learning_rate=0.2, max_depth=7, n_estimators=400, reg_alpha=0, reg_lambda=1, subsample=0.6; total time=   8.2s\n",
      "[CV] END colsample_bytree=0.8, gamma=0.3, learning_rate=0.1, max_depth=3, n_estimators=200, reg_alpha=0.1, reg_lambda=10, subsample=0.8; total time=   1.8s\n",
      "[CV] END colsample_bytree=0.6, gamma=0.5, learning_rate=0.1, max_depth=7, n_estimators=100, reg_alpha=0, reg_lambda=0.1, subsample=0.8; total time=   2.5s\n",
      "[CV] END colsample_bytree=0.6, gamma=0.5, learning_rate=0.1, max_depth=7, n_estimators=100, reg_alpha=0, reg_lambda=0.1, subsample=0.8; total time=   1.7s\n",
      "[CV] END colsample_bytree=0.6, gamma=0.5, learning_rate=0.1, max_depth=7, n_estimators=100, reg_alpha=0, reg_lambda=0.1, subsample=0.8; total time=   2.7s\n",
      "[CV] END colsample_bytree=1.0, gamma=0.1, learning_rate=0.2, max_depth=3, n_estimators=100, reg_alpha=0, reg_lambda=0.1, subsample=1.0; total time=   1.1s\n",
      "[CV] END colsample_bytree=1.0, gamma=0.1, learning_rate=0.2, max_depth=3, n_estimators=100, reg_alpha=0, reg_lambda=0.1, subsample=1.0; total time=   1.1s\n",
      "[CV] END colsample_bytree=1.0, gamma=0.1, learning_rate=0.2, max_depth=3, n_estimators=100, reg_alpha=0, reg_lambda=0.1, subsample=1.0; total time=   0.9s\n",
      "[CV] END colsample_bytree=0.6, gamma=0.3, learning_rate=0.1, max_depth=3, n_estimators=400, reg_alpha=0.1, reg_lambda=10, subsample=0.8; total time=   3.7s\n",
      "[CV] END colsample_bytree=0.6, gamma=0.3, learning_rate=0.1, max_depth=3, n_estimators=400, reg_alpha=0.1, reg_lambda=10, subsample=0.8; total time=   2.1s\n",
      "[CV] END colsample_bytree=0.6, gamma=0.3, learning_rate=0.1, max_depth=3, n_estimators=400, reg_alpha=0.1, reg_lambda=10, subsample=0.8; total time=   1.6s\n",
      "[CV] END colsample_bytree=1.0, gamma=0, learning_rate=0.05, max_depth=5, n_estimators=300, reg_alpha=0, reg_lambda=1, subsample=1.0; total time=   2.3s\n",
      "[CV] END colsample_bytree=1.0, gamma=0, learning_rate=0.05, max_depth=5, n_estimators=300, reg_alpha=0, reg_lambda=1, subsample=1.0; total time=   2.3s\n",
      "[CV] END colsample_bytree=1.0, gamma=0, learning_rate=0.05, max_depth=5, n_estimators=300, reg_alpha=0, reg_lambda=1, subsample=1.0; total time=   2.0s\n",
      "[CV] END colsample_bytree=0.8, gamma=0.3, learning_rate=0.1, max_depth=5, n_estimators=100, reg_alpha=0.1, reg_lambda=1, subsample=1.0; total time=   0.6s\n",
      "[CV] END colsample_bytree=0.8, gamma=0.3, learning_rate=0.1, max_depth=5, n_estimators=100, reg_alpha=0.1, reg_lambda=1, subsample=1.0; total time=   0.7s\n",
      "[CV] END colsample_bytree=0.8, gamma=0.3, learning_rate=0.1, max_depth=5, n_estimators=100, reg_alpha=0.1, reg_lambda=1, subsample=1.0; total time=   0.8s\n",
      "[CV] END colsample_bytree=0.8, gamma=0.3, learning_rate=0.1, max_depth=5, n_estimators=100, reg_alpha=0.1, reg_lambda=1, subsample=1.0; total time=   0.6s\n",
      "[CV] END colsample_bytree=1.0, gamma=0.1, learning_rate=0.01, max_depth=7, n_estimators=200, reg_alpha=0, reg_lambda=0.1, subsample=0.6; total time=   2.9s\n",
      "[CV] END colsample_bytree=1.0, gamma=0.1, learning_rate=0.01, max_depth=7, n_estimators=200, reg_alpha=0, reg_lambda=0.1, subsample=0.6; total time=   1.6s\n",
      "[CV] END colsample_bytree=1.0, gamma=0.1, learning_rate=0.01, max_depth=7, n_estimators=200, reg_alpha=0, reg_lambda=0.1, subsample=0.6; total time=   1.6s\n",
      "[CV] END colsample_bytree=0.6, gamma=0, learning_rate=0.05, max_depth=10, n_estimators=400, reg_alpha=0.1, reg_lambda=1, subsample=1.0; total time=  10.5s\n",
      "[CV] END colsample_bytree=0.6, gamma=0, learning_rate=0.05, max_depth=10, n_estimators=400, reg_alpha=0.1, reg_lambda=1, subsample=1.0; total time=  10.8s\n",
      "[CV] END colsample_bytree=0.6, gamma=0, learning_rate=0.05, max_depth=10, n_estimators=400, reg_alpha=0.1, reg_lambda=1, subsample=1.0; total time=  11.7s\n",
      "[CV] END colsample_bytree=0.6, gamma=0.5, learning_rate=0.01, max_depth=5, n_estimators=400, reg_alpha=0.01, reg_lambda=10, subsample=1.0; total time=   3.3s\n",
      "[CV] END colsample_bytree=0.6, gamma=0.5, learning_rate=0.01, max_depth=5, n_estimators=400, reg_alpha=0.01, reg_lambda=10, subsample=1.0; total time=   3.2s\n",
      "[CV] END colsample_bytree=0.8, gamma=0.3, learning_rate=0.2, max_depth=7, n_estimators=400, reg_alpha=0, reg_lambda=1, subsample=0.6; total time=   5.0s\n",
      "[CV] END colsample_bytree=0.8, gamma=0.3, learning_rate=0.2, max_depth=7, n_estimators=400, reg_alpha=0, reg_lambda=1, subsample=0.6; total time=   6.1s\n",
      "[CV] END colsample_bytree=0.8, gamma=0.3, learning_rate=0.1, max_depth=3, n_estimators=200, reg_alpha=0.1, reg_lambda=10, subsample=0.8; total time=   1.4s\n",
      "[CV] END colsample_bytree=0.8, gamma=0.3, learning_rate=0.1, max_depth=3, n_estimators=200, reg_alpha=0.1, reg_lambda=10, subsample=0.8; total time=   2.3s\n",
      "[CV] END colsample_bytree=0.8, gamma=0.3, learning_rate=0.1, max_depth=3, n_estimators=200, reg_alpha=0.1, reg_lambda=10, subsample=0.8; total time=   2.9s\n",
      "[CV] END colsample_bytree=0.8, gamma=0.3, learning_rate=0.1, max_depth=3, n_estimators=200, reg_alpha=0.1, reg_lambda=10, subsample=0.8; total time=   2.9s\n",
      "[CV] END colsample_bytree=0.6, gamma=0.5, learning_rate=0.1, max_depth=7, n_estimators=100, reg_alpha=0, reg_lambda=0.1, subsample=0.8; total time=   2.5s\n",
      "[CV] END colsample_bytree=0.6, gamma=0.5, learning_rate=0.1, max_depth=7, n_estimators=100, reg_alpha=0, reg_lambda=0.1, subsample=0.8; total time=   4.0s\n",
      "[CV] END colsample_bytree=1.0, gamma=0.1, learning_rate=0.2, max_depth=3, n_estimators=100, reg_alpha=0, reg_lambda=0.1, subsample=1.0; total time=   1.3s\n",
      "[CV] END colsample_bytree=1.0, gamma=0.1, learning_rate=0.2, max_depth=3, n_estimators=100, reg_alpha=0, reg_lambda=0.1, subsample=1.0; total time=   1.6s\n",
      "[CV] END colsample_bytree=0.6, gamma=0.3, learning_rate=0.1, max_depth=3, n_estimators=400, reg_alpha=0.1, reg_lambda=10, subsample=0.8; total time=   4.7s\n",
      "[CV] END colsample_bytree=0.6, gamma=0.3, learning_rate=0.1, max_depth=3, n_estimators=400, reg_alpha=0.1, reg_lambda=10, subsample=0.8; total time=   2.7s\n",
      "[CV] END colsample_bytree=1.0, gamma=0, learning_rate=0.05, max_depth=5, n_estimators=300, reg_alpha=0, reg_lambda=1, subsample=1.0; total time=   3.7s\n",
      "[CV] END colsample_bytree=1.0, gamma=0, learning_rate=0.05, max_depth=5, n_estimators=300, reg_alpha=0, reg_lambda=1, subsample=1.0; total time=   3.1s\n",
      "[CV] END colsample_bytree=0.8, gamma=0.3, learning_rate=0.1, max_depth=5, n_estimators=100, reg_alpha=0.1, reg_lambda=1, subsample=1.0; total time=   1.3s\n"
     ]
    },
    {
     "ename": "KeyboardInterrupt",
     "evalue": "",
     "output_type": "error",
     "traceback": [
      "\u001b[0;31m---------------------------------------------------------------------------\u001b[0m",
      "\u001b[0;31mKeyboardInterrupt\u001b[0m                         Traceback (most recent call last)",
      "Cell \u001b[0;32mIn[12], line 2\u001b[0m\n\u001b[1;32m      1\u001b[0m \u001b[38;5;66;03m# Fit the model\u001b[39;00m\n\u001b[0;32m----> 2\u001b[0m \u001b[43mrandom_search\u001b[49m\u001b[38;5;241;43m.\u001b[39;49m\u001b[43mfit\u001b[49m\u001b[43m(\u001b[49m\u001b[43mX_train\u001b[49m\u001b[43m,\u001b[49m\u001b[43m \u001b[49m\u001b[43my_train\u001b[49m\u001b[43m)\u001b[49m\n\u001b[1;32m      4\u001b[0m \u001b[38;5;66;03m# Output the best hyperparameters and RMSE\u001b[39;00m\n\u001b[1;32m      5\u001b[0m \u001b[38;5;28mprint\u001b[39m(\u001b[38;5;124mf\u001b[39m\u001b[38;5;124m'\u001b[39m\u001b[38;5;124mBest parameters: \u001b[39m\u001b[38;5;132;01m{\u001b[39;00mrandom_search\u001b[38;5;241m.\u001b[39mbest_params_\u001b[38;5;132;01m}\u001b[39;00m\u001b[38;5;124m'\u001b[39m)\n",
      "File \u001b[0;32m~/myenv/lib/python3.11/site-packages/sklearn/base.py:1473\u001b[0m, in \u001b[0;36m_fit_context.<locals>.decorator.<locals>.wrapper\u001b[0;34m(estimator, *args, **kwargs)\u001b[0m\n\u001b[1;32m   1466\u001b[0m     estimator\u001b[38;5;241m.\u001b[39m_validate_params()\n\u001b[1;32m   1468\u001b[0m \u001b[38;5;28;01mwith\u001b[39;00m config_context(\n\u001b[1;32m   1469\u001b[0m     skip_parameter_validation\u001b[38;5;241m=\u001b[39m(\n\u001b[1;32m   1470\u001b[0m         prefer_skip_nested_validation \u001b[38;5;129;01mor\u001b[39;00m global_skip_validation\n\u001b[1;32m   1471\u001b[0m     )\n\u001b[1;32m   1472\u001b[0m ):\n\u001b[0;32m-> 1473\u001b[0m     \u001b[38;5;28;01mreturn\u001b[39;00m \u001b[43mfit_method\u001b[49m\u001b[43m(\u001b[49m\u001b[43mestimator\u001b[49m\u001b[43m,\u001b[49m\u001b[43m \u001b[49m\u001b[38;5;241;43m*\u001b[39;49m\u001b[43margs\u001b[49m\u001b[43m,\u001b[49m\u001b[43m \u001b[49m\u001b[38;5;241;43m*\u001b[39;49m\u001b[38;5;241;43m*\u001b[39;49m\u001b[43mkwargs\u001b[49m\u001b[43m)\u001b[49m\n",
      "File \u001b[0;32m~/myenv/lib/python3.11/site-packages/sklearn/model_selection/_search.py:1056\u001b[0m, in \u001b[0;36mBaseSearchCV.fit\u001b[0;34m(self, X, y, **params)\u001b[0m\n\u001b[1;32m   1054\u001b[0m refit_start_time \u001b[38;5;241m=\u001b[39m time\u001b[38;5;241m.\u001b[39mtime()\n\u001b[1;32m   1055\u001b[0m \u001b[38;5;28;01mif\u001b[39;00m y \u001b[38;5;129;01mis\u001b[39;00m \u001b[38;5;129;01mnot\u001b[39;00m \u001b[38;5;28;01mNone\u001b[39;00m:\n\u001b[0;32m-> 1056\u001b[0m     \u001b[38;5;28;43mself\u001b[39;49m\u001b[38;5;241;43m.\u001b[39;49m\u001b[43mbest_estimator_\u001b[49m\u001b[38;5;241;43m.\u001b[39;49m\u001b[43mfit\u001b[49m\u001b[43m(\u001b[49m\u001b[43mX\u001b[49m\u001b[43m,\u001b[49m\u001b[43m \u001b[49m\u001b[43my\u001b[49m\u001b[43m,\u001b[49m\u001b[43m \u001b[49m\u001b[38;5;241;43m*\u001b[39;49m\u001b[38;5;241;43m*\u001b[39;49m\u001b[43mrouted_params\u001b[49m\u001b[38;5;241;43m.\u001b[39;49m\u001b[43mestimator\u001b[49m\u001b[38;5;241;43m.\u001b[39;49m\u001b[43mfit\u001b[49m\u001b[43m)\u001b[49m\n\u001b[1;32m   1057\u001b[0m \u001b[38;5;28;01melse\u001b[39;00m:\n\u001b[1;32m   1058\u001b[0m     \u001b[38;5;28mself\u001b[39m\u001b[38;5;241m.\u001b[39mbest_estimator_\u001b[38;5;241m.\u001b[39mfit(X, \u001b[38;5;241m*\u001b[39m\u001b[38;5;241m*\u001b[39mrouted_params\u001b[38;5;241m.\u001b[39mestimator\u001b[38;5;241m.\u001b[39mfit)\n",
      "File \u001b[0;32m~/myenv/lib/python3.11/site-packages/xgboost/core.py:726\u001b[0m, in \u001b[0;36mrequire_keyword_args.<locals>.throw_if.<locals>.inner_f\u001b[0;34m(*args, **kwargs)\u001b[0m\n\u001b[1;32m    724\u001b[0m \u001b[38;5;28;01mfor\u001b[39;00m k, arg \u001b[38;5;129;01min\u001b[39;00m \u001b[38;5;28mzip\u001b[39m(sig\u001b[38;5;241m.\u001b[39mparameters, args):\n\u001b[1;32m    725\u001b[0m     kwargs[k] \u001b[38;5;241m=\u001b[39m arg\n\u001b[0;32m--> 726\u001b[0m \u001b[38;5;28;01mreturn\u001b[39;00m \u001b[43mfunc\u001b[49m\u001b[43m(\u001b[49m\u001b[38;5;241;43m*\u001b[39;49m\u001b[38;5;241;43m*\u001b[39;49m\u001b[43mkwargs\u001b[49m\u001b[43m)\u001b[49m\n",
      "File \u001b[0;32m~/myenv/lib/python3.11/site-packages/xgboost/sklearn.py:1108\u001b[0m, in \u001b[0;36mXGBModel.fit\u001b[0;34m(self, X, y, sample_weight, base_margin, eval_set, verbose, xgb_model, sample_weight_eval_set, base_margin_eval_set, feature_weights)\u001b[0m\n\u001b[1;32m   1105\u001b[0m     obj \u001b[38;5;241m=\u001b[39m \u001b[38;5;28;01mNone\u001b[39;00m\n\u001b[1;32m   1107\u001b[0m model, metric, params \u001b[38;5;241m=\u001b[39m \u001b[38;5;28mself\u001b[39m\u001b[38;5;241m.\u001b[39m_configure_fit(xgb_model, params)\n\u001b[0;32m-> 1108\u001b[0m \u001b[38;5;28mself\u001b[39m\u001b[38;5;241m.\u001b[39m_Booster \u001b[38;5;241m=\u001b[39m \u001b[43mtrain\u001b[49m\u001b[43m(\u001b[49m\n\u001b[1;32m   1109\u001b[0m \u001b[43m    \u001b[49m\u001b[43mparams\u001b[49m\u001b[43m,\u001b[49m\n\u001b[1;32m   1110\u001b[0m \u001b[43m    \u001b[49m\u001b[43mtrain_dmatrix\u001b[49m\u001b[43m,\u001b[49m\n\u001b[1;32m   1111\u001b[0m \u001b[43m    \u001b[49m\u001b[38;5;28;43mself\u001b[39;49m\u001b[38;5;241;43m.\u001b[39;49m\u001b[43mget_num_boosting_rounds\u001b[49m\u001b[43m(\u001b[49m\u001b[43m)\u001b[49m\u001b[43m,\u001b[49m\n\u001b[1;32m   1112\u001b[0m \u001b[43m    \u001b[49m\u001b[43mevals\u001b[49m\u001b[38;5;241;43m=\u001b[39;49m\u001b[43mevals\u001b[49m\u001b[43m,\u001b[49m\n\u001b[1;32m   1113\u001b[0m \u001b[43m    \u001b[49m\u001b[43mearly_stopping_rounds\u001b[49m\u001b[38;5;241;43m=\u001b[39;49m\u001b[38;5;28;43mself\u001b[39;49m\u001b[38;5;241;43m.\u001b[39;49m\u001b[43mearly_stopping_rounds\u001b[49m\u001b[43m,\u001b[49m\n\u001b[1;32m   1114\u001b[0m \u001b[43m    \u001b[49m\u001b[43mevals_result\u001b[49m\u001b[38;5;241;43m=\u001b[39;49m\u001b[43mevals_result\u001b[49m\u001b[43m,\u001b[49m\n\u001b[1;32m   1115\u001b[0m \u001b[43m    \u001b[49m\u001b[43mobj\u001b[49m\u001b[38;5;241;43m=\u001b[39;49m\u001b[43mobj\u001b[49m\u001b[43m,\u001b[49m\n\u001b[1;32m   1116\u001b[0m \u001b[43m    \u001b[49m\u001b[43mcustom_metric\u001b[49m\u001b[38;5;241;43m=\u001b[39;49m\u001b[43mmetric\u001b[49m\u001b[43m,\u001b[49m\n\u001b[1;32m   1117\u001b[0m \u001b[43m    \u001b[49m\u001b[43mverbose_eval\u001b[49m\u001b[38;5;241;43m=\u001b[39;49m\u001b[43mverbose\u001b[49m\u001b[43m,\u001b[49m\n\u001b[1;32m   1118\u001b[0m \u001b[43m    \u001b[49m\u001b[43mxgb_model\u001b[49m\u001b[38;5;241;43m=\u001b[39;49m\u001b[43mmodel\u001b[49m\u001b[43m,\u001b[49m\n\u001b[1;32m   1119\u001b[0m \u001b[43m    \u001b[49m\u001b[43mcallbacks\u001b[49m\u001b[38;5;241;43m=\u001b[39;49m\u001b[38;5;28;43mself\u001b[39;49m\u001b[38;5;241;43m.\u001b[39;49m\u001b[43mcallbacks\u001b[49m\u001b[43m,\u001b[49m\n\u001b[1;32m   1120\u001b[0m \u001b[43m\u001b[49m\u001b[43m)\u001b[49m\n\u001b[1;32m   1122\u001b[0m \u001b[38;5;28mself\u001b[39m\u001b[38;5;241m.\u001b[39m_set_evaluation_result(evals_result)\n\u001b[1;32m   1123\u001b[0m \u001b[38;5;28;01mreturn\u001b[39;00m \u001b[38;5;28mself\u001b[39m\n",
      "File \u001b[0;32m~/myenv/lib/python3.11/site-packages/xgboost/core.py:726\u001b[0m, in \u001b[0;36mrequire_keyword_args.<locals>.throw_if.<locals>.inner_f\u001b[0;34m(*args, **kwargs)\u001b[0m\n\u001b[1;32m    724\u001b[0m \u001b[38;5;28;01mfor\u001b[39;00m k, arg \u001b[38;5;129;01min\u001b[39;00m \u001b[38;5;28mzip\u001b[39m(sig\u001b[38;5;241m.\u001b[39mparameters, args):\n\u001b[1;32m    725\u001b[0m     kwargs[k] \u001b[38;5;241m=\u001b[39m arg\n\u001b[0;32m--> 726\u001b[0m \u001b[38;5;28;01mreturn\u001b[39;00m \u001b[43mfunc\u001b[49m\u001b[43m(\u001b[49m\u001b[38;5;241;43m*\u001b[39;49m\u001b[38;5;241;43m*\u001b[39;49m\u001b[43mkwargs\u001b[49m\u001b[43m)\u001b[49m\n",
      "File \u001b[0;32m~/myenv/lib/python3.11/site-packages/xgboost/training.py:181\u001b[0m, in \u001b[0;36mtrain\u001b[0;34m(params, dtrain, num_boost_round, evals, obj, feval, maximize, early_stopping_rounds, evals_result, verbose_eval, xgb_model, callbacks, custom_metric)\u001b[0m\n\u001b[1;32m    179\u001b[0m \u001b[38;5;28;01mif\u001b[39;00m cb_container\u001b[38;5;241m.\u001b[39mbefore_iteration(bst, i, dtrain, evals):\n\u001b[1;32m    180\u001b[0m     \u001b[38;5;28;01mbreak\u001b[39;00m\n\u001b[0;32m--> 181\u001b[0m \u001b[43mbst\u001b[49m\u001b[38;5;241;43m.\u001b[39;49m\u001b[43mupdate\u001b[49m\u001b[43m(\u001b[49m\u001b[43mdtrain\u001b[49m\u001b[43m,\u001b[49m\u001b[43m \u001b[49m\u001b[43miteration\u001b[49m\u001b[38;5;241;43m=\u001b[39;49m\u001b[43mi\u001b[49m\u001b[43m,\u001b[49m\u001b[43m \u001b[49m\u001b[43mfobj\u001b[49m\u001b[38;5;241;43m=\u001b[39;49m\u001b[43mobj\u001b[49m\u001b[43m)\u001b[49m\n\u001b[1;32m    182\u001b[0m \u001b[38;5;28;01mif\u001b[39;00m cb_container\u001b[38;5;241m.\u001b[39mafter_iteration(bst, i, dtrain, evals):\n\u001b[1;32m    183\u001b[0m     \u001b[38;5;28;01mbreak\u001b[39;00m\n",
      "File \u001b[0;32m~/myenv/lib/python3.11/site-packages/xgboost/core.py:2101\u001b[0m, in \u001b[0;36mBooster.update\u001b[0;34m(self, dtrain, iteration, fobj)\u001b[0m\n\u001b[1;32m   2097\u001b[0m \u001b[38;5;28mself\u001b[39m\u001b[38;5;241m.\u001b[39m_assign_dmatrix_features(dtrain)\n\u001b[1;32m   2099\u001b[0m \u001b[38;5;28;01mif\u001b[39;00m fobj \u001b[38;5;129;01mis\u001b[39;00m \u001b[38;5;28;01mNone\u001b[39;00m:\n\u001b[1;32m   2100\u001b[0m     _check_call(\n\u001b[0;32m-> 2101\u001b[0m         \u001b[43m_LIB\u001b[49m\u001b[38;5;241;43m.\u001b[39;49m\u001b[43mXGBoosterUpdateOneIter\u001b[49m\u001b[43m(\u001b[49m\n\u001b[1;32m   2102\u001b[0m \u001b[43m            \u001b[49m\u001b[38;5;28;43mself\u001b[39;49m\u001b[38;5;241;43m.\u001b[39;49m\u001b[43mhandle\u001b[49m\u001b[43m,\u001b[49m\u001b[43m \u001b[49m\u001b[43mctypes\u001b[49m\u001b[38;5;241;43m.\u001b[39;49m\u001b[43mc_int\u001b[49m\u001b[43m(\u001b[49m\u001b[43miteration\u001b[49m\u001b[43m)\u001b[49m\u001b[43m,\u001b[49m\u001b[43m \u001b[49m\u001b[43mdtrain\u001b[49m\u001b[38;5;241;43m.\u001b[39;49m\u001b[43mhandle\u001b[49m\n\u001b[1;32m   2103\u001b[0m \u001b[43m        \u001b[49m\u001b[43m)\u001b[49m\n\u001b[1;32m   2104\u001b[0m     )\n\u001b[1;32m   2105\u001b[0m \u001b[38;5;28;01melse\u001b[39;00m:\n\u001b[1;32m   2106\u001b[0m     pred \u001b[38;5;241m=\u001b[39m \u001b[38;5;28mself\u001b[39m\u001b[38;5;241m.\u001b[39mpredict(dtrain, output_margin\u001b[38;5;241m=\u001b[39m\u001b[38;5;28;01mTrue\u001b[39;00m, training\u001b[38;5;241m=\u001b[39m\u001b[38;5;28;01mTrue\u001b[39;00m)\n",
      "\u001b[0;31mKeyboardInterrupt\u001b[0m: "
     ]
    }
   ],
   "source": [
    "# Fit the model\n",
    "random_search.fit(X_train, y_train)\n",
    "\n",
    "# Output the best hyperparameters and RMSE\n",
    "print(f'Best parameters: {random_search.best_params_}')\n",
    "best_rmse = np.sqrt(-random_search.best_score_)\n",
    "print(f'Best RMSE from RandomizedSearchCV: {best_rmse}')"
   ]
  },
  {
   "cell_type": "code",
   "execution_count": null,
   "id": "e8f84270-7948-4700-9551-efd3c0929bb7",
   "metadata": {},
   "outputs": [],
   "source": [
    "best_xgb_model = random_search.best_estimator_\n"
   ]
  }
 ],
 "metadata": {
  "kernelspec": {
   "display_name": "Python 3 (ipykernel)",
   "language": "python",
   "name": "python3"
  },
  "language_info": {
   "codemirror_mode": {
    "name": "ipython",
    "version": 3
   },
   "file_extension": ".py",
   "mimetype": "text/x-python",
   "name": "python",
   "nbconvert_exporter": "python",
   "pygments_lexer": "ipython3",
   "version": "3.11.9"
  }
 },
 "nbformat": 4,
 "nbformat_minor": 5
}
