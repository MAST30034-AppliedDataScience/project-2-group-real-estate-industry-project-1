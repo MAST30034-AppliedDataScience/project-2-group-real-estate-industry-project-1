{
 "cells": [
  {
   "cell_type": "code",
   "execution_count": 2,
   "id": "4d608cf4-1717-4c6b-8c7b-2a9b7ac483b0",
   "metadata": {},
   "outputs": [],
   "source": [
    "import pandas as pd\n",
    "import os\n",
    "import seaborn as sns\n",
    "import matplotlib.pyplot as plt\n",
    "import numpy as np\n",
    "from sklearn.ensemble import RandomForestRegressor\n",
    "from sklearn.model_selection import train_test_split"
   ]
  },
  {
   "cell_type": "code",
   "execution_count": 5,
   "id": "f3528fcb-4cfb-4a97-9435-34f765b69464",
   "metadata": {},
   "outputs": [
    {
     "data": {
      "text/plain": [
       "Address                             0\n",
       "Cost                            18642\n",
       "Property Type                       0\n",
       "Bedrooms                            0\n",
       "Bathrooms                           0\n",
       "Latitude                            0\n",
       "Longitude                           0\n",
       "Closest Gov Secondary School    10400\n",
       "Age under 20                      949\n",
       "Age 20-39                         949\n",
       "Age 40-59                         949\n",
       "Age 60+                           949\n",
       "Postcode                            0\n",
       "CBD Distance                        0\n",
       "Train Distance                      0\n",
       "Electricity Distance                0\n",
       "Hospital Distance                   0\n",
       "Library Distance                    0\n",
       "Park Distance                       0\n",
       "Tourist Attraction Distance         0\n",
       "Grocery Distance                    0\n",
       "Year                                0\n",
       "SA2_CODE21                         26\n",
       "Population                         26\n",
       "Income                             26\n",
       "LGA_CODE24                         26\n",
       "Incidents Recorded               3913\n",
       "Suburb                              0\n",
       "Gov Secondary Distance          10400\n",
       "dtype: int64"
      ]
     },
     "execution_count": 5,
     "metadata": {},
     "output_type": "execute_result"
    }
   ],
   "source": [
    "df = pd.read_csv('../../data/curated/individual_property_final.csv')\n",
    "df.isnull().sum()"
   ]
  },
  {
   "cell_type": "code",
   "execution_count": null,
   "id": "484252ce-6919-4dba-a30e-10b9dc6e6f3a",
   "metadata": {},
   "outputs": [],
   "source": [
    "df = pd.read_csv('../../data/curated/individual_property_final.csv')\n",
    "df.isnull().sum()"
   ]
  },
  {
   "cell_type": "code",
   "execution_count": null,
   "id": "933ed15e-8eca-4cb7-b531-b65e65f8b078",
   "metadata": {},
   "outputs": [],
   "source": [
    "df_train = df[(df['Year'] >= 2015) & (df['Year'] <= 2024)]\n",
    "df_predict = df[(df['Year'] >= 2025) & (df['Year'] <= 2027)]"
   ]
  },
  {
   "cell_type": "code",
   "execution_count": null,
   "id": "7f8be925-a64e-4bfb-89ea-e198a34abb7a",
   "metadata": {},
   "outputs": [],
   "source": [
    "X = df_train.drop(columns=['Cost'])\n",
    "y = df_train['Cost']"
   ]
  },
  {
   "cell_type": "code",
   "execution_count": null,
   "id": "a440d1a9-f9c7-4775-9e63-64c7b9b7f100",
   "metadata": {},
   "outputs": [],
   "source": [
    "seed = 37 "
   ]
  },
  {
   "cell_type": "code",
   "execution_count": null,
   "id": "8ff7563b-4a60-4584-ab98-ca5e1085802b",
   "metadata": {},
   "outputs": [],
   "source": [
    "X_train, X_val, y_train, y_val = train_test_split(X, y, test_size=0.2, random_state=42)"
   ]
  }
 ],
 "metadata": {
  "kernelspec": {
   "display_name": "Python 3 (ipykernel)",
   "language": "python",
   "name": "python3"
  },
  "language_info": {
   "codemirror_mode": {
    "name": "ipython",
    "version": 3
   },
   "file_extension": ".py",
   "mimetype": "text/x-python",
   "name": "python",
   "nbconvert_exporter": "python",
   "pygments_lexer": "ipython3",
   "version": "3.11.9"
  }
 },
 "nbformat": 4,
 "nbformat_minor": 5
}
