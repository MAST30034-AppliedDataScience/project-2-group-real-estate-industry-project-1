{
 "cells": [
  {
   "cell_type": "code",
   "execution_count": 1,
   "id": "4d608cf4-1717-4c6b-8c7b-2a9b7ac483b0",
   "metadata": {},
   "outputs": [],
   "source": [
    "# import pandas as pd"
   ]
  },
  {
   "cell_type": "code",
   "execution_count": null,
   "id": "298a2288-015e-4f4b-a4db-78ddd0d1b19c",
   "metadata": {},
   "outputs": [],
   "source": [
    "# individual_property = pd.read_csv(\"../../data/curated/individual_property.csv\")"
   ]
  },
  {
   "cell_type": "markdown",
   "id": "087bd3aa-404f-41b9-8cd8-5e0c681adfb2",
   "metadata": {},
   "source": [
    "Fit random forest, this should need less preprocess than linear, just make sure no missing value slip through in processing step. \\\n",
    "Plot out feature importance plot, this is needed.\n",
    "Make sure relatively OK preformance (RMSE not > 20% range if you need standard :D)"
   ]
  }
 ],
 "metadata": {
  "kernelspec": {
   "display_name": "Python 3 (ipykernel)",
   "language": "python",
   "name": "python3"
  },
  "language_info": {
   "codemirror_mode": {
    "name": "ipython",
    "version": 3
   },
   "file_extension": ".py",
   "mimetype": "text/x-python",
   "name": "python",
   "nbconvert_exporter": "python",
   "pygments_lexer": "ipython3",
   "version": "3.11.9"
  }
 },
 "nbformat": 4,
 "nbformat_minor": 5
}
