{
 "cells": [
  {
   "cell_type": "code",
   "execution_count": 1,
   "metadata": {},
   "outputs": [
    {
     "name": "stdout",
     "output_type": "stream",
     "text": [
      "File downloaded to: ../../data/landing/three_external/Order_9M07T0.zip\n",
      "File extracted to: ../../data/landing/three_external/extracted\n"
     ]
    }
   ],
   "source": [
    "import os\n",
    "import requests\n",
    "import zipfile\n",
    "\n",
    "# Use relative path\n",
    "download_path = '../../data/landing/three_external'\n",
    "zip_file_name = 'Order_9M07T0.zip'  # File name\n",
    "zip_file_path = os.path.join(download_path, zip_file_name)\n",
    "extracted_folder = os.path.join(download_path, 'extracted')  # Create a separate folder for extracted contents\n",
    "\n",
    "# Create a folder to store the extracted contents\n",
    "os.makedirs(download_path, exist_ok=True)\n",
    "\n",
    "# Check if the ZIP file already exists\n",
    "if not os.path.exists(zip_file_path):\n",
    "    # Download the file\n",
    "    url = 'https://s3.ap-southeast-2.amazonaws.com/cl-isd-prd-datashare-s3-delivery/Order_9M07T0.zip'\n",
    "    response = requests.get(url)\n",
    "\n",
    "    # Save the file to the specified path\n",
    "    with open(zip_file_path, 'wb') as f:\n",
    "        f.write(response.content)\n",
    "\n",
    "    print(f\"File downloaded to: {zip_file_path}\")\n",
    "    \n",
    "    # Extract the file to the new folder\n",
    "    os.makedirs(extracted_folder, exist_ok=True)\n",
    "    with zipfile.ZipFile(zip_file_path, 'r') as zip_ref:\n",
    "        zip_ref.extractall(extracted_folder)\n",
    "    print(f\"File extracted to: {extracted_folder}\")\n",
    "else:\n",
    "    print(f\"ZIP file already exists, skipping download and extraction: {zip_file_path}\")"
   ]
  }
 ],
 "metadata": {
  "kernelspec": {
   "display_name": "Python 3 (ipykernel)",
   "language": "python",
   "name": "python3"
  },
  "language_info": {
   "codemirror_mode": {
    "name": "ipython",
    "version": 3
   },
   "file_extension": ".py",
   "mimetype": "text/x-python",
   "name": "python",
   "nbconvert_exporter": "python",
   "pygments_lexer": "ipython3",
   "version": "3.11.9"
  }
 },
 "nbformat": 4,
 "nbformat_minor": 4
}
