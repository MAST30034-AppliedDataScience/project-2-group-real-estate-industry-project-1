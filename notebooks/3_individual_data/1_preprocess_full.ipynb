{
 "cells": [
  {
   "cell_type": "markdown",
   "id": "0cb8f39e-305c-4a73-b427-d83f06021909",
   "metadata": {},
   "source": [
    "Please do proprecess on the dataset and put in curated folder"
   ]
  },
  {
   "cell_type": "code",
   "execution_count": 1,
   "id": "bc988c04-3420-40ae-b30b-426a8f55b142",
   "metadata": {},
   "outputs": [],
   "source": [
    "# import pandas as pd"
   ]
  },
  {
   "cell_type": "code",
   "execution_count": 2,
   "id": "5285a10b-e6ba-44ac-b67e-72f2f6f608eb",
   "metadata": {},
   "outputs": [],
   "source": [
    "# individual_property = pd.read_csv(\"../../data/raw/individual_property.csv\")"
   ]
  },
  {
   "cell_type": "markdown",
   "id": "2968dde4-7baf-4577-884a-f72b84a7c112",
   "metadata": {},
   "source": [
    "Deal with missing values, top 50 school, outlier?, parse cost ... \\\n",
    "Don't forget comments :)"
   ]
  },
  {
   "cell_type": "code",
   "execution_count": 3,
   "id": "76cf89c2-1478-4613-8a86-ec53cecde214",
   "metadata": {},
   "outputs": [],
   "source": [
    "# work work work"
   ]
  },
  {
   "cell_type": "code",
   "execution_count": 4,
   "id": "0860358f-7dac-4e8b-ac46-ceb9c0b73b0e",
   "metadata": {},
   "outputs": [],
   "source": [
    "# Output preprocessed data\n",
    "# individual_property.to_csv(\"../../data/curated/individual_property.csv\", index=False)"
   ]
  }
 ],
 "metadata": {
  "kernelspec": {
   "display_name": "Python 3 (ipykernel)",
   "language": "python",
   "name": "python3"
  },
  "language_info": {
   "codemirror_mode": {
    "name": "ipython",
    "version": 3
   },
   "file_extension": ".py",
   "mimetype": "text/x-python",
   "name": "python",
   "nbconvert_exporter": "python",
   "pygments_lexer": "ipython3",
   "version": "3.11.9"
  }
 },
 "nbformat": 4,
 "nbformat_minor": 5
}
