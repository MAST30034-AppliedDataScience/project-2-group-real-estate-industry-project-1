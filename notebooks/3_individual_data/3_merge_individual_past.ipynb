{
 "cells": [
  {
   "cell_type": "markdown",
   "id": "66f111c4-0081-4519-bfa9-32df813afc24",
   "metadata": {},
   "source": [
    "### Merge past into individual, treat as feature for each timestep"
   ]
  },
  {
   "cell_type": "code",
   "execution_count": 3,
   "id": "a3c4bcbf-0473-4e90-9d59-4042c2e1e561",
   "metadata": {},
   "outputs": [],
   "source": [
    "import pandas as pd"
   ]
  },
  {
   "cell_type": "code",
   "execution_count": 4,
   "id": "c14bb0ba-cd26-4513-a753-902e252c7d20",
   "metadata": {},
   "outputs": [],
   "source": [
    "domain_data = pd.read_csv(\"../../data/curated/individual_property_final.csv\")"
   ]
  },
  {
   "cell_type": "code",
   "execution_count": 6,
   "id": "79b3d9be-caf0-421c-8fd0-12d67715e9c2",
   "metadata": {},
   "outputs": [
    {
     "name": "stdout",
     "output_type": "stream",
     "text": [
      "Available sheets: ['1 bedroom flat', '2 bedroom flat', '3 bedroom flat', '2 bedroom house', '3 bedroom house', '4 bedroom house', 'All properties']\n"
     ]
    }
   ],
   "source": []
  },
  {
   "cell_type": "code",
   "execution_count": null,
   "id": "3813d59c-1982-4b4c-bf52-9e733fe557ce",
   "metadata": {},
   "outputs": [],
   "source": []
  }
 ],
 "metadata": {
  "kernelspec": {
   "display_name": "Python 3 (ipykernel)",
   "language": "python",
   "name": "python3"
  },
  "language_info": {
   "codemirror_mode": {
    "name": "ipython",
    "version": 3
   },
   "file_extension": ".py",
   "mimetype": "text/x-python",
   "name": "python",
   "nbconvert_exporter": "python",
   "pygments_lexer": "ipython3",
   "version": "3.11.9"
  }
 },
 "nbformat": 4,
 "nbformat_minor": 5
}
