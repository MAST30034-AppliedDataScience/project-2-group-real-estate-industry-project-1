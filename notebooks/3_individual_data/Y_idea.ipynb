{
 "cells": [
  {
   "cell_type": "markdown",
   "metadata": {},
   "source": [
    "# This file aggreagte individual property data by suburb"
   ]
  },
  {
   "cell_type": "markdown",
   "metadata": {},
   "source": [
    "数据进第一题模型的样子\n",
    "Year | income | population | Distance | Cost \n",
    "Train-validation\n",
    "2019 | 123    |  345       | 1234     |  220\n",
    "2020 | 123    |  345       | 1234     |  220\n",
    "2021 | 123    |  345       | 1234     |  220\n",
    "2023 | 334    |  455       | 1234     |  340\n",
    "\n",
    "Test\n",
    "2025 | 156    |  678       | 1234     |  ?\n",
    "2027 | 789    |  234       | 1234     |  ?\n",
    "\n",
    "model: price predictor\n"
   ]
  },
  {
   "cell_type": "markdown",
   "metadata": {},
   "source": [
    "1. For income, crime, population:\n",
    "e.g. 这是我想要的每个dataset的样子\n",
    "Year | area_code | crime\n",
    "2015\n",
    "2016\n",
    "2017\n",
    "...\n",
    "2022\n",
    "2024\n",
    "...\n",
    "2027\n",
    "\n",
    "\n",
    "2. meger data by year\n",
    "- add feature 'year'\n",
    "- merge income, crime, population, property by year, \n",
    "    cost='NA' if year != 2024\n",
    "\n",
    "Dataset:\n",
    "Year| income, crime, population, distance | Cost\n",
    "2020| ......                              | ?\n",
    "...\n",
    "2024| ......                              | 365\n",
    "...\n",
    "2027| ......                              | ?\n",
    "\n",
    "\n",
    "\n",
    "3. aggregate data AND find past price:\n",
    "- aggregate by suburb -> 提取(median price by suburb in 2024)\n",
    "\n",
    "- 从past price dataset, 提取(median price by suburb at past)\n",
    "\n",
    "- (price of individual property in 2024) VS (median price by suburb in 2024) -> %\n",
    "\n",
    "- Base on % and (median price by suburb at past) -> (price of individual property at past)\n",
    "    - median price by suburb at past:\n",
    "        Year | Suburb | median_price\n",
    "        把property type给消除掉\n",
    "\n",
    "LIMITATION: Base on the limitation of our past data resource.....\n",
    "\n",
    "ASSUMPTION: Over time, rental price at same suburb tend to change together.\n",
    "\n",
    "4. insert (price of individual property at past) to the dataset [2]\n",
    "- Cost = price of individual property at past[year] if year < 2024\n",
    "\n",
    "\n",
    "5. predict rental price of individual property\n",
    "past-2024[4] -> train-validation -> modelling: price predictor, e.g. RF\n",
    "2025-2027[4] -> 3 test dataset"
   ]
  },
  {
   "cell_type": "markdown",
   "metadata": {},
   "source": [
    "train80 - validation20\n",
    "\n",
    " 1   Cost                          5055 non-null   float64\n",
    " 2   Property Type                 5055 non-null   object \n",
    " 3   Bedrooms                      5055 non-null   float64\n",
    " 4   Bathrooms                     5055 non-null   float64\n",
    " \n",
    " 7   Closest Gov Secondary School  5055 non-null   object \n",
    " 8   Age under 20                  5055 non-null   float64\n",
    " 9   Age 20-39                     5055 non-null   float64\n",
    " 10  Age 40-59                     5055 non-null   float64\n",
    " 11  Age 60+                       5055 non-null   float64\n",
    " \n",
    " 14  population 2024               5055 non-null   float64\n",
    " \n",
    " 18  2024 income                   5055 non-null   float64\n",
    " \n",
    " \n",
    " 23  crime 2024                    5055 non-null   float64\n",
    "\n",
    " 27  CBD Distance                  5055 non-null   float64\n",
    " 28  Train Distance                5055 non-null   float64\n",
    " 29  Electricity Distance          5055 non-null   float64\n",
    " 30  Hospital Distance             5055 non-null   float64\n",
    " 31  Library Distance              5055 non-null   float64\n",
    " 32  Park Distance                 5055 non-null   float64\n",
    " 33  Tourist Attraction Distance   5055 non-null   float64\n",
    " 34  Grocery Distance              5055 non-null   float64\n",
    " 35  Gov Secondary Distance        5055 non-null   float64\n",
    "\n",
    "RF"
   ]
  },
  {
   "cell_type": "markdown",
   "metadata": {},
   "source": [
    "Test\n",
    " 1   Cost                          5055 non-null   float64\n",
    " 2   Property Type                 5055 non-null   object \n",
    " 3   Bedrooms                      5055 non-null   float64\n",
    " 4   Bathrooms                     5055 non-null   float64\n",
    " \n",
    " 7   Closest Gov Secondary School  5055 non-null   object \n",
    " 8   Age under 20                  5055 non-null   float64\n",
    " 9   Age 20-39                     5055 non-null   float64\n",
    " 10  Age 40-59                     5055 non-null   float64\n",
    " 11  Age 60+                       5055 non-null   float64\n",
    " \n",
    "\n",
    " dataset 1: 15  population 2025               5055 non-null   float64\n",
    "\n",
    " dataset 2: 16  population 2026               5055 non-null   float64\n",
    "\n",
    " dataset 3: 17  population 2027               5055 non-null   float64\n",
    " \n",
    " 18  2024 income                   5055 non-null   float64\n",
    " 19  2025 income                   5055 non-null   float64\n",
    " 20  2026 income                   5055 non-null   float64\n",
    " 21  2027 income                   5055 non-null   float64\n",
    " \n",
    " 23  crime 2024                    5055 non-null   float64\n",
    " 24  crime 2025                    5055 non-null   float64\n",
    " 25  crime 2026                    5055 non-null   float64\n",
    " 26  crime 2027                    5055 non-null   float64\n",
    " 27  CBD Distance                  5055 non-null   float64\n",
    " 28  Train Distance                5055 non-null   float64\n",
    " 29  Electricity Distance          5055 non-null   float64\n",
    " 30  Hospital Distance             5055 non-null   float64\n",
    " 31  Library Distance              5055 non-null   float64\n",
    " 32  Park Distance                 5055 non-null   float64\n",
    " 33  Tourist Attraction Distance   5055 non-null   float64\n",
    " 34  Grocery Distance              5055 non-null   float64\n",
    " 35  Gov Secondary Distance        5055 non-null   float64\n",
    "\n",
    "RF"
   ]
  },
  {
   "cell_type": "markdown",
   "metadata": {},
   "source": []
  },
  {
   "cell_type": "markdown",
   "metadata": {},
   "source": []
  },
  {
   "cell_type": "markdown",
   "metadata": {},
   "source": []
  },
  {
   "cell_type": "code",
   "execution_count": null,
   "metadata": {},
   "outputs": [],
   "source": []
  },
  {
   "cell_type": "code",
   "execution_count": null,
   "metadata": {},
   "outputs": [],
   "source": []
  },
  {
   "cell_type": "code",
   "execution_count": null,
   "metadata": {},
   "outputs": [],
   "source": []
  },
  {
   "cell_type": "code",
   "execution_count": null,
   "metadata": {},
   "outputs": [],
   "source": []
  }
 ],
 "metadata": {
  "kernelspec": {
   "display_name": "Python 3 (ipykernel)",
   "language": "python",
   "name": "python3"
  },
  "language_info": {
   "codemirror_mode": {
    "name": "ipython",
    "version": 3
   },
   "file_extension": ".py",
   "mimetype": "text/x-python",
   "name": "python",
   "nbconvert_exporter": "python",
   "pygments_lexer": "ipython3",
   "version": "3.11.9"
  }
 },
 "nbformat": 4,
 "nbformat_minor": 4
}
