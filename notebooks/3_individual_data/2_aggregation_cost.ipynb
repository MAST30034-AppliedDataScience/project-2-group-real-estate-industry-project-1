{
 "cells": [
  {
   "cell_type": "code",
   "execution_count": 46,
   "metadata": {},
   "outputs": [],
   "source": [
    "import pandas as pd\n",
    "import os\n",
    "import json"
   ]
  },
  {
   "cell_type": "code",
   "execution_count": 47,
   "metadata": {},
   "outputs": [],
   "source": [
    "# Create folder to save dataset\n",
    "base_dir = '../../data/'\n",
    "raw_dir = os.path.join(base_dir, 'raw')\n",
    "curated_dir = os.path.join(base_dir, 'curated')\n",
    "\n",
    "if not os.path.exists(base_dir):\n",
    "    os.makedirs(base_dir)\n",
    "\n",
    "if not os.path.exists(curated_dir):\n",
    "    os.makedirs(curated_dir)\n",
    "\n",
    "\n",
    "subfolder = 'cost_suburb'\n",
    "\n",
    "if not os.path.exists(os.path.join(raw_dir, subfolder)):\n",
    "    os.makedirs(os.path.join(raw_dir, subfolder))"
   ]
  },
  {
   "cell_type": "code",
   "execution_count": 48,
   "metadata": {},
   "outputs": [],
   "source": [
    "# read data\n",
    "df = pd.read_csv(f\"{curated_dir}/individual_property_preprocessed.csv\")"
   ]
  },
  {
   "cell_type": "code",
   "execution_count": 49,
   "metadata": {},
   "outputs": [
    {
     "name": "stdout",
     "output_type": "stream",
     "text": [
      "Available sheets: ['1 bedroom flat', '2 bedroom flat', '3 bedroom flat', '2 bedroom house', '3 bedroom house', '4 bedroom house', 'All properties']\n"
     ]
    }
   ],
   "source": [
    "# past data of median price of properties by suburb\n",
    "past_data = pd.ExcelFile(\"../../data/raw/domain/past_data.xlsx\")\n",
    "\n",
    "print(\"Available sheets:\", past_data.sheet_names)"
   ]
  },
  {
   "cell_type": "code",
   "execution_count": 50,
   "metadata": {},
   "outputs": [],
   "source": [
    "# Load the postcode dictionary from the JSON file\n",
    "with open('../../data/raw/suburb_to_postcodes.json', 'r') as f:\n",
    "    postcode_to_suburb = json.load(f)"
   ]
  },
  {
   "cell_type": "code",
   "execution_count": 51,
   "metadata": {},
   "outputs": [
    {
     "data": {
      "text/plain": [
       "(80496, 28)"
      ]
     },
     "execution_count": 51,
     "metadata": {},
     "output_type": "execute_result"
    }
   ],
   "source": [
    "df.shape"
   ]
  },
  {
   "cell_type": "markdown",
   "metadata": {},
   "source": [
    "# aggregate property by suburb to extract median_price_by_suburb_2024"
   ]
  },
  {
   "cell_type": "code",
   "execution_count": 52,
   "metadata": {},
   "outputs": [
    {
     "data": {
      "text/plain": [
       "Address                         7/7-9 Faussett Street, Albert Park VIC 3206\n",
       "Cost                                                                  490.0\n",
       "Property Type                                                     Apartment\n",
       "Bedrooms                                                                1.0\n",
       "Bathrooms                                                               1.0\n",
       "Latitude                                                          -37.84167\n",
       "Longitude                                                        144.955332\n",
       "Closest Gov Secondary School                            Albert Park College\n",
       "Age under 20                                                           20.0\n",
       "Age 20-39                                                              26.0\n",
       "Age 40-59                                                              29.0\n",
       "Age 60+                                                                25.0\n",
       "Postcode                                                             3206.0\n",
       "CBD Distance                                                         4.4456\n",
       "Train Distance                                                       4.5995\n",
       "Electricity Distance                                                 2.5835\n",
       "Hospital Distance                                                    1.9441\n",
       "Library Distance                                                     0.0756\n",
       "Park Distance                                                        0.1749\n",
       "Tourist Attraction Distance                                          0.1316\n",
       "Grocery Distance                                                     1.0792\n",
       "Year                                                                 2024.0\n",
       "SA2_CODE21                                                      206051128.0\n",
       "Population                                                     17001.602321\n",
       "Income                                                              11585.4\n",
       "LGA_CODE24                                                          25900.0\n",
       "Incidents Recorded                                                  10048.0\n",
       "Gov Secondary Distance                                                  0.8\n",
       "Name: 35, dtype: object"
      ]
     },
     "execution_count": 52,
     "metadata": {},
     "output_type": "execute_result"
    }
   ],
   "source": [
    "# only need the cost data of 2024\n",
    "df_2024 = df[df['Year'] == 2024]\n",
    "df_2024.shape\n",
    "df_2024.iloc[2]"
   ]
  },
  {
   "cell_type": "code",
   "execution_count": 53,
   "metadata": {},
   "outputs": [],
   "source": [
    "# Initialize an empty list to collect suburb data\n",
    "suburb_data = []\n",
    "\n",
    "# Iterate over each suburb and its list of postcodes\n",
    "for suburb, postcodes in postcode_to_suburb.items():\n",
    "    # Filter the domain_data for the matching postcodes\n",
    "    filtered_df = df_2024[df_2024['Postcode'].isin(postcodes)]\n",
    "    \n",
    "    # If no properties match, skip this suburb\n",
    "    if filtered_df.empty:\n",
    "        continue\n",
    "    \n",
    "    # Initialize a dictionary to store the suburb's aggregated data\n",
    "    suburb_aggregates = {}\n",
    "    \n",
    "    # Find the median of Cost using filtered_df\n",
    "    suburb_aggregates['median_cost'] = filtered_df['Cost'].median()\n",
    "\n",
    "    # Add the property count for this suburb\n",
    "    suburb_aggregates['property_count'] = filtered_df.shape[0]\n",
    "    \n",
    "    # Add the suburb name to the result\n",
    "    suburb_aggregates['Suburb'] = suburb\n",
    "    \n",
    "    # Append the suburb's data to the list\n",
    "    suburb_data.append(suburb_aggregates)\n",
    "\n",
    "# Convert the list of suburb data into a new dataframe\n",
    "suburb_aggregates_df = pd.DataFrame(suburb_data)\n",
    "\n",
    "# Show the resulting dataframe\n",
    "suburb_aggregates_df.head()\n",
    "\n",
    "# Save the DataFrame if needed\n",
    "suburb_aggregates_df.to_csv(f\"{raw_dir}/{subfolder}/cost_suburb_2024.csv\", index=False)\n"
   ]
  },
  {
   "cell_type": "markdown",
   "metadata": {},
   "source": [
    "# extract the past median price of each suburb"
   ]
  },
  {
   "cell_type": "code",
   "execution_count": null,
   "metadata": {},
   "outputs": [],
   "source": []
  },
  {
   "cell_type": "markdown",
   "metadata": {},
   "source": [
    "# Relative Property Price Index\n",
    "Compare the price of individual property in 2024 with mean price by suburb in 2024"
   ]
  },
  {
   "cell_type": "code",
   "execution_count": null,
   "metadata": {},
   "outputs": [],
   "source": []
  },
  {
   "cell_type": "code",
   "execution_count": null,
   "metadata": {},
   "outputs": [],
   "source": []
  },
  {
   "cell_type": "code",
   "execution_count": null,
   "metadata": {},
   "outputs": [],
   "source": []
  },
  {
   "cell_type": "code",
   "execution_count": null,
   "metadata": {},
   "outputs": [],
   "source": []
  }
 ],
 "metadata": {
  "kernelspec": {
   "display_name": "myenv2",
   "language": "python",
   "name": "python3"
  },
  "language_info": {
   "codemirror_mode": {
    "name": "ipython",
    "version": 3
   },
   "file_extension": ".py",
   "mimetype": "text/x-python",
   "name": "python",
   "nbconvert_exporter": "python",
   "pygments_lexer": "ipython3",
   "version": "3.10.13"
  }
 },
 "nbformat": 4,
 "nbformat_minor": 2
}
