{
 "cells": [
  {
   "cell_type": "code",
   "execution_count": 1,
   "metadata": {},
   "outputs": [],
   "source": [
    "import pandas as pd\n",
    "import os"
   ]
  },
  {
   "cell_type": "code",
   "execution_count": 2,
   "metadata": {},
   "outputs": [],
   "source": [
    "# Create folder to save dataset\n",
    "base_dir = '../../data/'\n",
    "raw_dir = os.path.join(base_dir, 'raw')\n",
    "curated_dir = os.path.join(base_dir, 'curated')\n",
    "\n",
    "if not os.path.exists(base_dir):\n",
    "    os.makedirs(base_dir)\n",
    "\n",
    "if not os.path.exists(curated_dir):\n",
    "    os.makedirs(curated_dir)\n",
    "\n",
    "\n",
    "subfolder = 'cost_suburb'\n",
    "\n",
    "if not os.path.exists(os.path.join(raw_dir, subfolder)):\n",
    "    os.makedirs(os.path.join(raw_dir, subfolder))"
   ]
  },
  {
   "cell_type": "code",
   "execution_count": 3,
   "metadata": {},
   "outputs": [],
   "source": [
    "# read data\n",
    "df = pd.read_csv(f\"{curated_dir}/individual_property_preprocessed.csv\")"
   ]
  },
  {
   "cell_type": "code",
   "execution_count": 4,
   "metadata": {},
   "outputs": [
    {
     "name": "stdout",
     "output_type": "stream",
     "text": [
      "Available sheets: ['1 bedroom flat', '2 bedroom flat', '3 bedroom flat', '2 bedroom house', '3 bedroom house', '4 bedroom house', 'All properties']\n"
     ]
    }
   ],
   "source": [
    "# past data of median price of properties by suburb\n",
    "past_data = pd.ExcelFile(\"../../data/raw/domain/past_data.xlsx\")\n",
    "\n",
    "print(\"Available sheets:\", past_data.sheet_names)"
   ]
  },
  {
   "cell_type": "code",
   "execution_count": 5,
   "metadata": {},
   "outputs": [
    {
     "data": {
      "text/plain": [
       "(80470, 29)"
      ]
     },
     "execution_count": 5,
     "metadata": {},
     "output_type": "execute_result"
    }
   ],
   "source": [
    "df.shape"
   ]
  },
  {
   "cell_type": "markdown",
   "metadata": {},
   "source": [
    "# aggregate property by suburb to extract median_price_by_suburb_2024"
   ]
  },
  {
   "cell_type": "code",
   "execution_count": 6,
   "metadata": {},
   "outputs": [
    {
     "data": {
      "text/plain": [
       "Address                         7/7-9 Faussett Street, Albert Park VIC 3206\n",
       "Cost                                                                  490.0\n",
       "Property Type                                                     Apartment\n",
       "Bedrooms                                                                1.0\n",
       "Bathrooms                                                               1.0\n",
       "Latitude                                                          -37.84167\n",
       "Longitude                                                        144.955332\n",
       "Closest Gov Secondary School                            Albert Park College\n",
       "Age under 20                                                           20.0\n",
       "Age 20-39                                                              26.0\n",
       "Age 40-59                                                              29.0\n",
       "Age 60+                                                                25.0\n",
       "Postcode                                                             3206.0\n",
       "CBD Distance                                                         4.4456\n",
       "Train Distance                                                       4.5995\n",
       "Electricity Distance                                                 2.5835\n",
       "Hospital Distance                                                    1.9441\n",
       "Library Distance                                                     0.0756\n",
       "Park Distance                                                        0.1749\n",
       "Tourist Attraction Distance                                          0.1316\n",
       "Grocery Distance                                                     1.0792\n",
       "Year                                                                 2024.0\n",
       "SA2_CODE21                                                      206051128.0\n",
       "Population                                                     17001.602321\n",
       "Income                                                              78997.0\n",
       "LGA_CODE24                                                          25900.0\n",
       "Incidents Recorded                                                  10048.0\n",
       "Suburb                                Albert Park-Middle Park-West St Kilda\n",
       "Gov Secondary Distance                                                  0.8\n",
       "Name: 35, dtype: object"
      ]
     },
     "execution_count": 6,
     "metadata": {},
     "output_type": "execute_result"
    }
   ],
   "source": [
    "# only need the cost data of 2024\n",
    "df_2024 = df[df['Year'] == 2024]\n",
    "df_2024.shape\n",
    "df_2024.iloc[2]"
   ]
  },
  {
   "cell_type": "code",
   "execution_count": 7,
   "metadata": {},
   "outputs": [
    {
     "data": {
      "text/html": [
       "<div>\n",
       "<style scoped>\n",
       "    .dataframe tbody tr th:only-of-type {\n",
       "        vertical-align: middle;\n",
       "    }\n",
       "\n",
       "    .dataframe tbody tr th {\n",
       "        vertical-align: top;\n",
       "    }\n",
       "\n",
       "    .dataframe thead th {\n",
       "        text-align: right;\n",
       "    }\n",
       "</style>\n",
       "<table border=\"1\" class=\"dataframe\">\n",
       "  <thead>\n",
       "    <tr style=\"text-align: right;\">\n",
       "      <th></th>\n",
       "      <th>median_cost</th>\n",
       "      <th>property_count</th>\n",
       "      <th>Suburb</th>\n",
       "    </tr>\n",
       "  </thead>\n",
       "  <tbody>\n",
       "    <tr>\n",
       "      <th>0</th>\n",
       "      <td>565.0</td>\n",
       "      <td>75</td>\n",
       "      <td>Albert Park-Middle Park-West St Kilda</td>\n",
       "    </tr>\n",
       "    <tr>\n",
       "      <th>1</th>\n",
       "      <td>675.0</td>\n",
       "      <td>35</td>\n",
       "      <td>Armadale</td>\n",
       "    </tr>\n",
       "    <tr>\n",
       "      <th>2</th>\n",
       "      <td>615.0</td>\n",
       "      <td>14</td>\n",
       "      <td>Carlton North</td>\n",
       "    </tr>\n",
       "    <tr>\n",
       "      <th>3</th>\n",
       "      <td>600.0</td>\n",
       "      <td>81</td>\n",
       "      <td>Carlton-Parkville</td>\n",
       "    </tr>\n",
       "    <tr>\n",
       "      <th>4</th>\n",
       "      <td>650.0</td>\n",
       "      <td>98</td>\n",
       "      <td>CBD-St Kilda Rd</td>\n",
       "    </tr>\n",
       "  </tbody>\n",
       "</table>\n",
       "</div>"
      ],
      "text/plain": [
       "   median_cost  property_count                                 Suburb\n",
       "0        565.0              75  Albert Park-Middle Park-West St Kilda\n",
       "1        675.0              35                               Armadale\n",
       "2        615.0              14                          Carlton North\n",
       "3        600.0              81                      Carlton-Parkville\n",
       "4        650.0              98                        CBD-St Kilda Rd"
      ]
     },
     "execution_count": 7,
     "metadata": {},
     "output_type": "execute_result"
    }
   ],
   "source": [
    "# Initialize an empty list to collect suburb data\n",
    "suburb_data = []\n",
    "\n",
    "# Get the unique suburbs from the 'Suburb' column in df_2024\n",
    "unique_suburbs = df_2024['Suburb'].unique()\n",
    "\n",
    "# Iterate over each unique suburb\n",
    "for suburb in unique_suburbs:\n",
    "    # Filter the data for the matching suburb\n",
    "    filtered_df = df_2024[df_2024['Suburb'] == suburb]\n",
    "    \n",
    "    # If no properties match, skip this suburb\n",
    "    if filtered_df.empty:\n",
    "        continue\n",
    "    \n",
    "    # Initialize a dictionary to store the suburb's aggregated data\n",
    "    suburb_aggregates = {}\n",
    "    \n",
    "    # Find the median of Cost using filtered_df\n",
    "    suburb_aggregates['median_cost'] = filtered_df['Cost'].median()\n",
    "\n",
    "    # Add the property count for this suburb\n",
    "    suburb_aggregates['property_count'] = filtered_df.shape[0]\n",
    "    \n",
    "    # Add the suburb name to the result\n",
    "    suburb_aggregates['Suburb'] = suburb\n",
    "    \n",
    "    # Append the suburb's data to the list\n",
    "    suburb_data.append(suburb_aggregates)\n",
    "\n",
    "# Convert the list of suburb data into a new dataframe\n",
    "suburb_aggregates_df = pd.DataFrame(suburb_data)\n",
    "\n",
    "# Show the resulting dataframe\n",
    "suburb_aggregates_df.head()\n"
   ]
  },
  {
   "cell_type": "code",
   "execution_count": 8,
   "metadata": {},
   "outputs": [],
   "source": [
    "# Save the DataFrame if needed\n",
    "suburb_aggregates_df.to_csv(f\"{raw_dir}/{subfolder}/cost_suburb_2024.csv\", index=False)"
   ]
  },
  {
   "cell_type": "markdown",
   "metadata": {},
   "source": [
    "# Extract median price by suburb at past"
   ]
  },
  {
   "cell_type": "code",
   "execution_count": 9,
   "metadata": {},
   "outputs": [],
   "source": [
    "output_relative_dir = '../../data/raw/domain/past_data_sheets'\n",
    "if not os.path.exists(output_relative_dir):\n",
    "    os.makedirs(output_relative_dir)"
   ]
  },
  {
   "cell_type": "code",
   "execution_count": 10,
   "metadata": {},
   "outputs": [],
   "source": [
    "# Function to clean the data by replacing '-' with the closest available value for each suburb\n",
    "def fill_missing_with_closest(df):\n",
    "    for i in range(df.shape[1]):\n",
    "        column = df.iloc[:, i]\n",
    "        column.replace('-', pd.NA, inplace=True)\n",
    "        column.fillna(method='ffill', inplace=True)  # Forward fill\n",
    "        column.fillna(method='bfill', inplace=True)  # Backward fill\n",
    "    return df\n",
    "\n",
    "# Function to convert time periods to decimals like 2000.00, 2000.25, 2000.50, and 2000.75\n",
    "def convert_time_to_decimal(time_series):\n",
    "    time_decimal = []\n",
    "    for time in time_series:\n",
    "        if pd.isna(time):\n",
    "            continue\n",
    "        time = str(time)\n",
    "        year, month = int(time[-4:]), time[:3]\n",
    "        if month == 'Mar':\n",
    "            time_decimal.append(year)\n",
    "        elif month == 'Jun':\n",
    "            time_decimal.append(year + 0.25)\n",
    "        elif month == 'Sep':\n",
    "            time_decimal.append(year + 0.50)\n",
    "        elif month == 'Dec':\n",
    "            time_decimal.append(year + 0.75)\n",
    "    return time_decimal"
   ]
  },
  {
   "cell_type": "code",
   "execution_count": 11,
   "metadata": {},
   "outputs": [
    {
     "name": "stdout",
     "output_type": "stream",
     "text": [
      "Processing sheet: All properties\n",
      "Combined data saved to ../../data/raw/domain/past_data_sheets/historical_rent_price.csv\n",
      "                                  suburb  year  median_rent\n",
      "0  Albert Park-Middle Park-West St Kilda  2010        435.0\n",
      "1  Albert Park-Middle Park-West St Kilda  2011        447.5\n",
      "2  Albert Park-Middle Park-West St Kilda  2012        465.0\n",
      "3  Albert Park-Middle Park-West St Kilda  2013        459.0\n",
      "4  Albert Park-Middle Park-West St Kilda  2014        477.5\n"
     ]
    },
    {
     "name": "stderr",
     "output_type": "stream",
     "text": [
      "/tmp/ipykernel_2149/2749876465.py:6: FutureWarning: Series.fillna with 'method' is deprecated and will raise in a future version. Use obj.ffill() or obj.bfill() instead.\n",
      "  column.fillna(method='ffill', inplace=True)  # Forward fill\n",
      "/tmp/ipykernel_2149/2749876465.py:6: FutureWarning: Downcasting object dtype arrays on .fillna, .ffill, .bfill is deprecated and will change in a future version. Call result.infer_objects(copy=False) instead. To opt-in to the future behavior, set `pd.set_option('future.no_silent_downcasting', True)`\n",
      "  column.fillna(method='ffill', inplace=True)  # Forward fill\n",
      "/tmp/ipykernel_2149/2749876465.py:7: FutureWarning: Series.fillna with 'method' is deprecated and will raise in a future version. Use obj.ffill() or obj.bfill() instead.\n",
      "  column.fillna(method='bfill', inplace=True)  # Backward fill\n"
     ]
    }
   ],
   "source": [
    "# Initialize an empty DataFrame to store the combined results\n",
    "combined_data = pd.DataFrame()\n",
    "\n",
    "# Loop through each sheet in the Excel file\n",
    "sheet = 'All properties'\n",
    "print(f\"Processing sheet: {sheet}\")\n",
    "\n",
    "# Load the data from the current sheet\n",
    "all_properties_df = pd.read_excel(past_data, sheet_name=sheet)\n",
    "\n",
    "# Extract suburb names and relevant rent data\n",
    "suburb_col = all_properties_df.iloc[2:, 1]  # Suburb names\n",
    "rent_data = all_properties_df.iloc[2:, 84:].iloc[:, 1::2]  # Every second column (median values)\n",
    "\n",
    "# Fill missing values\n",
    "rent_data_cleaned = fill_missing_with_closest(rent_data)\n",
    "\n",
    "# Extract the time periods and convert them to year format with decimal quarters\n",
    "time_periods = pd.Series(all_properties_df.iloc[0, 82:].iloc[::2])\n",
    "time_decimal = convert_time_to_decimal(time_periods)\n",
    "\n",
    "# Prepare data for each suburb\n",
    "for i, suburb in enumerate(suburb_col):\n",
    "    rents = rent_data_cleaned.iloc[i].dropna().astype(float).values\n",
    "    years = time_decimal[:len(rents)]\n",
    "    \n",
    "    if len(rents) == len(years):  # Only include matching year-rent pairs\n",
    "        temp_df = pd.DataFrame({'suburb': suburb, 'year': years, 'median_rent': rents})\n",
    "        \n",
    "        # Append the data to the combined dataset\n",
    "        combined_data = pd.concat([combined_data, temp_df], ignore_index=True)\n",
    "\n",
    "# Now that all data has been appended, group by 'suburb' and 'year'\n",
    "# Convert the 'year' column to integers to group by the whole year\n",
    "combined_data['year'] = combined_data['year'].astype(int)\n",
    "\n",
    "# Group by 'suburb' and 'year' and calculate the mean median_rent for each group\n",
    "combined_grouped_data = combined_data.groupby(['suburb', 'year'], as_index=False)['median_rent'].mean()\n",
    "\n",
    "# Save the final grouped data to a CSV file\n",
    "output_file = f\"{output_relative_dir}/historical_rent_price.csv\"\n",
    "combined_grouped_data.to_csv(output_file, index=False)\n",
    "\n",
    "print(f\"Combined data saved to {output_file}\")\n",
    "\n",
    "# Display the first few rows of the final combined data for verification\n",
    "print(combined_grouped_data.head())"
   ]
  },
  {
   "cell_type": "markdown",
   "metadata": {},
   "source": [
    "# Relative Property Price Index\n",
    "\n",
    "- Compare the price of individual property in 2024 with median price by suburb in 2024\n",
    "\n",
    "- Relative Property Price Index = (Price of individual property / Median property price by suburb) * 100%\n"
   ]
  },
  {
   "cell_type": "code",
   "execution_count": 12,
   "metadata": {},
   "outputs": [
    {
     "data": {
      "text/plain": [
       "Address                         3/33 Bevan Street, Albert Park VIC 3206\n",
       "Cost                                                              550.0\n",
       "Property Type                                                 Apartment\n",
       "Bedrooms                                                            1.0\n",
       "Bathrooms                                                           1.0\n",
       "Latitude                                                     -37.839959\n",
       "Longitude                                                    144.956373\n",
       "Closest Gov Secondary School                        Albert Park College\n",
       "Age under 20                                                       28.0\n",
       "Age 20-39                                                          18.0\n",
       "Age 40-59                                                          28.0\n",
       "Age 60+                                                            26.0\n",
       "Postcode                                                         3206.0\n",
       "CBD Distance                                                     4.0862\n",
       "Train Distance                                                   4.7513\n",
       "Electricity Distance                                             2.2242\n",
       "Hospital Distance                                                2.0958\n",
       "Library Distance                                                 0.2448\n",
       "Park Distance                                                    0.1982\n",
       "Tourist Attraction Distance                                      0.2416\n",
       "Grocery Distance                                                 0.7198\n",
       "Year                                                             2024.0\n",
       "SA2_CODE21                                                  206051128.0\n",
       "Population                                                 17001.602321\n",
       "Income                                                          78997.0\n",
       "LGA_CODE24                                                      25900.0\n",
       "Incidents Recorded                                              10048.0\n",
       "Suburb                            Albert Park-Middle Park-West St Kilda\n",
       "Gov Secondary Distance                                              0.9\n",
       "median_cost                                                       565.0\n",
       "property_count                                                       75\n",
       "relative_price_index                                           0.973451\n",
       "Name: 1, dtype: object"
      ]
     },
     "execution_count": 12,
     "metadata": {},
     "output_type": "execute_result"
    }
   ],
   "source": [
    "# Merge the median prices with the original df_2024 based on the 'Suburb' column\n",
    "df_merged = pd.merge(df_2024, suburb_aggregates_df, on='Suburb', how='left')\n",
    "\n",
    "# Calculate the Relative Property Price Index for each property\n",
    "df_merged['relative_price_index'] = df_merged['Cost'] / df_merged['median_cost']\n",
    "\n",
    "# Show the resulting dataframe with relevant columns\n",
    "df_merged.iloc[1]"
   ]
  },
  {
   "cell_type": "code",
   "execution_count": 13,
   "metadata": {},
   "outputs": [],
   "source": [
    "# Optionally save the results to a CSV file\n",
    "df_merged.to_csv(f\"{raw_dir}/{subfolder}/relative_price_index_2024.csv\", index=False)"
   ]
  },
  {
   "cell_type": "markdown",
   "metadata": {},
   "source": [
    "# Price of individual property at past\n",
    "\n",
    "Generated base on Relative Property Price Index and median price by suburb at past"
   ]
  },
  {
   "cell_type": "code",
   "execution_count": 14,
   "metadata": {},
   "outputs": [
    {
     "data": {
      "text/html": [
       "<div>\n",
       "<style scoped>\n",
       "    .dataframe tbody tr th:only-of-type {\n",
       "        vertical-align: middle;\n",
       "    }\n",
       "\n",
       "    .dataframe tbody tr th {\n",
       "        vertical-align: top;\n",
       "    }\n",
       "\n",
       "    .dataframe thead th {\n",
       "        text-align: right;\n",
       "    }\n",
       "</style>\n",
       "<table border=\"1\" class=\"dataframe\">\n",
       "  <thead>\n",
       "    <tr style=\"text-align: right;\">\n",
       "      <th></th>\n",
       "      <th>suburb</th>\n",
       "      <th>year</th>\n",
       "      <th>median_rent</th>\n",
       "    </tr>\n",
       "  </thead>\n",
       "  <tbody>\n",
       "    <tr>\n",
       "      <th>0</th>\n",
       "      <td>Albert Park-Middle Park-West St Kilda</td>\n",
       "      <td>2010</td>\n",
       "      <td>435.0</td>\n",
       "    </tr>\n",
       "    <tr>\n",
       "      <th>1</th>\n",
       "      <td>Albert Park-Middle Park-West St Kilda</td>\n",
       "      <td>2011</td>\n",
       "      <td>447.5</td>\n",
       "    </tr>\n",
       "    <tr>\n",
       "      <th>2</th>\n",
       "      <td>Albert Park-Middle Park-West St Kilda</td>\n",
       "      <td>2012</td>\n",
       "      <td>465.0</td>\n",
       "    </tr>\n",
       "  </tbody>\n",
       "</table>\n",
       "</div>"
      ],
      "text/plain": [
       "                                  suburb  year  median_rent\n",
       "0  Albert Park-Middle Park-West St Kilda  2010        435.0\n",
       "1  Albert Park-Middle Park-West St Kilda  2011        447.5\n",
       "2  Albert Park-Middle Park-West St Kilda  2012        465.0"
      ]
     },
     "execution_count": 14,
     "metadata": {},
     "output_type": "execute_result"
    }
   ],
   "source": [
    "historical_rent_price = pd.read_csv('../../data/raw/domain/past_data_sheets/historical_rent_price.csv')\n",
    "historical_rent_price.head(3)"
   ]
  },
  {
   "cell_type": "code",
   "execution_count": 15,
   "metadata": {},
   "outputs": [
    {
     "data": {
      "text/plain": [
       "Address                         3/33 Bevan Street, Albert Park VIC 3206\n",
       "Cost                                                              550.0\n",
       "Property Type                                                 Apartment\n",
       "Bedrooms                                                            1.0\n",
       "Bathrooms                                                           1.0\n",
       "Latitude                                                     -37.839959\n",
       "Longitude                                                    144.956373\n",
       "Closest Gov Secondary School                        Albert Park College\n",
       "Age under 20                                                       28.0\n",
       "Age 20-39                                                          18.0\n",
       "Age 40-59                                                          28.0\n",
       "Age 60+                                                            26.0\n",
       "Postcode                                                         3206.0\n",
       "CBD Distance                                                     4.0862\n",
       "Train Distance                                                   4.7513\n",
       "Electricity Distance                                             2.2242\n",
       "Hospital Distance                                                2.0958\n",
       "Library Distance                                                 0.2448\n",
       "Park Distance                                                    0.1982\n",
       "Tourist Attraction Distance                                      0.2416\n",
       "Grocery Distance                                                 0.7198\n",
       "Year                                                             2024.0\n",
       "SA2_CODE21                                                  206051128.0\n",
       "Population                                                 17001.602321\n",
       "Income                                                          78997.0\n",
       "LGA_CODE24                                                      25900.0\n",
       "Incidents Recorded                                              10048.0\n",
       "Suburb                            Albert Park-Middle Park-West St Kilda\n",
       "Gov Secondary Distance                                              0.9\n",
       "median_cost                                                       565.0\n",
       "property_count                                                       75\n",
       "relative_price_index                                           0.973451\n",
       "Name: 1, dtype: object"
      ]
     },
     "execution_count": 15,
     "metadata": {},
     "output_type": "execute_result"
    }
   ],
   "source": [
    "df_merged.iloc[1]"
   ]
  },
  {
   "cell_type": "code",
   "execution_count": 16,
   "metadata": {},
   "outputs": [
    {
     "data": {
      "text/plain": [
       "Address                         8/90 Hambleton Street, Middle Park VIC 3206\n",
       "Cost                                                                    NaN\n",
       "Property Type                                                     Apartment\n",
       "Bedrooms                                                                1.0\n",
       "Bathrooms                                                               1.0\n",
       "Latitude                                                         -37.847553\n",
       "Longitude                                                        144.960477\n",
       "Closest Gov Secondary School                            Albert Park College\n",
       "Age under 20                                                           36.0\n",
       "Age 20-39                                                              15.0\n",
       "Age 40-59                                                              30.0\n",
       "Age 60+                                                                19.0\n",
       "Postcode                                                             3206.0\n",
       "CBD Distance                                                         4.9721\n",
       "Train Distance                                                        4.264\n",
       "Electricity Distance                                                   3.11\n",
       "Hospital Distance                                                    3.6124\n",
       "Library Distance                                                      0.427\n",
       "Park Distance                                                        0.1886\n",
       "Tourist Attraction Distance                                          0.5198\n",
       "Grocery Distance                                                     1.6056\n",
       "Year                                                                 2016.0\n",
       "SA2_CODE21                                                      206051128.0\n",
       "Population                                                          16490.0\n",
       "Income                                                              65352.0\n",
       "LGA_CODE24                                                          25900.0\n",
       "Incidents Recorded                                                   9846.0\n",
       "Suburb                                Albert Park-Middle Park-West St Kilda\n",
       "Gov Secondary Distance                                                  1.2\n",
       "median_rent                                                           515.0\n",
       "Name: 1, dtype: object"
      ]
     },
     "execution_count": 16,
     "metadata": {},
     "output_type": "execute_result"
    }
   ],
   "source": [
    "# Merge property_data with historical_rent_price on 'Suburb' and 'Year'\n",
    "df_merged_past = pd.merge(df, historical_rent_price, left_on=['Suburb', 'Year'], right_on=['suburb', 'year'], how='left')\n",
    "df_merged_past = df_merged_past.drop(['suburb', 'year'], axis=1)\n",
    "df_merged_past.iloc[1]"
   ]
  },
  {
   "cell_type": "code",
   "execution_count": 17,
   "metadata": {},
   "outputs": [
    {
     "name": "stdout",
     "output_type": "stream",
     "text": [
      "<class 'pandas.core.frame.DataFrame'>\n",
      "RangeIndex: 80756 entries, 0 to 80755\n",
      "Data columns (total 31 columns):\n",
      " #   Column                        Non-Null Count  Dtype  \n",
      "---  ------                        --------------  -----  \n",
      " 0   Address                       80756 non-null  object \n",
      " 1   Cost                          6212 non-null   float64\n",
      " 2   Property Type                 80756 non-null  object \n",
      " 3   Bedrooms                      80756 non-null  float64\n",
      " 4   Bathrooms                     80756 non-null  float64\n",
      " 5   Latitude                      80756 non-null  float64\n",
      " 6   Longitude                     80756 non-null  float64\n",
      " 7   Closest Gov Secondary School  80756 non-null  object \n",
      " 8   Age under 20                  80756 non-null  float64\n",
      " 9   Age 20-39                     80756 non-null  float64\n",
      " 10  Age 40-59                     80756 non-null  float64\n",
      " 11  Age 60+                       80756 non-null  float64\n",
      " 12  Postcode                      80756 non-null  float64\n",
      " 13  CBD Distance                  80756 non-null  float64\n",
      " 14  Train Distance                80756 non-null  float64\n",
      " 15  Electricity Distance          80756 non-null  float64\n",
      " 16  Hospital Distance             80756 non-null  float64\n",
      " 17  Library Distance              80756 non-null  float64\n",
      " 18  Park Distance                 80756 non-null  float64\n",
      " 19  Tourist Attraction Distance   80756 non-null  float64\n",
      " 20  Grocery Distance              80756 non-null  float64\n",
      " 21  Year                          80756 non-null  float64\n",
      " 22  SA2_CODE21                    80756 non-null  float64\n",
      " 23  Population                    80756 non-null  float64\n",
      " 24  Income                        80756 non-null  float64\n",
      " 25  LGA_CODE24                    80756 non-null  float64\n",
      " 26  Incidents Recorded            80756 non-null  float64\n",
      " 27  Suburb                        80756 non-null  object \n",
      " 28  Gov Secondary Distance        80756 non-null  float64\n",
      " 29  median_rent                   55908 non-null  float64\n",
      " 30  relative_price_index          80756 non-null  float64\n",
      "dtypes: float64(27), object(4)\n",
      "memory usage: 19.1+ MB\n"
     ]
    }
   ],
   "source": [
    "# Merge property_data with historical rent price and relative_price_index based on 'Address'\n",
    "df_price = pd.merge(df_merged_past, df_merged[['Address', 'relative_price_index']], on='Address', how='left')\n",
    "\n",
    "df_price.info()\n"
   ]
  },
  {
   "cell_type": "code",
   "execution_count": 18,
   "metadata": {},
   "outputs": [
    {
     "data": {
      "text/plain": [
       "Address                         8/90 Hambleton Street, Middle Park VIC 3206\n",
       "Cost                                                             373.716814\n",
       "Property Type                                                     Apartment\n",
       "Bedrooms                                                                1.0\n",
       "Bathrooms                                                               1.0\n",
       "Latitude                                                         -37.847553\n",
       "Longitude                                                        144.960477\n",
       "Closest Gov Secondary School                            Albert Park College\n",
       "Age under 20                                                           36.0\n",
       "Age 20-39                                                              15.0\n",
       "Age 40-59                                                              30.0\n",
       "Age 60+                                                                19.0\n",
       "Postcode                                                             3206.0\n",
       "CBD Distance                                                         4.9721\n",
       "Train Distance                                                        4.264\n",
       "Electricity Distance                                                   3.11\n",
       "Hospital Distance                                                    3.6124\n",
       "Library Distance                                                      0.427\n",
       "Park Distance                                                        0.1886\n",
       "Tourist Attraction Distance                                          0.5198\n",
       "Grocery Distance                                                     1.6056\n",
       "Year                                                                 2016.0\n",
       "SA2_CODE21                                                      206051128.0\n",
       "Population                                                          16490.0\n",
       "Income                                                              65352.0\n",
       "LGA_CODE24                                                          25900.0\n",
       "Incidents Recorded                                                   9846.0\n",
       "Suburb                                Albert Park-Middle Park-West St Kilda\n",
       "Gov Secondary Distance                                                  1.2\n",
       "Name: 1, dtype: object"
      ]
     },
     "execution_count": 18,
     "metadata": {},
     "output_type": "execute_result"
    }
   ],
   "source": [
    "# fill in the past rental price base on relative_price_index and the median_rent in each year\n",
    "\n",
    "# Step 1: Fill missing Cost for years < 2024 using the formula: Cost = relative_price_index * median_rent\n",
    "df_price.loc[df_price['Year'] < 2024, 'Cost'] = df_price['relative_price_index'] * df_price['median_rent']\n",
    "df_price = df_price.drop(['median_rent', 'relative_price_index'], axis = 1)\n",
    "df_price.iloc[1]\n",
    "\n"
   ]
  },
  {
   "cell_type": "code",
   "execution_count": 19,
   "metadata": {},
   "outputs": [],
   "source": [
    "# sava data\n",
    "df_price.to_csv(f\"{curated_dir}/individual_property_final.csv\", index=False)"
   ]
  }
 ],
 "metadata": {
  "kernelspec": {
   "display_name": "Python 3 (ipykernel)",
   "language": "python",
   "name": "python3"
  },
  "language_info": {
   "codemirror_mode": {
    "name": "ipython",
    "version": 3
   },
   "file_extension": ".py",
   "mimetype": "text/x-python",
   "name": "python",
   "nbconvert_exporter": "python",
   "pygments_lexer": "ipython3",
   "version": "3.11.9"
  }
 },
 "nbformat": 4,
 "nbformat_minor": 4
}
