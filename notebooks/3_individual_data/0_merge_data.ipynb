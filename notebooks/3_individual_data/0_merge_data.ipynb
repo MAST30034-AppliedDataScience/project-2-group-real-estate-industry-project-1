{
 "cells": [
  {
   "cell_type": "markdown",
   "id": "1a26aef6-dcc7-43fc-954c-7113bedd3bfd",
   "metadata": {},
   "source": [
    "### This file is dedicated to put all data we got together\n",
    "\n",
    "Created by Yuecheng Wang 14-09-2024"
   ]
  },
  {
   "cell_type": "code",
   "execution_count": null,
   "id": "94eecfae-0e38-4cb9-abc5-18da028351f4",
   "metadata": {},
   "outputs": [],
   "source": []
  }
 ],
 "metadata": {
  "kernelspec": {
   "display_name": "Python 3 (ipykernel)",
   "language": "python",
   "name": "python3"
  },
  "language_info": {
   "codemirror_mode": {
    "name": "ipython",
    "version": 3
   },
   "file_extension": ".py",
   "mimetype": "text/x-python",
   "name": "python",
   "nbconvert_exporter": "python",
   "pygments_lexer": "ipython3",
   "version": "3.11.9"
  }
 },
 "nbformat": 4,
 "nbformat_minor": 5
}
