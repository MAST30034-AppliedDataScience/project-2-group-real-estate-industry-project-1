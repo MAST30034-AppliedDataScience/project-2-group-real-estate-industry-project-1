{
 "cells": [
  {
   "cell_type": "markdown",
   "id": "1a26aef6-dcc7-43fc-954c-7113bedd3bfd",
   "metadata": {},
   "source": [
    "### This file is dedicated to put all data we got together\n",
    "\n",
    "Created by Yuecheng Wang 14-09-2024\n",
    "Edited by Wanyu and Ran 25-09-2024"
   ]
  },
  {
   "cell_type": "markdown",
   "id": "7e1c2e0a-7eae-486f-b18e-a2944476bfcd",
   "metadata": {},
   "source": [
    "First, using shapefile to assignment each property SA2 population and income of area."
   ]
  },
  {
   "cell_type": "code",
   "execution_count": 1,
   "id": "f91a3f8c-2dea-4f06-99c2-9f252edeec37",
   "metadata": {},
   "outputs": [],
   "source": [
    "import geopandas as gpd\n",
    "import pandas as pd\n",
    "import numpy as np\n",
    "from shapely.geometry import Point"
   ]
  },
  {
   "cell_type": "code",
   "execution_count": 2,
   "id": "9c6f82a8-a0a9-4a36-b964-013de4f54469",
   "metadata": {},
   "outputs": [],
   "source": [
    "# Path to domain data and SA2\n",
    "SA2_shapefile_path = \"../../data/raw/ABS_SA2/SA2_2021_AUST_GDA2020.shp\"\n",
    "LGA_shapefile_path = \"../../data/raw/ABS_LGA/LGA_2024_AUST_GDA94.shp\"\n",
    "\n",
    "income_path = \"../../data/raw/Past_income_population_preprocessed/income_forecast_2024_2027.csv\"\n",
    "population_path = \"../../data/raw/ABS_population/population_forecast_2024_2027.csv\"\n",
    "crime_path = \"../../data/raw/ABS_population/crime_forecast_2024_2027.csv\"\n",
    "\n",
    "property_data_path = \"../../data/raw/domain/all_properties_preprocessed.csv\""
   ]
  },
  {
   "cell_type": "code",
   "execution_count": 3,
   "id": "b19ad234",
   "metadata": {},
   "outputs": [],
   "source": [
    "# Load in datasets\n",
    "SA2_gdf = gpd.read_file(SA2_shapefile_path)\n",
    "LGA_gdf = gpd.read_file(LGA_shapefile_path)\n",
    "property_data = pd.read_csv(property_data_path)"
   ]
  },
  {
   "cell_type": "code",
   "execution_count": 4,
   "id": "6c0c80ee-821c-4dd0-8390-ad22ebd5f35d",
   "metadata": {},
   "outputs": [],
   "source": [
    "try:\n",
    "    income = pd.read_csv(\n",
    "        income_path, \n",
    "        encoding='utf-8', \n",
    "        na_values=['', ' ', 'NA', 'NaN']\n",
    "    )\n",
    "except Exception as e:\n",
    "    print(\"Error loading income data:\", e)"
   ]
  },
  {
   "cell_type": "code",
   "execution_count": 5,
   "id": "a6f3e354",
   "metadata": {},
   "outputs": [],
   "source": [
    "try:\n",
    "    population = pd.read_csv(\n",
    "        population_path, \n",
    "        encoding='utf-8', \n",
    "        na_values=['', ' ', 'NA', 'NaN']\n",
    "    )\n",
    "except Exception as e:\n",
    "    print(\"Error loading population data:\", e)"
   ]
  },
  {
   "cell_type": "code",
   "execution_count": 6,
   "id": "f2986a04",
   "metadata": {},
   "outputs": [],
   "source": [
    "try:\n",
    "    crime = pd.read_csv(\n",
    "        crime_path, \n",
    "        encoding='utf-8', \n",
    "        na_values=['', ' ', 'NA', 'NaN']\n",
    "    )\n",
    "except Exception as e:\n",
    "    print(\"Error loading crime data:\", e)"
   ]
  },
  {
   "cell_type": "code",
   "execution_count": 7,
   "id": "ebe436f3",
   "metadata": {},
   "outputs": [],
   "source": [
    "try:\n",
    "    property = pd.read_csv(\n",
    "        property_data_path, \n",
    "        encoding='utf-8', \n",
    "        na_values=['', ' ', 'NA', 'NaN']\n",
    "    )\n",
    "except Exception as e:\n",
    "    print(\"Error loading property data:\", e)"
   ]
  },
  {
   "cell_type": "code",
   "execution_count": 8,
   "id": "198df8fb-9f56-4a42-b848-7c4d287fdd3c",
   "metadata": {},
   "outputs": [
    {
     "name": "stdout",
     "output_type": "stream",
     "text": [
      "     area code  population 2024  population 2025  population 2026  \\\n",
      "0  201011001.0     20032.475851     21029.078703     21988.267894   \n",
      "1  201011002.0     11697.541717     11598.683352     11511.000536   \n",
      "2  201011005.0      7336.281699      7348.711900      7360.345192   \n",
      "3  201011006.0     13936.277761     14964.719544     15955.738508   \n",
      "4  201011007.0      4304.529655      4340.805762      4376.830079   \n",
      "\n",
      "   population 2027  \n",
      "0     22911.447978  \n",
      "1     11433.229915  \n",
      "2      7371.232667  \n",
      "3     16910.696389  \n",
      "4      4412.604354  \n",
      "<class 'pandas.core.frame.DataFrame'>\n",
      "RangeIndex: 522 entries, 0 to 521\n",
      "Data columns (total 5 columns):\n",
      " #   Column           Non-Null Count  Dtype  \n",
      "---  ------           --------------  -----  \n",
      " 0   area code        522 non-null    float64\n",
      " 1   population 2024  522 non-null    float64\n",
      " 2   population 2025  522 non-null    float64\n",
      " 3   population 2026  522 non-null    float64\n",
      " 4   population 2027  522 non-null    float64\n",
      "dtypes: float64(5)\n",
      "memory usage: 20.5 KB\n",
      "None\n",
      "Missing values per column:\n",
      " area code          0\n",
      "population 2024    0\n",
      "population 2025    0\n",
      "population 2026    0\n",
      "population 2027    0\n",
      "dtype: int64\n"
     ]
    }
   ],
   "source": [
    "print(population.head())\n",
    "print(population.info())\n",
    "\n",
    "# Check specific columns for unexpected NaN values\n",
    "print(\"Missing values per column:\\n\", population.isna().sum())"
   ]
  },
  {
   "cell_type": "code",
   "execution_count": 9,
   "id": "6ac3ffb8",
   "metadata": {},
   "outputs": [
    {
     "name": "stdout",
     "output_type": "stream",
     "text": [
      "      SA2 Code  2024 income  2025 income  2026 income  2027 income\n",
      "0  201011001.0      11602.4      12177.3      12752.2      13327.1\n",
      "1  201011002.0       7666.2       7683.5       7700.8       7718.1\n",
      "2  201011005.0       4499.6       4545.1       4590.6       4636.1\n",
      "3  201011006.0       7418.2       7849.3       8280.4       8711.5\n",
      "4  201011007.0       2767.8       2808.0       2848.2       2888.4\n",
      "<class 'pandas.core.frame.DataFrame'>\n",
      "RangeIndex: 522 entries, 0 to 521\n",
      "Data columns (total 5 columns):\n",
      " #   Column       Non-Null Count  Dtype  \n",
      "---  ------       --------------  -----  \n",
      " 0   SA2 Code     522 non-null    float64\n",
      " 1   2024 income  522 non-null    float64\n",
      " 2   2025 income  522 non-null    float64\n",
      " 3   2026 income  522 non-null    float64\n",
      " 4   2027 income  522 non-null    float64\n",
      "dtypes: float64(5)\n",
      "memory usage: 20.5 KB\n",
      "None\n",
      "Missing values per column:\n",
      " SA2 Code       0\n",
      "2024 income    0\n",
      "2025 income    0\n",
      "2026 income    0\n",
      "2027 income    0\n",
      "dtype: int64\n"
     ]
    }
   ],
   "source": [
    "print(income.head())\n",
    "print(income.info())\n",
    "\n",
    "# Check specific columns for unexpected NaN values\n",
    "print(\"Missing values per column:\\n\", income.isna().sum())"
   ]
  },
  {
   "cell_type": "code",
   "execution_count": 10,
   "id": "57da4ae4",
   "metadata": {},
   "outputs": [
    {
     "name": "stdout",
     "output_type": "stream",
     "text": [
      "  Local Government Area   crime 2024   crime 2025   crime 2026   crime 2027\n",
      "0                Alpine  2501.430246  2472.826850  2466.194663  2464.656876\n",
      "1                Ararat  8671.402588  8478.599199  8510.051545  8504.920670\n",
      "2              Ballarat  7761.059695  7919.863535  7951.434057  7957.710340\n",
      "3               Banyule  4633.858403  4750.109729  4786.479893  4797.858591\n",
      "4            Bass Coast  5127.500868  5158.036806  5165.290127  5167.013037\n",
      "<class 'pandas.core.frame.DataFrame'>\n",
      "RangeIndex: 81 entries, 0 to 80\n",
      "Data columns (total 5 columns):\n",
      " #   Column                 Non-Null Count  Dtype  \n",
      "---  ------                 --------------  -----  \n",
      " 0   Local Government Area  81 non-null     object \n",
      " 1   crime 2024             81 non-null     float64\n",
      " 2   crime 2025             81 non-null     float64\n",
      " 3   crime 2026             81 non-null     float64\n",
      " 4   crime 2027             81 non-null     float64\n",
      "dtypes: float64(4), object(1)\n",
      "memory usage: 3.3+ KB\n",
      "None\n",
      "Missing values per column:\n",
      " Local Government Area    0\n",
      "crime 2024               0\n",
      "crime 2025               0\n",
      "crime 2026               0\n",
      "crime 2027               0\n",
      "dtype: int64\n"
     ]
    }
   ],
   "source": [
    "print(crime.head())\n",
    "print(crime.info())\n",
    "\n",
    "# Check specific columns for unexpected NaN values\n",
    "print(\"Missing values per column:\\n\", crime.isna().sum())"
   ]
  },
  {
   "cell_type": "code",
   "execution_count": 11,
   "id": "e04c7018",
   "metadata": {},
   "outputs": [
    {
     "name": "stdout",
     "output_type": "stream",
     "text": [
      "   Unnamed: 0                                            Address    Cost  \\\n",
      "0           0        8/90 Hambleton Street, Middle Park VIC 3206   410.0   \n",
      "1           1            3/33 Bevan Street, Albert Park VIC 3206   550.0   \n",
      "2           3        7/7-9 Faussett Street, Albert Park VIC 3206   490.0   \n",
      "3           4                               Albert Park VIC 3206  1280.0   \n",
      "4           5  214/363 Beaconsfield Parade, Middle Park VIC 3206   350.0   \n",
      "\n",
      "  Property Type  Bedrooms  Bathrooms   Latitude   Longitude  \\\n",
      "0     Apartment         1          1 -37.847553  144.960477   \n",
      "1     Apartment         1          1 -37.839959  144.956373   \n",
      "2     Apartment         1          1 -37.841670  144.955332   \n",
      "3     Apartment         1          1 -37.843861  144.951454   \n",
      "4     Apartment         1          1 -37.854035  144.961308   \n",
      "\n",
      "  Closest Gov Secondary School Gov Secondary Distance Age under 20 Age 20-39  \\\n",
      "0          Albert Park College            1.2 km away          36%       15%   \n",
      "1          Albert Park College            0.9 km away          28%       18%   \n",
      "2          Albert Park College            0.8 km away          20%       26%   \n",
      "3          Albert Park College            0.4 km away          17%       20%   \n",
      "4          Albert Park College            1.6 km away          19%       24%   \n",
      "\n",
      "  Age 40-59 Age 60+  Postcode  \n",
      "0       30%     19%      3206  \n",
      "1       28%     26%      3206  \n",
      "2       29%     25%      3206  \n",
      "3       36%     27%      3206  \n",
      "4       27%     29%      3206  \n",
      "<class 'pandas.core.frame.DataFrame'>\n",
      "RangeIndex: 6283 entries, 0 to 6282\n",
      "Data columns (total 15 columns):\n",
      " #   Column                        Non-Null Count  Dtype  \n",
      "---  ------                        --------------  -----  \n",
      " 0   Unnamed: 0                    6283 non-null   int64  \n",
      " 1   Address                       6283 non-null   object \n",
      " 2   Cost                          6283 non-null   float64\n",
      " 3   Property Type                 6283 non-null   object \n",
      " 4   Bedrooms                      6283 non-null   int64  \n",
      " 5   Bathrooms                     6283 non-null   int64  \n",
      " 6   Latitude                      6283 non-null   float64\n",
      " 7   Longitude                     6283 non-null   float64\n",
      " 8   Closest Gov Secondary School  5468 non-null   object \n",
      " 9   Gov Secondary Distance        5468 non-null   object \n",
      " 10  Age under 20                  6210 non-null   object \n",
      " 11  Age 20-39                     6210 non-null   object \n",
      " 12  Age 40-59                     6210 non-null   object \n",
      " 13  Age 60+                       6210 non-null   object \n",
      " 14  Postcode                      6283 non-null   int64  \n",
      "dtypes: float64(3), int64(4), object(8)\n",
      "memory usage: 736.4+ KB\n",
      "None\n",
      "Missing values per column:\n",
      " Unnamed: 0                        0\n",
      "Address                           0\n",
      "Cost                              0\n",
      "Property Type                     0\n",
      "Bedrooms                          0\n",
      "Bathrooms                         0\n",
      "Latitude                          0\n",
      "Longitude                         0\n",
      "Closest Gov Secondary School    815\n",
      "Gov Secondary Distance          815\n",
      "Age under 20                     73\n",
      "Age 20-39                        73\n",
      "Age 40-59                        73\n",
      "Age 60+                          73\n",
      "Postcode                          0\n",
      "dtype: int64\n"
     ]
    }
   ],
   "source": [
    "print(property.head())\n",
    "print(property.info())\n",
    "\n",
    "# Check specific columns for unexpected NaN values\n",
    "print(\"Missing values per column:\\n\", property.isna().sum())"
   ]
  },
  {
   "cell_type": "code",
   "execution_count": 13,
   "id": "ae272129",
   "metadata": {},
   "outputs": [
    {
     "name": "stdout",
     "output_type": "stream",
     "text": [
      "Corrected 'SA2  code' values: ['201011001' '201011002' '201011005' '201011006' '201011007' '201011008'\n",
      " '201011481' '201011482' '201011483' '201011484']\n"
     ]
    }
   ],
   "source": [
    "# Fix SA2 code being float issue\n",
    "population['area code'] = population['area code'].apply(lambda x: str(int(x)) if not pd.isna(x) else '')\n",
    "\n",
    "# Inspect the corrected 'SA2  code' values\n",
    "print(\"Corrected 'SA2  code' values:\", population['area code'].unique()[:10])\n"
   ]
  },
  {
   "cell_type": "code",
   "execution_count": 14,
   "id": "6c2be00b",
   "metadata": {},
   "outputs": [
    {
     "name": "stdout",
     "output_type": "stream",
     "text": [
      "Corrected 'SA2  code' values: ['201011001' '201011002' '201011005' '201011006' '201011007' '201011008'\n",
      " '201011481' '201011482' '201011483' '201011484']\n"
     ]
    }
   ],
   "source": [
    "# Fix SA2 code being float issue\n",
    "income['SA2 Code'] = income['SA2 Code'].apply(lambda x: str(int(x)) if not pd.isna(x) else '')\n",
    "\n",
    "# Inspect the corrected 'SA2  code' values\n",
    "print(\"Corrected 'SA2  code' values:\", income['SA2 Code'].unique()[:10])\n"
   ]
  },
  {
   "cell_type": "code",
   "execution_count": 15,
   "id": "9499f4f5",
   "metadata": {},
   "outputs": [],
   "source": [
    "# Modify property to prepare join with shapefile\n",
    "property_data['geometry'] = property_data.apply(lambda row: Point(row['Longitude'], row['Latitude']), axis=1)\n",
    "property_gdf = gpd.GeoDataFrame(property_data, geometry='geometry', crs=SA2_gdf.crs)"
   ]
  },
  {
   "cell_type": "code",
   "execution_count": 120,
   "id": "696cac79",
   "metadata": {},
   "outputs": [
    {
     "name": "stdout",
     "output_type": "stream",
     "text": [
      "   Unnamed: 0                                            Address    Cost  \\\n",
      "0           0        8/90 Hambleton Street, Middle Park VIC 3206   410.0   \n",
      "1           1            3/33 Bevan Street, Albert Park VIC 3206   550.0   \n",
      "2           3        7/7-9 Faussett Street, Albert Park VIC 3206   490.0   \n",
      "3           4                               Albert Park VIC 3206  1280.0   \n",
      "4           5  214/363 Beaconsfield Parade, Middle Park VIC 3206   350.0   \n",
      "\n",
      "  Property Type  Bedrooms  Bathrooms   Latitude   Longitude  \\\n",
      "0     Apartment         1          1 -37.847553  144.960477   \n",
      "1     Apartment         1          1 -37.839959  144.956373   \n",
      "2     Apartment         1          1 -37.841670  144.955332   \n",
      "3     Apartment         1          1 -37.843861  144.951454   \n",
      "4     Apartment         1          1 -37.854035  144.961308   \n",
      "\n",
      "  Closest Gov Secondary School Gov Secondary Distance  ... SA4_CODE21  \\\n",
      "0          Albert Park College            1.2 km away  ...        206   \n",
      "1          Albert Park College            0.9 km away  ...        206   \n",
      "2          Albert Park College            0.8 km away  ...        206   \n",
      "3          Albert Park College            0.4 km away  ...        206   \n",
      "4          Albert Park College            1.6 km away  ...        206   \n",
      "\n",
      "          SA4_NAME21 GCC_CODE21         GCC_NAME21  STE_CODE21 STE_NAME21  \\\n",
      "0  Melbourne - Inner      2GMEL  Greater Melbourne           2   Victoria   \n",
      "1  Melbourne - Inner      2GMEL  Greater Melbourne           2   Victoria   \n",
      "2  Melbourne - Inner      2GMEL  Greater Melbourne           2   Victoria   \n",
      "3  Melbourne - Inner      2GMEL  Greater Melbourne           2   Victoria   \n",
      "4  Melbourne - Inner      2GMEL  Greater Melbourne           2   Victoria   \n",
      "\n",
      "   AUS_CODE21 AUS_NAME21 AREASQKM21  \\\n",
      "0         AUS  Australia     4.6747   \n",
      "1         AUS  Australia     4.6747   \n",
      "2         AUS  Australia     4.6747   \n",
      "3         AUS  Australia     4.6747   \n",
      "4         AUS  Australia     4.6747   \n",
      "\n",
      "                                          LOCI_URI21  \n",
      "0  http://linked.data.gov.au/dataset/asgsed3/SA2/...  \n",
      "1  http://linked.data.gov.au/dataset/asgsed3/SA2/...  \n",
      "2  http://linked.data.gov.au/dataset/asgsed3/SA2/...  \n",
      "3  http://linked.data.gov.au/dataset/asgsed3/SA2/...  \n",
      "4  http://linked.data.gov.au/dataset/asgsed3/SA2/...  \n",
      "\n",
      "[5 rows x 33 columns]\n"
     ]
    }
   ],
   "source": [
    "# Join\n",
    "mapped_properties = gpd.sjoin(property_gdf, SA2_gdf, how='left', predicate='within')\n",
    "mapped_properties['SA2_CODE21'] = mapped_properties['SA2_CODE21'].astype(str)\n",
    "\n",
    "print(mapped_properties.head())"
   ]
  },
  {
   "cell_type": "code",
   "execution_count": 121,
   "id": "a33128e0",
   "metadata": {},
   "outputs": [
    {
     "data": {
      "text/plain": [
       "Index(['Unnamed: 0', 'Address', 'Cost', 'Property Type', 'Bedrooms',\n",
       "       'Bathrooms', 'Latitude', 'Longitude', 'Closest Gov Secondary School',\n",
       "       'Gov Secondary Distance', 'Age under 20', 'Age 20-39', 'Age 40-59',\n",
       "       'Age 60+', 'Postcode', 'geometry', 'index_right', 'SA2_CODE21',\n",
       "       'SA2_NAME21', 'CHG_FLAG21', 'CHG_LBL21', 'SA3_CODE21', 'SA3_NAME21',\n",
       "       'SA4_CODE21', 'SA4_NAME21', 'GCC_CODE21', 'GCC_NAME21', 'STE_CODE21',\n",
       "       'STE_NAME21', 'AUS_CODE21', 'AUS_NAME21', 'AREASQKM21', 'LOCI_URI21'],\n",
       "      dtype='object')"
      ]
     },
     "execution_count": 121,
     "metadata": {},
     "output_type": "execute_result"
    }
   ],
   "source": [
    "mapped_properties.columns"
   ]
  },
  {
   "cell_type": "code",
   "execution_count": 122,
   "id": "382d9186",
   "metadata": {},
   "outputs": [],
   "source": [
    "# Merge the spatially joined data with population data using the correct column names\n",
    "merged_data = mapped_properties.merge(\n",
    "    population, \n",
    "    left_on='SA2_CODE21', \n",
    "    right_on='area code', \n",
    "    how='left'\n",
    ")"
   ]
  },
  {
   "cell_type": "code",
   "execution_count": 123,
   "id": "8d8e279a",
   "metadata": {},
   "outputs": [],
   "source": [
    "# Merge the spatially joined data with income data using the correct column names\n",
    "merged_data = merged_data.merge(\n",
    "    income, \n",
    "    left_on='SA2_CODE21', \n",
    "    right_on='SA2 Code', \n",
    "    how='left'\n",
    ")"
   ]
  },
  {
   "cell_type": "code",
   "execution_count": 124,
   "id": "3c66746d",
   "metadata": {},
   "outputs": [
    {
     "data": {
      "text/plain": [
       "Index(['Unnamed: 0', 'Address', 'Cost', 'Property Type', 'Bedrooms',\n",
       "       'Bathrooms', 'Latitude', 'Longitude', 'Closest Gov Secondary School',\n",
       "       'Gov Secondary Distance', 'Age under 20', 'Age 20-39', 'Age 40-59',\n",
       "       'Age 60+', 'Postcode', 'geometry', 'index_right', 'SA2_CODE21',\n",
       "       'SA2_NAME21', 'CHG_FLAG21', 'CHG_LBL21', 'SA3_CODE21', 'SA3_NAME21',\n",
       "       'SA4_CODE21', 'SA4_NAME21', 'GCC_CODE21', 'GCC_NAME21', 'STE_CODE21',\n",
       "       'STE_NAME21', 'AUS_CODE21', 'AUS_NAME21', 'AREASQKM21', 'LOCI_URI21',\n",
       "       'area code', 'population 2024', 'population 2025', 'population 2026',\n",
       "       'population 2027', 'SA2 Code', '2024 income', '2025 income',\n",
       "       '2026 income', '2027 income'],\n",
       "      dtype='object')"
      ]
     },
     "execution_count": 124,
     "metadata": {},
     "output_type": "execute_result"
    }
   ],
   "source": [
    "merged_data.columns"
   ]
  },
  {
   "cell_type": "code",
   "execution_count": 125,
   "id": "802396c3",
   "metadata": {},
   "outputs": [
    {
     "data": {
      "text/plain": [
       "Index(['Unnamed: 0', 'Address', 'Cost', 'Property Type', 'Bedrooms',\n",
       "       'Bathrooms', 'Latitude', 'Longitude', 'Closest Gov Secondary School',\n",
       "       'Gov Secondary Distance', 'Age under 20', 'Age 20-39', 'Age 40-59',\n",
       "       'Age 60+', 'Postcode', 'SA2_CODE21', 'population 2024',\n",
       "       'population 2025', 'population 2026', 'population 2027', '2024 income',\n",
       "       '2025 income', '2026 income', '2027 income'],\n",
       "      dtype='object')"
      ]
     },
     "execution_count": 125,
     "metadata": {},
     "output_type": "execute_result"
    }
   ],
   "source": [
    "# select features from data merged by SA2\n",
    "drop_columns = ['geometry', 'index_right', 'SA2_NAME21', 'CHG_FLAG21',\n",
    "       'CHG_LBL21', 'SA3_CODE21', 'SA3_NAME21', 'SA4_CODE21', 'SA4_NAME21',\n",
    "       'GCC_CODE21', 'GCC_NAME21', 'STE_CODE21', 'STE_NAME21', 'AUS_CODE21',\n",
    "       'AUS_NAME21', 'AREASQKM21', 'LOCI_URI21', 'area code', 'SA2 Code', \n",
    "       ]\n",
    "\n",
    "# Filter the merged data to keep only the selected columns\n",
    "filtered_data = merged_data.drop(drop_columns, axis=1)\n",
    "filtered_data.columns"
   ]
  },
  {
   "cell_type": "code",
   "execution_count": 126,
   "id": "dd659aba",
   "metadata": {},
   "outputs": [],
   "source": [
    "# Modify property to prepare join with shapefile\n",
    "filtered_data['geometry'] = filtered_data.apply(lambda row: Point(row['Longitude'], row['Latitude']), axis=1)\n",
    "property_gdf_filtered = gpd.GeoDataFrame(filtered_data, geometry='geometry', crs=LGA_gdf.crs)"
   ]
  },
  {
   "cell_type": "code",
   "execution_count": 127,
   "id": "e153ce97",
   "metadata": {},
   "outputs": [
    {
     "data": {
      "text/plain": [
       "Index(['Unnamed: 0', 'Address', 'Cost', 'Property Type', 'Bedrooms',\n",
       "       'Bathrooms', 'Latitude', 'Longitude', 'Closest Gov Secondary School',\n",
       "       'Gov Secondary Distance', 'Age under 20', 'Age 20-39', 'Age 40-59',\n",
       "       'Age 60+', 'Postcode', 'SA2_CODE21', 'population 2024',\n",
       "       'population 2025', 'population 2026', 'population 2027', '2024 income',\n",
       "       '2025 income', '2026 income', '2027 income', 'geometry', 'index_right',\n",
       "       'LGA_CODE24', 'LGA_NAME24', 'STE_CODE21', 'STE_NAME21', 'AUS_CODE21',\n",
       "       'AUS_NAME21', 'AREASQKM', 'LOCI_URI21'],\n",
       "      dtype='object')"
      ]
     },
     "execution_count": 127,
     "metadata": {},
     "output_type": "execute_result"
    }
   ],
   "source": [
    "# Join\n",
    "filtered_data = gpd.sjoin(property_gdf_filtered, LGA_gdf, how='left', predicate='within')\n",
    "filtered_data['LGA_NAME24'] = filtered_data['LGA_NAME24'].astype(str)\n",
    "\n",
    "filtered_data.columns"
   ]
  },
  {
   "cell_type": "code",
   "execution_count": 128,
   "id": "047c979b",
   "metadata": {},
   "outputs": [],
   "source": [
    "crime['Local Government Area'] = crime['Local Government Area'].astype(str)\n",
    "crime['Local Government Area'] = crime['Local Government Area'].str.strip()\n",
    "filtered_data['LGA_NAME24'] = filtered_data['LGA_NAME24'].str.strip()\n"
   ]
  },
  {
   "cell_type": "code",
   "execution_count": 129,
   "id": "f091d6d5",
   "metadata": {},
   "outputs": [],
   "source": [
    "# Merge the spatially joined data with property and crime data using the correct column names\n",
    "filtered_merge = filtered_data.merge(\n",
    "    crime, \n",
    "    left_on='LGA_NAME24', \n",
    "    right_on='Local Government Area', \n",
    "    how='left'\n",
    ")"
   ]
  },
  {
   "cell_type": "code",
   "execution_count": 130,
   "id": "8b76ea43",
   "metadata": {},
   "outputs": [
    {
     "data": {
      "text/plain": [
       "Index(['Unnamed: 0', 'Address', 'Cost', 'Property Type', 'Bedrooms',\n",
       "       'Bathrooms', 'Latitude', 'Longitude', 'Closest Gov Secondary School',\n",
       "       'Gov Secondary Distance', 'Age under 20', 'Age 20-39', 'Age 40-59',\n",
       "       'Age 60+', 'Postcode', 'SA2_CODE21', 'population 2024',\n",
       "       'population 2025', 'population 2026', 'population 2027', '2024 income',\n",
       "       '2025 income', '2026 income', '2027 income', 'geometry', 'index_right',\n",
       "       'LGA_CODE24', 'LGA_NAME24', 'STE_CODE21', 'STE_NAME21', 'AUS_CODE21',\n",
       "       'AUS_NAME21', 'AREASQKM', 'LOCI_URI21', 'Local Government Area',\n",
       "       'crime 2024', 'crime 2025', 'crime 2026', 'crime 2027'],\n",
       "      dtype='object')"
      ]
     },
     "execution_count": 130,
     "metadata": {},
     "output_type": "execute_result"
    }
   ],
   "source": [
    "filtered_merge.columns"
   ]
  },
  {
   "cell_type": "code",
   "execution_count": 131,
   "id": "735e5887-3628-4d85-a7bf-63fb5fbcbe3d",
   "metadata": {},
   "outputs": [
    {
     "data": {
      "text/plain": [
       "Index(['Unnamed: 0', 'Address', 'Cost', 'Property Type', 'Bedrooms',\n",
       "       'Bathrooms', 'Latitude', 'Longitude', 'Closest Gov Secondary School',\n",
       "       'Gov Secondary Distance', 'Age under 20', 'Age 20-39', 'Age 40-59',\n",
       "       'Age 60+', 'Postcode', 'SA2_CODE21', 'population 2024',\n",
       "       'population 2025', 'population 2026', 'population 2027', '2024 income',\n",
       "       '2025 income', '2026 income', '2027 income', 'LGA_CODE24', 'crime 2024',\n",
       "       'crime 2025', 'crime 2026', 'crime 2027'],\n",
       "      dtype='object')"
      ]
     },
     "execution_count": 131,
     "metadata": {},
     "output_type": "execute_result"
    }
   ],
   "source": [
    "drop_columns = ['geometry', 'index_right',  'LGA_NAME24', 'STE_CODE21', \n",
    "                    'STE_NAME21', 'AUS_CODE21', 'AUS_NAME21', 'AREASQKM', 'LOCI_URI21',\n",
    "                    'Local Government Area']\n",
    "\n",
    "# Filter the merged data to keep only the selected columns\n",
    "filtered_merge = filtered_merge.drop(drop_columns, axis=1)\n",
    "filtered_merge.columns"
   ]
  },
  {
   "cell_type": "code",
   "execution_count": 132,
   "id": "d201661a",
   "metadata": {},
   "outputs": [
    {
     "name": "stdout",
     "output_type": "stream",
     "text": [
      "<class 'pandas.core.frame.DataFrame'>\n",
      "RangeIndex: 6283 entries, 0 to 6282\n",
      "Data columns (total 29 columns):\n",
      " #   Column                        Non-Null Count  Dtype  \n",
      "---  ------                        --------------  -----  \n",
      " 0   Unnamed: 0                    6283 non-null   int64  \n",
      " 1   Address                       6283 non-null   object \n",
      " 2   Cost                          6283 non-null   float64\n",
      " 3   Property Type                 6283 non-null   object \n",
      " 4   Bedrooms                      6283 non-null   int64  \n",
      " 5   Bathrooms                     6283 non-null   int64  \n",
      " 6   Latitude                      6283 non-null   float64\n",
      " 7   Longitude                     6283 non-null   float64\n",
      " 8   Closest Gov Secondary School  5468 non-null   object \n",
      " 9   Gov Secondary Distance        5468 non-null   object \n",
      " 10  Age under 20                  6210 non-null   object \n",
      " 11  Age 20-39                     6210 non-null   object \n",
      " 12  Age 40-59                     6210 non-null   object \n",
      " 13  Age 60+                       6210 non-null   object \n",
      " 14  Postcode                      6283 non-null   int64  \n",
      " 15  SA2_CODE21                    6283 non-null   object \n",
      " 16  population 2024               6281 non-null   float64\n",
      " 17  population 2025               6281 non-null   float64\n",
      " 18  population 2026               6281 non-null   float64\n",
      " 19  population 2027               6281 non-null   float64\n",
      " 20  2024 income                   6281 non-null   float64\n",
      " 21  2025 income                   6281 non-null   float64\n",
      " 22  2026 income                   6281 non-null   float64\n",
      " 23  2027 income                   6281 non-null   float64\n",
      " 24  LGA_CODE24                    6281 non-null   object \n",
      " 25  crime 2024                    5976 non-null   float64\n",
      " 26  crime 2025                    5976 non-null   float64\n",
      " 27  crime 2026                    5976 non-null   float64\n",
      " 28  crime 2027                    5976 non-null   float64\n",
      "dtypes: float64(15), int64(4), object(10)\n",
      "memory usage: 1.4+ MB\n"
     ]
    }
   ],
   "source": [
    "filtered_merge.info()"
   ]
  },
  {
   "cell_type": "markdown",
   "id": "f8965348-f89d-4e3b-8873-418f0b16a943",
   "metadata": {},
   "source": [
    "# Combine data with all API calculated distance to locations"
   ]
  },
  {
   "cell_type": "code",
   "execution_count": 133,
   "id": "e8edccb0-66c2-4b73-b0a2-9f46e60ebf08",
   "metadata": {},
   "outputs": [],
   "source": [
    "distance_files = {\n",
    "    \"CBD Distance\": \"../../data/raw/domain/cbd_distance.csv\",\n",
    "    \"Train Distance\": \"../../data/raw/domain/train_distance.csv\",\n",
    "    \"Electricity Distance\": \"../../data/raw/domain/elec_distance.csv\",\n",
    "    \"Hospital Distance\": \"../../data/raw/domain/hospital_distance.csv\",\n",
    "    \"Library Distance\": \"../../data/raw/domain/lib_distance.csv\",\n",
    "    \"Park Distance\": \"../../data/raw/domain/park_distance.csv\",\n",
    "    \"Tourist Attraction Distance\": \"../../data/raw/domain/tour_distance.csv\",\n",
    "    \"Grocery Distance\": \"../../data/raw/domain/shop_distance.csv\"\n",
    "}"
   ]
  },
  {
   "cell_type": "code",
   "execution_count": 134,
   "id": "05bc75bd-b5ee-45e9-8f29-44880c86fbfa",
   "metadata": {},
   "outputs": [],
   "source": [
    "# Join\n",
    "for column_name, file_path in distance_files.items():\n",
    "    # Load the CSV file\n",
    "    new_column_data = pd.read_csv(file_path)\n",
    "    \n",
    "    # Check if the number of rows matches the filtered_merge DataFrame\n",
    "    if len(new_column_data) == len(filtered_merge):\n",
    "        # Add the new column to the filtered_merge DataFrame\n",
    "        filtered_merge[column_name] = new_column_data.iloc[:, 0]\n",
    "    else:\n",
    "        print(f\"Warning: File {file_path} has a different number of rows and was not added.\")\n"
   ]
  },
  {
   "cell_type": "code",
   "execution_count": 135,
   "id": "62fc6888-407d-464e-9cd2-86adbf3864ff",
   "metadata": {
    "scrolled": true
   },
   "outputs": [
    {
     "name": "stdout",
     "output_type": "stream",
     "text": [
      "   Unnamed: 0                                            Address    Cost  \\\n",
      "0           0        8/90 Hambleton Street, Middle Park VIC 3206   410.0   \n",
      "1           1            3/33 Bevan Street, Albert Park VIC 3206   550.0   \n",
      "2           3        7/7-9 Faussett Street, Albert Park VIC 3206   490.0   \n",
      "3           4                               Albert Park VIC 3206  1280.0   \n",
      "4           5  214/363 Beaconsfield Parade, Middle Park VIC 3206   350.0   \n",
      "\n",
      "  Property Type  Bedrooms  Bathrooms   Latitude   Longitude  \\\n",
      "0     Apartment         1          1 -37.847553  144.960477   \n",
      "1     Apartment         1          1 -37.839959  144.956373   \n",
      "2     Apartment         1          1 -37.841670  144.955332   \n",
      "3     Apartment         1          1 -37.843861  144.951454   \n",
      "4     Apartment         1          1 -37.854035  144.961308   \n",
      "\n",
      "  Closest Gov Secondary School Gov Secondary Distance  ...   crime 2026  \\\n",
      "0          Albert Park College            1.2 km away  ...  8881.956296   \n",
      "1          Albert Park College            0.9 km away  ...  8881.956296   \n",
      "2          Albert Park College            0.8 km away  ...  8881.956296   \n",
      "3          Albert Park College            0.4 km away  ...  8881.956296   \n",
      "4          Albert Park College            1.6 km away  ...  8881.956296   \n",
      "\n",
      "    crime 2027 CBD Distance Train Distance  Electricity Distance  \\\n",
      "0  8881.954913       4.9721         4.2640                3.1100   \n",
      "1  8881.954913       4.0862         4.7513                2.2242   \n",
      "2  8881.954913       4.4456         4.5995                2.5835   \n",
      "3  8881.954913       4.7979         4.9483                2.0891   \n",
      "4  8881.954913       5.8848         4.2357                4.0227   \n",
      "\n",
      "  Hospital Distance  Library Distance  Park Distance  \\\n",
      "0            3.6124            0.4270         0.1886   \n",
      "1            2.0958            0.2448         0.1982   \n",
      "2            1.9441            0.0756         0.1749   \n",
      "3            2.2929            0.5661         0.1422   \n",
      "4            3.5144            0.6409         0.5429   \n",
      "\n",
      "   Tourist Attraction Distance  Grocery Distance  \n",
      "0                       0.5198            1.6056  \n",
      "1                       0.2416            0.7198  \n",
      "2                       0.1316            1.0792  \n",
      "3                       0.3968            1.4315  \n",
      "4                       0.3927            2.2451  \n",
      "\n",
      "[5 rows x 37 columns]\n"
     ]
    }
   ],
   "source": [
    "print(filtered_merge.head())"
   ]
  },
  {
   "cell_type": "code",
   "execution_count": 136,
   "id": "3e6c298d-b0e9-472a-84b4-2e756a19bed5",
   "metadata": {},
   "outputs": [],
   "source": [
    "# Save the updated DataFrame if needed\n",
    "filtered_merge.to_csv(\"../../data/raw/individual_property_unpreprocessed.csv\", index=False)"
   ]
  }
 ],
 "metadata": {
  "kernelspec": {
   "display_name": "Python 3 (ipykernel)",
   "language": "python",
   "name": "python3"
  },
  "language_info": {
   "codemirror_mode": {
    "name": "ipython",
    "version": 3
   },
   "file_extension": ".py",
   "mimetype": "text/x-python",
   "name": "python",
   "nbconvert_exporter": "python",
   "pygments_lexer": "ipython3",
   "version": "3.10.13"
  }
 },
 "nbformat": 4,
 "nbformat_minor": 5
}
