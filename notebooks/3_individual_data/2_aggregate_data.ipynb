{
 "cells": [
  {
   "cell_type": "markdown",
   "metadata": {},
   "source": [
    "# This file aggreagte individual property data by suburb"
   ]
  },
  {
   "cell_type": "markdown",
   "metadata": {},
   "source": [
    "数据进第一题模型的样子\n",
    "Year | income | population | Distance | Cost \n",
    "Train-validation\n",
    "2019 | 123    |  345       | 1234     |  220\n",
    "2020 | 123    |  345       | 1234     |  220\n",
    "2021 | 123    |  345       | 1234     |  220\n",
    "2023 | 334    |  455       | 1234     |  340\n",
    "\n",
    "Test\n",
    "2025 | 156    |  678       | 1234     |  ?\n",
    "2027 | 789    |  234       | 1234     |  ?\n",
    "\n",
    "model: price predictor\n"
   ]
  },
  {
   "cell_type": "markdown",
   "metadata": {},
   "source": [
    "1. aggregate data:\n",
    "aggregate by suburb -> 提取median price by suburb\n",
    "提取past price\n",
    "compare price of individual property and median price of suburb -> %\n",
    "base on % and past median price -> past price of individual property\n",
    "LIMITATION: Base on the limitation of our past data resource.....\n",
    "\n",
    "\n",
    "2. data merge:\n",
    "提取past data里income, population, crime\n",
    "insert past income, population, crime, past price of individual property 进dataset  [手动做oldlisting]\n",
    "\n",
    "\n",
    "3. \n",
    "past-2024 -> train-validation -> e.g. RF\n",
    "2025-2027 -> 3 test dataset"
   ]
  },
  {
   "cell_type": "markdown",
   "metadata": {},
   "source": [
    "train80 - validation20\n",
    "\n",
    " 1   Cost                          5055 non-null   float64\n",
    " 2   Property Type                 5055 non-null   object \n",
    " 3   Bedrooms                      5055 non-null   float64\n",
    " 4   Bathrooms                     5055 non-null   float64\n",
    " \n",
    " 7   Closest Gov Secondary School  5055 non-null   object \n",
    " 8   Age under 20                  5055 non-null   float64\n",
    " 9   Age 20-39                     5055 non-null   float64\n",
    " 10  Age 40-59                     5055 non-null   float64\n",
    " 11  Age 60+                       5055 non-null   float64\n",
    " \n",
    " 14  population 2024               5055 non-null   float64\n",
    " \n",
    " 18  2024 income                   5055 non-null   float64\n",
    " \n",
    " \n",
    " 23  crime 2024                    5055 non-null   float64\n",
    "\n",
    " 27  CBD Distance                  5055 non-null   float64\n",
    " 28  Train Distance                5055 non-null   float64\n",
    " 29  Electricity Distance          5055 non-null   float64\n",
    " 30  Hospital Distance             5055 non-null   float64\n",
    " 31  Library Distance              5055 non-null   float64\n",
    " 32  Park Distance                 5055 non-null   float64\n",
    " 33  Tourist Attraction Distance   5055 non-null   float64\n",
    " 34  Grocery Distance              5055 non-null   float64\n",
    " 35  Gov Secondary Distance        5055 non-null   float64\n",
    "\n",
    "RF"
   ]
  },
  {
   "cell_type": "markdown",
   "metadata": {},
   "source": [
    "Test\n",
    " 1   Cost                          5055 non-null   float64\n",
    " 2   Property Type                 5055 non-null   object \n",
    " 3   Bedrooms                      5055 non-null   float64\n",
    " 4   Bathrooms                     5055 non-null   float64\n",
    " \n",
    " 7   Closest Gov Secondary School  5055 non-null   object \n",
    " 8   Age under 20                  5055 non-null   float64\n",
    " 9   Age 20-39                     5055 non-null   float64\n",
    " 10  Age 40-59                     5055 non-null   float64\n",
    " 11  Age 60+                       5055 non-null   float64\n",
    " \n",
    "\n",
    " dataset 1: 15  population 2025               5055 non-null   float64\n",
    "\n",
    " dataset 2: 16  population 2026               5055 non-null   float64\n",
    "\n",
    " dataset 3: 17  population 2027               5055 non-null   float64\n",
    " \n",
    " 18  2024 income                   5055 non-null   float64\n",
    " 19  2025 income                   5055 non-null   float64\n",
    " 20  2026 income                   5055 non-null   float64\n",
    " 21  2027 income                   5055 non-null   float64\n",
    " \n",
    " 23  crime 2024                    5055 non-null   float64\n",
    " 24  crime 2025                    5055 non-null   float64\n",
    " 25  crime 2026                    5055 non-null   float64\n",
    " 26  crime 2027                    5055 non-null   float64\n",
    " 27  CBD Distance                  5055 non-null   float64\n",
    " 28  Train Distance                5055 non-null   float64\n",
    " 29  Electricity Distance          5055 non-null   float64\n",
    " 30  Hospital Distance             5055 non-null   float64\n",
    " 31  Library Distance              5055 non-null   float64\n",
    " 32  Park Distance                 5055 non-null   float64\n",
    " 33  Tourist Attraction Distance   5055 non-null   float64\n",
    " 34  Grocery Distance              5055 non-null   float64\n",
    " 35  Gov Secondary Distance        5055 non-null   float64\n",
    "\n",
    "RF"
   ]
  },
  {
   "cell_type": "markdown",
   "metadata": {},
   "source": []
  },
  {
   "cell_type": "markdown",
   "metadata": {},
   "source": []
  },
  {
   "cell_type": "markdown",
   "metadata": {},
   "source": []
  },
  {
   "cell_type": "code",
   "execution_count": null,
   "metadata": {},
   "outputs": [],
   "source": []
  },
  {
   "cell_type": "code",
   "execution_count": null,
   "metadata": {},
   "outputs": [],
   "source": []
  },
  {
   "cell_type": "code",
   "execution_count": null,
   "metadata": {},
   "outputs": [],
   "source": []
  },
  {
   "cell_type": "code",
   "execution_count": null,
   "metadata": {},
   "outputs": [],
   "source": []
  }
 ],
 "metadata": {
  "language_info": {
   "name": "python"
  }
 },
 "nbformat": 4,
 "nbformat_minor": 2
}
