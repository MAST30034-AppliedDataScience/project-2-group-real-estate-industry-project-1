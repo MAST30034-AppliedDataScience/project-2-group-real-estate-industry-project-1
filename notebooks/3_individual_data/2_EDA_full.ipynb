{
 "cells": [
  {
   "cell_type": "markdown",
   "id": "dbc086b4-9a1c-42b5-bff2-dc93646504c1",
   "metadata": {},
   "source": [
    "Please do some feature analysis here, this need to be complete Tuesday."
   ]
  },
  {
   "cell_type": "code",
   "execution_count": 1,
   "id": "2179ab45-afd0-46b1-b0de-02c673b14631",
   "metadata": {},
   "outputs": [],
   "source": [
    "# import pandas as pd"
   ]
  },
  {
   "cell_type": "code",
   "execution_count": 2,
   "id": "910a2058-3dd5-4e14-be70-d5679847d404",
   "metadata": {},
   "outputs": [],
   "source": [
    "# individual_property = pd.read_csv(\"../../data/raw/individual_property.csv\")"
   ]
  },
  {
   "cell_type": "markdown",
   "id": "5654f576-a850-48fc-be7a-80bc611f7b33",
   "metadata": {},
   "source": [
    "Feature correlation, distribution of features, throw file into chatgpt and see anything it can do .. :D \\\n",
    "Please store plots in below path for better management :D"
   ]
  },
  {
   "cell_type": "code",
   "execution_count": null,
   "id": "788e8b1b-ef06-4861-a6ae-28c5a4cfa702",
   "metadata": {},
   "outputs": [],
   "source": [
    "# plot_base_dir = \"../../plots/individual_property\"\n",
    "# if not os.path.exists(plot_base_dir):\n",
    "#     os.makedirs(plot_base_dir)\n"
   ]
  }
 ],
 "metadata": {
  "kernelspec": {
   "display_name": "Python 3 (ipykernel)",
   "language": "python",
   "name": "python3"
  },
  "language_info": {
   "codemirror_mode": {
    "name": "ipython",
    "version": 3
   },
   "file_extension": ".py",
   "mimetype": "text/x-python",
   "name": "python",
   "nbconvert_exporter": "python",
   "pygments_lexer": "ipython3",
   "version": "3.11.9"
  }
 },
 "nbformat": 4,
 "nbformat_minor": 5
}
