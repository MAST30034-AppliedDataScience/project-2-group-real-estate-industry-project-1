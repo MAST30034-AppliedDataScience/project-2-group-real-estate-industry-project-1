{
 "cells": [
  {
   "cell_type": "code",
   "execution_count": 1,
   "id": "97d888be-e15f-4495-9325-34662de39db8",
   "metadata": {},
   "outputs": [],
   "source": [
    "import pandas as pd\n",
    "from statsmodels.tsa.arima.model import ARIMA\n",
    "import numpy as np\n",
    "from sklearn.linear_model import LinearRegression"
   ]
  },
  {
   "cell_type": "markdown",
   "id": "cd632655-de0d-408a-afdd-0a31d26c5c72",
   "metadata": {},
   "source": [
    "As this income has little datapoints, use simple linear model"
   ]
  },
  {
   "cell_type": "code",
   "execution_count": 2,
   "id": "bbc879d9-17b2-4682-8d36-9b72d147db2a",
   "metadata": {},
   "outputs": [
    {
     "name": "stderr",
     "output_type": "stream",
     "text": [
      "/tmp/ipykernel_227202/2103550411.py:8: FutureWarning: errors='ignore' is deprecated and will raise in a future version. Use to_numeric without passing `errors` and catch exceptions explicitly instead\n",
      "  income_data = income_data.apply(pd.to_numeric, errors='ignore')  # Convert to numeric\n",
      "/tmp/ipykernel_227202/2103550411.py:11: FutureWarning: DataFrame.fillna with 'method' is deprecated and will raise in a future version. Use obj.ffill() or obj.bfill() instead.\n",
      "  income_data = income_data.fillna(method='ffill').fillna(method='bfill')\n"
     ]
    },
    {
     "name": "stdout",
     "output_type": "stream",
     "text": [
      "Forecast saved to ../../data/raw/Past_income_population_preprocessed/income_forecast_2024_2027.csv\n"
     ]
    }
   ],
   "source": [
    "# Load the dataset\n",
    "file_path = '../../data/raw/Past_income_population_preprocessed/income_2020_filtered.csv'\n",
    "income_data = pd.read_csv(file_path)\n",
    "\n",
    "# Replace 'np' with NaN and remove commas from the income values\n",
    "income_data.replace('np', np.nan, inplace=True)\n",
    "income_data = income_data.apply(lambda x: x.str.replace(',', '') if x.dtype == \"object\" else x)\n",
    "income_data = income_data.apply(pd.to_numeric, errors='ignore')  # Convert to numeric\n",
    "\n",
    "# Fill missing values (forward fill, then backward fill if needed)\n",
    "income_data = income_data.fillna(method='ffill').fillna(method='bfill')\n",
    "\n",
    "# Prepare for Linear Regression forecasting (we will forecast for each SA2 Code separately)\n",
    "forecast_results = []\n",
    "\n",
    "# Loop through each SA2 Code to forecast 2025-2027 income\n",
    "for idx, row in income_data.iterrows():\n",
    "    sa2_code = row['SA2 Code']\n",
    "    \n",
    "    # Extract income data for the specific SA2 Code (2016-2020)\n",
    "    time_series_data = row[['2016 income', '2017 income', '2018 income', '2019 income', '2020 income']].values\n",
    "    \n",
    "    # Prepare the years (2016 to 2020) as the independent variable\n",
    "    years = np.array([2016, 2017, 2018, 2019, 2020]).reshape(-1, 1)\n",
    "    \n",
    "    # Fit Linear Regression model\n",
    "    linear_model = LinearRegression()\n",
    "    linear_model.fit(years, time_series_data)\n",
    "\n",
    "    # Forecast income for 2024, 2025, 2026, and 2027 using Linear Regression\n",
    "    future_years = np.array([2024, 2025, 2026, 2027]).reshape(-1, 1)\n",
    "    forecast = linear_model.predict(future_years)\n",
    "\n",
    "    # Append results (SA2 code and forecasted values)\n",
    "    forecast_results.append([sa2_code, forecast[0], forecast[1], forecast[2], forecast[3]])\n",
    "\n",
    "# Save the forecast to a new CSV file\n",
    "forecast_df = pd.DataFrame(forecast_results, columns=['SA2 Code', '2024 income', '2025 income', '2026 income', '2027 income'])\n",
    "output_file_path = '../../data/raw/Past_income_population_preprocessed/income_forecast_2024_2027.csv'\n",
    "forecast_df.to_csv(output_file_path, index=False)\n",
    "\n",
    "print(f\"Forecast saved to {output_file_path}\")\n"
   ]
  }
 ],
 "metadata": {
  "kernelspec": {
   "display_name": "Python 3 (ipykernel)",
   "language": "python",
   "name": "python3"
  },
  "language_info": {
   "codemirror_mode": {
    "name": "ipython",
    "version": 3
   },
   "file_extension": ".py",
   "mimetype": "text/x-python",
   "name": "python",
   "nbconvert_exporter": "python",
   "pygments_lexer": "ipython3",
   "version": "3.11.9"
  }
 },
 "nbformat": 4,
 "nbformat_minor": 5
}
