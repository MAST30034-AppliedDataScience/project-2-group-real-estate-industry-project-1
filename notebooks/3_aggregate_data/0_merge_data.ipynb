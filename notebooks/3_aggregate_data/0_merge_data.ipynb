{
 "cells": [
  {
   "cell_type": "markdown",
   "id": "5ef58209-8868-4848-80a0-4dd1b2686b41",
   "metadata": {},
   "source": [
    "### This file is dedicated to create a dataset useful for rental price prediction based on suburb\n",
    "\n",
    "Created by Yuecheng Wang 16-09-2024"
   ]
  },
  {
   "cell_type": "code",
   "execution_count": 1,
   "id": "c64f4542-9b33-4c10-bed0-da6ebcfaa8f0",
   "metadata": {},
   "outputs": [],
   "source": [
    "import pandas as pd\n",
    "import re"
   ]
  },
  {
   "cell_type": "code",
   "execution_count": 9,
   "id": "eb23c5d6-e991-4589-bdfe-9007e5c21454",
   "metadata": {},
   "outputs": [
    {
     "name": "stdout",
     "output_type": "stream",
     "text": [
      "Available sheets: ['1 bedroom flat', '2 bedroom flat', '3 bedroom flat', '2 bedroom house', '3 bedroom house', '4 bedroom house', 'All properties']\n"
     ]
    }
   ],
   "source": [
    "past_data = pd.ExcelFile(\"../../data/raw/domain/past_data.xlsx\")\n",
    "\n",
    "print(\"Available sheets:\", past_data.sheet_names)\n",
    "\n",
    "all_properties_df = pd.read_excel(past_data, sheet_name='All properties')"
   ]
  },
  {
   "cell_type": "code",
   "execution_count": 3,
   "id": "3b8deea9-5083-4e53-acf8-78a68eb8baa8",
   "metadata": {},
   "outputs": [],
   "source": [
    "domain_data = pd.read_csv(\"../../data/raw/domain/all_postcodes.csv\")"
   ]
  },
  {
   "cell_type": "markdown",
   "id": "b105825f-7708-493a-bfdb-47fc3c870cca",
   "metadata": {},
   "source": [
    "With how annoying official document is, I found this on https://github.com/schappim/australian-postcodes/blob/master/australian-postcodes-2021-04-23.csv \\\n",
    "This is a file just contain postcode and name, and they are correct according to official document."
   ]
  },
  {
   "cell_type": "code",
   "execution_count": 4,
   "id": "720d337d-9d4e-428c-9a96-cdc43ce1b57d",
   "metadata": {},
   "outputs": [
    {
     "name": "stdout",
     "output_type": "stream",
     "text": [
      "        Suburb State   Zip\n",
      "0  AARONS PASS   NSW  2850\n",
      "1   ABBA RIVER    WA  6280\n",
      "2        ABBEY    WA  6280\n",
      "3     ABBEYARD   VIC  3737\n",
      "4     ABBEYARD   VIC  3737\n"
     ]
    }
   ],
   "source": [
    "url = \"https://raw.githubusercontent.com/schappim/australian-postcodes/master/australian-postcodes-2021-04-23.csv\"\n",
    "\n",
    "postcode_name = pd.read_csv(url)\n",
    "\n",
    "print(postcode_name.head())"
   ]
  },
  {
   "cell_type": "code",
   "execution_count": 5,
   "id": "ab9538af-20b0-4f10-aecd-8c039d860c69",
   "metadata": {
    "scrolled": true
   },
   "outputs": [
    {
     "name": "stdout",
     "output_type": "stream",
     "text": [
      "                                         Address  \\\n",
      "0     901/22-40 Wills Street, Melbourne VIC 3000   \n",
      "1       1207/270 King Street, Melbourne VIC 3000   \n",
      "2  5809/442 ELIZABETH STREET, Melbourne VIC 3000   \n",
      "3   2112/80 A'beckett Street, Melbourne VIC 3000   \n",
      "4   1210/81 A'beckett Street, Melbourne VIC 3000   \n",
      "\n",
      "                               Cost  Bedrooms  Bathrooms  \\\n",
      "0                     $600 per week       1.0        1.0   \n",
      "1                     $720 per week       2.0        2.0   \n",
      "2  $850 Per Week ( Fully Furnished)       2.0        1.0   \n",
      "3                     $700 per week       2.0        2.0   \n",
      "4                       $650 weekly       2.0        1.0   \n",
      "\n",
      "                  Coordinates Closest Gov Secondary School  \\\n",
      "0  [-37.8107551, 144.9570001]       University High School   \n",
      "1  [-37.8136918, 144.9548583]       University High School   \n",
      "2  [-37.8084101, 144.9607759]       University High School   \n",
      "3  [-37.8089991, 144.9610792]       University High School   \n",
      "4   [-37.8092536, 144.961181]       University High School   \n",
      "\n",
      "  Gov Secondary Distance Age under 20 Age 20-39 Age 40-59 Age 60+  Postcode  \\\n",
      "0            1.5 km away           8%       77%       12%      3%      3000   \n",
      "1            1.9 km away           6%       83%       10%      1%      3000   \n",
      "2            1.3 km away           3%       90%        7%      0%      3000   \n",
      "3            1.4 km away           3%       90%        7%      0%      3000   \n",
      "4            1.4 km away           6%       79%       12%      3%      3000   \n",
      "\n",
      "      Suburb  \n",
      "0  MELBOURNE  \n",
      "1  MELBOURNE  \n",
      "2  MELBOURNE  \n",
      "3  MELBOURNE  \n",
      "4  MELBOURNE  \n"
     ]
    }
   ],
   "source": [
    "postcode_name.rename(columns={'Zip': 'Postcode'}, inplace=True)\n",
    "\n",
    "# Merge the main DataFrame with the suburb DataFrame based on the 'Postcode' column\n",
    "merged_df = domain_data.merge(postcode_name[['Suburb', 'Postcode']], on='Postcode', how='left')\n",
    "\n",
    "# Display the first few rows of the merged DataFrame\n",
    "print(merged_df.head())"
   ]
  },
  {
   "cell_type": "code",
   "execution_count": 8,
   "id": "dd6001b8-6350-45f5-8203-3f0b1209b0f3",
   "metadata": {},
   "outputs": [
    {
     "data": {
      "text/html": [
       "<div>\n",
       "<style scoped>\n",
       "    .dataframe tbody tr th:only-of-type {\n",
       "        vertical-align: middle;\n",
       "    }\n",
       "\n",
       "    .dataframe tbody tr th {\n",
       "        vertical-align: top;\n",
       "    }\n",
       "\n",
       "    .dataframe thead th {\n",
       "        text-align: right;\n",
       "    }\n",
       "</style>\n",
       "<table border=\"1\" class=\"dataframe\">\n",
       "  <thead>\n",
       "    <tr style=\"text-align: right;\">\n",
       "      <th></th>\n",
       "      <th>Address</th>\n",
       "      <th>Cost</th>\n",
       "      <th>Bedrooms</th>\n",
       "      <th>Bathrooms</th>\n",
       "      <th>Coordinates</th>\n",
       "      <th>Closest Gov Secondary School</th>\n",
       "      <th>Gov Secondary Distance</th>\n",
       "      <th>Age under 20</th>\n",
       "      <th>Age 20-39</th>\n",
       "      <th>Age 40-59</th>\n",
       "      <th>Age 60+</th>\n",
       "      <th>Postcode</th>\n",
       "      <th>Suburb</th>\n",
       "    </tr>\n",
       "  </thead>\n",
       "  <tbody>\n",
       "    <tr>\n",
       "      <th>0</th>\n",
       "      <td>901/22-40 Wills Street, Melbourne VIC 3000</td>\n",
       "      <td>600.0</td>\n",
       "      <td>1.0</td>\n",
       "      <td>1.0</td>\n",
       "      <td>[-37.8107551, 144.9570001]</td>\n",
       "      <td>University High School</td>\n",
       "      <td>1.5 km away</td>\n",
       "      <td>8%</td>\n",
       "      <td>77%</td>\n",
       "      <td>12%</td>\n",
       "      <td>3%</td>\n",
       "      <td>3000</td>\n",
       "      <td>MELBOURNE</td>\n",
       "    </tr>\n",
       "    <tr>\n",
       "      <th>1</th>\n",
       "      <td>1207/270 King Street, Melbourne VIC 3000</td>\n",
       "      <td>720.0</td>\n",
       "      <td>2.0</td>\n",
       "      <td>2.0</td>\n",
       "      <td>[-37.8136918, 144.9548583]</td>\n",
       "      <td>University High School</td>\n",
       "      <td>1.9 km away</td>\n",
       "      <td>6%</td>\n",
       "      <td>83%</td>\n",
       "      <td>10%</td>\n",
       "      <td>1%</td>\n",
       "      <td>3000</td>\n",
       "      <td>MELBOURNE</td>\n",
       "    </tr>\n",
       "    <tr>\n",
       "      <th>2</th>\n",
       "      <td>5809/442 ELIZABETH STREET, Melbourne VIC 3000</td>\n",
       "      <td>850.0</td>\n",
       "      <td>2.0</td>\n",
       "      <td>1.0</td>\n",
       "      <td>[-37.8084101, 144.9607759]</td>\n",
       "      <td>University High School</td>\n",
       "      <td>1.3 km away</td>\n",
       "      <td>3%</td>\n",
       "      <td>90%</td>\n",
       "      <td>7%</td>\n",
       "      <td>0%</td>\n",
       "      <td>3000</td>\n",
       "      <td>MELBOURNE</td>\n",
       "    </tr>\n",
       "    <tr>\n",
       "      <th>3</th>\n",
       "      <td>2112/80 A'beckett Street, Melbourne VIC 3000</td>\n",
       "      <td>700.0</td>\n",
       "      <td>2.0</td>\n",
       "      <td>2.0</td>\n",
       "      <td>[-37.8089991, 144.9610792]</td>\n",
       "      <td>University High School</td>\n",
       "      <td>1.4 km away</td>\n",
       "      <td>3%</td>\n",
       "      <td>90%</td>\n",
       "      <td>7%</td>\n",
       "      <td>0%</td>\n",
       "      <td>3000</td>\n",
       "      <td>MELBOURNE</td>\n",
       "    </tr>\n",
       "    <tr>\n",
       "      <th>4</th>\n",
       "      <td>1210/81 A'beckett Street, Melbourne VIC 3000</td>\n",
       "      <td>650.0</td>\n",
       "      <td>2.0</td>\n",
       "      <td>1.0</td>\n",
       "      <td>[-37.8092536, 144.961181]</td>\n",
       "      <td>University High School</td>\n",
       "      <td>1.4 km away</td>\n",
       "      <td>6%</td>\n",
       "      <td>79%</td>\n",
       "      <td>12%</td>\n",
       "      <td>3%</td>\n",
       "      <td>3000</td>\n",
       "      <td>MELBOURNE</td>\n",
       "    </tr>\n",
       "  </tbody>\n",
       "</table>\n",
       "</div>"
      ],
      "text/plain": [
       "                                         Address   Cost  Bedrooms  Bathrooms  \\\n",
       "0     901/22-40 Wills Street, Melbourne VIC 3000  600.0       1.0        1.0   \n",
       "1       1207/270 King Street, Melbourne VIC 3000  720.0       2.0        2.0   \n",
       "2  5809/442 ELIZABETH STREET, Melbourne VIC 3000  850.0       2.0        1.0   \n",
       "3   2112/80 A'beckett Street, Melbourne VIC 3000  700.0       2.0        2.0   \n",
       "4   1210/81 A'beckett Street, Melbourne VIC 3000  650.0       2.0        1.0   \n",
       "\n",
       "                  Coordinates Closest Gov Secondary School  \\\n",
       "0  [-37.8107551, 144.9570001]       University High School   \n",
       "1  [-37.8136918, 144.9548583]       University High School   \n",
       "2  [-37.8084101, 144.9607759]       University High School   \n",
       "3  [-37.8089991, 144.9610792]       University High School   \n",
       "4   [-37.8092536, 144.961181]       University High School   \n",
       "\n",
       "  Gov Secondary Distance Age under 20 Age 20-39 Age 40-59 Age 60+  Postcode  \\\n",
       "0            1.5 km away           8%       77%       12%      3%      3000   \n",
       "1            1.9 km away           6%       83%       10%      1%      3000   \n",
       "2            1.3 km away           3%       90%        7%      0%      3000   \n",
       "3            1.4 km away           3%       90%        7%      0%      3000   \n",
       "4            1.4 km away           6%       79%       12%      3%      3000   \n",
       "\n",
       "      Suburb  \n",
       "0  MELBOURNE  \n",
       "1  MELBOURNE  \n",
       "2  MELBOURNE  \n",
       "3  MELBOURNE  \n",
       "4  MELBOURNE  "
      ]
     },
     "execution_count": 8,
     "metadata": {},
     "output_type": "execute_result"
    }
   ],
   "source": [
    "# Parse cost\n",
    "merged_df['Cost'] = merged_df['Cost'].apply(lambda x: float(re.search(r'\\$(\\d+(\\.\\d+)?)', x).group(1)) if pd.notnull(x) and re.search(r'\\$(\\d+(\\.\\d+)?)', x) else None)\n",
    "# Remove no cost \n",
    "merged_df = merged_df.dropna(subset=['Cost'])\n",
    "\n",
    "merged_df.head(5)"
   ]
  },
  {
   "cell_type": "code",
   "execution_count": 15,
   "id": "7e80f093-5aad-4b51-860e-62600d1df6de",
   "metadata": {},
   "outputs": [
    {
     "data": {
      "text/plain": [
       "1735"
      ]
     },
     "execution_count": 15,
     "metadata": {},
     "output_type": "execute_result"
    }
   ],
   "source": [
    "merged_df['Suburb'] = merged_df['Suburb'].str.lower()\n",
    "merged_df['Suburb'].nunique()"
   ]
  },
  {
   "cell_type": "code",
   "execution_count": 18,
   "id": "b2b190ca-721d-4446-9733-d004bf201a57",
   "metadata": {},
   "outputs": [
    {
     "name": "stdout",
     "output_type": "stream",
     "text": [
      "216\n",
      "Number of suburbs not found in 'All properties': 1569\n",
      "Missing suburbs: ['melbourne' 'st kilda road central' 'st kilda road melbourne' ...\n",
      " 'wattle bank' 'inverloch' 'pound creek']\n"
     ]
    }
   ],
   "source": [
    "all_properties_suburbs = all_properties_df['Unnamed: 1']\n",
    "# Split suburbs by the hyphen '-' and create a list of individual suburbs\n",
    "all_properties_suburbs_split = all_properties_suburbs.dropna().str.split('-').explode().str.strip().str.lower()\n",
    "\n",
    "print(all_properties_suburbs_split.nunique())\n",
    "# Assuming merged_df['suburb'] contains the suburbs to compare\n",
    "# Compare merged_df['suburb'] with the split and cleaned all_properties_suburbs\n",
    "missing_suburbs = merged_df[~merged_df['Suburb'].isin(all_properties_suburbs_split)]\n",
    "\n",
    "# Display how many suburbs from merged_df are not in \"All properties\"\n",
    "print(f\"Number of suburbs not found in 'All properties': {missing_suburbs['Suburb'].nunique()}\")\n",
    "\n",
    "# Display the missing suburbs for review\n",
    "missing_suburbs_list = missing_suburbs['Suburb'].unique()\n",
    "print(f\"Missing suburbs: {missing_suburbs_list}\")"
   ]
  }
 ],
 "metadata": {
  "kernelspec": {
   "display_name": "Python 3 (ipykernel)",
   "language": "python",
   "name": "python3"
  },
  "language_info": {
   "codemirror_mode": {
    "name": "ipython",
    "version": 3
   },
   "file_extension": ".py",
   "mimetype": "text/x-python",
   "name": "python",
   "nbconvert_exporter": "python",
   "pygments_lexer": "ipython3",
   "version": "3.11.9"
  }
 },
 "nbformat": 4,
 "nbformat_minor": 5
}
