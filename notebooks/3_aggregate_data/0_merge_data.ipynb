{
 "cells": [
  {
   "cell_type": "markdown",
   "id": "5ef58209-8868-4848-80a0-4dd1b2686b41",
   "metadata": {},
   "source": [
    "### This file is dedicated to create a dataset useful for rental price prediction based on suburb\n",
    "\n",
    "Created by Yuecheng Wang 16-09-2024"
   ]
  },
  {
   "cell_type": "code",
   "execution_count": 1,
   "id": "c64f4542-9b33-4c10-bed0-da6ebcfaa8f0",
   "metadata": {},
   "outputs": [],
   "source": [
    "import pandas as pd\n",
    "import re"
   ]
  },
  {
   "cell_type": "code",
   "execution_count": 9,
   "id": "eb23c5d6-e991-4589-bdfe-9007e5c21454",
   "metadata": {},
   "outputs": [
    {
     "name": "stdout",
     "output_type": "stream",
     "text": [
      "Available sheets: ['1 bedroom flat', '2 bedroom flat', '3 bedroom flat', '2 bedroom house', '3 bedroom house', '4 bedroom house', 'All properties']\n"
     ]
    }
   ],
   "source": [
    "past_data = pd.ExcelFile(\"../../data/raw/domain/past_data.xlsx\")\n",
    "\n",
    "print(\"Available sheets:\", past_data.sheet_names)\n",
    "\n",
    "all_properties_df = pd.read_excel(past_data, sheet_name='All properties')"
   ]
  },
  {
   "cell_type": "code",
   "execution_count": 25,
   "id": "3b8deea9-5083-4e53-acf8-78a68eb8baa8",
   "metadata": {},
   "outputs": [],
   "source": [
    "domain_data = pd.read_csv(\"../../data/raw/domain/all_postcodes.csv\")"
   ]
  },
  {
   "cell_type": "markdown",
   "id": "2a0e0b52-a5d5-4211-a052-391597414aea",
   "metadata": {},
   "source": [
    "Deal with domain data"
   ]
  },
  {
   "cell_type": "code",
   "execution_count": 21,
   "id": "371b6c64-6dbf-46cb-8a47-a45650bb9bc6",
   "metadata": {},
   "outputs": [
    {
     "data": {
      "text/plain": [
       "<bound method DataFrame.info of                                              Address  \\\n",
       "0         901/22-40 Wills Street, Melbourne VIC 3000   \n",
       "1           1207/270 King Street, Melbourne VIC 3000   \n",
       "2      5809/442 ELIZABETH STREET, Melbourne VIC 3000   \n",
       "3       2112/80 A'beckett Street, Melbourne VIC 3000   \n",
       "4       1210/81 A'beckett Street, Melbourne VIC 3000   \n",
       "...                                              ...   \n",
       "7997             79 Watt Street\u0002, Wonthaggi VIC 3995   \n",
       "7998    120-127 Mc Kenzie Street, Wonthaggi VIC 3995   \n",
       "7999          35 Anderson Avenue, Inverloch VIC 3996   \n",
       "8000            3 Kennards Court, Inverloch VIC 3996   \n",
       "8001  Cabin 2/18 Williams Street, Inverloch VIC 3996   \n",
       "\n",
       "                                  Cost  Bedrooms  Bathrooms  \\\n",
       "0                        $600 per week       1.0        1.0   \n",
       "1                        $720 per week       2.0        2.0   \n",
       "2     $850 Per Week ( Fully Furnished)       2.0        1.0   \n",
       "3                        $700 per week       2.0        2.0   \n",
       "4                          $650 weekly       2.0        1.0   \n",
       "...                                ...       ...        ...   \n",
       "7997           $1950 PCM including GST       1.0        1.0   \n",
       "7998            $77 per calendar month       1.0        1.0   \n",
       "7999                       $450.00 P/W       3.0        1.0   \n",
       "8000                              $435       3.0        1.0   \n",
       "8001                              $350       1.0        1.0   \n",
       "\n",
       "                     Coordinates Closest Gov Secondary School  \\\n",
       "0     [-37.8107551, 144.9570001]       University High School   \n",
       "1     [-37.8136918, 144.9548583]       University High School   \n",
       "2     [-37.8084101, 144.9607759]       University High School   \n",
       "3     [-37.8089991, 144.9610792]       University High School   \n",
       "4      [-37.8092536, 144.961181]       University High School   \n",
       "...                          ...                          ...   \n",
       "7997  [-38.6060046, 145.5910694]           Bass Coast College   \n",
       "7998  [-38.5973378, 145.5930626]           Bass Coast College   \n",
       "7999  [-38.6297675, 145.7392692]           Bass Coast College   \n",
       "8000  [-38.6267337, 145.7286462]           Bass Coast College   \n",
       "8001  [-38.6326013, 145.7302522]           Bass Coast College   \n",
       "\n",
       "     Gov Secondary Distance Age under 20 Age 20-39 Age 40-59 Age 60+  Postcode  \n",
       "0               1.5 km away           8%       77%       12%      3%      3000  \n",
       "1               1.9 km away           6%       83%       10%      1%      3000  \n",
       "2               1.3 km away           3%       90%        7%      0%      3000  \n",
       "3               1.4 km away           3%       90%        7%      0%      3000  \n",
       "4               1.4 km away           6%       79%       12%      3%      3000  \n",
       "...                     ...          ...       ...       ...     ...       ...  \n",
       "7997            0.7 km away          24%       25%       25%     27%      3995  \n",
       "7998            1.4 km away          21%       16%       23%     40%      3995  \n",
       "7999           12.6 km away          21%       14%       24%     42%      3996  \n",
       "8000           11.6 km away          24%       16%       27%     33%      3996  \n",
       "8001           11.9 km away          15%       13%       22%     50%      3996  \n",
       "\n",
       "[8002 rows x 12 columns]>"
      ]
     },
     "execution_count": 21,
     "metadata": {},
     "output_type": "execute_result"
    }
   ],
   "source": [
    "domain_data.info"
   ]
  },
  {
   "cell_type": "code",
   "execution_count": 26,
   "id": "dd6001b8-6350-45f5-8203-3f0b1209b0f3",
   "metadata": {},
   "outputs": [
    {
     "data": {
      "text/plain": [
       "<bound method DataFrame.info of                                              Address    Cost  Bedrooms  \\\n",
       "0         901/22-40 Wills Street, Melbourne VIC 3000   600.0       1.0   \n",
       "1           1207/270 King Street, Melbourne VIC 3000   720.0       2.0   \n",
       "2      5809/442 ELIZABETH STREET, Melbourne VIC 3000   850.0       2.0   \n",
       "3       2112/80 A'beckett Street, Melbourne VIC 3000   700.0       2.0   \n",
       "4       1210/81 A'beckett Street, Melbourne VIC 3000   650.0       2.0   \n",
       "...                                              ...     ...       ...   \n",
       "7997             79 Watt Street\u0002, Wonthaggi VIC 3995  1950.0       1.0   \n",
       "7998    120-127 Mc Kenzie Street, Wonthaggi VIC 3995    77.0       1.0   \n",
       "7999          35 Anderson Avenue, Inverloch VIC 3996   450.0       3.0   \n",
       "8000            3 Kennards Court, Inverloch VIC 3996   435.0       3.0   \n",
       "8001  Cabin 2/18 Williams Street, Inverloch VIC 3996   350.0       1.0   \n",
       "\n",
       "      Bathrooms                 Coordinates Closest Gov Secondary School  \\\n",
       "0           1.0  [-37.8107551, 144.9570001]       University High School   \n",
       "1           2.0  [-37.8136918, 144.9548583]       University High School   \n",
       "2           1.0  [-37.8084101, 144.9607759]       University High School   \n",
       "3           2.0  [-37.8089991, 144.9610792]       University High School   \n",
       "4           1.0   [-37.8092536, 144.961181]       University High School   \n",
       "...         ...                         ...                          ...   \n",
       "7997        1.0  [-38.6060046, 145.5910694]           Bass Coast College   \n",
       "7998        1.0  [-38.5973378, 145.5930626]           Bass Coast College   \n",
       "7999        1.0  [-38.6297675, 145.7392692]           Bass Coast College   \n",
       "8000        1.0  [-38.6267337, 145.7286462]           Bass Coast College   \n",
       "8001        1.0  [-38.6326013, 145.7302522]           Bass Coast College   \n",
       "\n",
       "     Gov Secondary Distance Age under 20 Age 20-39 Age 40-59 Age 60+  Postcode  \n",
       "0               1.5 km away           8%       77%       12%      3%      3000  \n",
       "1               1.9 km away           6%       83%       10%      1%      3000  \n",
       "2               1.3 km away           3%       90%        7%      0%      3000  \n",
       "3               1.4 km away           3%       90%        7%      0%      3000  \n",
       "4               1.4 km away           6%       79%       12%      3%      3000  \n",
       "...                     ...          ...       ...       ...     ...       ...  \n",
       "7997            0.7 km away          24%       25%       25%     27%      3995  \n",
       "7998            1.4 km away          21%       16%       23%     40%      3995  \n",
       "7999           12.6 km away          21%       14%       24%     42%      3996  \n",
       "8000           11.6 km away          24%       16%       27%     33%      3996  \n",
       "8001           11.9 km away          15%       13%       22%     50%      3996  \n",
       "\n",
       "[7712 rows x 12 columns]>"
      ]
     },
     "execution_count": 26,
     "metadata": {},
     "output_type": "execute_result"
    }
   ],
   "source": [
    "# Parse cost\n",
    "domain_data['Cost'] = domain_data['Cost'].apply(lambda x: float(re.search(r'\\$(\\d+(\\.\\d+)?)', x).group(1)) if pd.notnull(x) and re.search(r'\\$(\\d+(\\.\\d+)?)', x) else None)\n",
    "# Remove no cost \n",
    "domain_data = domain_data.dropna(subset=['Cost'])\n",
    "\n",
    "domain_data.info"
   ]
  },
  {
   "cell_type": "code",
   "execution_count": 30,
   "id": "4a327651-cc9f-4e9a-9a40-8a0c6a9673c1",
   "metadata": {},
   "outputs": [],
   "source": [
    "Q1, Q3 = domain_data['Cost'].quantile([0.25, 0.75])\n",
    "IQR = Q3 - Q1\n",
    "domain_data = domain_data[(domain_data['Cost'] >= Q1 - 1.5 * IQR) & (domain_data['Cost'] <= Q3 + 1.5 * IQR)]"
   ]
  },
  {
   "cell_type": "code",
   "execution_count": 31,
   "id": "d16e212b-d109-46f9-8189-08cc995c0546",
   "metadata": {},
   "outputs": [
    {
     "name": "stdout",
     "output_type": "stream",
     "text": [
      "Max Cost: $950.0\n",
      "Min Cost: $150.0\n",
      "Mean Cost: $566.0803051709522\n"
     ]
    }
   ],
   "source": [
    "max_cost = domain_data['Cost'].max()\n",
    "min_cost = domain_data['Cost'].min()\n",
    "mean_cost = domain_data['Cost'].mean()\n",
    "\n",
    "print(f\"Max Cost: ${max_cost}\")\n",
    "print(f\"Min Cost: ${min_cost}\")\n",
    "print(f\"Mean Cost: ${mean_cost}\")"
   ]
  },
  {
   "cell_type": "code",
   "execution_count": 15,
   "id": "7e80f093-5aad-4b51-860e-62600d1df6de",
   "metadata": {},
   "outputs": [
    {
     "data": {
      "text/plain": [
       "1735"
      ]
     },
     "execution_count": 15,
     "metadata": {},
     "output_type": "execute_result"
    }
   ],
   "source": []
  },
  {
   "cell_type": "code",
   "execution_count": 18,
   "id": "b2b190ca-721d-4446-9733-d004bf201a57",
   "metadata": {},
   "outputs": [
    {
     "name": "stdout",
     "output_type": "stream",
     "text": [
      "216\n",
      "Number of suburbs not found in 'All properties': 1569\n",
      "Missing suburbs: ['melbourne' 'st kilda road central' 'st kilda road melbourne' ...\n",
      " 'wattle bank' 'inverloch' 'pound creek']\n"
     ]
    }
   ],
   "source": [
    "all_properties_suburbs = all_properties_df['Unnamed: 1']\n",
    "# Split suburbs by the hyphen '-' and create a list of individual suburbs\n",
    "all_properties_suburbs_split = all_properties_suburbs.dropna().str.split('-').explode().str.strip().str.lower()\n",
    "\n",
    "print(all_properties_suburbs_split.nunique())\n",
    "# Assuming merged_df['suburb'] contains the suburbs to compare\n",
    "# Compare merged_df['suburb'] with the split and cleaned all_properties_suburbs\n",
    "missing_suburbs = merged_df[~merged_df['Suburb'].isin(all_properties_suburbs_split)]\n",
    "\n",
    "# Display how many suburbs from merged_df are not in \"All properties\"\n",
    "print(f\"Number of suburbs not found in 'All properties': {missing_suburbs['Suburb'].nunique()}\")\n",
    "\n",
    "# Display the missing suburbs for review\n",
    "missing_suburbs_list = missing_suburbs['Suburb'].unique()\n",
    "print(f\"Missing suburbs: {missing_suburbs_list}\")"
   ]
  }
 ],
 "metadata": {
  "kernelspec": {
   "display_name": "Python 3 (ipykernel)",
   "language": "python",
   "name": "python3"
  },
  "language_info": {
   "codemirror_mode": {
    "name": "ipython",
    "version": 3
   },
   "file_extension": ".py",
   "mimetype": "text/x-python",
   "name": "python",
   "nbconvert_exporter": "python",
   "pygments_lexer": "ipython3",
   "version": "3.11.9"
  }
 },
 "nbformat": 4,
 "nbformat_minor": 5
}
