{
 "cells": [
  {
   "cell_type": "code",
   "execution_count": 3,
   "metadata": {},
   "outputs": [
    {
     "name": "stdout",
     "output_type": "stream",
     "text": [
      "Columns in the first CSV file:\n",
      "['SA2 code', 'population 2001', 'population 2002', 'population 2003', 'population 2004', 'population 2005', 'population 2006', 'population 2007', 'population 2008', 'population 2009', 'population 2010', 'population 2011', 'population 2012', 'population 2013', 'population 2014', 'population 2015', 'population 2016', 'population 2017', 'population 2018', 'population 2019', 'population 2020', 'population 2021', 'population 2022', 'population 2023']\n",
      "\n",
      "Columns in the second CSV file:\n",
      "['area code', 'population 2024', 'population 2025', 'population 2026', 'population 2027']\n"
     ]
    }
   ],
   "source": [
    "import os\n",
    "import pandas as pd\n",
    "\n",
    "# File paths\n",
    "population_past = '../../data/raw/ABS_population/past_population_data_filtered.csv'  \n",
    "population_forecast = '../../data/raw/ABS_population/population_forecast_2024_2027.csv'  \n",
    "output_dir = '../../data/raw/merge_past_forcasting_data/'\n",
    "\n",
    "# Read the CSV files\n",
    "df_past = pd.read_csv(population_past)\n",
    "df_forecast = pd.read_csv(population_forecast)\n",
    "\n",
    "# Display the columns of each file\n",
    "print(\"Columns in the first CSV file:\")\n",
    "print(df_past.columns.tolist())\n",
    "\n",
    "print(\"\\nColumns in the second CSV file:\")\n",
    "print(df_forecast.columns.tolist())"
   ]
  },
  {
   "cell_type": "code",
   "execution_count": 4,
   "metadata": {},
   "outputs": [
    {
     "name": "stdout",
     "output_type": "stream",
     "text": [
      "Merged CSV file created successfully!\n"
     ]
    }
   ],
   "source": [
    "# Read the CSV files\n",
    "df_past = pd.read_csv(population_past)\n",
    "df_forecast = pd.read_csv(population_forecast)\n",
    "\n",
    "# Filter past population data for the years 2015 to 2023\n",
    "years_to_keep = [f'population {year}' for year in range(2015, 2024)]\n",
    "df_past = df_past[['SA2 code'] + years_to_keep]\n",
    "\n",
    "# Melt the past population data to match the desired format\n",
    "df_past_melted = df_past.melt(id_vars=['SA2 code'], \n",
    "                              value_vars=years_to_keep,\n",
    "                              var_name='Year', value_name='Population')\n",
    "\n",
    "# Clean up the Year column in the past data\n",
    "df_past_melted['Year'] = df_past_melted['Year'].str.extract('(\\d+)').astype(int)\n",
    "\n",
    "# Rename 'area code' in forecast data to 'SA2 code' for consistency\n",
    "df_forecast.rename(columns={'area code': 'SA2 code'}, inplace=True)\n",
    "\n",
    "# Melt the forecast population data to match the desired format\n",
    "df_forecast_melted = df_forecast.melt(id_vars=['SA2 code'], \n",
    "                                      value_vars=[col for col in df_forecast.columns if 'population' in col],\n",
    "                                      var_name='Year', value_name='Population')\n",
    "\n",
    "# Clean up the Year column in the forecast data\n",
    "df_forecast_melted['Year'] = df_forecast_melted['Year'].str.extract('(\\d+)').astype(int)\n",
    "\n",
    "# Concatenate past and forecast data\n",
    "merged_df = pd.concat([df_past_melted, df_forecast_melted], ignore_index=True)\n",
    "\n",
    "# Sort by 'Year' and 'SA2 code'\n",
    "merged_df = merged_df.sort_values(by=['Year', 'SA2 code']).reset_index(drop=True)\n",
    "\n",
    "# Reorder columns to ensure 'Year' is the first column\n",
    "merged_df = merged_df[['Year', 'SA2 code', 'Population']]\n",
    "\n",
    "# Check if the output directory exists, if not, create it\n",
    "if not os.path.exists(output_dir):\n",
    "    os.makedirs(output_dir)\n",
    "\n",
    "# Save the merged DataFrame to a new CSV file\n",
    "output_file = os.path.join(output_dir, 'merged_population_data.csv')\n",
    "merged_df.to_csv(output_file, index=False)\n",
    "\n",
    "print(\"Merged CSV file created successfully!\")"
   ]
  }
 ],
 "metadata": {
  "kernelspec": {
   "display_name": "Python 3",
   "language": "python",
   "name": "python3"
  },
  "language_info": {
   "codemirror_mode": {
    "name": "ipython",
    "version": 3
   },
   "file_extension": ".py",
   "mimetype": "text/x-python",
   "name": "python",
   "nbconvert_exporter": "python",
   "pygments_lexer": "ipython3",
   "version": "3.10.12"
  }
 },
 "nbformat": 4,
 "nbformat_minor": 2
}
