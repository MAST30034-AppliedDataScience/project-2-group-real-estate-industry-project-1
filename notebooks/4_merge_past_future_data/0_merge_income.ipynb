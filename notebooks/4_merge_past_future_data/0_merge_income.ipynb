{
 "cells": [
  {
   "cell_type": "markdown",
   "metadata": {},
   "source": [
    "Created by Zehua Hu, Sep 19"
   ]
  },
  {
   "cell_type": "code",
   "execution_count": 2,
   "metadata": {},
   "outputs": [
    {
     "name": "stdout",
     "output_type": "stream",
     "text": [
      "Columns in the first CSV file:\n",
      "['SA2 Code', '2016 income', '2017 income', '2018 income', '2019 income', '2020 income']\n",
      "\n",
      "Columns in the second CSV file:\n",
      "['SA2 Code', '2015 income', '2021 income', '2022 income', '2023 income', '2024 income', '2025 income', '2026 income', '2027 income']\n"
     ]
    }
   ],
   "source": [
    "import pandas as pd\n",
    "\n",
    "income_past= '../../data/raw/Past_income_population_preprocessed/income_2020_filtered.csv'  \n",
    "income_forcast = '../../data/raw/Past_income_population_preprocessed/income_forecast_2015_2021to2027.csv'  \n",
    "\n",
    "# Read the CSV files\n",
    "df1 = pd.read_csv(income_past)\n",
    "df2 = pd.read_csv(income_forcast)\n",
    "\n",
    "# Display the columns of each file\n",
    "print(\"Columns in the first CSV file:\")\n",
    "print(df1.columns.tolist())\n",
    "\n",
    "print(\"\\nColumns in the second CSV file:\")\n",
    "print(df2.columns.tolist())"
   ]
  },
  {
   "cell_type": "code",
   "execution_count": 3,
   "metadata": {},
   "outputs": [
    {
     "name": "stdout",
     "output_type": "stream",
     "text": [
      "Merged CSV file created successfully!\n"
     ]
    }
   ],
   "source": [
    "import os\n",
    "import pandas as pd\n",
    "\n",
    "# File paths\n",
    "income_past = '../../data/raw/Past_income_population_preprocessed/income_2020_filtered.csv'  \n",
    "income_forecast = '../../data/raw/Past_income_population_preprocessed/income_forecast_2015_2021to2027.csv'  \n",
    "output_dir = '../../data/raw/merge_past_forcasting_data/'\n",
    "\n",
    "# Read the CSV files\n",
    "df_past = pd.read_csv(income_past)\n",
    "df_forecast = pd.read_csv(income_forecast)\n",
    "\n",
    "# Melt the past income data to match the desired format\n",
    "df_past_melted = df_past.melt(id_vars=['SA2 Code'], \n",
    "                              value_vars=[col for col in df_past.columns if 'income' in col],\n",
    "                              var_name='Year', value_name='Income')\n",
    "\n",
    "# Clean up the Year column in the past data\n",
    "df_past_melted['Year'] = df_past_melted['Year'].str.extract('(\\d+)').astype(int)\n",
    "\n",
    "# Melt the forecast income data to match the desired format\n",
    "df_forecast_melted = df_forecast.melt(id_vars=['SA2 Code'], \n",
    "                                      value_vars=[col for col in df_forecast.columns if 'income' in col],\n",
    "                                      var_name='Year', value_name='Income')\n",
    "\n",
    "# Clean up the Year column in the forecast data\n",
    "df_forecast_melted['Year'] = df_forecast_melted['Year'].str.extract('(\\d+)').astype(int)\n",
    "\n",
    "# Concatenate past and forecast data\n",
    "merged_df = pd.concat([df_past_melted, df_forecast_melted], ignore_index=True)\n",
    "\n",
    "# Sort by 'Year' and 'SA2 Code'\n",
    "merged_df = merged_df.sort_values(by=['Year', 'SA2 Code']).reset_index(drop=True)\n",
    "\n",
    "# Reorder columns to ensure 'Year' is the first column\n",
    "merged_df = merged_df[['Year', 'SA2 Code', 'Income']]\n",
    "\n",
    "# Check if the output directory exists, if not, create it\n",
    "if not os.path.exists(output_dir):\n",
    "    os.makedirs(output_dir)\n",
    "\n",
    "# Save the merged DataFrame to a new CSV file\n",
    "output_file = os.path.join(output_dir, 'merged_income_data.csv')\n",
    "merged_df.to_csv(output_file, index=False)\n",
    "\n",
    "print(\"Merged CSV file created successfully!\")"
   ]
  }
 ],
 "metadata": {
  "kernelspec": {
   "display_name": "Python 3",
   "language": "python",
   "name": "python3"
  },
  "language_info": {
   "codemirror_mode": {
    "name": "ipython",
    "version": 3
   },
   "file_extension": ".py",
   "mimetype": "text/x-python",
   "name": "python",
   "nbconvert_exporter": "python",
   "pygments_lexer": "ipython3",
   "version": "3.10.12"
  }
 },
 "nbformat": 4,
 "nbformat_minor": 2
}
