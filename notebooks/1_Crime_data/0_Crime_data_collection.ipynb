{
 "cells": [
  {
   "cell_type": "code",
   "execution_count": 19,
   "metadata": {},
   "outputs": [],
   "source": [
    "import requests\n",
    "import pandas as pd\n",
    "import os"
   ]
  },
  {
   "cell_type": "code",
   "execution_count": 20,
   "metadata": {},
   "outputs": [],
   "source": [
    "# Create folder to save dataset\n",
    "base_dir = '../../data/'\n",
    "landing_dir = os.path.join(base_dir, 'landing')\n",
    "raw_dir = os.path.join(base_dir, 'raw')\n",
    "\n",
    "if not os.path.exists(base_dir):\n",
    "    os.makedirs(base_dir)\n",
    "\n",
    "if not os.path.exists(landing_dir):\n",
    "    os.makedirs(landing_dir)\n",
    "\n",
    "if not os.path.exists(raw_dir):\n",
    "    os.makedirs(raw_dir)\n",
    "\n",
    "subfolder = 'Crime'\n",
    "\n",
    "if not os.path.exists(os.path.join(landing_dir, subfolder)):\n",
    "    os.makedirs(os.path.join(landing_dir, subfolder))\n",
    "\n",
    "if not os.path.exists(os.path.join(raw_dir, subfolder)):\n",
    "    os.makedirs(os.path.join(raw_dir, subfolder))"
   ]
  },
  {
   "cell_type": "code",
   "execution_count": 21,
   "metadata": {},
   "outputs": [
    {
     "name": "stdout",
     "output_type": "stream",
     "text": [
      "Successfully downloaded the Excel file.\n",
      "Excel file saved to ../../data/landing/Crime/Crime_info.xlsx\n",
      "Table 01 has been successfully saved as a CSV file: ../../data/raw/Crime/Crime_info.csv\n"
     ]
    }
   ],
   "source": [
    "# File download link\n",
    "file_url = \"https://files.crimestatistics.vic.gov.au/2024-06/Data_Tables_LGA_Criminal_Incidents_Year_Ending_March_2024.xlsx\"\n",
    "\n",
    "# Define the path to save the downloaded Excel file\n",
    "excel_output_path = f\"{landing_dir}/{subfolder}/Crime_info.xlsx\"  # Path for the Excel file\n",
    "\n",
    "# Define the path to save the converted CSV file\n",
    "csv_output_path = f\"{raw_dir}/{subfolder}/Crime_info.csv\"  # Path for the CSV file\n",
    "\n",
    "# Create the subfolder if it doesn't exist\n",
    "os.makedirs(f\"{landing_dir}/{subfolder}\", exist_ok=True)\n",
    "\n",
    "# Send an HTTP request to download the Excel file\n",
    "response = requests.get(file_url)\n",
    "\n",
    "# Check if the request was successful\n",
    "if response.status_code == 200:\n",
    "    print(\"Successfully downloaded the Excel file.\")\n",
    "    \n",
    "    # Save the Excel file to the specified path\n",
    "    with open(excel_output_path, 'wb') as file:\n",
    "        file.write(response.content)\n",
    "    print(f\"Excel file saved to {excel_output_path}\")\n",
    "    \n",
    "    # Read the \"Table 01\" sheet from the Excel file\n",
    "    df = pd.read_excel(excel_output_path, sheet_name=\"Table 01\")\n",
    "    \n",
    "    # Save the \"Table 01\" sheet as a CSV file\n",
    "    df.to_csv(csv_output_path, index=False)\n",
    "    print(f\"Table 01 has been successfully saved as a CSV file: {csv_output_path}\")\n",
    "else:\n",
    "    print(f\"Failed to download the file, status code: {response.status_code}\")"
   ]
  }
 ],
 "metadata": {
  "kernelspec": {
   "display_name": "myenv2",
   "language": "python",
   "name": "python3"
  },
  "language_info": {
   "codemirror_mode": {
    "name": "ipython",
    "version": 3
   },
   "file_extension": ".py",
   "mimetype": "text/x-python",
   "name": "python",
   "nbconvert_exporter": "python",
   "pygments_lexer": "ipython3",
   "version": "3.10.13"
  }
 },
 "nbformat": 4,
 "nbformat_minor": 2
}
