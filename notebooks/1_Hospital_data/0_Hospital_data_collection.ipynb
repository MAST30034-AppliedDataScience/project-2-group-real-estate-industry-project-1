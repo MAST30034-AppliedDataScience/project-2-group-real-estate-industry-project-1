{
 "cells": [
  {
   "cell_type": "code",
   "execution_count": 4,
   "metadata": {},
   "outputs": [],
   "source": [
    "import os\n",
    "import requests"
   ]
  },
  {
   "cell_type": "code",
   "execution_count": 2,
   "metadata": {},
   "outputs": [],
   "source": [
    "# Create folder to save dataset\n",
    "base_dir = '../../data/'\n",
    "landing_dir = os.path.join(base_dir, 'landing')\n",
    "raw_dir = os.path.join(base_dir, 'raw')\n",
    "\n",
    "if not os.path.exists(base_dir):\n",
    "    os.makedirs(base_dir)\n",
    "\n",
    "if not os.path.exists(landing_dir):\n",
    "    os.makedirs(landing_dir)\n",
    "\n",
    "subfolder = 'Hospital'\n",
    "\n",
    "if not os.path.exists(os.path.join(landing_dir, subfolder)):\n",
    "    os.makedirs(os.path.join(landing_dir, subfolder))\n",
    "\n",
    "if not os.path.exists(os.path.join(raw_dir, subfolder)):\n",
    "    os.makedirs(os.path.join(raw_dir, subfolder))"
   ]
  },
  {
   "cell_type": "code",
   "execution_count": 5,
   "metadata": {},
   "outputs": [
    {
     "name": "stdout",
     "output_type": "stream",
     "text": [
      "File downloaded and saved to ../../data/landing/Hospital/Hospital_info.csv\n"
     ]
    }
   ],
   "source": [
    "# Define the download URL and target path\n",
    "url = \"https://d28rz98at9flks.cloudfront.net/149331/149331_01_0.csv\"\n",
    "output_path = f\"{landing_dir}/{subfolder}/Hospital_info.csv\"\n",
    "\n",
    "# Ensure the target directory exists\n",
    "os.makedirs(os.path.dirname(output_path), exist_ok=True)\n",
    "\n",
    "# Download the file from the URL\n",
    "response = requests.get(url)\n",
    "with open(output_path, 'wb') as file:\n",
    "    file.write(response.content)\n",
    "\n",
    "print(f\"File downloaded and saved to {output_path}\")\n"
   ]
  }
 ],
 "metadata": {
  "kernelspec": {
   "display_name": "myenv2",
   "language": "python",
   "name": "python3"
  },
  "language_info": {
   "codemirror_mode": {
    "name": "ipython",
    "version": 3
   },
   "file_extension": ".py",
   "mimetype": "text/x-python",
   "name": "python",
   "nbconvert_exporter": "python",
   "pygments_lexer": "ipython3",
   "version": "3.10.13"
  }
 },
 "nbformat": 4,
 "nbformat_minor": 2
}
