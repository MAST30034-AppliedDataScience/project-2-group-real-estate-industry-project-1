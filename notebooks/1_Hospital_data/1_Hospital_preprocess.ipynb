{
 "cells": [
  {
   "cell_type": "code",
   "execution_count": 12,
   "metadata": {},
   "outputs": [],
   "source": [
    "import os\n",
    "import pandas as pd"
   ]
  },
  {
   "cell_type": "code",
   "execution_count": 13,
   "metadata": {},
   "outputs": [],
   "source": [
    "# Create folder to save dataset\n",
    "base_dir = '../../data/'\n",
    "landing_dir = os.path.join(base_dir, 'landing')\n",
    "raw_dir = os.path.join(base_dir, 'raw')\n",
    "\n",
    "if not os.path.exists(base_dir):\n",
    "    os.makedirs(base_dir)\n",
    "\n",
    "\n",
    "subfolder = 'Hospital'\n",
    "\n",
    "\n",
    "if not os.path.exists(os.path.join(raw_dir, subfolder)):\n",
    "    os.makedirs(os.path.join(raw_dir, subfolder))"
   ]
  },
  {
   "cell_type": "code",
   "execution_count": 14,
   "metadata": {},
   "outputs": [],
   "source": [
    "# read data\n",
    "input_path = f\"{landing_dir}/{subfolder}/Hospital_info.csv\"\n",
    "df = pd.read_csv(input_path)"
   ]
  },
  {
   "cell_type": "code",
   "execution_count": 15,
   "metadata": {},
   "outputs": [
    {
     "data": {
      "text/html": [
       "<div>\n",
       "<style scoped>\n",
       "    .dataframe tbody tr th:only-of-type {\n",
       "        vertical-align: middle;\n",
       "    }\n",
       "\n",
       "    .dataframe tbody tr th {\n",
       "        vertical-align: top;\n",
       "    }\n",
       "\n",
       "    .dataframe thead th {\n",
       "        text-align: right;\n",
       "    }\n",
       "</style>\n",
       "<table border=\"1\" class=\"dataframe\">\n",
       "  <thead>\n",
       "    <tr style=\"text-align: right;\">\n",
       "      <th></th>\n",
       "      <th>OBJECTID</th>\n",
       "      <th>NHSD_OPERATIONALSTATUS</th>\n",
       "      <th>NHSD_ORGANISATION_NAME</th>\n",
       "      <th>NHSD_ADDRESS</th>\n",
       "      <th>NHSD_SUBURB</th>\n",
       "      <th>NHSD_STATE</th>\n",
       "      <th>NHSD_POSTCODE</th>\n",
       "      <th>NHSD_LONG</th>\n",
       "      <th>NHSD_LAT</th>\n",
       "      <th>NHSD_SERVICE_ID</th>\n",
       "      <th>NHSD_SERVICE_TYPE</th>\n",
       "      <th>GNAF_ADDRESS_DETAIL_PID</th>\n",
       "      <th>GA_CLASS</th>\n",
       "      <th>GA_SOURCE_DATE</th>\n",
       "    </tr>\n",
       "  </thead>\n",
       "  <tbody>\n",
       "    <tr>\n",
       "      <th>0</th>\n",
       "      <td>1</td>\n",
       "      <td>active</td>\n",
       "      <td>Hughes Family Practice</td>\n",
       "      <td>3 Mcnicoll Street Hughes ACT 2605</td>\n",
       "      <td>Hughes</td>\n",
       "      <td>ACT</td>\n",
       "      <td>2605</td>\n",
       "      <td>149.094864</td>\n",
       "      <td>-35.334141</td>\n",
       "      <td>7cc86945-1604-8237-e618-b873d1069cb5</td>\n",
       "      <td>General practice service</td>\n",
       "      <td>GAACT716457727</td>\n",
       "      <td>GENERAL PRACTICE</td>\n",
       "      <td>20240305</td>\n",
       "    </tr>\n",
       "    <tr>\n",
       "      <th>1</th>\n",
       "      <td>2</td>\n",
       "      <td>active</td>\n",
       "      <td>Lane Cove Doctors Surgery</td>\n",
       "      <td>65 Burns Bay Road Lane Cove NSW 2066</td>\n",
       "      <td>Lane Cove</td>\n",
       "      <td>NSW</td>\n",
       "      <td>2066</td>\n",
       "      <td>151.166153</td>\n",
       "      <td>-33.814552</td>\n",
       "      <td>4f8d50dc-459e-ca13-c93a-dbad8f78ca12</td>\n",
       "      <td>General practice service</td>\n",
       "      <td>GANSW705185299</td>\n",
       "      <td>GENERAL PRACTICE</td>\n",
       "      <td>20240305</td>\n",
       "    </tr>\n",
       "    <tr>\n",
       "      <th>2</th>\n",
       "      <td>3</td>\n",
       "      <td>active</td>\n",
       "      <td>Robinson River Community Health Centre</td>\n",
       "      <td>Robinson River Community Road Robinson River N...</td>\n",
       "      <td>Robinson River</td>\n",
       "      <td>NT</td>\n",
       "      <td>852</td>\n",
       "      <td>136.982773</td>\n",
       "      <td>-16.758528</td>\n",
       "      <td>473b7b76-4eaf-0036-0070-201c11d3fde0</td>\n",
       "      <td>General practice service</td>\n",
       "      <td>NaN</td>\n",
       "      <td>GENERAL PRACTICE</td>\n",
       "      <td>20240305</td>\n",
       "    </tr>\n",
       "    <tr>\n",
       "      <th>3</th>\n",
       "      <td>4</td>\n",
       "      <td>active</td>\n",
       "      <td>Ochre Medical Centre Bonnells Bay</td>\n",
       "      <td>330 Fishery Point Road Bonnells Bay NSW 2264</td>\n",
       "      <td>Bonnells Bay</td>\n",
       "      <td>NSW</td>\n",
       "      <td>2264</td>\n",
       "      <td>151.532257</td>\n",
       "      <td>-33.110668</td>\n",
       "      <td>b57c34f6-5b3a-fde3-72e4-10daeb944b28</td>\n",
       "      <td>General practice service</td>\n",
       "      <td>GANSW711793028</td>\n",
       "      <td>GENERAL PRACTICE</td>\n",
       "      <td>20240305</td>\n",
       "    </tr>\n",
       "    <tr>\n",
       "      <th>4</th>\n",
       "      <td>5</td>\n",
       "      <td>active</td>\n",
       "      <td>Okely Medical Group</td>\n",
       "      <td>56 Almadine Drive Carine WA 6020</td>\n",
       "      <td>Carine</td>\n",
       "      <td>WA</td>\n",
       "      <td>6020</td>\n",
       "      <td>115.768196</td>\n",
       "      <td>-31.853407</td>\n",
       "      <td>c8c7520a-eedf-ae5b-4f6d-4bda16376279</td>\n",
       "      <td>General practice service</td>\n",
       "      <td>GAWA_146550659</td>\n",
       "      <td>GENERAL PRACTICE</td>\n",
       "      <td>20240305</td>\n",
       "    </tr>\n",
       "  </tbody>\n",
       "</table>\n",
       "</div>"
      ],
      "text/plain": [
       "   OBJECTID NHSD_OPERATIONALSTATUS                  NHSD_ORGANISATION_NAME  \\\n",
       "0         1                 active                  Hughes Family Practice   \n",
       "1         2                 active               Lane Cove Doctors Surgery   \n",
       "2         3                 active  Robinson River Community Health Centre   \n",
       "3         4                 active       Ochre Medical Centre Bonnells Bay   \n",
       "4         5                 active                     Okely Medical Group   \n",
       "\n",
       "                                        NHSD_ADDRESS     NHSD_SUBURB  \\\n",
       "0                  3 Mcnicoll Street Hughes ACT 2605          Hughes   \n",
       "1               65 Burns Bay Road Lane Cove NSW 2066       Lane Cove   \n",
       "2  Robinson River Community Road Robinson River N...  Robinson River   \n",
       "3       330 Fishery Point Road Bonnells Bay NSW 2264    Bonnells Bay   \n",
       "4                   56 Almadine Drive Carine WA 6020          Carine   \n",
       "\n",
       "  NHSD_STATE  NHSD_POSTCODE   NHSD_LONG   NHSD_LAT  \\\n",
       "0        ACT           2605  149.094864 -35.334141   \n",
       "1        NSW           2066  151.166153 -33.814552   \n",
       "2         NT            852  136.982773 -16.758528   \n",
       "3        NSW           2264  151.532257 -33.110668   \n",
       "4         WA           6020  115.768196 -31.853407   \n",
       "\n",
       "                        NHSD_SERVICE_ID         NHSD_SERVICE_TYPE  \\\n",
       "0  7cc86945-1604-8237-e618-b873d1069cb5  General practice service   \n",
       "1  4f8d50dc-459e-ca13-c93a-dbad8f78ca12  General practice service   \n",
       "2  473b7b76-4eaf-0036-0070-201c11d3fde0  General practice service   \n",
       "3  b57c34f6-5b3a-fde3-72e4-10daeb944b28  General practice service   \n",
       "4  c8c7520a-eedf-ae5b-4f6d-4bda16376279  General practice service   \n",
       "\n",
       "  GNAF_ADDRESS_DETAIL_PID          GA_CLASS  GA_SOURCE_DATE  \n",
       "0          GAACT716457727  GENERAL PRACTICE        20240305  \n",
       "1          GANSW705185299  GENERAL PRACTICE        20240305  \n",
       "2                     NaN  GENERAL PRACTICE        20240305  \n",
       "3          GANSW711793028  GENERAL PRACTICE        20240305  \n",
       "4          GAWA_146550659  GENERAL PRACTICE        20240305  "
      ]
     },
     "execution_count": 15,
     "metadata": {},
     "output_type": "execute_result"
    }
   ],
   "source": [
    "df.head(5)"
   ]
  },
  {
   "cell_type": "code",
   "execution_count": 16,
   "metadata": {},
   "outputs": [
    {
     "name": "stdout",
     "output_type": "stream",
     "text": [
      "<class 'pandas.core.frame.DataFrame'>\n",
      "RangeIndex: 14904 entries, 0 to 14903\n",
      "Data columns (total 14 columns):\n",
      " #   Column                   Non-Null Count  Dtype  \n",
      "---  ------                   --------------  -----  \n",
      " 0   OBJECTID                 14904 non-null  int64  \n",
      " 1   NHSD_OPERATIONALSTATUS   14904 non-null  object \n",
      " 2   NHSD_ORGANISATION_NAME   14904 non-null  object \n",
      " 3   NHSD_ADDRESS             14904 non-null  object \n",
      " 4   NHSD_SUBURB              14904 non-null  object \n",
      " 5   NHSD_STATE               14904 non-null  object \n",
      " 6   NHSD_POSTCODE            14904 non-null  int64  \n",
      " 7   NHSD_LONG                14904 non-null  float64\n",
      " 8   NHSD_LAT                 14904 non-null  float64\n",
      " 9   NHSD_SERVICE_ID          14904 non-null  object \n",
      " 10  NHSD_SERVICE_TYPE        14904 non-null  object \n",
      " 11  GNAF_ADDRESS_DETAIL_PID  8743 non-null   object \n",
      " 12  GA_CLASS                 14904 non-null  object \n",
      " 13  GA_SOURCE_DATE           14904 non-null  int64  \n",
      "dtypes: float64(2), int64(3), object(9)\n",
      "memory usage: 1.6+ MB\n",
      "None\n"
     ]
    }
   ],
   "source": [
    "print(df.info())\n"
   ]
  },
  {
   "cell_type": "code",
   "execution_count": 17,
   "metadata": {},
   "outputs": [
    {
     "data": {
      "text/plain": [
       "14904"
      ]
     },
     "execution_count": 17,
     "metadata": {},
     "output_type": "execute_result"
    }
   ],
   "source": [
    "len(df)"
   ]
  },
  {
   "cell_type": "code",
   "execution_count": 18,
   "metadata": {},
   "outputs": [
    {
     "data": {
      "text/plain": [
       "array(['GENERAL PRACTICE', 'HOSPITAL', 'PHARMACY'], dtype=object)"
      ]
     },
     "execution_count": 18,
     "metadata": {},
     "output_type": "execute_result"
    }
   ],
   "source": [
    "df[\"GA_CLASS\"].unique()"
   ]
  },
  {
   "cell_type": "code",
   "execution_count": 19,
   "metadata": {},
   "outputs": [
    {
     "data": {
      "text/plain": [
       "1280"
      ]
     },
     "execution_count": 19,
     "metadata": {},
     "output_type": "execute_result"
    }
   ],
   "source": [
    "# Only need hospital data\n",
    "df_filtered = df[df['GA_CLASS'] == 'HOSPITAL']\n",
    "len(df_filtered)"
   ]
  },
  {
   "cell_type": "code",
   "execution_count": 20,
   "metadata": {},
   "outputs": [
    {
     "data": {
      "text/plain": [
       "286"
      ]
     },
     "execution_count": 20,
     "metadata": {},
     "output_type": "execute_result"
    }
   ],
   "source": [
    "# Only need VIC data\n",
    "df_filtered = df_filtered[df_filtered['NHSD_STATE'] == 'VIC']\n",
    "len(df_filtered)"
   ]
  },
  {
   "cell_type": "code",
   "execution_count": 21,
   "metadata": {},
   "outputs": [],
   "source": [
    "# save data\n",
    "df_filtered.to_csv(f\"{raw_dir}/{subfolder}/Hospital_info.csv\", index=False)\n"
   ]
  }
 ],
 "metadata": {
  "kernelspec": {
   "display_name": "myenv2",
   "language": "python",
   "name": "python3"
  },
  "language_info": {
   "codemirror_mode": {
    "name": "ipython",
    "version": 3
   },
   "file_extension": ".py",
   "mimetype": "text/x-python",
   "name": "python",
   "nbconvert_exporter": "python",
   "pygments_lexer": "ipython3",
   "version": "3.10.13"
  }
 },
 "nbformat": 4,
 "nbformat_minor": 2
}
