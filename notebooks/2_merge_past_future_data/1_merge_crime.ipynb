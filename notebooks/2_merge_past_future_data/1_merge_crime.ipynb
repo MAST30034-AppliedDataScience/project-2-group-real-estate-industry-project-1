{
 "cells": [
  {
   "cell_type": "code",
   "execution_count": 3,
   "metadata": {},
   "outputs": [
    {
     "name": "stdout",
     "output_type": "stream",
     "text": [
      "Columns in the first CSV file:\n",
      "['Year', 'Year ending', 'Police Region', 'Local Government Area', 'Incidents Recorded', 'Rate per 100,000 population']\n",
      "\n",
      "Columns in the second CSV file:\n",
      "['Local Government Area', 'crime 2024', 'crime 2025', 'crime 2026', 'crime 2027']\n"
     ]
    }
   ],
   "source": [
    "import pandas as pd\n",
    "\n",
    "crime_past= '../../data/raw/Crime/Crime_info.csv'  \n",
    "crime_forcast = '../../data/raw/ABS_population/crime_forecast_2024_2027.csv'  \n",
    "\n",
    "# Read the CSV files\n",
    "df1 = pd.read_csv(crime_past)\n",
    "df2 = pd.read_csv(crime_forcast)\n",
    "\n",
    "# Display the columns of each file\n",
    "print(\"Columns in the first CSV file:\")\n",
    "print(df1.columns.tolist())\n",
    "\n",
    "print(\"\\nColumns in the second CSV file:\")\n",
    "print(df2.columns.tolist())"
   ]
  },
  {
   "cell_type": "code",
   "execution_count": 4,
   "metadata": {},
   "outputs": [
    {
     "name": "stdout",
     "output_type": "stream",
     "text": [
      "'Total' found in crime_past data: 60 rows\n",
      "'Total' found in crime_forecast data: 0 rows\n",
      "Merged CSV file created successfully!\n"
     ]
    }
   ],
   "source": [
    "import os\n",
    "import pandas as pd\n",
    "\n",
    "# File paths\n",
    "crime_past = '../../data/raw/Crime/Crime_info.csv'  \n",
    "crime_forecast = '../../data/raw/ABS_population/crime_forecast_2024_2027.csv'  \n",
    "output_dir = '../../data/raw/merge_past_forcasting_data/'\n",
    "\n",
    "# Read the CSV files\n",
    "df_past = pd.read_csv(crime_past)\n",
    "df_forecast = pd.read_csv(crime_forecast)\n",
    "\n",
    "# Check for 'Total' in 'Local Government Area'\n",
    "if 'Local Government Area' in df_past.columns:\n",
    "    total_in_past_count = df_past[df_past['Local Government Area'] == 'Total'].shape[0]\n",
    "    print(f\"'Total' found in crime_past data: {total_in_past_count} rows\")\n",
    "\n",
    "if 'Local Government Area' in df_forecast.columns:\n",
    "    total_in_forecast_count = df_forecast[df_forecast['Local Government Area'] == 'Total'].shape[0]\n",
    "    print(f\"'Total' found in crime_forecast data: {total_in_forecast_count} rows\")\n",
    "\n",
    "# Remove rows where 'Local Government Area' is 'Total'\n",
    "df_past = df_past[df_past['Local Government Area'] != 'Total']\n",
    "df_forecast = df_forecast[df_forecast['Local Government Area'] != 'Total']\n",
    "\n",
    "# Filter and rename columns for the past data\n",
    "df_past_filtered = df_past[['Year', 'Local Government Area', 'Incidents Recorded']]\n",
    "\n",
    "# Melt the forecast data to match the format of the past data\n",
    "df_forecast_melted = df_forecast.melt(id_vars=['Local Government Area'], \n",
    "                                      value_vars=['crime 2025', 'crime 2026', 'crime 2027'],\n",
    "                                      var_name='Year', value_name='Incidents Recorded')\n",
    "\n",
    "# Clean up the Year column in the forecast data\n",
    "df_forecast_melted['Year'] = df_forecast_melted['Year'].str.extract('(\\d+)').astype(int)\n",
    "\n",
    "# Concatenate past and forecast data\n",
    "merged_df = pd.concat([df_past_filtered, df_forecast_melted], ignore_index=True)\n",
    "\n",
    "# Ensure the data is sorted by 'Year' and then by 'Local Government Area' alphabetically\n",
    "merged_df = merged_df.sort_values(by=['Year', 'Local Government Area']).reset_index(drop=True)\n",
    "\n",
    "# Check if the output directory exists, if not, create it\n",
    "if not os.path.exists(output_dir):\n",
    "    os.makedirs(output_dir)\n",
    "\n",
    "# Save the merged DataFrame to a new CSV file\n",
    "output_file = os.path.join(output_dir, 'merged_crime_data.csv')\n",
    "merged_df.to_csv(output_file, index=False)\n",
    "\n",
    "print(\"Merged CSV file created successfully!\")"
   ]
  }
 ],
 "metadata": {
  "kernelspec": {
   "display_name": "Python 3",
   "language": "python",
   "name": "python3"
  },
  "language_info": {
   "codemirror_mode": {
    "name": "ipython",
    "version": 3
   },
   "file_extension": ".py",
   "mimetype": "text/x-python",
   "name": "python",
   "nbconvert_exporter": "python",
   "pygments_lexer": "ipython3",
   "version": "3.10.13"
  }
 },
 "nbformat": 4,
 "nbformat_minor": 2
}
