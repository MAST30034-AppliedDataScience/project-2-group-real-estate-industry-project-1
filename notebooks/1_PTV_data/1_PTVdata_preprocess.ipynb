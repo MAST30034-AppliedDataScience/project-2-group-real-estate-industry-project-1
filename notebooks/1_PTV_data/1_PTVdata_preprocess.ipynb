{
 "cells": [
  {
   "cell_type": "code",
   "execution_count": null,
   "metadata": {},
   "outputs": [],
   "source": [
    "import geopandas as gpd\n",
    "import os\n"
   ]
  },
  {
   "cell_type": "markdown",
   "metadata": {},
   "source": [
    "# select dataset\n",
    "METRO_BUS_ROUTE\n",
    "METRO_BUS_STOP\n",
    "METRO_TRAIN_STATION\n",
    "METRO_TRAM_ROUTE\n",
    "METRO_TRAM_STOP\n",
    "REGIONAL_BUS_ROUTE\n",
    "REGIONAL_BUS_STOP\n",
    "REGIONAL_COACH_ROUTE\n",
    "REGIONAL_COACH_STOP\n",
    "REGIONAL_TRAIN_STATION\n",
    "SKYBUS_ROUTE\n",
    "SKYBUS_STOP\n",
    "PTV TRAIN CARPARK\n",
    "PTV TRAIN CORRIDOR CENTRELINE\n",
    "PTV TRAIN STATION BIKE STORAGE\n",
    "PTV TRAIN STATION PLATFORM\n",
    "PTV TRAIN TRACK CENTRELINE\n",
    "PTV TRAM TRACK CENTRELINE"
   ]
  },
  {
   "cell_type": "code",
   "execution_count": null,
   "metadata": {},
   "outputs": [],
   "source": [
    "# 读取 shapefile\n",
    "gdf = gpd.read_file(\"path_to_shapefile.shp\")"
   ]
  },
  {
   "cell_type": "code",
   "execution_count": null,
   "metadata": {},
   "outputs": [],
   "source": [
    "print(gdf.head())\n",
    "print(gdf.info())\n"
   ]
  },
  {
   "cell_type": "code",
   "execution_count": null,
   "metadata": {},
   "outputs": [],
   "source": [
    "print(gdf.crs)\n"
   ]
  },
  {
   "cell_type": "markdown",
   "metadata": {},
   "source": [
    "# select shapefile"
   ]
  },
  {
   "cell_type": "code",
   "execution_count": null,
   "metadata": {},
   "outputs": [],
   "source": []
  },
  {
   "cell_type": "markdown",
   "metadata": {},
   "source": [
    "# preprocessing"
   ]
  },
  {
   "cell_type": "code",
   "execution_count": null,
   "metadata": {},
   "outputs": [],
   "source": [
    "# 删除重复和空值：\n",
    "\n",
    "gdf = gdf.drop_duplicates()\n",
    "gdf = gdf.dropna()"
   ]
  },
  {
   "cell_type": "code",
   "execution_count": null,
   "metadata": {},
   "outputs": [],
   "source": [
    "# 修复或移除无效的几何形状（例如，自交、多边形不闭合等问题）：\n",
    "gdf = gdf[gdf.is_valid]"
   ]
  },
  {
   "cell_type": "code",
   "execution_count": null,
   "metadata": {},
   "outputs": [],
   "source": [
    "# 简化几何形状（可选）\n",
    "# 对于大规模数据，可以通过几何形状简化来减少数据量：\n",
    "\n",
    "gdf['geometry'] = gdf['geometry'].simplify(tolerance=0.01, preserve_topology=True)\n"
   ]
  },
  {
   "cell_type": "code",
   "execution_count": null,
   "metadata": {},
   "outputs": [],
   "source": [
    "# 过滤和选择数据\n",
    "# 根据需要筛选特定的区域或特征：\n",
    "\n",
    "gdf = gdf[gdf['column_name'] == 'desired_value']"
   ]
  },
  {
   "cell_type": "code",
   "execution_count": null,
   "metadata": {},
   "outputs": [],
   "source": [
    "# 选择相关的列：\n",
    "\n",
    "gdf = gdf[['column1', 'column2', 'geometry']]"
   ]
  },
  {
   "cell_type": "code",
   "execution_count": null,
   "metadata": {},
   "outputs": [],
   "source": [
    "# 创建新列或计算新数据（可选）\n",
    "\n",
    "gdf['new_column'] = gdf['existing_column'].apply(some_function)"
   ]
  },
  {
   "cell_type": "code",
   "execution_count": null,
   "metadata": {},
   "outputs": [],
   "source": [
    "# save change\n",
    "gdf.to_file(\"path_to_new_shapefile.shp\")"
   ]
  },
  {
   "cell_type": "code",
   "execution_count": null,
   "metadata": {},
   "outputs": [],
   "source": [
    "# visualization\n",
    "gdf.plot()"
   ]
  },
  {
   "cell_type": "markdown",
   "metadata": {},
   "source": [
    "# merge"
   ]
  },
  {
   "cell_type": "code",
   "execution_count": null,
   "metadata": {},
   "outputs": [],
   "source": [
    "# 创建一个空的 GeoDataFrame\n",
    "combined_gdf = gpd.GeoDataFrame()\n",
    "\n",
    "# 遍历文件目录，加载所有 shapefile\n",
    "directory = \"/path/to/shapefiles/\"\n",
    "for filename in os.listdir(directory):\n",
    "    if filename.endswith(\".shp\"):\n",
    "        filepath = os.path.join(directory, filename)\n",
    "        gdf = gpd.read_file(filepath)\n",
    "        \n",
    "        # 如果坐标参考系不一致，进行转换\n",
    "        if combined_gdf.empty:\n",
    "            combined_gdf = gdf\n",
    "        else:\n",
    "            gdf = gdf.to_crs(combined_gdf.crs)\n",
    "            combined_gdf = combined_gdf.append(gdf, ignore_index=True)\n",
    "\n",
    "# 打印合并后的数据集信息\n",
    "print(combined_gdf.info())\n"
   ]
  }
 ],
 "metadata": {
  "language_info": {
   "name": "python"
  }
 },
 "nbformat": 4,
 "nbformat_minor": 2
}
