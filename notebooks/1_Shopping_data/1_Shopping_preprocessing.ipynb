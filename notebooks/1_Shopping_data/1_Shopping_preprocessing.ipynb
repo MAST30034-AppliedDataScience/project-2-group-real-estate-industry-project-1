{
 "cells": [
  {
   "cell_type": "code",
   "execution_count": 18,
   "metadata": {},
   "outputs": [],
   "source": [
    "import os\n",
    "from pyspark.sql import SparkSession, functions as F\n",
    "\n",
    "import sys\n",
    "current_dir = os.getcwd()\n",
    "scripts_path = os.path.join(current_dir, '../../scripts')\n",
    "sys.path.append(os.path.abspath(scripts_path))\n",
    "import preprocess_function as process"
   ]
  },
  {
   "cell_type": "code",
   "execution_count": 7,
   "metadata": {},
   "outputs": [],
   "source": [
    "# Create a spark session\n",
    "spark = (\n",
    "    SparkSession.builder.appName(\"MAST30034 Project 1\")\n",
    "    .config(\"spark.sql.repl.eagerEval.enabled\", True) \n",
    "    .config(\"spark.sql.parquet.cacheMetadata\", \"true\")\n",
    "    .config(\"spark.sql.session.timeZone\", \"Etc/UTC\")\n",
    "    .config(\"spark.executor.memory\", \"4g\") \\\n",
    "    .config(\"spark.driver.memory\", \"4g\") \\\n",
    "    .getOrCreate()\n",
    ")"
   ]
  },
  {
   "cell_type": "code",
   "execution_count": 8,
   "metadata": {},
   "outputs": [],
   "source": [
    "# Create folder to save dataset\n",
    "base_dir = '../../data/'\n",
    "landing_dir = os.path.join(base_dir, 'landing')\n",
    "raw_dir = os.path.join(base_dir, 'raw')\n",
    "\n",
    "if not os.path.exists(base_dir):\n",
    "    os.makedirs(base_dir)\n",
    "\n",
    "\n",
    "subfolder = 'Supermarkets'\n",
    "\n",
    "\n",
    "if not os.path.exists(os.path.join(raw_dir, subfolder)):\n",
    "    os.makedirs(os.path.join(raw_dir, subfolder))"
   ]
  },
  {
   "cell_type": "code",
   "execution_count": 9,
   "metadata": {},
   "outputs": [],
   "source": [
    "sdf = spark.read.parquet(f\"{landing_dir}/{subfolder}/supermarkets_with_postcode.parquet\")\n"
   ]
  },
  {
   "cell_type": "code",
   "execution_count": 10,
   "metadata": {},
   "outputs": [
    {
     "data": {
      "text/html": [
       "<table border='1'>\n",
       "<tr><th>Supermarket Name</th><th>Address</th><th>Suburb</th><th>Postcode</th></tr>\n",
       "<tr><td>Aldi</td><td>8 Franklin Street...</td><td>Melbourne</td><td>3000</td></tr>\n",
       "<tr><td>Coles</td><td>2 Elizabeth Stree...</td><td>Melbourne</td><td>3915</td></tr>\n",
       "<tr><td>Coles</td><td>Melbourne Central...</td><td>Melbourne</td><td>3000</td></tr>\n",
       "<tr><td>Friendly Grocer</td><td>Shop 1, 360 Colli...</td><td>Melbourne</td><td>3429</td></tr>\n",
       "<tr><td>IGA</td><td>470 Collins Stree...</td><td>Melbourne</td><td>3000</td></tr>\n",
       "</table>\n"
      ],
      "text/plain": [
       "+----------------+--------------------+---------+--------+\n",
       "|Supermarket Name|             Address|   Suburb|Postcode|\n",
       "+----------------+--------------------+---------+--------+\n",
       "|            Aldi|8 Franklin Street...|Melbourne|    3000|\n",
       "|           Coles|2 Elizabeth Stree...|Melbourne|    3915|\n",
       "|           Coles|Melbourne Central...|Melbourne|    3000|\n",
       "| Friendly Grocer|Shop 1, 360 Colli...|Melbourne|    3429|\n",
       "|             IGA|470 Collins Stree...|Melbourne|    3000|\n",
       "+----------------+--------------------+---------+--------+"
      ]
     },
     "execution_count": 10,
     "metadata": {},
     "output_type": "execute_result"
    }
   ],
   "source": [
    "sdf.limit(5)"
   ]
  },
  {
   "cell_type": "code",
   "execution_count": 11,
   "metadata": {},
   "outputs": [
    {
     "name": "stdout",
     "output_type": "stream",
     "text": [
      "root\n",
      " |-- Supermarket Name: string (nullable = true)\n",
      " |-- Address: string (nullable = true)\n",
      " |-- Suburb: string (nullable = true)\n",
      " |-- Postcode: string (nullable = true)\n",
      "\n"
     ]
    }
   ],
   "source": [
    "sdf.printSchema()"
   ]
  },
  {
   "cell_type": "code",
   "execution_count": 12,
   "metadata": {},
   "outputs": [
    {
     "name": "stdout",
     "output_type": "stream",
     "text": [
      "Shape of original dataset:  - Shape: (173 rows, 4 columns)\n"
     ]
    }
   ],
   "source": [
    "# dataset shape\n",
    "process.print_dataset_shape(f\"Shape of original dataset: \", sdf)"
   ]
  },
  {
   "cell_type": "code",
   "execution_count": 14,
   "metadata": {},
   "outputs": [
    {
     "name": "stdout",
     "output_type": "stream",
     "text": [
      "Missing values:\n",
      " - Postcode: 1 missing values\n"
     ]
    }
   ],
   "source": [
    "# check missing value\n",
    "missing = process.check_missing_values(sdf)"
   ]
  },
  {
   "cell_type": "code",
   "execution_count": 17,
   "metadata": {},
   "outputs": [
    {
     "data": {
      "text/html": [
       "<div>\n",
       "<style scoped>\n",
       "    .dataframe tbody tr th:only-of-type {\n",
       "        vertical-align: middle;\n",
       "    }\n",
       "\n",
       "    .dataframe tbody tr th {\n",
       "        vertical-align: top;\n",
       "    }\n",
       "\n",
       "    .dataframe thead th {\n",
       "        text-align: right;\n",
       "    }\n",
       "</style>\n",
       "<table border=\"1\" class=\"dataframe\">\n",
       "  <thead>\n",
       "    <tr style=\"text-align: right;\">\n",
       "      <th></th>\n",
       "      <th>Supermarket Name</th>\n",
       "      <th>Address</th>\n",
       "      <th>Suburb</th>\n",
       "      <th>Postcode</th>\n",
       "    </tr>\n",
       "  </thead>\n",
       "  <tbody>\n",
       "    <tr>\n",
       "      <th>0</th>\n",
       "      <td>IGA</td>\n",
       "      <td>Alira Village, 36 Adakite Drive, Berwick</td>\n",
       "      <td>Berwick</td>\n",
       "      <td>None</td>\n",
       "    </tr>\n",
       "  </tbody>\n",
       "</table>\n",
       "</div>"
      ],
      "text/plain": [
       "  Supermarket Name                                   Address   Suburb Postcode\n",
       "0              IGA  Alira Village, 36 Adakite Drive, Berwick  Berwick     None"
      ]
     },
     "execution_count": 17,
     "metadata": {},
     "output_type": "execute_result"
    }
   ],
   "source": [
    "missing_postcode_data = sdf.filter(sdf['Postcode'].isNull()).toPandas()\n",
    "missing_postcode_data\n"
   ]
  },
  {
   "cell_type": "code",
   "execution_count": 19,
   "metadata": {},
   "outputs": [
    {
     "name": "stdout",
     "output_type": "stream",
     "text": [
      "+--------------------+--------------------+-----------+--------+\n",
      "|    Supermarket Name|             Address|     Suburb|Postcode|\n",
      "+--------------------+--------------------+-----------+--------+\n",
      "|                Aldi|8 Franklin Street...|  Melbourne|    3000|\n",
      "|               Coles|2 Elizabeth Stree...|  Melbourne|    3915|\n",
      "|               Coles|Melbourne Central...|  Melbourne|    3000|\n",
      "|     Friendly Grocer|Shop 1, 360 Colli...|  Melbourne|    3429|\n",
      "|                 IGA|470 Collins Stree...|  Melbourne|    3000|\n",
      "|                 IGA|19 Commercial Roa...|  Melbourne|    3168|\n",
      "|                 IGA|333 Exhibition St...|  Melbourne|    3000|\n",
      "|                 IGA|84 Flinders Stree...|  Melbourne|    3000|\n",
      "|                 IGA|35-41 Lonsdale St...|  Melbourne|    3175|\n",
      "|                 IGA|85 Queen Street, ...|  Melbourne|    3931|\n",
      "|          Woolworths|600 Bourke Street...|  Melbourne|    3000|\n",
      "|          Woolworths|60 Elizabeth Stre...|  Melbourne|    3121|\n",
      "|          Woolworths|388 Elizabeth Str...|  Melbourne|    3000|\n",
      "|          Woolworths|611 Elizabeth Str...|  Melbourne|    3000|\n",
      "|          Woolworths|222 Exhibition St...|  Melbourne|    3000|\n",
      "|          Woolworths|262 Flinders Stre...|  Melbourne|    3008|\n",
      "|          Woolworths|QV, 210 Lonsdale ...|  Melbourne|    3000|\n",
      "|          Woolworths|374 Queen Street,...|  Melbourne|    3931|\n",
      "|Albert Park Super...|189 Victoria Aven...|Albert Park|    3206|\n",
      "|           FoodWorks|133 Dundas Place,...|Albert Park|    3206|\n",
      "+--------------------+--------------------+-----------+--------+\n",
      "only showing top 20 rows\n",
      "\n"
     ]
    }
   ],
   "source": [
    "# Manually searched for the postcode corresponding to \"36 Adakite Dr, Berwick\" and filling it in for the missing value\n",
    "sdf_filled = sdf.withColumn(\n",
    "    'Postcode', \n",
    "    F.when(\n",
    "        (sdf['Address'] == 'Alira Village, 36 Adakite Drive, Berwick') & sdf['Postcode'].isNull(), '3806'\n",
    "    ).otherwise(sdf['Postcode'])\n",
    ")\n",
    "\n",
    "# Display the updated data\n",
    "sdf_filled.show()\n"
   ]
  },
  {
   "cell_type": "code",
   "execution_count": 20,
   "metadata": {},
   "outputs": [
    {
     "data": {
      "text/plain": [
       "{}"
      ]
     },
     "execution_count": 20,
     "metadata": {},
     "output_type": "execute_result"
    }
   ],
   "source": [
    "process.check_missing_values(sdf_filled)"
   ]
  },
  {
   "cell_type": "code",
   "execution_count": 21,
   "metadata": {},
   "outputs": [
    {
     "name": "stdout",
     "output_type": "stream",
     "text": [
      "Finished processing and saving data:  - Shape: (173 rows, 4 columns)\n"
     ]
    },
    {
     "data": {
      "text/html": [
       "<table border='1'>\n",
       "<tr><th>Supermarket Name</th><th>Address</th><th>Suburb</th><th>Postcode</th></tr>\n",
       "<tr><td>Aldi</td><td>8 Franklin Street...</td><td>Melbourne</td><td>3000</td></tr>\n",
       "<tr><td>Coles</td><td>2 Elizabeth Stree...</td><td>Melbourne</td><td>3915</td></tr>\n",
       "<tr><td>Coles</td><td>Melbourne Central...</td><td>Melbourne</td><td>3000</td></tr>\n",
       "<tr><td>Friendly Grocer</td><td>Shop 1, 360 Colli...</td><td>Melbourne</td><td>3429</td></tr>\n",
       "<tr><td>IGA</td><td>470 Collins Stree...</td><td>Melbourne</td><td>3000</td></tr>\n",
       "</table>\n"
      ],
      "text/plain": [
       "+----------------+--------------------+---------+--------+\n",
       "|Supermarket Name|             Address|   Suburb|Postcode|\n",
       "+----------------+--------------------+---------+--------+\n",
       "|            Aldi|8 Franklin Street...|Melbourne|    3000|\n",
       "|           Coles|2 Elizabeth Stree...|Melbourne|    3915|\n",
       "|           Coles|Melbourne Central...|Melbourne|    3000|\n",
       "| Friendly Grocer|Shop 1, 360 Colli...|Melbourne|    3429|\n",
       "|             IGA|470 Collins Stree...|Melbourne|    3000|\n",
       "+----------------+--------------------+---------+--------+"
      ]
     },
     "execution_count": 21,
     "metadata": {},
     "output_type": "execute_result"
    }
   ],
   "source": [
    "# save data\n",
    "output_file_path = f\"{raw_dir}/{subfolder}/supermarkets_info.parquet\"\n",
    "sdf_filled.write.mode(\"overwrite\").parquet(output_file_path)\n",
    "    \n",
    "process.print_dataset_shape(f\"Finished processing and saving data: \", sdf_filled)\n",
    "sdf_filled.limit(5)"
   ]
  }
 ],
 "metadata": {
  "kernelspec": {
   "display_name": "myenv2",
   "language": "python",
   "name": "python3"
  },
  "language_info": {
   "codemirror_mode": {
    "name": "ipython",
    "version": 3
   },
   "file_extension": ".py",
   "mimetype": "text/x-python",
   "name": "python",
   "nbconvert_exporter": "python",
   "pygments_lexer": "ipython3",
   "version": "3.10.13"
  }
 },
 "nbformat": 4,
 "nbformat_minor": 2
}
