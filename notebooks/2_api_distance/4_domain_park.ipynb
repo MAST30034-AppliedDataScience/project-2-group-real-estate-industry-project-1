{
 "cells": [
  {
   "cell_type": "markdown",
   "id": "cfd50e61-5b7f-4cb0-bc5a-0d0bf338b4fe",
   "metadata": {},
   "source": [
    "### This file is dedicated to calculate route distance from each property to nearest park/reserve\n",
    "\n",
    "Created by Yuecheng Wang 13-09-2024"
   ]
  },
  {
   "cell_type": "code",
   "execution_count": 2,
   "id": "5408d99b-cbe4-49f1-9b5e-6d223be304a4",
   "metadata": {},
   "outputs": [],
   "source": [
    "import pandas as pd\n",
    "import numpy as np\n",
    "from tqdm import tqdm"
   ]
  },
  {
   "cell_type": "code",
   "execution_count": 3,
   "id": "81aaa2f9-19b4-4488-828a-6b6080315572",
   "metadata": {},
   "outputs": [],
   "source": [
    "# import scripts for api calculation\n",
    "import sys\n",
    "import os\n",
    "\n",
    "# Add the scripts folder to the Python path\n",
    "scripts_path = os.path.abspath('../../scripts')\n",
    "\n",
    "if scripts_path not in sys.path:\n",
    "    sys.path.append(scripts_path)\n",
    "\n",
    "from api_function import parse_coordinate, calculate_distance_car, find_closest_hospital"
   ]
  },
  {
   "cell_type": "code",
   "execution_count": 4,
   "id": "0db59d94-dffc-4a46-a277-e7f892f18372",
   "metadata": {},
   "outputs": [],
   "source": [
    "park = pd.read_csv('../../data/raw/three_external/park_data_cleaned.csv')"
   ]
  },
  {
   "cell_type": "code",
   "execution_count": 5,
   "id": "003bb1fd-3846-4add-8750-09bff386bda6",
   "metadata": {},
   "outputs": [
    {
     "data": {
      "text/html": [
       "<div>\n",
       "<style scoped>\n",
       "    .dataframe tbody tr th:only-of-type {\n",
       "        vertical-align: middle;\n",
       "    }\n",
       "\n",
       "    .dataframe tbody tr th {\n",
       "        vertical-align: top;\n",
       "    }\n",
       "\n",
       "    .dataframe thead th {\n",
       "        text-align: right;\n",
       "    }\n",
       "</style>\n",
       "<table border=\"1\" class=\"dataframe\">\n",
       "  <thead>\n",
       "    <tr style=\"text-align: right;\">\n",
       "      <th></th>\n",
       "      <th>NAME</th>\n",
       "      <th>FEATSUBTYP</th>\n",
       "      <th>latitude</th>\n",
       "      <th>longitude</th>\n",
       "    </tr>\n",
       "  </thead>\n",
       "  <tbody>\n",
       "    <tr>\n",
       "      <th>0</th>\n",
       "      <td>CATANI GARDENS</td>\n",
       "      <td>park</td>\n",
       "      <td>-37.861552</td>\n",
       "      <td>144.971729</td>\n",
       "    </tr>\n",
       "    <tr>\n",
       "      <th>1</th>\n",
       "      <td>LIONS PARK</td>\n",
       "      <td>park</td>\n",
       "      <td>-36.727705</td>\n",
       "      <td>146.962615</td>\n",
       "    </tr>\n",
       "    <tr>\n",
       "      <th>2</th>\n",
       "      <td>GILLIFLOWER STREET PARK</td>\n",
       "      <td>park</td>\n",
       "      <td>-37.820009</td>\n",
       "      <td>144.660309</td>\n",
       "    </tr>\n",
       "    <tr>\n",
       "      <th>3</th>\n",
       "      <td>ADRIAN DANAHER RESERVE</td>\n",
       "      <td>park</td>\n",
       "      <td>-37.836475</td>\n",
       "      <td>145.202112</td>\n",
       "    </tr>\n",
       "    <tr>\n",
       "      <th>4</th>\n",
       "      <td>BELEURA PARK</td>\n",
       "      <td>park</td>\n",
       "      <td>-38.221566</td>\n",
       "      <td>145.054413</td>\n",
       "    </tr>\n",
       "  </tbody>\n",
       "</table>\n",
       "</div>"
      ],
      "text/plain": [
       "                      NAME FEATSUBTYP   latitude   longitude\n",
       "0           CATANI GARDENS       park -37.861552  144.971729\n",
       "1               LIONS PARK       park -36.727705  146.962615\n",
       "2  GILLIFLOWER STREET PARK       park -37.820009  144.660309\n",
       "3   ADRIAN DANAHER RESERVE       park -37.836475  145.202112\n",
       "4             BELEURA PARK       park -38.221566  145.054413"
      ]
     },
     "execution_count": 5,
     "metadata": {},
     "output_type": "execute_result"
    }
   ],
   "source": [
    "park.head(5)"
   ]
  },
  {
   "cell_type": "code",
   "execution_count": 6,
   "id": "e637a795-f43b-47f6-bd1b-7d0d870dcf8a",
   "metadata": {},
   "outputs": [],
   "source": [
    "# readin domain data\n",
    "file_path = \"../../data/raw/domain/all_postcodes.csv\"\n",
    "domain_data = pd.read_csv(file_path)"
   ]
  },
  {
   "cell_type": "code",
   "execution_count": null,
   "id": "19853c1d-0c1b-47f6-b4d9-3a13c57000f4",
   "metadata": {},
   "outputs": [],
   "source": [
    "# test on first 5\n",
    "sample_domain = domain_data.head(5)"
   ]
  }
 ],
 "metadata": {
  "kernelspec": {
   "display_name": "Python 3 (ipykernel)",
   "language": "python",
   "name": "python3"
  },
  "language_info": {
   "codemirror_mode": {
    "name": "ipython",
    "version": 3
   },
   "file_extension": ".py",
   "mimetype": "text/x-python",
   "name": "python",
   "nbconvert_exporter": "python",
   "pygments_lexer": "ipython3",
   "version": "3.11.9"
  }
 },
 "nbformat": 4,
 "nbformat_minor": 5
}
