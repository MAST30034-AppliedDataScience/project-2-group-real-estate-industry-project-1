{
 "cells": [
  {
   "cell_type": "markdown",
   "id": "fab89e83-3b5a-4314-a883-36db69fec471",
   "metadata": {},
   "source": [
    "### This file is dedicated to calculate distance of individual property to cbd using online routing services via API calls\n",
    "Created by Yuecheng Wang, 12-09-2024"
   ]
  },
  {
   "cell_type": "code",
   "execution_count": 1,
   "id": "2badec1b-e76a-415f-a1ea-db3f17dba55b",
   "metadata": {},
   "outputs": [],
   "source": [
    "import pandas as pd \n",
    "from tqdm import tqdm"
   ]
  },
  {
   "cell_type": "code",
   "execution_count": 2,
   "id": "16456d04-d31d-4d85-879d-1be9118b12e1",
   "metadata": {},
   "outputs": [],
   "source": [
    "# import scripts for api calculation\n",
    "import sys\n",
    "import os\n",
    "\n",
    "# Add the scripts folder to the Python path\n",
    "scripts_path = os.path.abspath('../../scripts')\n",
    "\n",
    "if scripts_path not in sys.path:\n",
    "    sys.path.append(scripts_path)\n",
    "\n",
    "from api_function import parse_coordinate, calculate_distance_car"
   ]
  },
  {
   "cell_type": "code",
   "execution_count": 3,
   "id": "22b52f76-25df-44f0-8999-58a806f1acc2",
   "metadata": {},
   "outputs": [],
   "source": [
    "# Melbourne CBD coordinate\n",
    "# this is literally found from type Melbourne CBD coord on Google: 37.8136° S, 144.9631° E\n",
    "melb_coord = [-37.8136, 144.9631]"
   ]
  },
  {
   "cell_type": "code",
   "execution_count": 4,
   "id": "e029c3a9-1b07-4146-ac2f-a79dcba83ea0",
   "metadata": {},
   "outputs": [],
   "source": [
    "# using https://project-osrm.org/ for calculate route\n",
    "api_base_url = \"https://project-osrm.org\"\n",
    "\n",
    "# dataset \n",
    "file_path = \"../../data/raw/domain/all_postcodes.csv\"\n",
    "domain_data = pd.read_csv(file_path)"
   ]
  },
  {
   "cell_type": "code",
   "execution_count": 5,
   "id": "2ab4196b-eedf-4347-a607-e5a610062754",
   "metadata": {
    "scrolled": true
   },
   "outputs": [
    {
     "name": "stdout",
     "output_type": "stream",
     "text": [
      "<class 'pandas.core.frame.DataFrame'>\n",
      "RangeIndex: 8002 entries, 0 to 8001\n",
      "Data columns (total 12 columns):\n",
      " #   Column                        Non-Null Count  Dtype  \n",
      "---  ------                        --------------  -----  \n",
      " 0   Address                       8002 non-null   object \n",
      " 1   Cost                          8002 non-null   object \n",
      " 2   Bedrooms                      7979 non-null   float64\n",
      " 3   Bathrooms                     7979 non-null   float64\n",
      " 4   Coordinates                   8002 non-null   object \n",
      " 5   Closest Gov Secondary School  6907 non-null   object \n",
      " 6   Gov Secondary Distance        6907 non-null   object \n",
      " 7   Age under 20                  7802 non-null   object \n",
      " 8   Age 20-39                     7802 non-null   object \n",
      " 9   Age 40-59                     7802 non-null   object \n",
      " 10  Age 60+                       7802 non-null   object \n",
      " 11  Postcode                      8002 non-null   int64  \n",
      "dtypes: float64(2), int64(1), object(9)\n",
      "memory usage: 750.3+ KB\n"
     ]
    }
   ],
   "source": [
    "domain_data.info()"
   ]
  },
  {
   "cell_type": "markdown",
   "id": "cfddcd17-cd35-48a6-a153-89fe6d1f4734",
   "metadata": {},
   "source": [
    "as all coordinates are present, we use all data \\\n",
    "first, try with first 5"
   ]
  },
  {
   "cell_type": "code",
   "execution_count": 6,
   "id": "20978383-b2ec-430a-95d7-eb15ad6a1faa",
   "metadata": {},
   "outputs": [],
   "source": [
    "sample_properties = domain_data.head(5).copy()"
   ]
  },
  {
   "cell_type": "code",
   "execution_count": 7,
   "id": "c4c86049-899a-4795-97ed-350142ff9737",
   "metadata": {},
   "outputs": [],
   "source": [
    "sample_properties['CBD distance(km)'] = sample_properties.apply(calculate_distance_car, des_coords=melb_coord, axis=1)"
   ]
  },
  {
   "cell_type": "code",
   "execution_count": 8,
   "id": "a8bad783-b5a8-4647-88ac-32d661b94126",
   "metadata": {},
   "outputs": [
    {
     "data": {
      "text/html": [
       "<div>\n",
       "<style scoped>\n",
       "    .dataframe tbody tr th:only-of-type {\n",
       "        vertical-align: middle;\n",
       "    }\n",
       "\n",
       "    .dataframe tbody tr th {\n",
       "        vertical-align: top;\n",
       "    }\n",
       "\n",
       "    .dataframe thead th {\n",
       "        text-align: right;\n",
       "    }\n",
       "</style>\n",
       "<table border=\"1\" class=\"dataframe\">\n",
       "  <thead>\n",
       "    <tr style=\"text-align: right;\">\n",
       "      <th></th>\n",
       "      <th>Address</th>\n",
       "      <th>Cost</th>\n",
       "      <th>Bedrooms</th>\n",
       "      <th>Bathrooms</th>\n",
       "      <th>Coordinates</th>\n",
       "      <th>Closest Gov Secondary School</th>\n",
       "      <th>Gov Secondary Distance</th>\n",
       "      <th>Age under 20</th>\n",
       "      <th>Age 20-39</th>\n",
       "      <th>Age 40-59</th>\n",
       "      <th>Age 60+</th>\n",
       "      <th>Postcode</th>\n",
       "      <th>CBD distance(km)</th>\n",
       "    </tr>\n",
       "  </thead>\n",
       "  <tbody>\n",
       "    <tr>\n",
       "      <th>0</th>\n",
       "      <td>901/22-40 Wills Street, Melbourne VIC 3000</td>\n",
       "      <td>$600 per week</td>\n",
       "      <td>1.0</td>\n",
       "      <td>1.0</td>\n",
       "      <td>[-37.8107551, 144.9570001]</td>\n",
       "      <td>University High School</td>\n",
       "      <td>1.5 km away</td>\n",
       "      <td>8%</td>\n",
       "      <td>77%</td>\n",
       "      <td>12%</td>\n",
       "      <td>3%</td>\n",
       "      <td>3000</td>\n",
       "      <td>0.9271</td>\n",
       "    </tr>\n",
       "    <tr>\n",
       "      <th>1</th>\n",
       "      <td>1207/270 King Street, Melbourne VIC 3000</td>\n",
       "      <td>$720 per week</td>\n",
       "      <td>2.0</td>\n",
       "      <td>2.0</td>\n",
       "      <td>[-37.8136918, 144.9548583]</td>\n",
       "      <td>University High School</td>\n",
       "      <td>1.9 km away</td>\n",
       "      <td>6%</td>\n",
       "      <td>83%</td>\n",
       "      <td>10%</td>\n",
       "      <td>1%</td>\n",
       "      <td>3000</td>\n",
       "      <td>0.9381</td>\n",
       "    </tr>\n",
       "    <tr>\n",
       "      <th>2</th>\n",
       "      <td>5809/442 ELIZABETH STREET, Melbourne VIC 3000</td>\n",
       "      <td>$850 Per Week ( Fully Furnished)</td>\n",
       "      <td>2.0</td>\n",
       "      <td>1.0</td>\n",
       "      <td>[-37.8084101, 144.9607759]</td>\n",
       "      <td>University High School</td>\n",
       "      <td>1.3 km away</td>\n",
       "      <td>3%</td>\n",
       "      <td>90%</td>\n",
       "      <td>7%</td>\n",
       "      <td>0%</td>\n",
       "      <td>3000</td>\n",
       "      <td>0.6115</td>\n",
       "    </tr>\n",
       "    <tr>\n",
       "      <th>3</th>\n",
       "      <td>2112/80 A'beckett Street, Melbourne VIC 3000</td>\n",
       "      <td>$700 per week</td>\n",
       "      <td>2.0</td>\n",
       "      <td>2.0</td>\n",
       "      <td>[-37.8089991, 144.9610792]</td>\n",
       "      <td>University High School</td>\n",
       "      <td>1.4 km away</td>\n",
       "      <td>3%</td>\n",
       "      <td>90%</td>\n",
       "      <td>7%</td>\n",
       "      <td>0%</td>\n",
       "      <td>3000</td>\n",
       "      <td>0.5422</td>\n",
       "    </tr>\n",
       "    <tr>\n",
       "      <th>4</th>\n",
       "      <td>1210/81 A'beckett Street, Melbourne VIC 3000</td>\n",
       "      <td>$650 weekly</td>\n",
       "      <td>2.0</td>\n",
       "      <td>1.0</td>\n",
       "      <td>[-37.8092536, 144.961181]</td>\n",
       "      <td>University High School</td>\n",
       "      <td>1.4 km away</td>\n",
       "      <td>6%</td>\n",
       "      <td>79%</td>\n",
       "      <td>12%</td>\n",
       "      <td>3%</td>\n",
       "      <td>3000</td>\n",
       "      <td>0.5421</td>\n",
       "    </tr>\n",
       "  </tbody>\n",
       "</table>\n",
       "</div>"
      ],
      "text/plain": [
       "                                         Address  \\\n",
       "0     901/22-40 Wills Street, Melbourne VIC 3000   \n",
       "1       1207/270 King Street, Melbourne VIC 3000   \n",
       "2  5809/442 ELIZABETH STREET, Melbourne VIC 3000   \n",
       "3   2112/80 A'beckett Street, Melbourne VIC 3000   \n",
       "4   1210/81 A'beckett Street, Melbourne VIC 3000   \n",
       "\n",
       "                               Cost  Bedrooms  Bathrooms  \\\n",
       "0                     $600 per week       1.0        1.0   \n",
       "1                     $720 per week       2.0        2.0   \n",
       "2  $850 Per Week ( Fully Furnished)       2.0        1.0   \n",
       "3                     $700 per week       2.0        2.0   \n",
       "4                       $650 weekly       2.0        1.0   \n",
       "\n",
       "                  Coordinates Closest Gov Secondary School  \\\n",
       "0  [-37.8107551, 144.9570001]       University High School   \n",
       "1  [-37.8136918, 144.9548583]       University High School   \n",
       "2  [-37.8084101, 144.9607759]       University High School   \n",
       "3  [-37.8089991, 144.9610792]       University High School   \n",
       "4   [-37.8092536, 144.961181]       University High School   \n",
       "\n",
       "  Gov Secondary Distance Age under 20 Age 20-39 Age 40-59 Age 60+  Postcode  \\\n",
       "0            1.5 km away           8%       77%       12%      3%      3000   \n",
       "1            1.9 km away           6%       83%       10%      1%      3000   \n",
       "2            1.3 km away           3%       90%        7%      0%      3000   \n",
       "3            1.4 km away           3%       90%        7%      0%      3000   \n",
       "4            1.4 km away           6%       79%       12%      3%      3000   \n",
       "\n",
       "   CBD distance(km)  \n",
       "0            0.9271  \n",
       "1            0.9381  \n",
       "2            0.6115  \n",
       "3            0.5422  \n",
       "4            0.5421  "
      ]
     },
     "execution_count": 8,
     "metadata": {},
     "output_type": "execute_result"
    }
   ],
   "source": [
    "sample_properties"
   ]
  },
  {
   "cell_type": "markdown",
   "id": "0bf47a1d-b423-4d67-a0ee-8a379e5681bf",
   "metadata": {},
   "source": [
    "This works fine, now, do it with full dataset to include CBD there."
   ]
  },
  {
   "cell_type": "code",
   "execution_count": 9,
   "id": "4c49a663-6c1f-4833-8e13-1f77c456e278",
   "metadata": {},
   "outputs": [
    {
     "name": "stderr",
     "output_type": "stream",
     "text": [
      "  3%|██▋                                                                           | 274/8002 [05:38<2:35:46,  1.21s/it]"
     ]
    },
    {
     "name": "stdout",
     "output_type": "stream",
     "text": [
      "Error fetching route data: 400 Client Error: Bad Request for url: http://router.project-osrm.org/route/v1/driving/0.0,0.0;144.9631,-37.8136?overview=false&alternatives=false&steps=false&annotations=distance\n"
     ]
    },
    {
     "name": "stderr",
     "output_type": "stream",
     "text": [
      " 99%|████████████████████████████████████████████████████████████████████████████ | 7910/8002 [2:44:47<01:51,  1.21s/it]"
     ]
    },
    {
     "name": "stdout",
     "output_type": "stream",
     "text": [
      "Error fetching route data: 400 Client Error: Bad Request for url: http://router.project-osrm.org/route/v1/driving/0.0,0.0;144.9631,-37.8136?overview=false&alternatives=false&steps=false&annotations=distance\n"
     ]
    },
    {
     "name": "stderr",
     "output_type": "stream",
     "text": [
      "100%|█████████████████████████████████████████████████████████████████████████████| 8002/8002 [2:46:46<00:00,  1.25s/it]\n"
     ]
    }
   ],
   "source": [
    "tqdm.pandas()\n",
    "\n",
    "CBD_distance = domain_data.progress_apply(calculate_distance_car, des_coords=melb_coord, axis=1)\n",
    "\n",
    "# Store distance as independent file for merge later\n",
    "CBD_distance_df = CBD_distance.to_frame(name='CBD distance(km)')"
   ]
  },
  {
   "cell_type": "markdown",
   "id": "3069f230-a01b-4f91-bd99-afccb3e99cc9",
   "metadata": {},
   "source": [
    "Once finish, store in a new dataset."
   ]
  },
  {
   "cell_type": "code",
   "execution_count": 11,
   "id": "04f8248c-e85d-4c65-8d8c-c72fd533f3d0",
   "metadata": {},
   "outputs": [],
   "source": [
    "CBD_distance_df.to_csv('../../data/raw/domain/cbd_distance.csv', index=False)"
   ]
  }
 ],
 "metadata": {
  "kernelspec": {
   "display_name": "Python 3 (ipykernel)",
   "language": "python",
   "name": "python3"
  },
  "language_info": {
   "codemirror_mode": {
    "name": "ipython",
    "version": 3
   },
   "file_extension": ".py",
   "mimetype": "text/x-python",
   "name": "python",
   "nbconvert_exporter": "python",
   "pygments_lexer": "ipython3",
   "version": "3.11.9"
  }
 },
 "nbformat": 4,
 "nbformat_minor": 5
}
