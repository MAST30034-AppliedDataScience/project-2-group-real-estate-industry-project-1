{
 "cells": [
  {
   "cell_type": "markdown",
   "id": "fab89e83-3b5a-4314-a883-36db69fec471",
   "metadata": {},
   "source": [
    "### This file is dedicated to calculate distance of individual property to cbd using online routing services via API calls\n",
    "Created by Yuecheng Wang, 12-09-2024"
   ]
  },
  {
   "cell_type": "code",
   "execution_count": 1,
   "id": "2badec1b-e76a-415f-a1ea-db3f17dba55b",
   "metadata": {},
   "outputs": [],
   "source": [
    "import pandas as pd \n",
    "from tqdm import tqdm"
   ]
  },
  {
   "cell_type": "code",
   "execution_count": 2,
   "id": "16456d04-d31d-4d85-879d-1be9118b12e1",
   "metadata": {},
   "outputs": [],
   "source": [
    "# import scripts for api calculation\n",
    "import sys\n",
    "import os\n",
    "\n",
    "# Add the scripts folder to the Python path\n",
    "scripts_path = os.path.abspath('../../scripts')\n",
    "\n",
    "if scripts_path not in sys.path:\n",
    "    sys.path.append(scripts_path)\n",
    "\n",
    "from api_function import calculate_distance_car"
   ]
  },
  {
   "cell_type": "code",
   "execution_count": 3,
   "id": "22b52f76-25df-44f0-8999-58a806f1acc2",
   "metadata": {},
   "outputs": [],
   "source": [
    "# Melbourne CBD coordinate\n",
    "# this is literally found from type Melbourne CBD coord on Google: 37.8136° S, 144.9631° E\n",
    "melb_coord = [-37.8136, 144.9631]"
   ]
  },
  {
   "cell_type": "code",
   "execution_count": 4,
   "id": "e029c3a9-1b07-4146-ac2f-a79dcba83ea0",
   "metadata": {},
   "outputs": [],
   "source": [
    "# using https://project-osrm.org/ for calculate route\n",
    "api_base_url = \"https://project-osrm.org\"\n",
    "\n",
    "# dataset \n",
    "file_path = \"../../data/raw/domain/all_properties_preprocessed.csv\"\n",
    "domain_data = pd.read_csv(file_path)"
   ]
  },
  {
   "cell_type": "code",
   "execution_count": 5,
   "id": "2ab4196b-eedf-4347-a607-e5a610062754",
   "metadata": {
    "scrolled": true
   },
   "outputs": [
    {
     "name": "stdout",
     "output_type": "stream",
     "text": [
      "<class 'pandas.core.frame.DataFrame'>\n",
      "RangeIndex: 6283 entries, 0 to 6282\n",
      "Data columns (total 15 columns):\n",
      " #   Column                        Non-Null Count  Dtype  \n",
      "---  ------                        --------------  -----  \n",
      " 0   Unnamed: 0                    6283 non-null   int64  \n",
      " 1   Address                       6283 non-null   object \n",
      " 2   Cost                          6283 non-null   float64\n",
      " 3   Property Type                 6283 non-null   object \n",
      " 4   Bedrooms                      6283 non-null   int64  \n",
      " 5   Bathrooms                     6283 non-null   int64  \n",
      " 6   Latitude                      6283 non-null   float64\n",
      " 7   Longitude                     6283 non-null   float64\n",
      " 8   Closest Gov Secondary School  5468 non-null   object \n",
      " 9   Gov Secondary Distance        5468 non-null   object \n",
      " 10  Age under 20                  6210 non-null   object \n",
      " 11  Age 20-39                     6210 non-null   object \n",
      " 12  Age 40-59                     6210 non-null   object \n",
      " 13  Age 60+                       6210 non-null   object \n",
      " 14  Postcode                      6283 non-null   int64  \n",
      "dtypes: float64(3), int64(4), object(8)\n",
      "memory usage: 736.4+ KB\n"
     ]
    }
   ],
   "source": [
    "domain_data.info()"
   ]
  },
  {
   "cell_type": "markdown",
   "id": "cfddcd17-cd35-48a6-a153-89fe6d1f4734",
   "metadata": {},
   "source": [
    "as all coordinates are present, we use all data \\\n",
    "first, try with first 5"
   ]
  },
  {
   "cell_type": "code",
   "execution_count": 6,
   "id": "20978383-b2ec-430a-95d7-eb15ad6a1faa",
   "metadata": {},
   "outputs": [],
   "source": [
    "sample_properties = domain_data.head(5).copy()"
   ]
  },
  {
   "cell_type": "code",
   "execution_count": 7,
   "id": "c4c86049-899a-4795-97ed-350142ff9737",
   "metadata": {},
   "outputs": [],
   "source": [
    "sample_properties['CBD distance(km)'] = sample_properties.apply(calculate_distance_car, des_coords=melb_coord, axis=1)"
   ]
  },
  {
   "cell_type": "code",
   "execution_count": 8,
   "id": "a8bad783-b5a8-4647-88ac-32d661b94126",
   "metadata": {},
   "outputs": [
    {
     "data": {
      "text/html": [
       "<div>\n",
       "<style scoped>\n",
       "    .dataframe tbody tr th:only-of-type {\n",
       "        vertical-align: middle;\n",
       "    }\n",
       "\n",
       "    .dataframe tbody tr th {\n",
       "        vertical-align: top;\n",
       "    }\n",
       "\n",
       "    .dataframe thead th {\n",
       "        text-align: right;\n",
       "    }\n",
       "</style>\n",
       "<table border=\"1\" class=\"dataframe\">\n",
       "  <thead>\n",
       "    <tr style=\"text-align: right;\">\n",
       "      <th></th>\n",
       "      <th>Unnamed: 0</th>\n",
       "      <th>Address</th>\n",
       "      <th>Cost</th>\n",
       "      <th>Property Type</th>\n",
       "      <th>Bedrooms</th>\n",
       "      <th>Bathrooms</th>\n",
       "      <th>Latitude</th>\n",
       "      <th>Longitude</th>\n",
       "      <th>Closest Gov Secondary School</th>\n",
       "      <th>Gov Secondary Distance</th>\n",
       "      <th>Age under 20</th>\n",
       "      <th>Age 20-39</th>\n",
       "      <th>Age 40-59</th>\n",
       "      <th>Age 60+</th>\n",
       "      <th>Postcode</th>\n",
       "      <th>CBD distance(km)</th>\n",
       "    </tr>\n",
       "  </thead>\n",
       "  <tbody>\n",
       "    <tr>\n",
       "      <th>0</th>\n",
       "      <td>0</td>\n",
       "      <td>8/90 Hambleton Street, Middle Park VIC 3206</td>\n",
       "      <td>410.0</td>\n",
       "      <td>Apartment</td>\n",
       "      <td>1</td>\n",
       "      <td>1</td>\n",
       "      <td>-37.847553</td>\n",
       "      <td>144.960477</td>\n",
       "      <td>Albert Park College</td>\n",
       "      <td>1.2 km away</td>\n",
       "      <td>36%</td>\n",
       "      <td>15%</td>\n",
       "      <td>30%</td>\n",
       "      <td>19%</td>\n",
       "      <td>3206</td>\n",
       "      <td>4.9721</td>\n",
       "    </tr>\n",
       "    <tr>\n",
       "      <th>1</th>\n",
       "      <td>1</td>\n",
       "      <td>3/33 Bevan Street, Albert Park VIC 3206</td>\n",
       "      <td>550.0</td>\n",
       "      <td>Apartment</td>\n",
       "      <td>1</td>\n",
       "      <td>1</td>\n",
       "      <td>-37.839959</td>\n",
       "      <td>144.956373</td>\n",
       "      <td>Albert Park College</td>\n",
       "      <td>0.9 km away</td>\n",
       "      <td>28%</td>\n",
       "      <td>18%</td>\n",
       "      <td>28%</td>\n",
       "      <td>26%</td>\n",
       "      <td>3206</td>\n",
       "      <td>4.0862</td>\n",
       "    </tr>\n",
       "    <tr>\n",
       "      <th>2</th>\n",
       "      <td>3</td>\n",
       "      <td>7/7-9 Faussett Street, Albert Park VIC 3206</td>\n",
       "      <td>490.0</td>\n",
       "      <td>Apartment</td>\n",
       "      <td>1</td>\n",
       "      <td>1</td>\n",
       "      <td>-37.841670</td>\n",
       "      <td>144.955332</td>\n",
       "      <td>Albert Park College</td>\n",
       "      <td>0.8 km away</td>\n",
       "      <td>20%</td>\n",
       "      <td>26%</td>\n",
       "      <td>29%</td>\n",
       "      <td>25%</td>\n",
       "      <td>3206</td>\n",
       "      <td>4.4456</td>\n",
       "    </tr>\n",
       "    <tr>\n",
       "      <th>3</th>\n",
       "      <td>4</td>\n",
       "      <td>Albert Park VIC 3206</td>\n",
       "      <td>1280.0</td>\n",
       "      <td>Apartment</td>\n",
       "      <td>1</td>\n",
       "      <td>1</td>\n",
       "      <td>-37.843861</td>\n",
       "      <td>144.951454</td>\n",
       "      <td>Albert Park College</td>\n",
       "      <td>0.4 km away</td>\n",
       "      <td>17%</td>\n",
       "      <td>20%</td>\n",
       "      <td>36%</td>\n",
       "      <td>27%</td>\n",
       "      <td>3206</td>\n",
       "      <td>4.7979</td>\n",
       "    </tr>\n",
       "    <tr>\n",
       "      <th>4</th>\n",
       "      <td>5</td>\n",
       "      <td>214/363 Beaconsfield Parade, Middle Park VIC 3206</td>\n",
       "      <td>350.0</td>\n",
       "      <td>Apartment</td>\n",
       "      <td>1</td>\n",
       "      <td>1</td>\n",
       "      <td>-37.854035</td>\n",
       "      <td>144.961308</td>\n",
       "      <td>Albert Park College</td>\n",
       "      <td>1.6 km away</td>\n",
       "      <td>19%</td>\n",
       "      <td>24%</td>\n",
       "      <td>27%</td>\n",
       "      <td>29%</td>\n",
       "      <td>3206</td>\n",
       "      <td>5.8848</td>\n",
       "    </tr>\n",
       "  </tbody>\n",
       "</table>\n",
       "</div>"
      ],
      "text/plain": [
       "   Unnamed: 0                                            Address    Cost  \\\n",
       "0           0        8/90 Hambleton Street, Middle Park VIC 3206   410.0   \n",
       "1           1            3/33 Bevan Street, Albert Park VIC 3206   550.0   \n",
       "2           3        7/7-9 Faussett Street, Albert Park VIC 3206   490.0   \n",
       "3           4                               Albert Park VIC 3206  1280.0   \n",
       "4           5  214/363 Beaconsfield Parade, Middle Park VIC 3206   350.0   \n",
       "\n",
       "  Property Type  Bedrooms  Bathrooms   Latitude   Longitude  \\\n",
       "0     Apartment         1          1 -37.847553  144.960477   \n",
       "1     Apartment         1          1 -37.839959  144.956373   \n",
       "2     Apartment         1          1 -37.841670  144.955332   \n",
       "3     Apartment         1          1 -37.843861  144.951454   \n",
       "4     Apartment         1          1 -37.854035  144.961308   \n",
       "\n",
       "  Closest Gov Secondary School Gov Secondary Distance Age under 20 Age 20-39  \\\n",
       "0          Albert Park College            1.2 km away          36%       15%   \n",
       "1          Albert Park College            0.9 km away          28%       18%   \n",
       "2          Albert Park College            0.8 km away          20%       26%   \n",
       "3          Albert Park College            0.4 km away          17%       20%   \n",
       "4          Albert Park College            1.6 km away          19%       24%   \n",
       "\n",
       "  Age 40-59 Age 60+  Postcode  CBD distance(km)  \n",
       "0       30%     19%      3206            4.9721  \n",
       "1       28%     26%      3206            4.0862  \n",
       "2       29%     25%      3206            4.4456  \n",
       "3       36%     27%      3206            4.7979  \n",
       "4       27%     29%      3206            5.8848  "
      ]
     },
     "execution_count": 8,
     "metadata": {},
     "output_type": "execute_result"
    }
   ],
   "source": [
    "sample_properties"
   ]
  },
  {
   "cell_type": "markdown",
   "id": "0bf47a1d-b423-4d67-a0ee-8a379e5681bf",
   "metadata": {},
   "source": [
    "This works fine, now, do it with full dataset to include CBD there."
   ]
  },
  {
   "cell_type": "code",
   "execution_count": 9,
   "id": "4c49a663-6c1f-4833-8e13-1f77c456e278",
   "metadata": {},
   "outputs": [
    {
     "name": "stderr",
     "output_type": "stream",
     "text": [
      "  0%|▏                                                                              | 11/6283 [00:14<2:14:51,  1.29s/it]\n"
     ]
    },
    {
     "ename": "KeyboardInterrupt",
     "evalue": "",
     "output_type": "error",
     "traceback": [
      "\u001b[0;31m---------------------------------------------------------------------------\u001b[0m",
      "\u001b[0;31mKeyboardInterrupt\u001b[0m                         Traceback (most recent call last)",
      "Cell \u001b[0;32mIn[9], line 3\u001b[0m\n\u001b[1;32m      1\u001b[0m tqdm\u001b[38;5;241m.\u001b[39mpandas()\n\u001b[0;32m----> 3\u001b[0m CBD_distance \u001b[38;5;241m=\u001b[39m \u001b[43mdomain_data\u001b[49m\u001b[38;5;241;43m.\u001b[39;49m\u001b[43mprogress_apply\u001b[49m\u001b[43m(\u001b[49m\u001b[43mcalculate_distance_car\u001b[49m\u001b[43m,\u001b[49m\u001b[43m \u001b[49m\u001b[43mdes_coords\u001b[49m\u001b[38;5;241;43m=\u001b[39;49m\u001b[43mmelb_coord\u001b[49m\u001b[43m,\u001b[49m\u001b[43m \u001b[49m\u001b[43maxis\u001b[49m\u001b[38;5;241;43m=\u001b[39;49m\u001b[38;5;241;43m1\u001b[39;49m\u001b[43m)\u001b[49m\n\u001b[1;32m      5\u001b[0m \u001b[38;5;66;03m# Store distance as independent file for merge later\u001b[39;00m\n\u001b[1;32m      6\u001b[0m CBD_distance_df \u001b[38;5;241m=\u001b[39m CBD_distance\u001b[38;5;241m.\u001b[39mto_frame(name\u001b[38;5;241m=\u001b[39m\u001b[38;5;124m'\u001b[39m\u001b[38;5;124mCBD distance(km)\u001b[39m\u001b[38;5;124m'\u001b[39m)\n",
      "File \u001b[0;32m~/myenv/lib/python3.11/site-packages/tqdm/std.py:917\u001b[0m, in \u001b[0;36mtqdm.pandas.<locals>.inner_generator.<locals>.inner\u001b[0;34m(df, func, *args, **kwargs)\u001b[0m\n\u001b[1;32m    914\u001b[0m \u001b[38;5;66;03m# Apply the provided function (in **kwargs)\u001b[39;00m\n\u001b[1;32m    915\u001b[0m \u001b[38;5;66;03m# on the df using our wrapper (which provides bar updating)\u001b[39;00m\n\u001b[1;32m    916\u001b[0m \u001b[38;5;28;01mtry\u001b[39;00m:\n\u001b[0;32m--> 917\u001b[0m     \u001b[38;5;28;01mreturn\u001b[39;00m \u001b[38;5;28;43mgetattr\u001b[39;49m\u001b[43m(\u001b[49m\u001b[43mdf\u001b[49m\u001b[43m,\u001b[49m\u001b[43m \u001b[49m\u001b[43mdf_function\u001b[49m\u001b[43m)\u001b[49m\u001b[43m(\u001b[49m\u001b[43mwrapper\u001b[49m\u001b[43m,\u001b[49m\u001b[43m \u001b[49m\u001b[38;5;241;43m*\u001b[39;49m\u001b[38;5;241;43m*\u001b[39;49m\u001b[43mkwargs\u001b[49m\u001b[43m)\u001b[49m\n\u001b[1;32m    918\u001b[0m \u001b[38;5;28;01mfinally\u001b[39;00m:\n\u001b[1;32m    919\u001b[0m     t\u001b[38;5;241m.\u001b[39mclose()\n",
      "File \u001b[0;32m~/myenv/lib/python3.11/site-packages/pandas/core/frame.py:10374\u001b[0m, in \u001b[0;36mDataFrame.apply\u001b[0;34m(self, func, axis, raw, result_type, args, by_row, engine, engine_kwargs, **kwargs)\u001b[0m\n\u001b[1;32m  10360\u001b[0m \u001b[38;5;28;01mfrom\u001b[39;00m \u001b[38;5;21;01mpandas\u001b[39;00m\u001b[38;5;21;01m.\u001b[39;00m\u001b[38;5;21;01mcore\u001b[39;00m\u001b[38;5;21;01m.\u001b[39;00m\u001b[38;5;21;01mapply\u001b[39;00m \u001b[38;5;28;01mimport\u001b[39;00m frame_apply\n\u001b[1;32m  10362\u001b[0m op \u001b[38;5;241m=\u001b[39m frame_apply(\n\u001b[1;32m  10363\u001b[0m     \u001b[38;5;28mself\u001b[39m,\n\u001b[1;32m  10364\u001b[0m     func\u001b[38;5;241m=\u001b[39mfunc,\n\u001b[0;32m   (...)\u001b[0m\n\u001b[1;32m  10372\u001b[0m     kwargs\u001b[38;5;241m=\u001b[39mkwargs,\n\u001b[1;32m  10373\u001b[0m )\n\u001b[0;32m> 10374\u001b[0m \u001b[38;5;28;01mreturn\u001b[39;00m \u001b[43mop\u001b[49m\u001b[38;5;241;43m.\u001b[39;49m\u001b[43mapply\u001b[49m\u001b[43m(\u001b[49m\u001b[43m)\u001b[49m\u001b[38;5;241m.\u001b[39m__finalize__(\u001b[38;5;28mself\u001b[39m, method\u001b[38;5;241m=\u001b[39m\u001b[38;5;124m\"\u001b[39m\u001b[38;5;124mapply\u001b[39m\u001b[38;5;124m\"\u001b[39m)\n",
      "File \u001b[0;32m~/myenv/lib/python3.11/site-packages/pandas/core/apply.py:916\u001b[0m, in \u001b[0;36mFrameApply.apply\u001b[0;34m(self)\u001b[0m\n\u001b[1;32m    913\u001b[0m \u001b[38;5;28;01melif\u001b[39;00m \u001b[38;5;28mself\u001b[39m\u001b[38;5;241m.\u001b[39mraw:\n\u001b[1;32m    914\u001b[0m     \u001b[38;5;28;01mreturn\u001b[39;00m \u001b[38;5;28mself\u001b[39m\u001b[38;5;241m.\u001b[39mapply_raw(engine\u001b[38;5;241m=\u001b[39m\u001b[38;5;28mself\u001b[39m\u001b[38;5;241m.\u001b[39mengine, engine_kwargs\u001b[38;5;241m=\u001b[39m\u001b[38;5;28mself\u001b[39m\u001b[38;5;241m.\u001b[39mengine_kwargs)\n\u001b[0;32m--> 916\u001b[0m \u001b[38;5;28;01mreturn\u001b[39;00m \u001b[38;5;28;43mself\u001b[39;49m\u001b[38;5;241;43m.\u001b[39;49m\u001b[43mapply_standard\u001b[49m\u001b[43m(\u001b[49m\u001b[43m)\u001b[49m\n",
      "File \u001b[0;32m~/myenv/lib/python3.11/site-packages/pandas/core/apply.py:1063\u001b[0m, in \u001b[0;36mFrameApply.apply_standard\u001b[0;34m(self)\u001b[0m\n\u001b[1;32m   1061\u001b[0m \u001b[38;5;28;01mdef\u001b[39;00m \u001b[38;5;21mapply_standard\u001b[39m(\u001b[38;5;28mself\u001b[39m):\n\u001b[1;32m   1062\u001b[0m     \u001b[38;5;28;01mif\u001b[39;00m \u001b[38;5;28mself\u001b[39m\u001b[38;5;241m.\u001b[39mengine \u001b[38;5;241m==\u001b[39m \u001b[38;5;124m\"\u001b[39m\u001b[38;5;124mpython\u001b[39m\u001b[38;5;124m\"\u001b[39m:\n\u001b[0;32m-> 1063\u001b[0m         results, res_index \u001b[38;5;241m=\u001b[39m \u001b[38;5;28;43mself\u001b[39;49m\u001b[38;5;241;43m.\u001b[39;49m\u001b[43mapply_series_generator\u001b[49m\u001b[43m(\u001b[49m\u001b[43m)\u001b[49m\n\u001b[1;32m   1064\u001b[0m     \u001b[38;5;28;01melse\u001b[39;00m:\n\u001b[1;32m   1065\u001b[0m         results, res_index \u001b[38;5;241m=\u001b[39m \u001b[38;5;28mself\u001b[39m\u001b[38;5;241m.\u001b[39mapply_series_numba()\n",
      "File \u001b[0;32m~/myenv/lib/python3.11/site-packages/pandas/core/apply.py:1081\u001b[0m, in \u001b[0;36mFrameApply.apply_series_generator\u001b[0;34m(self)\u001b[0m\n\u001b[1;32m   1078\u001b[0m \u001b[38;5;28;01mwith\u001b[39;00m option_context(\u001b[38;5;124m\"\u001b[39m\u001b[38;5;124mmode.chained_assignment\u001b[39m\u001b[38;5;124m\"\u001b[39m, \u001b[38;5;28;01mNone\u001b[39;00m):\n\u001b[1;32m   1079\u001b[0m     \u001b[38;5;28;01mfor\u001b[39;00m i, v \u001b[38;5;129;01min\u001b[39;00m \u001b[38;5;28menumerate\u001b[39m(series_gen):\n\u001b[1;32m   1080\u001b[0m         \u001b[38;5;66;03m# ignore SettingWithCopy here in case the user mutates\u001b[39;00m\n\u001b[0;32m-> 1081\u001b[0m         results[i] \u001b[38;5;241m=\u001b[39m \u001b[38;5;28;43mself\u001b[39;49m\u001b[38;5;241;43m.\u001b[39;49m\u001b[43mfunc\u001b[49m\u001b[43m(\u001b[49m\u001b[43mv\u001b[49m\u001b[43m,\u001b[49m\u001b[43m \u001b[49m\u001b[38;5;241;43m*\u001b[39;49m\u001b[38;5;28;43mself\u001b[39;49m\u001b[38;5;241;43m.\u001b[39;49m\u001b[43margs\u001b[49m\u001b[43m,\u001b[49m\u001b[43m \u001b[49m\u001b[38;5;241;43m*\u001b[39;49m\u001b[38;5;241;43m*\u001b[39;49m\u001b[38;5;28;43mself\u001b[39;49m\u001b[38;5;241;43m.\u001b[39;49m\u001b[43mkwargs\u001b[49m\u001b[43m)\u001b[49m\n\u001b[1;32m   1082\u001b[0m         \u001b[38;5;28;01mif\u001b[39;00m \u001b[38;5;28misinstance\u001b[39m(results[i], ABCSeries):\n\u001b[1;32m   1083\u001b[0m             \u001b[38;5;66;03m# If we have a view on v, we need to make a copy because\u001b[39;00m\n\u001b[1;32m   1084\u001b[0m             \u001b[38;5;66;03m#  series_generator will swap out the underlying data\u001b[39;00m\n\u001b[1;32m   1085\u001b[0m             results[i] \u001b[38;5;241m=\u001b[39m results[i]\u001b[38;5;241m.\u001b[39mcopy(deep\u001b[38;5;241m=\u001b[39m\u001b[38;5;28;01mFalse\u001b[39;00m)\n",
      "File \u001b[0;32m~/myenv/lib/python3.11/site-packages/tqdm/std.py:912\u001b[0m, in \u001b[0;36mtqdm.pandas.<locals>.inner_generator.<locals>.inner.<locals>.wrapper\u001b[0;34m(*args, **kwargs)\u001b[0m\n\u001b[1;32m    906\u001b[0m \u001b[38;5;28;01mdef\u001b[39;00m \u001b[38;5;21mwrapper\u001b[39m(\u001b[38;5;241m*\u001b[39margs, \u001b[38;5;241m*\u001b[39m\u001b[38;5;241m*\u001b[39mkwargs):\n\u001b[1;32m    907\u001b[0m     \u001b[38;5;66;03m# update tbar correctly\u001b[39;00m\n\u001b[1;32m    908\u001b[0m     \u001b[38;5;66;03m# it seems `pandas apply` calls `func` twice\u001b[39;00m\n\u001b[1;32m    909\u001b[0m     \u001b[38;5;66;03m# on the first column/row to decide whether it can\u001b[39;00m\n\u001b[1;32m    910\u001b[0m     \u001b[38;5;66;03m# take a fast or slow code path; so stop when t.total==t.n\u001b[39;00m\n\u001b[1;32m    911\u001b[0m     t\u001b[38;5;241m.\u001b[39mupdate(n\u001b[38;5;241m=\u001b[39m\u001b[38;5;241m1\u001b[39m \u001b[38;5;28;01mif\u001b[39;00m \u001b[38;5;129;01mnot\u001b[39;00m t\u001b[38;5;241m.\u001b[39mtotal \u001b[38;5;129;01mor\u001b[39;00m t\u001b[38;5;241m.\u001b[39mn \u001b[38;5;241m<\u001b[39m t\u001b[38;5;241m.\u001b[39mtotal \u001b[38;5;28;01melse\u001b[39;00m \u001b[38;5;241m0\u001b[39m)\n\u001b[0;32m--> 912\u001b[0m     \u001b[38;5;28;01mreturn\u001b[39;00m \u001b[43mfunc\u001b[49m\u001b[43m(\u001b[49m\u001b[38;5;241;43m*\u001b[39;49m\u001b[43margs\u001b[49m\u001b[43m,\u001b[49m\u001b[43m \u001b[49m\u001b[38;5;241;43m*\u001b[39;49m\u001b[38;5;241;43m*\u001b[39;49m\u001b[43mkwargs\u001b[49m\u001b[43m)\u001b[49m\n",
      "File \u001b[0;32m~/projects/project-2-group-real-estate-industry-project-1/scripts/api_function.py:28\u001b[0m, in \u001b[0;36mcalculate_distance_car\u001b[0;34m(row, des_coords)\u001b[0m\n\u001b[1;32m     20\u001b[0m url \u001b[38;5;241m=\u001b[39m (\n\u001b[1;32m     21\u001b[0m     \u001b[38;5;124mf\u001b[39m\u001b[38;5;124m\"\u001b[39m\u001b[38;5;124mhttp://router.project-osrm.org/route/v1/driving/\u001b[39m\u001b[38;5;124m\"\u001b[39m\n\u001b[1;32m     22\u001b[0m     \u001b[38;5;124mf\u001b[39m\u001b[38;5;124m\"\u001b[39m\u001b[38;5;132;01m{\u001b[39;00mhouse_coords[\u001b[38;5;241m1\u001b[39m]\u001b[38;5;132;01m}\u001b[39;00m\u001b[38;5;124m,\u001b[39m\u001b[38;5;132;01m{\u001b[39;00mhouse_coords[\u001b[38;5;241m0\u001b[39m]\u001b[38;5;132;01m}\u001b[39;00m\u001b[38;5;124m;\u001b[39m\u001b[38;5;132;01m{\u001b[39;00mdes_coords[\u001b[38;5;241m1\u001b[39m]\u001b[38;5;132;01m}\u001b[39;00m\u001b[38;5;124m,\u001b[39m\u001b[38;5;132;01m{\u001b[39;00mdes_coords[\u001b[38;5;241m0\u001b[39m]\u001b[38;5;132;01m}\u001b[39;00m\u001b[38;5;124m\"\u001b[39m\n\u001b[1;32m     23\u001b[0m     \u001b[38;5;124mf\u001b[39m\u001b[38;5;124m\"\u001b[39m\u001b[38;5;124m?overview=false&alternatives=false&steps=false&annotations=distance\u001b[39m\u001b[38;5;124m\"\u001b[39m\n\u001b[1;32m     24\u001b[0m )\n\u001b[1;32m     26\u001b[0m \u001b[38;5;28;01mtry\u001b[39;00m:\n\u001b[1;32m     27\u001b[0m     \u001b[38;5;66;03m# Make sure they don't blacklist me\u001b[39;00m\n\u001b[0;32m---> 28\u001b[0m     time\u001b[38;5;241m.\u001b[39msleep(\u001b[38;5;241m0.5\u001b[39m)\n\u001b[1;32m     30\u001b[0m     \u001b[38;5;66;03m# Make the API call to get the route details\u001b[39;00m\n\u001b[1;32m     31\u001b[0m     response \u001b[38;5;241m=\u001b[39m requests\u001b[38;5;241m.\u001b[39mget(url)\n",
      "\u001b[0;31mKeyboardInterrupt\u001b[0m: "
     ]
    }
   ],
   "source": [
    "tqdm.pandas()\n",
    "\n",
    "CBD_distance = domain_data.progress_apply(calculate_distance_car, des_coords=melb_coord, axis=1)\n",
    "\n",
    "# Store distance as independent file for merge later\n",
    "CBD_distance_df = CBD_distance.to_frame(name='CBD distance(km)')"
   ]
  },
  {
   "cell_type": "markdown",
   "id": "3069f230-a01b-4f91-bd99-afccb3e99cc9",
   "metadata": {},
   "source": [
    "Once finish, store in a new dataset."
   ]
  },
  {
   "cell_type": "code",
   "execution_count": null,
   "id": "04f8248c-e85d-4c65-8d8c-c72fd533f3d0",
   "metadata": {},
   "outputs": [],
   "source": [
    "CBD_distance_df.to_csv('../../data/raw/domain/cbd_distance.csv', index=False)"
   ]
  }
 ],
 "metadata": {
  "kernelspec": {
   "display_name": "Python 3 (ipykernel)",
   "language": "python",
   "name": "python3"
  },
  "language_info": {
   "codemirror_mode": {
    "name": "ipython",
    "version": 3
   },
   "file_extension": ".py",
   "mimetype": "text/x-python",
   "name": "python",
   "nbconvert_exporter": "python",
   "pygments_lexer": "ipython3",
   "version": "3.11.9"
  }
 },
 "nbformat": 4,
 "nbformat_minor": 5
}
