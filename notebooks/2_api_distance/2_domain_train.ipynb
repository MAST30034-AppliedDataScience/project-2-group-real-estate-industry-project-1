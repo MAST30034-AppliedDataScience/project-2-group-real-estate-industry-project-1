{
 "cells": [
  {
   "cell_type": "markdown",
   "id": "5fdd1337-ba09-4d3f-9fba-1ae6a2c1a0da",
   "metadata": {},
   "source": [
    "### This file is dedicated to calculate distance from each property to cloest train station\n",
    "('train station' as both Metropolitan Train and Regional Train combined\n",
    "\n",
    "Created by Yuecheng Wang 12 Sept 2024"
   ]
  },
  {
   "cell_type": "code",
   "execution_count": 1,
   "id": "6d504f54-edf9-4a4a-b5a3-badf85a10d90",
   "metadata": {},
   "outputs": [],
   "source": [
    "import pandas as pd\n",
    "from tqdm import tqdm"
   ]
  },
  {
   "cell_type": "code",
   "execution_count": 2,
   "id": "6a8f4d6d-b857-408b-b222-73d767fce40b",
   "metadata": {},
   "outputs": [],
   "source": [
    "# import scripts for api calculation\n",
    "import sys\n",
    "import os\n",
    "\n",
    "# Add the scripts folder to the Python path\n",
    "scripts_path = os.path.abspath('../../scripts')\n",
    "\n",
    "if scripts_path not in sys.path:\n",
    "    sys.path.append(scripts_path)\n",
    "\n",
    "from api_function import parse_coordinate, calculate_distance_car, find_closest_station"
   ]
  },
  {
   "cell_type": "code",
   "execution_count": 3,
   "id": "ae98962a-4dab-431b-8077-b4f9e29c39db",
   "metadata": {},
   "outputs": [],
   "source": [
    "metro_train = pd.read_parquet('../../data/raw/PTV/un_preprocess/Metropolitan Train.parquet')\n",
    "region_train = pd.read_parquet('../../data/raw/PTV/un_preprocess/Regional Train.parquet')"
   ]
  },
  {
   "cell_type": "code",
   "execution_count": 4,
   "id": "96f80561-4c7d-48ad-b322-3cecca75ec95",
   "metadata": {},
   "outputs": [],
   "source": [
    "combined_train = pd.concat([metro_train, region_train], ignore_index=True)"
   ]
  },
  {
   "cell_type": "code",
   "execution_count": 5,
   "id": "c978f6b5-2ef8-4f4a-8d49-f01e19881d15",
   "metadata": {
    "scrolled": true
   },
   "outputs": [
    {
     "data": {
      "text/html": [
       "<div>\n",
       "<style scoped>\n",
       "    .dataframe tbody tr th:only-of-type {\n",
       "        vertical-align: middle;\n",
       "    }\n",
       "\n",
       "    .dataframe tbody tr th {\n",
       "        vertical-align: top;\n",
       "    }\n",
       "\n",
       "    .dataframe thead th {\n",
       "        text-align: right;\n",
       "    }\n",
       "</style>\n",
       "<table border=\"1\" class=\"dataframe\">\n",
       "  <thead>\n",
       "    <tr style=\"text-align: right;\">\n",
       "      <th></th>\n",
       "      <th>stop_id</th>\n",
       "      <th>stop_name</th>\n",
       "      <th>stop_lat</th>\n",
       "      <th>stop_lon</th>\n",
       "    </tr>\n",
       "  </thead>\n",
       "  <tbody>\n",
       "    <tr>\n",
       "      <th>0</th>\n",
       "      <td>15351</td>\n",
       "      <td>Sunbury Railway Station (Sunbury)</td>\n",
       "      <td>-37.579091</td>\n",
       "      <td>144.727319</td>\n",
       "    </tr>\n",
       "    <tr>\n",
       "      <th>1</th>\n",
       "      <td>15353</td>\n",
       "      <td>Diggers Rest Railway Station (Diggers Rest)</td>\n",
       "      <td>-37.627017</td>\n",
       "      <td>144.719922</td>\n",
       "    </tr>\n",
       "    <tr>\n",
       "      <th>2</th>\n",
       "      <td>19827</td>\n",
       "      <td>Stony Point Railway Station (Crib Point)</td>\n",
       "      <td>-38.374235</td>\n",
       "      <td>145.221837</td>\n",
       "    </tr>\n",
       "    <tr>\n",
       "      <th>3</th>\n",
       "      <td>19828</td>\n",
       "      <td>Crib Point Railway Station (Crib Point)</td>\n",
       "      <td>-38.366123</td>\n",
       "      <td>145.204043</td>\n",
       "    </tr>\n",
       "    <tr>\n",
       "      <th>4</th>\n",
       "      <td>19829</td>\n",
       "      <td>Morradoo Railway Station (Crib Point)</td>\n",
       "      <td>-38.354033</td>\n",
       "      <td>145.189602</td>\n",
       "    </tr>\n",
       "  </tbody>\n",
       "</table>\n",
       "</div>"
      ],
      "text/plain": [
       "   stop_id                                    stop_name   stop_lat    stop_lon\n",
       "0    15351            Sunbury Railway Station (Sunbury) -37.579091  144.727319\n",
       "1    15353  Diggers Rest Railway Station (Diggers Rest) -37.627017  144.719922\n",
       "2    19827     Stony Point Railway Station (Crib Point) -38.374235  145.221837\n",
       "3    19828      Crib Point Railway Station (Crib Point) -38.366123  145.204043\n",
       "4    19829        Morradoo Railway Station (Crib Point) -38.354033  145.189602"
      ]
     },
     "execution_count": 5,
     "metadata": {},
     "output_type": "execute_result"
    }
   ],
   "source": [
    "combined_train.head(5)"
   ]
  },
  {
   "cell_type": "code",
   "execution_count": 6,
   "id": "fa4cc20c-6253-4210-af96-8f39d64241dd",
   "metadata": {},
   "outputs": [],
   "source": [
    "# readin domain data\n",
    "file_path = \"../../data/raw/domain/all_postcodes.csv\"\n",
    "domain_data = pd.read_csv(file_path)"
   ]
  },
  {
   "cell_type": "markdown",
   "id": "9900ec9a-4fa5-433d-991e-f3594143bac2",
   "metadata": {},
   "source": [
    "Test on first 5 rows first."
   ]
  },
  {
   "cell_type": "code",
   "execution_count": 7,
   "id": "0468ae03-b5f4-4a64-90b4-90f79035791e",
   "metadata": {},
   "outputs": [],
   "source": [
    "sample_domain = domain_data.head(5)"
   ]
  },
  {
   "cell_type": "code",
   "execution_count": 8,
   "id": "4dae7f25-4448-48f1-9ebd-fed902646ee6",
   "metadata": {},
   "outputs": [
    {
     "name": "stdout",
     "output_type": "stream",
     "text": [
      "stop_id                                           19841\n",
      "stop_name    Flagstaff Railway Station (Melbourne City)\n",
      "stop_lat                                     -37.811981\n",
      "stop_lon                                     144.955654\n",
      "distance                                     180.495113\n",
      "Name: 16, dtype: object\n",
      "0.6166\n",
      "------\n",
      "stop_id                                           19841\n",
      "stop_name    Flagstaff Railway Station (Melbourne City)\n",
      "stop_lat                                     -37.811981\n",
      "stop_lon                                     144.955654\n",
      "distance                                     202.361641\n",
      "Name: 16, dtype: object\n",
      "0.5685\n",
      "------\n",
      "stop_id                                                  19842\n",
      "stop_name    Melbourne Central Railway Station (Melbourne C...\n",
      "stop_lat                                            -37.809939\n",
      "stop_lon                                            144.962594\n",
      "distance                                            233.254239\n",
      "Name: 17, dtype: object\n",
      "1.4196\n",
      "------\n",
      "stop_id                                                  19842\n",
      "stop_name    Melbourne Central Railway Station (Melbourne C...\n",
      "stop_lat                                            -37.809939\n",
      "stop_lon                                            144.962594\n",
      "distance                                            169.293396\n",
      "Name: 17, dtype: object\n",
      "1.3504\n",
      "------\n",
      "stop_id                                                  19842\n",
      "stop_name    Melbourne Central Railway Station (Melbourne C...\n",
      "stop_lat                                            -37.809939\n",
      "stop_lon                                            144.962594\n",
      "distance                                            145.792321\n",
      "Name: 17, dtype: object\n",
      "1.3502\n",
      "------\n"
     ]
    }
   ],
   "source": [
    "route_distances = []\n",
    "for index, row in sample_domain.iterrows():\n",
    "    property_coords = parse_coordinate(row['Coordinates'])\n",
    "    \n",
    "    closest_station = find_closest_station(property_coords, combined_train.copy())\n",
    "\n",
    "    \n",
    "    if isinstance(closest_station, int):\n",
    "        # Handle invalid coordinates\n",
    "        print(f\"Skipping property at index {index} due to invalid coordinates.\")\n",
    "        route_distances.append(-1)  # Store a placeholder value\n",
    "        continue\n",
    "        \n",
    "    # Get closest station coordinates\n",
    "    station_coords = (closest_station['stop_lat'], closest_station['stop_lon'])\n",
    "    \n",
    "    # Calculate route distance using OSRM API\n",
    "    route_distance = calculate_distance_car(row, station_coords)\n",
    "\n",
    "    print(closest_station)\n",
    "    print(route_distance)\n",
    "    print(\"------\")\n",
    "    # Store results\n",
    "    route_distances.append(route_distance)"
   ]
  },
  {
   "cell_type": "markdown",
   "id": "39a94571-0bca-4eaf-b142-45f1ba7d6dd7",
   "metadata": {},
   "source": [
    "Now do with all data."
   ]
  },
  {
   "cell_type": "code",
   "execution_count": 9,
   "id": "3808e505-74a3-47d8-a36a-ebd431d00e13",
   "metadata": {},
   "outputs": [
    {
     "name": "stderr",
     "output_type": "stream",
     "text": [
      "Processing Properties:   3%|█▊                                                     | 272/8002 [05:40<2:40:10,  1.24s/it]"
     ]
    },
    {
     "name": "stdout",
     "output_type": "stream",
     "text": [
      "Skipping property at index 272 due to invalid coordinates.\n"
     ]
    },
    {
     "name": "stderr",
     "output_type": "stream",
     "text": [
      "Processing Properties:  99%|█████████████████████████████████████████████████████▎| 7908/8002 [2:44:38<01:55,  1.23s/it]"
     ]
    },
    {
     "name": "stdout",
     "output_type": "stream",
     "text": [
      "Skipping property at index 7908 due to invalid coordinates.\n"
     ]
    },
    {
     "name": "stderr",
     "output_type": "stream",
     "text": [
      "Processing Properties: 100%|██████████████████████████████████████████████████████| 8002/8002 [2:46:33<00:00,  1.25s/it]\n"
     ]
    }
   ],
   "source": [
    "route_distances = []\n",
    "for index, row in tqdm(domain_data.iterrows(), total=len(domain_data), desc=\"Processing Properties\"):\n",
    "    property_coords = parse_coordinate(row['Coordinates'])\n",
    "    \n",
    "    closest_station = find_closest_station(property_coords, combined_train.copy())\n",
    "\n",
    "    \n",
    "    if isinstance(closest_station, int):\n",
    "        # Handle invalid coordinates\n",
    "        print(f\"Skipping property at index {index} due to invalid coordinates.\")\n",
    "        route_distances.append(-1)  # Store a placeholder value\n",
    "        continue\n",
    "        \n",
    "    # Get closest station coordinates\n",
    "    station_coords = (closest_station['stop_lat'], closest_station['stop_lon'])\n",
    "    \n",
    "    # Calculate route distance using OSRM API\n",
    "    route_distance = calculate_distance_car(row, station_coords)\n",
    "\n",
    "    # Store results\n",
    "    route_distances.append(route_distance)"
   ]
  },
  {
   "cell_type": "code",
   "execution_count": 10,
   "id": "463ddd07-ebae-42ec-9a23-d42f4b8050cd",
   "metadata": {},
   "outputs": [],
   "source": [
    "route_distance_df = pd.DataFrame(route_distances, columns=['route_distance_km'])\n",
    "\n",
    "# Save the route distances alongside your domain data\n",
    "route_distance_df.to_csv('../../data/raw/domain/train_distance.csv', index=False)"
   ]
  }
 ],
 "metadata": {
  "kernelspec": {
   "display_name": "Python 3 (ipykernel)",
   "language": "python",
   "name": "python3"
  },
  "language_info": {
   "codemirror_mode": {
    "name": "ipython",
    "version": 3
   },
   "file_extension": ".py",
   "mimetype": "text/x-python",
   "name": "python",
   "nbconvert_exporter": "python",
   "pygments_lexer": "ipython3",
   "version": "3.11.9"
  }
 },
 "nbformat": 4,
 "nbformat_minor": 5
}
