{
 "cells": [
  {
   "cell_type": "markdown",
   "id": "459f20cc-5939-4356-b37f-244861fcc9b2",
   "metadata": {},
   "source": [
    "### This file is dedicated to calculate route distance from each property to nearest library\n",
    "\n",
    "Created by Yuecheng Wang 13-09-2024"
   ]
  },
  {
   "cell_type": "code",
   "execution_count": 1,
   "id": "7ec961d9-6cfc-4c23-9382-2bede56fb71c",
   "metadata": {},
   "outputs": [],
   "source": [
    "import pandas as pd\n",
    "import numpy as np\n",
    "from tqdm import tqdm"
   ]
  },
  {
   "cell_type": "code",
   "execution_count": 2,
   "id": "c4e0c99e-eb0c-401c-868b-50621e6ec69d",
   "metadata": {},
   "outputs": [],
   "source": [
    "# import scripts for api calculation\n",
    "import sys\n",
    "import os\n",
    "\n",
    "# Add the scripts folder to the Python path\n",
    "scripts_path = os.path.abspath('../../scripts')\n",
    "\n",
    "if scripts_path not in sys.path:\n",
    "    sys.path.append(scripts_path)\n",
    "\n",
    "from api_function import calculate_distance_car, find_closest_lib"
   ]
  },
  {
   "cell_type": "code",
   "execution_count": 3,
   "id": "148bee82-d6fc-44a7-84c6-eb5e07014fd6",
   "metadata": {},
   "outputs": [],
   "source": [
    "lib = pd.read_csv('../../data/raw/three_external/library_data.csv')"
   ]
  },
  {
   "cell_type": "code",
   "execution_count": 4,
   "id": "dd990b9a-dec9-475a-aa0e-03fab533724a",
   "metadata": {},
   "outputs": [
    {
     "data": {
      "text/html": [
       "<div>\n",
       "<style scoped>\n",
       "    .dataframe tbody tr th:only-of-type {\n",
       "        vertical-align: middle;\n",
       "    }\n",
       "\n",
       "    .dataframe tbody tr th {\n",
       "        vertical-align: top;\n",
       "    }\n",
       "\n",
       "    .dataframe thead th {\n",
       "        text-align: right;\n",
       "    }\n",
       "</style>\n",
       "<table border=\"1\" class=\"dataframe\">\n",
       "  <thead>\n",
       "    <tr style=\"text-align: right;\">\n",
       "      <th></th>\n",
       "      <th>NAME</th>\n",
       "      <th>FEATSUBTYP</th>\n",
       "      <th>latitude</th>\n",
       "      <th>longitude</th>\n",
       "    </tr>\n",
       "  </thead>\n",
       "  <tbody>\n",
       "    <tr>\n",
       "      <th>0</th>\n",
       "      <td>HORSHAM LIBRARY</td>\n",
       "      <td>library</td>\n",
       "      <td>-36.712876</td>\n",
       "      <td>142.200900</td>\n",
       "    </tr>\n",
       "    <tr>\n",
       "      <th>1</th>\n",
       "      <td>QUEENSCLIFF LIBRARY</td>\n",
       "      <td>library</td>\n",
       "      <td>-38.267751</td>\n",
       "      <td>144.661309</td>\n",
       "    </tr>\n",
       "    <tr>\n",
       "      <th>2</th>\n",
       "      <td>SOUTH OAKLEIGH LIBRARY</td>\n",
       "      <td>library</td>\n",
       "      <td>-37.927397</td>\n",
       "      <td>145.081978</td>\n",
       "    </tr>\n",
       "    <tr>\n",
       "      <th>3</th>\n",
       "      <td>LANCEFIELD LIBRARY</td>\n",
       "      <td>library</td>\n",
       "      <td>-37.276917</td>\n",
       "      <td>144.735522</td>\n",
       "    </tr>\n",
       "    <tr>\n",
       "      <th>4</th>\n",
       "      <td>ARARAT LIBRARY</td>\n",
       "      <td>library</td>\n",
       "      <td>-37.283718</td>\n",
       "      <td>142.934432</td>\n",
       "    </tr>\n",
       "  </tbody>\n",
       "</table>\n",
       "</div>"
      ],
      "text/plain": [
       "                     NAME FEATSUBTYP   latitude   longitude\n",
       "0         HORSHAM LIBRARY    library -36.712876  142.200900\n",
       "1     QUEENSCLIFF LIBRARY    library -38.267751  144.661309\n",
       "2  SOUTH OAKLEIGH LIBRARY    library -37.927397  145.081978\n",
       "3      LANCEFIELD LIBRARY    library -37.276917  144.735522\n",
       "4          ARARAT LIBRARY    library -37.283718  142.934432"
      ]
     },
     "execution_count": 4,
     "metadata": {},
     "output_type": "execute_result"
    }
   ],
   "source": [
    "lib.head(5)"
   ]
  },
  {
   "cell_type": "code",
   "execution_count": 5,
   "id": "50b62395-9182-4731-9025-404472f9ad0b",
   "metadata": {},
   "outputs": [],
   "source": [
    "# readin domain data\n",
    "file_path = \"../../data/raw/domain/all_properties_preprocessed.csv\"\n",
    "domain_data = pd.read_csv(file_path)"
   ]
  },
  {
   "cell_type": "code",
   "execution_count": 6,
   "id": "acd9dea5-1cb1-4081-877e-ef7afc64bb9c",
   "metadata": {},
   "outputs": [],
   "source": [
    "# test on first 5\n",
    "sample_domain = domain_data.head(5)"
   ]
  },
  {
   "cell_type": "code",
   "execution_count": 7,
   "id": "19d1b97a-47af-4c33-8346-4fa37ce20c47",
   "metadata": {},
   "outputs": [
    {
     "name": "stdout",
     "output_type": "stream",
     "text": [
      "NAME          STATE LIBRARY OF VICTORIA\n",
      "FEATSUBTYP                      library\n",
      "latitude                     -37.809782\n",
      "longitude                    144.965189\n",
      "distance                     729.126112\n",
      "Name: 156, dtype: object\n",
      "1.5615\n",
      "------\n",
      "NAME          LIBRARY ACCESS POINT LIBRARY\n",
      "FEATSUBTYP                         library\n",
      "latitude                        -37.819376\n",
      "longitude                       144.947233\n",
      "distance                        921.310017\n",
      "Name: 26, dtype: object\n",
      "1.7147000000000001\n",
      "------\n",
      "NAME          STATE LIBRARY OF VICTORIA\n",
      "FEATSUBTYP                      library\n",
      "latitude                     -37.809782\n",
      "longitude                    144.965189\n",
      "distance                     417.357474\n",
      "Name: 156, dtype: object\n",
      "1.1995\n",
      "------\n",
      "NAME          STATE LIBRARY OF VICTORIA\n",
      "FEATSUBTYP                      library\n",
      "latitude                     -37.809782\n",
      "longitude                    144.965189\n",
      "distance                      372.16768\n",
      "Name: 156, dtype: object\n",
      "1.1302999999999999\n",
      "------\n",
      "NAME          STATE LIBRARY OF VICTORIA\n",
      "FEATSUBTYP                      library\n",
      "latitude                     -37.809782\n",
      "longitude                    144.965189\n",
      "distance                     357.757203\n",
      "Name: 156, dtype: object\n",
      "1.1300999999999999\n",
      "------\n"
     ]
    }
   ],
   "source": [
    "route_distances = []\n",
    "for index, row in sample_domain.iterrows():\n",
    "    property_coords = (row['Latitude'], row['Longitude'])\n",
    "    \n",
    "    closest_lib = find_closest_lib(property_coords, lib.copy())\n",
    "    \n",
    "    if isinstance(closest_lib, int):\n",
    "        # Handle invalid coordinates\n",
    "        print(f\"Skipping property at index {index} due to invalid coordinates.\")\n",
    "        route_distances.append(-1)  # Store a placeholder value\n",
    "        continue\n",
    "        \n",
    "    # Get closest lib coordinates\n",
    "    lib_coords = (closest_lib['latitude'], closest_lib['longitude'])\n",
    "    \n",
    "    # Calculate route distance using OSRM API\n",
    "    route_distance = calculate_distance_car(row, lib_coords)\n",
    "\n",
    "    print(closest_lib)\n",
    "    print(route_distance)\n",
    "    print(\"------\")"
   ]
  },
  {
   "cell_type": "code",
   "execution_count": 8,
   "id": "f4ccf850-1ed1-479e-8682-0e8d6f260643",
   "metadata": {},
   "outputs": [
    {
     "name": "stderr",
     "output_type": "stream",
     "text": [
      "/home/steven/myenv/lib/python3.11/site-packages/numpy/core/fromnumeric.py:57: FutureWarning: 'DataFrame.swapaxes' is deprecated and will be removed in a future version. Please use 'DataFrame.transpose' instead.\n",
      "  return bound(*args, **kwds)\n",
      "Processing Part 1:   2%|█                                                               | 7/401 [00:08<08:10,  1.25s/it]\n"
     ]
    },
    {
     "ename": "KeyboardInterrupt",
     "evalue": "",
     "output_type": "error",
     "traceback": [
      "\u001b[0;31m---------------------------------------------------------------------------\u001b[0m",
      "\u001b[0;31mKeyboardInterrupt\u001b[0m                         Traceback (most recent call last)",
      "Cell \u001b[0;32mIn[8], line 36\u001b[0m\n\u001b[1;32m     33\u001b[0m     lib_coords \u001b[38;5;241m=\u001b[39m (closest_lib[\u001b[38;5;124m'\u001b[39m\u001b[38;5;124mlatitude\u001b[39m\u001b[38;5;124m'\u001b[39m], closest_lib[\u001b[38;5;124m'\u001b[39m\u001b[38;5;124mlongitude\u001b[39m\u001b[38;5;124m'\u001b[39m])\n\u001b[1;32m     35\u001b[0m     \u001b[38;5;66;03m# Calculate route distance using OSRM API\u001b[39;00m\n\u001b[0;32m---> 36\u001b[0m     route_distance \u001b[38;5;241m=\u001b[39m \u001b[43mcalculate_distance_car\u001b[49m\u001b[43m(\u001b[49m\u001b[43mrow\u001b[49m\u001b[43m,\u001b[49m\u001b[43m \u001b[49m\u001b[43mlib_coords\u001b[49m\u001b[43m)\u001b[49m\n\u001b[1;32m     37\u001b[0m     route_distances\u001b[38;5;241m.\u001b[39mappend(route_distance)\n\u001b[1;32m     39\u001b[0m \u001b[38;5;66;03m# Create a DataFrame for the current part's distances\u001b[39;00m\n",
      "File \u001b[0;32m~/projects/project-2-group-real-estate-industry-project-1/scripts/api_function.py:28\u001b[0m, in \u001b[0;36mcalculate_distance_car\u001b[0;34m(row, des_coords)\u001b[0m\n\u001b[1;32m     20\u001b[0m url \u001b[38;5;241m=\u001b[39m (\n\u001b[1;32m     21\u001b[0m     \u001b[38;5;124mf\u001b[39m\u001b[38;5;124m\"\u001b[39m\u001b[38;5;124mhttp://router.project-osrm.org/route/v1/driving/\u001b[39m\u001b[38;5;124m\"\u001b[39m\n\u001b[1;32m     22\u001b[0m     \u001b[38;5;124mf\u001b[39m\u001b[38;5;124m\"\u001b[39m\u001b[38;5;132;01m{\u001b[39;00mhouse_coords[\u001b[38;5;241m1\u001b[39m]\u001b[38;5;132;01m}\u001b[39;00m\u001b[38;5;124m,\u001b[39m\u001b[38;5;132;01m{\u001b[39;00mhouse_coords[\u001b[38;5;241m0\u001b[39m]\u001b[38;5;132;01m}\u001b[39;00m\u001b[38;5;124m;\u001b[39m\u001b[38;5;132;01m{\u001b[39;00mdes_coords[\u001b[38;5;241m1\u001b[39m]\u001b[38;5;132;01m}\u001b[39;00m\u001b[38;5;124m,\u001b[39m\u001b[38;5;132;01m{\u001b[39;00mdes_coords[\u001b[38;5;241m0\u001b[39m]\u001b[38;5;132;01m}\u001b[39;00m\u001b[38;5;124m\"\u001b[39m\n\u001b[1;32m     23\u001b[0m     \u001b[38;5;124mf\u001b[39m\u001b[38;5;124m\"\u001b[39m\u001b[38;5;124m?overview=false&alternatives=false&steps=false&annotations=distance\u001b[39m\u001b[38;5;124m\"\u001b[39m\n\u001b[1;32m     24\u001b[0m )\n\u001b[1;32m     26\u001b[0m \u001b[38;5;28;01mtry\u001b[39;00m:\n\u001b[1;32m     27\u001b[0m     \u001b[38;5;66;03m# Make sure they don't blacklist me\u001b[39;00m\n\u001b[0;32m---> 28\u001b[0m     time\u001b[38;5;241m.\u001b[39msleep(\u001b[38;5;241m0.5\u001b[39m)\n\u001b[1;32m     30\u001b[0m     \u001b[38;5;66;03m# Make the API call to get the route details\u001b[39;00m\n\u001b[1;32m     31\u001b[0m     response \u001b[38;5;241m=\u001b[39m requests\u001b[38;5;241m.\u001b[39mget(url)\n",
      "\u001b[0;31mKeyboardInterrupt\u001b[0m: "
     ]
    }
   ],
   "source": [
    "# Split the dataset into 10 parts\n",
    "num_parts = 20\n",
    "split_data = np.array_split(domain_data, num_parts)\n",
    "\n",
    "# List to store paths of temporary files\n",
    "temp_files = []\n",
    "\n",
    "# Process each part separately\n",
    "for i, part in enumerate(split_data):\n",
    "    temp_file = f'../../data/raw/domain/lib_distance_part_{i+1}.csv'\n",
    "    \n",
    "    # Check if the file already exists\n",
    "    if os.path.exists(temp_file):\n",
    "        print(f\"File for Part {i+1} already exists. Skipping processing for this part.\")\n",
    "        temp_files.append(temp_file)\n",
    "        continue\n",
    "\n",
    "    route_distances = []\n",
    "\n",
    "    # Iterate through the part and calculate distances\n",
    "    for index, row in tqdm(part.iterrows(), total=len(part), desc=f\"Processing Part {i+1}\"):\n",
    "        property_coords = (row['Latitude'], row['Longitude'])\n",
    "        \n",
    "        closest_lib = find_closest_lib(property_coords, lib.copy())\n",
    "        \n",
    "        if isinstance(closest_lib, int):\n",
    "            # Handle invalid coordinates\n",
    "            print(f\"Skipping property at index {index} due to invalid coordinates.\")\n",
    "            route_distances.append(-1)  # Store a placeholder value\n",
    "            continue\n",
    "            \n",
    "        # Get closest lib coordinates\n",
    "        lib_coords = (closest_lib['latitude'], closest_lib['longitude'])\n",
    "        \n",
    "        # Calculate route distance using OSRM API\n",
    "        route_distance = calculate_distance_car(row, lib_coords)\n",
    "        route_distances.append(route_distance)\n",
    "\n",
    "    # Create a DataFrame for the current part's distances\n",
    "    route_distance_df = pd.DataFrame(route_distances, columns=['route_distance_km'])\n",
    "\n",
    "    # Save the current part to a temporary file\n",
    "    route_distance_df.to_csv(temp_file, index=False)\n",
    "    temp_files.append(temp_file)\n",
    "\n",
    "    # Print completion message for each part\n",
    "    print(f\"Completed processing Part {i+1}/{num_parts}.\")\n",
    "\n",
    "# Combine all parts into one large file\n",
    "combined_df = pd.concat([pd.read_csv(file) for file in temp_files])\n",
    "\n",
    "\n",
    "output_relative_dir = '../../data/raw/domain/'\n",
    "if not os.path.exists(output_relative_dir):\n",
    "    os.makedirs(output_relative_dir)\n",
    "\n",
    "# Save the combined DataFrame\n",
    "combined_file = '../../data/raw/domain/lib_distance.csv'\n",
    "combined_df.to_csv(combined_file, index=False)\n"
   ]
  },
  {
   "cell_type": "code",
   "execution_count": null,
   "id": "c71af8f8-eb35-4c25-bd69-67a8ea49335e",
   "metadata": {},
   "outputs": [],
   "source": [
    "# Delete the temporary files\n",
    "for file in temp_files:\n",
    "    os.remove(file)\n",
    "\n",
    "print(f\"Combined file saved at {combined_file}. Temporary files deleted.\")"
   ]
  }
 ],
 "metadata": {
  "kernelspec": {
   "display_name": "Python 3 (ipykernel)",
   "language": "python",
   "name": "python3"
  },
  "language_info": {
   "codemirror_mode": {
    "name": "ipython",
    "version": 3
   },
   "file_extension": ".py",
   "mimetype": "text/x-python",
   "name": "python",
   "nbconvert_exporter": "python",
   "pygments_lexer": "ipython3",
   "version": "3.11.9"
  }
 },
 "nbformat": 4,
 "nbformat_minor": 5
}
