{
 "cells": [
  {
   "cell_type": "markdown",
   "id": "73c5dd73",
   "metadata": {},
   "source": [
    "Edited by Wanyu\n",
    "\n",
    "27 Sep"
   ]
  },
  {
   "cell_type": "code",
   "execution_count": 1,
   "id": "f91a3f8c-2dea-4f06-99c2-9f252edeec37",
   "metadata": {},
   "outputs": [],
   "source": [
    "import geopandas as gpd\n",
    "import pandas as pd\n",
    "import numpy as np\n",
    "from shapely.geometry import Point\n",
    "import os\n",
    "\n",
    "import sys\n",
    "current_dir = os.getcwd()\n",
    "scripts_path = os.path.join(current_dir, '../../scripts')\n",
    "sys.path.append(os.path.abspath(scripts_path))\n",
    "import preprocess_function as process"
   ]
  },
  {
   "cell_type": "code",
   "execution_count": 2,
   "id": "9c6f82a8-a0a9-4a36-b964-013de4f54469",
   "metadata": {},
   "outputs": [],
   "source": [
    "# Path to domain data and SA2\n",
    "base_dir = '../../data/'\n",
    "raw_dir = os.path.join(base_dir, 'raw')\n",
    "curated_dir = os.path.join(base_dir, 'curated')\n",
    "\n",
    "SA2_shapefile_path = f\"{raw_dir}/ABS_SA2/SA2_2021_AUST_GDA2020.shp\"\n",
    "LGA_shapefile_path = f\"{raw_dir}/ABS_LGA/LGA_2024_AUST_GDA94.shp\"\n",
    "\n",
    "past_folder = os.path.join(raw_dir, 'merge_past_forcasting_data') \n",
    "\n",
    "income_path = f\"{past_folder}/merged_income_data.csv\"\n",
    "population_path = f\"{past_folder}/merged_population_data.csv\"\n",
    "crime_path = f\"{past_folder}/merged_crime_data.csv\"\n",
    "\n",
    "property_data_path = f\"{raw_dir}/domain/all_properties_preprocessed.csv\""
   ]
  },
  {
   "cell_type": "code",
   "execution_count": 3,
   "id": "b19ad234",
   "metadata": {},
   "outputs": [],
   "source": [
    "# Load in datasets\n",
    "SA2_gdf = gpd.read_file(SA2_shapefile_path)\n",
    "LGA_gdf = gpd.read_file(LGA_shapefile_path)\n",
    "property_data = pd.read_csv(property_data_path)"
   ]
  },
  {
   "cell_type": "code",
   "execution_count": 4,
   "id": "6c0c80ee-821c-4dd0-8390-ad22ebd5f35d",
   "metadata": {},
   "outputs": [],
   "source": [
    "try:\n",
    "    income = pd.read_csv(\n",
    "        income_path, \n",
    "        encoding='utf-8', \n",
    "        na_values=['', ' ', 'NA', 'NaN']\n",
    "    )\n",
    "except Exception as e:\n",
    "    print(\"Error loading income data:\", e)"
   ]
  },
  {
   "cell_type": "code",
   "execution_count": 5,
   "id": "a6f3e354",
   "metadata": {},
   "outputs": [],
   "source": [
    "try:\n",
    "    population = pd.read_csv(\n",
    "        population_path, \n",
    "        encoding='utf-8', \n",
    "        na_values=['', ' ', 'NA', 'NaN']\n",
    "    )\n",
    "except Exception as e:\n",
    "    print(\"Error loading population data:\", e)"
   ]
  },
  {
   "cell_type": "code",
   "execution_count": 6,
   "id": "f2986a04",
   "metadata": {},
   "outputs": [],
   "source": [
    "try:\n",
    "    crime = pd.read_csv(\n",
    "        crime_path, \n",
    "        encoding='utf-8', \n",
    "        na_values=['', ' ', 'NA', 'NaN']\n",
    "    )\n",
    "except Exception as e:\n",
    "    print(\"Error loading crime data:\", e)"
   ]
  },
  {
   "cell_type": "code",
   "execution_count": 7,
   "id": "ebe436f3",
   "metadata": {},
   "outputs": [],
   "source": [
    "try:\n",
    "    property = pd.read_csv(\n",
    "        property_data_path, \n",
    "        encoding='utf-8', \n",
    "        na_values=['', ' ', 'NA', 'NaN']\n",
    "    )\n",
    "except Exception as e:\n",
    "    print(\"Error loading property data:\", e)"
   ]
  },
  {
   "cell_type": "code",
   "execution_count": 8,
   "id": "198df8fb-9f56-4a42-b848-7c4d287fdd3c",
   "metadata": {},
   "outputs": [
    {
     "name": "stdout",
     "output_type": "stream",
     "text": [
      "   Year     SA2 code  Population\n",
      "0  2015  201011001.0     11039.0\n",
      "1  2015  201011002.0     12300.0\n",
      "2  2015  201011005.0      7191.0\n",
      "3  2015  201011006.0      6846.0\n",
      "4  2015  201011007.0      3966.0\n",
      "<class 'pandas.core.frame.DataFrame'>\n",
      "RangeIndex: 6786 entries, 0 to 6785\n",
      "Data columns (total 3 columns):\n",
      " #   Column      Non-Null Count  Dtype  \n",
      "---  ------      --------------  -----  \n",
      " 0   Year        6786 non-null   int64  \n",
      " 1   SA2 code    6786 non-null   float64\n",
      " 2   Population  6786 non-null   float64\n",
      "dtypes: float64(2), int64(1)\n",
      "memory usage: 159.2 KB\n",
      "None\n",
      "Missing values per column:\n",
      " Year          0\n",
      "SA2 code      0\n",
      "Population    0\n",
      "dtype: int64\n"
     ]
    }
   ],
   "source": [
    "print(population.head())\n",
    "print(population.info())\n",
    "\n",
    "# Check specific columns for unexpected NaN values\n",
    "print(\"Missing values per column:\\n\", population.isna().sum())"
   ]
  },
  {
   "cell_type": "code",
   "execution_count": 9,
   "id": "6ac3ffb8",
   "metadata": {},
   "outputs": [
    {
     "name": "stdout",
     "output_type": "stream",
     "text": [
      "   Year     SA2 Code             Income\n",
      "0  2015  201011001.0  48752.40000000037\n",
      "1  2015  201011002.0  48902.39999999991\n",
      "2  2015  201011005.0            47100.0\n",
      "3  2015  201011006.0  44493.80000000028\n",
      "4  2015  201011007.0  45737.29999999981\n",
      "<class 'pandas.core.frame.DataFrame'>\n",
      "RangeIndex: 6786 entries, 0 to 6785\n",
      "Data columns (total 3 columns):\n",
      " #   Column    Non-Null Count  Dtype  \n",
      "---  ------    --------------  -----  \n",
      " 0   Year      6786 non-null   int64  \n",
      " 1   SA2 Code  6786 non-null   float64\n",
      " 2   Income    6786 non-null   object \n",
      "dtypes: float64(1), int64(1), object(1)\n",
      "memory usage: 159.2+ KB\n",
      "None\n",
      "Missing values per column:\n",
      " Year        0\n",
      "SA2 Code    0\n",
      "Income      0\n",
      "dtype: int64\n"
     ]
    }
   ],
   "source": [
    "print(income.head())\n",
    "print(income.info())\n",
    "\n",
    "# Check specific columns for unexpected NaN values\n",
    "print(\"Missing values per column:\\n\", income.isna().sum())"
   ]
  },
  {
   "cell_type": "code",
   "execution_count": 10,
   "id": "57da4ae4",
   "metadata": {},
   "outputs": [
    {
     "name": "stdout",
     "output_type": "stream",
     "text": [
      "   Year Local Government Area  Incidents Recorded\n",
      "0  2015                Alpine               299.0\n",
      "1  2015                Ararat               860.0\n",
      "2  2015              Ballarat              7825.0\n",
      "3  2015               Banyule              6577.0\n",
      "4  2015            Bass Coast              1895.0\n",
      "<class 'pandas.core.frame.DataFrame'>\n",
      "RangeIndex: 1053 entries, 0 to 1052\n",
      "Data columns (total 3 columns):\n",
      " #   Column                 Non-Null Count  Dtype  \n",
      "---  ------                 --------------  -----  \n",
      " 0   Year                   1053 non-null   int64  \n",
      " 1   Local Government Area  1053 non-null   object \n",
      " 2   Incidents Recorded     1053 non-null   float64\n",
      "dtypes: float64(1), int64(1), object(1)\n",
      "memory usage: 24.8+ KB\n",
      "None\n",
      "Missing values per column:\n",
      " Year                     0\n",
      "Local Government Area    0\n",
      "Incidents Recorded       0\n",
      "dtype: int64\n"
     ]
    }
   ],
   "source": [
    "print(crime.head())\n",
    "print(crime.info())\n",
    "\n",
    "# Check specific columns for unexpected NaN values\n",
    "print(\"Missing values per column:\\n\", crime.isna().sum())"
   ]
  },
  {
   "cell_type": "code",
   "execution_count": 11,
   "id": "e04c7018",
   "metadata": {},
   "outputs": [
    {
     "name": "stdout",
     "output_type": "stream",
     "text": [
      "   Unnamed: 0                                            Address    Cost  \\\n",
      "0           0        8/90 Hambleton Street, Middle Park VIC 3206   410.0   \n",
      "1           1            3/33 Bevan Street, Albert Park VIC 3206   550.0   \n",
      "2           3        7/7-9 Faussett Street, Albert Park VIC 3206   490.0   \n",
      "3           4                               Albert Park VIC 3206  1280.0   \n",
      "4           5  214/363 Beaconsfield Parade, Middle Park VIC 3206   350.0   \n",
      "\n",
      "  Property Type  Bedrooms  Bathrooms   Latitude   Longitude  \\\n",
      "0     Apartment         1          1 -37.847553  144.960477   \n",
      "1     Apartment         1          1 -37.839959  144.956373   \n",
      "2     Apartment         1          1 -37.841670  144.955332   \n",
      "3     Apartment         1          1 -37.843861  144.951454   \n",
      "4     Apartment         1          1 -37.854035  144.961308   \n",
      "\n",
      "  Closest Gov Secondary School Gov Secondary Distance Age under 20 Age 20-39  \\\n",
      "0          Albert Park College            1.2 km away          36%       15%   \n",
      "1          Albert Park College            0.9 km away          28%       18%   \n",
      "2          Albert Park College            0.8 km away          20%       26%   \n",
      "3          Albert Park College            0.4 km away          17%       20%   \n",
      "4          Albert Park College            1.6 km away          19%       24%   \n",
      "\n",
      "  Age 40-59 Age 60+  Postcode  \n",
      "0       30%     19%      3206  \n",
      "1       28%     26%      3206  \n",
      "2       29%     25%      3206  \n",
      "3       36%     27%      3206  \n",
      "4       27%     29%      3206  \n",
      "<class 'pandas.core.frame.DataFrame'>\n",
      "RangeIndex: 6283 entries, 0 to 6282\n",
      "Data columns (total 15 columns):\n",
      " #   Column                        Non-Null Count  Dtype  \n",
      "---  ------                        --------------  -----  \n",
      " 0   Unnamed: 0                    6283 non-null   int64  \n",
      " 1   Address                       6283 non-null   object \n",
      " 2   Cost                          6283 non-null   float64\n",
      " 3   Property Type                 6283 non-null   object \n",
      " 4   Bedrooms                      6283 non-null   int64  \n",
      " 5   Bathrooms                     6283 non-null   int64  \n",
      " 6   Latitude                      6283 non-null   float64\n",
      " 7   Longitude                     6283 non-null   float64\n",
      " 8   Closest Gov Secondary School  5468 non-null   object \n",
      " 9   Gov Secondary Distance        5468 non-null   object \n",
      " 10  Age under 20                  6210 non-null   object \n",
      " 11  Age 20-39                     6210 non-null   object \n",
      " 12  Age 40-59                     6210 non-null   object \n",
      " 13  Age 60+                       6210 non-null   object \n",
      " 14  Postcode                      6283 non-null   int64  \n",
      "dtypes: float64(3), int64(4), object(8)\n",
      "memory usage: 736.4+ KB\n",
      "None\n",
      "Missing values per column:\n",
      " Unnamed: 0                        0\n",
      "Address                           0\n",
      "Cost                              0\n",
      "Property Type                     0\n",
      "Bedrooms                          0\n",
      "Bathrooms                         0\n",
      "Latitude                          0\n",
      "Longitude                         0\n",
      "Closest Gov Secondary School    815\n",
      "Gov Secondary Distance          815\n",
      "Age under 20                     73\n",
      "Age 20-39                        73\n",
      "Age 40-59                        73\n",
      "Age 60+                          73\n",
      "Postcode                          0\n",
      "dtype: int64\n"
     ]
    }
   ],
   "source": [
    "print(property.head())\n",
    "print(property.info())\n",
    "\n",
    "# Check specific columns for unexpected NaN values\n",
    "print(\"Missing values per column:\\n\", property.isna().sum())"
   ]
  },
  {
   "cell_type": "markdown",
   "id": "757a5d66",
   "metadata": {},
   "source": [
    "# Combine data with all API calculated distance to locations"
   ]
  },
  {
   "cell_type": "code",
   "execution_count": 12,
   "id": "9771638d",
   "metadata": {},
   "outputs": [],
   "source": [
    "distance_files = {\n",
    "    \"CBD Distance\": \"../../data/raw/domain/cbd_distance.csv\",\n",
    "    \"Train Distance\": \"../../data/raw/domain/train_distance.csv\",\n",
    "    \"Electricity Distance\": \"../../data/raw/domain/elec_distance.csv\",\n",
    "    \"Hospital Distance\": \"../../data/raw/domain/hospital_distance.csv\",\n",
    "    \"Library Distance\": \"../../data/raw/domain/lib_distance.csv\",\n",
    "    \"Park Distance\": \"../../data/raw/domain/park_distance.csv\",\n",
    "    \"Tourist Attraction Distance\": \"../../data/raw/domain/tour_distance.csv\",\n",
    "    \"Grocery Distance\": \"../../data/raw/domain/shop_distance.csv\"\n",
    "}"
   ]
  },
  {
   "cell_type": "code",
   "execution_count": 13,
   "id": "1202d5f5",
   "metadata": {},
   "outputs": [],
   "source": [
    "# Join\n",
    "for column_name, file_path in distance_files.items():\n",
    "    # Load the CSV file\n",
    "    new_column_data = pd.read_csv(file_path)\n",
    "    \n",
    "    # Check if the number of rows matches the filtered_merge DataFrame\n",
    "    if len(new_column_data) == len(property):\n",
    "        # Add the new column to the filtered_merge DataFrame\n",
    "        property[column_name] = new_column_data.iloc[:, 0]\n",
    "    else:\n",
    "        print(f\"Warning: File {file_path} has a different number of rows and was not added.\")\n"
   ]
  },
  {
   "cell_type": "markdown",
   "id": "e7ff6a4a",
   "metadata": {},
   "source": [
    "# Feature Generation - 'Year' on property_data\n",
    "Assumption: There is no large change on the public facilities"
   ]
  },
  {
   "cell_type": "code",
   "execution_count": 14,
   "id": "e5adcf0c",
   "metadata": {},
   "outputs": [
    {
     "data": {
      "image/png": "[encoded data removed]",
      "text/plain": [
       "<Figure size 800x600 with 1 Axes>"
      ]
     },
     "metadata": {},
     "output_type": "display_data"
    }
   ],
   "source": [
    "property.shape\n",
    "process.plot_boxplots(property, 'Cost')"
   ]
  },
  {
   "cell_type": "code",
   "execution_count": 15,
   "id": "023865d3",
   "metadata": {},
   "outputs": [
    {
     "data": {
      "text/plain": [
       "(6221, 23)"
      ]
     },
     "execution_count": 15,
     "metadata": {},
     "output_type": "execute_result"
    }
   ],
   "source": [
    "# Before add 'Year' and generate records belongs to different years, remove the outlier on 'Cost'\n",
    "property = process.outlier_remover(property, 'Cost')\n",
    "property.shape"
   ]
  },
  {
   "cell_type": "code",
   "execution_count": 16,
   "id": "d22738b9",
   "metadata": {},
   "outputs": [
    {
     "data": {
      "text/plain": [
       "Index(['Address', 'Cost', 'Property Type', 'Bedrooms', 'Bathrooms', 'Latitude',\n",
       "       'Longitude', 'Closest Gov Secondary School', 'Gov Secondary Distance',\n",
       "       'Age under 20', 'Age 20-39', 'Age 40-59', 'Age 60+', 'Postcode',\n",
       "       'CBD Distance', 'Train Distance', 'Electricity Distance',\n",
       "       'Hospital Distance', 'Library Distance', 'Park Distance',\n",
       "       'Tourist Attraction Distance', 'Grocery Distance'],\n",
       "      dtype='object')"
      ]
     },
     "execution_count": 16,
     "metadata": {},
     "output_type": "execute_result"
    }
   ],
   "source": [
    "property = property.drop(columns=['Unnamed: 0'])\n",
    "property.columns"
   ]
  },
  {
   "cell_type": "code",
   "execution_count": 17,
   "id": "696882e1",
   "metadata": {},
   "outputs": [
    {
     "name": "stdout",
     "output_type": "stream",
     "text": [
      "<class 'pandas.core.frame.DataFrame'>\n",
      "RangeIndex: 80873 entries, 0 to 80872\n",
      "Data columns (total 23 columns):\n",
      " #   Column                        Non-Null Count  Dtype \n",
      "---  ------                        --------------  ----- \n",
      " 0   Address                       80873 non-null  object\n",
      " 1   Cost                          80873 non-null  object\n",
      " 2   Property Type                 80873 non-null  object\n",
      " 3   Bedrooms                      80873 non-null  object\n",
      " 4   Bathrooms                     80873 non-null  object\n",
      " 5   Latitude                      80873 non-null  object\n",
      " 6   Longitude                     80873 non-null  object\n",
      " 7   Closest Gov Secondary School  70395 non-null  object\n",
      " 8   Gov Secondary Distance        70395 non-null  object\n",
      " 9   Age under 20                  79924 non-null  object\n",
      " 10  Age 20-39                     79924 non-null  object\n",
      " 11  Age 40-59                     79924 non-null  object\n",
      " 12  Age 60+                       79924 non-null  object\n",
      " 13  Postcode                      80873 non-null  object\n",
      " 14  CBD Distance                  80873 non-null  object\n",
      " 15  Train Distance                80873 non-null  object\n",
      " 16  Electricity Distance          80873 non-null  object\n",
      " 17  Hospital Distance             80873 non-null  object\n",
      " 18  Library Distance              80873 non-null  object\n",
      " 19  Park Distance                 80873 non-null  object\n",
      " 20  Tourist Attraction Distance   80873 non-null  object\n",
      " 21  Grocery Distance              80873 non-null  object\n",
      " 22  Year                          80873 non-null  int64 \n",
      "dtypes: int64(1), object(22)\n",
      "memory usage: 14.2+ MB\n"
     ]
    }
   ],
   "source": [
    "# list of year\n",
    "years = list(range(2015, 2028)) \n",
    "property_year = pd.DataFrame(np.repeat(property.values, len(years), axis=0), columns=property.columns)\n",
    "\n",
    "# add 'Year' feature on property_Data\n",
    "property_year['Year'] = np.tile(years, len(property))\n",
    "\n",
    "property_year.info()\n"
   ]
  },
  {
   "cell_type": "code",
   "execution_count": 18,
   "id": "fa26d4b3",
   "metadata": {},
   "outputs": [],
   "source": [
    "# Set the 'Cost' column to NaN for all records where the 'Year' is not 2024\n",
    "property_year['Cost'] = np.where(property_year['Year'] == 2024, property_year['Cost'], np.nan)"
   ]
  },
  {
   "cell_type": "markdown",
   "id": "1d5ba8d7",
   "metadata": {},
   "source": [
    "# Merge property_data and income_data, population_data"
   ]
  },
  {
   "cell_type": "code",
   "execution_count": 19,
   "id": "24837702",
   "metadata": {},
   "outputs": [
    {
     "name": "stdout",
     "output_type": "stream",
     "text": [
      "Corrected 'SA2  code' values: ['201011001' '201011002' '201011005' '201011006' '201011007' '201011008'\n",
      " '201011481' '201011482' '201011483' '201011484']\n"
     ]
    }
   ],
   "source": [
    "# Fix SA2 code being float issue\n",
    "population['SA2 code'] = population['SA2 code'].apply(lambda x: str(int(x)) if not pd.isna(x) else '')\n",
    "\n",
    "# Inspect the corrected 'SA2  code' values\n",
    "print(\"Corrected 'SA2  code' values:\", population['SA2 code'].unique()[:10])"
   ]
  },
  {
   "cell_type": "code",
   "execution_count": 20,
   "id": "c3bcdaca",
   "metadata": {},
   "outputs": [
    {
     "name": "stdout",
     "output_type": "stream",
     "text": [
      "Corrected 'SA2  code' values: ['201011001' '201011002' '201011005' '201011006' '201011007' '201011008'\n",
      " '201011481' '201011482' '201011483' '201011484']\n"
     ]
    }
   ],
   "source": [
    "# Fix SA2 code being float issue\n",
    "income['SA2 Code'] = income['SA2 Code'].apply(lambda x: str(int(x)) if not pd.isna(x) else '')\n",
    "\n",
    "# Inspect the corrected 'SA2  code' values\n",
    "print(\"Corrected 'SA2  code' values:\", income['SA2 Code'].unique()[:10])"
   ]
  },
  {
   "cell_type": "code",
   "execution_count": 21,
   "id": "9499f4f5",
   "metadata": {},
   "outputs": [],
   "source": [
    "# Modify property to prepare join with shapefile\n",
    "property_year['geometry'] = property_year.apply(lambda row: Point(row['Longitude'], row['Latitude']), axis=1)\n",
    "property_gdf = gpd.GeoDataFrame(property_year, geometry='geometry', crs=SA2_gdf.crs)"
   ]
  },
  {
   "cell_type": "code",
   "execution_count": 22,
   "id": "696cac79",
   "metadata": {},
   "outputs": [
    {
     "name": "stdout",
     "output_type": "stream",
     "text": [
      "<class 'geopandas.geodataframe.GeoDataFrame'>\n",
      "Index: 80873 entries, 0 to 80872\n",
      "Data columns (total 41 columns):\n",
      " #   Column                        Non-Null Count  Dtype   \n",
      "---  ------                        --------------  -----   \n",
      " 0   Address                       80873 non-null  object  \n",
      " 1   Cost                          6221 non-null   object  \n",
      " 2   Property Type                 80873 non-null  object  \n",
      " 3   Bedrooms                      80873 non-null  object  \n",
      " 4   Bathrooms                     80873 non-null  object  \n",
      " 5   Latitude                      80873 non-null  object  \n",
      " 6   Longitude                     80873 non-null  object  \n",
      " 7   Closest Gov Secondary School  70395 non-null  object  \n",
      " 8   Gov Secondary Distance        70395 non-null  object  \n",
      " 9   Age under 20                  79924 non-null  object  \n",
      " 10  Age 20-39                     79924 non-null  object  \n",
      " 11  Age 40-59                     79924 non-null  object  \n",
      " 12  Age 60+                       79924 non-null  object  \n",
      " 13  Postcode                      80873 non-null  object  \n",
      " 14  CBD Distance                  80873 non-null  object  \n",
      " 15  Train Distance                80873 non-null  object  \n",
      " 16  Electricity Distance          80873 non-null  object  \n",
      " 17  Hospital Distance             80873 non-null  object  \n",
      " 18  Library Distance              80873 non-null  object  \n",
      " 19  Park Distance                 80873 non-null  object  \n",
      " 20  Tourist Attraction Distance   80873 non-null  object  \n",
      " 21  Grocery Distance              80873 non-null  object  \n",
      " 22  Year                          80873 non-null  int64   \n",
      " 23  geometry                      80873 non-null  geometry\n",
      " 24  index_right                   80847 non-null  float64 \n",
      " 25  SA2_CODE21                    80873 non-null  object  \n",
      " 26  SA2_NAME21                    80847 non-null  object  \n",
      " 27  CHG_FLAG21                    80847 non-null  object  \n",
      " 28  CHG_LBL21                     80847 non-null  object  \n",
      " 29  SA3_CODE21                    80847 non-null  object  \n",
      " 30  SA3_NAME21                    80847 non-null  object  \n",
      " 31  SA4_CODE21                    80847 non-null  object  \n",
      " 32  SA4_NAME21                    80847 non-null  object  \n",
      " 33  GCC_CODE21                    80847 non-null  object  \n",
      " 34  GCC_NAME21                    80847 non-null  object  \n",
      " 35  STE_CODE21                    80847 non-null  object  \n",
      " 36  STE_NAME21                    80847 non-null  object  \n",
      " 37  AUS_CODE21                    80847 non-null  object  \n",
      " 38  AUS_NAME21                    80847 non-null  object  \n",
      " 39  AREASQKM21                    80847 non-null  float64 \n",
      " 40  LOCI_URI21                    80847 non-null  object  \n",
      "dtypes: float64(2), geometry(1), int64(1), object(37)\n",
      "memory usage: 25.9+ MB\n"
     ]
    }
   ],
   "source": [
    "# Join the SA2_code into property_data\n",
    "mapped_properties = gpd.sjoin(property_gdf, SA2_gdf, how='left', predicate='within')\n",
    "mapped_properties['SA2_CODE21'] = mapped_properties['SA2_CODE21'].astype(str)\n",
    "\n",
    "mapped_properties.info()"
   ]
  },
  {
   "cell_type": "code",
   "execution_count": 23,
   "id": "a33128e0",
   "metadata": {},
   "outputs": [
    {
     "data": {
      "text/plain": [
       "Index(['Address', 'Cost', 'Property Type', 'Bedrooms', 'Bathrooms', 'Latitude',\n",
       "       'Longitude', 'Closest Gov Secondary School', 'Gov Secondary Distance',\n",
       "       'Age under 20', 'Age 20-39', 'Age 40-59', 'Age 60+', 'Postcode',\n",
       "       'CBD Distance', 'Train Distance', 'Electricity Distance',\n",
       "       'Hospital Distance', 'Library Distance', 'Park Distance',\n",
       "       'Tourist Attraction Distance', 'Grocery Distance', 'Year', 'geometry',\n",
       "       'index_right', 'SA2_CODE21', 'SA2_NAME21', 'CHG_FLAG21', 'CHG_LBL21',\n",
       "       'SA3_CODE21', 'SA3_NAME21', 'SA4_CODE21', 'SA4_NAME21', 'GCC_CODE21',\n",
       "       'GCC_NAME21', 'STE_CODE21', 'STE_NAME21', 'AUS_CODE21', 'AUS_NAME21',\n",
       "       'AREASQKM21', 'LOCI_URI21'],\n",
       "      dtype='object')"
      ]
     },
     "execution_count": 23,
     "metadata": {},
     "output_type": "execute_result"
    }
   ],
   "source": [
    "mapped_properties.columns"
   ]
  },
  {
   "cell_type": "code",
   "execution_count": 24,
   "id": "382d9186",
   "metadata": {},
   "outputs": [
    {
     "name": "stdout",
     "output_type": "stream",
     "text": [
      "<class 'geopandas.geodataframe.GeoDataFrame'>\n",
      "RangeIndex: 80873 entries, 0 to 80872\n",
      "Data columns (total 45 columns):\n",
      " #   Column                        Non-Null Count  Dtype   \n",
      "---  ------                        --------------  -----   \n",
      " 0   Address                       80873 non-null  object  \n",
      " 1   Cost                          6221 non-null   object  \n",
      " 2   Property Type                 80873 non-null  object  \n",
      " 3   Bedrooms                      80873 non-null  object  \n",
      " 4   Bathrooms                     80873 non-null  object  \n",
      " 5   Latitude                      80873 non-null  object  \n",
      " 6   Longitude                     80873 non-null  object  \n",
      " 7   Closest Gov Secondary School  70395 non-null  object  \n",
      " 8   Gov Secondary Distance        70395 non-null  object  \n",
      " 9   Age under 20                  79924 non-null  object  \n",
      " 10  Age 20-39                     79924 non-null  object  \n",
      " 11  Age 40-59                     79924 non-null  object  \n",
      " 12  Age 60+                       79924 non-null  object  \n",
      " 13  Postcode                      80873 non-null  object  \n",
      " 14  CBD Distance                  80873 non-null  object  \n",
      " 15  Train Distance                80873 non-null  object  \n",
      " 16  Electricity Distance          80873 non-null  object  \n",
      " 17  Hospital Distance             80873 non-null  object  \n",
      " 18  Library Distance              80873 non-null  object  \n",
      " 19  Park Distance                 80873 non-null  object  \n",
      " 20  Tourist Attraction Distance   80873 non-null  object  \n",
      " 21  Grocery Distance              80873 non-null  object  \n",
      " 22  Year                          80873 non-null  int64   \n",
      " 23  geometry                      80873 non-null  geometry\n",
      " 24  index_right                   80847 non-null  float64 \n",
      " 25  SA2_CODE21                    80873 non-null  object  \n",
      " 26  SA2_NAME21                    80847 non-null  object  \n",
      " 27  CHG_FLAG21                    80847 non-null  object  \n",
      " 28  CHG_LBL21                     80847 non-null  object  \n",
      " 29  SA3_CODE21                    80847 non-null  object  \n",
      " 30  SA3_NAME21                    80847 non-null  object  \n",
      " 31  SA4_CODE21                    80847 non-null  object  \n",
      " 32  SA4_NAME21                    80847 non-null  object  \n",
      " 33  GCC_CODE21                    80847 non-null  object  \n",
      " 34  GCC_NAME21                    80847 non-null  object  \n",
      " 35  STE_CODE21                    80847 non-null  object  \n",
      " 36  STE_NAME21                    80847 non-null  object  \n",
      " 37  AUS_CODE21                    80847 non-null  object  \n",
      " 38  AUS_NAME21                    80847 non-null  object  \n",
      " 39  AREASQKM21                    80847 non-null  float64 \n",
      " 40  LOCI_URI21                    80847 non-null  object  \n",
      " 41  SA2 code                      80847 non-null  object  \n",
      " 42  Population                    80847 non-null  float64 \n",
      " 43  SA2 Code                      80847 non-null  object  \n",
      " 44  Income                        80847 non-null  object  \n",
      "dtypes: float64(3), geometry(1), int64(1), object(40)\n",
      "memory usage: 27.8+ MB\n"
     ]
    }
   ],
   "source": [
    "# Merge the spatially joined property_data with population_data and income_data base on 'Year' and 'SA2_code'\n",
    "# merge property_data and population_data\n",
    "df_merged = pd.merge(mapped_properties, population, left_on=['Year', 'SA2_CODE21'], right_on=['Year', 'SA2 code'], how='left')\n",
    "\n",
    "\n",
    "# merge property_population_data and income_data\n",
    "df_merged = pd.merge(df_merged, income, left_on=['Year', 'SA2_CODE21'], right_on=['Year', 'SA2 Code'], how='left')\n",
    "\n",
    "df_merged.info()"
   ]
  },
  {
   "cell_type": "code",
   "execution_count": 25,
   "id": "9be0ba0b",
   "metadata": {},
   "outputs": [
    {
     "data": {
      "text/plain": [
       "Index(['Address', 'Cost', 'Property Type', 'Bedrooms', 'Bathrooms', 'Latitude',\n",
       "       'Longitude', 'Closest Gov Secondary School', 'Gov Secondary Distance',\n",
       "       'Age under 20', 'Age 20-39', 'Age 40-59', 'Age 60+', 'Postcode',\n",
       "       'CBD Distance', 'Train Distance', 'Electricity Distance',\n",
       "       'Hospital Distance', 'Library Distance', 'Park Distance',\n",
       "       'Tourist Attraction Distance', 'Grocery Distance', 'Year', 'geometry',\n",
       "       'index_right', 'SA2_CODE21', 'SA2_NAME21', 'CHG_FLAG21', 'CHG_LBL21',\n",
       "       'SA3_CODE21', 'SA3_NAME21', 'SA4_CODE21', 'SA4_NAME21', 'GCC_CODE21',\n",
       "       'GCC_NAME21', 'STE_CODE21', 'STE_NAME21', 'AUS_CODE21', 'AUS_NAME21',\n",
       "       'AREASQKM21', 'LOCI_URI21', 'SA2 code', 'Population', 'SA2 Code',\n",
       "       'Income'],\n",
       "      dtype='object')"
      ]
     },
     "execution_count": 25,
     "metadata": {},
     "output_type": "execute_result"
    }
   ],
   "source": [
    "df_merged.columns"
   ]
  },
  {
   "cell_type": "code",
   "execution_count": 26,
   "id": "802396c3",
   "metadata": {},
   "outputs": [
    {
     "data": {
      "text/plain": [
       "(80873, 26)"
      ]
     },
     "execution_count": 26,
     "metadata": {},
     "output_type": "execute_result"
    }
   ],
   "source": [
    "# select features\n",
    "drop_columns = ['geometry', 'index_right', 'SA2_NAME21', 'CHG_FLAG21', 'CHG_LBL21',\n",
    "       'SA3_CODE21', 'SA3_NAME21', 'SA4_CODE21', 'SA4_NAME21', 'GCC_CODE21',\n",
    "       'GCC_NAME21', 'STE_CODE21', 'STE_NAME21', 'AUS_CODE21', 'AUS_NAME21',\n",
    "       'AREASQKM21', 'LOCI_URI21', 'SA2 code', 'SA2 Code']\n",
    "\n",
    "# Drop useless features\n",
    "df_filtered = df_merged.drop(drop_columns, axis=1)\n",
    "df_filtered.columns\n",
    "df_filtered.shape"
   ]
  },
  {
   "cell_type": "code",
   "execution_count": 27,
   "id": "dd659aba",
   "metadata": {},
   "outputs": [],
   "source": [
    "# Modify property to prepare join with shapefile\n",
    "df_filtered['geometry'] = df_filtered.apply(lambda row: Point(row['Longitude'], row['Latitude']), axis=1)\n",
    "property_gdf_filtered = gpd.GeoDataFrame(df_filtered, geometry='geometry', crs=LGA_gdf.crs)"
   ]
  },
  {
   "cell_type": "code",
   "execution_count": 28,
   "id": "e153ce97",
   "metadata": {},
   "outputs": [
    {
     "data": {
      "text/plain": [
       "Index(['Address', 'Cost', 'Property Type', 'Bedrooms', 'Bathrooms', 'Latitude',\n",
       "       'Longitude', 'Closest Gov Secondary School', 'Gov Secondary Distance',\n",
       "       'Age under 20', 'Age 20-39', 'Age 40-59', 'Age 60+', 'Postcode',\n",
       "       'CBD Distance', 'Train Distance', 'Electricity Distance',\n",
       "       'Hospital Distance', 'Library Distance', 'Park Distance',\n",
       "       'Tourist Attraction Distance', 'Grocery Distance', 'Year', 'SA2_CODE21',\n",
       "       'Population', 'Income', 'geometry', 'index_right', 'LGA_CODE24',\n",
       "       'LGA_NAME24', 'STE_CODE21', 'STE_NAME21', 'AUS_CODE21', 'AUS_NAME21',\n",
       "       'AREASQKM', 'LOCI_URI21'],\n",
       "      dtype='object')"
      ]
     },
     "execution_count": 28,
     "metadata": {},
     "output_type": "execute_result"
    }
   ],
   "source": [
    "# Join\n",
    "df_filtered = gpd.sjoin(property_gdf_filtered, LGA_gdf, how='left', predicate='within')\n",
    "df_filtered['LGA_NAME24'] = df_filtered['LGA_NAME24'].astype(str)\n",
    "\n",
    "df_filtered.columns"
   ]
  },
  {
   "cell_type": "code",
   "execution_count": 29,
   "id": "047c979b",
   "metadata": {},
   "outputs": [],
   "source": [
    "crime['Local Government Area'] = crime['Local Government Area'].astype(str)\n",
    "crime['Local Government Area'] = crime['Local Government Area'].str.strip()\n",
    "df_filtered['LGA_NAME24'] = df_filtered['LGA_NAME24'].str.strip()\n"
   ]
  },
  {
   "cell_type": "code",
   "execution_count": 30,
   "id": "f091d6d5",
   "metadata": {},
   "outputs": [],
   "source": [
    "# Merge the spatially joined data with property and crime data using the correct column names\n",
    "df_filtered = pd.merge(\n",
    "    df_filtered, \n",
    "    crime, \n",
    "    left_on=['Year', 'LGA_NAME24'], \n",
    "    right_on=['Year', 'Local Government Area'], \n",
    "    how='left'\n",
    "    )\n"
   ]
  },
  {
   "cell_type": "code",
   "execution_count": 31,
   "id": "735e5887-3628-4d85-a7bf-63fb5fbcbe3d",
   "metadata": {},
   "outputs": [
    {
     "data": {
      "text/plain": [
       "Index(['Address', 'Cost', 'Property Type', 'Bedrooms', 'Bathrooms', 'Latitude',\n",
       "       'Longitude', 'Closest Gov Secondary School', 'Gov Secondary Distance',\n",
       "       'Age under 20', 'Age 20-39', 'Age 40-59', 'Age 60+', 'Postcode',\n",
       "       'CBD Distance', 'Train Distance', 'Electricity Distance',\n",
       "       'Hospital Distance', 'Library Distance', 'Park Distance',\n",
       "       'Tourist Attraction Distance', 'Grocery Distance', 'Year', 'SA2_CODE21',\n",
       "       'Population', 'Income', 'LGA_CODE24', 'Incidents Recorded'],\n",
       "      dtype='object')"
      ]
     },
     "execution_count": 31,
     "metadata": {},
     "output_type": "execute_result"
    }
   ],
   "source": [
    "drop_columns = ['geometry', 'index_right',  'LGA_NAME24', 'STE_CODE21', \n",
    "                'STE_NAME21', 'AUS_CODE21', 'AUS_NAME21', 'AREASQKM', 'LOCI_URI21',\n",
    "                'Local Government Area']\n",
    "\n",
    "# Filter the merged data to keep only the selected columns\n",
    "filtered_merge = df_filtered.drop(drop_columns, axis=1)\n",
    "filtered_merge.columns"
   ]
  },
  {
   "cell_type": "code",
   "execution_count": 32,
   "id": "d201661a",
   "metadata": {},
   "outputs": [
    {
     "name": "stdout",
     "output_type": "stream",
     "text": [
      "<class 'pandas.core.frame.DataFrame'>\n",
      "RangeIndex: 80873 entries, 0 to 80872\n",
      "Data columns (total 28 columns):\n",
      " #   Column                        Non-Null Count  Dtype  \n",
      "---  ------                        --------------  -----  \n",
      " 0   Address                       80873 non-null  object \n",
      " 1   Cost                          6221 non-null   object \n",
      " 2   Property Type                 80873 non-null  object \n",
      " 3   Bedrooms                      80873 non-null  object \n",
      " 4   Bathrooms                     80873 non-null  object \n",
      " 5   Latitude                      80873 non-null  object \n",
      " 6   Longitude                     80873 non-null  object \n",
      " 7   Closest Gov Secondary School  70395 non-null  object \n",
      " 8   Gov Secondary Distance        70395 non-null  object \n",
      " 9   Age under 20                  79924 non-null  object \n",
      " 10  Age 20-39                     79924 non-null  object \n",
      " 11  Age 40-59                     79924 non-null  object \n",
      " 12  Age 60+                       79924 non-null  object \n",
      " 13  Postcode                      80873 non-null  object \n",
      " 14  CBD Distance                  80873 non-null  object \n",
      " 15  Train Distance                80873 non-null  object \n",
      " 16  Electricity Distance          80873 non-null  object \n",
      " 17  Hospital Distance             80873 non-null  object \n",
      " 18  Library Distance              80873 non-null  object \n",
      " 19  Park Distance                 80873 non-null  object \n",
      " 20  Tourist Attraction Distance   80873 non-null  object \n",
      " 21  Grocery Distance              80873 non-null  object \n",
      " 22  Year                          80873 non-null  int64  \n",
      " 23  SA2_CODE21                    80873 non-null  object \n",
      " 24  Population                    80847 non-null  float64\n",
      " 25  Income                        80847 non-null  object \n",
      " 26  LGA_CODE24                    80847 non-null  object \n",
      " 27  Incidents Recorded            76934 non-null  float64\n",
      "dtypes: float64(2), int64(1), object(25)\n",
      "memory usage: 17.3+ MB\n"
     ]
    }
   ],
   "source": [
    "filtered_merge.info()"
   ]
  },
  {
   "cell_type": "code",
   "execution_count": 33,
   "id": "1fe5ad57",
   "metadata": {},
   "outputs": [
    {
     "data": {
      "text/plain": [
       "Address                         8/90 Hambleton Street, Middle Park VIC 3206\n",
       "Cost                                                                    NaN\n",
       "Property Type                                                     Apartment\n",
       "Bedrooms                                                                  1\n",
       "Bathrooms                                                                 1\n",
       "Latitude                                                         -37.847553\n",
       "Longitude                                                        144.960477\n",
       "Closest Gov Secondary School                            Albert Park College\n",
       "Gov Secondary Distance                                          1.2 km away\n",
       "Age under 20                                                            36%\n",
       "Age 20-39                                                               15%\n",
       "Age 40-59                                                               30%\n",
       "Age 60+                                                                 19%\n",
       "Postcode                                                               3206\n",
       "CBD Distance                                                         4.9721\n",
       "Train Distance                                                        4.264\n",
       "Electricity Distance                                                   3.11\n",
       "Hospital Distance                                                    3.6124\n",
       "Library Distance                                                      0.427\n",
       "Park Distance                                                        0.1886\n",
       "Tourist Attraction Distance                                          0.5198\n",
       "Grocery Distance                                                     1.6056\n",
       "Year                                                                   2016\n",
       "SA2_CODE21                                                        206051128\n",
       "Population                                                          16490.0\n",
       "Income                                                               65,352\n",
       "LGA_CODE24                                                            25900\n",
       "Incidents Recorded                                                   9846.0\n",
       "Name: 1, dtype: object"
      ]
     },
     "execution_count": 33,
     "metadata": {},
     "output_type": "execute_result"
    }
   ],
   "source": [
    "filtered_merge.iloc[1]"
   ]
  },
  {
   "cell_type": "code",
   "execution_count": 34,
   "id": "3e6c298d-b0e9-472a-84b4-2e756a19bed5",
   "metadata": {},
   "outputs": [],
   "source": [
    "# Save the updated DataFrame if needed\n",
    "filtered_merge.to_csv(\"../../data/raw/individual_property_unpreprocessed.csv\", index=False)"
   ]
  }
 ],
 "metadata": {
  "kernelspec": {
   "display_name": "Python 3 (ipykernel)",
   "language": "python",
   "name": "python3"
  },
  "language_info": {
   "codemirror_mode": {
    "name": "ipython",
    "version": 3
   },
   "file_extension": ".py",
   "mimetype": "text/x-python",
   "name": "python",
   "nbconvert_exporter": "python",
   "pygments_lexer": "ipython3",
   "version": "3.11.9"
  }
 },
 "nbformat": 4,
 "nbformat_minor": 5
}
