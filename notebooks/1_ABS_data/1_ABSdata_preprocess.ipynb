{
 "cells": [
  {
   "cell_type": "code",
   "execution_count": 1,
   "metadata": {},
   "outputs": [],
   "source": [
    "import pandas as pd\n",
    "import os"
   ]
  },
  {
   "cell_type": "code",
   "execution_count": 2,
   "metadata": {},
   "outputs": [
    {
     "name": "stdout",
     "output_type": "stream",
     "text": [
      "Filtered data saved to ../../data/curated/2023_population_data_filtered.csv\n"
     ]
    }
   ],
   "source": [
    "# Define file paths\n",
    "input_file_path = '../../data/raw/ABS_population/population_data_table_2.csv'\n",
    "output_file_path = '../../data/curated/2023_population_data_filtered.csv'\n",
    "\n",
    "# Create output directory if it doesn't exist\n",
    "output_dir = os.path.dirname(output_file_path)\n",
    "os.makedirs(output_dir, exist_ok=True)\n",
    "\n",
    "# Load the dataset\n",
    "df = pd.read_csv(input_file_path)\n",
    "\n",
    "# Select only 'SA2 code' and 'no..1', rename 'no..1' to '2023'\n",
    "df_filtered = df[['SA2 code', 'no..1']].rename(columns={'no..1': '2023'})\n",
    "\n",
    "# Save the filtered dataset to the 'curated' folder\n",
    "df_filtered.to_csv(output_file_path, index=False)\n",
    "\n",
    "print(f\"Filtered data saved to {output_file_path}\")\n"
   ]
  },
  {
   "cell_type": "code",
   "execution_count": 3,
   "metadata": {},
   "outputs": [
    {
     "name": "stdout",
     "output_type": "stream",
     "text": [
      "Filtered data saved to ../../data/curated/income_2020_filtered.csv\n"
     ]
    }
   ],
   "source": [
    "# Define file paths\n",
    "input_file_path = '../../data/raw/Income_Statistics/Income_Statistics_2020.csv'\n",
    "output_file_path = '../../data/curated/income_2020_filtered.csv'\n",
    "\n",
    "# Create output directory if it doesn't exist\n",
    "output_dir = os.path.dirname(output_file_path)\n",
    "os.makedirs(output_dir, exist_ok=True)\n",
    "\n",
    "# Load the dataset\n",
    "df = pd.read_csv(input_file_path)\n",
    "\n",
    "# Select only 'SA2' and '2020-21.4', rename '2020-21.4' to 'income_2020'\n",
    "df_filtered = df[['SA2', '2020-21.4']].rename(columns={'2020-21.4': 'income_2020'})\n",
    "\n",
    "# Save the filtered dataset to the 'curated' folder\n",
    "df_filtered.to_csv(output_file_path, index=False)\n",
    "\n",
    "print(f\"Filtered data saved to {output_file_path}\")"
   ]
  },
  {
   "cell_type": "code",
   "execution_count": 4,
   "metadata": {},
   "outputs": [
    {
     "name": "stdout",
     "output_type": "stream",
     "text": [
      "Merged data saved to ../../data/curated/merged_population_data.csv\n"
     ]
    }
   ],
   "source": [
    "# File paths\n",
    "population_2023_path = '../../data/curated/2023_population_data_filtered.csv'\n",
    "population_forecast_path = '../../data/raw/Population_Forecast/population_forecast_data.csv'\n",
    "output_file_path = '../../data/curated/merged_population_data.csv'\n",
    "\n",
    "# Create output directory if it doesn't exist\n",
    "output_dir = os.path.dirname(output_file_path)\n",
    "os.makedirs(output_dir, exist_ok=True)\n",
    "\n",
    "# Load the datasets\n",
    "df_2023 = pd.read_csv(population_2023_path)\n",
    "df_forecast = pd.read_csv(population_forecast_path)\n",
    "\n",
    "# Merge on 'SA2 code'\n",
    "df_merged = pd.merge(df_forecast, df_2023, left_on='SA2  code', right_on='SA2 code', how='inner')\n",
    "\n",
    "# Drop duplicate 'SA2 code' column from the right dataframe\n",
    "df_merged.drop(columns=['SA2 code'], inplace=True)\n",
    "\n",
    "# Save the merged DataFrame to the 'curated' folder\n",
    "df_merged.to_csv(output_file_path, index=False)\n",
    "\n",
    "print(f\"Merged data saved to {output_file_path}\")"
   ]
  },
  {
   "cell_type": "code",
   "execution_count": 5,
   "metadata": {},
   "outputs": [
    {
     "name": "stdout",
     "output_type": "stream",
     "text": [
      "Merged data saved to ../../data/curated/merged_population_income_data.csv\n"
     ]
    }
   ],
   "source": [
    "# File paths\n",
    "population_data_path = '../../data/curated/merged_population_data.csv'\n",
    "income_data_path = '../../data/curated/income_2020_filtered.csv'\n",
    "output_file_path = '../../data/curated/merged_population_income_data.csv'\n",
    "\n",
    "# Create output directory if it doesn't exist\n",
    "output_dir = os.path.dirname(output_file_path)\n",
    "os.makedirs(output_dir, exist_ok=True)\n",
    "\n",
    "# Load the datasets\n",
    "df_population = pd.read_csv(population_data_path)\n",
    "df_income = pd.read_csv(income_data_path)\n",
    "\n",
    "# Merge on 'SA2' code\n",
    "df_merged = pd.merge(df_population, df_income, left_on='SA2  code', right_on='SA2', how='left')\n",
    "\n",
    "# Drop duplicate 'SA2' column from the income dataframe\n",
    "df_merged.drop(columns=['SA2'], inplace=True)\n",
    "\n",
    "# Save the merged DataFrame to the 'curated' folder\n",
    "df_merged.to_csv(output_file_path, index=False)\n",
    "\n",
    "print(f\"Merged data saved to {output_file_path}\")\n"
   ]
  }
 ],
 "metadata": {
  "kernelspec": {
   "display_name": "Python 3 (ipykernel)",
   "language": "python",
   "name": "python3"
  },
  "language_info": {
   "codemirror_mode": {
    "name": "ipython",
    "version": 3
   },
   "file_extension": ".py",
   "mimetype": "text/x-python",
   "name": "python",
   "nbconvert_exporter": "python",
   "pygments_lexer": "ipython3",
   "version": "3.11.9"
  }
 },
 "nbformat": 4,
 "nbformat_minor": 4
}
