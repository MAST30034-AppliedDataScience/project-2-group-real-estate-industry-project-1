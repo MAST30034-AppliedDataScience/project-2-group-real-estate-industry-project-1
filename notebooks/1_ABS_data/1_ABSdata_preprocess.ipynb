{
 "cells": [
  {
   "cell_type": "code",
   "execution_count": 1,
   "metadata": {},
   "outputs": [],
   "source": [
    "import pandas as pd\n",
    "import os"
   ]
  },
  {
   "cell_type": "code",
   "execution_count": 2,
   "metadata": {},
   "outputs": [
    {
     "name": "stdout",
     "output_type": "stream",
     "text": [
      "Directory ../../data/raw/Past_income_population_preprocessed/ already exists, skipping creation.\n"
     ]
    }
   ],
   "source": [
    "# Define directories\n",
    "output_absolute_dir = '../../data/raw/Past_income_population_preprocessed/'\n",
    "\n",
    "# Create directories if they don't exist\n",
    "if not os.path.exists(output_absolute_dir):\n",
    "    os.makedirs(output_absolute_dir)\n",
    "    print(f\"Directory {output_absolute_dir} created.\")\n",
    "else:\n",
    "    print(f\"Directory {output_absolute_dir} already exists, skipping creation.\")"
   ]
  },
  {
   "cell_type": "code",
   "execution_count": 3,
   "metadata": {},
   "outputs": [
    {
     "name": "stdout",
     "output_type": "stream",
     "text": [
      "Filtered data saved to ../../data/raw/ABS_population/past_population_data_filtered.csv\n"
     ]
    },
    {
     "name": "stderr",
     "output_type": "stream",
     "text": [
      "/tmp/ipykernel_233283/2311046866.py:46: SettingWithCopyWarning: \n",
      "A value is trying to be set on a copy of a slice from a DataFrame\n",
      "\n",
      "See the caveats in the documentation: https://pandas.pydata.org/pandas-docs/stable/user_guide/indexing.html#returning-a-view-versus-a-copy\n",
      "  df_filtered.rename(columns=new_column_names, inplace=True)\n"
     ]
    }
   ],
   "source": [
    "# Define file paths\n",
    "input_file_path = '../../data/raw/ABS_population/population_data_table_2.csv'\n",
    "output_file_path = '../../data/raw/ABS_population/past_population_data_filtered.csv'\n",
    "\n",
    "# Create output directory if it doesn't exist\n",
    "output_dir = os.path.dirname(output_file_path)\n",
    "os.makedirs(output_dir, exist_ok=True)\n",
    "\n",
    "# Load the dataset\n",
    "df = pd.read_csv(input_file_path)\n",
    "\n",
    "# Select relevant columns\n",
    "columns_to_select = ['SA2 code', 'no.', 'no..1', 'no..2', 'no..3', 'no..4', 'no..5', 'no..6', 'no..7', 'no..8', \n",
    "                     'no..9', 'no..10', 'no..11', 'no..12', 'no..13', 'no..14', 'no..15', 'no..16', 'no..17', \n",
    "                     'no..18', 'no..19', 'no..20', 'no..21', 'no..22']\n",
    "\n",
    "df_filtered = df[columns_to_select]\n",
    "\n",
    "# Rename the columns\n",
    "new_column_names = {\n",
    "    'no.': 'population 2001',\n",
    "    'no..1': 'population 2002',\n",
    "    'no..2': 'population 2003',\n",
    "    'no..3': 'population 2004',\n",
    "    'no..4': 'population 2005',\n",
    "    'no..5': 'population 2006',\n",
    "    'no..6': 'population 2007',\n",
    "    'no..7': 'population 2008',\n",
    "    'no..8': 'population 2009',\n",
    "    'no..9': 'population 2010',\n",
    "    'no..10': 'population 2011',\n",
    "    'no..11': 'population 2012',\n",
    "    'no..12': 'population 2013',\n",
    "    'no..13': 'population 2014',\n",
    "    'no..14': 'population 2015',\n",
    "    'no..15': 'population 2016',\n",
    "    'no..16': 'population 2017',\n",
    "    'no..17': 'population 2018',\n",
    "    'no..18': 'population 2019',\n",
    "    'no..19': 'population 2020',\n",
    "    'no..20': 'population 2021',\n",
    "    'no..21': 'population 2022',\n",
    "    'no..22': 'population 2023'\n",
    "}\n",
    "\n",
    "df_filtered.rename(columns=new_column_names, inplace=True)\n",
    "\n",
    "# Save the filtered dataset to the 'curated' folder\n",
    "df_filtered.to_csv(output_file_path, index=False)\n",
    "\n",
    "print(f\"Filtered data saved to {output_file_path}\")\n"
   ]
  },
  {
   "cell_type": "code",
   "execution_count": 4,
   "metadata": {},
   "outputs": [
    {
     "name": "stdout",
     "output_type": "stream",
     "text": [
      "Filtered data saved to ../../data/raw/Past_income_population_preprocessed/income_2020_filtered.csv\n"
     ]
    }
   ],
   "source": [
    "# Define file paths\n",
    "input_file_path = '../../data/raw/Income_Statistics/Income_Statistics_2020.csv'\n",
    "output_file_path = '../../data/raw/Past_income_population_preprocessed/income_2020_filtered.csv'\n",
    "\n",
    "# Create output directory if it doesn't exist\n",
    "output_dir = os.path.dirname(output_file_path)\n",
    "os.makedirs(output_dir, exist_ok=True)\n",
    "\n",
    "# Load the dataset\n",
    "df = pd.read_csv(input_file_path)\n",
    "\n",
    "# Select the desired columns and rename them\n",
    "df_filtered = df[['SA2', '2016-17', '2017-18', '2018-19', '2019-20', '2020-21']].rename(\n",
    "    columns={\n",
    "        'SA2': 'SA2 Code',\n",
    "        '2016-17': '2016 income',\n",
    "        '2017-18': '2017 income',\n",
    "        '2018-19': '2018 income',\n",
    "        '2019-20': '2019 income',\n",
    "        '2020-21': '2020 income'\n",
    "    }\n",
    ")\n",
    "\n",
    "# Save the filtered dataset to the specified path\n",
    "df_filtered.to_csv(output_file_path, index=False)\n",
    "\n",
    "print(f\"Filtered data saved to {output_file_path}\")"
   ]
  }
 ],
 "metadata": {
  "kernelspec": {
   "display_name": "Python 3 (ipykernel)",
   "language": "python",
   "name": "python3"
  },
  "language_info": {
   "codemirror_mode": {
    "name": "ipython",
    "version": 3
   },
   "file_extension": ".py",
   "mimetype": "text/x-python",
   "name": "python",
   "nbconvert_exporter": "python",
   "pygments_lexer": "ipython3",
   "version": "3.11.9"
  }
 },
 "nbformat": 4,
 "nbformat_minor": 4
}
