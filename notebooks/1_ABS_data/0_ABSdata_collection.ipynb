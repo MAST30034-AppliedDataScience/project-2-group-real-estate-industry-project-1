{
 "cells": [
  {
   "cell_type": "code",
   "execution_count": 1,
   "metadata": {},
   "outputs": [],
   "source": [
    "import os\n",
    "import requests\n",
    "import zipfile"
   ]
  },
  {
   "cell_type": "code",
   "execution_count": 2,
   "metadata": {},
   "outputs": [
    {
     "name": "stdout",
     "output_type": "stream",
     "text": [
      "Directory ../../data/landing/ABS_SA2/ created.\n",
      "Directory ../../data/raw/ABS_SA2/ created.\n"
     ]
    }
   ],
   "source": [
    "# Define directories\n",
    "output_relative_dir = '../../data/landing/ABS_SA2/'\n",
    "output_absolute_dir = '../../data/raw/ABS_SA2/'\n",
    "\n",
    "# Create directories if they don't exist\n",
    "if not os.path.exists(output_relative_dir):\n",
    "    os.makedirs(output_relative_dir)\n",
    "    print(f\"Directory {output_relative_dir} created.\")\n",
    "else:\n",
    "    print(f\"Directory {output_relative_dir} already exists, skipping creation.\")\n",
    "\n",
    "if not os.path.exists(output_absolute_dir):\n",
    "    os.makedirs(output_absolute_dir)\n",
    "    print(f\"Directory {output_absolute_dir} created.\")\n",
    "else:\n",
    "    print(f\"Directory {output_absolute_dir} already exists, skipping creation.\")\n"
   ]
  },
  {
   "cell_type": "code",
   "execution_count": 3,
   "metadata": {},
   "outputs": [
    {
     "name": "stdout",
     "output_type": "stream",
     "text": [
      "Downloading SA2 District Boundaries shapefile...\n",
      "Extracting shapefile...\n",
      "SA2 District Boundaries shapefile downloaded and extracted successfully.\n"
     ]
    }
   ],
   "source": [
    "# Define URL and file paths\n",
    "url = \"https://www.abs.gov.au/statistics/standards/australian-statistical-geography-standard-asgs-edition-3/jul2021-jun2026/access-and-downloads/digital-boundary-files/SA2_2021_AUST_SHP_GDA2020.zip\"\n",
    "download_path = os.path.join(output_relative_dir, \"SA2_2021_AUST_SHP_GDA2020.zip\")\n",
    "extract_to_path = output_absolute_dir\n",
    "\n",
    "# Download and extract the file\n",
    "if not os.path.exists(download_path):\n",
    "    print(\"Downloading SA2 District Boundaries shapefile...\")\n",
    "    response = requests.get(url)\n",
    "    with open(download_path, 'wb') as file:\n",
    "        file.write(response.content)\n",
    "\n",
    "    print(\"Extracting shapefile...\")\n",
    "    with zipfile.ZipFile(download_path, 'r') as zip_ref:\n",
    "        zip_ref.extractall(extract_to_path)\n",
    "\n",
    "    print(\"SA2 District Boundaries shapefile downloaded and extracted successfully.\")\n",
    "else:\n",
    "    print(\"Zip file already exists, skipping download and extraction.\")"
   ]
  },
  {
   "cell_type": "code",
   "execution_count": null,
   "metadata": {},
   "outputs": [],
   "source": []
  },
  {
   "cell_type": "code",
   "execution_count": null,
   "metadata": {},
   "outputs": [],
   "source": []
  }
 ],
 "metadata": {
  "kernelspec": {
   "display_name": "Python 3",
   "language": "python",
   "name": "python3"
  },
  "language_info": {
   "codemirror_mode": {
    "name": "ipython",
    "version": 3
   },
   "file_extension": ".py",
   "mimetype": "text/x-python",
   "name": "python",
   "nbconvert_exporter": "python",
   "pygments_lexer": "ipython3",
   "version": "3.11.4"
  }
 },
 "nbformat": 4,
 "nbformat_minor": 2
}
