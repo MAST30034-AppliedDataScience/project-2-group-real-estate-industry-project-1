{
 "cells": [
  {
   "cell_type": "code",
   "execution_count": 1,
   "metadata": {},
   "outputs": [],
   "source": [
    "import os\n",
    "import requests\n",
    "import zipfile\n",
    "import pandas as pd"
   ]
  },
  {
   "cell_type": "code",
   "execution_count": 2,
   "metadata": {},
   "outputs": [
    {
     "name": "stdout",
     "output_type": "stream",
     "text": [
      "Directory ../../data/landing/ABS_SA2/ created.\n",
      "Directory ../../data/raw/ABS_SA2/ created.\n"
     ]
    }
   ],
   "source": [
    "# Define directories\n",
    "output_relative_dir = '../../data/landing/ABS_SA2/'\n",
    "output_absolute_dir = '../../data/raw/ABS_SA2/'\n",
    "\n",
    "# Create directories if they don't exist\n",
    "if not os.path.exists(output_relative_dir):\n",
    "    os.makedirs(output_relative_dir)\n",
    "    print(f\"Directory {output_relative_dir} created.\")\n",
    "else:\n",
    "    print(f\"Directory {output_relative_dir} already exists, skipping creation.\")\n",
    "\n",
    "if not os.path.exists(output_absolute_dir):\n",
    "    os.makedirs(output_absolute_dir)\n",
    "    print(f\"Directory {output_absolute_dir} created.\")\n",
    "else:\n",
    "    print(f\"Directory {output_absolute_dir} already exists, skipping creation.\")\n"
   ]
  },
  {
   "cell_type": "code",
   "execution_count": 3,
   "metadata": {},
   "outputs": [
    {
     "name": "stdout",
     "output_type": "stream",
     "text": [
      "Downloading SA2 District Boundaries shapefile...\n",
      "Extracting shapefile...\n",
      "SA2 District Boundaries shapefile downloaded and extracted successfully.\n"
     ]
    }
   ],
   "source": [
    "# Define URL and file paths\n",
    "url = \"https://www.abs.gov.au/statistics/standards/australian-statistical-geography-standard-asgs-edition-3/jul2021-jun2026/access-and-downloads/digital-boundary-files/SA2_2021_AUST_SHP_GDA2020.zip\"\n",
    "download_path = os.path.join(output_relative_dir, \"SA2_2021_AUST_SHP_GDA2020.zip\")\n",
    "extract_to_path = output_absolute_dir\n",
    "\n",
    "# Download and extract the file\n",
    "if not os.path.exists(download_path):\n",
    "    print(\"Downloading SA2 District Boundaries shapefile...\")\n",
    "    response = requests.get(url)\n",
    "    with open(download_path, 'wb') as file:\n",
    "        file.write(response.content)\n",
    "\n",
    "    print(\"Extracting shapefile...\")\n",
    "    with zipfile.ZipFile(download_path, 'r') as zip_ref:\n",
    "        zip_ref.extractall(extract_to_path)\n",
    "\n",
    "    print(\"SA2 District Boundaries shapefile downloaded and extracted successfully.\")\n",
    "else:\n",
    "    print(\"Zip file already exists, skipping download and extraction.\")"
   ]
  },
  {
   "cell_type": "code",
   "execution_count": 4,
   "metadata": {},
   "outputs": [
    {
     "name": "stdout",
     "output_type": "stream",
     "text": [
      "Directory ../../data/landing/ABS_population/ already exists, skipping creation.\n",
      "Directory ../../data/raw/ABS_population/ already exists, skipping creation.\n"
     ]
    }
   ],
   "source": [
    "# Define directories\n",
    "output_relative_dir = '../../data/landing/ABS_population/'\n",
    "output_absolute_dir = '../../data/raw/ABS_population/'\n",
    "\n",
    "# Create directories if they don't exist\n",
    "if not os.path.exists(output_relative_dir):\n",
    "    os.makedirs(output_relative_dir)\n",
    "    print(f\"Directory {output_relative_dir} created.\")\n",
    "else:\n",
    "    print(f\"Directory {output_relative_dir} already exists, skipping creation.\")\n",
    "\n",
    "if not os.path.exists(output_absolute_dir):\n",
    "    os.makedirs(output_absolute_dir)\n",
    "    print(f\"Directory {output_absolute_dir} created.\")\n",
    "else:\n",
    "    print(f\"Directory {output_absolute_dir} already exists, skipping creation.\")"
   ]
  },
  {
   "cell_type": "code",
   "execution_count": 5,
   "metadata": {},
   "outputs": [
    {
     "name": "stdout",
     "output_type": "stream",
     "text": [
      "File already exists, skipping download.\n"
     ]
    }
   ],
   "source": [
    "# Define URL and download paths\n",
    "url = \"https://www.abs.gov.au/statistics/people/population/regional-population/2022-23/32180DS0001_2022-23.xlsx\"\n",
    "download_path = os.path.join(output_relative_dir, \"32180DS0001_2022-23.xlsx\")\n",
    "\n",
    "# Download the Excel file\n",
    "if not os.path.exists(download_path):\n",
    "    print(\"Downloading ABS population dataset...\")\n",
    "    response = requests.get(url)\n",
    "    with open(download_path, 'wb') as file:\n",
    "        file.write(response.content)\n",
    "    print(\"Download completed.\")\n",
    "else:\n",
    "    print(\"File already exists, skipping download.\")"
   ]
  },
  {
   "cell_type": "code",
   "execution_count": 7,
   "metadata": {},
   "outputs": [
    {
     "name": "stdout",
     "output_type": "stream",
     "text": [
      "Available sheet names: ['Contents', 'Table 1', 'Table 2', 'Table 3', 'Table 4', 'Table 5', 'Table 6', 'Table 7', 'Table 8', 'Table 9', 'Table 10']\n"
     ]
    }
   ],
   "source": [
    "# Load the Excel file and print sheet names\n",
    "xlsx = pd.ExcelFile(download_path)\n",
    "print(\"Available sheet names:\", xlsx.sheet_names)"
   ]
  },
  {
   "cell_type": "code",
   "execution_count": 8,
   "metadata": {},
   "outputs": [
    {
     "name": "stdout",
     "output_type": "stream",
     "text": [
      "  GCCSA code    GCCSA name  SA4 code  SA4 name  SA3 code  SA3 name  \\\n",
      "0      2RVIC  Rest of Vic.     201.0  Ballarat   20101.0  Ballarat   \n",
      "1      2RVIC  Rest of Vic.     201.0  Ballarat   20101.0  Ballarat   \n",
      "2      2RVIC  Rest of Vic.     201.0  Ballarat   20101.0  Ballarat   \n",
      "3      2RVIC  Rest of Vic.     201.0  Ballarat   20101.0  Ballarat   \n",
      "4      2RVIC  Rest of Vic.     201.0  Ballarat   20101.0  Ballarat   \n",
      "\n",
      "      SA2 code       SA2 name      no.    no..1   no..2    %  no..3  no..4  \\\n",
      "0  201011001.0      Alfredton  18002.0  18997.0   995.0  5.5  140.0  695.0   \n",
      "1  201011002.0       Ballarat  11938.0  11809.0  -129.0 -1.1  -57.0 -213.0   \n",
      "2  201011005.0      Buninyong   7247.0   7323.0    76.0  1.0   15.0  -19.0   \n",
      "3  201011006.0      Delacombe  11798.0  12869.0  1071.0  9.1  133.0  898.0   \n",
      "4  201011007.0  Smythes Creek   4223.0   4268.0    45.0  1.1   11.0   31.0   \n",
      "\n",
      "   no..5    km2  persons/km2  \n",
      "0  160.0   52.7        360.4  \n",
      "1  141.0   12.4        954.0  \n",
      "2   80.0   51.6        142.0  \n",
      "3   40.0   34.2        376.7  \n",
      "4    3.0  104.7         40.8  \n",
      "Data saved to ../../data/raw/ABS_population/population_data_table_2.csv\n"
     ]
    }
   ],
   "source": [
    "sheet_name = xlsx.sheet_names[2]  # Adjust the index based on which sheet contains Table 2\n",
    "\n",
    "# Try loading the data again, adjust skiprows based on where Table 2 starts\n",
    "df = pd.read_excel(download_path, sheet_name=sheet_name, skiprows=6)  # Adjust skiprows if necessary\n",
    "\n",
    "# Check if the data was loaded correctly\n",
    "print(df.head())\n",
    "\n",
    "# Save the DataFrame to CSV (optional step to save it for later use)\n",
    "csv_output_path = os.path.join(output_absolute_dir, \"population_data_table_2.csv\")\n",
    "df.to_csv(csv_output_path, index=False)\n",
    "print(f\"Data saved to {csv_output_path}\")"
   ]
  },
  {
   "cell_type": "code",
   "execution_count": 2,
   "metadata": {},
   "outputs": [
    {
     "name": "stdout",
     "output_type": "stream",
     "text": [
      "Directory ../../data/landing/Population_Forecast/ already exists, skipping creation.\n",
      "Directory ../../data/raw/Population_Forecast/ already exists, skipping creation.\n"
     ]
    }
   ],
   "source": [
    "# Define directories\n",
    "output_relative_dir = '../../data/landing/Population_Forecast/'\n",
    "output_absolute_dir = '../../data/raw/Population_Forecast/'\n",
    "\n",
    "# Create directories if they don't exist\n",
    "if not os.path.exists(output_relative_dir):\n",
    "    os.makedirs(output_relative_dir)\n",
    "    print(f\"Directory {output_relative_dir} created.\")\n",
    "else:\n",
    "    print(f\"Directory {output_relative_dir} already exists, skipping creation.\")\n",
    "\n",
    "if not os.path.exists(output_absolute_dir):\n",
    "    os.makedirs(output_absolute_dir)\n",
    "    print(f\"Directory {output_absolute_dir} created.\")\n",
    "else:\n",
    "    print(f\"Directory {output_absolute_dir} already exists, skipping creation.\")"
   ]
  },
  {
   "cell_type": "code",
   "execution_count": 3,
   "metadata": {},
   "outputs": [
    {
     "name": "stdout",
     "output_type": "stream",
     "text": [
      "File already exists, skipping download.\n"
     ]
    }
   ],
   "source": [
    "# Define URL and download paths\n",
    "url = \"https://www.planning.vic.gov.au/__data/assets/excel_doc/0028/691660/VIF2023_SA2_Pop_Hhold_Dwelling_Projections_to_2036_Release_2.xlsx\"\n",
    "download_path = os.path.join(output_relative_dir, \"VIF2023_Population_Forecast.xlsx\")\n",
    "\n",
    "# Download the Excel file\n",
    "if not os.path.exists(download_path):\n",
    "    print(\"Downloading population forecast dataset...\")\n",
    "    response = requests.get(url)\n",
    "    with open(download_path, 'wb') as file:\n",
    "        file.write(response.content)\n",
    "    print(\"Download completed.\")\n",
    "else:\n",
    "    print(\"File already exists, skipping download.\")"
   ]
  },
  {
   "cell_type": "code",
   "execution_count": 4,
   "metadata": {},
   "outputs": [
    {
     "name": "stdout",
     "output_type": "stream",
     "text": [
      "Available sheet names: ['Contents', 'Explanatory Notes', 'Total_Population', 'Total_Dwellings', 'Total_Households', 'Dwellings_and_Households', 'Households_by_Type']\n"
     ]
    }
   ],
   "source": [
    "# Load the Excel file and print sheet names to find the right sheet\n",
    "xlsx = pd.ExcelFile(download_path)\n",
    "print(\"Available sheet names:\", xlsx.sheet_names)"
   ]
  },
  {
   "cell_type": "code",
   "execution_count": 6,
   "metadata": {},
   "outputs": [
    {
     "name": "stdout",
     "output_type": "stream",
     "text": [
      "   GCCSA  SA4 Code  SA3 Code    SA2  code Region Type         Region     2021  \\\n",
      "1  2RVIC     201.0   20101.0  201011001.0         SA2      Alfredton  16841.0   \n",
      "2  2RVIC     201.0   20101.0  201011002.0         SA2       Ballarat  12071.0   \n",
      "3  2RVIC     201.0   20101.0  201011005.0         SA2      Buninyong   7229.0   \n",
      "4  2RVIC     201.0   20101.0  201011006.0         SA2      Delacombe  10648.0   \n",
      "5  2RVIC     201.0   20101.0  201011007.0         SA2  Smythes Creek   4211.0   \n",
      "\n",
      "           2026          2031          2036  \n",
      "1  20756.256163  23604.443836  26060.320807  \n",
      "2  11698.293593  11803.430603  11985.992387  \n",
      "3   7372.079773   7685.113372   8028.887243  \n",
      "4  15915.186041  20475.587469  24965.202439  \n",
      "5   4312.098530   4457.413406   4725.467837  \n",
      "Data saved to ../../data/raw/Population_Forecast/population_forecast_data.csv\n"
     ]
    }
   ],
   "source": [
    "# Load the specific sheet\n",
    "sheet_name = xlsx.sheet_names[2]\n",
    "skiprows = 9  # Skip the first 9 rows to get to the table\n",
    "\n",
    "# Read the Excel file, keeping rows only up to row 533\n",
    "df = pd.read_excel(download_path, sheet_name=sheet_name, skiprows=skiprows)\n",
    "\n",
    "df = df.iloc[:524, :].drop(index=0)\n",
    "# df = df.iloc[:524, :]\n",
    "\n",
    "# Display the first few rows to verify the data\n",
    "print(df.head())\n",
    "\n",
    "# Save the DataFrame to CSV (optional step to save it for later use)\n",
    "csv_output_path = os.path.join(output_absolute_dir, \"population_forecast_data.csv\")\n",
    "df.to_csv(csv_output_path, index=False)\n",
    "print(f\"Data saved to {csv_output_path}\")"
   ]
  },
  {
   "cell_type": "code",
   "execution_count": null,
   "metadata": {},
   "outputs": [],
   "source": []
  }
 ],
 "metadata": {
  "kernelspec": {
   "display_name": "Python 3",
   "language": "python",
   "name": "python3"
  },
  "language_info": {
   "codemirror_mode": {
    "name": "ipython",
    "version": 3
   },
   "file_extension": ".py",
   "mimetype": "text/x-python",
   "name": "python",
   "nbconvert_exporter": "python",
   "pygments_lexer": "ipython3",
   "version": "3.11.4"
  }
 },
 "nbformat": 4,
 "nbformat_minor": 2
}
