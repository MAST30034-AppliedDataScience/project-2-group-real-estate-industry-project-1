{
 "cells": [
  {
   "cell_type": "code",
   "execution_count": 68,
   "metadata": {},
   "outputs": [],
   "source": [
    "import os\n",
    "import geopandas as gpd\n",
    "import pandas as pd\n",
    "from geopy.geocoders import Nominatim\n",
    "import time"
   ]
  },
  {
   "cell_type": "code",
   "execution_count": 69,
   "metadata": {},
   "outputs": [],
   "source": [
    "# Create folder to save dataset\n",
    "base_dir = '../../data/'\n",
    "landing_dir = os.path.join(base_dir, 'landing')\n",
    "raw_dir = os.path.join(base_dir, 'raw')\n",
    "\n",
    "if not os.path.exists(raw_dir):\n",
    "    os.makedirs(raw_dir)\n",
    "\n",
    "subfolder = 'Foundation_Electricity_Infrastructure'\n",
    "\n",
    "if not os.path.exists(os.path.join(raw_dir, subfolder)):\n",
    "    os.makedirs(os.path.join(raw_dir, subfolder))"
   ]
  },
  {
   "cell_type": "code",
   "execution_count": 70,
   "metadata": {},
   "outputs": [
    {
     "name": "stdout",
     "output_type": "stream",
     "text": [
      "   objectid   uri feature_type          name operational_status  \\\n",
      "0         1  None   Substation  Homebush Bay        Operational   \n",
      "1         2  None   Substation      Hillston        Operational   \n",
      "2         3  None   Substation           Hay        Operational   \n",
      "\n",
      "    feature_date      feature_source  attribute_date  \\\n",
      "0  1360195200000  Esri World Imagery   1360800000000   \n",
      "1  1298419200000  Esri World Imagery   1360800000000   \n",
      "2  1386979200000  Esri World Imagery   1360800000000   \n",
      "\n",
      "                               attribute_source      custodian_agency  \\\n",
      "0  AEMO-Australian Energy Market Operators 2013  Geoscience Australia   \n",
      "1  AEMO-Australian Energy Market Operators 2013  Geoscience Australia   \n",
      "2  AEMO-Australian Energy Market Operators 2013  Geoscience Australia   \n",
      "\n",
      "                                 custodian_licensing   loading_date  \\\n",
      "0  This material is released under the Creative C...  1602806400000   \n",
      "1  This material is released under the Creative C...  1602806400000   \n",
      "2  This material is released under the Creative C...  1602806400000   \n",
      "\n",
      "        class  voltage                              address  \\\n",
      "0  Substation      132  Sydney Olympic Park New South Wales   \n",
      "1  Substation      132             Hillston New South Wales   \n",
      "2  Substation      132                  Hay New South Wales   \n",
      "\n",
      "                      geometry  \n",
      "0  POINT (151.07300 -33.83318)  \n",
      "1  POINT (145.52972 -33.51593)  \n",
      "2  POINT (144.87829 -34.48942)  \n",
      "<class 'geopandas.geodataframe.GeoDataFrame'>\n",
      "RangeIndex: 1000 entries, 0 to 999\n",
      "Data columns (total 16 columns):\n",
      " #   Column               Non-Null Count  Dtype   \n",
      "---  ------               --------------  -----   \n",
      " 0   objectid             1000 non-null   int64   \n",
      " 1   uri                  0 non-null      object  \n",
      " 2   feature_type         1000 non-null   object  \n",
      " 3   name                 1000 non-null   object  \n",
      " 4   operational_status   1000 non-null   object  \n",
      " 5   feature_date         1000 non-null   int64   \n",
      " 6   feature_source       1000 non-null   object  \n",
      " 7   attribute_date       1000 non-null   int64   \n",
      " 8   attribute_source     1000 non-null   object  \n",
      " 9   custodian_agency     1000 non-null   object  \n",
      " 10  custodian_licensing  1000 non-null   object  \n",
      " 11  loading_date         1000 non-null   int64   \n",
      " 12  class                1000 non-null   object  \n",
      " 13  voltage              1000 non-null   int64   \n",
      " 14  address              989 non-null    object  \n",
      " 15  geometry             1000 non-null   geometry\n",
      "dtypes: geometry(1), int64(5), object(10)\n",
      "memory usage: 125.1+ KB\n",
      "None\n"
     ]
    }
   ],
   "source": [
    "# read geojson file dataset\n",
    "substations_path = f\"{landing_dir}/{subfolder}/transmission_substations.geojson\"\n",
    "substations_gdf = gpd.read_file(substations_path)\n",
    "\n",
    "# Observe dataset\n",
    "print(substations_gdf.head(3))\n",
    "\n",
    "# data structure\n",
    "print(substations_gdf.info())"
   ]
  },
  {
   "cell_type": "code",
   "execution_count": 71,
   "metadata": {},
   "outputs": [
    {
     "name": "stdout",
     "output_type": "stream",
     "text": [
      "   objectid   uri   feature_type                       name  \\\n",
      "0         1  None  Power Station                    Paloona   \n",
      "1         2  None  Power Station  Bell Bay (Bell Bay Three)   \n",
      "2         3  None  Power Station                  Trevallyn   \n",
      "\n",
      "  operational_status  feature_date      feature_source  attribute_date  \\\n",
      "0        Operational  1.378080e+12  Esri World Imagery   1479168000000   \n",
      "1        Operational  1.320365e+12  Esri World Imagery   1479168000000   \n",
      "2        Operational  1.300320e+12  Esri World Imagery   1479168000000   \n",
      "\n",
      "                               attribute_source      custodian_agency  ...  \\\n",
      "0                        Hydro Tasmania Website  Geoscience Australia  ...   \n",
      "1  AEMO-Australian Energy Market Operators 2016  Geoscience Australia  ...   \n",
      "2                        Hydro Tasmania Website  Geoscience Australia  ...   \n",
      "\n",
      "  structuretype  operator                                  owner  \\\n",
      "0          None      None  Hydro-Electric Corporation (Tasmania)   \n",
      "1          None      None     Aurora Energy Tamar Valley Pty Ltd   \n",
      "2          None      None  Hydro-Electric Corporation (Tasmania)   \n",
      "\n",
      "  primaryfueltype primarysubfueltype generationmw generatornumber  \\\n",
      "0           Water               None         28.0             1.0   \n",
      "1     Natural Gas               None        115.0             3.0   \n",
      "2           Water               None         80.0             4.0   \n",
      "\n",
      "  embeddednetworkoperator              address                     geometry  \n",
      "0                  259371  Barrington Tasmania  POINT (146.24896 -41.28262)  \n",
      "1                  259124    Bell Bay Tasmania  POINT (146.90300 -41.14290)  \n",
      "2                  259359   Trevallyn Tasmania  POINT (147.11187 -41.42263)  \n",
      "\n",
      "[3 rows x 23 columns]\n",
      "<class 'geopandas.geodataframe.GeoDataFrame'>\n",
      "RangeIndex: 536 entries, 0 to 535\n",
      "Data columns (total 23 columns):\n",
      " #   Column                   Non-Null Count  Dtype   \n",
      "---  ------                   --------------  -----   \n",
      " 0   objectid                 536 non-null    int64   \n",
      " 1   uri                      0 non-null      object  \n",
      " 2   feature_type             536 non-null    object  \n",
      " 3   name                     536 non-null    object  \n",
      " 4   operational_status       536 non-null    object  \n",
      " 5   feature_date             535 non-null    float64 \n",
      " 6   feature_source           536 non-null    object  \n",
      " 7   attribute_date           536 non-null    int64   \n",
      " 8   attribute_source         535 non-null    object  \n",
      " 9   custodian_agency         536 non-null    object  \n",
      " 10  custodian_licensing      536 non-null    object  \n",
      " 11  loading_date             536 non-null    int64   \n",
      " 12  class                    536 non-null    object  \n",
      " 13  structuretype            8 non-null      object  \n",
      " 14  operator                 226 non-null    object  \n",
      " 15  owner                    518 non-null    object  \n",
      " 16  primaryfueltype          530 non-null    object  \n",
      " 17  primarysubfueltype       196 non-null    object  \n",
      " 18  generationmw             527 non-null    float64 \n",
      " 19  generatornumber          406 non-null    float64 \n",
      " 20  embeddednetworkoperator  234 non-null    object  \n",
      " 21  address                  516 non-null    object  \n",
      " 22  geometry                 536 non-null    geometry\n",
      "dtypes: float64(3), geometry(1), int64(3), object(16)\n",
      "memory usage: 96.4+ KB\n",
      "None\n"
     ]
    }
   ],
   "source": [
    "power_stations_path = f\"{landing_dir}/{subfolder}/power_stations.geojson\"\n",
    "power_stations_gdf = gpd.read_file(power_stations_path)\n",
    "\n",
    "print(power_stations_gdf.head(3))\n",
    "print(power_stations_gdf.info())\n"
   ]
  },
  {
   "cell_type": "code",
   "execution_count": 72,
   "metadata": {},
   "outputs": [
    {
     "name": "stdout",
     "output_type": "stream",
     "text": [
      "The GeoDataFrames have different features (columns).\n",
      "Columns in gdf1 but not in gdf2: {'voltage'}\n",
      "Columns in gdf2 but not in gdf1: {'primarysubfueltype', 'structuretype', 'generatornumber', 'embeddednetworkoperator', 'primaryfueltype', 'generationmw', 'owner', 'operator'}\n"
     ]
    }
   ],
   "source": [
    "# Check if both GeoDataFrames have the same columns\n",
    "columns_substations = set(substations_gdf.columns)\n",
    "columns_power_stations = set(power_stations_gdf.columns)\n",
    "\n",
    "if columns_substations == columns_power_stations:\n",
    "    print(\"Both GeoDataFrames have the same features (columns).\")\n",
    "else:\n",
    "    print(\"The GeoDataFrames have different features (columns).\")\n",
    "    # Print the differences\n",
    "    print(\"Columns in gdf1 but not in gdf2:\", columns_substations - columns_power_stations)\n",
    "    print(\"Columns in gdf2 but not in gdf1:\", columns_power_stations - columns_substations)"
   ]
  },
  {
   "cell_type": "code",
   "execution_count": 73,
   "metadata": {},
   "outputs": [
    {
     "data": {
      "text/html": [
       "<div>\n",
       "<style scoped>\n",
       "    .dataframe tbody tr th:only-of-type {\n",
       "        vertical-align: middle;\n",
       "    }\n",
       "\n",
       "    .dataframe tbody tr th {\n",
       "        vertical-align: top;\n",
       "    }\n",
       "\n",
       "    .dataframe thead th {\n",
       "        text-align: right;\n",
       "    }\n",
       "</style>\n",
       "<table border=\"1\" class=\"dataframe\">\n",
       "  <thead>\n",
       "    <tr style=\"text-align: right;\">\n",
       "      <th></th>\n",
       "      <th>objectid</th>\n",
       "      <th>uri</th>\n",
       "      <th>feature_type</th>\n",
       "      <th>name</th>\n",
       "      <th>operational_status</th>\n",
       "      <th>feature_date</th>\n",
       "      <th>feature_source</th>\n",
       "      <th>attribute_date</th>\n",
       "      <th>attribute_source</th>\n",
       "      <th>custodian_agency</th>\n",
       "      <th>...</th>\n",
       "      <th>address</th>\n",
       "      <th>geometry</th>\n",
       "      <th>structuretype</th>\n",
       "      <th>operator</th>\n",
       "      <th>owner</th>\n",
       "      <th>primaryfueltype</th>\n",
       "      <th>primarysubfueltype</th>\n",
       "      <th>generationmw</th>\n",
       "      <th>generatornumber</th>\n",
       "      <th>embeddednetworkoperator</th>\n",
       "    </tr>\n",
       "  </thead>\n",
       "  <tbody>\n",
       "    <tr>\n",
       "      <th>0</th>\n",
       "      <td>1</td>\n",
       "      <td>None</td>\n",
       "      <td>Substation</td>\n",
       "      <td>Homebush Bay</td>\n",
       "      <td>Operational</td>\n",
       "      <td>1.360195e+12</td>\n",
       "      <td>Esri World Imagery</td>\n",
       "      <td>1360800000000</td>\n",
       "      <td>AEMO-Australian Energy Market Operators 2013</td>\n",
       "      <td>Geoscience Australia</td>\n",
       "      <td>...</td>\n",
       "      <td>Sydney Olympic Park New South Wales</td>\n",
       "      <td>POINT (151.07300 -33.83318)</td>\n",
       "      <td>NaN</td>\n",
       "      <td>NaN</td>\n",
       "      <td>NaN</td>\n",
       "      <td>NaN</td>\n",
       "      <td>NaN</td>\n",
       "      <td>NaN</td>\n",
       "      <td>NaN</td>\n",
       "      <td>NaN</td>\n",
       "    </tr>\n",
       "    <tr>\n",
       "      <th>1</th>\n",
       "      <td>2</td>\n",
       "      <td>None</td>\n",
       "      <td>Substation</td>\n",
       "      <td>Hillston</td>\n",
       "      <td>Operational</td>\n",
       "      <td>1.298419e+12</td>\n",
       "      <td>Esri World Imagery</td>\n",
       "      <td>1360800000000</td>\n",
       "      <td>AEMO-Australian Energy Market Operators 2013</td>\n",
       "      <td>Geoscience Australia</td>\n",
       "      <td>...</td>\n",
       "      <td>Hillston New South Wales</td>\n",
       "      <td>POINT (145.52972 -33.51593)</td>\n",
       "      <td>NaN</td>\n",
       "      <td>NaN</td>\n",
       "      <td>NaN</td>\n",
       "      <td>NaN</td>\n",
       "      <td>NaN</td>\n",
       "      <td>NaN</td>\n",
       "      <td>NaN</td>\n",
       "      <td>NaN</td>\n",
       "    </tr>\n",
       "    <tr>\n",
       "      <th>2</th>\n",
       "      <td>3</td>\n",
       "      <td>None</td>\n",
       "      <td>Substation</td>\n",
       "      <td>Hay</td>\n",
       "      <td>Operational</td>\n",
       "      <td>1.386979e+12</td>\n",
       "      <td>Esri World Imagery</td>\n",
       "      <td>1360800000000</td>\n",
       "      <td>AEMO-Australian Energy Market Operators 2013</td>\n",
       "      <td>Geoscience Australia</td>\n",
       "      <td>...</td>\n",
       "      <td>Hay New South Wales</td>\n",
       "      <td>POINT (144.87829 -34.48942)</td>\n",
       "      <td>NaN</td>\n",
       "      <td>NaN</td>\n",
       "      <td>NaN</td>\n",
       "      <td>NaN</td>\n",
       "      <td>NaN</td>\n",
       "      <td>NaN</td>\n",
       "      <td>NaN</td>\n",
       "      <td>NaN</td>\n",
       "    </tr>\n",
       "  </tbody>\n",
       "</table>\n",
       "<p>3 rows × 24 columns</p>\n",
       "</div>"
      ],
      "text/plain": [
       "   objectid   uri feature_type          name operational_status  feature_date  \\\n",
       "0         1  None   Substation  Homebush Bay        Operational  1.360195e+12   \n",
       "1         2  None   Substation      Hillston        Operational  1.298419e+12   \n",
       "2         3  None   Substation           Hay        Operational  1.386979e+12   \n",
       "\n",
       "       feature_source  attribute_date  \\\n",
       "0  Esri World Imagery   1360800000000   \n",
       "1  Esri World Imagery   1360800000000   \n",
       "2  Esri World Imagery   1360800000000   \n",
       "\n",
       "                               attribute_source      custodian_agency  ...  \\\n",
       "0  AEMO-Australian Energy Market Operators 2013  Geoscience Australia  ...   \n",
       "1  AEMO-Australian Energy Market Operators 2013  Geoscience Australia  ...   \n",
       "2  AEMO-Australian Energy Market Operators 2013  Geoscience Australia  ...   \n",
       "\n",
       "                               address                     geometry  \\\n",
       "0  Sydney Olympic Park New South Wales  POINT (151.07300 -33.83318)   \n",
       "1             Hillston New South Wales  POINT (145.52972 -33.51593)   \n",
       "2                  Hay New South Wales  POINT (144.87829 -34.48942)   \n",
       "\n",
       "  structuretype  operator owner primaryfueltype primarysubfueltype  \\\n",
       "0           NaN       NaN   NaN             NaN                NaN   \n",
       "1           NaN       NaN   NaN             NaN                NaN   \n",
       "2           NaN       NaN   NaN             NaN                NaN   \n",
       "\n",
       "  generationmw generatornumber embeddednetworkoperator  \n",
       "0          NaN             NaN                     NaN  \n",
       "1          NaN             NaN                     NaN  \n",
       "2          NaN             NaN                     NaN  \n",
       "\n",
       "[3 rows x 24 columns]"
      ]
     },
     "execution_count": 73,
     "metadata": {},
     "output_type": "execute_result"
    }
   ],
   "source": [
    "# Perform union (concatenate rows), allowing for column mismatch\n",
    "gdf_union = pd.concat([substations_gdf, power_stations_gdf], ignore_index=True)\n",
    "gdf_union.head(3)"
   ]
  },
  {
   "cell_type": "code",
   "execution_count": 74,
   "metadata": {},
   "outputs": [
    {
     "data": {
      "text/plain": [
       "1536"
      ]
     },
     "execution_count": 74,
     "metadata": {},
     "output_type": "execute_result"
    }
   ],
   "source": [
    "len(gdf_union)"
   ]
  },
  {
   "cell_type": "code",
   "execution_count": 75,
   "metadata": {},
   "outputs": [
    {
     "name": "stdout",
     "output_type": "stream",
     "text": [
      "objectid                  0\n",
      "uri                    1000\n",
      "feature_type              0\n",
      "name                      0\n",
      "operational_status        0\n",
      "feature_date              0\n",
      "feature_source            0\n",
      "attribute_date            0\n",
      "attribute_source          0\n",
      "custodian_agency          0\n",
      "custodian_licensing       0\n",
      "loading_date              0\n",
      "class                     0\n",
      "voltage                   0\n",
      "address                  11\n",
      "geometry                  0\n",
      "dtype: int64\n"
     ]
    }
   ],
   "source": [
    "# Check for missing values in the dataset\n",
    "print(substations_gdf.isnull().sum())\n"
   ]
  },
  {
   "cell_type": "code",
   "execution_count": 76,
   "metadata": {},
   "outputs": [
    {
     "name": "stdout",
     "output_type": "stream",
     "text": [
      "objectid                     0\n",
      "uri                        536\n",
      "feature_type                 0\n",
      "name                         0\n",
      "operational_status           0\n",
      "feature_date                 1\n",
      "feature_source               0\n",
      "attribute_date               0\n",
      "attribute_source             1\n",
      "custodian_agency             0\n",
      "custodian_licensing          0\n",
      "loading_date                 0\n",
      "class                        0\n",
      "structuretype              528\n",
      "operator                   310\n",
      "owner                       18\n",
      "primaryfueltype              6\n",
      "primarysubfueltype         340\n",
      "generationmw                 9\n",
      "generatornumber            130\n",
      "embeddednetworkoperator    302\n",
      "address                     20\n",
      "geometry                     0\n",
      "dtype: int64\n"
     ]
    }
   ],
   "source": [
    "# Check for missing values in the dataset\n",
    "print(power_stations_gdf.isnull().sum())"
   ]
  },
  {
   "cell_type": "code",
   "execution_count": 77,
   "metadata": {},
   "outputs": [
    {
     "name": "stdout",
     "output_type": "stream",
     "text": [
      "objectid                      0\n",
      "uri                        1536\n",
      "feature_type                  0\n",
      "name                          0\n",
      "operational_status            0\n",
      "feature_date                  1\n",
      "feature_source                0\n",
      "attribute_date                0\n",
      "attribute_source              1\n",
      "custodian_agency              0\n",
      "custodian_licensing           0\n",
      "loading_date                  0\n",
      "class                         0\n",
      "voltage                     536\n",
      "address                      31\n",
      "geometry                      0\n",
      "structuretype              1528\n",
      "operator                   1310\n",
      "owner                      1018\n",
      "primaryfueltype            1006\n",
      "primarysubfueltype         1340\n",
      "generationmw               1009\n",
      "generatornumber            1130\n",
      "embeddednetworkoperator    1302\n",
      "dtype: int64\n"
     ]
    }
   ],
   "source": [
    "# Check for missing values in the dataset\n",
    "print(gdf_union.isnull().sum())"
   ]
  },
  {
   "cell_type": "code",
   "execution_count": 78,
   "metadata": {},
   "outputs": [
    {
     "name": "stdout",
     "output_type": "stream",
     "text": [
      "Filled address for index 491: Grand Central Shopping Centre, Margaret Street, Toowoomba City, Toowoomba, Toowoomba Regional, Queensland, 4350, Australia\n",
      "Filled address for index 665: Dairy Road, Fyshwick, Canberra, District of Canberra Central, Australian Capital Territory, 2609, Australia\n",
      "Filled address for index 771: McAskill Road, Willalo, The Regional Council of Goyder, South Australia, 5419, Australia\n",
      "Filled address for index 772: Lincoln Gap, Pastoral Unincorporated Area, South Australia, 5715, Australia\n",
      "Filled address for index 773: Murra Warra, Shire of Yarriambiack, Victoria, 3401, Australia\n",
      "Filled address for index 774: Vances Crossing Road, Joel South, Shire of Northern Grampians, Victoria, Australia\n",
      "Filled address for index 775: Spring Flat Road, Glenlofty, Shire of Pyrenees, Victoria, Australia\n",
      "Filled address for index 776: Deer Park Terminal Station, 279-329, Christies Road, Ravenhall, Melbourne, City of Melton, Victoria, 3023, Australia\n",
      "Filled address for index 778: White Rock Wind Farm Access, Inverell Shire Council, New South Wales, Australia\n",
      "Filled address for index 978: Newlands, Whitsunday Regional, Queensland, Australia\n",
      "Filled address for index 979: Newlands, Whitsunday Regional, Queensland, Australia\n",
      "Filled address for index 1290: Albany Wind Farm Trail, Sandpatch, City Of Albany, Western Australia, Australia\n",
      "Filled address for index 1333: Yardie Creek Road, North West Cape, Shire Of Exmouth, Western Australia, Australia\n",
      "Filled address for index 1334: Conveyor Belt Road (Private), Worsley Alumina Refinery, Marradong, Worsley, Shire Of Collie, Western Australia, Australia\n",
      "Filled address for index 1339: Lake Darlot, Shire Of Leonora, Western Australia, Australia\n",
      "Filled address for index 1340: Windimurra Mine Road, Paynesville, Windimurra Village, Shire Of Mount Magnet, Western Australia, Australia\n",
      "Filled address for index 1355: Centre Road, Hallam, Melbourne, City of Casey, Victoria, 3976, Australia\n",
      "Filled address for index 1357: Rubicon Heritage Walk, Rubicon, Shire of Murrindindi, Victoria, 3712, Australia\n",
      "Filled address for index 1358: Rubicon River Road, Rubicon, Shire of Murrindindi, Victoria, 3712, Australia\n",
      "Filled address for index 1394: Yallabatharra, Shire of Northampton, Western Australia, Australia\n",
      "Filled address for index 1395: Wodgina Mine, Marble Bar, Town Of Port Hedland, Western Australia, Australia\n",
      "Filled address for index 1396: Great Northern Highway, Ord River, Shire of Halls Creek, Western Australia, Australia\n",
      "Filled address for index 1407: Monash University, Clayton Campus, 151-211, Wellington Road, Clayton, Melbourne, City of Monash, Victoria, 3168, Australia\n",
      "Filled address for index 1411: Domestic & International Terminal, Sir Richard Williams Avenue, Adelaide Airport, Adelaide, City of West Torrens, South Australia, 5950, Australia\n",
      "Filled address for index 1435: Solomon Drive, Chichester, Shire Of Ashburton, Western Australia, Australia\n",
      "Filled address for index 1439: Cawse nickel mine, Ora Banda, City Of Kalgoorlie-Boulder, Western Australia, Australia\n",
      "Filled address for index 1443: Little Musselroe Bay Road, Lyme Regis, Cape Portland, Dorset, Tasmania, Australia\n",
      "Filled address for index 1444: Kings Canyon Resort, Macdonnell Region, Northern Territory, Australia\n",
      "Filled address for index 1464: Matheson, Glen Innes Severn Council, New South Wales, 2370, Australia\n",
      "Filled address for index 1465: White Rock Wind Farm Access, Inverell Shire Council, New South Wales, Australia\n",
      "Filled address for index 1532: Bruce Highway, Isis River, Cherwell, Fraser Coast Regional, Bundaberg Region, Queensland, 4660, Australia\n"
     ]
    }
   ],
   "source": [
    "# Handling missing value\n",
    "\n",
    "# Initialize geolocator with Nominatim\n",
    "geolocator = Nominatim(user_agent=\"geojson_address_filler\")\n",
    "\n",
    "# Function to perform reverse geocoding\n",
    "def reverse_geocode(point):\n",
    "    try:\n",
    "        # Extract latitude and longitude from geometry\n",
    "        latitude = point.y\n",
    "        longitude = point.x\n",
    "        \n",
    "        # Perform reverse geocoding to get the address\n",
    "        location = geolocator.reverse((latitude, longitude), timeout=10)\n",
    "        \n",
    "        # Return the full address if available\n",
    "        return location.address if location else 'Unknown'\n",
    "    except Exception as e:\n",
    "        return 'Error'\n",
    "\n",
    "# Identify rows where 'address' is missing\n",
    "missing_address_idx = gdf_union[gdf_union['address'].isnull()].index\n",
    "\n",
    "# Fill missing 'address' using reverse geocoding on geometry\n",
    "for idx in missing_address_idx:\n",
    "    point = gdf_union.loc[idx, 'geometry']\n",
    "    gdf_union.loc[idx, 'address'] = reverse_geocode(point)\n",
    "\n",
    "    # Print the filled address for each index to check the result\n",
    "    print(f\"Filled address for index {idx}: {gdf_union.loc[idx, 'address']}\")\n",
    "    \n",
    "    # Add a sleep to respect API rate limits\n",
    "    time.sleep(1)\n",
    "\n"
   ]
  },
  {
   "cell_type": "code",
   "execution_count": 79,
   "metadata": {},
   "outputs": [
    {
     "data": {
      "text/plain": [
       "161"
      ]
     },
     "execution_count": 79,
     "metadata": {},
     "output_type": "execute_result"
    }
   ],
   "source": [
    "# Filtering data, only need VIC data\n",
    "gdf_filtered = gdf_union[gdf_union['address'].str.contains('Victoria', na=False)]\n",
    "len(gdf_filtered)"
   ]
  },
  {
   "cell_type": "code",
   "execution_count": 80,
   "metadata": {},
   "outputs": [
    {
     "name": "stdout",
     "output_type": "stream",
     "text": [
      "['Operational' 'Non-Operational']\n"
     ]
    }
   ],
   "source": [
    "unique_values = gdf_filtered['operational_status'].unique()\n",
    "print(unique_values)"
   ]
  },
  {
   "cell_type": "code",
   "execution_count": 81,
   "metadata": {},
   "outputs": [
    {
     "data": {
      "text/plain": [
       "160"
      ]
     },
     "execution_count": 81,
     "metadata": {},
     "output_type": "execute_result"
    }
   ],
   "source": [
    "# Filtering data to include only those with foundation electricity infrastructure that is currently operational\n",
    "gdf_filtered = gdf_filtered[gdf_filtered['operational_status'] == 'Operational']\n",
    "len(gdf_filtered)"
   ]
  },
  {
   "cell_type": "code",
   "execution_count": 82,
   "metadata": {},
   "outputs": [
    {
     "data": {
      "text/html": [
       "<div>\n",
       "<style scoped>\n",
       "    .dataframe tbody tr th:only-of-type {\n",
       "        vertical-align: middle;\n",
       "    }\n",
       "\n",
       "    .dataframe tbody tr th {\n",
       "        vertical-align: top;\n",
       "    }\n",
       "\n",
       "    .dataframe thead th {\n",
       "        text-align: right;\n",
       "    }\n",
       "</style>\n",
       "<table border=\"1\" class=\"dataframe\">\n",
       "  <thead>\n",
       "    <tr style=\"text-align: right;\">\n",
       "      <th></th>\n",
       "      <th>objectid</th>\n",
       "      <th>uri</th>\n",
       "      <th>feature_type</th>\n",
       "      <th>name</th>\n",
       "      <th>operational_status</th>\n",
       "      <th>feature_date</th>\n",
       "      <th>feature_source</th>\n",
       "      <th>attribute_date</th>\n",
       "      <th>attribute_source</th>\n",
       "      <th>custodian_agency</th>\n",
       "      <th>...</th>\n",
       "      <th>address</th>\n",
       "      <th>geometry</th>\n",
       "      <th>structuretype</th>\n",
       "      <th>operator</th>\n",
       "      <th>owner</th>\n",
       "      <th>primaryfueltype</th>\n",
       "      <th>primarysubfueltype</th>\n",
       "      <th>generationmw</th>\n",
       "      <th>generatornumber</th>\n",
       "      <th>embeddednetworkoperator</th>\n",
       "    </tr>\n",
       "  </thead>\n",
       "  <tbody>\n",
       "    <tr>\n",
       "      <th>33</th>\n",
       "      <td>34</td>\n",
       "      <td>None</td>\n",
       "      <td>Substation</td>\n",
       "      <td>Oaklands Hill Wind Farm</td>\n",
       "      <td>Operational</td>\n",
       "      <td>1.392077e+12</td>\n",
       "      <td>Esri World Imagery</td>\n",
       "      <td>1360800000000</td>\n",
       "      <td>AEMO-Australian Energy Market Operators 2013</td>\n",
       "      <td>Geoscience Australia</td>\n",
       "      <td>...</td>\n",
       "      <td>Glenthompson Victoria</td>\n",
       "      <td>POINT (142.55226 -37.68147)</td>\n",
       "      <td>NaN</td>\n",
       "      <td>NaN</td>\n",
       "      <td>NaN</td>\n",
       "      <td>NaN</td>\n",
       "      <td>NaN</td>\n",
       "      <td>NaN</td>\n",
       "      <td>NaN</td>\n",
       "      <td>NaN</td>\n",
       "    </tr>\n",
       "    <tr>\n",
       "      <th>34</th>\n",
       "      <td>35</td>\n",
       "      <td>None</td>\n",
       "      <td>Substation</td>\n",
       "      <td>Mortons Lane Wind Farm</td>\n",
       "      <td>Operational</td>\n",
       "      <td>1.329955e+12</td>\n",
       "      <td>Esri World Imagery</td>\n",
       "      <td>1360800000000</td>\n",
       "      <td>AEMO-Australian Energy Market Operators 2013</td>\n",
       "      <td>Geoscience Australia</td>\n",
       "      <td>...</td>\n",
       "      <td>Woodhouse Victoria</td>\n",
       "      <td>POINT (142.46628 -37.83516)</td>\n",
       "      <td>NaN</td>\n",
       "      <td>NaN</td>\n",
       "      <td>NaN</td>\n",
       "      <td>NaN</td>\n",
       "      <td>NaN</td>\n",
       "      <td>NaN</td>\n",
       "      <td>NaN</td>\n",
       "      <td>NaN</td>\n",
       "    </tr>\n",
       "    <tr>\n",
       "      <th>35</th>\n",
       "      <td>36</td>\n",
       "      <td>None</td>\n",
       "      <td>Substation</td>\n",
       "      <td>Ballarat North</td>\n",
       "      <td>Operational</td>\n",
       "      <td>1.320624e+12</td>\n",
       "      <td>Esri World Imagery</td>\n",
       "      <td>1360800000000</td>\n",
       "      <td>AEMO-Australian Energy Market Operators 2013</td>\n",
       "      <td>Geoscience Australia</td>\n",
       "      <td>...</td>\n",
       "      <td>Wendouree Victoria</td>\n",
       "      <td>POINT (143.84690 -37.53461)</td>\n",
       "      <td>NaN</td>\n",
       "      <td>NaN</td>\n",
       "      <td>NaN</td>\n",
       "      <td>NaN</td>\n",
       "      <td>NaN</td>\n",
       "      <td>NaN</td>\n",
       "      <td>NaN</td>\n",
       "      <td>NaN</td>\n",
       "    </tr>\n",
       "  </tbody>\n",
       "</table>\n",
       "<p>3 rows × 24 columns</p>\n",
       "</div>"
      ],
      "text/plain": [
       "    objectid   uri feature_type                     name operational_status  \\\n",
       "33        34  None   Substation  Oaklands Hill Wind Farm        Operational   \n",
       "34        35  None   Substation   Mortons Lane Wind Farm        Operational   \n",
       "35        36  None   Substation           Ballarat North        Operational   \n",
       "\n",
       "    feature_date      feature_source  attribute_date  \\\n",
       "33  1.392077e+12  Esri World Imagery   1360800000000   \n",
       "34  1.329955e+12  Esri World Imagery   1360800000000   \n",
       "35  1.320624e+12  Esri World Imagery   1360800000000   \n",
       "\n",
       "                                attribute_source      custodian_agency  ...  \\\n",
       "33  AEMO-Australian Energy Market Operators 2013  Geoscience Australia  ...   \n",
       "34  AEMO-Australian Energy Market Operators 2013  Geoscience Australia  ...   \n",
       "35  AEMO-Australian Energy Market Operators 2013  Geoscience Australia  ...   \n",
       "\n",
       "                  address                     geometry structuretype  \\\n",
       "33  Glenthompson Victoria  POINT (142.55226 -37.68147)           NaN   \n",
       "34     Woodhouse Victoria  POINT (142.46628 -37.83516)           NaN   \n",
       "35     Wendouree Victoria  POINT (143.84690 -37.53461)           NaN   \n",
       "\n",
       "    operator owner primaryfueltype primarysubfueltype generationmw  \\\n",
       "33       NaN   NaN             NaN                NaN          NaN   \n",
       "34       NaN   NaN             NaN                NaN          NaN   \n",
       "35       NaN   NaN             NaN                NaN          NaN   \n",
       "\n",
       "   generatornumber embeddednetworkoperator  \n",
       "33             NaN                     NaN  \n",
       "34             NaN                     NaN  \n",
       "35             NaN                     NaN  \n",
       "\n",
       "[3 rows x 24 columns]"
      ]
     },
     "execution_count": 82,
     "metadata": {},
     "output_type": "execute_result"
    }
   ],
   "source": [
    "gdf_filtered.head(3)"
   ]
  },
  {
   "cell_type": "code",
   "execution_count": 83,
   "metadata": {},
   "outputs": [
    {
     "name": "stdout",
     "output_type": "stream",
     "text": [
      "objectid                     0\n",
      "uri                        160\n",
      "feature_type                 0\n",
      "name                         0\n",
      "operational_status           0\n",
      "feature_date                 0\n",
      "feature_source               0\n",
      "attribute_date               0\n",
      "attribute_source             0\n",
      "custodian_agency             0\n",
      "custodian_licensing          0\n",
      "loading_date                 0\n",
      "class                        0\n",
      "voltage                     86\n",
      "address                      0\n",
      "geometry                     0\n",
      "structuretype              158\n",
      "operator                   108\n",
      "owner                       75\n",
      "primaryfueltype             74\n",
      "primarysubfueltype         134\n",
      "generationmw                76\n",
      "generatornumber             97\n",
      "embeddednetworkoperator    126\n",
      "dtype: int64\n"
     ]
    }
   ],
   "source": [
    "print(gdf_filtered.isnull().sum())"
   ]
  },
  {
   "cell_type": "code",
   "execution_count": 84,
   "metadata": {},
   "outputs": [],
   "source": [
    "# delect some columns which contain large amount of missing values, and base on domain knowledge\n",
    "columns_to_drop = ['objectid', 'uri', 'structuretype', 'operator', 'primarysubfueltype', 'embeddednetworkoperator', 'primaryfueltype', 'generationmw', 'generatornumber']\n",
    "gdf_preprocessed = gdf_filtered.drop(columns=columns_to_drop)"
   ]
  },
  {
   "cell_type": "code",
   "execution_count": 85,
   "metadata": {},
   "outputs": [
    {
     "name": "stdout",
     "output_type": "stream",
     "text": [
      "(160, 15)\n"
     ]
    }
   ],
   "source": [
    "print(gdf_preprocessed.shape)"
   ]
  },
  {
   "cell_type": "code",
   "execution_count": 86,
   "metadata": {},
   "outputs": [],
   "source": [
    "# save data\n",
    "output_path = f\"{raw_dir}/{subfolder}/foundation_electricity_infrastructure.csv\"\n",
    "gdf_preprocessed.to_csv(output_path, index=False)"
   ]
  }
 ],
 "metadata": {
  "kernelspec": {
   "display_name": "myenv2",
   "language": "python",
   "name": "python3"
  },
  "language_info": {
   "codemirror_mode": {
    "name": "ipython",
    "version": 3
   },
   "file_extension": ".py",
   "mimetype": "text/x-python",
   "name": "python",
   "nbconvert_exporter": "python",
   "pygments_lexer": "ipython3",
   "version": "3.10.13"
  }
 },
 "nbformat": 4,
 "nbformat_minor": 2
}
