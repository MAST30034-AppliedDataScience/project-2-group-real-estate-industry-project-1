{
 "cells": [
  {
   "cell_type": "markdown",
   "metadata": {},
   "source": [
    "Created by Wanyu Xu, Sep 3"
   ]
  },
  {
   "cell_type": "code",
   "execution_count": 1,
   "metadata": {},
   "outputs": [],
   "source": [
    "import os\n",
    "import requests"
   ]
  },
  {
   "cell_type": "code",
   "execution_count": 2,
   "metadata": {},
   "outputs": [],
   "source": [
    "# Create folder to save dataset\n",
    "base_dir = '../../data/'\n",
    "landing_dir = os.path.join(base_dir, 'landing')\n",
    "\n",
    "if not os.path.exists(landing_dir):\n",
    "    os.makedirs(landing_dir)\n",
    "\n",
    "subfolder = 'Foundation_Electricity_Infrastructure'\n",
    "\n",
    "if not os.path.exists(os.path.join(landing_dir, subfolder)):\n",
    "    os.makedirs(os.path.join(landing_dir, subfolder))"
   ]
  },
  {
   "cell_type": "code",
   "execution_count": 3,
   "metadata": {},
   "outputs": [],
   "source": [
    "# Function to download the file from a given URL and save it to a specified path\n",
    "def download_file(url, save_path):\n",
    "    response = requests.get(url)\n",
    "    if response.status_code == 200:\n",
    "        with open(save_path, 'wb') as file:\n",
    "            file.write(response.content)\n",
    "        print(f\"File successfully downloaded: {save_path}\")\n",
    "    else:\n",
    "        print(f\"Failed to download, status code: {response.status_code}\")"
   ]
  },
  {
   "cell_type": "code",
   "execution_count": 4,
   "metadata": {},
   "outputs": [
    {
     "name": "stdout",
     "output_type": "stream",
     "text": [
      "File successfully downloaded: ../../data/landing/Foundation_Electricity_Infrastructure/transmission_substations.geojson\n"
     ]
    }
   ],
   "source": [
    "# URL and save path for the transmission substations data\n",
    "substations_url_geojson = \"https://services.ga.gov.au/gis/rest/services/Foundation_Electricity_Infrastructure/MapServer/1/query?outFields=*&where=1%3D1&f=geojson\"\n",
    "substations_geojson_path = f\"{landing_dir}/{subfolder}/transmission_substations.geojson\"\n",
    "\n",
    "# Download the GeoJSON file\n",
    "download_file(substations_url_geojson, substations_geojson_path)\n"
   ]
  },
  {
   "cell_type": "code",
   "execution_count": 5,
   "metadata": {},
   "outputs": [
    {
     "name": "stdout",
     "output_type": "stream",
     "text": [
      "File successfully downloaded: ../../data/landing/Foundation_Electricity_Infrastructure/power_stations.geojson\n"
     ]
    }
   ],
   "source": [
    "# URL and save path for the major power stations data\n",
    "power_stations_url_geojson = \"https://services.ga.gov.au/gis/rest/services/Foundation_Electricity_Infrastructure/MapServer/0/query?outFields=*&where=1%3D1&f=geojson\"\n",
    "power_stations_geojson_path = f\"{landing_dir}/{subfolder}/power_stations.geojson\"\n",
    "\n",
    "# Download the GeoJSON file\n",
    "download_file(power_stations_url_geojson, power_stations_geojson_path)"
   ]
  }
 ],
 "metadata": {
  "kernelspec": {
   "display_name": "Python 3 (ipykernel)",
   "language": "python",
   "name": "python3"
  },
  "language_info": {
   "codemirror_mode": {
    "name": "ipython",
    "version": 3
   },
   "file_extension": ".py",
   "mimetype": "text/x-python",
   "name": "python",
   "nbconvert_exporter": "python",
   "pygments_lexer": "ipython3",
   "version": "3.10.13"
  }
 },
 "nbformat": 4,
 "nbformat_minor": 4
}
