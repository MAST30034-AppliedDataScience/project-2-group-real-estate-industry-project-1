{
 "cells": [
  {
   "cell_type": "markdown",
   "metadata": {},
   "source": [
    "### This file is dedicated to calculated a affordable score for each suburb\n",
    "\n",
    "Created by Ran Zhang 01-10-2024"
   ]
  },
  {
   "cell_type": "code",
   "execution_count": 1,
   "metadata": {},
   "outputs": [],
   "source": [
    "import pandas as pd\n",
    "import numpy as np"
   ]
  },
  {
   "cell_type": "code",
   "execution_count": 2,
   "metadata": {},
   "outputs": [],
   "source": [
    "# Load the CSV file\n",
    "file_path = '../../data/curated/suburb_yearly_aggregates.csv'\n",
    "df_affordable = pd.read_csv(file_path)"
   ]
  },
  {
   "cell_type": "code",
   "execution_count": 3,
   "metadata": {},
   "outputs": [],
   "source": [
    "# Filter the data for the years 2024-2027\n",
    "df_affordable_filtered = df_affordable[df_affordable['Year'].between(2024, 2027)]"
   ]
  },
  {
   "cell_type": "code",
   "execution_count": 4,
   "metadata": {},
   "outputs": [
    {
     "name": "stdout",
     "output_type": "stream",
     "text": [
      "                    Suburb  Final Affordable Score\n",
      "46                  Echuca              100.000000\n",
      "14                Brighton               93.260442\n",
      "64       Hampton-Beaumaris               81.453345\n",
      "8                  Benalla               75.910494\n",
      "101         Port Melbourne               72.854075\n",
      "20       Burwood-Ashburton               70.304547\n",
      "84   Mount Clear-Buninyong               69.412607\n",
      "15           Brighton East               67.360892\n",
      "134    Wendouree-Alfredton               65.282508\n",
      "79                 Mildura               64.255931\n"
     ]
    },
    {
     "name": "stderr",
     "output_type": "stream",
     "text": [
      "/var/folders/gv/pbj7gd456sj494dw3tvm283r0000gn/T/ipykernel_32290/3274128044.py:26: SettingWithCopyWarning: \n",
      "A value is trying to be set on a copy of a slice from a DataFrame.\n",
      "Try using .loc[row_indexer,col_indexer] = value instead\n",
      "\n",
      "See the caveats in the documentation: https://pandas.pydata.org/pandas-docs/stable/user_guide/indexing.html#returning-a-view-versus-a-copy\n",
      "  df_affordable_filtered['Affordable Score'] = df_affordable_filtered.apply(calculate_affordable_score, axis=1)\n"
     ]
    }
   ],
   "source": [
    "# Define a function to calculate the affordable score per year with a rent-to-income floor\n",
    "def calculate_affordable_score(row):\n",
    "    if pd.isna(row['Median_Income']) or row['Median_Income'] == 0:\n",
    "        return None  # Avoid division by zero or missing income\n",
    "    \n",
    "    # Convert annual income to weekly income\n",
    "    rent_to_income_ratio = row['Median_Cost'] / (row['Median_Income'] / 52)\n",
    "    \n",
    "    # Apply logarithmic transformation to compress the ratio's range\n",
    "    rent_to_income_ratio = np.log1p(rent_to_income_ratio)  # Logarithmic transformation to smooth extreme values\n",
    "    \n",
    "    # Set a floor for the rent-to-income ratio to prevent overly favoring low-rent areas\n",
    "    rent_to_income_ratio = max(0.4, min(rent_to_income_ratio, 1))  # Set a floor of 0.4\n",
    "    \n",
    "    # Calculate the base affordable score (higher score means more affordable)\n",
    "    affordable_score = max((1 - rent_to_income_ratio) * 100, 0)\n",
    "    \n",
    "    # Apply growth rate adjustment if available\n",
    "    if pd.notna(row['Median_Growth_Rate']):\n",
    "        affordable_score *= (1 - min(row['Median_Growth_Rate'], 1))\n",
    "    \n",
    "    # Ensure the score is between 0 and 100 (initial raw score before normalization)\n",
    "    return max(min(affordable_score, 100), 0)\n",
    "\n",
    "# Apply the function to each row to calculate the affordable score per year\n",
    "df_affordable_filtered['Affordable Score'] = df_affordable_filtered.apply(calculate_affordable_score, axis=1)\n",
    "\n",
    "# Group by suburb and calculate the average affordable score across 2024-2027\n",
    "df_affordable_avg = df_affordable_filtered.groupby('Suburb')['Affordable Score'].mean().reset_index()\n",
    "\n",
    "# Normalization step to ensure scores are between 0 and 100, and median is around 50\n",
    "min_score = df_affordable_avg['Affordable Score'].min()\n",
    "max_score = df_affordable_avg['Affordable Score'].max()\n",
    "\n",
    "df_affordable_avg['Scaled Affordable Score'] = df_affordable_avg['Affordable Score'].apply(\n",
    "    lambda x: 100 * (x - min_score) / (max_score - min_score) if max_score != min_score else 50\n",
    ")\n",
    "\n",
    "# Shift scores so that the median is around 50\n",
    "median_score = df_affordable_avg['Scaled Affordable Score'].median()\n",
    "df_affordable_avg['Final Affordable Score'] = df_affordable_avg['Scaled Affordable Score'].apply(\n",
    "    lambda x: x - (median_score - 50)\n",
    ")\n",
    "\n",
    "# Ensure final scores are still between 0 and 100\n",
    "df_affordable_avg['Final Affordable Score'] = df_affordable_avg['Final Affordable Score'].clip(lower=0, upper=100)\n",
    "\n",
    "# Sort suburbs by the final affordable score\n",
    "df_affordable_avg_sorted = df_affordable_avg.sort_values(by='Final Affordable Score', ascending=False)\n",
    "\n",
    "# Save the final affordable score to a CSV file \n",
    "df_affordable_avg_sorted[['Suburb', 'Final Affordable Score']].to_csv('../../data/curated/affordable_score_by_suburb.csv', index=False)\n",
    "\n",
    "# Display the top 10 most affordable suburbs\n",
    "print(df_affordable_avg_sorted[['Suburb', 'Final Affordable Score']].head(10))\n"
   ]
  },
  {
   "cell_type": "code",
   "execution_count": 5,
   "metadata": {},
   "outputs": [
    {
     "data": {
      "text/html": [
       "<div>\n",
       "<style scoped>\n",
       "    .dataframe tbody tr th:only-of-type {\n",
       "        vertical-align: middle;\n",
       "    }\n",
       "\n",
       "    .dataframe tbody tr th {\n",
       "        vertical-align: top;\n",
       "    }\n",
       "\n",
       "    .dataframe thead th {\n",
       "        text-align: right;\n",
       "    }\n",
       "</style>\n",
       "<table border=\"1\" class=\"dataframe\">\n",
       "  <thead>\n",
       "    <tr style=\"text-align: right;\">\n",
       "      <th></th>\n",
       "      <th>Affordable Score</th>\n",
       "      <th>Scaled Affordable Score</th>\n",
       "      <th>Final Affordable Score</th>\n",
       "    </tr>\n",
       "  </thead>\n",
       "  <tbody>\n",
       "    <tr>\n",
       "      <th>count</th>\n",
       "      <td>143.000000</td>\n",
       "      <td>143.000000</td>\n",
       "      <td>143.000000</td>\n",
       "    </tr>\n",
       "    <tr>\n",
       "      <th>mean</th>\n",
       "      <td>0.318361</td>\n",
       "      <td>5.200917</td>\n",
       "      <td>53.101044</td>\n",
       "    </tr>\n",
       "    <tr>\n",
       "      <th>std</th>\n",
       "      <td>0.653210</td>\n",
       "      <td>10.671203</td>\n",
       "      <td>8.108001</td>\n",
       "    </tr>\n",
       "    <tr>\n",
       "      <th>min</th>\n",
       "      <td>0.000000</td>\n",
       "      <td>0.000000</td>\n",
       "      <td>48.237452</td>\n",
       "    </tr>\n",
       "    <tr>\n",
       "      <th>25%</th>\n",
       "      <td>0.000371</td>\n",
       "      <td>0.006065</td>\n",
       "      <td>48.243517</td>\n",
       "    </tr>\n",
       "    <tr>\n",
       "      <th>50%</th>\n",
       "      <td>0.107890</td>\n",
       "      <td>1.762548</td>\n",
       "      <td>50.000000</td>\n",
       "    </tr>\n",
       "    <tr>\n",
       "      <th>75%</th>\n",
       "      <td>0.363498</td>\n",
       "      <td>5.938310</td>\n",
       "      <td>54.175762</td>\n",
       "    </tr>\n",
       "    <tr>\n",
       "      <th>max</th>\n",
       "      <td>6.121240</td>\n",
       "      <td>100.000000</td>\n",
       "      <td>100.000000</td>\n",
       "    </tr>\n",
       "  </tbody>\n",
       "</table>\n",
       "</div>"
      ],
      "text/plain": [
       "       Affordable Score  Scaled Affordable Score  Final Affordable Score\n",
       "count        143.000000               143.000000              143.000000\n",
       "mean           0.318361                 5.200917               53.101044\n",
       "std            0.653210                10.671203                8.108001\n",
       "min            0.000000                 0.000000               48.237452\n",
       "25%            0.000371                 0.006065               48.243517\n",
       "50%            0.107890                 1.762548               50.000000\n",
       "75%            0.363498                 5.938310               54.175762\n",
       "max            6.121240               100.000000              100.000000"
      ]
     },
     "execution_count": 5,
     "metadata": {},
     "output_type": "execute_result"
    }
   ],
   "source": [
    "df_affordable_avg_sorted.describe()"
   ]
  }
 ],
 "metadata": {
  "kernelspec": {
   "display_name": "myenv2",
   "language": "python",
   "name": "python3"
  },
  "language_info": {
   "codemirror_mode": {
    "name": "ipython",
    "version": 3
   },
   "file_extension": ".py",
   "mimetype": "text/x-python",
   "name": "python",
   "nbconvert_exporter": "python",
   "pygments_lexer": "ipython3",
   "version": "3.10.13"
  }
 },
 "nbformat": 4,
 "nbformat_minor": 2
}
