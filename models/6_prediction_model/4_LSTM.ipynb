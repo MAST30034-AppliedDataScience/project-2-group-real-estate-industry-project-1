{
 "cells": [
  {
   "cell_type": "code",
   "execution_count": 30,
   "metadata": {},
   "outputs": [],
   "source": [
    "import pandas as pd\n",
    "\n",
    "from sklearn.preprocessing import MinMaxScaler\n",
    "import numpy as np\n",
    "import tensorflow as tf\n",
    "from tensorflow.keras.models import Sequential\n",
    "from tensorflow.keras.layers import LSTM, Dense, Dropout\n",
    "from sklearn.model_selection import train_test_split\n",
    "from sklearn.metrics import mean_squared_error\n",
    "from sklearn.preprocessing import LabelEncoder\n"
   ]
  },
  {
   "cell_type": "code",
   "execution_count": 31,
   "id": "1cae9131",
   "metadata": {},
   "outputs": [],
   "source": [
    "df = pd.read_csv('../../data/curated/individual_property_final.csv')"
   ]
  },
  {
   "cell_type": "code",
   "execution_count": 32,
   "id": "173002f8",
   "metadata": {},
   "outputs": [
    {
     "name": "stdout",
     "output_type": "stream",
     "text": [
      "X shape: (62110, 10, 21), y shape: (62110, 1)\n"
     ]
    }
   ],
   "source": [
    "# Select relevant features and target (assuming 'Cost' is the target)\n",
    "df = df.drop(columns=['Address', 'Latitude', 'Longitude', 'Postcode', 'SA2_CODE21', 'LGA_CODE24', 'Suburb'], axis=1)\n",
    "\n",
    "categorical_columns = ['Property Type','Closest Gov Secondary School']\n",
    "# Apply LabelEncoder to each categorical column\n",
    "label_encoders = {}\n",
    "for col in categorical_columns:\n",
    "    le = LabelEncoder()\n",
    "    df[col] = le.fit_transform(df[col])\n",
    "    label_encoders[col] = le\n",
    "    \n",
    "df_train = df[(df['Year'] >= 2015) & (df['Year'] <= 2024)]\n",
    "df_predict = df[(df['Year'] >= 2025) & (df['Year'] <= 2027)]\n",
    "\n",
    "features = df_train.drop(columns=['Cost'])\n",
    "target = df_train['Cost']\n",
    "\n",
    "# Normalize the features and target using MinMaxScaler (LSTMs work better with normalized data)\n",
    "scaler = MinMaxScaler()\n",
    "features_scaled = scaler.fit_transform(features)\n",
    "target_scaled = scaler.fit_transform(target.values.reshape(-1, 1))\n",
    "\n",
    "# Convert data into sequences for LSTM\n",
    "def create_sequences(features, target, time_steps=10):\n",
    "    X, y = [], []\n",
    "    for i in range(len(features) - time_steps):\n",
    "        X.append(features[i:i+time_steps])\n",
    "        y.append(target[i+time_steps])\n",
    "    return np.array(X), np.array(y)\n",
    "\n",
    "# Set the number of time steps (e.g., 10 previous timesteps to predict the next one)\n",
    "time_steps = 10\n",
    "X, y = create_sequences(features_scaled, target_scaled, time_steps)\n",
    "\n",
    "# Display the shape of the data\n",
    "print(f'X shape: {X.shape}, y shape: {y.shape}')\n"
   ]
  },
  {
   "cell_type": "code",
   "execution_count": 33,
   "id": "2090570b",
   "metadata": {},
   "outputs": [
    {
     "name": "stdout",
     "output_type": "stream",
     "text": [
      "Model: \"sequential_3\"\n",
      "_________________________________________________________________\n",
      " Layer (type)                Output Shape              Param #   \n",
      "=================================================================\n",
      " lstm_3 (LSTM)               (None, 50)                14400     \n",
      "                                                                 \n",
      " dropout_3 (Dropout)         (None, 50)                0         \n",
      "                                                                 \n",
      " dense_3 (Dense)             (None, 1)                 51        \n",
      "                                                                 \n",
      "=================================================================\n",
      "Total params: 14451 (56.45 KB)\n",
      "Trainable params: 14451 (56.45 KB)\n",
      "Non-trainable params: 0 (0.00 Byte)\n",
      "_________________________________________________________________\n"
     ]
    }
   ],
   "source": [
    "\n",
    "# Build a simple LSTM model\n",
    "model = Sequential()\n",
    "\n",
    "# Add the LSTM layer with 50 units\n",
    "model.add(LSTM(units=50, return_sequences=False, input_shape=(X.shape[1], X.shape[2])))\n",
    "\n",
    "# Optionally, add Dropout for regularization\n",
    "model.add(Dropout(0.2))\n",
    "\n",
    "# Add a Dense layer for the output\n",
    "model.add(Dense(units=1))\n",
    "\n",
    "# Compile the model\n",
    "model.compile(optimizer='adam', loss='mean_squared_error')\n",
    "\n",
    "# Display model summary\n",
    "model.summary()\n"
   ]
  },
  {
   "cell_type": "code",
   "execution_count": 34,
   "id": "a5146d62",
   "metadata": {},
   "outputs": [
    {
     "name": "stdout",
     "output_type": "stream",
     "text": [
      "Epoch 1/50\n",
      "1553/1553 [==============================] - 4s 2ms/step - loss: 0.0109 - val_loss: 0.0084\n",
      "Epoch 2/50\n",
      "1553/1553 [==============================] - 3s 2ms/step - loss: 0.0090 - val_loss: 0.0081\n",
      "Epoch 3/50\n",
      "1553/1553 [==============================] - 3s 2ms/step - loss: 0.0086 - val_loss: 0.0080\n",
      "Epoch 4/50\n",
      "1553/1553 [==============================] - 3s 2ms/step - loss: 0.0077 - val_loss: 0.0072\n",
      "Epoch 5/50\n",
      "1553/1553 [==============================] - 3s 2ms/step - loss: 0.0073 - val_loss: 0.0069\n",
      "Epoch 6/50\n",
      "1553/1553 [==============================] - 3s 2ms/step - loss: 0.0072 - val_loss: 0.0068\n",
      "Epoch 7/50\n",
      "1553/1553 [==============================] - 3s 2ms/step - loss: 0.0071 - val_loss: 0.0066\n",
      "Epoch 8/50\n",
      "1553/1553 [==============================] - 3s 2ms/step - loss: 0.0070 - val_loss: 0.0066\n",
      "Epoch 9/50\n",
      "1553/1553 [==============================] - 3s 2ms/step - loss: 0.0069 - val_loss: 0.0066\n",
      "Epoch 10/50\n",
      "1553/1553 [==============================] - 3s 2ms/step - loss: 0.0068 - val_loss: 0.0065\n",
      "Epoch 11/50\n",
      "1553/1553 [==============================] - 3s 2ms/step - loss: 0.0067 - val_loss: 0.0064\n",
      "Epoch 12/50\n",
      "1553/1553 [==============================] - 3s 2ms/step - loss: 0.0066 - val_loss: 0.0064\n",
      "Epoch 13/50\n",
      "1553/1553 [==============================] - 3s 2ms/step - loss: 0.0066 - val_loss: 0.0061\n",
      "Epoch 14/50\n",
      "1553/1553 [==============================] - 3s 2ms/step - loss: 0.0065 - val_loss: 0.0061\n",
      "Epoch 15/50\n",
      "1553/1553 [==============================] - 3s 2ms/step - loss: 0.0064 - val_loss: 0.0062\n",
      "Epoch 16/50\n",
      "1553/1553 [==============================] - 3s 2ms/step - loss: 0.0063 - val_loss: 0.0061\n",
      "Epoch 17/50\n",
      "1553/1553 [==============================] - 3s 2ms/step - loss: 0.0063 - val_loss: 0.0060\n",
      "Epoch 18/50\n",
      "1553/1553 [==============================] - 3s 2ms/step - loss: 0.0062 - val_loss: 0.0059\n",
      "Epoch 19/50\n",
      "1553/1553 [==============================] - 3s 2ms/step - loss: 0.0061 - val_loss: 0.0061\n",
      "Epoch 20/50\n",
      "1553/1553 [==============================] - 3s 2ms/step - loss: 0.0061 - val_loss: 0.0058\n",
      "Epoch 21/50\n",
      "1553/1553 [==============================] - 3s 2ms/step - loss: 0.0060 - val_loss: 0.0059\n",
      "Epoch 22/50\n",
      "1553/1553 [==============================] - 3s 2ms/step - loss: 0.0060 - val_loss: 0.0056\n",
      "Epoch 23/50\n",
      "1553/1553 [==============================] - 3s 2ms/step - loss: 0.0059 - val_loss: 0.0057\n",
      "Epoch 24/50\n",
      "1553/1553 [==============================] - 3s 2ms/step - loss: 0.0058 - val_loss: 0.0057\n",
      "Epoch 25/50\n",
      "1553/1553 [==============================] - 3s 2ms/step - loss: 0.0057 - val_loss: 0.0058\n",
      "Epoch 26/50\n",
      "1553/1553 [==============================] - 3s 2ms/step - loss: 0.0057 - val_loss: 0.0053\n",
      "Epoch 27/50\n",
      "1553/1553 [==============================] - 3s 2ms/step - loss: 0.0056 - val_loss: 0.0055\n",
      "Epoch 28/50\n",
      "1553/1553 [==============================] - 3s 2ms/step - loss: 0.0055 - val_loss: 0.0058\n",
      "Epoch 29/50\n",
      "1553/1553 [==============================] - 3s 2ms/step - loss: 0.0055 - val_loss: 0.0053\n",
      "Epoch 30/50\n",
      "1553/1553 [==============================] - 3s 2ms/step - loss: 0.0054 - val_loss: 0.0055\n",
      "Epoch 31/50\n",
      "1553/1553 [==============================] - 3s 2ms/step - loss: 0.0053 - val_loss: 0.0052\n",
      "Epoch 32/50\n",
      "1553/1553 [==============================] - 3s 2ms/step - loss: 0.0053 - val_loss: 0.0051\n",
      "Epoch 33/50\n",
      "1553/1553 [==============================] - 3s 2ms/step - loss: 0.0052 - val_loss: 0.0052\n",
      "Epoch 34/50\n",
      "1553/1553 [==============================] - 3s 2ms/step - loss: 0.0051 - val_loss: 0.0050\n",
      "Epoch 35/50\n",
      "1553/1553 [==============================] - 3s 2ms/step - loss: 0.0050 - val_loss: 0.0049\n",
      "Epoch 36/50\n",
      "1553/1553 [==============================] - 3s 2ms/step - loss: 0.0049 - val_loss: 0.0050\n",
      "Epoch 37/50\n",
      "1553/1553 [==============================] - 3s 2ms/step - loss: 0.0049 - val_loss: 0.0048\n",
      "Epoch 38/50\n",
      "1553/1553 [==============================] - 3s 2ms/step - loss: 0.0048 - val_loss: 0.0048\n",
      "Epoch 39/50\n",
      "1553/1553 [==============================] - 3s 2ms/step - loss: 0.0047 - val_loss: 0.0047\n",
      "Epoch 40/50\n",
      "1553/1553 [==============================] - 3s 2ms/step - loss: 0.0048 - val_loss: 0.0048\n",
      "Epoch 41/50\n",
      "1553/1553 [==============================] - 3s 2ms/step - loss: 0.0046 - val_loss: 0.0046\n",
      "Epoch 42/50\n",
      "1553/1553 [==============================] - 3s 2ms/step - loss: 0.0046 - val_loss: 0.0049\n",
      "Epoch 43/50\n",
      "1553/1553 [==============================] - 3s 2ms/step - loss: 0.0049 - val_loss: 0.0046\n",
      "Epoch 44/50\n",
      "1553/1553 [==============================] - 3s 2ms/step - loss: 0.0044 - val_loss: 0.0045\n",
      "Epoch 45/50\n",
      "1553/1553 [==============================] - 3s 2ms/step - loss: 0.0044 - val_loss: 0.0046\n",
      "Epoch 46/50\n",
      "1553/1553 [==============================] - 3s 2ms/step - loss: 0.0044 - val_loss: 0.0046\n",
      "Epoch 47/50\n",
      "1553/1553 [==============================] - 3s 2ms/step - loss: 0.0043 - val_loss: 0.0043\n",
      "Epoch 48/50\n",
      "1553/1553 [==============================] - 3s 2ms/step - loss: 0.0042 - val_loss: 0.0048\n",
      "Epoch 49/50\n",
      "1553/1553 [==============================] - 3s 2ms/step - loss: 0.0043 - val_loss: 0.0043\n",
      "Epoch 50/50\n",
      "1553/1553 [==============================] - 3s 2ms/step - loss: 0.0042 - val_loss: 0.0042\n"
     ]
    }
   ],
   "source": [
    "seed=37\n",
    "\n",
    "# Split the data into training and testing sets\n",
    "X_train, X_test, y_train, y_test = train_test_split(X, y, test_size=0.2, random_state=seed)\n",
    "\n",
    "# Train the model\n",
    "history = model.fit(X_train, y_train, epochs=50, batch_size=32, validation_data=(X_test, y_test))\n"
   ]
  },
  {
   "cell_type": "code",
   "execution_count": 35,
   "id": "baa72c30",
   "metadata": {},
   "outputs": [
    {
     "name": "stdout",
     "output_type": "stream",
     "text": [
      "389/389 [==============================] - 0s 822us/step - loss: 0.0042\n",
      "Test Loss: 0.00424437178298831\n",
      "389/389 [==============================] - 1s 861us/step\n",
      "Predicted: [323.5034  241.95937 437.60992 ... 188.8427  186.12582 395.8115 ]\n",
      "Actual: [316.2962963  230.41666667 470.         ... 164.25352113 158.12154696\n",
      " 449.93697479]\n"
     ]
    }
   ],
   "source": [
    "# Evaluate the model on the test set\n",
    "test_loss = model.evaluate(X_test, y_test)\n",
    "print(f'Test Loss: {test_loss}')\n",
    "\n",
    "# Make predictions\n",
    "y_pred = model.predict(X_test)\n",
    "\n",
    "# Optionally, inverse transform the scaled predictions and true values\n",
    "y_pred_inverse = scaler.inverse_transform(y_pred)\n",
    "y_test_inverse = scaler.inverse_transform(y_test.reshape(-1, 1))\n",
    "\n",
    "# Display the predictions and true values\n",
    "print(f'Predicted: {y_pred_inverse.flatten()}')\n",
    "print(f'Actual: {y_test_inverse.flatten()}')"
   ]
  },
  {
   "cell_type": "code",
   "execution_count": 36,
   "id": "08ab6947",
   "metadata": {},
   "outputs": [
    {
     "name": "stdout",
     "output_type": "stream",
     "text": [
      "389/389 [==============================] - 0s 781us/step\n",
      "RMSE: 88.13204808745958\n"
     ]
    }
   ],
   "source": [
    "\n",
    "# Make predictions on the test set\n",
    "y_pred = model.predict(X_test)\n",
    "\n",
    "# Inverse transform the scaled predictions and true values (if you scaled the data)\n",
    "y_pred_inverse = scaler.inverse_transform(y_pred)\n",
    "y_test_inverse = scaler.inverse_transform(y_test.reshape(-1, 1))\n",
    "\n",
    "# Calculate RMSE\n",
    "rmse = np.sqrt(mean_squared_error(y_test_inverse, y_pred_inverse))\n",
    "print(f'RMSE: {rmse}')\n"
   ]
  },
  {
   "cell_type": "markdown",
   "id": "df99b794",
   "metadata": {},
   "source": [
    "Looks bad, skip"
   ]
  }
 ],
 "metadata": {
  "kernelspec": {
   "display_name": "Python 3",
   "language": "python",
   "name": "python3"
  },
  "language_info": {
   "codemirror_mode": {
    "name": "ipython",
    "version": 3
   },
   "file_extension": ".py",
   "mimetype": "text/x-python",
   "name": "python",
   "nbconvert_exporter": "python",
   "pygments_lexer": "ipython3",
   "version": "3.11.5"
  }
 },
 "nbformat": 4,
 "nbformat_minor": 5
}
