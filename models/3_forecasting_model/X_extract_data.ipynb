{
 "cells": [
  {
   "cell_type": "markdown",
   "id": "4cc03a56-1f93-4e0b-9937-ae08160b1371",
   "metadata": {},
   "source": [
    "### This file is dedicated to extract median rental price per suburb in past data file\n",
    "\n",
    "Created by Yuecheng Wang 24-9-2024"
   ]
  },
  {
   "cell_type": "code",
   "execution_count": 1,
   "id": "6a5975f6-9343-41dd-94aa-100da5c12683",
   "metadata": {},
   "outputs": [],
   "source": [
    "import numpy as np\n",
    "import pandas as pd\n",
    "import os"
   ]
  },
  {
   "cell_type": "code",
   "execution_count": 2,
   "id": "d5d804fb-deae-4cfb-9ed6-969f5ab45abf",
   "metadata": {},
   "outputs": [
    {
     "name": "stdout",
     "output_type": "stream",
     "text": [
      "Available sheets: ['1 bedroom flat', '2 bedroom flat', '3 bedroom flat', '2 bedroom house', '3 bedroom house', '4 bedroom house', 'All properties']\n"
     ]
    }
   ],
   "source": [
    "past_data = pd.ExcelFile(\"../../data/raw/domain/past_data.xlsx\")\n",
    "\n",
    "print(\"Available sheets:\", past_data.sheet_names)\n"
   ]
  },
  {
   "cell_type": "code",
   "execution_count": 3,
   "id": "fe625dd7-5654-4a5b-ba3d-91c7ae8b8fef",
   "metadata": {},
   "outputs": [],
   "source": [
    "output_relative_dir = '../../data/raw/domain/past_data_sheets'\n",
    "if not os.path.exists(output_relative_dir):\n",
    "    os.makedirs(output_relative_dir)"
   ]
  },
  {
   "cell_type": "code",
   "execution_count": 4,
   "id": "1fbbd49b-154e-40e2-99d3-c9aa853c8641",
   "metadata": {},
   "outputs": [
    {
     "name": "stdout",
     "output_type": "stream",
     "text": [
      "Processing sheet: 1 bedroom flat\n"
     ]
    },
    {
     "name": "stderr",
     "output_type": "stream",
     "text": [
      "/tmp/ipykernel_35110/3092081257.py:6: FutureWarning: Series.fillna with 'method' is deprecated and will raise in a future version. Use obj.ffill() or obj.bfill() instead.\n",
      "  column.fillna(method='ffill', inplace=True)  # Forward fill\n",
      "/tmp/ipykernel_35110/3092081257.py:6: FutureWarning: Downcasting object dtype arrays on .fillna, .ffill, .bfill is deprecated and will change in a future version. Call result.infer_objects(copy=False) instead. To opt-in to the future behavior, set `pd.set_option('future.no_silent_downcasting', True)`\n",
      "  column.fillna(method='ffill', inplace=True)  # Forward fill\n",
      "/tmp/ipykernel_35110/3092081257.py:7: FutureWarning: Series.fillna with 'method' is deprecated and will raise in a future version. Use obj.ffill() or obj.bfill() instead.\n",
      "  column.fillna(method='bfill', inplace=True)  # Backward fill\n"
     ]
    },
    {
     "name": "stdout",
     "output_type": "stream",
     "text": [
      "Data saved to ../../data/raw/domain/past_data_sheets/1 bedroom flat suburb rent data.csv\n",
      "Processing sheet: 2 bedroom flat\n"
     ]
    },
    {
     "name": "stderr",
     "output_type": "stream",
     "text": [
      "/tmp/ipykernel_35110/3092081257.py:6: FutureWarning: Series.fillna with 'method' is deprecated and will raise in a future version. Use obj.ffill() or obj.bfill() instead.\n",
      "  column.fillna(method='ffill', inplace=True)  # Forward fill\n",
      "/tmp/ipykernel_35110/3092081257.py:6: FutureWarning: Downcasting object dtype arrays on .fillna, .ffill, .bfill is deprecated and will change in a future version. Call result.infer_objects(copy=False) instead. To opt-in to the future behavior, set `pd.set_option('future.no_silent_downcasting', True)`\n",
      "  column.fillna(method='ffill', inplace=True)  # Forward fill\n",
      "/tmp/ipykernel_35110/3092081257.py:7: FutureWarning: Series.fillna with 'method' is deprecated and will raise in a future version. Use obj.ffill() or obj.bfill() instead.\n",
      "  column.fillna(method='bfill', inplace=True)  # Backward fill\n"
     ]
    },
    {
     "name": "stdout",
     "output_type": "stream",
     "text": [
      "Data saved to ../../data/raw/domain/past_data_sheets/2 bedroom flat suburb rent data.csv\n",
      "Processing sheet: 3 bedroom flat\n"
     ]
    },
    {
     "name": "stderr",
     "output_type": "stream",
     "text": [
      "/tmp/ipykernel_35110/3092081257.py:6: FutureWarning: Series.fillna with 'method' is deprecated and will raise in a future version. Use obj.ffill() or obj.bfill() instead.\n",
      "  column.fillna(method='ffill', inplace=True)  # Forward fill\n",
      "/tmp/ipykernel_35110/3092081257.py:6: FutureWarning: Downcasting object dtype arrays on .fillna, .ffill, .bfill is deprecated and will change in a future version. Call result.infer_objects(copy=False) instead. To opt-in to the future behavior, set `pd.set_option('future.no_silent_downcasting', True)`\n",
      "  column.fillna(method='ffill', inplace=True)  # Forward fill\n",
      "/tmp/ipykernel_35110/3092081257.py:7: FutureWarning: Series.fillna with 'method' is deprecated and will raise in a future version. Use obj.ffill() or obj.bfill() instead.\n",
      "  column.fillna(method='bfill', inplace=True)  # Backward fill\n"
     ]
    },
    {
     "name": "stdout",
     "output_type": "stream",
     "text": [
      "Data saved to ../../data/raw/domain/past_data_sheets/3 bedroom flat suburb rent data.csv\n",
      "Processing sheet: 2 bedroom house\n"
     ]
    },
    {
     "name": "stderr",
     "output_type": "stream",
     "text": [
      "/tmp/ipykernel_35110/3092081257.py:6: FutureWarning: Series.fillna with 'method' is deprecated and will raise in a future version. Use obj.ffill() or obj.bfill() instead.\n",
      "  column.fillna(method='ffill', inplace=True)  # Forward fill\n",
      "/tmp/ipykernel_35110/3092081257.py:6: FutureWarning: Downcasting object dtype arrays on .fillna, .ffill, .bfill is deprecated and will change in a future version. Call result.infer_objects(copy=False) instead. To opt-in to the future behavior, set `pd.set_option('future.no_silent_downcasting', True)`\n",
      "  column.fillna(method='ffill', inplace=True)  # Forward fill\n",
      "/tmp/ipykernel_35110/3092081257.py:7: FutureWarning: Series.fillna with 'method' is deprecated and will raise in a future version. Use obj.ffill() or obj.bfill() instead.\n",
      "  column.fillna(method='bfill', inplace=True)  # Backward fill\n"
     ]
    },
    {
     "name": "stdout",
     "output_type": "stream",
     "text": [
      "Data saved to ../../data/raw/domain/past_data_sheets/2 bedroom house suburb rent data.csv\n",
      "Processing sheet: 3 bedroom house\n"
     ]
    },
    {
     "name": "stderr",
     "output_type": "stream",
     "text": [
      "/tmp/ipykernel_35110/3092081257.py:6: FutureWarning: Series.fillna with 'method' is deprecated and will raise in a future version. Use obj.ffill() or obj.bfill() instead.\n",
      "  column.fillna(method='ffill', inplace=True)  # Forward fill\n",
      "/tmp/ipykernel_35110/3092081257.py:6: FutureWarning: Downcasting object dtype arrays on .fillna, .ffill, .bfill is deprecated and will change in a future version. Call result.infer_objects(copy=False) instead. To opt-in to the future behavior, set `pd.set_option('future.no_silent_downcasting', True)`\n",
      "  column.fillna(method='ffill', inplace=True)  # Forward fill\n",
      "/tmp/ipykernel_35110/3092081257.py:7: FutureWarning: Series.fillna with 'method' is deprecated and will raise in a future version. Use obj.ffill() or obj.bfill() instead.\n",
      "  column.fillna(method='bfill', inplace=True)  # Backward fill\n"
     ]
    },
    {
     "name": "stdout",
     "output_type": "stream",
     "text": [
      "Data saved to ../../data/raw/domain/past_data_sheets/3 bedroom house suburb rent data.csv\n",
      "Processing sheet: 4 bedroom house\n"
     ]
    },
    {
     "name": "stderr",
     "output_type": "stream",
     "text": [
      "/tmp/ipykernel_35110/3092081257.py:6: FutureWarning: Series.fillna with 'method' is deprecated and will raise in a future version. Use obj.ffill() or obj.bfill() instead.\n",
      "  column.fillna(method='ffill', inplace=True)  # Forward fill\n",
      "/tmp/ipykernel_35110/3092081257.py:6: FutureWarning: Downcasting object dtype arrays on .fillna, .ffill, .bfill is deprecated and will change in a future version. Call result.infer_objects(copy=False) instead. To opt-in to the future behavior, set `pd.set_option('future.no_silent_downcasting', True)`\n",
      "  column.fillna(method='ffill', inplace=True)  # Forward fill\n",
      "/tmp/ipykernel_35110/3092081257.py:7: FutureWarning: Series.fillna with 'method' is deprecated and will raise in a future version. Use obj.ffill() or obj.bfill() instead.\n",
      "  column.fillna(method='bfill', inplace=True)  # Backward fill\n"
     ]
    },
    {
     "name": "stdout",
     "output_type": "stream",
     "text": [
      "Data saved to ../../data/raw/domain/past_data_sheets/4 bedroom house suburb rent data.csv\n",
      "Processing sheet: All properties\n",
      "Data saved to ../../data/raw/domain/past_data_sheets/All properties suburb rent data.csv\n"
     ]
    },
    {
     "name": "stderr",
     "output_type": "stream",
     "text": [
      "/tmp/ipykernel_35110/3092081257.py:6: FutureWarning: Series.fillna with 'method' is deprecated and will raise in a future version. Use obj.ffill() or obj.bfill() instead.\n",
      "  column.fillna(method='ffill', inplace=True)  # Forward fill\n",
      "/tmp/ipykernel_35110/3092081257.py:6: FutureWarning: Downcasting object dtype arrays on .fillna, .ffill, .bfill is deprecated and will change in a future version. Call result.infer_objects(copy=False) instead. To opt-in to the future behavior, set `pd.set_option('future.no_silent_downcasting', True)`\n",
      "  column.fillna(method='ffill', inplace=True)  # Forward fill\n",
      "/tmp/ipykernel_35110/3092081257.py:7: FutureWarning: Series.fillna with 'method' is deprecated and will raise in a future version. Use obj.ffill() or obj.bfill() instead.\n",
      "  column.fillna(method='bfill', inplace=True)  # Backward fill\n"
     ]
    }
   ],
   "source": [
    "# Function to clean the data by replacing '-' with the closest available value for each suburb\n",
    "def fill_missing_with_closest(df):\n",
    "    for i in range(df.shape[1]):\n",
    "        column = df.iloc[:, i]\n",
    "        column.replace('-', pd.NA, inplace=True)\n",
    "        column.fillna(method='ffill', inplace=True)  # Forward fill\n",
    "        column.fillna(method='bfill', inplace=True)  # Backward fill\n",
    "    return df\n",
    "\n",
    "# Function to convert time periods to decimals like 2000.00, 2000.25, 2000.50, and 2000.75\n",
    "def convert_time_to_decimal(time_series):\n",
    "    time_decimal = []\n",
    "    for time in time_series:\n",
    "        if pd.isna(time):\n",
    "            continue\n",
    "        time = str(time)\n",
    "        year, month = int(time[-4:]), time[:3]\n",
    "        if month == 'Mar':\n",
    "            time_decimal.append(year)\n",
    "        elif month == 'Jun':\n",
    "            time_decimal.append(year + 0.25)\n",
    "        elif month == 'Sep':\n",
    "            time_decimal.append(year + 0.50)\n",
    "        elif month == 'Dec':\n",
    "            time_decimal.append(year + 0.75)\n",
    "    return time_decimal\n",
    "\n",
    "# Loop through each sheet in the Excel file\n",
    "for sheet in past_data.sheet_names:\n",
    "    print(f\"Processing sheet: {sheet}\")\n",
    "    \n",
    "    # Load the data from the current sheet\n",
    "    all_properties_df = pd.read_excel(past_data, sheet_name=sheet)\n",
    "    \n",
    "    # Extract suburb names and relevant rent data\n",
    "    suburb_col = all_properties_df.iloc[2:, 1]  # Suburb names\n",
    "    median_rent_data = all_properties_df.iloc[2:, 84:].iloc[:, 1::2]  # Every second column starting from the 2nd one (median)\n",
    "    \n",
    "    # Fill missing values\n",
    "    median_rent_data_cleaned = fill_missing_with_closest(median_rent_data)\n",
    "\n",
    "    # Extract the years and convert them to decimal format\n",
    "    time_periods = pd.Series(all_properties_df.iloc[0, 82:].iloc[::2])\n",
    "    time_decimal = convert_time_to_decimal(time_periods)\n",
    "\n",
    "    # Prepare data for each suburb\n",
    "    suburb_rent_data = pd.DataFrame()\n",
    "    for i, suburb in enumerate(suburb_col):\n",
    "        rents = median_rent_data_cleaned.iloc[i].dropna().astype(float).values\n",
    "        years = time_decimal[:len(rents)]\n",
    "        if len(rents) == len(years):  # Only include matching year-rent pairs\n",
    "            temp_df = pd.DataFrame({'suburb': suburb, 'year': years, 'median_rent': rents})\n",
    "            suburb_rent_data = pd.concat([suburb_rent_data, temp_df], ignore_index=True)\n",
    "\n",
    "    # Aggregating the data by taking the mean for duplicate suburb-year combinations\n",
    "    suburb_rent_data = suburb_rent_data.groupby(['suburb', 'year'], as_index=False).median()\n",
    "\n",
    "    # Pivot the data so that each row corresponds to a suburb and each column represents a year\n",
    "    suburb_rent_data = suburb_rent_data.pivot(index='suburb', columns='year', values='median_rent')\n",
    "\n",
    "    # Save the wide format data to a new CSV file, naming the file after the sheet\n",
    "    data_file_path = f\"{output_relative_dir}/{sheet} suburb rent data.csv\"\n",
    "    suburb_rent_data.to_csv(data_file_path, index=True)\n",
    "\n",
    "    print(f\"Data saved to {data_file_path}\")\n"
   ]
  }
 ],
 "metadata": {
  "kernelspec": {
   "display_name": "Python 3 (ipykernel)",
   "language": "python",
   "name": "python3"
  },
  "language_info": {
   "codemirror_mode": {
    "name": "ipython",
    "version": 3
   },
   "file_extension": ".py",
   "mimetype": "text/x-python",
   "name": "python",
   "nbconvert_exporter": "python",
   "pygments_lexer": "ipython3",
   "version": "3.11.9"
  }
 },
 "nbformat": 4,
 "nbformat_minor": 5
}
